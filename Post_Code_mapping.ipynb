{
 "cells": [
  {
   "cell_type": "markdown",
   "metadata": {},
   "source": [
    "# Loading lib and Establishing connection to DWH"
   ]
  },
  {
   "cell_type": "code",
   "execution_count": 436,
   "metadata": {},
   "outputs": [],
   "source": [
    "import pandas as pd\n",
    "import numpy as np\n",
    "import plotly.express as px\n",
    "import os \n",
    "import json\n",
    "import sys\n",
    "\n",
    "from functools import lru_cache\n",
    "\n",
    "from botocore.exceptions import ClientError"
   ]
  },
  {
   "cell_type": "code",
   "execution_count": 437,
   "metadata": {},
   "outputs": [],
   "source": [
    "# Tells the location of folders (e.g. aws folder) - creates a path\n",
    "from user_path import set_up_path \n",
    "\n",
    "PATH = set_up_path()\n",
    "sys.path.append(PATH['tools'])\n",
    "sys.path.append(PATH['tools'] + '/functions')\n"
   ]
  },
  {
   "cell_type": "code",
   "execution_count": 438,
   "metadata": {},
   "outputs": [],
   "source": [
    "# Importing custom libraries to connect to DWS and GSheet\n",
    "from functions.database import get_data_from_warehouse\n",
    "from utils.gspread.gsheet_data import GetSheetData"
   ]
  },
  {
   "cell_type": "markdown",
   "metadata": {
    "tags": []
   },
   "source": [
    "# Quick EDA"
   ]
  },
  {
   "cell_type": "code",
   "execution_count": 523,
   "metadata": {},
   "outputs": [
    {
     "name": "stdout",
     "output_type": "stream",
     "text": [
      "Connected to the DataWarehouse\n",
      "Result from query obtained\n",
      "Data stored in dataframe\n"
     ]
    }
   ],
   "source": [
    "# CA and pool onboarded drivers worked in \n",
    "query = \"\"\"\n",
    "\n",
    "\n",
    "SELECT d.stuart_driver_id,\n",
    "  --     d.applicant_fountain_id,\n",
    "       uam.application_fountain_id,\n",
    "       uam.postcode_found as driver_postCode,\n",
    "       uam.application_pool,\n",
    "       a.area_name_uscore,\n",
    "   --    a.area_name_cap,\n",
    "       a.area_name_clean,\n",
    "       a.catchment_area,\n",
    "       uam.lat as lat_driver, ---- Just in case\n",
    "       uam.long as long_driver---- Just in case\n",
    " --      z.zone_name\n",
    "\n",
    "FROM dim.driver d\n",
    "\n",
    "INNER JOIN ops.uk_application_mapping uam\n",
    "    ON uam.application_fountain_id = d.applicant_fountain_id\n",
    "\n",
    "LEFT JOIN ops.area a\n",
    "    ON uam.application_pool = a.area_name_uscore\n",
    "\n",
    "WHERE d.zone_id = 2\n",
    "AND d.is_active = TRUE\n",
    "\n",
    "\"\"\"\n",
    "courier_mapping = get_data_from_warehouse(query)"
   ]
  },
  {
   "cell_type": "code",
   "execution_count": 440,
   "metadata": {},
   "outputs": [
    {
     "data": {
      "text/html": [
       "<div>\n",
       "<style scoped>\n",
       "    .dataframe tbody tr th:only-of-type {\n",
       "        vertical-align: middle;\n",
       "    }\n",
       "\n",
       "    .dataframe tbody tr th {\n",
       "        vertical-align: top;\n",
       "    }\n",
       "\n",
       "    .dataframe thead th {\n",
       "        text-align: right;\n",
       "    }\n",
       "</style>\n",
       "<table border=\"1\" class=\"dataframe\">\n",
       "  <thead>\n",
       "    <tr style=\"text-align: right;\">\n",
       "      <th></th>\n",
       "      <th>stuart_driver_id</th>\n",
       "      <th>application_fountain_id</th>\n",
       "      <th>driver_postcode</th>\n",
       "      <th>application_pool</th>\n",
       "      <th>area_name_uscore</th>\n",
       "      <th>area_name_clean</th>\n",
       "      <th>catchment_area</th>\n",
       "      <th>lat_driver</th>\n",
       "      <th>long_driver</th>\n",
       "    </tr>\n",
       "  </thead>\n",
       "  <tbody>\n",
       "    <tr>\n",
       "      <th>0</th>\n",
       "      <td>368356</td>\n",
       "      <td>e12c514a-6b03-441d-ba8e-a5e219344509</td>\n",
       "      <td>NW1 4EP</td>\n",
       "      <td>Camden</td>\n",
       "      <td>Camden</td>\n",
       "      <td>Camden</td>\n",
       "      <td>London Inner N</td>\n",
       "      <td>51.528979</td>\n",
       "      <td>-0.144053</td>\n",
       "    </tr>\n",
       "    <tr>\n",
       "      <th>1</th>\n",
       "      <td>377271</td>\n",
       "      <td>1035def8-36c8-4d4c-a128-907407902dd8</td>\n",
       "      <td>NW10 0PT</td>\n",
       "      <td>Wembley</td>\n",
       "      <td>Wembley</td>\n",
       "      <td>Wembley</td>\n",
       "      <td>London Outer Upper NW</td>\n",
       "      <td>51.548382</td>\n",
       "      <td>-0.265571</td>\n",
       "    </tr>\n",
       "    <tr>\n",
       "      <th>2</th>\n",
       "      <td>350469</td>\n",
       "      <td>828b7ec6-c69c-402c-999e-45e047ac488a</td>\n",
       "      <td>SW19 2PE</td>\n",
       "      <td>Mitcham</td>\n",
       "      <td>Mitcham</td>\n",
       "      <td>Mitcham</td>\n",
       "      <td>London Inner S</td>\n",
       "      <td>51.413468</td>\n",
       "      <td>-0.178373</td>\n",
       "    </tr>\n",
       "    <tr>\n",
       "      <th>3</th>\n",
       "      <td>347430</td>\n",
       "      <td>1e2231e8-715e-4299-b24c-ba838cb170fc</td>\n",
       "      <td>NW9 5BD</td>\n",
       "      <td>Colindale</td>\n",
       "      <td>Colindale</td>\n",
       "      <td>Colindale</td>\n",
       "      <td>London Outer Upper NW</td>\n",
       "      <td>51.597835</td>\n",
       "      <td>-0.247690</td>\n",
       "    </tr>\n",
       "    <tr>\n",
       "      <th>4</th>\n",
       "      <td>348192</td>\n",
       "      <td>fa1628ec-22f1-47cb-a031-971aa31e27e1</td>\n",
       "      <td>SE19 3JB</td>\n",
       "      <td>Norwood</td>\n",
       "      <td>Norwood</td>\n",
       "      <td>Norwood</td>\n",
       "      <td>London Outer S</td>\n",
       "      <td>51.416369</td>\n",
       "      <td>-0.103304</td>\n",
       "    </tr>\n",
       "    <tr>\n",
       "      <th>...</th>\n",
       "      <td>...</td>\n",
       "      <td>...</td>\n",
       "      <td>...</td>\n",
       "      <td>...</td>\n",
       "      <td>...</td>\n",
       "      <td>...</td>\n",
       "      <td>...</td>\n",
       "      <td>...</td>\n",
       "      <td>...</td>\n",
       "    </tr>\n",
       "    <tr>\n",
       "      <th>10339</th>\n",
       "      <td>481487</td>\n",
       "      <td>a1c30eb5-4f5b-47c2-8105-3688fbd6ba51</td>\n",
       "      <td>WD18 6LE</td>\n",
       "      <td>not_in_a_pool</td>\n",
       "      <td>None</td>\n",
       "      <td>None</td>\n",
       "      <td>None</td>\n",
       "      <td>51.644343</td>\n",
       "      <td>-0.416763</td>\n",
       "    </tr>\n",
       "    <tr>\n",
       "      <th>10340</th>\n",
       "      <td>485455</td>\n",
       "      <td>f5689118-c11d-4b3b-b578-497cefbc42c4</td>\n",
       "      <td>HA1 4EN</td>\n",
       "      <td>Harrow_Central</td>\n",
       "      <td>Harrow_Central</td>\n",
       "      <td>Harrow Central</td>\n",
       "      <td>London Outer Upper NW</td>\n",
       "      <td>51.580134</td>\n",
       "      <td>-0.347857</td>\n",
       "    </tr>\n",
       "    <tr>\n",
       "      <th>10341</th>\n",
       "      <td>466380</td>\n",
       "      <td>a1c0d761-50a6-4be7-baaa-54ca7c3c8592</td>\n",
       "      <td>BR6 0JR</td>\n",
       "      <td>Orpington</td>\n",
       "      <td>Orpington</td>\n",
       "      <td>Orpington</td>\n",
       "      <td>London Outer SE</td>\n",
       "      <td>51.378243</td>\n",
       "      <td>0.101013</td>\n",
       "    </tr>\n",
       "    <tr>\n",
       "      <th>10342</th>\n",
       "      <td>479003</td>\n",
       "      <td>59ecb0d5-75e6-48d0-b7e1-1244d0c8b14f</td>\n",
       "      <td>OL10 1DW</td>\n",
       "      <td>not_in_a_pool</td>\n",
       "      <td>None</td>\n",
       "      <td>None</td>\n",
       "      <td>None</td>\n",
       "      <td>53.589642</td>\n",
       "      <td>-2.211868</td>\n",
       "    </tr>\n",
       "    <tr>\n",
       "      <th>10343</th>\n",
       "      <td>484461</td>\n",
       "      <td>280db601-fc8c-4dfa-8f4c-97a9c43bc2ac</td>\n",
       "      <td>PL5 1DN</td>\n",
       "      <td>not_in_a_pool</td>\n",
       "      <td>None</td>\n",
       "      <td>None</td>\n",
       "      <td>None</td>\n",
       "      <td>50.398708</td>\n",
       "      <td>-4.192176</td>\n",
       "    </tr>\n",
       "  </tbody>\n",
       "</table>\n",
       "<p>10344 rows × 9 columns</p>\n",
       "</div>"
      ],
      "text/plain": [
       "       stuart_driver_id               application_fountain_id driver_postcode  \\\n",
       "0                368356  e12c514a-6b03-441d-ba8e-a5e219344509         NW1 4EP   \n",
       "1                377271  1035def8-36c8-4d4c-a128-907407902dd8        NW10 0PT   \n",
       "2                350469  828b7ec6-c69c-402c-999e-45e047ac488a        SW19 2PE   \n",
       "3                347430  1e2231e8-715e-4299-b24c-ba838cb170fc         NW9 5BD   \n",
       "4                348192  fa1628ec-22f1-47cb-a031-971aa31e27e1        SE19 3JB   \n",
       "...                 ...                                   ...             ...   \n",
       "10339            481487  a1c30eb5-4f5b-47c2-8105-3688fbd6ba51        WD18 6LE   \n",
       "10340            485455  f5689118-c11d-4b3b-b578-497cefbc42c4         HA1 4EN   \n",
       "10341            466380  a1c0d761-50a6-4be7-baaa-54ca7c3c8592         BR6 0JR   \n",
       "10342            479003  59ecb0d5-75e6-48d0-b7e1-1244d0c8b14f        OL10 1DW   \n",
       "10343            484461  280db601-fc8c-4dfa-8f4c-97a9c43bc2ac         PL5 1DN   \n",
       "\n",
       "      application_pool area_name_uscore area_name_clean  \\\n",
       "0               Camden           Camden          Camden   \n",
       "1              Wembley          Wembley         Wembley   \n",
       "2              Mitcham          Mitcham         Mitcham   \n",
       "3            Colindale        Colindale       Colindale   \n",
       "4              Norwood          Norwood         Norwood   \n",
       "...                ...              ...             ...   \n",
       "10339    not_in_a_pool             None            None   \n",
       "10340   Harrow_Central   Harrow_Central  Harrow Central   \n",
       "10341        Orpington        Orpington       Orpington   \n",
       "10342    not_in_a_pool             None            None   \n",
       "10343    not_in_a_pool             None            None   \n",
       "\n",
       "              catchment_area  lat_driver  long_driver  \n",
       "0             London Inner N   51.528979    -0.144053  \n",
       "1      London Outer Upper NW   51.548382    -0.265571  \n",
       "2             London Inner S   51.413468    -0.178373  \n",
       "3      London Outer Upper NW   51.597835    -0.247690  \n",
       "4             London Outer S   51.416369    -0.103304  \n",
       "...                      ...         ...          ...  \n",
       "10339                   None   51.644343    -0.416763  \n",
       "10340  London Outer Upper NW   51.580134    -0.347857  \n",
       "10341        London Outer SE   51.378243     0.101013  \n",
       "10342                   None   53.589642    -2.211868  \n",
       "10343                   None   50.398708    -4.192176  \n",
       "\n",
       "[10344 rows x 9 columns]"
      ]
     },
     "execution_count": 440,
     "metadata": {},
     "output_type": "execute_result"
    }
   ],
   "source": [
    "courier_mapping"
   ]
  },
  {
   "cell_type": "code",
   "execution_count": 441,
   "metadata": {},
   "outputs": [
    {
     "data": {
      "text/html": [
       "<div>\n",
       "<style scoped>\n",
       "    .dataframe tbody tr th:only-of-type {\n",
       "        vertical-align: middle;\n",
       "    }\n",
       "\n",
       "    .dataframe tbody tr th {\n",
       "        vertical-align: top;\n",
       "    }\n",
       "\n",
       "    .dataframe thead th {\n",
       "        text-align: right;\n",
       "    }\n",
       "</style>\n",
       "<table border=\"1\" class=\"dataframe\">\n",
       "  <thead>\n",
       "    <tr style=\"text-align: right;\">\n",
       "      <th></th>\n",
       "      <th>stuart_driver_id</th>\n",
       "      <th>lat_driver</th>\n",
       "      <th>long_driver</th>\n",
       "    </tr>\n",
       "  </thead>\n",
       "  <tbody>\n",
       "    <tr>\n",
       "      <th>count</th>\n",
       "      <td>10344.000000</td>\n",
       "      <td>10278.000000</td>\n",
       "      <td>10278.000000</td>\n",
       "    </tr>\n",
       "    <tr>\n",
       "      <th>mean</th>\n",
       "      <td>424786.822796</td>\n",
       "      <td>51.535681</td>\n",
       "      <td>-0.167630</td>\n",
       "    </tr>\n",
       "    <tr>\n",
       "      <th>std</th>\n",
       "      <td>46225.980437</td>\n",
       "      <td>0.292850</td>\n",
       "      <td>0.416792</td>\n",
       "    </tr>\n",
       "    <tr>\n",
       "      <th>min</th>\n",
       "      <td>339072.000000</td>\n",
       "      <td>50.339817</td>\n",
       "      <td>-4.978623</td>\n",
       "    </tr>\n",
       "    <tr>\n",
       "      <th>25%</th>\n",
       "      <td>390031.000000</td>\n",
       "      <td>51.449448</td>\n",
       "      <td>-0.250350</td>\n",
       "    </tr>\n",
       "    <tr>\n",
       "      <th>50%</th>\n",
       "      <td>415151.000000</td>\n",
       "      <td>51.523271</td>\n",
       "      <td>-0.106896</td>\n",
       "    </tr>\n",
       "    <tr>\n",
       "      <th>75%</th>\n",
       "      <td>469647.250000</td>\n",
       "      <td>51.568721</td>\n",
       "      <td>-0.011500</td>\n",
       "    </tr>\n",
       "    <tr>\n",
       "      <th>max</th>\n",
       "      <td>496865.000000</td>\n",
       "      <td>56.127844</td>\n",
       "      <td>1.122188</td>\n",
       "    </tr>\n",
       "  </tbody>\n",
       "</table>\n",
       "</div>"
      ],
      "text/plain": [
       "       stuart_driver_id    lat_driver   long_driver\n",
       "count      10344.000000  10278.000000  10278.000000\n",
       "mean      424786.822796     51.535681     -0.167630\n",
       "std        46225.980437      0.292850      0.416792\n",
       "min       339072.000000     50.339817     -4.978623\n",
       "25%       390031.000000     51.449448     -0.250350\n",
       "50%       415151.000000     51.523271     -0.106896\n",
       "75%       469647.250000     51.568721     -0.011500\n",
       "max       496865.000000     56.127844      1.122188"
      ]
     },
     "execution_count": 441,
     "metadata": {},
     "output_type": "execute_result"
    }
   ],
   "source": [
    "courier_mapping.describe()"
   ]
  },
  {
   "cell_type": "code",
   "execution_count": 442,
   "metadata": {},
   "outputs": [
    {
     "data": {
      "text/plain": [
       "stuart_driver_id              0\n",
       "application_fountain_id       0\n",
       "driver_postcode               0\n",
       "application_pool              0\n",
       "area_name_uscore           1058\n",
       "area_name_clean            1058\n",
       "catchment_area             1058\n",
       "lat_driver                   66\n",
       "long_driver                  66\n",
       "dtype: int64"
      ]
     },
     "execution_count": 442,
     "metadata": {},
     "output_type": "execute_result"
    }
   ],
   "source": [
    "courier_mapping.isnull().sum()"
   ]
  },
  {
   "cell_type": "code",
   "execution_count": 443,
   "metadata": {},
   "outputs": [
    {
     "name": "stdout",
     "output_type": "stream",
     "text": [
      "10.22815158546017\n"
     ]
    }
   ],
   "source": [
    "# Percentage of couriers not living in CA in London\n",
    "not_in_CA = courier_mapping['catchment_area'].isnull().sum() * 100 / len(courier_mapping.catchment_area)\n",
    "print(not_in_CA)"
   ]
  },
  {
   "cell_type": "code",
   "execution_count": 444,
   "metadata": {},
   "outputs": [
    {
     "name": "stdout",
     "output_type": "stream",
     "text": [
      "89.77184841453983\n"
     ]
    }
   ],
   "source": [
    "# Percentage of couriers living in CA in London\n",
    "in_CA = courier_mapping['catchment_area'].notnull().sum() * 100 / len(courier_mapping.catchment_area)\n",
    "print(in_CA)"
   ]
  },
  {
   "cell_type": "code",
   "execution_count": 445,
   "metadata": {},
   "outputs": [],
   "source": [
    "courier_inCA = courier_mapping"
   ]
  },
  {
   "cell_type": "code",
   "execution_count": 446,
   "metadata": {},
   "outputs": [
    {
     "data": {
      "text/html": [
       "<div>\n",
       "<style scoped>\n",
       "    .dataframe tbody tr th:only-of-type {\n",
       "        vertical-align: middle;\n",
       "    }\n",
       "\n",
       "    .dataframe tbody tr th {\n",
       "        vertical-align: top;\n",
       "    }\n",
       "\n",
       "    .dataframe thead th {\n",
       "        text-align: right;\n",
       "    }\n",
       "</style>\n",
       "<table border=\"1\" class=\"dataframe\">\n",
       "  <thead>\n",
       "    <tr style=\"text-align: right;\">\n",
       "      <th></th>\n",
       "      <th>stuart_driver_id</th>\n",
       "      <th>application_fountain_id</th>\n",
       "      <th>driver_postcode</th>\n",
       "      <th>application_pool</th>\n",
       "      <th>area_name_uscore</th>\n",
       "      <th>area_name_clean</th>\n",
       "      <th>catchment_area</th>\n",
       "      <th>lat_driver</th>\n",
       "      <th>long_driver</th>\n",
       "      <th>in_CA</th>\n",
       "    </tr>\n",
       "  </thead>\n",
       "  <tbody>\n",
       "    <tr>\n",
       "      <th>0</th>\n",
       "      <td>368356</td>\n",
       "      <td>e12c514a-6b03-441d-ba8e-a5e219344509</td>\n",
       "      <td>NW1 4EP</td>\n",
       "      <td>Camden</td>\n",
       "      <td>Camden</td>\n",
       "      <td>Camden</td>\n",
       "      <td>London Inner N</td>\n",
       "      <td>51.528979</td>\n",
       "      <td>-0.144053</td>\n",
       "      <td>Yes</td>\n",
       "    </tr>\n",
       "    <tr>\n",
       "      <th>1</th>\n",
       "      <td>377271</td>\n",
       "      <td>1035def8-36c8-4d4c-a128-907407902dd8</td>\n",
       "      <td>NW10 0PT</td>\n",
       "      <td>Wembley</td>\n",
       "      <td>Wembley</td>\n",
       "      <td>Wembley</td>\n",
       "      <td>London Outer Upper NW</td>\n",
       "      <td>51.548382</td>\n",
       "      <td>-0.265571</td>\n",
       "      <td>Yes</td>\n",
       "    </tr>\n",
       "    <tr>\n",
       "      <th>2</th>\n",
       "      <td>350469</td>\n",
       "      <td>828b7ec6-c69c-402c-999e-45e047ac488a</td>\n",
       "      <td>SW19 2PE</td>\n",
       "      <td>Mitcham</td>\n",
       "      <td>Mitcham</td>\n",
       "      <td>Mitcham</td>\n",
       "      <td>London Inner S</td>\n",
       "      <td>51.413468</td>\n",
       "      <td>-0.178373</td>\n",
       "      <td>Yes</td>\n",
       "    </tr>\n",
       "    <tr>\n",
       "      <th>3</th>\n",
       "      <td>347430</td>\n",
       "      <td>1e2231e8-715e-4299-b24c-ba838cb170fc</td>\n",
       "      <td>NW9 5BD</td>\n",
       "      <td>Colindale</td>\n",
       "      <td>Colindale</td>\n",
       "      <td>Colindale</td>\n",
       "      <td>London Outer Upper NW</td>\n",
       "      <td>51.597835</td>\n",
       "      <td>-0.247690</td>\n",
       "      <td>Yes</td>\n",
       "    </tr>\n",
       "    <tr>\n",
       "      <th>4</th>\n",
       "      <td>348192</td>\n",
       "      <td>fa1628ec-22f1-47cb-a031-971aa31e27e1</td>\n",
       "      <td>SE19 3JB</td>\n",
       "      <td>Norwood</td>\n",
       "      <td>Norwood</td>\n",
       "      <td>Norwood</td>\n",
       "      <td>London Outer S</td>\n",
       "      <td>51.416369</td>\n",
       "      <td>-0.103304</td>\n",
       "      <td>Yes</td>\n",
       "    </tr>\n",
       "    <tr>\n",
       "      <th>...</th>\n",
       "      <td>...</td>\n",
       "      <td>...</td>\n",
       "      <td>...</td>\n",
       "      <td>...</td>\n",
       "      <td>...</td>\n",
       "      <td>...</td>\n",
       "      <td>...</td>\n",
       "      <td>...</td>\n",
       "      <td>...</td>\n",
       "      <td>...</td>\n",
       "    </tr>\n",
       "    <tr>\n",
       "      <th>10339</th>\n",
       "      <td>481487</td>\n",
       "      <td>a1c30eb5-4f5b-47c2-8105-3688fbd6ba51</td>\n",
       "      <td>WD18 6LE</td>\n",
       "      <td>not_in_a_pool</td>\n",
       "      <td>None</td>\n",
       "      <td>None</td>\n",
       "      <td>None</td>\n",
       "      <td>51.644343</td>\n",
       "      <td>-0.416763</td>\n",
       "      <td>No</td>\n",
       "    </tr>\n",
       "    <tr>\n",
       "      <th>10340</th>\n",
       "      <td>485455</td>\n",
       "      <td>f5689118-c11d-4b3b-b578-497cefbc42c4</td>\n",
       "      <td>HA1 4EN</td>\n",
       "      <td>Harrow_Central</td>\n",
       "      <td>Harrow_Central</td>\n",
       "      <td>Harrow Central</td>\n",
       "      <td>London Outer Upper NW</td>\n",
       "      <td>51.580134</td>\n",
       "      <td>-0.347857</td>\n",
       "      <td>Yes</td>\n",
       "    </tr>\n",
       "    <tr>\n",
       "      <th>10341</th>\n",
       "      <td>466380</td>\n",
       "      <td>a1c0d761-50a6-4be7-baaa-54ca7c3c8592</td>\n",
       "      <td>BR6 0JR</td>\n",
       "      <td>Orpington</td>\n",
       "      <td>Orpington</td>\n",
       "      <td>Orpington</td>\n",
       "      <td>London Outer SE</td>\n",
       "      <td>51.378243</td>\n",
       "      <td>0.101013</td>\n",
       "      <td>Yes</td>\n",
       "    </tr>\n",
       "    <tr>\n",
       "      <th>10342</th>\n",
       "      <td>479003</td>\n",
       "      <td>59ecb0d5-75e6-48d0-b7e1-1244d0c8b14f</td>\n",
       "      <td>OL10 1DW</td>\n",
       "      <td>not_in_a_pool</td>\n",
       "      <td>None</td>\n",
       "      <td>None</td>\n",
       "      <td>None</td>\n",
       "      <td>53.589642</td>\n",
       "      <td>-2.211868</td>\n",
       "      <td>No</td>\n",
       "    </tr>\n",
       "    <tr>\n",
       "      <th>10343</th>\n",
       "      <td>484461</td>\n",
       "      <td>280db601-fc8c-4dfa-8f4c-97a9c43bc2ac</td>\n",
       "      <td>PL5 1DN</td>\n",
       "      <td>not_in_a_pool</td>\n",
       "      <td>None</td>\n",
       "      <td>None</td>\n",
       "      <td>None</td>\n",
       "      <td>50.398708</td>\n",
       "      <td>-4.192176</td>\n",
       "      <td>No</td>\n",
       "    </tr>\n",
       "  </tbody>\n",
       "</table>\n",
       "<p>10344 rows × 10 columns</p>\n",
       "</div>"
      ],
      "text/plain": [
       "       stuart_driver_id               application_fountain_id driver_postcode  \\\n",
       "0                368356  e12c514a-6b03-441d-ba8e-a5e219344509         NW1 4EP   \n",
       "1                377271  1035def8-36c8-4d4c-a128-907407902dd8        NW10 0PT   \n",
       "2                350469  828b7ec6-c69c-402c-999e-45e047ac488a        SW19 2PE   \n",
       "3                347430  1e2231e8-715e-4299-b24c-ba838cb170fc         NW9 5BD   \n",
       "4                348192  fa1628ec-22f1-47cb-a031-971aa31e27e1        SE19 3JB   \n",
       "...                 ...                                   ...             ...   \n",
       "10339            481487  a1c30eb5-4f5b-47c2-8105-3688fbd6ba51        WD18 6LE   \n",
       "10340            485455  f5689118-c11d-4b3b-b578-497cefbc42c4         HA1 4EN   \n",
       "10341            466380  a1c0d761-50a6-4be7-baaa-54ca7c3c8592         BR6 0JR   \n",
       "10342            479003  59ecb0d5-75e6-48d0-b7e1-1244d0c8b14f        OL10 1DW   \n",
       "10343            484461  280db601-fc8c-4dfa-8f4c-97a9c43bc2ac         PL5 1DN   \n",
       "\n",
       "      application_pool area_name_uscore area_name_clean  \\\n",
       "0               Camden           Camden          Camden   \n",
       "1              Wembley          Wembley         Wembley   \n",
       "2              Mitcham          Mitcham         Mitcham   \n",
       "3            Colindale        Colindale       Colindale   \n",
       "4              Norwood          Norwood         Norwood   \n",
       "...                ...              ...             ...   \n",
       "10339    not_in_a_pool             None            None   \n",
       "10340   Harrow_Central   Harrow_Central  Harrow Central   \n",
       "10341        Orpington        Orpington       Orpington   \n",
       "10342    not_in_a_pool             None            None   \n",
       "10343    not_in_a_pool             None            None   \n",
       "\n",
       "              catchment_area  lat_driver  long_driver in_CA  \n",
       "0             London Inner N   51.528979    -0.144053   Yes  \n",
       "1      London Outer Upper NW   51.548382    -0.265571   Yes  \n",
       "2             London Inner S   51.413468    -0.178373   Yes  \n",
       "3      London Outer Upper NW   51.597835    -0.247690   Yes  \n",
       "4             London Outer S   51.416369    -0.103304   Yes  \n",
       "...                      ...         ...          ...   ...  \n",
       "10339                   None   51.644343    -0.416763    No  \n",
       "10340  London Outer Upper NW   51.580134    -0.347857   Yes  \n",
       "10341        London Outer SE   51.378243     0.101013   Yes  \n",
       "10342                   None   53.589642    -2.211868    No  \n",
       "10343                   None   50.398708    -4.192176    No  \n",
       "\n",
       "[10344 rows x 10 columns]"
      ]
     },
     "execution_count": 446,
     "metadata": {},
     "output_type": "execute_result"
    }
   ],
   "source": [
    "courier_mapping['in_CA']= np.where(courier_mapping['catchment_area'].notnull() , 'Yes' , 'No')\n",
    "courier_mapping"
   ]
  },
  {
   "cell_type": "code",
   "execution_count": 447,
   "metadata": {},
   "outputs": [
    {
     "data": {
      "text/html": [
       "<div>\n",
       "<style scoped>\n",
       "    .dataframe tbody tr th:only-of-type {\n",
       "        vertical-align: middle;\n",
       "    }\n",
       "\n",
       "    .dataframe tbody tr th {\n",
       "        vertical-align: top;\n",
       "    }\n",
       "\n",
       "    .dataframe thead th {\n",
       "        text-align: right;\n",
       "    }\n",
       "</style>\n",
       "<table border=\"1\" class=\"dataframe\">\n",
       "  <thead>\n",
       "    <tr style=\"text-align: right;\">\n",
       "      <th></th>\n",
       "      <th>in_CA</th>\n",
       "      <th>stuart_driver_id</th>\n",
       "    </tr>\n",
       "  </thead>\n",
       "  <tbody>\n",
       "    <tr>\n",
       "      <th>0</th>\n",
       "      <td>No</td>\n",
       "      <td>1058</td>\n",
       "    </tr>\n",
       "    <tr>\n",
       "      <th>1</th>\n",
       "      <td>Yes</td>\n",
       "      <td>9286</td>\n",
       "    </tr>\n",
       "  </tbody>\n",
       "</table>\n",
       "</div>"
      ],
      "text/plain": [
       "  in_CA  stuart_driver_id\n",
       "0    No              1058\n",
       "1   Yes              9286"
      ]
     },
     "execution_count": 447,
     "metadata": {},
     "output_type": "execute_result"
    }
   ],
   "source": [
    "in_CA = courier_mapping.groupby('in_CA').agg({'stuart_driver_id':'count'}).reset_index()\n",
    "in_CA"
   ]
  },
  {
   "cell_type": "code",
   "execution_count": 448,
   "metadata": {},
   "outputs": [],
   "source": [
    "# Percentage of drivers who live within CA\n",
    "in_CA['Percentage_drivers_inCA'] = (in_CA['stuart_driver_id']/in_CA['stuart_driver_id'].sum()) * 100\n",
    "in_CA = in_CA.round(0)"
   ]
  },
  {
   "cell_type": "code",
   "execution_count": 449,
   "metadata": {},
   "outputs": [
    {
     "data": {
      "application/vnd.plotly.v1+json": {
       "config": {
        "plotlyServerURL": "https://plot.ly"
       },
       "data": [
        {
         "alignmentgroup": "True",
         "hovertemplate": "in_CA=%{x}<br>Percentage_drivers_inCA=%{text}<extra></extra>",
         "legendgroup": "",
         "marker": {
          "color": "#636efa",
          "pattern": {
           "shape": ""
          }
         },
         "name": "",
         "offsetgroup": "",
         "orientation": "v",
         "showlegend": false,
         "text": [
          10,
          90
         ],
         "textposition": "auto",
         "type": "bar",
         "x": [
          "No",
          "Yes"
         ],
         "xaxis": "x",
         "y": [
          10,
          90
         ],
         "yaxis": "y"
        }
       ],
       "layout": {
        "autosize": true,
        "barmode": "relative",
        "legend": {
         "tracegroupgap": 0
        },
        "template": {
         "data": {
          "bar": [
           {
            "error_x": {
             "color": "#2a3f5f"
            },
            "error_y": {
             "color": "#2a3f5f"
            },
            "marker": {
             "line": {
              "color": "#E5ECF6",
              "width": 0.5
             },
             "pattern": {
              "fillmode": "overlay",
              "size": 10,
              "solidity": 0.2
             }
            },
            "type": "bar"
           }
          ],
          "barpolar": [
           {
            "marker": {
             "line": {
              "color": "#E5ECF6",
              "width": 0.5
             },
             "pattern": {
              "fillmode": "overlay",
              "size": 10,
              "solidity": 0.2
             }
            },
            "type": "barpolar"
           }
          ],
          "carpet": [
           {
            "aaxis": {
             "endlinecolor": "#2a3f5f",
             "gridcolor": "white",
             "linecolor": "white",
             "minorgridcolor": "white",
             "startlinecolor": "#2a3f5f"
            },
            "baxis": {
             "endlinecolor": "#2a3f5f",
             "gridcolor": "white",
             "linecolor": "white",
             "minorgridcolor": "white",
             "startlinecolor": "#2a3f5f"
            },
            "type": "carpet"
           }
          ],
          "choropleth": [
           {
            "colorbar": {
             "outlinewidth": 0,
             "ticks": ""
            },
            "type": "choropleth"
           }
          ],
          "contour": [
           {
            "colorbar": {
             "outlinewidth": 0,
             "ticks": ""
            },
            "colorscale": [
             [
              0,
              "#0d0887"
             ],
             [
              0.1111111111111111,
              "#46039f"
             ],
             [
              0.2222222222222222,
              "#7201a8"
             ],
             [
              0.3333333333333333,
              "#9c179e"
             ],
             [
              0.4444444444444444,
              "#bd3786"
             ],
             [
              0.5555555555555556,
              "#d8576b"
             ],
             [
              0.6666666666666666,
              "#ed7953"
             ],
             [
              0.7777777777777778,
              "#fb9f3a"
             ],
             [
              0.8888888888888888,
              "#fdca26"
             ],
             [
              1,
              "#f0f921"
             ]
            ],
            "type": "contour"
           }
          ],
          "contourcarpet": [
           {
            "colorbar": {
             "outlinewidth": 0,
             "ticks": ""
            },
            "type": "contourcarpet"
           }
          ],
          "heatmap": [
           {
            "colorbar": {
             "outlinewidth": 0,
             "ticks": ""
            },
            "colorscale": [
             [
              0,
              "#0d0887"
             ],
             [
              0.1111111111111111,
              "#46039f"
             ],
             [
              0.2222222222222222,
              "#7201a8"
             ],
             [
              0.3333333333333333,
              "#9c179e"
             ],
             [
              0.4444444444444444,
              "#bd3786"
             ],
             [
              0.5555555555555556,
              "#d8576b"
             ],
             [
              0.6666666666666666,
              "#ed7953"
             ],
             [
              0.7777777777777778,
              "#fb9f3a"
             ],
             [
              0.8888888888888888,
              "#fdca26"
             ],
             [
              1,
              "#f0f921"
             ]
            ],
            "type": "heatmap"
           }
          ],
          "heatmapgl": [
           {
            "colorbar": {
             "outlinewidth": 0,
             "ticks": ""
            },
            "colorscale": [
             [
              0,
              "#0d0887"
             ],
             [
              0.1111111111111111,
              "#46039f"
             ],
             [
              0.2222222222222222,
              "#7201a8"
             ],
             [
              0.3333333333333333,
              "#9c179e"
             ],
             [
              0.4444444444444444,
              "#bd3786"
             ],
             [
              0.5555555555555556,
              "#d8576b"
             ],
             [
              0.6666666666666666,
              "#ed7953"
             ],
             [
              0.7777777777777778,
              "#fb9f3a"
             ],
             [
              0.8888888888888888,
              "#fdca26"
             ],
             [
              1,
              "#f0f921"
             ]
            ],
            "type": "heatmapgl"
           }
          ],
          "histogram": [
           {
            "marker": {
             "pattern": {
              "fillmode": "overlay",
              "size": 10,
              "solidity": 0.2
             }
            },
            "type": "histogram"
           }
          ],
          "histogram2d": [
           {
            "colorbar": {
             "outlinewidth": 0,
             "ticks": ""
            },
            "colorscale": [
             [
              0,
              "#0d0887"
             ],
             [
              0.1111111111111111,
              "#46039f"
             ],
             [
              0.2222222222222222,
              "#7201a8"
             ],
             [
              0.3333333333333333,
              "#9c179e"
             ],
             [
              0.4444444444444444,
              "#bd3786"
             ],
             [
              0.5555555555555556,
              "#d8576b"
             ],
             [
              0.6666666666666666,
              "#ed7953"
             ],
             [
              0.7777777777777778,
              "#fb9f3a"
             ],
             [
              0.8888888888888888,
              "#fdca26"
             ],
             [
              1,
              "#f0f921"
             ]
            ],
            "type": "histogram2d"
           }
          ],
          "histogram2dcontour": [
           {
            "colorbar": {
             "outlinewidth": 0,
             "ticks": ""
            },
            "colorscale": [
             [
              0,
              "#0d0887"
             ],
             [
              0.1111111111111111,
              "#46039f"
             ],
             [
              0.2222222222222222,
              "#7201a8"
             ],
             [
              0.3333333333333333,
              "#9c179e"
             ],
             [
              0.4444444444444444,
              "#bd3786"
             ],
             [
              0.5555555555555556,
              "#d8576b"
             ],
             [
              0.6666666666666666,
              "#ed7953"
             ],
             [
              0.7777777777777778,
              "#fb9f3a"
             ],
             [
              0.8888888888888888,
              "#fdca26"
             ],
             [
              1,
              "#f0f921"
             ]
            ],
            "type": "histogram2dcontour"
           }
          ],
          "mesh3d": [
           {
            "colorbar": {
             "outlinewidth": 0,
             "ticks": ""
            },
            "type": "mesh3d"
           }
          ],
          "parcoords": [
           {
            "line": {
             "colorbar": {
              "outlinewidth": 0,
              "ticks": ""
             }
            },
            "type": "parcoords"
           }
          ],
          "pie": [
           {
            "automargin": true,
            "type": "pie"
           }
          ],
          "scatter": [
           {
            "marker": {
             "colorbar": {
              "outlinewidth": 0,
              "ticks": ""
             }
            },
            "type": "scatter"
           }
          ],
          "scatter3d": [
           {
            "line": {
             "colorbar": {
              "outlinewidth": 0,
              "ticks": ""
             }
            },
            "marker": {
             "colorbar": {
              "outlinewidth": 0,
              "ticks": ""
             }
            },
            "type": "scatter3d"
           }
          ],
          "scattercarpet": [
           {
            "marker": {
             "colorbar": {
              "outlinewidth": 0,
              "ticks": ""
             }
            },
            "type": "scattercarpet"
           }
          ],
          "scattergeo": [
           {
            "marker": {
             "colorbar": {
              "outlinewidth": 0,
              "ticks": ""
             }
            },
            "type": "scattergeo"
           }
          ],
          "scattergl": [
           {
            "marker": {
             "colorbar": {
              "outlinewidth": 0,
              "ticks": ""
             }
            },
            "type": "scattergl"
           }
          ],
          "scattermapbox": [
           {
            "marker": {
             "colorbar": {
              "outlinewidth": 0,
              "ticks": ""
             }
            },
            "type": "scattermapbox"
           }
          ],
          "scatterpolar": [
           {
            "marker": {
             "colorbar": {
              "outlinewidth": 0,
              "ticks": ""
             }
            },
            "type": "scatterpolar"
           }
          ],
          "scatterpolargl": [
           {
            "marker": {
             "colorbar": {
              "outlinewidth": 0,
              "ticks": ""
             }
            },
            "type": "scatterpolargl"
           }
          ],
          "scatterternary": [
           {
            "marker": {
             "colorbar": {
              "outlinewidth": 0,
              "ticks": ""
             }
            },
            "type": "scatterternary"
           }
          ],
          "surface": [
           {
            "colorbar": {
             "outlinewidth": 0,
             "ticks": ""
            },
            "colorscale": [
             [
              0,
              "#0d0887"
             ],
             [
              0.1111111111111111,
              "#46039f"
             ],
             [
              0.2222222222222222,
              "#7201a8"
             ],
             [
              0.3333333333333333,
              "#9c179e"
             ],
             [
              0.4444444444444444,
              "#bd3786"
             ],
             [
              0.5555555555555556,
              "#d8576b"
             ],
             [
              0.6666666666666666,
              "#ed7953"
             ],
             [
              0.7777777777777778,
              "#fb9f3a"
             ],
             [
              0.8888888888888888,
              "#fdca26"
             ],
             [
              1,
              "#f0f921"
             ]
            ],
            "type": "surface"
           }
          ],
          "table": [
           {
            "cells": {
             "fill": {
              "color": "#EBF0F8"
             },
             "line": {
              "color": "white"
             }
            },
            "header": {
             "fill": {
              "color": "#C8D4E3"
             },
             "line": {
              "color": "white"
             }
            },
            "type": "table"
           }
          ]
         },
         "layout": {
          "annotationdefaults": {
           "arrowcolor": "#2a3f5f",
           "arrowhead": 0,
           "arrowwidth": 1
          },
          "autotypenumbers": "strict",
          "coloraxis": {
           "colorbar": {
            "outlinewidth": 0,
            "ticks": ""
           }
          },
          "colorscale": {
           "diverging": [
            [
             0,
             "#8e0152"
            ],
            [
             0.1,
             "#c51b7d"
            ],
            [
             0.2,
             "#de77ae"
            ],
            [
             0.3,
             "#f1b6da"
            ],
            [
             0.4,
             "#fde0ef"
            ],
            [
             0.5,
             "#f7f7f7"
            ],
            [
             0.6,
             "#e6f5d0"
            ],
            [
             0.7,
             "#b8e186"
            ],
            [
             0.8,
             "#7fbc41"
            ],
            [
             0.9,
             "#4d9221"
            ],
            [
             1,
             "#276419"
            ]
           ],
           "sequential": [
            [
             0,
             "#0d0887"
            ],
            [
             0.1111111111111111,
             "#46039f"
            ],
            [
             0.2222222222222222,
             "#7201a8"
            ],
            [
             0.3333333333333333,
             "#9c179e"
            ],
            [
             0.4444444444444444,
             "#bd3786"
            ],
            [
             0.5555555555555556,
             "#d8576b"
            ],
            [
             0.6666666666666666,
             "#ed7953"
            ],
            [
             0.7777777777777778,
             "#fb9f3a"
            ],
            [
             0.8888888888888888,
             "#fdca26"
            ],
            [
             1,
             "#f0f921"
            ]
           ],
           "sequentialminus": [
            [
             0,
             "#0d0887"
            ],
            [
             0.1111111111111111,
             "#46039f"
            ],
            [
             0.2222222222222222,
             "#7201a8"
            ],
            [
             0.3333333333333333,
             "#9c179e"
            ],
            [
             0.4444444444444444,
             "#bd3786"
            ],
            [
             0.5555555555555556,
             "#d8576b"
            ],
            [
             0.6666666666666666,
             "#ed7953"
            ],
            [
             0.7777777777777778,
             "#fb9f3a"
            ],
            [
             0.8888888888888888,
             "#fdca26"
            ],
            [
             1,
             "#f0f921"
            ]
           ]
          },
          "colorway": [
           "#636efa",
           "#EF553B",
           "#00cc96",
           "#ab63fa",
           "#FFA15A",
           "#19d3f3",
           "#FF6692",
           "#B6E880",
           "#FF97FF",
           "#FECB52"
          ],
          "font": {
           "color": "#2a3f5f"
          },
          "geo": {
           "bgcolor": "white",
           "lakecolor": "white",
           "landcolor": "#E5ECF6",
           "showlakes": true,
           "showland": true,
           "subunitcolor": "white"
          },
          "hoverlabel": {
           "align": "left"
          },
          "hovermode": "closest",
          "mapbox": {
           "style": "light"
          },
          "paper_bgcolor": "white",
          "plot_bgcolor": "#E5ECF6",
          "polar": {
           "angularaxis": {
            "gridcolor": "white",
            "linecolor": "white",
            "ticks": ""
           },
           "bgcolor": "#E5ECF6",
           "radialaxis": {
            "gridcolor": "white",
            "linecolor": "white",
            "ticks": ""
           }
          },
          "scene": {
           "xaxis": {
            "backgroundcolor": "#E5ECF6",
            "gridcolor": "white",
            "gridwidth": 2,
            "linecolor": "white",
            "showbackground": true,
            "ticks": "",
            "zerolinecolor": "white"
           },
           "yaxis": {
            "backgroundcolor": "#E5ECF6",
            "gridcolor": "white",
            "gridwidth": 2,
            "linecolor": "white",
            "showbackground": true,
            "ticks": "",
            "zerolinecolor": "white"
           },
           "zaxis": {
            "backgroundcolor": "#E5ECF6",
            "gridcolor": "white",
            "gridwidth": 2,
            "linecolor": "white",
            "showbackground": true,
            "ticks": "",
            "zerolinecolor": "white"
           }
          },
          "shapedefaults": {
           "line": {
            "color": "#2a3f5f"
           }
          },
          "ternary": {
           "aaxis": {
            "gridcolor": "white",
            "linecolor": "white",
            "ticks": ""
           },
           "baxis": {
            "gridcolor": "white",
            "linecolor": "white",
            "ticks": ""
           },
           "bgcolor": "#E5ECF6",
           "caxis": {
            "gridcolor": "white",
            "linecolor": "white",
            "ticks": ""
           }
          },
          "title": {
           "x": 0.05
          },
          "xaxis": {
           "automargin": true,
           "gridcolor": "white",
           "linecolor": "white",
           "ticks": "",
           "title": {
            "standoff": 15
           },
           "zerolinecolor": "white",
           "zerolinewidth": 2
          },
          "yaxis": {
           "automargin": true,
           "gridcolor": "white",
           "linecolor": "white",
           "ticks": "",
           "title": {
            "standoff": 15
           },
           "zerolinecolor": "white",
           "zerolinewidth": 2
          }
         }
        },
        "title": {
         "text": "Percentage of Couriers Within CA"
        },
        "xaxis": {
         "anchor": "y",
         "autorange": true,
         "domain": [
          0,
          1
         ],
         "range": [
          -0.5,
          1.5
         ],
         "title": {
          "text": "in_CA"
         },
         "type": "category"
        },
        "yaxis": {
         "anchor": "x",
         "autorange": true,
         "domain": [
          0,
          1
         ],
         "range": [
          0,
          94.73684210526315
         ],
         "title": {
          "text": "Percentage_drivers_inCA"
         },
         "type": "linear"
        }
       }
      },
      "image/png": "[encoded data removed]",
      "text/html": [
       "<div>                            <div id=\"a07d5bca-ecf4-4abc-bd7c-69aa3428373f\" class=\"plotly-graph-div\" style=\"height:525px; width:100%;\"></div>            <script type=\"text/javascript\">                require([\"plotly\"], function(Plotly) {                    window.PLOTLYENV=window.PLOTLYENV || {};                                    if (document.getElementById(\"a07d5bca-ecf4-4abc-bd7c-69aa3428373f\")) {                    Plotly.newPlot(                        \"a07d5bca-ecf4-4abc-bd7c-69aa3428373f\",                        [{\"alignmentgroup\":\"True\",\"hovertemplate\":\"in_CA=%{x}<br>Percentage_drivers_inCA=%{text}<extra></extra>\",\"legendgroup\":\"\",\"marker\":{\"color\":\"#636efa\",\"pattern\":{\"shape\":\"\"}},\"name\":\"\",\"offsetgroup\":\"\",\"orientation\":\"v\",\"showlegend\":false,\"text\":[10.0,90.0],\"textposition\":\"auto\",\"x\":[\"No\",\"Yes\"],\"xaxis\":\"x\",\"y\":[10.0,90.0],\"yaxis\":\"y\",\"type\":\"bar\"}],                        {\"template\":{\"data\":{\"bar\":[{\"error_x\":{\"color\":\"#2a3f5f\"},\"error_y\":{\"color\":\"#2a3f5f\"},\"marker\":{\"line\":{\"color\":\"#E5ECF6\",\"width\":0.5},\"pattern\":{\"fillmode\":\"overlay\",\"size\":10,\"solidity\":0.2}},\"type\":\"bar\"}],\"barpolar\":[{\"marker\":{\"line\":{\"color\":\"#E5ECF6\",\"width\":0.5},\"pattern\":{\"fillmode\":\"overlay\",\"size\":10,\"solidity\":0.2}},\"type\":\"barpolar\"}],\"carpet\":[{\"aaxis\":{\"endlinecolor\":\"#2a3f5f\",\"gridcolor\":\"white\",\"linecolor\":\"white\",\"minorgridcolor\":\"white\",\"startlinecolor\":\"#2a3f5f\"},\"baxis\":{\"endlinecolor\":\"#2a3f5f\",\"gridcolor\":\"white\",\"linecolor\":\"white\",\"minorgridcolor\":\"white\",\"startlinecolor\":\"#2a3f5f\"},\"type\":\"carpet\"}],\"choropleth\":[{\"colorbar\":{\"outlinewidth\":0,\"ticks\":\"\"},\"type\":\"choropleth\"}],\"contour\":[{\"colorbar\":{\"outlinewidth\":0,\"ticks\":\"\"},\"colorscale\":[[0.0,\"#0d0887\"],[0.1111111111111111,\"#46039f\"],[0.2222222222222222,\"#7201a8\"],[0.3333333333333333,\"#9c179e\"],[0.4444444444444444,\"#bd3786\"],[0.5555555555555556,\"#d8576b\"],[0.6666666666666666,\"#ed7953\"],[0.7777777777777778,\"#fb9f3a\"],[0.8888888888888888,\"#fdca26\"],[1.0,\"#f0f921\"]],\"type\":\"contour\"}],\"contourcarpet\":[{\"colorbar\":{\"outlinewidth\":0,\"ticks\":\"\"},\"type\":\"contourcarpet\"}],\"heatmap\":[{\"colorbar\":{\"outlinewidth\":0,\"ticks\":\"\"},\"colorscale\":[[0.0,\"#0d0887\"],[0.1111111111111111,\"#46039f\"],[0.2222222222222222,\"#7201a8\"],[0.3333333333333333,\"#9c179e\"],[0.4444444444444444,\"#bd3786\"],[0.5555555555555556,\"#d8576b\"],[0.6666666666666666,\"#ed7953\"],[0.7777777777777778,\"#fb9f3a\"],[0.8888888888888888,\"#fdca26\"],[1.0,\"#f0f921\"]],\"type\":\"heatmap\"}],\"heatmapgl\":[{\"colorbar\":{\"outlinewidth\":0,\"ticks\":\"\"},\"colorscale\":[[0.0,\"#0d0887\"],[0.1111111111111111,\"#46039f\"],[0.2222222222222222,\"#7201a8\"],[0.3333333333333333,\"#9c179e\"],[0.4444444444444444,\"#bd3786\"],[0.5555555555555556,\"#d8576b\"],[0.6666666666666666,\"#ed7953\"],[0.7777777777777778,\"#fb9f3a\"],[0.8888888888888888,\"#fdca26\"],[1.0,\"#f0f921\"]],\"type\":\"heatmapgl\"}],\"histogram\":[{\"marker\":{\"pattern\":{\"fillmode\":\"overlay\",\"size\":10,\"solidity\":0.2}},\"type\":\"histogram\"}],\"histogram2d\":[{\"colorbar\":{\"outlinewidth\":0,\"ticks\":\"\"},\"colorscale\":[[0.0,\"#0d0887\"],[0.1111111111111111,\"#46039f\"],[0.2222222222222222,\"#7201a8\"],[0.3333333333333333,\"#9c179e\"],[0.4444444444444444,\"#bd3786\"],[0.5555555555555556,\"#d8576b\"],[0.6666666666666666,\"#ed7953\"],[0.7777777777777778,\"#fb9f3a\"],[0.8888888888888888,\"#fdca26\"],[1.0,\"#f0f921\"]],\"type\":\"histogram2d\"}],\"histogram2dcontour\":[{\"colorbar\":{\"outlinewidth\":0,\"ticks\":\"\"},\"colorscale\":[[0.0,\"#0d0887\"],[0.1111111111111111,\"#46039f\"],[0.2222222222222222,\"#7201a8\"],[0.3333333333333333,\"#9c179e\"],[0.4444444444444444,\"#bd3786\"],[0.5555555555555556,\"#d8576b\"],[0.6666666666666666,\"#ed7953\"],[0.7777777777777778,\"#fb9f3a\"],[0.8888888888888888,\"#fdca26\"],[1.0,\"#f0f921\"]],\"type\":\"histogram2dcontour\"}],\"mesh3d\":[{\"colorbar\":{\"outlinewidth\":0,\"ticks\":\"\"},\"type\":\"mesh3d\"}],\"parcoords\":[{\"line\":{\"colorbar\":{\"outlinewidth\":0,\"ticks\":\"\"}},\"type\":\"parcoords\"}],\"pie\":[{\"automargin\":true,\"type\":\"pie\"}],\"scatter\":[{\"marker\":{\"colorbar\":{\"outlinewidth\":0,\"ticks\":\"\"}},\"type\":\"scatter\"}],\"scatter3d\":[{\"line\":{\"colorbar\":{\"outlinewidth\":0,\"ticks\":\"\"}},\"marker\":{\"colorbar\":{\"outlinewidth\":0,\"ticks\":\"\"}},\"type\":\"scatter3d\"}],\"scattercarpet\":[{\"marker\":{\"colorbar\":{\"outlinewidth\":0,\"ticks\":\"\"}},\"type\":\"scattercarpet\"}],\"scattergeo\":[{\"marker\":{\"colorbar\":{\"outlinewidth\":0,\"ticks\":\"\"}},\"type\":\"scattergeo\"}],\"scattergl\":[{\"marker\":{\"colorbar\":{\"outlinewidth\":0,\"ticks\":\"\"}},\"type\":\"scattergl\"}],\"scattermapbox\":[{\"marker\":{\"colorbar\":{\"outlinewidth\":0,\"ticks\":\"\"}},\"type\":\"scattermapbox\"}],\"scatterpolar\":[{\"marker\":{\"colorbar\":{\"outlinewidth\":0,\"ticks\":\"\"}},\"type\":\"scatterpolar\"}],\"scatterpolargl\":[{\"marker\":{\"colorbar\":{\"outlinewidth\":0,\"ticks\":\"\"}},\"type\":\"scatterpolargl\"}],\"scatterternary\":[{\"marker\":{\"colorbar\":{\"outlinewidth\":0,\"ticks\":\"\"}},\"type\":\"scatterternary\"}],\"surface\":[{\"colorbar\":{\"outlinewidth\":0,\"ticks\":\"\"},\"colorscale\":[[0.0,\"#0d0887\"],[0.1111111111111111,\"#46039f\"],[0.2222222222222222,\"#7201a8\"],[0.3333333333333333,\"#9c179e\"],[0.4444444444444444,\"#bd3786\"],[0.5555555555555556,\"#d8576b\"],[0.6666666666666666,\"#ed7953\"],[0.7777777777777778,\"#fb9f3a\"],[0.8888888888888888,\"#fdca26\"],[1.0,\"#f0f921\"]],\"type\":\"surface\"}],\"table\":[{\"cells\":{\"fill\":{\"color\":\"#EBF0F8\"},\"line\":{\"color\":\"white\"}},\"header\":{\"fill\":{\"color\":\"#C8D4E3\"},\"line\":{\"color\":\"white\"}},\"type\":\"table\"}]},\"layout\":{\"annotationdefaults\":{\"arrowcolor\":\"#2a3f5f\",\"arrowhead\":0,\"arrowwidth\":1},\"autotypenumbers\":\"strict\",\"coloraxis\":{\"colorbar\":{\"outlinewidth\":0,\"ticks\":\"\"}},\"colorscale\":{\"diverging\":[[0,\"#8e0152\"],[0.1,\"#c51b7d\"],[0.2,\"#de77ae\"],[0.3,\"#f1b6da\"],[0.4,\"#fde0ef\"],[0.5,\"#f7f7f7\"],[0.6,\"#e6f5d0\"],[0.7,\"#b8e186\"],[0.8,\"#7fbc41\"],[0.9,\"#4d9221\"],[1,\"#276419\"]],\"sequential\":[[0.0,\"#0d0887\"],[0.1111111111111111,\"#46039f\"],[0.2222222222222222,\"#7201a8\"],[0.3333333333333333,\"#9c179e\"],[0.4444444444444444,\"#bd3786\"],[0.5555555555555556,\"#d8576b\"],[0.6666666666666666,\"#ed7953\"],[0.7777777777777778,\"#fb9f3a\"],[0.8888888888888888,\"#fdca26\"],[1.0,\"#f0f921\"]],\"sequentialminus\":[[0.0,\"#0d0887\"],[0.1111111111111111,\"#46039f\"],[0.2222222222222222,\"#7201a8\"],[0.3333333333333333,\"#9c179e\"],[0.4444444444444444,\"#bd3786\"],[0.5555555555555556,\"#d8576b\"],[0.6666666666666666,\"#ed7953\"],[0.7777777777777778,\"#fb9f3a\"],[0.8888888888888888,\"#fdca26\"],[1.0,\"#f0f921\"]]},\"colorway\":[\"#636efa\",\"#EF553B\",\"#00cc96\",\"#ab63fa\",\"#FFA15A\",\"#19d3f3\",\"#FF6692\",\"#B6E880\",\"#FF97FF\",\"#FECB52\"],\"font\":{\"color\":\"#2a3f5f\"},\"geo\":{\"bgcolor\":\"white\",\"lakecolor\":\"white\",\"landcolor\":\"#E5ECF6\",\"showlakes\":true,\"showland\":true,\"subunitcolor\":\"white\"},\"hoverlabel\":{\"align\":\"left\"},\"hovermode\":\"closest\",\"mapbox\":{\"style\":\"light\"},\"paper_bgcolor\":\"white\",\"plot_bgcolor\":\"#E5ECF6\",\"polar\":{\"angularaxis\":{\"gridcolor\":\"white\",\"linecolor\":\"white\",\"ticks\":\"\"},\"bgcolor\":\"#E5ECF6\",\"radialaxis\":{\"gridcolor\":\"white\",\"linecolor\":\"white\",\"ticks\":\"\"}},\"scene\":{\"xaxis\":{\"backgroundcolor\":\"#E5ECF6\",\"gridcolor\":\"white\",\"gridwidth\":2,\"linecolor\":\"white\",\"showbackground\":true,\"ticks\":\"\",\"zerolinecolor\":\"white\"},\"yaxis\":{\"backgroundcolor\":\"#E5ECF6\",\"gridcolor\":\"white\",\"gridwidth\":2,\"linecolor\":\"white\",\"showbackground\":true,\"ticks\":\"\",\"zerolinecolor\":\"white\"},\"zaxis\":{\"backgroundcolor\":\"#E5ECF6\",\"gridcolor\":\"white\",\"gridwidth\":2,\"linecolor\":\"white\",\"showbackground\":true,\"ticks\":\"\",\"zerolinecolor\":\"white\"}},\"shapedefaults\":{\"line\":{\"color\":\"#2a3f5f\"}},\"ternary\":{\"aaxis\":{\"gridcolor\":\"white\",\"linecolor\":\"white\",\"ticks\":\"\"},\"baxis\":{\"gridcolor\":\"white\",\"linecolor\":\"white\",\"ticks\":\"\"},\"bgcolor\":\"#E5ECF6\",\"caxis\":{\"gridcolor\":\"white\",\"linecolor\":\"white\",\"ticks\":\"\"}},\"title\":{\"x\":0.05},\"xaxis\":{\"automargin\":true,\"gridcolor\":\"white\",\"linecolor\":\"white\",\"ticks\":\"\",\"title\":{\"standoff\":15},\"zerolinecolor\":\"white\",\"zerolinewidth\":2},\"yaxis\":{\"automargin\":true,\"gridcolor\":\"white\",\"linecolor\":\"white\",\"ticks\":\"\",\"title\":{\"standoff\":15},\"zerolinecolor\":\"white\",\"zerolinewidth\":2}}},\"xaxis\":{\"anchor\":\"y\",\"domain\":[0.0,1.0],\"title\":{\"text\":\"in_CA\"}},\"yaxis\":{\"anchor\":\"x\",\"domain\":[0.0,1.0],\"title\":{\"text\":\"Percentage_drivers_inCA\"}},\"legend\":{\"tracegroupgap\":0},\"title\":{\"text\":\"Percentage of Couriers Within CA\"},\"barmode\":\"relative\"},                        {\"responsive\": true}                    ).then(function(){\n",
       "                            \n",
       "var gd = document.getElementById('a07d5bca-ecf4-4abc-bd7c-69aa3428373f');\n",
       "var x = new MutationObserver(function (mutations, observer) {{\n",
       "        var display = window.getComputedStyle(gd).display;\n",
       "        if (!display || display === 'none') {{\n",
       "            console.log([gd, 'removed!']);\n",
       "            Plotly.purge(gd);\n",
       "            observer.disconnect();\n",
       "        }}\n",
       "}});\n",
       "\n",
       "// Listen for the removal of the full notebook cells\n",
       "var notebookContainer = gd.closest('#notebook-container');\n",
       "if (notebookContainer) {{\n",
       "    x.observe(notebookContainer, {childList: true});\n",
       "}}\n",
       "\n",
       "// Listen for the clearing of the current output cell\n",
       "var outputEl = gd.closest('.output');\n",
       "if (outputEl) {{\n",
       "    x.observe(outputEl, {childList: true});\n",
       "}}\n",
       "\n",
       "                        })                };                });            </script>        </div>"
      ]
     },
     "metadata": {},
     "output_type": "display_data"
    }
   ],
   "source": [
    "fig1 = px.bar(in_CA, x = 'in_CA' , y = 'Percentage_drivers_inCA', title= 'Percentage of Couriers Within CA', text = 'Percentage_drivers_inCA')\n",
    "fig1.show()"
   ]
  },
  {
   "cell_type": "code",
   "execution_count": 450,
   "metadata": {},
   "outputs": [
    {
     "data": {
      "text/html": [
       "<div>\n",
       "<style scoped>\n",
       "    .dataframe tbody tr th:only-of-type {\n",
       "        vertical-align: middle;\n",
       "    }\n",
       "\n",
       "    .dataframe tbody tr th {\n",
       "        vertical-align: top;\n",
       "    }\n",
       "\n",
       "    .dataframe thead th {\n",
       "        text-align: right;\n",
       "    }\n",
       "</style>\n",
       "<table border=\"1\" class=\"dataframe\">\n",
       "  <thead>\n",
       "    <tr style=\"text-align: right;\">\n",
       "      <th></th>\n",
       "      <th>catchment_area</th>\n",
       "      <th>stuart_driver_id</th>\n",
       "    </tr>\n",
       "  </thead>\n",
       "  <tbody>\n",
       "    <tr>\n",
       "      <th>0</th>\n",
       "      <td>Altrincham</td>\n",
       "      <td>1</td>\n",
       "    </tr>\n",
       "    <tr>\n",
       "      <th>1</th>\n",
       "      <td>Basildon</td>\n",
       "      <td>2</td>\n",
       "    </tr>\n",
       "    <tr>\n",
       "      <th>2</th>\n",
       "      <td>Birmingham Central</td>\n",
       "      <td>3</td>\n",
       "    </tr>\n",
       "    <tr>\n",
       "      <th>3</th>\n",
       "      <td>Birmingham East</td>\n",
       "      <td>1</td>\n",
       "    </tr>\n",
       "    <tr>\n",
       "      <th>4</th>\n",
       "      <td>Bolton</td>\n",
       "      <td>2</td>\n",
       "    </tr>\n",
       "  </tbody>\n",
       "</table>\n",
       "</div>"
      ],
      "text/plain": [
       "       catchment_area  stuart_driver_id\n",
       "0          Altrincham                 1\n",
       "1            Basildon                 2\n",
       "2  Birmingham Central                 3\n",
       "3     Birmingham East                 1\n",
       "4              Bolton                 2"
      ]
     },
     "execution_count": 450,
     "metadata": {},
     "output_type": "execute_result"
    }
   ],
   "source": [
    "# Top 5 CA with highest number of resident couriers\n",
    "top_5_CA = courier_mapping.groupby('catchment_area').agg({'stuart_driver_id':'count'}).reset_index()\n",
    "top_5_CA.head(5)"
   ]
  },
  {
   "cell_type": "code",
   "execution_count": 451,
   "metadata": {},
   "outputs": [
    {
     "data": {
      "text/html": [
       "<div>\n",
       "<style scoped>\n",
       "    .dataframe tbody tr th:only-of-type {\n",
       "        vertical-align: middle;\n",
       "    }\n",
       "\n",
       "    .dataframe tbody tr th {\n",
       "        vertical-align: top;\n",
       "    }\n",
       "\n",
       "    .dataframe thead th {\n",
       "        text-align: right;\n",
       "    }\n",
       "</style>\n",
       "<table border=\"1\" class=\"dataframe\">\n",
       "  <thead>\n",
       "    <tr style=\"text-align: right;\">\n",
       "      <th></th>\n",
       "      <th>catchment_area</th>\n",
       "      <th>stuart_driver_id</th>\n",
       "    </tr>\n",
       "  </thead>\n",
       "  <tbody>\n",
       "    <tr>\n",
       "      <th>36</th>\n",
       "      <td>London Outer NE</td>\n",
       "      <td>997</td>\n",
       "    </tr>\n",
       "    <tr>\n",
       "      <th>35</th>\n",
       "      <td>London Outer N</td>\n",
       "      <td>975</td>\n",
       "    </tr>\n",
       "    <tr>\n",
       "      <th>40</th>\n",
       "      <td>London Outer Upper NW</td>\n",
       "      <td>845</td>\n",
       "    </tr>\n",
       "    <tr>\n",
       "      <th>30</th>\n",
       "      <td>London Inner S</td>\n",
       "      <td>794</td>\n",
       "    </tr>\n",
       "    <tr>\n",
       "      <th>37</th>\n",
       "      <td>London Outer S</td>\n",
       "      <td>619</td>\n",
       "    </tr>\n",
       "  </tbody>\n",
       "</table>\n",
       "</div>"
      ],
      "text/plain": [
       "           catchment_area  stuart_driver_id\n",
       "36        London Outer NE               997\n",
       "35         London Outer N               975\n",
       "40  London Outer Upper NW               845\n",
       "30         London Inner S               794\n",
       "37         London Outer S               619"
      ]
     },
     "execution_count": 451,
     "metadata": {},
     "output_type": "execute_result"
    }
   ],
   "source": [
    "# Sorting values in descending order\n",
    "top_5_CA = top_5_CA.sort_values(by='stuart_driver_id', ascending=False)\n",
    "top_5_CA.head(5)"
   ]
  },
  {
   "cell_type": "code",
   "execution_count": 452,
   "metadata": {},
   "outputs": [
    {
     "data": {
      "application/vnd.plotly.v1+json": {
       "config": {
        "plotlyServerURL": "https://plot.ly"
       },
       "data": [
        {
         "alignmentgroup": "True",
         "hovertemplate": "catchment_area=%{x}<br>stuart_driver_id=%{text}<extra></extra>",
         "legendgroup": "",
         "marker": {
          "color": "#636efa",
          "pattern": {
           "shape": ""
          }
         },
         "name": "",
         "offsetgroup": "",
         "orientation": "v",
         "showlegend": false,
         "text": [
          997,
          975,
          845,
          794,
          619,
          615
         ],
         "textposition": "auto",
         "type": "bar",
         "x": [
          "London Outer NE",
          "London Outer N",
          "London Outer Upper NW",
          "London Inner S",
          "London Outer S",
          "London Inner N"
         ],
         "xaxis": "x",
         "y": [
          997,
          975,
          845,
          794,
          619,
          615
         ],
         "yaxis": "y"
        }
       ],
       "layout": {
        "autosize": true,
        "barmode": "relative",
        "legend": {
         "tracegroupgap": 0
        },
        "template": {
         "data": {
          "bar": [
           {
            "error_x": {
             "color": "#2a3f5f"
            },
            "error_y": {
             "color": "#2a3f5f"
            },
            "marker": {
             "line": {
              "color": "#E5ECF6",
              "width": 0.5
             },
             "pattern": {
              "fillmode": "overlay",
              "size": 10,
              "solidity": 0.2
             }
            },
            "type": "bar"
           }
          ],
          "barpolar": [
           {
            "marker": {
             "line": {
              "color": "#E5ECF6",
              "width": 0.5
             },
             "pattern": {
              "fillmode": "overlay",
              "size": 10,
              "solidity": 0.2
             }
            },
            "type": "barpolar"
           }
          ],
          "carpet": [
           {
            "aaxis": {
             "endlinecolor": "#2a3f5f",
             "gridcolor": "white",
             "linecolor": "white",
             "minorgridcolor": "white",
             "startlinecolor": "#2a3f5f"
            },
            "baxis": {
             "endlinecolor": "#2a3f5f",
             "gridcolor": "white",
             "linecolor": "white",
             "minorgridcolor": "white",
             "startlinecolor": "#2a3f5f"
            },
            "type": "carpet"
           }
          ],
          "choropleth": [
           {
            "colorbar": {
             "outlinewidth": 0,
             "ticks": ""
            },
            "type": "choropleth"
           }
          ],
          "contour": [
           {
            "colorbar": {
             "outlinewidth": 0,
             "ticks": ""
            },
            "colorscale": [
             [
              0,
              "#0d0887"
             ],
             [
              0.1111111111111111,
              "#46039f"
             ],
             [
              0.2222222222222222,
              "#7201a8"
             ],
             [
              0.3333333333333333,
              "#9c179e"
             ],
             [
              0.4444444444444444,
              "#bd3786"
             ],
             [
              0.5555555555555556,
              "#d8576b"
             ],
             [
              0.6666666666666666,
              "#ed7953"
             ],
             [
              0.7777777777777778,
              "#fb9f3a"
             ],
             [
              0.8888888888888888,
              "#fdca26"
             ],
             [
              1,
              "#f0f921"
             ]
            ],
            "type": "contour"
           }
          ],
          "contourcarpet": [
           {
            "colorbar": {
             "outlinewidth": 0,
             "ticks": ""
            },
            "type": "contourcarpet"
           }
          ],
          "heatmap": [
           {
            "colorbar": {
             "outlinewidth": 0,
             "ticks": ""
            },
            "colorscale": [
             [
              0,
              "#0d0887"
             ],
             [
              0.1111111111111111,
              "#46039f"
             ],
             [
              0.2222222222222222,
              "#7201a8"
             ],
             [
              0.3333333333333333,
              "#9c179e"
             ],
             [
              0.4444444444444444,
              "#bd3786"
             ],
             [
              0.5555555555555556,
              "#d8576b"
             ],
             [
              0.6666666666666666,
              "#ed7953"
             ],
             [
              0.7777777777777778,
              "#fb9f3a"
             ],
             [
              0.8888888888888888,
              "#fdca26"
             ],
             [
              1,
              "#f0f921"
             ]
            ],
            "type": "heatmap"
           }
          ],
          "heatmapgl": [
           {
            "colorbar": {
             "outlinewidth": 0,
             "ticks": ""
            },
            "colorscale": [
             [
              0,
              "#0d0887"
             ],
             [
              0.1111111111111111,
              "#46039f"
             ],
             [
              0.2222222222222222,
              "#7201a8"
             ],
             [
              0.3333333333333333,
              "#9c179e"
             ],
             [
              0.4444444444444444,
              "#bd3786"
             ],
             [
              0.5555555555555556,
              "#d8576b"
             ],
             [
              0.6666666666666666,
              "#ed7953"
             ],
             [
              0.7777777777777778,
              "#fb9f3a"
             ],
             [
              0.8888888888888888,
              "#fdca26"
             ],
             [
              1,
              "#f0f921"
             ]
            ],
            "type": "heatmapgl"
           }
          ],
          "histogram": [
           {
            "marker": {
             "pattern": {
              "fillmode": "overlay",
              "size": 10,
              "solidity": 0.2
             }
            },
            "type": "histogram"
           }
          ],
          "histogram2d": [
           {
            "colorbar": {
             "outlinewidth": 0,
             "ticks": ""
            },
            "colorscale": [
             [
              0,
              "#0d0887"
             ],
             [
              0.1111111111111111,
              "#46039f"
             ],
             [
              0.2222222222222222,
              "#7201a8"
             ],
             [
              0.3333333333333333,
              "#9c179e"
             ],
             [
              0.4444444444444444,
              "#bd3786"
             ],
             [
              0.5555555555555556,
              "#d8576b"
             ],
             [
              0.6666666666666666,
              "#ed7953"
             ],
             [
              0.7777777777777778,
              "#fb9f3a"
             ],
             [
              0.8888888888888888,
              "#fdca26"
             ],
             [
              1,
              "#f0f921"
             ]
            ],
            "type": "histogram2d"
           }
          ],
          "histogram2dcontour": [
           {
            "colorbar": {
             "outlinewidth": 0,
             "ticks": ""
            },
            "colorscale": [
             [
              0,
              "#0d0887"
             ],
             [
              0.1111111111111111,
              "#46039f"
             ],
             [
              0.2222222222222222,
              "#7201a8"
             ],
             [
              0.3333333333333333,
              "#9c179e"
             ],
             [
              0.4444444444444444,
              "#bd3786"
             ],
             [
              0.5555555555555556,
              "#d8576b"
             ],
             [
              0.6666666666666666,
              "#ed7953"
             ],
             [
              0.7777777777777778,
              "#fb9f3a"
             ],
             [
              0.8888888888888888,
              "#fdca26"
             ],
             [
              1,
              "#f0f921"
             ]
            ],
            "type": "histogram2dcontour"
           }
          ],
          "mesh3d": [
           {
            "colorbar": {
             "outlinewidth": 0,
             "ticks": ""
            },
            "type": "mesh3d"
           }
          ],
          "parcoords": [
           {
            "line": {
             "colorbar": {
              "outlinewidth": 0,
              "ticks": ""
             }
            },
            "type": "parcoords"
           }
          ],
          "pie": [
           {
            "automargin": true,
            "type": "pie"
           }
          ],
          "scatter": [
           {
            "marker": {
             "colorbar": {
              "outlinewidth": 0,
              "ticks": ""
             }
            },
            "type": "scatter"
           }
          ],
          "scatter3d": [
           {
            "line": {
             "colorbar": {
              "outlinewidth": 0,
              "ticks": ""
             }
            },
            "marker": {
             "colorbar": {
              "outlinewidth": 0,
              "ticks": ""
             }
            },
            "type": "scatter3d"
           }
          ],
          "scattercarpet": [
           {
            "marker": {
             "colorbar": {
              "outlinewidth": 0,
              "ticks": ""
             }
            },
            "type": "scattercarpet"
           }
          ],
          "scattergeo": [
           {
            "marker": {
             "colorbar": {
              "outlinewidth": 0,
              "ticks": ""
             }
            },
            "type": "scattergeo"
           }
          ],
          "scattergl": [
           {
            "marker": {
             "colorbar": {
              "outlinewidth": 0,
              "ticks": ""
             }
            },
            "type": "scattergl"
           }
          ],
          "scattermapbox": [
           {
            "marker": {
             "colorbar": {
              "outlinewidth": 0,
              "ticks": ""
             }
            },
            "type": "scattermapbox"
           }
          ],
          "scatterpolar": [
           {
            "marker": {
             "colorbar": {
              "outlinewidth": 0,
              "ticks": ""
             }
            },
            "type": "scatterpolar"
           }
          ],
          "scatterpolargl": [
           {
            "marker": {
             "colorbar": {
              "outlinewidth": 0,
              "ticks": ""
             }
            },
            "type": "scatterpolargl"
           }
          ],
          "scatterternary": [
           {
            "marker": {
             "colorbar": {
              "outlinewidth": 0,
              "ticks": ""
             }
            },
            "type": "scatterternary"
           }
          ],
          "surface": [
           {
            "colorbar": {
             "outlinewidth": 0,
             "ticks": ""
            },
            "colorscale": [
             [
              0,
              "#0d0887"
             ],
             [
              0.1111111111111111,
              "#46039f"
             ],
             [
              0.2222222222222222,
              "#7201a8"
             ],
             [
              0.3333333333333333,
              "#9c179e"
             ],
             [
              0.4444444444444444,
              "#bd3786"
             ],
             [
              0.5555555555555556,
              "#d8576b"
             ],
             [
              0.6666666666666666,
              "#ed7953"
             ],
             [
              0.7777777777777778,
              "#fb9f3a"
             ],
             [
              0.8888888888888888,
              "#fdca26"
             ],
             [
              1,
              "#f0f921"
             ]
            ],
            "type": "surface"
           }
          ],
          "table": [
           {
            "cells": {
             "fill": {
              "color": "#EBF0F8"
             },
             "line": {
              "color": "white"
             }
            },
            "header": {
             "fill": {
              "color": "#C8D4E3"
             },
             "line": {
              "color": "white"
             }
            },
            "type": "table"
           }
          ]
         },
         "layout": {
          "annotationdefaults": {
           "arrowcolor": "#2a3f5f",
           "arrowhead": 0,
           "arrowwidth": 1
          },
          "autotypenumbers": "strict",
          "coloraxis": {
           "colorbar": {
            "outlinewidth": 0,
            "ticks": ""
           }
          },
          "colorscale": {
           "diverging": [
            [
             0,
             "#8e0152"
            ],
            [
             0.1,
             "#c51b7d"
            ],
            [
             0.2,
             "#de77ae"
            ],
            [
             0.3,
             "#f1b6da"
            ],
            [
             0.4,
             "#fde0ef"
            ],
            [
             0.5,
             "#f7f7f7"
            ],
            [
             0.6,
             "#e6f5d0"
            ],
            [
             0.7,
             "#b8e186"
            ],
            [
             0.8,
             "#7fbc41"
            ],
            [
             0.9,
             "#4d9221"
            ],
            [
             1,
             "#276419"
            ]
           ],
           "sequential": [
            [
             0,
             "#0d0887"
            ],
            [
             0.1111111111111111,
             "#46039f"
            ],
            [
             0.2222222222222222,
             "#7201a8"
            ],
            [
             0.3333333333333333,
             "#9c179e"
            ],
            [
             0.4444444444444444,
             "#bd3786"
            ],
            [
             0.5555555555555556,
             "#d8576b"
            ],
            [
             0.6666666666666666,
             "#ed7953"
            ],
            [
             0.7777777777777778,
             "#fb9f3a"
            ],
            [
             0.8888888888888888,
             "#fdca26"
            ],
            [
             1,
             "#f0f921"
            ]
           ],
           "sequentialminus": [
            [
             0,
             "#0d0887"
            ],
            [
             0.1111111111111111,
             "#46039f"
            ],
            [
             0.2222222222222222,
             "#7201a8"
            ],
            [
             0.3333333333333333,
             "#9c179e"
            ],
            [
             0.4444444444444444,
             "#bd3786"
            ],
            [
             0.5555555555555556,
             "#d8576b"
            ],
            [
             0.6666666666666666,
             "#ed7953"
            ],
            [
             0.7777777777777778,
             "#fb9f3a"
            ],
            [
             0.8888888888888888,
             "#fdca26"
            ],
            [
             1,
             "#f0f921"
            ]
           ]
          },
          "colorway": [
           "#636efa",
           "#EF553B",
           "#00cc96",
           "#ab63fa",
           "#FFA15A",
           "#19d3f3",
           "#FF6692",
           "#B6E880",
           "#FF97FF",
           "#FECB52"
          ],
          "font": {
           "color": "#2a3f5f"
          },
          "geo": {
           "bgcolor": "white",
           "lakecolor": "white",
           "landcolor": "#E5ECF6",
           "showlakes": true,
           "showland": true,
           "subunitcolor": "white"
          },
          "hoverlabel": {
           "align": "left"
          },
          "hovermode": "closest",
          "mapbox": {
           "style": "light"
          },
          "paper_bgcolor": "white",
          "plot_bgcolor": "#E5ECF6",
          "polar": {
           "angularaxis": {
            "gridcolor": "white",
            "linecolor": "white",
            "ticks": ""
           },
           "bgcolor": "#E5ECF6",
           "radialaxis": {
            "gridcolor": "white",
            "linecolor": "white",
            "ticks": ""
           }
          },
          "scene": {
           "xaxis": {
            "backgroundcolor": "#E5ECF6",
            "gridcolor": "white",
            "gridwidth": 2,
            "linecolor": "white",
            "showbackground": true,
            "ticks": "",
            "zerolinecolor": "white"
           },
           "yaxis": {
            "backgroundcolor": "#E5ECF6",
            "gridcolor": "white",
            "gridwidth": 2,
            "linecolor": "white",
            "showbackground": true,
            "ticks": "",
            "zerolinecolor": "white"
           },
           "zaxis": {
            "backgroundcolor": "#E5ECF6",
            "gridcolor": "white",
            "gridwidth": 2,
            "linecolor": "white",
            "showbackground": true,
            "ticks": "",
            "zerolinecolor": "white"
           }
          },
          "shapedefaults": {
           "line": {
            "color": "#2a3f5f"
           }
          },
          "ternary": {
           "aaxis": {
            "gridcolor": "white",
            "linecolor": "white",
            "ticks": ""
           },
           "baxis": {
            "gridcolor": "white",
            "linecolor": "white",
            "ticks": ""
           },
           "bgcolor": "#E5ECF6",
           "caxis": {
            "gridcolor": "white",
            "linecolor": "white",
            "ticks": ""
           }
          },
          "title": {
           "x": 0.05
          },
          "xaxis": {
           "automargin": true,
           "gridcolor": "white",
           "linecolor": "white",
           "ticks": "",
           "title": {
            "standoff": 15
           },
           "zerolinecolor": "white",
           "zerolinewidth": 2
          },
          "yaxis": {
           "automargin": true,
           "gridcolor": "white",
           "linecolor": "white",
           "ticks": "",
           "title": {
            "standoff": 15
           },
           "zerolinecolor": "white",
           "zerolinewidth": 2
          }
         }
        },
        "title": {
         "text": "Top Six CA Couriers Live In"
        },
        "xaxis": {
         "anchor": "y",
         "autorange": true,
         "domain": [
          0,
          1
         ],
         "range": [
          -0.5,
          5.5
         ],
         "title": {
          "text": "catchment_area"
         },
         "type": "category"
        },
        "yaxis": {
         "anchor": "x",
         "autorange": true,
         "domain": [
          0,
          1
         ],
         "range": [
          0,
          1049.4736842105262
         ],
         "title": {
          "text": "stuart_driver_id"
         },
         "type": "linear"
        }
       }
      },
      "image/png": "[encoded data removed]",
      "text/html": [
       "<div>                            <div id=\"e3ae8ab0-fd8d-4d6f-9fd2-dc790a7af3fa\" class=\"plotly-graph-div\" style=\"height:525px; width:100%;\"></div>            <script type=\"text/javascript\">                require([\"plotly\"], function(Plotly) {                    window.PLOTLYENV=window.PLOTLYENV || {};                                    if (document.getElementById(\"e3ae8ab0-fd8d-4d6f-9fd2-dc790a7af3fa\")) {                    Plotly.newPlot(                        \"e3ae8ab0-fd8d-4d6f-9fd2-dc790a7af3fa\",                        [{\"alignmentgroup\":\"True\",\"hovertemplate\":\"catchment_area=%{x}<br>stuart_driver_id=%{text}<extra></extra>\",\"legendgroup\":\"\",\"marker\":{\"color\":\"#636efa\",\"pattern\":{\"shape\":\"\"}},\"name\":\"\",\"offsetgroup\":\"\",\"orientation\":\"v\",\"showlegend\":false,\"text\":[997.0,975.0,845.0,794.0,619.0,615.0],\"textposition\":\"auto\",\"x\":[\"London Outer NE\",\"London Outer N\",\"London Outer Upper NW\",\"London Inner S\",\"London Outer S\",\"London Inner N\"],\"xaxis\":\"x\",\"y\":[997,975,845,794,619,615],\"yaxis\":\"y\",\"type\":\"bar\"}],                        {\"template\":{\"data\":{\"bar\":[{\"error_x\":{\"color\":\"#2a3f5f\"},\"error_y\":{\"color\":\"#2a3f5f\"},\"marker\":{\"line\":{\"color\":\"#E5ECF6\",\"width\":0.5},\"pattern\":{\"fillmode\":\"overlay\",\"size\":10,\"solidity\":0.2}},\"type\":\"bar\"}],\"barpolar\":[{\"marker\":{\"line\":{\"color\":\"#E5ECF6\",\"width\":0.5},\"pattern\":{\"fillmode\":\"overlay\",\"size\":10,\"solidity\":0.2}},\"type\":\"barpolar\"}],\"carpet\":[{\"aaxis\":{\"endlinecolor\":\"#2a3f5f\",\"gridcolor\":\"white\",\"linecolor\":\"white\",\"minorgridcolor\":\"white\",\"startlinecolor\":\"#2a3f5f\"},\"baxis\":{\"endlinecolor\":\"#2a3f5f\",\"gridcolor\":\"white\",\"linecolor\":\"white\",\"minorgridcolor\":\"white\",\"startlinecolor\":\"#2a3f5f\"},\"type\":\"carpet\"}],\"choropleth\":[{\"colorbar\":{\"outlinewidth\":0,\"ticks\":\"\"},\"type\":\"choropleth\"}],\"contour\":[{\"colorbar\":{\"outlinewidth\":0,\"ticks\":\"\"},\"colorscale\":[[0.0,\"#0d0887\"],[0.1111111111111111,\"#46039f\"],[0.2222222222222222,\"#7201a8\"],[0.3333333333333333,\"#9c179e\"],[0.4444444444444444,\"#bd3786\"],[0.5555555555555556,\"#d8576b\"],[0.6666666666666666,\"#ed7953\"],[0.7777777777777778,\"#fb9f3a\"],[0.8888888888888888,\"#fdca26\"],[1.0,\"#f0f921\"]],\"type\":\"contour\"}],\"contourcarpet\":[{\"colorbar\":{\"outlinewidth\":0,\"ticks\":\"\"},\"type\":\"contourcarpet\"}],\"heatmap\":[{\"colorbar\":{\"outlinewidth\":0,\"ticks\":\"\"},\"colorscale\":[[0.0,\"#0d0887\"],[0.1111111111111111,\"#46039f\"],[0.2222222222222222,\"#7201a8\"],[0.3333333333333333,\"#9c179e\"],[0.4444444444444444,\"#bd3786\"],[0.5555555555555556,\"#d8576b\"],[0.6666666666666666,\"#ed7953\"],[0.7777777777777778,\"#fb9f3a\"],[0.8888888888888888,\"#fdca26\"],[1.0,\"#f0f921\"]],\"type\":\"heatmap\"}],\"heatmapgl\":[{\"colorbar\":{\"outlinewidth\":0,\"ticks\":\"\"},\"colorscale\":[[0.0,\"#0d0887\"],[0.1111111111111111,\"#46039f\"],[0.2222222222222222,\"#7201a8\"],[0.3333333333333333,\"#9c179e\"],[0.4444444444444444,\"#bd3786\"],[0.5555555555555556,\"#d8576b\"],[0.6666666666666666,\"#ed7953\"],[0.7777777777777778,\"#fb9f3a\"],[0.8888888888888888,\"#fdca26\"],[1.0,\"#f0f921\"]],\"type\":\"heatmapgl\"}],\"histogram\":[{\"marker\":{\"pattern\":{\"fillmode\":\"overlay\",\"size\":10,\"solidity\":0.2}},\"type\":\"histogram\"}],\"histogram2d\":[{\"colorbar\":{\"outlinewidth\":0,\"ticks\":\"\"},\"colorscale\":[[0.0,\"#0d0887\"],[0.1111111111111111,\"#46039f\"],[0.2222222222222222,\"#7201a8\"],[0.3333333333333333,\"#9c179e\"],[0.4444444444444444,\"#bd3786\"],[0.5555555555555556,\"#d8576b\"],[0.6666666666666666,\"#ed7953\"],[0.7777777777777778,\"#fb9f3a\"],[0.8888888888888888,\"#fdca26\"],[1.0,\"#f0f921\"]],\"type\":\"histogram2d\"}],\"histogram2dcontour\":[{\"colorbar\":{\"outlinewidth\":0,\"ticks\":\"\"},\"colorscale\":[[0.0,\"#0d0887\"],[0.1111111111111111,\"#46039f\"],[0.2222222222222222,\"#7201a8\"],[0.3333333333333333,\"#9c179e\"],[0.4444444444444444,\"#bd3786\"],[0.5555555555555556,\"#d8576b\"],[0.6666666666666666,\"#ed7953\"],[0.7777777777777778,\"#fb9f3a\"],[0.8888888888888888,\"#fdca26\"],[1.0,\"#f0f921\"]],\"type\":\"histogram2dcontour\"}],\"mesh3d\":[{\"colorbar\":{\"outlinewidth\":0,\"ticks\":\"\"},\"type\":\"mesh3d\"}],\"parcoords\":[{\"line\":{\"colorbar\":{\"outlinewidth\":0,\"ticks\":\"\"}},\"type\":\"parcoords\"}],\"pie\":[{\"automargin\":true,\"type\":\"pie\"}],\"scatter\":[{\"marker\":{\"colorbar\":{\"outlinewidth\":0,\"ticks\":\"\"}},\"type\":\"scatter\"}],\"scatter3d\":[{\"line\":{\"colorbar\":{\"outlinewidth\":0,\"ticks\":\"\"}},\"marker\":{\"colorbar\":{\"outlinewidth\":0,\"ticks\":\"\"}},\"type\":\"scatter3d\"}],\"scattercarpet\":[{\"marker\":{\"colorbar\":{\"outlinewidth\":0,\"ticks\":\"\"}},\"type\":\"scattercarpet\"}],\"scattergeo\":[{\"marker\":{\"colorbar\":{\"outlinewidth\":0,\"ticks\":\"\"}},\"type\":\"scattergeo\"}],\"scattergl\":[{\"marker\":{\"colorbar\":{\"outlinewidth\":0,\"ticks\":\"\"}},\"type\":\"scattergl\"}],\"scattermapbox\":[{\"marker\":{\"colorbar\":{\"outlinewidth\":0,\"ticks\":\"\"}},\"type\":\"scattermapbox\"}],\"scatterpolar\":[{\"marker\":{\"colorbar\":{\"outlinewidth\":0,\"ticks\":\"\"}},\"type\":\"scatterpolar\"}],\"scatterpolargl\":[{\"marker\":{\"colorbar\":{\"outlinewidth\":0,\"ticks\":\"\"}},\"type\":\"scatterpolargl\"}],\"scatterternary\":[{\"marker\":{\"colorbar\":{\"outlinewidth\":0,\"ticks\":\"\"}},\"type\":\"scatterternary\"}],\"surface\":[{\"colorbar\":{\"outlinewidth\":0,\"ticks\":\"\"},\"colorscale\":[[0.0,\"#0d0887\"],[0.1111111111111111,\"#46039f\"],[0.2222222222222222,\"#7201a8\"],[0.3333333333333333,\"#9c179e\"],[0.4444444444444444,\"#bd3786\"],[0.5555555555555556,\"#d8576b\"],[0.6666666666666666,\"#ed7953\"],[0.7777777777777778,\"#fb9f3a\"],[0.8888888888888888,\"#fdca26\"],[1.0,\"#f0f921\"]],\"type\":\"surface\"}],\"table\":[{\"cells\":{\"fill\":{\"color\":\"#EBF0F8\"},\"line\":{\"color\":\"white\"}},\"header\":{\"fill\":{\"color\":\"#C8D4E3\"},\"line\":{\"color\":\"white\"}},\"type\":\"table\"}]},\"layout\":{\"annotationdefaults\":{\"arrowcolor\":\"#2a3f5f\",\"arrowhead\":0,\"arrowwidth\":1},\"autotypenumbers\":\"strict\",\"coloraxis\":{\"colorbar\":{\"outlinewidth\":0,\"ticks\":\"\"}},\"colorscale\":{\"diverging\":[[0,\"#8e0152\"],[0.1,\"#c51b7d\"],[0.2,\"#de77ae\"],[0.3,\"#f1b6da\"],[0.4,\"#fde0ef\"],[0.5,\"#f7f7f7\"],[0.6,\"#e6f5d0\"],[0.7,\"#b8e186\"],[0.8,\"#7fbc41\"],[0.9,\"#4d9221\"],[1,\"#276419\"]],\"sequential\":[[0.0,\"#0d0887\"],[0.1111111111111111,\"#46039f\"],[0.2222222222222222,\"#7201a8\"],[0.3333333333333333,\"#9c179e\"],[0.4444444444444444,\"#bd3786\"],[0.5555555555555556,\"#d8576b\"],[0.6666666666666666,\"#ed7953\"],[0.7777777777777778,\"#fb9f3a\"],[0.8888888888888888,\"#fdca26\"],[1.0,\"#f0f921\"]],\"sequentialminus\":[[0.0,\"#0d0887\"],[0.1111111111111111,\"#46039f\"],[0.2222222222222222,\"#7201a8\"],[0.3333333333333333,\"#9c179e\"],[0.4444444444444444,\"#bd3786\"],[0.5555555555555556,\"#d8576b\"],[0.6666666666666666,\"#ed7953\"],[0.7777777777777778,\"#fb9f3a\"],[0.8888888888888888,\"#fdca26\"],[1.0,\"#f0f921\"]]},\"colorway\":[\"#636efa\",\"#EF553B\",\"#00cc96\",\"#ab63fa\",\"#FFA15A\",\"#19d3f3\",\"#FF6692\",\"#B6E880\",\"#FF97FF\",\"#FECB52\"],\"font\":{\"color\":\"#2a3f5f\"},\"geo\":{\"bgcolor\":\"white\",\"lakecolor\":\"white\",\"landcolor\":\"#E5ECF6\",\"showlakes\":true,\"showland\":true,\"subunitcolor\":\"white\"},\"hoverlabel\":{\"align\":\"left\"},\"hovermode\":\"closest\",\"mapbox\":{\"style\":\"light\"},\"paper_bgcolor\":\"white\",\"plot_bgcolor\":\"#E5ECF6\",\"polar\":{\"angularaxis\":{\"gridcolor\":\"white\",\"linecolor\":\"white\",\"ticks\":\"\"},\"bgcolor\":\"#E5ECF6\",\"radialaxis\":{\"gridcolor\":\"white\",\"linecolor\":\"white\",\"ticks\":\"\"}},\"scene\":{\"xaxis\":{\"backgroundcolor\":\"#E5ECF6\",\"gridcolor\":\"white\",\"gridwidth\":2,\"linecolor\":\"white\",\"showbackground\":true,\"ticks\":\"\",\"zerolinecolor\":\"white\"},\"yaxis\":{\"backgroundcolor\":\"#E5ECF6\",\"gridcolor\":\"white\",\"gridwidth\":2,\"linecolor\":\"white\",\"showbackground\":true,\"ticks\":\"\",\"zerolinecolor\":\"white\"},\"zaxis\":{\"backgroundcolor\":\"#E5ECF6\",\"gridcolor\":\"white\",\"gridwidth\":2,\"linecolor\":\"white\",\"showbackground\":true,\"ticks\":\"\",\"zerolinecolor\":\"white\"}},\"shapedefaults\":{\"line\":{\"color\":\"#2a3f5f\"}},\"ternary\":{\"aaxis\":{\"gridcolor\":\"white\",\"linecolor\":\"white\",\"ticks\":\"\"},\"baxis\":{\"gridcolor\":\"white\",\"linecolor\":\"white\",\"ticks\":\"\"},\"bgcolor\":\"#E5ECF6\",\"caxis\":{\"gridcolor\":\"white\",\"linecolor\":\"white\",\"ticks\":\"\"}},\"title\":{\"x\":0.05},\"xaxis\":{\"automargin\":true,\"gridcolor\":\"white\",\"linecolor\":\"white\",\"ticks\":\"\",\"title\":{\"standoff\":15},\"zerolinecolor\":\"white\",\"zerolinewidth\":2},\"yaxis\":{\"automargin\":true,\"gridcolor\":\"white\",\"linecolor\":\"white\",\"ticks\":\"\",\"title\":{\"standoff\":15},\"zerolinecolor\":\"white\",\"zerolinewidth\":2}}},\"xaxis\":{\"anchor\":\"y\",\"domain\":[0.0,1.0],\"title\":{\"text\":\"catchment_area\"}},\"yaxis\":{\"anchor\":\"x\",\"domain\":[0.0,1.0],\"title\":{\"text\":\"stuart_driver_id\"}},\"legend\":{\"tracegroupgap\":0},\"title\":{\"text\":\"Top Six CA Couriers Live In\"},\"barmode\":\"relative\"},                        {\"responsive\": true}                    ).then(function(){\n",
       "                            \n",
       "var gd = document.getElementById('e3ae8ab0-fd8d-4d6f-9fd2-dc790a7af3fa');\n",
       "var x = new MutationObserver(function (mutations, observer) {{\n",
       "        var display = window.getComputedStyle(gd).display;\n",
       "        if (!display || display === 'none') {{\n",
       "            console.log([gd, 'removed!']);\n",
       "            Plotly.purge(gd);\n",
       "            observer.disconnect();\n",
       "        }}\n",
       "}});\n",
       "\n",
       "// Listen for the removal of the full notebook cells\n",
       "var notebookContainer = gd.closest('#notebook-container');\n",
       "if (notebookContainer) {{\n",
       "    x.observe(notebookContainer, {childList: true});\n",
       "}}\n",
       "\n",
       "// Listen for the clearing of the current output cell\n",
       "var outputEl = gd.closest('.output');\n",
       "if (outputEl) {{\n",
       "    x.observe(outputEl, {childList: true});\n",
       "}}\n",
       "\n",
       "                        })                };                });            </script>        </div>"
      ]
     },
     "metadata": {},
     "output_type": "display_data"
    }
   ],
   "source": [
    "fig2 = px.bar(top_5_CA.head(6), x = 'catchment_area' , y = 'stuart_driver_id', title = 'Top Six CA Couriers Live In' , text = 'stuart_driver_id')\n",
    "fig2.show()"
   ]
  },
  {
   "cell_type": "markdown",
   "metadata": {},
   "source": [
    "# PC Mapping"
   ]
  },
  {
   "cell_type": "markdown",
   "metadata": {},
   "source": [
    "###  Database used:"
   ]
  },
  {
   "cell_type": "markdown",
   "metadata": {},
   "source": [
    "modeled_core.driver, \n",
    "modeled_core.delivery,\n",
    "modeled_core.zones,\n",
    "modeled_core.packages,\n",
    "modeled_core.location,\n",
    "ops.area,\n",
    "ops.uk_application_mapping"
   ]
  },
  {
   "cell_type": "code",
   "execution_count": 524,
   "metadata": {},
   "outputs": [
    {
     "name": "stdout",
     "output_type": "stream",
     "text": [
      "Connected to the DataWarehouse\n",
      "Result from query obtained\n",
      "Data stored in dataframe\n"
     ]
    }
   ],
   "source": [
    "query_2 = '''\n",
    "\n",
    "SELECT -------------------- Package\n",
    "       cd.driver_id,          -- stuart_driver_id\n",
    "    MIN(cd.valid_from_date) as earliest_date,\n",
    "       a.catchment_area as pu_CA,\n",
    "\n",
    "    ------------------  Driver\n",
    "       uam.postcode_found as driver_postCode,\n",
    "       ad.catchment_area as driver_CA,\n",
    "       count( distinct p.package_id) as no_packages,\n",
    "       uam.application_fountain_id\n",
    "\n",
    "FROM modeled_core.driver cd\n",
    "\n",
    "INNER JOIN modeled_core.zones z\n",
    "USING (zone_id)\n",
    "\n",
    "LEFT JOIN modeled_core.delivery d\n",
    "    ON cd.driver_id = d.driver_id\n",
    "\n",
    "LEFT JOIN modeled_core.package p\n",
    "    ON d.package_id = p.package_id\n",
    "\n",
    "LEFT JOIN modeled_core.location l\n",
    "    ON p.pu_location_id = l.location_id\n",
    "\n",
    "LEFT JOIN ops.area a\n",
    "    ON REPLACE(l.delivery_area_name , '_' , '') = a.area_name_cap -- pool area for packages\n",
    "\n",
    "LEFT JOIN ops.uk_application_mapping uam\n",
    "    ON uam.application_fountain_id = cd.applicant_fountain_id\n",
    "\n",
    "LEFT JOIN ops.area ad\n",
    "    ON uam.application_pool = ad.area_name_uscore   -- pool area for driver ca\n",
    "\n",
    "WHERE z.country_id = 2\n",
    "AND DATE(p.time_window_pu_start_utc) >= '2021-01-01'\n",
    "\n",
    "GROUP BY 1, 3, 4, 5, 7\n",
    "\n",
    "'''\n",
    "\n",
    "deliveries = get_data_from_warehouse(query_2)"
   ]
  },
  {
   "cell_type": "code",
   "execution_count": 525,
   "metadata": {},
   "outputs": [
    {
     "data": {
      "text/plain": [
       "(134122, 7)"
      ]
     },
     "execution_count": 525,
     "metadata": {},
     "output_type": "execute_result"
    }
   ],
   "source": [
    "# Getting multiple rows per driver as they can work in different catchment areas\n",
    "deliveries.shape"
   ]
  },
  {
   "cell_type": "code",
   "execution_count": 526,
   "metadata": {},
   "outputs": [
    {
     "data": {
      "text/plain": [
       "(134122, 7)"
      ]
     },
     "execution_count": 526,
     "metadata": {},
     "output_type": "execute_result"
    }
   ],
   "source": [
    "no_dup_deliveries = deliveries.drop_duplicates()\n",
    "no_dup_deliveries.shape\n",
    "# No duplicates"
   ]
  },
  {
   "cell_type": "code",
   "execution_count": 527,
   "metadata": {},
   "outputs": [
    {
     "data": {
      "text/plain": [
       "46481"
      ]
     },
     "execution_count": 527,
     "metadata": {},
     "output_type": "execute_result"
    }
   ],
   "source": [
    "no_dup_deliveries['driver_id'].nunique()"
   ]
  },
  {
   "cell_type": "code",
   "execution_count": 528,
   "metadata": {},
   "outputs": [
    {
     "data": {
      "text/plain": [
       "17554"
      ]
     },
     "execution_count": 528,
     "metadata": {},
     "output_type": "execute_result"
    }
   ],
   "source": [
    "# checking how many drivers have application_fountain_id as non-NULL\n",
    "no_dup_deliveries = no_dup_deliveries[no_dup_deliveries['application_fountain_id'].isnull()==False]\n",
    "no_dup_deliveries['driver_id'].nunique()\n",
    "\n",
    "\n",
    "# 14109 have application_fountain_id as non-NULL"
   ]
  },
  {
   "cell_type": "code",
   "execution_count": 529,
   "metadata": {},
   "outputs": [
    {
     "data": {
      "text/plain": [
       "69.27147990852663"
      ]
     },
     "execution_count": 529,
     "metadata": {},
     "output_type": "execute_result"
    }
   ],
   "source": [
    "# percentage of drivers who are not considered due to application_id\n",
    "(45915 - 14109)/45915 * 100"
   ]
  },
  {
   "cell_type": "code",
   "execution_count": 530,
   "metadata": {},
   "outputs": [],
   "source": [
    "# Generating a csv file with drivers and their deliveries\n",
    "no_dup_deliveries.to_csv('data/deliveries_and_catchement_areas.csv' , index = False )\n",
    "\n",
    "# Another way deliveries.to_csv('deliveries.csv') "
   ]
  },
  {
   "cell_type": "code",
   "execution_count": 531,
   "metadata": {},
   "outputs": [],
   "source": [
    "# Dropped all None values in driver_ca: Removing drivers who don't live in CA\n",
    "no_dup_deliveries = no_dup_deliveries[no_dup_deliveries['driver_ca'].isnull()==False]"
   ]
  },
  {
   "cell_type": "code",
   "execution_count": 532,
   "metadata": {},
   "outputs": [
    {
     "data": {
      "text/plain": [
       "14525"
      ]
     },
     "execution_count": 532,
     "metadata": {},
     "output_type": "execute_result"
    }
   ],
   "source": [
    "no_dup_deliveries['driver_id'].nunique()"
   ]
  },
  {
   "cell_type": "code",
   "execution_count": 462,
   "metadata": {},
   "outputs": [
    {
     "data": {
      "text/html": [
       "<div>\n",
       "<style scoped>\n",
       "    .dataframe tbody tr th:only-of-type {\n",
       "        vertical-align: middle;\n",
       "    }\n",
       "\n",
       "    .dataframe tbody tr th {\n",
       "        vertical-align: top;\n",
       "    }\n",
       "\n",
       "    .dataframe thead th {\n",
       "        text-align: right;\n",
       "    }\n",
       "</style>\n",
       "<table border=\"1\" class=\"dataframe\">\n",
       "  <thead>\n",
       "    <tr style=\"text-align: right;\">\n",
       "      <th></th>\n",
       "      <th>driver_id</th>\n",
       "      <th>earliest_date</th>\n",
       "      <th>pu_ca</th>\n",
       "      <th>driver_postcode</th>\n",
       "      <th>driver_ca</th>\n",
       "      <th>no_packages</th>\n",
       "      <th>application_fountain_id</th>\n",
       "    </tr>\n",
       "  </thead>\n",
       "  <tbody>\n",
       "    <tr>\n",
       "      <th>17</th>\n",
       "      <td>350292</td>\n",
       "      <td>2021-01-25</td>\n",
       "      <td>London Inner Upper NW</td>\n",
       "      <td>NW10 1NP</td>\n",
       "      <td>London Inner Upper NW</td>\n",
       "      <td>4232</td>\n",
       "      <td>672d7fdd-8e85-4be6-a609-9eddf585cf83</td>\n",
       "    </tr>\n",
       "    <tr>\n",
       "      <th>28</th>\n",
       "      <td>376918</td>\n",
       "      <td>2021-03-15</td>\n",
       "      <td>London Outer N</td>\n",
       "      <td>N17 8JX</td>\n",
       "      <td>London Outer N</td>\n",
       "      <td>62</td>\n",
       "      <td>60077b0e-d219-4e0d-9d3b-3d46b3114962</td>\n",
       "    </tr>\n",
       "    <tr>\n",
       "      <th>41</th>\n",
       "      <td>388483</td>\n",
       "      <td>2021-04-14</td>\n",
       "      <td>Nottingham North</td>\n",
       "      <td>NG6 0BP</td>\n",
       "      <td>Nottingham North</td>\n",
       "      <td>2630</td>\n",
       "      <td>37abbd20-3ed8-4d3e-a9ec-562fbafe9fd6</td>\n",
       "    </tr>\n",
       "    <tr>\n",
       "      <th>65</th>\n",
       "      <td>345788</td>\n",
       "      <td>2021-01-18</td>\n",
       "      <td>London Outer E</td>\n",
       "      <td>DA8 1FE</td>\n",
       "      <td>London Outer E</td>\n",
       "      <td>185</td>\n",
       "      <td>146a8a7e-8033-425d-9658-128ecf731487</td>\n",
       "    </tr>\n",
       "    <tr>\n",
       "      <th>78</th>\n",
       "      <td>374296</td>\n",
       "      <td>2021-03-09</td>\n",
       "      <td>London Inner Lower NW</td>\n",
       "      <td>TW3 2PB</td>\n",
       "      <td>London Border W</td>\n",
       "      <td>1585</td>\n",
       "      <td>761c4499-83c0-4a07-921a-676aaf5cba02</td>\n",
       "    </tr>\n",
       "  </tbody>\n",
       "</table>\n",
       "</div>"
      ],
      "text/plain": [
       "    driver_id earliest_date                  pu_ca driver_postcode  \\\n",
       "17     350292    2021-01-25  London Inner Upper NW        NW10 1NP   \n",
       "28     376918    2021-03-15         London Outer N         N17 8JX   \n",
       "41     388483    2021-04-14       Nottingham North         NG6 0BP   \n",
       "65     345788    2021-01-18         London Outer E         DA8 1FE   \n",
       "78     374296    2021-03-09  London Inner Lower NW         TW3 2PB   \n",
       "\n",
       "                driver_ca  no_packages               application_fountain_id  \n",
       "17  London Inner Upper NW         4232  672d7fdd-8e85-4be6-a609-9eddf585cf83  \n",
       "28         London Outer N           62  60077b0e-d219-4e0d-9d3b-3d46b3114962  \n",
       "41       Nottingham North         2630  37abbd20-3ed8-4d3e-a9ec-562fbafe9fd6  \n",
       "65         London Outer E          185  146a8a7e-8033-425d-9658-128ecf731487  \n",
       "78        London Border W         1585  761c4499-83c0-4a07-921a-676aaf5cba02  "
      ]
     },
     "execution_count": 462,
     "metadata": {},
     "output_type": "execute_result"
    }
   ],
   "source": [
    "no_dup_deliveries.head(5)"
   ]
  },
  {
   "cell_type": "code",
   "execution_count": 534,
   "metadata": {},
   "outputs": [
    {
     "data": {
      "text/plain": [
       "(36369, 7)"
      ]
     },
     "execution_count": 534,
     "metadata": {},
     "output_type": "execute_result"
    }
   ],
   "source": [
    "# One driver could do deliveries in multiple CA\n",
    "no_dup_deliveries.shape"
   ]
  },
  {
   "cell_type": "code",
   "execution_count": 535,
   "metadata": {},
   "outputs": [
    {
     "data": {
      "text/html": [
       "<div>\n",
       "<style scoped>\n",
       "    .dataframe tbody tr th:only-of-type {\n",
       "        vertical-align: middle;\n",
       "    }\n",
       "\n",
       "    .dataframe tbody tr th {\n",
       "        vertical-align: top;\n",
       "    }\n",
       "\n",
       "    .dataframe thead th {\n",
       "        text-align: right;\n",
       "    }\n",
       "</style>\n",
       "<table border=\"1\" class=\"dataframe\">\n",
       "  <thead>\n",
       "    <tr style=\"text-align: right;\">\n",
       "      <th></th>\n",
       "      <th>driver_id</th>\n",
       "      <th>earliest_date</th>\n",
       "      <th>pu_ca</th>\n",
       "      <th>driver_postcode</th>\n",
       "      <th>driver_ca</th>\n",
       "      <th>no_packages</th>\n",
       "      <th>application_fountain_id</th>\n",
       "    </tr>\n",
       "  </thead>\n",
       "  <tbody>\n",
       "    <tr>\n",
       "      <th>45705</th>\n",
       "      <td>412933</td>\n",
       "      <td>2021-06-14</td>\n",
       "      <td>Milton Keynes</td>\n",
       "      <td>PL1 5AE</td>\n",
       "      <td>Plymouth</td>\n",
       "      <td>202</td>\n",
       "      <td>934961ce-3b80-4144-9287-a8257ff2a0aa</td>\n",
       "    </tr>\n",
       "    <tr>\n",
       "      <th>65424</th>\n",
       "      <td>412933</td>\n",
       "      <td>2021-06-14</td>\n",
       "      <td>Plymstock</td>\n",
       "      <td>PL1 5AE</td>\n",
       "      <td>Plymouth</td>\n",
       "      <td>291</td>\n",
       "      <td>934961ce-3b80-4144-9287-a8257ff2a0aa</td>\n",
       "    </tr>\n",
       "    <tr>\n",
       "      <th>81825</th>\n",
       "      <td>412933</td>\n",
       "      <td>2021-06-14</td>\n",
       "      <td>Plymouth</td>\n",
       "      <td>PL1 5AE</td>\n",
       "      <td>Plymouth</td>\n",
       "      <td>383</td>\n",
       "      <td>934961ce-3b80-4144-9287-a8257ff2a0aa</td>\n",
       "    </tr>\n",
       "  </tbody>\n",
       "</table>\n",
       "</div>"
      ],
      "text/plain": [
       "       driver_id earliest_date          pu_ca driver_postcode driver_ca  \\\n",
       "45705     412933    2021-06-14  Milton Keynes         PL1 5AE  Plymouth   \n",
       "65424     412933    2021-06-14      Plymstock         PL1 5AE  Plymouth   \n",
       "81825     412933    2021-06-14       Plymouth         PL1 5AE  Plymouth   \n",
       "\n",
       "       no_packages               application_fountain_id  \n",
       "45705          202  934961ce-3b80-4144-9287-a8257ff2a0aa  \n",
       "65424          291  934961ce-3b80-4144-9287-a8257ff2a0aa  \n",
       "81825          383  934961ce-3b80-4144-9287-a8257ff2a0aa  "
      ]
     },
     "execution_count": 535,
     "metadata": {},
     "output_type": "execute_result"
    }
   ],
   "source": [
    "# Checking example. Making sure there are no duplicates\n",
    "no_dup_deliveries[no_dup_deliveries['driver_id']== 412933]"
   ]
  },
  {
   "cell_type": "code",
   "execution_count": 536,
   "metadata": {},
   "outputs": [
    {
     "data": {
      "text/html": [
       "<div>\n",
       "<style scoped>\n",
       "    .dataframe tbody tr th:only-of-type {\n",
       "        vertical-align: middle;\n",
       "    }\n",
       "\n",
       "    .dataframe tbody tr th {\n",
       "        vertical-align: top;\n",
       "    }\n",
       "\n",
       "    .dataframe thead th {\n",
       "        text-align: right;\n",
       "    }\n",
       "</style>\n",
       "<table border=\"1\" class=\"dataframe\">\n",
       "  <thead>\n",
       "    <tr style=\"text-align: right;\">\n",
       "      <th></th>\n",
       "      <th>driver_id</th>\n",
       "      <th>earliest_date</th>\n",
       "      <th>pu_ca</th>\n",
       "      <th>driver_postcode</th>\n",
       "      <th>driver_ca</th>\n",
       "      <th>no_packages_x</th>\n",
       "      <th>application_fountain_id</th>\n",
       "      <th>no_packages_y</th>\n",
       "    </tr>\n",
       "  </thead>\n",
       "  <tbody>\n",
       "    <tr>\n",
       "      <th>0</th>\n",
       "      <td>345954</td>\n",
       "      <td>2021-01-18</td>\n",
       "      <td>Teesside</td>\n",
       "      <td>TS1 4PY</td>\n",
       "      <td>Teesside</td>\n",
       "      <td>4430</td>\n",
       "      <td>2632459a-cc59-4e20-a034-9051d9f94232</td>\n",
       "      <td>4480</td>\n",
       "    </tr>\n",
       "    <tr>\n",
       "      <th>1</th>\n",
       "      <td>345954</td>\n",
       "      <td>2021-01-18</td>\n",
       "      <td>Newcastle</td>\n",
       "      <td>TS1 4PY</td>\n",
       "      <td>Teesside</td>\n",
       "      <td>21</td>\n",
       "      <td>2632459a-cc59-4e20-a034-9051d9f94232</td>\n",
       "      <td>4480</td>\n",
       "    </tr>\n",
       "    <tr>\n",
       "      <th>2</th>\n",
       "      <td>345954</td>\n",
       "      <td>2021-01-18</td>\n",
       "      <td>Gateshead</td>\n",
       "      <td>TS1 4PY</td>\n",
       "      <td>Teesside</td>\n",
       "      <td>29</td>\n",
       "      <td>2632459a-cc59-4e20-a034-9051d9f94232</td>\n",
       "      <td>4480</td>\n",
       "    </tr>\n",
       "    <tr>\n",
       "      <th>3</th>\n",
       "      <td>350348</td>\n",
       "      <td>2021-01-25</td>\n",
       "      <td>London Inner N</td>\n",
       "      <td>NW3 3PL</td>\n",
       "      <td>London Inner N</td>\n",
       "      <td>45</td>\n",
       "      <td>bd93df89-48d7-481b-9b13-f46a29a82b14</td>\n",
       "      <td>474</td>\n",
       "    </tr>\n",
       "    <tr>\n",
       "      <th>4</th>\n",
       "      <td>350348</td>\n",
       "      <td>2021-01-25</td>\n",
       "      <td>London Inner Upper NW</td>\n",
       "      <td>NW3 3PL</td>\n",
       "      <td>London Inner N</td>\n",
       "      <td>425</td>\n",
       "      <td>bd93df89-48d7-481b-9b13-f46a29a82b14</td>\n",
       "      <td>474</td>\n",
       "    </tr>\n",
       "  </tbody>\n",
       "</table>\n",
       "</div>"
      ],
      "text/plain": [
       "   driver_id earliest_date                  pu_ca driver_postcode  \\\n",
       "0     345954    2021-01-18               Teesside         TS1 4PY   \n",
       "1     345954    2021-01-18              Newcastle         TS1 4PY   \n",
       "2     345954    2021-01-18              Gateshead         TS1 4PY   \n",
       "3     350348    2021-01-25         London Inner N         NW3 3PL   \n",
       "4     350348    2021-01-25  London Inner Upper NW         NW3 3PL   \n",
       "\n",
       "        driver_ca  no_packages_x               application_fountain_id  \\\n",
       "0        Teesside           4430  2632459a-cc59-4e20-a034-9051d9f94232   \n",
       "1        Teesside             21  2632459a-cc59-4e20-a034-9051d9f94232   \n",
       "2        Teesside             29  2632459a-cc59-4e20-a034-9051d9f94232   \n",
       "3  London Inner N             45  bd93df89-48d7-481b-9b13-f46a29a82b14   \n",
       "4  London Inner N            425  bd93df89-48d7-481b-9b13-f46a29a82b14   \n",
       "\n",
       "   no_packages_y  \n",
       "0           4480  \n",
       "1           4480  \n",
       "2           4480  \n",
       "3            474  \n",
       "4            474  "
      ]
     },
     "execution_count": 536,
     "metadata": {},
     "output_type": "execute_result"
    }
   ],
   "source": [
    "# New column: total number of packages each driver did\n",
    "new_df = no_dup_deliveries.groupby(['driver_id', 'driver_ca']).sum('no_packages').reset_index()\n",
    "\n",
    "# Merging two datasets\n",
    "mapped = pd.merge(no_dup_deliveries, new_df, left_on = ['driver_id','driver_ca']\n",
    "                  , right_on = ['driver_id','driver_ca'])\n",
    "mapped.head(5)"
   ]
  },
  {
   "cell_type": "code",
   "execution_count": 537,
   "metadata": {},
   "outputs": [
    {
     "data": {
      "text/plain": [
       "14525"
      ]
     },
     "execution_count": 537,
     "metadata": {},
     "output_type": "execute_result"
    }
   ],
   "source": [
    "mapped['driver_id'].nunique()"
   ]
  },
  {
   "cell_type": "code",
   "execution_count": 538,
   "metadata": {},
   "outputs": [
    {
     "data": {
      "text/html": [
       "<div>\n",
       "<style scoped>\n",
       "    .dataframe tbody tr th:only-of-type {\n",
       "        vertical-align: middle;\n",
       "    }\n",
       "\n",
       "    .dataframe tbody tr th {\n",
       "        vertical-align: top;\n",
       "    }\n",
       "\n",
       "    .dataframe thead th {\n",
       "        text-align: right;\n",
       "    }\n",
       "</style>\n",
       "<table border=\"1\" class=\"dataframe\">\n",
       "  <thead>\n",
       "    <tr style=\"text-align: right;\">\n",
       "      <th></th>\n",
       "      <th>driver_id</th>\n",
       "      <th>earliest_date</th>\n",
       "      <th>pu_ca</th>\n",
       "      <th>driver_postcode</th>\n",
       "      <th>driver_ca</th>\n",
       "      <th>nb_packages_per_CA</th>\n",
       "      <th>application_fountain_id</th>\n",
       "      <th>total_nb_packages</th>\n",
       "    </tr>\n",
       "  </thead>\n",
       "  <tbody>\n",
       "    <tr>\n",
       "      <th>0</th>\n",
       "      <td>345954</td>\n",
       "      <td>2021-01-18</td>\n",
       "      <td>Teesside</td>\n",
       "      <td>TS1 4PY</td>\n",
       "      <td>Teesside</td>\n",
       "      <td>4430</td>\n",
       "      <td>2632459a-cc59-4e20-a034-9051d9f94232</td>\n",
       "      <td>4480</td>\n",
       "    </tr>\n",
       "    <tr>\n",
       "      <th>1</th>\n",
       "      <td>345954</td>\n",
       "      <td>2021-01-18</td>\n",
       "      <td>Newcastle</td>\n",
       "      <td>TS1 4PY</td>\n",
       "      <td>Teesside</td>\n",
       "      <td>21</td>\n",
       "      <td>2632459a-cc59-4e20-a034-9051d9f94232</td>\n",
       "      <td>4480</td>\n",
       "    </tr>\n",
       "    <tr>\n",
       "      <th>2</th>\n",
       "      <td>345954</td>\n",
       "      <td>2021-01-18</td>\n",
       "      <td>Gateshead</td>\n",
       "      <td>TS1 4PY</td>\n",
       "      <td>Teesside</td>\n",
       "      <td>29</td>\n",
       "      <td>2632459a-cc59-4e20-a034-9051d9f94232</td>\n",
       "      <td>4480</td>\n",
       "    </tr>\n",
       "    <tr>\n",
       "      <th>3</th>\n",
       "      <td>350348</td>\n",
       "      <td>2021-01-25</td>\n",
       "      <td>London Inner N</td>\n",
       "      <td>NW3 3PL</td>\n",
       "      <td>London Inner N</td>\n",
       "      <td>45</td>\n",
       "      <td>bd93df89-48d7-481b-9b13-f46a29a82b14</td>\n",
       "      <td>474</td>\n",
       "    </tr>\n",
       "    <tr>\n",
       "      <th>4</th>\n",
       "      <td>350348</td>\n",
       "      <td>2021-01-25</td>\n",
       "      <td>London Inner Upper NW</td>\n",
       "      <td>NW3 3PL</td>\n",
       "      <td>London Inner N</td>\n",
       "      <td>425</td>\n",
       "      <td>bd93df89-48d7-481b-9b13-f46a29a82b14</td>\n",
       "      <td>474</td>\n",
       "    </tr>\n",
       "  </tbody>\n",
       "</table>\n",
       "</div>"
      ],
      "text/plain": [
       "   driver_id earliest_date                  pu_ca driver_postcode  \\\n",
       "0     345954    2021-01-18               Teesside         TS1 4PY   \n",
       "1     345954    2021-01-18              Newcastle         TS1 4PY   \n",
       "2     345954    2021-01-18              Gateshead         TS1 4PY   \n",
       "3     350348    2021-01-25         London Inner N         NW3 3PL   \n",
       "4     350348    2021-01-25  London Inner Upper NW         NW3 3PL   \n",
       "\n",
       "        driver_ca  nb_packages_per_CA               application_fountain_id  \\\n",
       "0        Teesside                4430  2632459a-cc59-4e20-a034-9051d9f94232   \n",
       "1        Teesside                  21  2632459a-cc59-4e20-a034-9051d9f94232   \n",
       "2        Teesside                  29  2632459a-cc59-4e20-a034-9051d9f94232   \n",
       "3  London Inner N                  45  bd93df89-48d7-481b-9b13-f46a29a82b14   \n",
       "4  London Inner N                 425  bd93df89-48d7-481b-9b13-f46a29a82b14   \n",
       "\n",
       "   total_nb_packages  \n",
       "0               4480  \n",
       "1               4480  \n",
       "2               4480  \n",
       "3                474  \n",
       "4                474  "
      ]
     },
     "execution_count": 538,
     "metadata": {},
     "output_type": "execute_result"
    }
   ],
   "source": [
    "# Renaming columns for clarity\n",
    "mapped = mapped.rename(columns = {'no_packages_x' : 'nb_packages_per_CA', 'no_packages_y' : 'total_nb_packages'})\n",
    "mapped.head(5)\n"
   ]
  },
  {
   "cell_type": "code",
   "execution_count": 539,
   "metadata": {},
   "outputs": [
    {
     "data": {
      "text/html": [
       "<div>\n",
       "<style scoped>\n",
       "    .dataframe tbody tr th:only-of-type {\n",
       "        vertical-align: middle;\n",
       "    }\n",
       "\n",
       "    .dataframe tbody tr th {\n",
       "        vertical-align: top;\n",
       "    }\n",
       "\n",
       "    .dataframe thead th {\n",
       "        text-align: right;\n",
       "    }\n",
       "</style>\n",
       "<table border=\"1\" class=\"dataframe\">\n",
       "  <thead>\n",
       "    <tr style=\"text-align: right;\">\n",
       "      <th></th>\n",
       "      <th>driver_id</th>\n",
       "      <th>driver_postcode</th>\n",
       "      <th>driver_ca</th>\n",
       "      <th>pu_ca</th>\n",
       "      <th>nb_packages_per_CA</th>\n",
       "      <th>total_nb_packages</th>\n",
       "    </tr>\n",
       "  </thead>\n",
       "  <tbody>\n",
       "    <tr>\n",
       "      <th>0</th>\n",
       "      <td>345954</td>\n",
       "      <td>TS1 4PY</td>\n",
       "      <td>Teesside</td>\n",
       "      <td>Teesside</td>\n",
       "      <td>4430</td>\n",
       "      <td>4480</td>\n",
       "    </tr>\n",
       "    <tr>\n",
       "      <th>1</th>\n",
       "      <td>345954</td>\n",
       "      <td>TS1 4PY</td>\n",
       "      <td>Teesside</td>\n",
       "      <td>Newcastle</td>\n",
       "      <td>21</td>\n",
       "      <td>4480</td>\n",
       "    </tr>\n",
       "    <tr>\n",
       "      <th>2</th>\n",
       "      <td>345954</td>\n",
       "      <td>TS1 4PY</td>\n",
       "      <td>Teesside</td>\n",
       "      <td>Gateshead</td>\n",
       "      <td>29</td>\n",
       "      <td>4480</td>\n",
       "    </tr>\n",
       "    <tr>\n",
       "      <th>3</th>\n",
       "      <td>350348</td>\n",
       "      <td>NW3 3PL</td>\n",
       "      <td>London Inner N</td>\n",
       "      <td>London Inner N</td>\n",
       "      <td>45</td>\n",
       "      <td>474</td>\n",
       "    </tr>\n",
       "    <tr>\n",
       "      <th>4</th>\n",
       "      <td>350348</td>\n",
       "      <td>NW3 3PL</td>\n",
       "      <td>London Inner N</td>\n",
       "      <td>London Inner Upper NW</td>\n",
       "      <td>425</td>\n",
       "      <td>474</td>\n",
       "    </tr>\n",
       "    <tr>\n",
       "      <th>...</th>\n",
       "      <td>...</td>\n",
       "      <td>...</td>\n",
       "      <td>...</td>\n",
       "      <td>...</td>\n",
       "      <td>...</td>\n",
       "      <td>...</td>\n",
       "    </tr>\n",
       "    <tr>\n",
       "      <th>36364</th>\n",
       "      <td>479696</td>\n",
       "      <td>M19 3LB</td>\n",
       "      <td>Manchester City</td>\n",
       "      <td>Manchester City</td>\n",
       "      <td>1</td>\n",
       "      <td>1</td>\n",
       "    </tr>\n",
       "    <tr>\n",
       "      <th>36365</th>\n",
       "      <td>488881</td>\n",
       "      <td>WA2 7JE</td>\n",
       "      <td>Warrington City</td>\n",
       "      <td>Warrington City</td>\n",
       "      <td>1</td>\n",
       "      <td>1</td>\n",
       "    </tr>\n",
       "    <tr>\n",
       "      <th>36366</th>\n",
       "      <td>398891</td>\n",
       "      <td>BR2 9TU</td>\n",
       "      <td>London Outer SE</td>\n",
       "      <td>London Outer SE</td>\n",
       "      <td>1</td>\n",
       "      <td>1</td>\n",
       "    </tr>\n",
       "    <tr>\n",
       "      <th>36367</th>\n",
       "      <td>447276</td>\n",
       "      <td>NE4 9QA</td>\n",
       "      <td>Newcastle</td>\n",
       "      <td>Gateshead</td>\n",
       "      <td>1</td>\n",
       "      <td>1</td>\n",
       "    </tr>\n",
       "    <tr>\n",
       "      <th>36368</th>\n",
       "      <td>462776</td>\n",
       "      <td>NW6 6JL</td>\n",
       "      <td>London Inner Upper NW</td>\n",
       "      <td>London Inner Upper NW</td>\n",
       "      <td>1</td>\n",
       "      <td>1</td>\n",
       "    </tr>\n",
       "  </tbody>\n",
       "</table>\n",
       "<p>36369 rows × 6 columns</p>\n",
       "</div>"
      ],
      "text/plain": [
       "       driver_id driver_postcode              driver_ca  \\\n",
       "0         345954         TS1 4PY               Teesside   \n",
       "1         345954         TS1 4PY               Teesside   \n",
       "2         345954         TS1 4PY               Teesside   \n",
       "3         350348         NW3 3PL         London Inner N   \n",
       "4         350348         NW3 3PL         London Inner N   \n",
       "...          ...             ...                    ...   \n",
       "36364     479696         M19 3LB        Manchester City   \n",
       "36365     488881         WA2 7JE        Warrington City   \n",
       "36366     398891         BR2 9TU        London Outer SE   \n",
       "36367     447276         NE4 9QA              Newcastle   \n",
       "36368     462776         NW6 6JL  London Inner Upper NW   \n",
       "\n",
       "                       pu_ca  nb_packages_per_CA  total_nb_packages  \n",
       "0                   Teesside                4430               4480  \n",
       "1                  Newcastle                  21               4480  \n",
       "2                  Gateshead                  29               4480  \n",
       "3             London Inner N                  45                474  \n",
       "4      London Inner Upper NW                 425                474  \n",
       "...                      ...                 ...                ...  \n",
       "36364        Manchester City                   1                  1  \n",
       "36365        Warrington City                   1                  1  \n",
       "36366        London Outer SE                   1                  1  \n",
       "36367              Gateshead                   1                  1  \n",
       "36368  London Inner Upper NW                   1                  1  \n",
       "\n",
       "[36369 rows x 6 columns]"
      ]
     },
     "execution_count": 539,
     "metadata": {},
     "output_type": "execute_result"
    }
   ],
   "source": [
    "# Reordering and selecting needed columns for readability\n",
    "mapped = mapped[['driver_id', 'driver_postcode' , 'driver_ca' , 'pu_ca' , 'nb_packages_per_CA' , 'total_nb_packages']].copy()\n",
    "mapped"
   ]
  },
  {
   "cell_type": "markdown",
   "metadata": {},
   "source": [
    "            Creating a metric to get \"CA each driver mostly worked in\""
   ]
  },
  {
   "cell_type": "code",
   "execution_count": 540,
   "metadata": {},
   "outputs": [
    {
     "data": {
      "text/plain": [
       "1891"
      ]
     },
     "execution_count": 540,
     "metadata": {},
     "output_type": "execute_result"
    }
   ],
   "source": [
    "# number of drives that did 0 deliveries in their own (applied) catchment area \n",
    "len(set(mapped[mapped['driver_ca'] != mapped['pu_ca']]['driver_id']).difference(mapped_filter['driver_id']))"
   ]
  },
  {
   "cell_type": "markdown",
   "metadata": {},
   "source": [
    "# Most Deliveries Metric"
   ]
  },
  {
   "cell_type": "markdown",
   "metadata": {
    "tags": []
   },
   "source": [
    "### Metric: mostly_worked_in_ca by choosing the CA where a courier did his most deliveries in. \n",
    "### Then compare if this CA is the same as driver ca as 1 or 0. \n",
    "### Then calculate the % of 1s "
   ]
  },
  {
   "cell_type": "code",
   "execution_count": 541,
   "metadata": {},
   "outputs": [
    {
     "data": {
      "text/html": [
       "<div>\n",
       "<style scoped>\n",
       "    .dataframe tbody tr th:only-of-type {\n",
       "        vertical-align: middle;\n",
       "    }\n",
       "\n",
       "    .dataframe tbody tr th {\n",
       "        vertical-align: top;\n",
       "    }\n",
       "\n",
       "    .dataframe thead th {\n",
       "        text-align: right;\n",
       "    }\n",
       "</style>\n",
       "<table border=\"1\" class=\"dataframe\">\n",
       "  <thead>\n",
       "    <tr style=\"text-align: right;\">\n",
       "      <th></th>\n",
       "      <th>driver_id</th>\n",
       "      <th>driver_postcode</th>\n",
       "      <th>driver_ca</th>\n",
       "      <th>pu_ca</th>\n",
       "      <th>nb_packages_per_CA</th>\n",
       "      <th>total_nb_packages</th>\n",
       "    </tr>\n",
       "  </thead>\n",
       "  <tbody>\n",
       "    <tr>\n",
       "      <th>0</th>\n",
       "      <td>345954</td>\n",
       "      <td>TS1 4PY</td>\n",
       "      <td>Teesside</td>\n",
       "      <td>Teesside</td>\n",
       "      <td>4430</td>\n",
       "      <td>4480</td>\n",
       "    </tr>\n",
       "    <tr>\n",
       "      <th>1</th>\n",
       "      <td>345954</td>\n",
       "      <td>TS1 4PY</td>\n",
       "      <td>Teesside</td>\n",
       "      <td>Newcastle</td>\n",
       "      <td>21</td>\n",
       "      <td>4480</td>\n",
       "    </tr>\n",
       "    <tr>\n",
       "      <th>2</th>\n",
       "      <td>345954</td>\n",
       "      <td>TS1 4PY</td>\n",
       "      <td>Teesside</td>\n",
       "      <td>Gateshead</td>\n",
       "      <td>29</td>\n",
       "      <td>4480</td>\n",
       "    </tr>\n",
       "    <tr>\n",
       "      <th>3</th>\n",
       "      <td>350348</td>\n",
       "      <td>NW3 3PL</td>\n",
       "      <td>London Inner N</td>\n",
       "      <td>London Inner N</td>\n",
       "      <td>45</td>\n",
       "      <td>474</td>\n",
       "    </tr>\n",
       "    <tr>\n",
       "      <th>4</th>\n",
       "      <td>350348</td>\n",
       "      <td>NW3 3PL</td>\n",
       "      <td>London Inner N</td>\n",
       "      <td>London Inner Upper NW</td>\n",
       "      <td>425</td>\n",
       "      <td>474</td>\n",
       "    </tr>\n",
       "    <tr>\n",
       "      <th>...</th>\n",
       "      <td>...</td>\n",
       "      <td>...</td>\n",
       "      <td>...</td>\n",
       "      <td>...</td>\n",
       "      <td>...</td>\n",
       "      <td>...</td>\n",
       "    </tr>\n",
       "    <tr>\n",
       "      <th>36364</th>\n",
       "      <td>479696</td>\n",
       "      <td>M19 3LB</td>\n",
       "      <td>Manchester City</td>\n",
       "      <td>Manchester City</td>\n",
       "      <td>1</td>\n",
       "      <td>1</td>\n",
       "    </tr>\n",
       "    <tr>\n",
       "      <th>36365</th>\n",
       "      <td>488881</td>\n",
       "      <td>WA2 7JE</td>\n",
       "      <td>Warrington City</td>\n",
       "      <td>Warrington City</td>\n",
       "      <td>1</td>\n",
       "      <td>1</td>\n",
       "    </tr>\n",
       "    <tr>\n",
       "      <th>36366</th>\n",
       "      <td>398891</td>\n",
       "      <td>BR2 9TU</td>\n",
       "      <td>London Outer SE</td>\n",
       "      <td>London Outer SE</td>\n",
       "      <td>1</td>\n",
       "      <td>1</td>\n",
       "    </tr>\n",
       "    <tr>\n",
       "      <th>36367</th>\n",
       "      <td>447276</td>\n",
       "      <td>NE4 9QA</td>\n",
       "      <td>Newcastle</td>\n",
       "      <td>Gateshead</td>\n",
       "      <td>1</td>\n",
       "      <td>1</td>\n",
       "    </tr>\n",
       "    <tr>\n",
       "      <th>36368</th>\n",
       "      <td>462776</td>\n",
       "      <td>NW6 6JL</td>\n",
       "      <td>London Inner Upper NW</td>\n",
       "      <td>London Inner Upper NW</td>\n",
       "      <td>1</td>\n",
       "      <td>1</td>\n",
       "    </tr>\n",
       "  </tbody>\n",
       "</table>\n",
       "<p>36369 rows × 6 columns</p>\n",
       "</div>"
      ],
      "text/plain": [
       "       driver_id driver_postcode              driver_ca  \\\n",
       "0         345954         TS1 4PY               Teesside   \n",
       "1         345954         TS1 4PY               Teesside   \n",
       "2         345954         TS1 4PY               Teesside   \n",
       "3         350348         NW3 3PL         London Inner N   \n",
       "4         350348         NW3 3PL         London Inner N   \n",
       "...          ...             ...                    ...   \n",
       "36364     479696         M19 3LB        Manchester City   \n",
       "36365     488881         WA2 7JE        Warrington City   \n",
       "36366     398891         BR2 9TU        London Outer SE   \n",
       "36367     447276         NE4 9QA              Newcastle   \n",
       "36368     462776         NW6 6JL  London Inner Upper NW   \n",
       "\n",
       "                       pu_ca  nb_packages_per_CA  total_nb_packages  \n",
       "0                   Teesside                4430               4480  \n",
       "1                  Newcastle                  21               4480  \n",
       "2                  Gateshead                  29               4480  \n",
       "3             London Inner N                  45                474  \n",
       "4      London Inner Upper NW                 425                474  \n",
       "...                      ...                 ...                ...  \n",
       "36364        Manchester City                   1                  1  \n",
       "36365        Warrington City                   1                  1  \n",
       "36366        London Outer SE                   1                  1  \n",
       "36367              Gateshead                   1                  1  \n",
       "36368  London Inner Upper NW                   1                  1  \n",
       "\n",
       "[36369 rows x 6 columns]"
      ]
     },
     "execution_count": 541,
     "metadata": {},
     "output_type": "execute_result"
    }
   ],
   "source": [
    "mapped"
   ]
  },
  {
   "cell_type": "code",
   "execution_count": 542,
   "metadata": {},
   "outputs": [
    {
     "data": {
      "text/html": [
       "<div>\n",
       "<style scoped>\n",
       "    .dataframe tbody tr th:only-of-type {\n",
       "        vertical-align: middle;\n",
       "    }\n",
       "\n",
       "    .dataframe tbody tr th {\n",
       "        vertical-align: top;\n",
       "    }\n",
       "\n",
       "    .dataframe thead th {\n",
       "        text-align: right;\n",
       "    }\n",
       "</style>\n",
       "<table border=\"1\" class=\"dataframe\">\n",
       "  <thead>\n",
       "    <tr style=\"text-align: right;\">\n",
       "      <th></th>\n",
       "      <th>driver_id</th>\n",
       "      <th>driver_postcode</th>\n",
       "      <th>driver_ca</th>\n",
       "      <th>pu_ca</th>\n",
       "      <th>nb_packages_per_CA</th>\n",
       "      <th>total_nb_packages</th>\n",
       "    </tr>\n",
       "  </thead>\n",
       "  <tbody>\n",
       "    <tr>\n",
       "      <th>0</th>\n",
       "      <td>345954</td>\n",
       "      <td>TS1 4PY</td>\n",
       "      <td>Teesside</td>\n",
       "      <td>Teesside</td>\n",
       "      <td>4430</td>\n",
       "      <td>4480</td>\n",
       "    </tr>\n",
       "    <tr>\n",
       "      <th>1</th>\n",
       "      <td>345954</td>\n",
       "      <td>TS1 4PY</td>\n",
       "      <td>Teesside</td>\n",
       "      <td>Newcastle</td>\n",
       "      <td>21</td>\n",
       "      <td>4480</td>\n",
       "    </tr>\n",
       "    <tr>\n",
       "      <th>2</th>\n",
       "      <td>345954</td>\n",
       "      <td>TS1 4PY</td>\n",
       "      <td>Teesside</td>\n",
       "      <td>Gateshead</td>\n",
       "      <td>29</td>\n",
       "      <td>4480</td>\n",
       "    </tr>\n",
       "    <tr>\n",
       "      <th>3</th>\n",
       "      <td>350348</td>\n",
       "      <td>NW3 3PL</td>\n",
       "      <td>London Inner N</td>\n",
       "      <td>London Inner N</td>\n",
       "      <td>45</td>\n",
       "      <td>474</td>\n",
       "    </tr>\n",
       "    <tr>\n",
       "      <th>4</th>\n",
       "      <td>350348</td>\n",
       "      <td>NW3 3PL</td>\n",
       "      <td>London Inner N</td>\n",
       "      <td>London Inner Upper NW</td>\n",
       "      <td>425</td>\n",
       "      <td>474</td>\n",
       "    </tr>\n",
       "  </tbody>\n",
       "</table>\n",
       "</div>"
      ],
      "text/plain": [
       "   driver_id driver_postcode       driver_ca                  pu_ca  \\\n",
       "0     345954         TS1 4PY        Teesside               Teesside   \n",
       "1     345954         TS1 4PY        Teesside              Newcastle   \n",
       "2     345954         TS1 4PY        Teesside              Gateshead   \n",
       "3     350348         NW3 3PL  London Inner N         London Inner N   \n",
       "4     350348         NW3 3PL  London Inner N  London Inner Upper NW   \n",
       "\n",
       "   nb_packages_per_CA  total_nb_packages  \n",
       "0                4430               4480  \n",
       "1                  21               4480  \n",
       "2                  29               4480  \n",
       "3                  45                474  \n",
       "4                 425                474  "
      ]
     },
     "execution_count": 542,
     "metadata": {},
     "output_type": "execute_result"
    }
   ],
   "source": [
    "# New df is the same as mapped\n",
    "new_metric = mapped.copy()\n",
    "new_metric.head(5)"
   ]
  },
  {
   "cell_type": "code",
   "execution_count": 543,
   "metadata": {},
   "outputs": [
    {
     "data": {
      "text/html": [
       "<div>\n",
       "<style scoped>\n",
       "    .dataframe tbody tr th:only-of-type {\n",
       "        vertical-align: middle;\n",
       "    }\n",
       "\n",
       "    .dataframe tbody tr th {\n",
       "        vertical-align: top;\n",
       "    }\n",
       "\n",
       "    .dataframe thead th {\n",
       "        text-align: right;\n",
       "    }\n",
       "</style>\n",
       "<table border=\"1\" class=\"dataframe\">\n",
       "  <thead>\n",
       "    <tr style=\"text-align: right;\">\n",
       "      <th></th>\n",
       "      <th>driver_id</th>\n",
       "      <th>driver_postcode</th>\n",
       "      <th>driver_ca</th>\n",
       "      <th>pu_ca</th>\n",
       "      <th>nb_packages_per_CA</th>\n",
       "      <th>total_nb_packages</th>\n",
       "      <th>max_ca_deliveries</th>\n",
       "    </tr>\n",
       "  </thead>\n",
       "  <tbody>\n",
       "    <tr>\n",
       "      <th>0</th>\n",
       "      <td>345954</td>\n",
       "      <td>TS1 4PY</td>\n",
       "      <td>Teesside</td>\n",
       "      <td>Teesside</td>\n",
       "      <td>4430</td>\n",
       "      <td>4480</td>\n",
       "      <td>4430</td>\n",
       "    </tr>\n",
       "    <tr>\n",
       "      <th>1</th>\n",
       "      <td>345954</td>\n",
       "      <td>TS1 4PY</td>\n",
       "      <td>Teesside</td>\n",
       "      <td>Newcastle</td>\n",
       "      <td>21</td>\n",
       "      <td>4480</td>\n",
       "      <td>4430</td>\n",
       "    </tr>\n",
       "    <tr>\n",
       "      <th>2</th>\n",
       "      <td>345954</td>\n",
       "      <td>TS1 4PY</td>\n",
       "      <td>Teesside</td>\n",
       "      <td>Gateshead</td>\n",
       "      <td>29</td>\n",
       "      <td>4480</td>\n",
       "      <td>4430</td>\n",
       "    </tr>\n",
       "    <tr>\n",
       "      <th>3</th>\n",
       "      <td>350348</td>\n",
       "      <td>NW3 3PL</td>\n",
       "      <td>London Inner N</td>\n",
       "      <td>London Inner N</td>\n",
       "      <td>45</td>\n",
       "      <td>474</td>\n",
       "      <td>425</td>\n",
       "    </tr>\n",
       "    <tr>\n",
       "      <th>4</th>\n",
       "      <td>350348</td>\n",
       "      <td>NW3 3PL</td>\n",
       "      <td>London Inner N</td>\n",
       "      <td>London Inner Upper NW</td>\n",
       "      <td>425</td>\n",
       "      <td>474</td>\n",
       "      <td>425</td>\n",
       "    </tr>\n",
       "  </tbody>\n",
       "</table>\n",
       "</div>"
      ],
      "text/plain": [
       "   driver_id driver_postcode       driver_ca                  pu_ca  \\\n",
       "0     345954         TS1 4PY        Teesside               Teesside   \n",
       "1     345954         TS1 4PY        Teesside              Newcastle   \n",
       "2     345954         TS1 4PY        Teesside              Gateshead   \n",
       "3     350348         NW3 3PL  London Inner N         London Inner N   \n",
       "4     350348         NW3 3PL  London Inner N  London Inner Upper NW   \n",
       "\n",
       "   nb_packages_per_CA  total_nb_packages  max_ca_deliveries  \n",
       "0                4430               4480               4430  \n",
       "1                  21               4480               4430  \n",
       "2                  29               4480               4430  \n",
       "3                  45                474                425  \n",
       "4                 425                474                425  "
      ]
     },
     "execution_count": 543,
     "metadata": {},
     "output_type": "execute_result"
    }
   ],
   "source": [
    "#Obtaining max number of deliveries made in CA to check for later where a courier did his most deliveries in. \n",
    "new_metric['max_ca_deliveries']= new_metric.groupby(['driver_id'])['nb_packages_per_CA'].transform(max)\n",
    "new_metric.head(5)"
   ]
  },
  {
   "cell_type": "code",
   "execution_count": 544,
   "metadata": {},
   "outputs": [
    {
     "data": {
      "text/html": [
       "<div>\n",
       "<style scoped>\n",
       "    .dataframe tbody tr th:only-of-type {\n",
       "        vertical-align: middle;\n",
       "    }\n",
       "\n",
       "    .dataframe tbody tr th {\n",
       "        vertical-align: top;\n",
       "    }\n",
       "\n",
       "    .dataframe thead th {\n",
       "        text-align: right;\n",
       "    }\n",
       "</style>\n",
       "<table border=\"1\" class=\"dataframe\">\n",
       "  <thead>\n",
       "    <tr style=\"text-align: right;\">\n",
       "      <th></th>\n",
       "      <th>driver_id</th>\n",
       "      <th>driver_postcode</th>\n",
       "      <th>driver_ca</th>\n",
       "      <th>pu_ca</th>\n",
       "      <th>nb_packages_per_CA</th>\n",
       "      <th>total_nb_packages</th>\n",
       "      <th>max_ca_deliveries</th>\n",
       "    </tr>\n",
       "  </thead>\n",
       "  <tbody>\n",
       "    <tr>\n",
       "      <th>0</th>\n",
       "      <td>345954</td>\n",
       "      <td>TS1 4PY</td>\n",
       "      <td>Teesside</td>\n",
       "      <td>Teesside</td>\n",
       "      <td>4430</td>\n",
       "      <td>4480</td>\n",
       "      <td>4430</td>\n",
       "    </tr>\n",
       "    <tr>\n",
       "      <th>4</th>\n",
       "      <td>350348</td>\n",
       "      <td>NW3 3PL</td>\n",
       "      <td>London Inner N</td>\n",
       "      <td>London Inner Upper NW</td>\n",
       "      <td>425</td>\n",
       "      <td>474</td>\n",
       "      <td>425</td>\n",
       "    </tr>\n",
       "    <tr>\n",
       "      <th>6</th>\n",
       "      <td>370480</td>\n",
       "      <td>HD1 4AW</td>\n",
       "      <td>Huddersfield</td>\n",
       "      <td>Huddersfield</td>\n",
       "      <td>2731</td>\n",
       "      <td>2731</td>\n",
       "      <td>2731</td>\n",
       "    </tr>\n",
       "    <tr>\n",
       "      <th>7</th>\n",
       "      <td>354978</td>\n",
       "      <td>NE13 6PA</td>\n",
       "      <td>Newcastle</td>\n",
       "      <td>Newcastle</td>\n",
       "      <td>793</td>\n",
       "      <td>794</td>\n",
       "      <td>793</td>\n",
       "    </tr>\n",
       "    <tr>\n",
       "      <th>9</th>\n",
       "      <td>376926</td>\n",
       "      <td>SR2 9RP</td>\n",
       "      <td>Sunderland</td>\n",
       "      <td>Sunderland</td>\n",
       "      <td>411</td>\n",
       "      <td>425</td>\n",
       "      <td>411</td>\n",
       "    </tr>\n",
       "  </tbody>\n",
       "</table>\n",
       "</div>"
      ],
      "text/plain": [
       "   driver_id driver_postcode       driver_ca                  pu_ca  \\\n",
       "0     345954         TS1 4PY        Teesside               Teesside   \n",
       "4     350348         NW3 3PL  London Inner N  London Inner Upper NW   \n",
       "6     370480         HD1 4AW    Huddersfield           Huddersfield   \n",
       "7     354978        NE13 6PA       Newcastle              Newcastle   \n",
       "9     376926         SR2 9RP      Sunderland             Sunderland   \n",
       "\n",
       "   nb_packages_per_CA  total_nb_packages  max_ca_deliveries  \n",
       "0                4430               4480               4430  \n",
       "4                 425                474                425  \n",
       "6                2731               2731               2731  \n",
       "7                 793                794                793  \n",
       "9                 411                425                411  "
      ]
     },
     "execution_count": 544,
     "metadata": {},
     "output_type": "execute_result"
    }
   ],
   "source": [
    "# Metric: Create a column: mostly_worked_in_ca by choosing the CA where a courier did most of his deliveries. \n",
    "\n",
    "new_metric2 = new_metric[new_metric['nb_packages_per_CA'] == new_metric['max_ca_deliveries']].copy()\n",
    "new_metric2.head(5)\n"
   ]
  },
  {
   "cell_type": "code",
   "execution_count": 545,
   "metadata": {},
   "outputs": [
    {
     "data": {
      "text/plain": [
       "6218     350251\n",
       "6219     350251\n",
       "14293    392848\n",
       "14883    462754\n",
       "16240    493944\n",
       "          ...  \n",
       "36154    495044\n",
       "36167    477405\n",
       "36185    392845\n",
       "36193    402394\n",
       "36247    363376\n",
       "Name: driver_id, Length: 84, dtype: int64"
      ]
     },
     "execution_count": 545,
     "metadata": {},
     "output_type": "execute_result"
    }
   ],
   "source": [
    "new_metric2[new_metric2['driver_id'].duplicated()]['driver_id']"
   ]
  },
  {
   "cell_type": "markdown",
   "metadata": {},
   "source": [
    "Received duplicates (14,196 insteatd of 14,109 as some drivers did equal number of deliveres in two CA). Solution is to drop these as they compose less than 1% of couriers."
   ]
  },
  {
   "cell_type": "code",
   "execution_count": 546,
   "metadata": {},
   "outputs": [],
   "source": [
    "########### Can just drop duplicate drivers id"
   ]
  },
  {
   "cell_type": "code",
   "execution_count": 547,
   "metadata": {},
   "outputs": [
    {
     "data": {
      "text/html": [
       "<div>\n",
       "<style scoped>\n",
       "    .dataframe tbody tr th:only-of-type {\n",
       "        vertical-align: middle;\n",
       "    }\n",
       "\n",
       "    .dataframe tbody tr th {\n",
       "        vertical-align: top;\n",
       "    }\n",
       "\n",
       "    .dataframe thead th {\n",
       "        text-align: right;\n",
       "    }\n",
       "</style>\n",
       "<table border=\"1\" class=\"dataframe\">\n",
       "  <thead>\n",
       "    <tr style=\"text-align: right;\">\n",
       "      <th></th>\n",
       "      <th>driver_id</th>\n",
       "      <th>driver_postcode</th>\n",
       "      <th>driver_ca</th>\n",
       "      <th>pu_ca</th>\n",
       "      <th>nb_packages_per_CA</th>\n",
       "      <th>total_nb_packages</th>\n",
       "      <th>max_ca_deliveries</th>\n",
       "      <th>is_same</th>\n",
       "    </tr>\n",
       "  </thead>\n",
       "  <tbody>\n",
       "    <tr>\n",
       "      <th>0</th>\n",
       "      <td>345954</td>\n",
       "      <td>TS1 4PY</td>\n",
       "      <td>Teesside</td>\n",
       "      <td>Teesside</td>\n",
       "      <td>4430</td>\n",
       "      <td>4480</td>\n",
       "      <td>4430</td>\n",
       "      <td>1</td>\n",
       "    </tr>\n",
       "    <tr>\n",
       "      <th>4</th>\n",
       "      <td>350348</td>\n",
       "      <td>NW3 3PL</td>\n",
       "      <td>London Inner N</td>\n",
       "      <td>London Inner Upper NW</td>\n",
       "      <td>425</td>\n",
       "      <td>474</td>\n",
       "      <td>425</td>\n",
       "      <td>0</td>\n",
       "    </tr>\n",
       "    <tr>\n",
       "      <th>6</th>\n",
       "      <td>370480</td>\n",
       "      <td>HD1 4AW</td>\n",
       "      <td>Huddersfield</td>\n",
       "      <td>Huddersfield</td>\n",
       "      <td>2731</td>\n",
       "      <td>2731</td>\n",
       "      <td>2731</td>\n",
       "      <td>1</td>\n",
       "    </tr>\n",
       "    <tr>\n",
       "      <th>7</th>\n",
       "      <td>354978</td>\n",
       "      <td>NE13 6PA</td>\n",
       "      <td>Newcastle</td>\n",
       "      <td>Newcastle</td>\n",
       "      <td>793</td>\n",
       "      <td>794</td>\n",
       "      <td>793</td>\n",
       "      <td>1</td>\n",
       "    </tr>\n",
       "    <tr>\n",
       "      <th>9</th>\n",
       "      <td>376926</td>\n",
       "      <td>SR2 9RP</td>\n",
       "      <td>Sunderland</td>\n",
       "      <td>Sunderland</td>\n",
       "      <td>411</td>\n",
       "      <td>425</td>\n",
       "      <td>411</td>\n",
       "      <td>1</td>\n",
       "    </tr>\n",
       "    <tr>\n",
       "      <th>...</th>\n",
       "      <td>...</td>\n",
       "      <td>...</td>\n",
       "      <td>...</td>\n",
       "      <td>...</td>\n",
       "      <td>...</td>\n",
       "      <td>...</td>\n",
       "      <td>...</td>\n",
       "      <td>...</td>\n",
       "    </tr>\n",
       "    <tr>\n",
       "      <th>36364</th>\n",
       "      <td>479696</td>\n",
       "      <td>M19 3LB</td>\n",
       "      <td>Manchester City</td>\n",
       "      <td>Manchester City</td>\n",
       "      <td>1</td>\n",
       "      <td>1</td>\n",
       "      <td>1</td>\n",
       "      <td>1</td>\n",
       "    </tr>\n",
       "    <tr>\n",
       "      <th>36365</th>\n",
       "      <td>488881</td>\n",
       "      <td>WA2 7JE</td>\n",
       "      <td>Warrington City</td>\n",
       "      <td>Warrington City</td>\n",
       "      <td>1</td>\n",
       "      <td>1</td>\n",
       "      <td>1</td>\n",
       "      <td>1</td>\n",
       "    </tr>\n",
       "    <tr>\n",
       "      <th>36366</th>\n",
       "      <td>398891</td>\n",
       "      <td>BR2 9TU</td>\n",
       "      <td>London Outer SE</td>\n",
       "      <td>London Outer SE</td>\n",
       "      <td>1</td>\n",
       "      <td>1</td>\n",
       "      <td>1</td>\n",
       "      <td>1</td>\n",
       "    </tr>\n",
       "    <tr>\n",
       "      <th>36367</th>\n",
       "      <td>447276</td>\n",
       "      <td>NE4 9QA</td>\n",
       "      <td>Newcastle</td>\n",
       "      <td>Gateshead</td>\n",
       "      <td>1</td>\n",
       "      <td>1</td>\n",
       "      <td>1</td>\n",
       "      <td>0</td>\n",
       "    </tr>\n",
       "    <tr>\n",
       "      <th>36368</th>\n",
       "      <td>462776</td>\n",
       "      <td>NW6 6JL</td>\n",
       "      <td>London Inner Upper NW</td>\n",
       "      <td>London Inner Upper NW</td>\n",
       "      <td>1</td>\n",
       "      <td>1</td>\n",
       "      <td>1</td>\n",
       "      <td>1</td>\n",
       "    </tr>\n",
       "  </tbody>\n",
       "</table>\n",
       "<p>14609 rows × 8 columns</p>\n",
       "</div>"
      ],
      "text/plain": [
       "       driver_id driver_postcode              driver_ca  \\\n",
       "0         345954         TS1 4PY               Teesside   \n",
       "4         350348         NW3 3PL         London Inner N   \n",
       "6         370480         HD1 4AW           Huddersfield   \n",
       "7         354978        NE13 6PA              Newcastle   \n",
       "9         376926         SR2 9RP             Sunderland   \n",
       "...          ...             ...                    ...   \n",
       "36364     479696         M19 3LB        Manchester City   \n",
       "36365     488881         WA2 7JE        Warrington City   \n",
       "36366     398891         BR2 9TU        London Outer SE   \n",
       "36367     447276         NE4 9QA              Newcastle   \n",
       "36368     462776         NW6 6JL  London Inner Upper NW   \n",
       "\n",
       "                       pu_ca  nb_packages_per_CA  total_nb_packages  \\\n",
       "0                   Teesside                4430               4480   \n",
       "4      London Inner Upper NW                 425                474   \n",
       "6               Huddersfield                2731               2731   \n",
       "7                  Newcastle                 793                794   \n",
       "9                 Sunderland                 411                425   \n",
       "...                      ...                 ...                ...   \n",
       "36364        Manchester City                   1                  1   \n",
       "36365        Warrington City                   1                  1   \n",
       "36366        London Outer SE                   1                  1   \n",
       "36367              Gateshead                   1                  1   \n",
       "36368  London Inner Upper NW                   1                  1   \n",
       "\n",
       "       max_ca_deliveries  is_same  \n",
       "0                   4430        1  \n",
       "4                    425        0  \n",
       "6                   2731        1  \n",
       "7                    793        1  \n",
       "9                    411        1  \n",
       "...                  ...      ...  \n",
       "36364                  1        1  \n",
       "36365                  1        1  \n",
       "36366                  1        1  \n",
       "36367                  1        0  \n",
       "36368                  1        1  \n",
       "\n",
       "[14609 rows x 8 columns]"
      ]
     },
     "execution_count": 547,
     "metadata": {},
     "output_type": "execute_result"
    }
   ],
   "source": [
    "# Then compare if this CA is the same as driver ca as 1 or 0. \n",
    "new_metric2['is_same'] = np.where(new_metric2['pu_ca'] == new_metric2['driver_ca'], 1, 0)\n",
    "new_metric2"
   ]
  },
  {
   "cell_type": "code",
   "execution_count": 548,
   "metadata": {},
   "outputs": [
    {
     "data": {
      "text/html": [
       "<div>\n",
       "<style scoped>\n",
       "    .dataframe tbody tr th:only-of-type {\n",
       "        vertical-align: middle;\n",
       "    }\n",
       "\n",
       "    .dataframe tbody tr th {\n",
       "        vertical-align: top;\n",
       "    }\n",
       "\n",
       "    .dataframe thead th {\n",
       "        text-align: right;\n",
       "    }\n",
       "</style>\n",
       "<table border=\"1\" class=\"dataframe\">\n",
       "  <thead>\n",
       "    <tr style=\"text-align: right;\">\n",
       "      <th></th>\n",
       "      <th>driver_id</th>\n",
       "      <th>nb_packages_per_CA</th>\n",
       "      <th>total_nb_packages</th>\n",
       "      <th>max_ca_deliveries</th>\n",
       "      <th>is_same</th>\n",
       "    </tr>\n",
       "  </thead>\n",
       "  <tbody>\n",
       "    <tr>\n",
       "      <th>count</th>\n",
       "      <td>14609.000000</td>\n",
       "      <td>14609.000000</td>\n",
       "      <td>14609.000000</td>\n",
       "      <td>14609.000000</td>\n",
       "      <td>14609.000000</td>\n",
       "    </tr>\n",
       "    <tr>\n",
       "      <th>mean</th>\n",
       "      <td>427583.514957</td>\n",
       "      <td>634.760764</td>\n",
       "      <td>700.796701</td>\n",
       "      <td>634.760764</td>\n",
       "      <td>0.733384</td>\n",
       "    </tr>\n",
       "    <tr>\n",
       "      <th>std</th>\n",
       "      <td>43970.588040</td>\n",
       "      <td>928.363362</td>\n",
       "      <td>1001.407327</td>\n",
       "      <td>928.363362</td>\n",
       "      <td>0.442205</td>\n",
       "    </tr>\n",
       "    <tr>\n",
       "      <th>min</th>\n",
       "      <td>339107.000000</td>\n",
       "      <td>1.000000</td>\n",
       "      <td>1.000000</td>\n",
       "      <td>1.000000</td>\n",
       "      <td>0.000000</td>\n",
       "    </tr>\n",
       "    <tr>\n",
       "      <th>25%</th>\n",
       "      <td>395629.000000</td>\n",
       "      <td>47.000000</td>\n",
       "      <td>54.000000</td>\n",
       "      <td>47.000000</td>\n",
       "      <td>0.000000</td>\n",
       "    </tr>\n",
       "    <tr>\n",
       "      <th>50%</th>\n",
       "      <td>427762.000000</td>\n",
       "      <td>234.000000</td>\n",
       "      <td>263.000000</td>\n",
       "      <td>234.000000</td>\n",
       "      <td>1.000000</td>\n",
       "    </tr>\n",
       "    <tr>\n",
       "      <th>75%</th>\n",
       "      <td>467733.000000</td>\n",
       "      <td>832.000000</td>\n",
       "      <td>942.000000</td>\n",
       "      <td>832.000000</td>\n",
       "      <td>1.000000</td>\n",
       "    </tr>\n",
       "    <tr>\n",
       "      <th>max</th>\n",
       "      <td>501306.000000</td>\n",
       "      <td>8918.000000</td>\n",
       "      <td>10945.000000</td>\n",
       "      <td>8918.000000</td>\n",
       "      <td>1.000000</td>\n",
       "    </tr>\n",
       "  </tbody>\n",
       "</table>\n",
       "</div>"
      ],
      "text/plain": [
       "           driver_id  nb_packages_per_CA  total_nb_packages  \\\n",
       "count   14609.000000        14609.000000       14609.000000   \n",
       "mean   427583.514957          634.760764         700.796701   \n",
       "std     43970.588040          928.363362        1001.407327   \n",
       "min    339107.000000            1.000000           1.000000   \n",
       "25%    395629.000000           47.000000          54.000000   \n",
       "50%    427762.000000          234.000000         263.000000   \n",
       "75%    467733.000000          832.000000         942.000000   \n",
       "max    501306.000000         8918.000000       10945.000000   \n",
       "\n",
       "       max_ca_deliveries       is_same  \n",
       "count       14609.000000  14609.000000  \n",
       "mean          634.760764      0.733384  \n",
       "std           928.363362      0.442205  \n",
       "min             1.000000      0.000000  \n",
       "25%            47.000000      0.000000  \n",
       "50%           234.000000      1.000000  \n",
       "75%           832.000000      1.000000  \n",
       "max          8918.000000      1.000000  "
      ]
     },
     "execution_count": 548,
     "metadata": {},
     "output_type": "execute_result"
    }
   ],
   "source": [
    "# Then calculate the % of 1s \n",
    "new_metric2.describe()\n",
    "\n",
    "# 74% of drivers who live in CA mostly do deliveries in their CA"
   ]
  },
  {
   "cell_type": "markdown",
   "metadata": {},
   "source": [
    "# Drivers who did not live in CA"
   ]
  },
  {
   "cell_type": "markdown",
   "metadata": {},
   "source": [
    "need a Predicted_CA column from ops.uk_applicant"
   ]
  },
  {
   "cell_type": "code",
   "execution_count": 549,
   "metadata": {},
   "outputs": [
    {
     "name": "stdout",
     "output_type": "stream",
     "text": [
      "Connected to the DataWarehouse\n",
      "Result from query obtained\n",
      "Data stored in dataframe\n"
     ]
    }
   ],
   "source": [
    "query_3 = '''\n",
    "\n",
    "SELECT -------------------- Package\n",
    "       cd.driver_id,          -- stuart_driver_id\n",
    "  --   MIN(cd.valid_from_date) as earliest_date,\n",
    "       uai.applicant_fountain_id,\n",
    "       a.catchment_area as pu_CA,\n",
    "\n",
    "    ------------------  Driver\n",
    "    predicted_catchment_area as predicted_driver_CA,\n",
    "       count( distinct p.package_id) as no_packages\n",
    "\n",
    "FROM modeled_core.driver cd\n",
    "\n",
    "INNER JOIN modeled_core.zones z\n",
    "USING (zone_id)\n",
    "\n",
    "LEFT JOIN modeled_core.delivery d\n",
    "    ON cd.driver_id = d.driver_id\n",
    "\n",
    "LEFT JOIN modeled_core.package p\n",
    "    ON d.package_id = p.package_id\n",
    "\n",
    "LEFT JOIN modeled_core.location l\n",
    "    ON p.pu_location_id = l.location_id\n",
    "\n",
    "LEFT JOIN ops.area a\n",
    "    ON REPLACE(l.delivery_area_name , '_' , '') = a.area_name_cap -- pool area for packages\n",
    "\n",
    "\n",
    "LEFT JOIN ops.uk_applicants_info uai\n",
    "    ON uai.applicant_fountain_id = cd.applicant_fountain_id\n",
    "\n",
    "WHERE z.country_id = 2\n",
    "AND DATE(p.time_window_pu_start_utc) >= '2021-01-01'\n",
    "\n",
    "GROUP BY 1, 2, 3,4\n",
    "\n",
    "'''\n",
    "\n",
    "\n",
    "predicted = get_data_from_warehouse(query_3)"
   ]
  },
  {
   "cell_type": "code",
   "execution_count": 550,
   "metadata": {},
   "outputs": [
    {
     "data": {
      "text/plain": [
       "(134720, 5)"
      ]
     },
     "execution_count": 550,
     "metadata": {},
     "output_type": "execute_result"
    }
   ],
   "source": [
    "# Getting multiple rows per driver as they can work in different catchment areas\n",
    "predicted.shape"
   ]
  },
  {
   "cell_type": "code",
   "execution_count": 551,
   "metadata": {},
   "outputs": [
    {
     "data": {
      "text/plain": [
       "(134720, 5)"
      ]
     },
     "execution_count": 551,
     "metadata": {},
     "output_type": "execute_result"
    }
   ],
   "source": [
    "no_dup_predicted = predicted.drop_duplicates()\n",
    "no_dup_predicted.shape\n",
    "# No duplicates"
   ]
  },
  {
   "cell_type": "code",
   "execution_count": 552,
   "metadata": {},
   "outputs": [
    {
     "data": {
      "text/plain": [
       "46481"
      ]
     },
     "execution_count": 552,
     "metadata": {},
     "output_type": "execute_result"
    }
   ],
   "source": [
    "# Number of individual drivers\n",
    "no_dup_predicted['driver_id'].nunique()"
   ]
  },
  {
   "cell_type": "code",
   "execution_count": 553,
   "metadata": {},
   "outputs": [
    {
     "data": {
      "text/plain": [
       "46254"
      ]
     },
     "execution_count": 553,
     "metadata": {},
     "output_type": "execute_result"
    }
   ],
   "source": [
    "# checking how many drivers have application_fountain_id as non-NULL\n",
    "no_dup_predicted = no_dup_predicted[no_dup_predicted['applicant_fountain_id'].isnull()==False]\n",
    "no_dup_predicted['driver_id'].nunique()\n",
    "\n",
    "# 45,690 have application_fountain_id as non-NULL"
   ]
  },
  {
   "cell_type": "code",
   "execution_count": 554,
   "metadata": {},
   "outputs": [
    {
     "data": {
      "text/plain": [
       "0.4900359359686377"
      ]
     },
     "execution_count": 554,
     "metadata": {},
     "output_type": "execute_result"
    }
   ],
   "source": [
    "# percentage of drivers who are not considered due to application_id\n",
    "(45915 - 45690)/45915 * 100"
   ]
  },
  {
   "cell_type": "code",
   "execution_count": 555,
   "metadata": {},
   "outputs": [],
   "source": [
    "# Generating a csv file with drivers and their deliveries\n",
    "no_dup_predicted.to_csv('data/deliveries&_predicted_CA.csv' , index = False )"
   ]
  },
  {
   "cell_type": "code",
   "execution_count": 556,
   "metadata": {},
   "outputs": [
    {
     "data": {
      "text/html": [
       "<div>\n",
       "<style scoped>\n",
       "    .dataframe tbody tr th:only-of-type {\n",
       "        vertical-align: middle;\n",
       "    }\n",
       "\n",
       "    .dataframe tbody tr th {\n",
       "        vertical-align: top;\n",
       "    }\n",
       "\n",
       "    .dataframe thead th {\n",
       "        text-align: right;\n",
       "    }\n",
       "</style>\n",
       "<table border=\"1\" class=\"dataframe\">\n",
       "  <thead>\n",
       "    <tr style=\"text-align: right;\">\n",
       "      <th></th>\n",
       "      <th>driver_id</th>\n",
       "      <th>applicant_fountain_id</th>\n",
       "      <th>pu_ca</th>\n",
       "      <th>predicted_driver_ca</th>\n",
       "      <th>no_packages</th>\n",
       "    </tr>\n",
       "  </thead>\n",
       "  <tbody>\n",
       "    <tr>\n",
       "      <th>0</th>\n",
       "      <td>297416</td>\n",
       "      <td>eaa645d3-28f3-49d2-80d4-cfb2c580a1c8</td>\n",
       "      <td>Newcastle</td>\n",
       "      <td>None</td>\n",
       "      <td>330</td>\n",
       "    </tr>\n",
       "    <tr>\n",
       "      <th>1</th>\n",
       "      <td>320287</td>\n",
       "      <td>ff9c1a30-d4e5-48f0-baeb-d6b11e168373</td>\n",
       "      <td>Leicester</td>\n",
       "      <td>None</td>\n",
       "      <td>772</td>\n",
       "    </tr>\n",
       "    <tr>\n",
       "      <th>2</th>\n",
       "      <td>84091</td>\n",
       "      <td>1c976276-4f1d-42f2-9847-ee2a9c294be0</td>\n",
       "      <td>Darlington</td>\n",
       "      <td>None</td>\n",
       "      <td>4556</td>\n",
       "    </tr>\n",
       "    <tr>\n",
       "      <th>3</th>\n",
       "      <td>251278</td>\n",
       "      <td>e261c5c6-ac98-4953-823c-9ae457a9fa76</td>\n",
       "      <td>London Inner N</td>\n",
       "      <td>None</td>\n",
       "      <td>460</td>\n",
       "    </tr>\n",
       "    <tr>\n",
       "      <th>4</th>\n",
       "      <td>147822</td>\n",
       "      <td>c088179a-a51a-4f80-8e40-9a37210bbb83</td>\n",
       "      <td>London Inner S</td>\n",
       "      <td>None</td>\n",
       "      <td>2362</td>\n",
       "    </tr>\n",
       "  </tbody>\n",
       "</table>\n",
       "</div>"
      ],
      "text/plain": [
       "   driver_id                 applicant_fountain_id           pu_ca  \\\n",
       "0     297416  eaa645d3-28f3-49d2-80d4-cfb2c580a1c8       Newcastle   \n",
       "1     320287  ff9c1a30-d4e5-48f0-baeb-d6b11e168373       Leicester   \n",
       "2      84091  1c976276-4f1d-42f2-9847-ee2a9c294be0      Darlington   \n",
       "3     251278  e261c5c6-ac98-4953-823c-9ae457a9fa76  London Inner N   \n",
       "4     147822  c088179a-a51a-4f80-8e40-9a37210bbb83  London Inner S   \n",
       "\n",
       "  predicted_driver_ca  no_packages  \n",
       "0                None          330  \n",
       "1                None          772  \n",
       "2                None         4556  \n",
       "3                None          460  \n",
       "4                None         2362  "
      ]
     },
     "execution_count": 556,
     "metadata": {},
     "output_type": "execute_result"
    }
   ],
   "source": [
    "no_dup_predicted.head(5)"
   ]
  },
  {
   "cell_type": "code",
   "execution_count": 557,
   "metadata": {},
   "outputs": [
    {
     "data": {
      "text/html": [
       "<div>\n",
       "<style scoped>\n",
       "    .dataframe tbody tr th:only-of-type {\n",
       "        vertical-align: middle;\n",
       "    }\n",
       "\n",
       "    .dataframe tbody tr th {\n",
       "        vertical-align: top;\n",
       "    }\n",
       "\n",
       "    .dataframe thead th {\n",
       "        text-align: right;\n",
       "    }\n",
       "</style>\n",
       "<table border=\"1\" class=\"dataframe\">\n",
       "  <thead>\n",
       "    <tr style=\"text-align: right;\">\n",
       "      <th></th>\n",
       "      <th>driver_id</th>\n",
       "      <th>applicant_fountain_id</th>\n",
       "      <th>pu_ca</th>\n",
       "      <th>predicted_driver_ca</th>\n",
       "      <th>no_packages</th>\n",
       "    </tr>\n",
       "  </thead>\n",
       "  <tbody>\n",
       "    <tr>\n",
       "      <th>0</th>\n",
       "      <td>297416</td>\n",
       "      <td>eaa645d3-28f3-49d2-80d4-cfb2c580a1c8</td>\n",
       "      <td>Newcastle</td>\n",
       "      <td>NaN</td>\n",
       "      <td>330</td>\n",
       "    </tr>\n",
       "    <tr>\n",
       "      <th>1</th>\n",
       "      <td>320287</td>\n",
       "      <td>ff9c1a30-d4e5-48f0-baeb-d6b11e168373</td>\n",
       "      <td>Leicester</td>\n",
       "      <td>NaN</td>\n",
       "      <td>772</td>\n",
       "    </tr>\n",
       "    <tr>\n",
       "      <th>2</th>\n",
       "      <td>84091</td>\n",
       "      <td>1c976276-4f1d-42f2-9847-ee2a9c294be0</td>\n",
       "      <td>Darlington</td>\n",
       "      <td>NaN</td>\n",
       "      <td>4556</td>\n",
       "    </tr>\n",
       "    <tr>\n",
       "      <th>3</th>\n",
       "      <td>251278</td>\n",
       "      <td>e261c5c6-ac98-4953-823c-9ae457a9fa76</td>\n",
       "      <td>London Inner N</td>\n",
       "      <td>NaN</td>\n",
       "      <td>460</td>\n",
       "    </tr>\n",
       "    <tr>\n",
       "      <th>4</th>\n",
       "      <td>147822</td>\n",
       "      <td>c088179a-a51a-4f80-8e40-9a37210bbb83</td>\n",
       "      <td>London Inner S</td>\n",
       "      <td>NaN</td>\n",
       "      <td>2362</td>\n",
       "    </tr>\n",
       "  </tbody>\n",
       "</table>\n",
       "</div>"
      ],
      "text/plain": [
       "   driver_id                 applicant_fountain_id           pu_ca  \\\n",
       "0     297416  eaa645d3-28f3-49d2-80d4-cfb2c580a1c8       Newcastle   \n",
       "1     320287  ff9c1a30-d4e5-48f0-baeb-d6b11e168373       Leicester   \n",
       "2      84091  1c976276-4f1d-42f2-9847-ee2a9c294be0      Darlington   \n",
       "3     251278  e261c5c6-ac98-4953-823c-9ae457a9fa76  London Inner N   \n",
       "4     147822  c088179a-a51a-4f80-8e40-9a37210bbb83  London Inner S   \n",
       "\n",
       "  predicted_driver_ca  no_packages  \n",
       "0                 NaN          330  \n",
       "1                 NaN          772  \n",
       "2                 NaN         4556  \n",
       "3                 NaN          460  \n",
       "4                 NaN         2362  "
      ]
     },
     "execution_count": 557,
     "metadata": {},
     "output_type": "execute_result"
    }
   ],
   "source": [
    "# Replacing None with Null in predicted_catchment_area\n",
    "no_dup_predicted.predicted_driver_ca.fillna(value=np.nan, inplace=True)\n",
    "no_dup_predicted.head(5)"
   ]
  },
  {
   "cell_type": "code",
   "execution_count": 558,
   "metadata": {},
   "outputs": [
    {
     "data": {
      "text/html": [
       "<div>\n",
       "<style scoped>\n",
       "    .dataframe tbody tr th:only-of-type {\n",
       "        vertical-align: middle;\n",
       "    }\n",
       "\n",
       "    .dataframe tbody tr th {\n",
       "        vertical-align: top;\n",
       "    }\n",
       "\n",
       "    .dataframe thead th {\n",
       "        text-align: right;\n",
       "    }\n",
       "</style>\n",
       "<table border=\"1\" class=\"dataframe\">\n",
       "  <thead>\n",
       "    <tr style=\"text-align: right;\">\n",
       "      <th></th>\n",
       "      <th>driver_id</th>\n",
       "      <th>applicant_fountain_id</th>\n",
       "      <th>pu_ca</th>\n",
       "      <th>predicted_driver_ca</th>\n",
       "      <th>no_packages</th>\n",
       "    </tr>\n",
       "  </thead>\n",
       "  <tbody>\n",
       "    <tr>\n",
       "      <th>79</th>\n",
       "      <td>358532</td>\n",
       "      <td>1296da29-5baf-42bc-b014-67116b5d8b45</td>\n",
       "      <td>London Outer SW</td>\n",
       "      <td>London Outer SW</td>\n",
       "      <td>722</td>\n",
       "    </tr>\n",
       "    <tr>\n",
       "      <th>111</th>\n",
       "      <td>346539</td>\n",
       "      <td>fc09fa3d-efc8-46b8-93e2-6094051eaa96</td>\n",
       "      <td>London Outer E</td>\n",
       "      <td>London Outer E</td>\n",
       "      <td>2128</td>\n",
       "    </tr>\n",
       "    <tr>\n",
       "      <th>170</th>\n",
       "      <td>350147</td>\n",
       "      <td>9f1e9d03-d8d0-4c27-bae6-5dd6f52dd658</td>\n",
       "      <td>Chesterfield</td>\n",
       "      <td>Sheffield</td>\n",
       "      <td>3719</td>\n",
       "    </tr>\n",
       "    <tr>\n",
       "      <th>187</th>\n",
       "      <td>394472</td>\n",
       "      <td>f08ae3e2-5b1c-4fdd-a045-90053333a44f</td>\n",
       "      <td>London Inner N</td>\n",
       "      <td>London Inner Lower NW</td>\n",
       "      <td>2</td>\n",
       "    </tr>\n",
       "    <tr>\n",
       "      <th>189</th>\n",
       "      <td>355083</td>\n",
       "      <td>5b9587d3-d691-463f-a15d-d80e88cb1499</td>\n",
       "      <td>Sheffield</td>\n",
       "      <td>Chesterfield</td>\n",
       "      <td>4513</td>\n",
       "    </tr>\n",
       "  </tbody>\n",
       "</table>\n",
       "</div>"
      ],
      "text/plain": [
       "     driver_id                 applicant_fountain_id            pu_ca  \\\n",
       "79      358532  1296da29-5baf-42bc-b014-67116b5d8b45  London Outer SW   \n",
       "111     346539  fc09fa3d-efc8-46b8-93e2-6094051eaa96   London Outer E   \n",
       "170     350147  9f1e9d03-d8d0-4c27-bae6-5dd6f52dd658     Chesterfield   \n",
       "187     394472  f08ae3e2-5b1c-4fdd-a045-90053333a44f   London Inner N   \n",
       "189     355083  5b9587d3-d691-463f-a15d-d80e88cb1499        Sheffield   \n",
       "\n",
       "       predicted_driver_ca  no_packages  \n",
       "79         London Outer SW          722  \n",
       "111         London Outer E         2128  \n",
       "170              Sheffield         3719  \n",
       "187  London Inner Lower NW            2  \n",
       "189           Chesterfield         4513  "
      ]
     },
     "execution_count": 558,
     "metadata": {},
     "output_type": "execute_result"
    }
   ],
   "source": [
    "# Dropped all None values in predicted_driver_ca: Removing drivers whose predicted_CA is Null\n",
    "no_null_predicted = no_dup_predicted[no_dup_predicted['predicted_driver_ca'].isnull()==False]\n",
    "no_null_predicted.head(5)"
   ]
  },
  {
   "cell_type": "code",
   "execution_count": 559,
   "metadata": {},
   "outputs": [
    {
     "data": {
      "text/plain": [
       "8834"
      ]
     },
     "execution_count": 559,
     "metadata": {},
     "output_type": "execute_result"
    }
   ],
   "source": [
    "# Number of individual drivers left\n",
    "no_null_predicted['driver_id'].nunique()\n",
    "\n",
    "# 8358/45690 *100 = 18.29%"
   ]
  },
  {
   "cell_type": "code",
   "execution_count": 560,
   "metadata": {},
   "outputs": [
    {
     "data": {
      "text/html": [
       "<div>\n",
       "<style scoped>\n",
       "    .dataframe tbody tr th:only-of-type {\n",
       "        vertical-align: middle;\n",
       "    }\n",
       "\n",
       "    .dataframe tbody tr th {\n",
       "        vertical-align: top;\n",
       "    }\n",
       "\n",
       "    .dataframe thead th {\n",
       "        text-align: right;\n",
       "    }\n",
       "</style>\n",
       "<table border=\"1\" class=\"dataframe\">\n",
       "  <thead>\n",
       "    <tr style=\"text-align: right;\">\n",
       "      <th></th>\n",
       "      <th>driver_id</th>\n",
       "      <th>applicant_fountain_id</th>\n",
       "      <th>pu_ca</th>\n",
       "      <th>predicted_driver_ca</th>\n",
       "      <th>no_packages</th>\n",
       "    </tr>\n",
       "  </thead>\n",
       "  <tbody>\n",
       "    <tr>\n",
       "      <th>77895</th>\n",
       "      <td>459459</td>\n",
       "      <td>3a3d61b7-e3a9-4fff-a373-425815665caa</td>\n",
       "      <td>Derby</td>\n",
       "      <td>Derby</td>\n",
       "      <td>472</td>\n",
       "    </tr>\n",
       "  </tbody>\n",
       "</table>\n",
       "</div>"
      ],
      "text/plain": [
       "       driver_id                 applicant_fountain_id  pu_ca  \\\n",
       "77895     459459  3a3d61b7-e3a9-4fff-a373-425815665caa  Derby   \n",
       "\n",
       "      predicted_driver_ca  no_packages  \n",
       "77895               Derby          472  "
      ]
     },
     "execution_count": 560,
     "metadata": {},
     "output_type": "execute_result"
    }
   ],
   "source": [
    "# Checking example. Making sure there are no duplicates\n",
    "no_null_predicted[no_null_predicted['driver_id']== 459459]"
   ]
  },
  {
   "cell_type": "code",
   "execution_count": 561,
   "metadata": {},
   "outputs": [
    {
     "data": {
      "text/html": [
       "<div>\n",
       "<style scoped>\n",
       "    .dataframe tbody tr th:only-of-type {\n",
       "        vertical-align: middle;\n",
       "    }\n",
       "\n",
       "    .dataframe tbody tr th {\n",
       "        vertical-align: top;\n",
       "    }\n",
       "\n",
       "    .dataframe thead th {\n",
       "        text-align: right;\n",
       "    }\n",
       "</style>\n",
       "<table border=\"1\" class=\"dataframe\">\n",
       "  <thead>\n",
       "    <tr style=\"text-align: right;\">\n",
       "      <th></th>\n",
       "      <th>driver_id</th>\n",
       "      <th>applicant_fountain_id</th>\n",
       "      <th>pu_ca</th>\n",
       "      <th>predicted_driver_ca</th>\n",
       "      <th>no_packages_x</th>\n",
       "      <th>no_packages_y</th>\n",
       "    </tr>\n",
       "  </thead>\n",
       "  <tbody>\n",
       "    <tr>\n",
       "      <th>0</th>\n",
       "      <td>358532</td>\n",
       "      <td>1296da29-5baf-42bc-b014-67116b5d8b45</td>\n",
       "      <td>London Outer SW</td>\n",
       "      <td>London Outer SW</td>\n",
       "      <td>722</td>\n",
       "      <td>725</td>\n",
       "    </tr>\n",
       "    <tr>\n",
       "      <th>1</th>\n",
       "      <td>358532</td>\n",
       "      <td>1296da29-5baf-42bc-b014-67116b5d8b45</td>\n",
       "      <td>None</td>\n",
       "      <td>London Outer SW</td>\n",
       "      <td>3</td>\n",
       "      <td>725</td>\n",
       "    </tr>\n",
       "    <tr>\n",
       "      <th>2</th>\n",
       "      <td>346539</td>\n",
       "      <td>fc09fa3d-efc8-46b8-93e2-6094051eaa96</td>\n",
       "      <td>London Outer E</td>\n",
       "      <td>London Outer E</td>\n",
       "      <td>2128</td>\n",
       "      <td>2134</td>\n",
       "    </tr>\n",
       "    <tr>\n",
       "      <th>3</th>\n",
       "      <td>346539</td>\n",
       "      <td>fc09fa3d-efc8-46b8-93e2-6094051eaa96</td>\n",
       "      <td>London Inner E</td>\n",
       "      <td>London Outer E</td>\n",
       "      <td>5</td>\n",
       "      <td>2134</td>\n",
       "    </tr>\n",
       "    <tr>\n",
       "      <th>4</th>\n",
       "      <td>346539</td>\n",
       "      <td>fc09fa3d-efc8-46b8-93e2-6094051eaa96</td>\n",
       "      <td>None</td>\n",
       "      <td>London Outer E</td>\n",
       "      <td>1</td>\n",
       "      <td>2134</td>\n",
       "    </tr>\n",
       "  </tbody>\n",
       "</table>\n",
       "</div>"
      ],
      "text/plain": [
       "   driver_id                 applicant_fountain_id            pu_ca  \\\n",
       "0     358532  1296da29-5baf-42bc-b014-67116b5d8b45  London Outer SW   \n",
       "1     358532  1296da29-5baf-42bc-b014-67116b5d8b45             None   \n",
       "2     346539  fc09fa3d-efc8-46b8-93e2-6094051eaa96   London Outer E   \n",
       "3     346539  fc09fa3d-efc8-46b8-93e2-6094051eaa96   London Inner E   \n",
       "4     346539  fc09fa3d-efc8-46b8-93e2-6094051eaa96             None   \n",
       "\n",
       "  predicted_driver_ca  no_packages_x  no_packages_y  \n",
       "0     London Outer SW            722            725  \n",
       "1     London Outer SW              3            725  \n",
       "2      London Outer E           2128           2134  \n",
       "3      London Outer E              5           2134  \n",
       "4      London Outer E              1           2134  "
      ]
     },
     "execution_count": 561,
     "metadata": {},
     "output_type": "execute_result"
    }
   ],
   "source": [
    "# New column: total number of packages each driver did\n",
    "total_pkgs = no_null_predicted.groupby(['driver_id', 'predicted_driver_ca']).sum('no_packages').reset_index()\n",
    "\n",
    "# Merging two datasets\n",
    "merged = pd.merge(no_null_predicted, total_pkgs, left_on = ['driver_id','predicted_driver_ca']\n",
    "                  , right_on = ['driver_id','predicted_driver_ca'])\n",
    "merged.head(5)"
   ]
  },
  {
   "cell_type": "code",
   "execution_count": 562,
   "metadata": {},
   "outputs": [
    {
     "data": {
      "text/html": [
       "<div>\n",
       "<style scoped>\n",
       "    .dataframe tbody tr th:only-of-type {\n",
       "        vertical-align: middle;\n",
       "    }\n",
       "\n",
       "    .dataframe tbody tr th {\n",
       "        vertical-align: top;\n",
       "    }\n",
       "\n",
       "    .dataframe thead th {\n",
       "        text-align: right;\n",
       "    }\n",
       "</style>\n",
       "<table border=\"1\" class=\"dataframe\">\n",
       "  <thead>\n",
       "    <tr style=\"text-align: right;\">\n",
       "      <th></th>\n",
       "      <th>driver_id</th>\n",
       "      <th>applicant_fountain_id</th>\n",
       "      <th>pu_ca</th>\n",
       "      <th>predicted_driver_ca</th>\n",
       "      <th>nb_pkgs_per_predict_CA</th>\n",
       "      <th>total_nb_packages</th>\n",
       "    </tr>\n",
       "  </thead>\n",
       "  <tbody>\n",
       "    <tr>\n",
       "      <th>0</th>\n",
       "      <td>358532</td>\n",
       "      <td>1296da29-5baf-42bc-b014-67116b5d8b45</td>\n",
       "      <td>London Outer SW</td>\n",
       "      <td>London Outer SW</td>\n",
       "      <td>722</td>\n",
       "      <td>725</td>\n",
       "    </tr>\n",
       "    <tr>\n",
       "      <th>1</th>\n",
       "      <td>358532</td>\n",
       "      <td>1296da29-5baf-42bc-b014-67116b5d8b45</td>\n",
       "      <td>None</td>\n",
       "      <td>London Outer SW</td>\n",
       "      <td>3</td>\n",
       "      <td>725</td>\n",
       "    </tr>\n",
       "    <tr>\n",
       "      <th>2</th>\n",
       "      <td>346539</td>\n",
       "      <td>fc09fa3d-efc8-46b8-93e2-6094051eaa96</td>\n",
       "      <td>London Outer E</td>\n",
       "      <td>London Outer E</td>\n",
       "      <td>2128</td>\n",
       "      <td>2134</td>\n",
       "    </tr>\n",
       "    <tr>\n",
       "      <th>3</th>\n",
       "      <td>346539</td>\n",
       "      <td>fc09fa3d-efc8-46b8-93e2-6094051eaa96</td>\n",
       "      <td>London Inner E</td>\n",
       "      <td>London Outer E</td>\n",
       "      <td>5</td>\n",
       "      <td>2134</td>\n",
       "    </tr>\n",
       "    <tr>\n",
       "      <th>4</th>\n",
       "      <td>346539</td>\n",
       "      <td>fc09fa3d-efc8-46b8-93e2-6094051eaa96</td>\n",
       "      <td>None</td>\n",
       "      <td>London Outer E</td>\n",
       "      <td>1</td>\n",
       "      <td>2134</td>\n",
       "    </tr>\n",
       "  </tbody>\n",
       "</table>\n",
       "</div>"
      ],
      "text/plain": [
       "   driver_id                 applicant_fountain_id            pu_ca  \\\n",
       "0     358532  1296da29-5baf-42bc-b014-67116b5d8b45  London Outer SW   \n",
       "1     358532  1296da29-5baf-42bc-b014-67116b5d8b45             None   \n",
       "2     346539  fc09fa3d-efc8-46b8-93e2-6094051eaa96   London Outer E   \n",
       "3     346539  fc09fa3d-efc8-46b8-93e2-6094051eaa96   London Inner E   \n",
       "4     346539  fc09fa3d-efc8-46b8-93e2-6094051eaa96             None   \n",
       "\n",
       "  predicted_driver_ca  nb_pkgs_per_predict_CA  total_nb_packages  \n",
       "0     London Outer SW                     722                725  \n",
       "1     London Outer SW                       3                725  \n",
       "2      London Outer E                    2128               2134  \n",
       "3      London Outer E                       5               2134  \n",
       "4      London Outer E                       1               2134  "
      ]
     },
     "execution_count": 562,
     "metadata": {},
     "output_type": "execute_result"
    }
   ],
   "source": [
    "# Renaming columns for clarity\n",
    "merged = merged.rename(columns = {'no_packages_x' : 'nb_pkgs_per_predict_CA', 'no_packages_y' : 'total_nb_packages' , 'zone_name' : 'zone_name_of_driver_pu_ca'})\n",
    "merged.head(5)\n"
   ]
  },
  {
   "cell_type": "code",
   "execution_count": 563,
   "metadata": {},
   "outputs": [
    {
     "data": {
      "text/html": [
       "<div>\n",
       "<style scoped>\n",
       "    .dataframe tbody tr th:only-of-type {\n",
       "        vertical-align: middle;\n",
       "    }\n",
       "\n",
       "    .dataframe tbody tr th {\n",
       "        vertical-align: top;\n",
       "    }\n",
       "\n",
       "    .dataframe thead th {\n",
       "        text-align: right;\n",
       "    }\n",
       "</style>\n",
       "<table border=\"1\" class=\"dataframe\">\n",
       "  <thead>\n",
       "    <tr style=\"text-align: right;\">\n",
       "      <th></th>\n",
       "      <th>driver_id</th>\n",
       "      <th>pu_ca</th>\n",
       "      <th>predicted_driver_ca</th>\n",
       "      <th>nb_pkgs_per_predict_CA</th>\n",
       "      <th>total_nb_packages</th>\n",
       "    </tr>\n",
       "  </thead>\n",
       "  <tbody>\n",
       "    <tr>\n",
       "      <th>0</th>\n",
       "      <td>358532</td>\n",
       "      <td>London Outer SW</td>\n",
       "      <td>London Outer SW</td>\n",
       "      <td>722</td>\n",
       "      <td>725</td>\n",
       "    </tr>\n",
       "    <tr>\n",
       "      <th>1</th>\n",
       "      <td>358532</td>\n",
       "      <td>None</td>\n",
       "      <td>London Outer SW</td>\n",
       "      <td>3</td>\n",
       "      <td>725</td>\n",
       "    </tr>\n",
       "    <tr>\n",
       "      <th>2</th>\n",
       "      <td>346539</td>\n",
       "      <td>London Outer E</td>\n",
       "      <td>London Outer E</td>\n",
       "      <td>2128</td>\n",
       "      <td>2134</td>\n",
       "    </tr>\n",
       "    <tr>\n",
       "      <th>3</th>\n",
       "      <td>346539</td>\n",
       "      <td>London Inner E</td>\n",
       "      <td>London Outer E</td>\n",
       "      <td>5</td>\n",
       "      <td>2134</td>\n",
       "    </tr>\n",
       "    <tr>\n",
       "      <th>4</th>\n",
       "      <td>346539</td>\n",
       "      <td>None</td>\n",
       "      <td>London Outer E</td>\n",
       "      <td>1</td>\n",
       "      <td>2134</td>\n",
       "    </tr>\n",
       "  </tbody>\n",
       "</table>\n",
       "</div>"
      ],
      "text/plain": [
       "   driver_id            pu_ca predicted_driver_ca  nb_pkgs_per_predict_CA  \\\n",
       "0     358532  London Outer SW     London Outer SW                     722   \n",
       "1     358532             None     London Outer SW                       3   \n",
       "2     346539   London Outer E      London Outer E                    2128   \n",
       "3     346539   London Inner E      London Outer E                       5   \n",
       "4     346539             None      London Outer E                       1   \n",
       "\n",
       "   total_nb_packages  \n",
       "0                725  \n",
       "1                725  \n",
       "2               2134  \n",
       "3               2134  \n",
       "4               2134  "
      ]
     },
     "execution_count": 563,
     "metadata": {},
     "output_type": "execute_result"
    }
   ],
   "source": [
    "# Dropping columns we don't need\n",
    "clean = merged.drop(columns=['applicant_fountain_id'])\n",
    "clean.head(5)"
   ]
  },
  {
   "cell_type": "markdown",
   "metadata": {},
   "source": [
    "            Creating a metric to get \"CA each driver mostly worked in where each driver who does not live in a CA\""
   ]
  },
  {
   "cell_type": "code",
   "execution_count": 564,
   "metadata": {},
   "outputs": [
    {
     "data": {
      "text/html": [
       "<div>\n",
       "<style scoped>\n",
       "    .dataframe tbody tr th:only-of-type {\n",
       "        vertical-align: middle;\n",
       "    }\n",
       "\n",
       "    .dataframe tbody tr th {\n",
       "        vertical-align: top;\n",
       "    }\n",
       "\n",
       "    .dataframe thead th {\n",
       "        text-align: right;\n",
       "    }\n",
       "</style>\n",
       "<table border=\"1\" class=\"dataframe\">\n",
       "  <thead>\n",
       "    <tr style=\"text-align: right;\">\n",
       "      <th></th>\n",
       "      <th>driver_id</th>\n",
       "      <th>pu_ca</th>\n",
       "      <th>predicted_driver_ca</th>\n",
       "      <th>nb_pkgs_per_predict_CA</th>\n",
       "      <th>total_nb_packages</th>\n",
       "    </tr>\n",
       "  </thead>\n",
       "  <tbody>\n",
       "    <tr>\n",
       "      <th>0</th>\n",
       "      <td>358532</td>\n",
       "      <td>London Outer SW</td>\n",
       "      <td>London Outer SW</td>\n",
       "      <td>722</td>\n",
       "      <td>725</td>\n",
       "    </tr>\n",
       "    <tr>\n",
       "      <th>1</th>\n",
       "      <td>358532</td>\n",
       "      <td>None</td>\n",
       "      <td>London Outer SW</td>\n",
       "      <td>3</td>\n",
       "      <td>725</td>\n",
       "    </tr>\n",
       "    <tr>\n",
       "      <th>2</th>\n",
       "      <td>346539</td>\n",
       "      <td>London Outer E</td>\n",
       "      <td>London Outer E</td>\n",
       "      <td>2128</td>\n",
       "      <td>2134</td>\n",
       "    </tr>\n",
       "    <tr>\n",
       "      <th>3</th>\n",
       "      <td>346539</td>\n",
       "      <td>London Inner E</td>\n",
       "      <td>London Outer E</td>\n",
       "      <td>5</td>\n",
       "      <td>2134</td>\n",
       "    </tr>\n",
       "    <tr>\n",
       "      <th>4</th>\n",
       "      <td>346539</td>\n",
       "      <td>None</td>\n",
       "      <td>London Outer E</td>\n",
       "      <td>1</td>\n",
       "      <td>2134</td>\n",
       "    </tr>\n",
       "  </tbody>\n",
       "</table>\n",
       "</div>"
      ],
      "text/plain": [
       "   driver_id            pu_ca predicted_driver_ca  nb_pkgs_per_predict_CA  \\\n",
       "0     358532  London Outer SW     London Outer SW                     722   \n",
       "1     358532             None     London Outer SW                       3   \n",
       "2     346539   London Outer E      London Outer E                    2128   \n",
       "3     346539   London Inner E      London Outer E                       5   \n",
       "4     346539             None      London Outer E                       1   \n",
       "\n",
       "   total_nb_packages  \n",
       "0                725  \n",
       "1                725  \n",
       "2               2134  \n",
       "3               2134  \n",
       "4               2134  "
      ]
     },
     "execution_count": 564,
     "metadata": {},
     "output_type": "execute_result"
    }
   ],
   "source": [
    "# New df is the same as clean\n",
    "metric_df = clean.copy()\n",
    "metric_df.head(5)"
   ]
  },
  {
   "cell_type": "code",
   "execution_count": 565,
   "metadata": {},
   "outputs": [
    {
     "data": {
      "text/html": [
       "<div>\n",
       "<style scoped>\n",
       "    .dataframe tbody tr th:only-of-type {\n",
       "        vertical-align: middle;\n",
       "    }\n",
       "\n",
       "    .dataframe tbody tr th {\n",
       "        vertical-align: top;\n",
       "    }\n",
       "\n",
       "    .dataframe thead th {\n",
       "        text-align: right;\n",
       "    }\n",
       "</style>\n",
       "<table border=\"1\" class=\"dataframe\">\n",
       "  <thead>\n",
       "    <tr style=\"text-align: right;\">\n",
       "      <th></th>\n",
       "      <th>driver_id</th>\n",
       "      <th>pu_ca</th>\n",
       "      <th>predicted_driver_ca</th>\n",
       "      <th>nb_pkgs_per_predict_CA</th>\n",
       "      <th>total_nb_packages</th>\n",
       "      <th>max_ca_deliveries</th>\n",
       "    </tr>\n",
       "  </thead>\n",
       "  <tbody>\n",
       "    <tr>\n",
       "      <th>0</th>\n",
       "      <td>358532</td>\n",
       "      <td>London Outer SW</td>\n",
       "      <td>London Outer SW</td>\n",
       "      <td>722</td>\n",
       "      <td>725</td>\n",
       "      <td>722</td>\n",
       "    </tr>\n",
       "    <tr>\n",
       "      <th>1</th>\n",
       "      <td>358532</td>\n",
       "      <td>None</td>\n",
       "      <td>London Outer SW</td>\n",
       "      <td>3</td>\n",
       "      <td>725</td>\n",
       "      <td>722</td>\n",
       "    </tr>\n",
       "    <tr>\n",
       "      <th>2</th>\n",
       "      <td>346539</td>\n",
       "      <td>London Outer E</td>\n",
       "      <td>London Outer E</td>\n",
       "      <td>2128</td>\n",
       "      <td>2134</td>\n",
       "      <td>2128</td>\n",
       "    </tr>\n",
       "    <tr>\n",
       "      <th>3</th>\n",
       "      <td>346539</td>\n",
       "      <td>London Inner E</td>\n",
       "      <td>London Outer E</td>\n",
       "      <td>5</td>\n",
       "      <td>2134</td>\n",
       "      <td>2128</td>\n",
       "    </tr>\n",
       "    <tr>\n",
       "      <th>4</th>\n",
       "      <td>346539</td>\n",
       "      <td>None</td>\n",
       "      <td>London Outer E</td>\n",
       "      <td>1</td>\n",
       "      <td>2134</td>\n",
       "      <td>2128</td>\n",
       "    </tr>\n",
       "  </tbody>\n",
       "</table>\n",
       "</div>"
      ],
      "text/plain": [
       "   driver_id            pu_ca predicted_driver_ca  nb_pkgs_per_predict_CA  \\\n",
       "0     358532  London Outer SW     London Outer SW                     722   \n",
       "1     358532             None     London Outer SW                       3   \n",
       "2     346539   London Outer E      London Outer E                    2128   \n",
       "3     346539   London Inner E      London Outer E                       5   \n",
       "4     346539             None      London Outer E                       1   \n",
       "\n",
       "   total_nb_packages  max_ca_deliveries  \n",
       "0                725                722  \n",
       "1                725                722  \n",
       "2               2134               2128  \n",
       "3               2134               2128  \n",
       "4               2134               2128  "
      ]
     },
     "execution_count": 565,
     "metadata": {},
     "output_type": "execute_result"
    }
   ],
   "source": [
    "#Obtaining max number of deliveries made in CA to check for later if a courier did his most deliveries in predicted CA \n",
    "metric_df['max_ca_deliveries']= metric_df.groupby(['driver_id'])['nb_pkgs_per_predict_CA'].transform(max)\n",
    "metric_df.head(5)\n"
   ]
  },
  {
   "cell_type": "code",
   "execution_count": 566,
   "metadata": {},
   "outputs": [
    {
     "data": {
      "text/html": [
       "<div>\n",
       "<style scoped>\n",
       "    .dataframe tbody tr th:only-of-type {\n",
       "        vertical-align: middle;\n",
       "    }\n",
       "\n",
       "    .dataframe tbody tr th {\n",
       "        vertical-align: top;\n",
       "    }\n",
       "\n",
       "    .dataframe thead th {\n",
       "        text-align: right;\n",
       "    }\n",
       "</style>\n",
       "<table border=\"1\" class=\"dataframe\">\n",
       "  <thead>\n",
       "    <tr style=\"text-align: right;\">\n",
       "      <th></th>\n",
       "      <th>driver_id</th>\n",
       "      <th>pu_ca</th>\n",
       "      <th>predicted_driver_ca</th>\n",
       "      <th>nb_pkgs_per_predict_CA</th>\n",
       "      <th>total_nb_packages</th>\n",
       "      <th>max_ca_deliveries</th>\n",
       "    </tr>\n",
       "  </thead>\n",
       "  <tbody>\n",
       "    <tr>\n",
       "      <th>0</th>\n",
       "      <td>358532</td>\n",
       "      <td>London Outer SW</td>\n",
       "      <td>London Outer SW</td>\n",
       "      <td>722</td>\n",
       "      <td>725</td>\n",
       "      <td>722</td>\n",
       "    </tr>\n",
       "    <tr>\n",
       "      <th>2</th>\n",
       "      <td>346539</td>\n",
       "      <td>London Outer E</td>\n",
       "      <td>London Outer E</td>\n",
       "      <td>2128</td>\n",
       "      <td>2134</td>\n",
       "      <td>2128</td>\n",
       "    </tr>\n",
       "    <tr>\n",
       "      <th>5</th>\n",
       "      <td>350147</td>\n",
       "      <td>Chesterfield</td>\n",
       "      <td>Sheffield</td>\n",
       "      <td>3719</td>\n",
       "      <td>3782</td>\n",
       "      <td>3719</td>\n",
       "    </tr>\n",
       "    <tr>\n",
       "      <th>9</th>\n",
       "      <td>394472</td>\n",
       "      <td>London Inner Lower NW</td>\n",
       "      <td>London Inner Lower NW</td>\n",
       "      <td>461</td>\n",
       "      <td>505</td>\n",
       "      <td>461</td>\n",
       "    </tr>\n",
       "    <tr>\n",
       "      <th>15</th>\n",
       "      <td>355083</td>\n",
       "      <td>Sheffield</td>\n",
       "      <td>Chesterfield</td>\n",
       "      <td>4513</td>\n",
       "      <td>5429</td>\n",
       "      <td>4513</td>\n",
       "    </tr>\n",
       "    <tr>\n",
       "      <th>...</th>\n",
       "      <td>...</td>\n",
       "      <td>...</td>\n",
       "      <td>...</td>\n",
       "      <td>...</td>\n",
       "      <td>...</td>\n",
       "      <td>...</td>\n",
       "    </tr>\n",
       "    <tr>\n",
       "      <th>18479</th>\n",
       "      <td>500135</td>\n",
       "      <td>London Inner S</td>\n",
       "      <td>London Outer Lower NW</td>\n",
       "      <td>1</td>\n",
       "      <td>1</td>\n",
       "      <td>1</td>\n",
       "    </tr>\n",
       "    <tr>\n",
       "      <th>18480</th>\n",
       "      <td>455480</td>\n",
       "      <td>London Inner E</td>\n",
       "      <td>London Inner E</td>\n",
       "      <td>1</td>\n",
       "      <td>1</td>\n",
       "      <td>1</td>\n",
       "    </tr>\n",
       "    <tr>\n",
       "      <th>18481</th>\n",
       "      <td>468244</td>\n",
       "      <td>None</td>\n",
       "      <td>Bristol Central Area</td>\n",
       "      <td>1</td>\n",
       "      <td>1</td>\n",
       "      <td>1</td>\n",
       "    </tr>\n",
       "    <tr>\n",
       "      <th>18482</th>\n",
       "      <td>477084</td>\n",
       "      <td>London Outer N</td>\n",
       "      <td>London Border N</td>\n",
       "      <td>1</td>\n",
       "      <td>1</td>\n",
       "      <td>1</td>\n",
       "    </tr>\n",
       "    <tr>\n",
       "      <th>18483</th>\n",
       "      <td>481164</td>\n",
       "      <td>London Outer NE</td>\n",
       "      <td>London Outer NE</td>\n",
       "      <td>1</td>\n",
       "      <td>1</td>\n",
       "      <td>1</td>\n",
       "    </tr>\n",
       "  </tbody>\n",
       "</table>\n",
       "<p>8900 rows × 6 columns</p>\n",
       "</div>"
      ],
      "text/plain": [
       "       driver_id                  pu_ca    predicted_driver_ca  \\\n",
       "0         358532        London Outer SW        London Outer SW   \n",
       "2         346539         London Outer E         London Outer E   \n",
       "5         350147           Chesterfield              Sheffield   \n",
       "9         394472  London Inner Lower NW  London Inner Lower NW   \n",
       "15        355083              Sheffield           Chesterfield   \n",
       "...          ...                    ...                    ...   \n",
       "18479     500135         London Inner S  London Outer Lower NW   \n",
       "18480     455480         London Inner E         London Inner E   \n",
       "18481     468244                   None   Bristol Central Area   \n",
       "18482     477084         London Outer N        London Border N   \n",
       "18483     481164        London Outer NE        London Outer NE   \n",
       "\n",
       "       nb_pkgs_per_predict_CA  total_nb_packages  max_ca_deliveries  \n",
       "0                         722                725                722  \n",
       "2                        2128               2134               2128  \n",
       "5                        3719               3782               3719  \n",
       "9                         461                505                461  \n",
       "15                       4513               5429               4513  \n",
       "...                       ...                ...                ...  \n",
       "18479                       1                  1                  1  \n",
       "18480                       1                  1                  1  \n",
       "18481                       1                  1                  1  \n",
       "18482                       1                  1                  1  \n",
       "18483                       1                  1                  1  \n",
       "\n",
       "[8900 rows x 6 columns]"
      ]
     },
     "execution_count": 566,
     "metadata": {},
     "output_type": "execute_result"
    }
   ],
   "source": [
    "# Metric: Create a column: mostly_worked_in_ca by choosing the CA where a courier did most of his deliveries. \n",
    "\n",
    "metric_final = metric_df[metric_df['nb_pkgs_per_predict_CA'] == metric_df['max_ca_deliveries']].copy()\n",
    "metric_final\n"
   ]
  },
  {
   "cell_type": "code",
   "execution_count": 567,
   "metadata": {},
   "outputs": [
    {
     "data": {
      "text/plain": [
       "3356     485909\n",
       "4562     473199\n",
       "5083     454789\n",
       "5772     464691\n",
       "6592     485268\n",
       "          ...  \n",
       "18165    469442\n",
       "18195    408428\n",
       "18200    465229\n",
       "18224    466353\n",
       "18412    462518\n",
       "Name: driver_id, Length: 66, dtype: int64"
      ]
     },
     "execution_count": 567,
     "metadata": {},
     "output_type": "execute_result"
    }
   ],
   "source": [
    "metric_final[metric_final['driver_id'].duplicated()]['driver_id']"
   ]
  },
  {
   "cell_type": "markdown",
   "metadata": {},
   "source": [
    "Received duplicates (66 drivers did equal number of deliveres in two CA). Solution is to drop these as they compose less than 1% of couriers."
   ]
  },
  {
   "cell_type": "code",
   "execution_count": 568,
   "metadata": {},
   "outputs": [
    {
     "data": {
      "text/html": [
       "<div>\n",
       "<style scoped>\n",
       "    .dataframe tbody tr th:only-of-type {\n",
       "        vertical-align: middle;\n",
       "    }\n",
       "\n",
       "    .dataframe tbody tr th {\n",
       "        vertical-align: top;\n",
       "    }\n",
       "\n",
       "    .dataframe thead th {\n",
       "        text-align: right;\n",
       "    }\n",
       "</style>\n",
       "<table border=\"1\" class=\"dataframe\">\n",
       "  <thead>\n",
       "    <tr style=\"text-align: right;\">\n",
       "      <th></th>\n",
       "      <th>driver_id</th>\n",
       "      <th>pu_ca</th>\n",
       "      <th>predicted_driver_ca</th>\n",
       "      <th>nb_pkgs_per_predict_CA</th>\n",
       "      <th>total_nb_packages</th>\n",
       "      <th>max_ca_deliveries</th>\n",
       "      <th>is_same</th>\n",
       "    </tr>\n",
       "  </thead>\n",
       "  <tbody>\n",
       "    <tr>\n",
       "      <th>0</th>\n",
       "      <td>358532</td>\n",
       "      <td>London Outer SW</td>\n",
       "      <td>London Outer SW</td>\n",
       "      <td>722</td>\n",
       "      <td>725</td>\n",
       "      <td>722</td>\n",
       "      <td>1</td>\n",
       "    </tr>\n",
       "    <tr>\n",
       "      <th>2</th>\n",
       "      <td>346539</td>\n",
       "      <td>London Outer E</td>\n",
       "      <td>London Outer E</td>\n",
       "      <td>2128</td>\n",
       "      <td>2134</td>\n",
       "      <td>2128</td>\n",
       "      <td>1</td>\n",
       "    </tr>\n",
       "    <tr>\n",
       "      <th>5</th>\n",
       "      <td>350147</td>\n",
       "      <td>Chesterfield</td>\n",
       "      <td>Sheffield</td>\n",
       "      <td>3719</td>\n",
       "      <td>3782</td>\n",
       "      <td>3719</td>\n",
       "      <td>0</td>\n",
       "    </tr>\n",
       "    <tr>\n",
       "      <th>9</th>\n",
       "      <td>394472</td>\n",
       "      <td>London Inner Lower NW</td>\n",
       "      <td>London Inner Lower NW</td>\n",
       "      <td>461</td>\n",
       "      <td>505</td>\n",
       "      <td>461</td>\n",
       "      <td>1</td>\n",
       "    </tr>\n",
       "    <tr>\n",
       "      <th>15</th>\n",
       "      <td>355083</td>\n",
       "      <td>Sheffield</td>\n",
       "      <td>Chesterfield</td>\n",
       "      <td>4513</td>\n",
       "      <td>5429</td>\n",
       "      <td>4513</td>\n",
       "      <td>0</td>\n",
       "    </tr>\n",
       "  </tbody>\n",
       "</table>\n",
       "</div>"
      ],
      "text/plain": [
       "    driver_id                  pu_ca    predicted_driver_ca  \\\n",
       "0      358532        London Outer SW        London Outer SW   \n",
       "2      346539         London Outer E         London Outer E   \n",
       "5      350147           Chesterfield              Sheffield   \n",
       "9      394472  London Inner Lower NW  London Inner Lower NW   \n",
       "15     355083              Sheffield           Chesterfield   \n",
       "\n",
       "    nb_pkgs_per_predict_CA  total_nb_packages  max_ca_deliveries  is_same  \n",
       "0                      722                725                722        1  \n",
       "2                     2128               2134               2128        1  \n",
       "5                     3719               3782               3719        0  \n",
       "9                      461                505                461        1  \n",
       "15                    4513               5429               4513        0  "
      ]
     },
     "execution_count": 568,
     "metadata": {},
     "output_type": "execute_result"
    }
   ],
   "source": [
    "# Then compare if this CA is the same as driver ca as 1 or 0. \n",
    "metric_final['is_same'] = np.where(metric_final['pu_ca'] == metric_final['predicted_driver_ca'], 1, 0)\n",
    "metric_final.head(5)"
   ]
  },
  {
   "cell_type": "code",
   "execution_count": 569,
   "metadata": {},
   "outputs": [
    {
     "data": {
      "text/html": [
       "<div>\n",
       "<style scoped>\n",
       "    .dataframe tbody tr th:only-of-type {\n",
       "        vertical-align: middle;\n",
       "    }\n",
       "\n",
       "    .dataframe tbody tr th {\n",
       "        vertical-align: top;\n",
       "    }\n",
       "\n",
       "    .dataframe thead th {\n",
       "        text-align: right;\n",
       "    }\n",
       "</style>\n",
       "<table border=\"1\" class=\"dataframe\">\n",
       "  <thead>\n",
       "    <tr style=\"text-align: right;\">\n",
       "      <th></th>\n",
       "      <th>driver_id</th>\n",
       "      <th>nb_pkgs_per_predict_CA</th>\n",
       "      <th>total_nb_packages</th>\n",
       "      <th>max_ca_deliveries</th>\n",
       "      <th>is_same</th>\n",
       "    </tr>\n",
       "  </thead>\n",
       "  <tbody>\n",
       "    <tr>\n",
       "      <th>count</th>\n",
       "      <td>8900.000000</td>\n",
       "      <td>8900.000000</td>\n",
       "      <td>8900.000000</td>\n",
       "      <td>8900.000000</td>\n",
       "      <td>8900.000000</td>\n",
       "    </tr>\n",
       "    <tr>\n",
       "      <th>mean</th>\n",
       "      <td>457448.333820</td>\n",
       "      <td>283.693820</td>\n",
       "      <td>309.051124</td>\n",
       "      <td>283.693820</td>\n",
       "      <td>0.690112</td>\n",
       "    </tr>\n",
       "    <tr>\n",
       "      <th>std</th>\n",
       "      <td>34719.127117</td>\n",
       "      <td>470.198732</td>\n",
       "      <td>511.221966</td>\n",
       "      <td>470.198732</td>\n",
       "      <td>0.462473</td>\n",
       "    </tr>\n",
       "    <tr>\n",
       "      <th>min</th>\n",
       "      <td>339107.000000</td>\n",
       "      <td>1.000000</td>\n",
       "      <td>1.000000</td>\n",
       "      <td>1.000000</td>\n",
       "      <td>0.000000</td>\n",
       "    </tr>\n",
       "    <tr>\n",
       "      <th>25%</th>\n",
       "      <td>449022.000000</td>\n",
       "      <td>26.000000</td>\n",
       "      <td>29.000000</td>\n",
       "      <td>26.000000</td>\n",
       "      <td>0.000000</td>\n",
       "    </tr>\n",
       "    <tr>\n",
       "      <th>50%</th>\n",
       "      <td>466182.500000</td>\n",
       "      <td>113.000000</td>\n",
       "      <td>125.000000</td>\n",
       "      <td>113.000000</td>\n",
       "      <td>1.000000</td>\n",
       "    </tr>\n",
       "    <tr>\n",
       "      <th>75%</th>\n",
       "      <td>481165.250000</td>\n",
       "      <td>338.000000</td>\n",
       "      <td>373.000000</td>\n",
       "      <td>338.000000</td>\n",
       "      <td>1.000000</td>\n",
       "    </tr>\n",
       "    <tr>\n",
       "      <th>max</th>\n",
       "      <td>501306.000000</td>\n",
       "      <td>7705.000000</td>\n",
       "      <td>10945.000000</td>\n",
       "      <td>7705.000000</td>\n",
       "      <td>1.000000</td>\n",
       "    </tr>\n",
       "  </tbody>\n",
       "</table>\n",
       "</div>"
      ],
      "text/plain": [
       "           driver_id  nb_pkgs_per_predict_CA  total_nb_packages  \\\n",
       "count    8900.000000             8900.000000        8900.000000   \n",
       "mean   457448.333820              283.693820         309.051124   \n",
       "std     34719.127117              470.198732         511.221966   \n",
       "min    339107.000000                1.000000           1.000000   \n",
       "25%    449022.000000               26.000000          29.000000   \n",
       "50%    466182.500000              113.000000         125.000000   \n",
       "75%    481165.250000              338.000000         373.000000   \n",
       "max    501306.000000             7705.000000       10945.000000   \n",
       "\n",
       "       max_ca_deliveries      is_same  \n",
       "count        8900.000000  8900.000000  \n",
       "mean          283.693820     0.690112  \n",
       "std           470.198732     0.462473  \n",
       "min             1.000000     0.000000  \n",
       "25%            26.000000     0.000000  \n",
       "50%           113.000000     1.000000  \n",
       "75%           338.000000     1.000000  \n",
       "max          7705.000000     1.000000  "
      ]
     },
     "execution_count": 569,
     "metadata": {},
     "output_type": "execute_result"
    }
   ],
   "source": [
    "# Then calculate the % of 1s \n",
    "metric_final.describe()\n",
    "\n",
    "# 69% of drivers who live in CA mostly do deliveries in their CA"
   ]
  }
 ],
 "metadata": {
  "kernelspec": {
   "display_name": "Python 3 (ipykernel)",
   "language": "python",
   "name": "python3"
  },
  "language_info": {
   "codemirror_mode": {
    "name": "ipython",
    "version": 3
   },
   "file_extension": ".py",
   "mimetype": "text/x-python",
   "name": "python",
   "nbconvert_exporter": "python",
   "pygments_lexer": "ipython3",
   "version": "3.8.12"
  }
 },
 "nbformat": 4,
 "nbformat_minor": 4
}
