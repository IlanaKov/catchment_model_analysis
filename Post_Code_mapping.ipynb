{
 "cells": [
  {
   "cell_type": "code",
   "execution_count": 2,
   "metadata": {},
   "outputs": [],
   "source": [
    "import pandas as pd\n",
    "import numpy as np\n",
    "import plotly.express as px\n",
    "import os \n",
    "import json\n",
    "import sys\n",
    "\n",
    "from functools import lru_cache\n",
    "\n",
    "from botocore.exceptions import ClientError"
   ]
  },
  {
   "cell_type": "code",
   "execution_count": 3,
   "metadata": {},
   "outputs": [],
   "source": [
    "# Tells the location of folders (e.g. aws folder) - creates a path\n",
    "from user_path import set_up_path \n",
    "\n",
    "PATH = set_up_path()\n",
    "sys.path.append(PATH['tools'])\n",
    "sys.path.append(PATH['tools'] + '/functions')\n"
   ]
  },
  {
   "cell_type": "code",
   "execution_count": 4,
   "metadata": {},
   "outputs": [],
   "source": [
    "# Importing custom libraries to connect to DWS and GSheet\n",
    "from functions.database import get_data_from_warehouse\n",
    "from utils.gspread.gsheet_data import GetSheetData"
   ]
  },
  {
   "cell_type": "code",
   "execution_count": 40,
   "metadata": {},
   "outputs": [
    {
     "name": "stdout",
     "output_type": "stream",
     "text": [
      "Connected to the DataWarehouse\n",
      "Result from query obtained\n",
      "Data stored in dataframe\n"
     ]
    }
   ],
   "source": [
    "# Just checking if connected\n",
    "query = \"\"\"select COUNT(DISTINCT stuart_package_id)\n",
    "    \n",
    "from dim.package p\n",
    "WHERE pu_city = 'London'\n",
    "LIMIT 10\n",
    "\"\"\"\n",
    "data = get_data_from_warehouse(query)"
   ]
  },
  {
   "cell_type": "code",
   "execution_count": null,
   "metadata": {},
   "outputs": [],
   "source": [
    "data"
   ]
  },
  {
   "cell_type": "markdown",
   "metadata": {},
   "source": [
    "# Catchment areas (CAs) and Pools"
   ]
  },
  {
   "cell_type": "code",
   "execution_count": 5,
   "metadata": {},
   "outputs": [],
   "source": [
    "from password_downloader import get_passwords\n",
    "# Gets a bunch of passwords. Here is specifically for the uk\n",
    "PASSWORDS = get_passwords('uk') \n",
    "\n",
    "# PASSWORDS helps to get a connection to GSheet???\n",
    "sheet = GetSheetData(DICT=PASSWORDS['gsheet_client_secret'])"
   ]
  },
  {
   "cell_type": "code",
   "execution_count": 6,
   "metadata": {},
   "outputs": [],
   "source": [
    "# Connecting to GSheet\n",
    "sheet_name = 'Sourcing / Onboarding Catchment Areas'\n",
    "\n",
    "# Indicates which GSheet workbook I need\n",
    "tab = 'OB Revamp Mapping'\n",
    "catch_areas = sheet.worksheet_data(sheet_name, tab)"
   ]
  },
  {
   "cell_type": "code",
   "execution_count": 76,
   "metadata": {},
   "outputs": [
    {
     "data": {
      "text/html": [
       "<div>\n",
       "<style scoped>\n",
       "    .dataframe tbody tr th:only-of-type {\n",
       "        vertical-align: middle;\n",
       "    }\n",
       "\n",
       "    .dataframe tbody tr th {\n",
       "        vertical-align: top;\n",
       "    }\n",
       "\n",
       "    .dataframe thead th {\n",
       "        text-align: right;\n",
       "    }\n",
       "</style>\n",
       "<table border=\"1\" class=\"dataframe\">\n",
       "  <thead>\n",
       "    <tr style=\"text-align: right;\">\n",
       "      <th></th>\n",
       "      <th>City</th>\n",
       "      <th>Sourcing / OB Catchment Areas</th>\n",
       "      <th>StuartPoolswithinCatchmentArea</th>\n",
       "      <th></th>\n",
       "      <th></th>\n",
       "      <th></th>\n",
       "      <th></th>\n",
       "      <th></th>\n",
       "      <th></th>\n",
       "      <th></th>\n",
       "      <th></th>\n",
       "    </tr>\n",
       "  </thead>\n",
       "  <tbody>\n",
       "    <tr>\n",
       "      <th>0</th>\n",
       "      <td>Basildon</td>\n",
       "      <td>Basildon</td>\n",
       "      <td>BasildonCentral</td>\n",
       "      <td>Laindon</td>\n",
       "      <td>Pitsea</td>\n",
       "      <td></td>\n",
       "      <td></td>\n",
       "      <td></td>\n",
       "      <td></td>\n",
       "      <td></td>\n",
       "      <td></td>\n",
       "    </tr>\n",
       "    <tr>\n",
       "      <th>1</th>\n",
       "      <td>Birmingham</td>\n",
       "      <td>Birmingham Central</td>\n",
       "      <td>BirminghamCentral</td>\n",
       "      <td>BirminghamYardley</td>\n",
       "      <td>BirminghamHandsworth</td>\n",
       "      <td></td>\n",
       "      <td></td>\n",
       "      <td></td>\n",
       "      <td></td>\n",
       "      <td></td>\n",
       "      <td></td>\n",
       "    </tr>\n",
       "    <tr>\n",
       "      <th>2</th>\n",
       "      <td>Birmingham</td>\n",
       "      <td>Birmingham North</td>\n",
       "      <td>BirminghamErdington</td>\n",
       "      <td>BirminghamSuttonColdfield</td>\n",
       "      <td></td>\n",
       "      <td></td>\n",
       "      <td></td>\n",
       "      <td></td>\n",
       "      <td></td>\n",
       "      <td></td>\n",
       "      <td></td>\n",
       "    </tr>\n",
       "    <tr>\n",
       "      <th>3</th>\n",
       "      <td>Birmingham</td>\n",
       "      <td>Birmingham East</td>\n",
       "      <td>BirminghamSolihull</td>\n",
       "      <td>BirminghamHallGreen</td>\n",
       "      <td>BirminghamAcocksGreen</td>\n",
       "      <td></td>\n",
       "      <td></td>\n",
       "      <td></td>\n",
       "      <td></td>\n",
       "      <td></td>\n",
       "      <td></td>\n",
       "    </tr>\n",
       "    <tr>\n",
       "      <th>4</th>\n",
       "      <td>Birmingham</td>\n",
       "      <td>Birmingham South</td>\n",
       "      <td>BirminghamSellyOak</td>\n",
       "      <td>Northfield</td>\n",
       "      <td></td>\n",
       "      <td></td>\n",
       "      <td></td>\n",
       "      <td></td>\n",
       "      <td></td>\n",
       "      <td></td>\n",
       "      <td></td>\n",
       "    </tr>\n",
       "  </tbody>\n",
       "</table>\n",
       "</div>"
      ],
      "text/plain": [
       "         City Sourcing / OB Catchment Areas StuartPoolswithinCatchmentArea  \\\n",
       "0    Basildon                      Basildon                BasildonCentral   \n",
       "1  Birmingham            Birmingham Central              BirminghamCentral   \n",
       "2  Birmingham              Birmingham North            BirminghamErdington   \n",
       "3  Birmingham               Birmingham East             BirminghamSolihull   \n",
       "4  Birmingham              Birmingham South             BirminghamSellyOak   \n",
       "\n",
       "                                                                 \n",
       "0                    Laindon                 Pitsea              \n",
       "1          BirminghamYardley   BirminghamHandsworth              \n",
       "2  BirminghamSuttonColdfield                                     \n",
       "3        BirminghamHallGreen  BirminghamAcocksGreen              \n",
       "4                 Northfield                                     "
      ]
     },
     "execution_count": 76,
     "metadata": {},
     "output_type": "execute_result"
    }
   ],
   "source": [
    "catch_areas.head()"
   ]
  },
  {
   "cell_type": "code",
   "execution_count": 8,
   "metadata": {},
   "outputs": [],
   "source": [
    "# Pivot Longer the table\n",
    "catch_areas1 = catch_areas.melt(id_vars=['City','Sourcing / OB Catchment Areas'])"
   ]
  },
  {
   "cell_type": "code",
   "execution_count": 9,
   "metadata": {},
   "outputs": [],
   "source": [
    "# Dropping off City and Variable \n",
    "catch_areas1.drop(columns=['variable','City'], inplace=True) "
   ]
  },
  {
   "cell_type": "code",
   "execution_count": 10,
   "metadata": {},
   "outputs": [
    {
     "data": {
      "text/html": [
       "<div>\n",
       "<style scoped>\n",
       "    .dataframe tbody tr th:only-of-type {\n",
       "        vertical-align: middle;\n",
       "    }\n",
       "\n",
       "    .dataframe tbody tr th {\n",
       "        vertical-align: top;\n",
       "    }\n",
       "\n",
       "    .dataframe thead th {\n",
       "        text-align: right;\n",
       "    }\n",
       "</style>\n",
       "<table border=\"1\" class=\"dataframe\">\n",
       "  <thead>\n",
       "    <tr style=\"text-align: right;\">\n",
       "      <th></th>\n",
       "      <th>Sourcing / OB Catchment Areas</th>\n",
       "      <th>value</th>\n",
       "    </tr>\n",
       "  </thead>\n",
       "  <tbody>\n",
       "    <tr>\n",
       "      <th>0</th>\n",
       "      <td>Basildon</td>\n",
       "      <td>BasildonCentral</td>\n",
       "    </tr>\n",
       "    <tr>\n",
       "      <th>1</th>\n",
       "      <td>Birmingham Central</td>\n",
       "      <td>BirminghamCentral</td>\n",
       "    </tr>\n",
       "    <tr>\n",
       "      <th>2</th>\n",
       "      <td>Birmingham North</td>\n",
       "      <td>BirminghamErdington</td>\n",
       "    </tr>\n",
       "    <tr>\n",
       "      <th>3</th>\n",
       "      <td>Birmingham East</td>\n",
       "      <td>BirminghamSolihull</td>\n",
       "    </tr>\n",
       "    <tr>\n",
       "      <th>4</th>\n",
       "      <td>Birmingham South</td>\n",
       "      <td>BirminghamSellyOak</td>\n",
       "    </tr>\n",
       "    <tr>\n",
       "      <th>...</th>\n",
       "      <td>...</td>\n",
       "      <td>...</td>\n",
       "    </tr>\n",
       "    <tr>\n",
       "      <th>733</th>\n",
       "      <td>Sunderland</td>\n",
       "      <td></td>\n",
       "    </tr>\n",
       "    <tr>\n",
       "      <th>734</th>\n",
       "      <td>Teesside</td>\n",
       "      <td></td>\n",
       "    </tr>\n",
       "    <tr>\n",
       "      <th>735</th>\n",
       "      <td>St Helens</td>\n",
       "      <td></td>\n",
       "    </tr>\n",
       "    <tr>\n",
       "      <th>736</th>\n",
       "      <td>Warrington City</td>\n",
       "      <td></td>\n",
       "    </tr>\n",
       "    <tr>\n",
       "      <th>737</th>\n",
       "      <td>Widnes</td>\n",
       "      <td></td>\n",
       "    </tr>\n",
       "  </tbody>\n",
       "</table>\n",
       "<p>738 rows × 2 columns</p>\n",
       "</div>"
      ],
      "text/plain": [
       "    Sourcing / OB Catchment Areas                value\n",
       "0                        Basildon      BasildonCentral\n",
       "1              Birmingham Central    BirminghamCentral\n",
       "2                Birmingham North  BirminghamErdington\n",
       "3                 Birmingham East   BirminghamSolihull\n",
       "4                Birmingham South   BirminghamSellyOak\n",
       "..                            ...                  ...\n",
       "733                    Sunderland                     \n",
       "734                      Teesside                     \n",
       "735                     St Helens                     \n",
       "736               Warrington City                     \n",
       "737                        Widnes                     \n",
       "\n",
       "[738 rows x 2 columns]"
      ]
     },
     "execution_count": 10,
     "metadata": {},
     "output_type": "execute_result"
    }
   ],
   "source": [
    "catch_areas1"
   ]
  },
  {
   "cell_type": "code",
   "execution_count": 11,
   "metadata": {},
   "outputs": [],
   "source": [
    "# Replacing empty rows with na values and dropping them\n",
    "catch_areas2 = catch_areas1.replace(r'^\\s*$', np.nan, regex=True).dropna(subset=['value'])"
   ]
  },
  {
   "cell_type": "code",
   "execution_count": 12,
   "metadata": {},
   "outputs": [
    {
     "data": {
      "text/html": [
       "<div>\n",
       "<style scoped>\n",
       "    .dataframe tbody tr th:only-of-type {\n",
       "        vertical-align: middle;\n",
       "    }\n",
       "\n",
       "    .dataframe tbody tr th {\n",
       "        vertical-align: top;\n",
       "    }\n",
       "\n",
       "    .dataframe thead th {\n",
       "        text-align: right;\n",
       "    }\n",
       "</style>\n",
       "<table border=\"1\" class=\"dataframe\">\n",
       "  <thead>\n",
       "    <tr style=\"text-align: right;\">\n",
       "      <th></th>\n",
       "      <th>Sourcing / OB Catchment Areas</th>\n",
       "      <th>value</th>\n",
       "    </tr>\n",
       "  </thead>\n",
       "  <tbody>\n",
       "    <tr>\n",
       "      <th>0</th>\n",
       "      <td>Basildon</td>\n",
       "      <td>BasildonCentral</td>\n",
       "    </tr>\n",
       "    <tr>\n",
       "      <th>1</th>\n",
       "      <td>Birmingham Central</td>\n",
       "      <td>BirminghamCentral</td>\n",
       "    </tr>\n",
       "    <tr>\n",
       "      <th>2</th>\n",
       "      <td>Birmingham North</td>\n",
       "      <td>BirminghamErdington</td>\n",
       "    </tr>\n",
       "    <tr>\n",
       "      <th>3</th>\n",
       "      <td>Birmingham East</td>\n",
       "      <td>BirminghamSolihull</td>\n",
       "    </tr>\n",
       "    <tr>\n",
       "      <th>4</th>\n",
       "      <td>Birmingham South</td>\n",
       "      <td>BirminghamSellyOak</td>\n",
       "    </tr>\n",
       "    <tr>\n",
       "      <th>...</th>\n",
       "      <td>...</td>\n",
       "      <td>...</td>\n",
       "    </tr>\n",
       "    <tr>\n",
       "      <th>637</th>\n",
       "      <td>Newcastle</td>\n",
       "      <td>NewcastleRisingSun</td>\n",
       "    </tr>\n",
       "    <tr>\n",
       "      <th>695</th>\n",
       "      <td>London Outer E</td>\n",
       "      <td>Erith</td>\n",
       "    </tr>\n",
       "    <tr>\n",
       "      <th>700</th>\n",
       "      <td>London Border W</td>\n",
       "      <td>Twickenham</td>\n",
       "    </tr>\n",
       "    <tr>\n",
       "      <th>707</th>\n",
       "      <td>London Outer N</td>\n",
       "      <td>FinsburyPark</td>\n",
       "    </tr>\n",
       "    <tr>\n",
       "      <th>719</th>\n",
       "      <td>Newcastle</td>\n",
       "      <td>NewcastleCramlington</td>\n",
       "    </tr>\n",
       "  </tbody>\n",
       "</table>\n",
       "<p>327 rows × 2 columns</p>\n",
       "</div>"
      ],
      "text/plain": [
       "    Sourcing / OB Catchment Areas                 value\n",
       "0                        Basildon       BasildonCentral\n",
       "1              Birmingham Central     BirminghamCentral\n",
       "2                Birmingham North   BirminghamErdington\n",
       "3                 Birmingham East    BirminghamSolihull\n",
       "4                Birmingham South    BirminghamSellyOak\n",
       "..                            ...                   ...\n",
       "637                     Newcastle    NewcastleRisingSun\n",
       "695                London Outer E                 Erith\n",
       "700               London Border W            Twickenham\n",
       "707                London Outer N          FinsburyPark\n",
       "719                     Newcastle  NewcastleCramlington\n",
       "\n",
       "[327 rows x 2 columns]"
      ]
     },
     "execution_count": 12,
     "metadata": {},
     "output_type": "execute_result"
    }
   ],
   "source": [
    "catch_areas2"
   ]
  },
  {
   "cell_type": "code",
   "execution_count": 13,
   "metadata": {},
   "outputs": [],
   "source": [
    "# Renaming columns\n",
    "catch_areas2.rename(columns={'Sourcing / OB Catchment Areas':'catchment_area',\n",
    "                            'value':'stuart_delivery_area'}, inplace=True)"
   ]
  },
  {
   "cell_type": "code",
   "execution_count": 14,
   "metadata": {},
   "outputs": [
    {
     "data": {
      "text/html": [
       "<div>\n",
       "<style scoped>\n",
       "    .dataframe tbody tr th:only-of-type {\n",
       "        vertical-align: middle;\n",
       "    }\n",
       "\n",
       "    .dataframe tbody tr th {\n",
       "        vertical-align: top;\n",
       "    }\n",
       "\n",
       "    .dataframe thead th {\n",
       "        text-align: right;\n",
       "    }\n",
       "</style>\n",
       "<table border=\"1\" class=\"dataframe\">\n",
       "  <thead>\n",
       "    <tr style=\"text-align: right;\">\n",
       "      <th></th>\n",
       "      <th>catchment_area</th>\n",
       "      <th>stuart_delivery_area</th>\n",
       "    </tr>\n",
       "  </thead>\n",
       "  <tbody>\n",
       "    <tr>\n",
       "      <th>0</th>\n",
       "      <td>Basildon</td>\n",
       "      <td>BasildonCentral</td>\n",
       "    </tr>\n",
       "    <tr>\n",
       "      <th>1</th>\n",
       "      <td>Birmingham Central</td>\n",
       "      <td>BirminghamCentral</td>\n",
       "    </tr>\n",
       "    <tr>\n",
       "      <th>2</th>\n",
       "      <td>Birmingham North</td>\n",
       "      <td>BirminghamErdington</td>\n",
       "    </tr>\n",
       "    <tr>\n",
       "      <th>3</th>\n",
       "      <td>Birmingham East</td>\n",
       "      <td>BirminghamSolihull</td>\n",
       "    </tr>\n",
       "    <tr>\n",
       "      <th>4</th>\n",
       "      <td>Birmingham South</td>\n",
       "      <td>BirminghamSellyOak</td>\n",
       "    </tr>\n",
       "    <tr>\n",
       "      <th>...</th>\n",
       "      <td>...</td>\n",
       "      <td>...</td>\n",
       "    </tr>\n",
       "    <tr>\n",
       "      <th>637</th>\n",
       "      <td>Newcastle</td>\n",
       "      <td>NewcastleRisingSun</td>\n",
       "    </tr>\n",
       "    <tr>\n",
       "      <th>695</th>\n",
       "      <td>London Outer E</td>\n",
       "      <td>Erith</td>\n",
       "    </tr>\n",
       "    <tr>\n",
       "      <th>700</th>\n",
       "      <td>London Border W</td>\n",
       "      <td>Twickenham</td>\n",
       "    </tr>\n",
       "    <tr>\n",
       "      <th>707</th>\n",
       "      <td>London Outer N</td>\n",
       "      <td>FinsburyPark</td>\n",
       "    </tr>\n",
       "    <tr>\n",
       "      <th>719</th>\n",
       "      <td>Newcastle</td>\n",
       "      <td>NewcastleCramlington</td>\n",
       "    </tr>\n",
       "  </tbody>\n",
       "</table>\n",
       "<p>327 rows × 2 columns</p>\n",
       "</div>"
      ],
      "text/plain": [
       "         catchment_area  stuart_delivery_area\n",
       "0              Basildon       BasildonCentral\n",
       "1    Birmingham Central     BirminghamCentral\n",
       "2      Birmingham North   BirminghamErdington\n",
       "3       Birmingham East    BirminghamSolihull\n",
       "4      Birmingham South    BirminghamSellyOak\n",
       "..                  ...                   ...\n",
       "637           Newcastle    NewcastleRisingSun\n",
       "695      London Outer E                 Erith\n",
       "700     London Border W            Twickenham\n",
       "707      London Outer N          FinsburyPark\n",
       "719           Newcastle  NewcastleCramlington\n",
       "\n",
       "[327 rows x 2 columns]"
      ]
     },
     "execution_count": 14,
     "metadata": {},
     "output_type": "execute_result"
    }
   ],
   "source": [
    "catch_areas2"
   ]
  },
  {
   "cell_type": "markdown",
   "metadata": {
    "tags": []
   },
   "source": [
    "## PC Mapping"
   ]
  },
  {
   "cell_type": "code",
   "execution_count": 15,
   "metadata": {},
   "outputs": [
    {
     "name": "stdout",
     "output_type": "stream",
     "text": [
      "Connected to the DataWarehouse\n",
      "Result from query obtained\n",
      "Data stored in dataframe\n"
     ]
    }
   ],
   "source": [
    "# CA and pool onboarded drivers worked in \n",
    "query = \"\"\"\n",
    "\n",
    "\n",
    "SELECT d.stuart_driver_id,\n",
    "  --     d.applicant_fountain_id,\n",
    "       uam.application_fountain_id,\n",
    "       uam.postcode_found as driver_postCode,\n",
    "       uam.application_pool,\n",
    "       a.area_name_uscore,\n",
    "   --    a.area_name_cap,\n",
    "       a.area_name_clean,\n",
    "       a.catchment_area,\n",
    "       uam.lat as lat_driver, ---- Just in case\n",
    "       uam.long as long_driver---- Just in case\n",
    " --      z.zone_name\n",
    "\n",
    "FROM o\n",
    "\n",
    "INNER JOIN ops.uk_application_mapping uam\n",
    "    ON uam.application_fountain_id = d.applicant_fountain_id\n",
    "\n",
    "LEFT JOIN ops.area a\n",
    "    ON uam.application_pool = a.area_name_uscore\n",
    "\n",
    "WHERE d.zone_id = 2\n",
    "AND d.is_active = TRUE\n",
    "\n",
    "\"\"\"\n",
    "courier_mapping = get_data_from_warehouse(query)"
   ]
  },
  {
   "cell_type": "code",
   "execution_count": 16,
   "metadata": {},
   "outputs": [
    {
     "data": {
      "text/html": [
       "<div>\n",
       "<style scoped>\n",
       "    .dataframe tbody tr th:only-of-type {\n",
       "        vertical-align: middle;\n",
       "    }\n",
       "\n",
       "    .dataframe tbody tr th {\n",
       "        vertical-align: top;\n",
       "    }\n",
       "\n",
       "    .dataframe thead th {\n",
       "        text-align: right;\n",
       "    }\n",
       "</style>\n",
       "<table border=\"1\" class=\"dataframe\">\n",
       "  <thead>\n",
       "    <tr style=\"text-align: right;\">\n",
       "      <th></th>\n",
       "      <th>stuart_driver_id</th>\n",
       "      <th>application_fountain_id</th>\n",
       "      <th>driver_postcode</th>\n",
       "      <th>application_pool</th>\n",
       "      <th>area_name_uscore</th>\n",
       "      <th>area_name_clean</th>\n",
       "      <th>catchment_area</th>\n",
       "      <th>lat_driver</th>\n",
       "      <th>long_driver</th>\n",
       "    </tr>\n",
       "  </thead>\n",
       "  <tbody>\n",
       "    <tr>\n",
       "      <th>0</th>\n",
       "      <td>342534</td>\n",
       "      <td>6ad7fba2-dbab-4dcc-bcd5-d6bf4cb6f35b</td>\n",
       "      <td>W3 7PQ</td>\n",
       "      <td>Acton</td>\n",
       "      <td>Acton</td>\n",
       "      <td>Acton</td>\n",
       "      <td>London Inner Lower NW</td>\n",
       "      <td>51.518375</td>\n",
       "      <td>-0.252240</td>\n",
       "    </tr>\n",
       "    <tr>\n",
       "      <th>1</th>\n",
       "      <td>363113</td>\n",
       "      <td>c5a86b3a-9793-4d0e-b0d5-262f7c4c9b0a</td>\n",
       "      <td>SE17 3QF</td>\n",
       "      <td>Kennington</td>\n",
       "      <td>Kennington</td>\n",
       "      <td>Kennington</td>\n",
       "      <td>London Inner E</td>\n",
       "      <td>51.487968</td>\n",
       "      <td>-0.101614</td>\n",
       "    </tr>\n",
       "    <tr>\n",
       "      <th>2</th>\n",
       "      <td>346884</td>\n",
       "      <td>89462909-4473-4d13-89c4-d4331e222529</td>\n",
       "      <td>N15 3PX</td>\n",
       "      <td>Wood_Green</td>\n",
       "      <td>Wood_Green</td>\n",
       "      <td>Wood Green</td>\n",
       "      <td>London Outer N</td>\n",
       "      <td>51.586530</td>\n",
       "      <td>-0.095057</td>\n",
       "    </tr>\n",
       "    <tr>\n",
       "      <th>3</th>\n",
       "      <td>346537</td>\n",
       "      <td>1b023183-a8bb-4fa0-b8f7-5f2edfd34421</td>\n",
       "      <td>TW5 9SD</td>\n",
       "      <td>Cranford</td>\n",
       "      <td>Cranford</td>\n",
       "      <td>Cranford</td>\n",
       "      <td>London Outer Lower NW</td>\n",
       "      <td>51.479192</td>\n",
       "      <td>-0.413286</td>\n",
       "    </tr>\n",
       "    <tr>\n",
       "      <th>4</th>\n",
       "      <td>345808</td>\n",
       "      <td>359b26bf-acf6-4da5-b8b5-5a7cb3f99f6b</td>\n",
       "      <td>N7 9QD</td>\n",
       "      <td>Camden</td>\n",
       "      <td>Camden</td>\n",
       "      <td>Camden</td>\n",
       "      <td>London Inner N</td>\n",
       "      <td>51.546373</td>\n",
       "      <td>-0.126110</td>\n",
       "    </tr>\n",
       "    <tr>\n",
       "      <th>...</th>\n",
       "      <td>...</td>\n",
       "      <td>...</td>\n",
       "      <td>...</td>\n",
       "      <td>...</td>\n",
       "      <td>...</td>\n",
       "      <td>...</td>\n",
       "      <td>...</td>\n",
       "      <td>...</td>\n",
       "      <td>...</td>\n",
       "    </tr>\n",
       "    <tr>\n",
       "      <th>9506</th>\n",
       "      <td>466153</td>\n",
       "      <td>31ff5644-a4cd-43f1-b169-48cafd60e2c6</td>\n",
       "      <td>E11 3ES</td>\n",
       "      <td>Leyton</td>\n",
       "      <td>Leyton</td>\n",
       "      <td>Leyton</td>\n",
       "      <td>London Outer NE</td>\n",
       "      <td>51.560615</td>\n",
       "      <td>0.014000</td>\n",
       "    </tr>\n",
       "    <tr>\n",
       "      <th>9507</th>\n",
       "      <td>469604</td>\n",
       "      <td>afbfed9c-2a79-489c-81c0-14b7877b46a5</td>\n",
       "      <td>SE9 5DW</td>\n",
       "      <td>Eltham</td>\n",
       "      <td>Eltham</td>\n",
       "      <td>Eltham</td>\n",
       "      <td>London Outer E</td>\n",
       "      <td>51.450411</td>\n",
       "      <td>0.058959</td>\n",
       "    </tr>\n",
       "    <tr>\n",
       "      <th>9508</th>\n",
       "      <td>455302</td>\n",
       "      <td>55318247-d6aa-4ce0-b45e-825d1c3f33ad</td>\n",
       "      <td>E13 8ES</td>\n",
       "      <td>Canning_Town</td>\n",
       "      <td>Canning_Town</td>\n",
       "      <td>Canning Town</td>\n",
       "      <td>London Outer NE</td>\n",
       "      <td>51.520636</td>\n",
       "      <td>0.017021</td>\n",
       "    </tr>\n",
       "    <tr>\n",
       "      <th>9509</th>\n",
       "      <td>477312</td>\n",
       "      <td>168d49fc-f022-4cd4-934a-1448b7d47798</td>\n",
       "      <td>DA17 6JP</td>\n",
       "      <td>Thamesmead</td>\n",
       "      <td>Thamesmead</td>\n",
       "      <td>Thamesmead</td>\n",
       "      <td>London Outer E</td>\n",
       "      <td>51.492592</td>\n",
       "      <td>0.150435</td>\n",
       "    </tr>\n",
       "    <tr>\n",
       "      <th>9510</th>\n",
       "      <td>473752</td>\n",
       "      <td>af5ac8f6-f7bf-4bda-bd8b-2156a2eb3d61</td>\n",
       "      <td>E6 3EQ</td>\n",
       "      <td>East_Ham</td>\n",
       "      <td>East_Ham</td>\n",
       "      <td>East Ham</td>\n",
       "      <td>London Outer NE</td>\n",
       "      <td>51.526689</td>\n",
       "      <td>0.039851</td>\n",
       "    </tr>\n",
       "  </tbody>\n",
       "</table>\n",
       "<p>9511 rows × 9 columns</p>\n",
       "</div>"
      ],
      "text/plain": [
       "      stuart_driver_id               application_fountain_id driver_postcode  \\\n",
       "0               342534  6ad7fba2-dbab-4dcc-bcd5-d6bf4cb6f35b          W3 7PQ   \n",
       "1               363113  c5a86b3a-9793-4d0e-b0d5-262f7c4c9b0a        SE17 3QF   \n",
       "2               346884  89462909-4473-4d13-89c4-d4331e222529         N15 3PX   \n",
       "3               346537  1b023183-a8bb-4fa0-b8f7-5f2edfd34421         TW5 9SD   \n",
       "4               345808  359b26bf-acf6-4da5-b8b5-5a7cb3f99f6b          N7 9QD   \n",
       "...                ...                                   ...             ...   \n",
       "9506            466153  31ff5644-a4cd-43f1-b169-48cafd60e2c6         E11 3ES   \n",
       "9507            469604  afbfed9c-2a79-489c-81c0-14b7877b46a5         SE9 5DW   \n",
       "9508            455302  55318247-d6aa-4ce0-b45e-825d1c3f33ad         E13 8ES   \n",
       "9509            477312  168d49fc-f022-4cd4-934a-1448b7d47798        DA17 6JP   \n",
       "9510            473752  af5ac8f6-f7bf-4bda-bd8b-2156a2eb3d61          E6 3EQ   \n",
       "\n",
       "     application_pool area_name_uscore area_name_clean         catchment_area  \\\n",
       "0               Acton            Acton           Acton  London Inner Lower NW   \n",
       "1          Kennington       Kennington      Kennington         London Inner E   \n",
       "2          Wood_Green       Wood_Green      Wood Green         London Outer N   \n",
       "3            Cranford         Cranford        Cranford  London Outer Lower NW   \n",
       "4              Camden           Camden          Camden         London Inner N   \n",
       "...               ...              ...             ...                    ...   \n",
       "9506           Leyton           Leyton          Leyton        London Outer NE   \n",
       "9507           Eltham           Eltham          Eltham         London Outer E   \n",
       "9508     Canning_Town     Canning_Town    Canning Town        London Outer NE   \n",
       "9509       Thamesmead       Thamesmead      Thamesmead         London Outer E   \n",
       "9510         East_Ham         East_Ham        East Ham        London Outer NE   \n",
       "\n",
       "      lat_driver  long_driver  \n",
       "0      51.518375    -0.252240  \n",
       "1      51.487968    -0.101614  \n",
       "2      51.586530    -0.095057  \n",
       "3      51.479192    -0.413286  \n",
       "4      51.546373    -0.126110  \n",
       "...          ...          ...  \n",
       "9506   51.560615     0.014000  \n",
       "9507   51.450411     0.058959  \n",
       "9508   51.520636     0.017021  \n",
       "9509   51.492592     0.150435  \n",
       "9510   51.526689     0.039851  \n",
       "\n",
       "[9511 rows x 9 columns]"
      ]
     },
     "execution_count": 16,
     "metadata": {},
     "output_type": "execute_result"
    }
   ],
   "source": [
    "courier_mapping"
   ]
  },
  {
   "cell_type": "code",
   "execution_count": 17,
   "metadata": {},
   "outputs": [
    {
     "data": {
      "text/html": [
       "<div>\n",
       "<style scoped>\n",
       "    .dataframe tbody tr th:only-of-type {\n",
       "        vertical-align: middle;\n",
       "    }\n",
       "\n",
       "    .dataframe tbody tr th {\n",
       "        vertical-align: top;\n",
       "    }\n",
       "\n",
       "    .dataframe thead th {\n",
       "        text-align: right;\n",
       "    }\n",
       "</style>\n",
       "<table border=\"1\" class=\"dataframe\">\n",
       "  <thead>\n",
       "    <tr style=\"text-align: right;\">\n",
       "      <th></th>\n",
       "      <th>stuart_driver_id</th>\n",
       "      <th>lat_driver</th>\n",
       "      <th>long_driver</th>\n",
       "    </tr>\n",
       "  </thead>\n",
       "  <tbody>\n",
       "    <tr>\n",
       "      <th>count</th>\n",
       "      <td>9511.000000</td>\n",
       "      <td>9450.000000</td>\n",
       "      <td>9450.000000</td>\n",
       "    </tr>\n",
       "    <tr>\n",
       "      <th>mean</th>\n",
       "      <td>418922.626433</td>\n",
       "      <td>51.534036</td>\n",
       "      <td>-0.166695</td>\n",
       "    </tr>\n",
       "    <tr>\n",
       "      <th>std</th>\n",
       "      <td>43542.664967</td>\n",
       "      <td>0.293966</td>\n",
       "      <td>0.411841</td>\n",
       "    </tr>\n",
       "    <tr>\n",
       "      <th>min</th>\n",
       "      <td>339072.000000</td>\n",
       "      <td>50.339817</td>\n",
       "      <td>-4.978623</td>\n",
       "    </tr>\n",
       "    <tr>\n",
       "      <th>25%</th>\n",
       "      <td>385963.000000</td>\n",
       "      <td>51.448604</td>\n",
       "      <td>-0.252215</td>\n",
       "    </tr>\n",
       "    <tr>\n",
       "      <th>50%</th>\n",
       "      <td>410763.000000</td>\n",
       "      <td>51.522007</td>\n",
       "      <td>-0.107106</td>\n",
       "    </tr>\n",
       "    <tr>\n",
       "      <th>75%</th>\n",
       "      <td>462710.500000</td>\n",
       "      <td>51.567456</td>\n",
       "      <td>-0.010001</td>\n",
       "    </tr>\n",
       "    <tr>\n",
       "      <th>max</th>\n",
       "      <td>485805.000000</td>\n",
       "      <td>56.127844</td>\n",
       "      <td>1.122188</td>\n",
       "    </tr>\n",
       "  </tbody>\n",
       "</table>\n",
       "</div>"
      ],
      "text/plain": [
       "       stuart_driver_id   lat_driver  long_driver\n",
       "count       9511.000000  9450.000000  9450.000000\n",
       "mean      418922.626433    51.534036    -0.166695\n",
       "std        43542.664967     0.293966     0.411841\n",
       "min       339072.000000    50.339817    -4.978623\n",
       "25%       385963.000000    51.448604    -0.252215\n",
       "50%       410763.000000    51.522007    -0.107106\n",
       "75%       462710.500000    51.567456    -0.010001\n",
       "max       485805.000000    56.127844     1.122188"
      ]
     },
     "execution_count": 17,
     "metadata": {},
     "output_type": "execute_result"
    }
   ],
   "source": [
    "courier_mapping.describe()"
   ]
  },
  {
   "cell_type": "code",
   "execution_count": 18,
   "metadata": {},
   "outputs": [
    {
     "data": {
      "text/plain": [
       "stuart_driver_id             0\n",
       "application_fountain_id      0\n",
       "driver_postcode              0\n",
       "application_pool             0\n",
       "area_name_uscore           942\n",
       "area_name_clean            942\n",
       "catchment_area             942\n",
       "lat_driver                  61\n",
       "long_driver                 61\n",
       "dtype: int64"
      ]
     },
     "execution_count": 18,
     "metadata": {},
     "output_type": "execute_result"
    }
   ],
   "source": [
    "courier_mapping.isnull().sum()"
   ]
  },
  {
   "cell_type": "code",
   "execution_count": 19,
   "metadata": {},
   "outputs": [
    {
     "name": "stdout",
     "output_type": "stream",
     "text": [
      "9.904321312164862\n"
     ]
    }
   ],
   "source": [
    "# Percentage of couriers not living in CA\n",
    "not_in_CA = courier_mapping['catchment_area'].isnull().sum() * 100 / len(courier_mapping.catchment_area)\n",
    "print(not_in_CA)"
   ]
  },
  {
   "cell_type": "code",
   "execution_count": 20,
   "metadata": {},
   "outputs": [
    {
     "name": "stdout",
     "output_type": "stream",
     "text": [
      "90.09567868783513\n"
     ]
    }
   ],
   "source": [
    "# Percentage of couriers living in CA\n",
    "in_CA = courier_mapping['catchment_area'].notnull().sum() * 100 / len(courier_mapping.catchment_area)\n",
    "print(in_CA)"
   ]
  },
  {
   "cell_type": "code",
   "execution_count": 21,
   "metadata": {},
   "outputs": [],
   "source": [
    "courier_inCA = courier_mapping"
   ]
  },
  {
   "cell_type": "code",
   "execution_count": 49,
   "metadata": {},
   "outputs": [
    {
     "data": {
      "text/html": [
       "<div>\n",
       "<style scoped>\n",
       "    .dataframe tbody tr th:only-of-type {\n",
       "        vertical-align: middle;\n",
       "    }\n",
       "\n",
       "    .dataframe tbody tr th {\n",
       "        vertical-align: top;\n",
       "    }\n",
       "\n",
       "    .dataframe thead th {\n",
       "        text-align: right;\n",
       "    }\n",
       "</style>\n",
       "<table border=\"1\" class=\"dataframe\">\n",
       "  <thead>\n",
       "    <tr style=\"text-align: right;\">\n",
       "      <th></th>\n",
       "      <th>stuart_driver_id</th>\n",
       "      <th>application_fountain_id</th>\n",
       "      <th>driver_postcode</th>\n",
       "      <th>application_pool</th>\n",
       "      <th>area_name_uscore</th>\n",
       "      <th>area_name_clean</th>\n",
       "      <th>catchment_area</th>\n",
       "      <th>lat_driver</th>\n",
       "      <th>long_driver</th>\n",
       "      <th>in_CA</th>\n",
       "    </tr>\n",
       "  </thead>\n",
       "  <tbody>\n",
       "    <tr>\n",
       "      <th>0</th>\n",
       "      <td>342534</td>\n",
       "      <td>6ad7fba2-dbab-4dcc-bcd5-d6bf4cb6f35b</td>\n",
       "      <td>W3 7PQ</td>\n",
       "      <td>Acton</td>\n",
       "      <td>Acton</td>\n",
       "      <td>Acton</td>\n",
       "      <td>London Inner Lower NW</td>\n",
       "      <td>51.518375</td>\n",
       "      <td>-0.252240</td>\n",
       "      <td>Yes</td>\n",
       "    </tr>\n",
       "    <tr>\n",
       "      <th>1</th>\n",
       "      <td>363113</td>\n",
       "      <td>c5a86b3a-9793-4d0e-b0d5-262f7c4c9b0a</td>\n",
       "      <td>SE17 3QF</td>\n",
       "      <td>Kennington</td>\n",
       "      <td>Kennington</td>\n",
       "      <td>Kennington</td>\n",
       "      <td>London Inner E</td>\n",
       "      <td>51.487968</td>\n",
       "      <td>-0.101614</td>\n",
       "      <td>Yes</td>\n",
       "    </tr>\n",
       "    <tr>\n",
       "      <th>2</th>\n",
       "      <td>346884</td>\n",
       "      <td>89462909-4473-4d13-89c4-d4331e222529</td>\n",
       "      <td>N15 3PX</td>\n",
       "      <td>Wood_Green</td>\n",
       "      <td>Wood_Green</td>\n",
       "      <td>Wood Green</td>\n",
       "      <td>London Outer N</td>\n",
       "      <td>51.586530</td>\n",
       "      <td>-0.095057</td>\n",
       "      <td>Yes</td>\n",
       "    </tr>\n",
       "    <tr>\n",
       "      <th>3</th>\n",
       "      <td>346537</td>\n",
       "      <td>1b023183-a8bb-4fa0-b8f7-5f2edfd34421</td>\n",
       "      <td>TW5 9SD</td>\n",
       "      <td>Cranford</td>\n",
       "      <td>Cranford</td>\n",
       "      <td>Cranford</td>\n",
       "      <td>London Outer Lower NW</td>\n",
       "      <td>51.479192</td>\n",
       "      <td>-0.413286</td>\n",
       "      <td>Yes</td>\n",
       "    </tr>\n",
       "    <tr>\n",
       "      <th>4</th>\n",
       "      <td>345808</td>\n",
       "      <td>359b26bf-acf6-4da5-b8b5-5a7cb3f99f6b</td>\n",
       "      <td>N7 9QD</td>\n",
       "      <td>Camden</td>\n",
       "      <td>Camden</td>\n",
       "      <td>Camden</td>\n",
       "      <td>London Inner N</td>\n",
       "      <td>51.546373</td>\n",
       "      <td>-0.126110</td>\n",
       "      <td>Yes</td>\n",
       "    </tr>\n",
       "    <tr>\n",
       "      <th>...</th>\n",
       "      <td>...</td>\n",
       "      <td>...</td>\n",
       "      <td>...</td>\n",
       "      <td>...</td>\n",
       "      <td>...</td>\n",
       "      <td>...</td>\n",
       "      <td>...</td>\n",
       "      <td>...</td>\n",
       "      <td>...</td>\n",
       "      <td>...</td>\n",
       "    </tr>\n",
       "    <tr>\n",
       "      <th>9506</th>\n",
       "      <td>466153</td>\n",
       "      <td>31ff5644-a4cd-43f1-b169-48cafd60e2c6</td>\n",
       "      <td>E11 3ES</td>\n",
       "      <td>Leyton</td>\n",
       "      <td>Leyton</td>\n",
       "      <td>Leyton</td>\n",
       "      <td>London Outer NE</td>\n",
       "      <td>51.560615</td>\n",
       "      <td>0.014000</td>\n",
       "      <td>Yes</td>\n",
       "    </tr>\n",
       "    <tr>\n",
       "      <th>9507</th>\n",
       "      <td>469604</td>\n",
       "      <td>afbfed9c-2a79-489c-81c0-14b7877b46a5</td>\n",
       "      <td>SE9 5DW</td>\n",
       "      <td>Eltham</td>\n",
       "      <td>Eltham</td>\n",
       "      <td>Eltham</td>\n",
       "      <td>London Outer E</td>\n",
       "      <td>51.450411</td>\n",
       "      <td>0.058959</td>\n",
       "      <td>Yes</td>\n",
       "    </tr>\n",
       "    <tr>\n",
       "      <th>9508</th>\n",
       "      <td>455302</td>\n",
       "      <td>55318247-d6aa-4ce0-b45e-825d1c3f33ad</td>\n",
       "      <td>E13 8ES</td>\n",
       "      <td>Canning_Town</td>\n",
       "      <td>Canning_Town</td>\n",
       "      <td>Canning Town</td>\n",
       "      <td>London Outer NE</td>\n",
       "      <td>51.520636</td>\n",
       "      <td>0.017021</td>\n",
       "      <td>Yes</td>\n",
       "    </tr>\n",
       "    <tr>\n",
       "      <th>9509</th>\n",
       "      <td>477312</td>\n",
       "      <td>168d49fc-f022-4cd4-934a-1448b7d47798</td>\n",
       "      <td>DA17 6JP</td>\n",
       "      <td>Thamesmead</td>\n",
       "      <td>Thamesmead</td>\n",
       "      <td>Thamesmead</td>\n",
       "      <td>London Outer E</td>\n",
       "      <td>51.492592</td>\n",
       "      <td>0.150435</td>\n",
       "      <td>Yes</td>\n",
       "    </tr>\n",
       "    <tr>\n",
       "      <th>9510</th>\n",
       "      <td>473752</td>\n",
       "      <td>af5ac8f6-f7bf-4bda-bd8b-2156a2eb3d61</td>\n",
       "      <td>E6 3EQ</td>\n",
       "      <td>East_Ham</td>\n",
       "      <td>East_Ham</td>\n",
       "      <td>East Ham</td>\n",
       "      <td>London Outer NE</td>\n",
       "      <td>51.526689</td>\n",
       "      <td>0.039851</td>\n",
       "      <td>Yes</td>\n",
       "    </tr>\n",
       "  </tbody>\n",
       "</table>\n",
       "<p>9511 rows × 10 columns</p>\n",
       "</div>"
      ],
      "text/plain": [
       "      stuart_driver_id               application_fountain_id driver_postcode  \\\n",
       "0               342534  6ad7fba2-dbab-4dcc-bcd5-d6bf4cb6f35b          W3 7PQ   \n",
       "1               363113  c5a86b3a-9793-4d0e-b0d5-262f7c4c9b0a        SE17 3QF   \n",
       "2               346884  89462909-4473-4d13-89c4-d4331e222529         N15 3PX   \n",
       "3               346537  1b023183-a8bb-4fa0-b8f7-5f2edfd34421         TW5 9SD   \n",
       "4               345808  359b26bf-acf6-4da5-b8b5-5a7cb3f99f6b          N7 9QD   \n",
       "...                ...                                   ...             ...   \n",
       "9506            466153  31ff5644-a4cd-43f1-b169-48cafd60e2c6         E11 3ES   \n",
       "9507            469604  afbfed9c-2a79-489c-81c0-14b7877b46a5         SE9 5DW   \n",
       "9508            455302  55318247-d6aa-4ce0-b45e-825d1c3f33ad         E13 8ES   \n",
       "9509            477312  168d49fc-f022-4cd4-934a-1448b7d47798        DA17 6JP   \n",
       "9510            473752  af5ac8f6-f7bf-4bda-bd8b-2156a2eb3d61          E6 3EQ   \n",
       "\n",
       "     application_pool area_name_uscore area_name_clean         catchment_area  \\\n",
       "0               Acton            Acton           Acton  London Inner Lower NW   \n",
       "1          Kennington       Kennington      Kennington         London Inner E   \n",
       "2          Wood_Green       Wood_Green      Wood Green         London Outer N   \n",
       "3            Cranford         Cranford        Cranford  London Outer Lower NW   \n",
       "4              Camden           Camden          Camden         London Inner N   \n",
       "...               ...              ...             ...                    ...   \n",
       "9506           Leyton           Leyton          Leyton        London Outer NE   \n",
       "9507           Eltham           Eltham          Eltham         London Outer E   \n",
       "9508     Canning_Town     Canning_Town    Canning Town        London Outer NE   \n",
       "9509       Thamesmead       Thamesmead      Thamesmead         London Outer E   \n",
       "9510         East_Ham         East_Ham        East Ham        London Outer NE   \n",
       "\n",
       "      lat_driver  long_driver in_CA  \n",
       "0      51.518375    -0.252240   Yes  \n",
       "1      51.487968    -0.101614   Yes  \n",
       "2      51.586530    -0.095057   Yes  \n",
       "3      51.479192    -0.413286   Yes  \n",
       "4      51.546373    -0.126110   Yes  \n",
       "...          ...          ...   ...  \n",
       "9506   51.560615     0.014000   Yes  \n",
       "9507   51.450411     0.058959   Yes  \n",
       "9508   51.520636     0.017021   Yes  \n",
       "9509   51.492592     0.150435   Yes  \n",
       "9510   51.526689     0.039851   Yes  \n",
       "\n",
       "[9511 rows x 10 columns]"
      ]
     },
     "execution_count": 49,
     "metadata": {},
     "output_type": "execute_result"
    }
   ],
   "source": [
    "courier_mapping['in_CA']= np.where(courier_mapping['catchment_area'].notnull() , 'Yes' , 'No')\n",
    "courier_mapping"
   ]
  },
  {
   "cell_type": "code",
   "execution_count": 50,
   "metadata": {},
   "outputs": [
    {
     "data": {
      "text/html": [
       "<div>\n",
       "<style scoped>\n",
       "    .dataframe tbody tr th:only-of-type {\n",
       "        vertical-align: middle;\n",
       "    }\n",
       "\n",
       "    .dataframe tbody tr th {\n",
       "        vertical-align: top;\n",
       "    }\n",
       "\n",
       "    .dataframe thead th {\n",
       "        text-align: right;\n",
       "    }\n",
       "</style>\n",
       "<table border=\"1\" class=\"dataframe\">\n",
       "  <thead>\n",
       "    <tr style=\"text-align: right;\">\n",
       "      <th></th>\n",
       "      <th>in_CA</th>\n",
       "      <th>stuart_driver_id</th>\n",
       "    </tr>\n",
       "  </thead>\n",
       "  <tbody>\n",
       "    <tr>\n",
       "      <th>0</th>\n",
       "      <td>No</td>\n",
       "      <td>942</td>\n",
       "    </tr>\n",
       "    <tr>\n",
       "      <th>1</th>\n",
       "      <td>Yes</td>\n",
       "      <td>8569</td>\n",
       "    </tr>\n",
       "  </tbody>\n",
       "</table>\n",
       "</div>"
      ],
      "text/plain": [
       "  in_CA  stuart_driver_id\n",
       "0    No               942\n",
       "1   Yes              8569"
      ]
     },
     "execution_count": 50,
     "metadata": {},
     "output_type": "execute_result"
    }
   ],
   "source": [
    "in_CA = courier_mapping.groupby('in_CA').agg({'stuart_driver_id':'count'}).reset_index()\n",
    "in_CA"
   ]
  },
  {
   "cell_type": "code",
   "execution_count": 72,
   "metadata": {},
   "outputs": [],
   "source": [
    "# Percentage of drivers who live within CA\n",
    "in_CA['Percentage_drivers_inCA'] = (in_CA['stuart_driver_id']/in_CA['stuart_driver_id'].sum()) * 100\n",
    "in_CA = in_CA.round(0)"
   ]
  },
  {
   "cell_type": "code",
   "execution_count": 83,
   "metadata": {},
   "outputs": [
    {
     "data": {
      "application/vnd.plotly.v1+json": {
       "config": {
        "plotlyServerURL": "https://plot.ly"
       },
       "data": [
        {
         "alignmentgroup": "True",
         "hovertemplate": "in_CA=%{x}<br>Percentage_drivers_inCA=%{text}<extra></extra>",
         "legendgroup": "",
         "marker": {
          "color": "#636efa",
          "pattern": {
           "shape": ""
          }
         },
         "name": "",
         "offsetgroup": "",
         "orientation": "v",
         "showlegend": false,
         "text": [
          10,
          90
         ],
         "textposition": "auto",
         "type": "bar",
         "x": [
          "No",
          "Yes"
         ],
         "xaxis": "x",
         "y": [
          10,
          90
         ],
         "yaxis": "y"
        }
       ],
       "layout": {
        "autosize": true,
        "barmode": "relative",
        "legend": {
         "tracegroupgap": 0
        },
        "template": {
         "data": {
          "bar": [
           {
            "error_x": {
             "color": "#2a3f5f"
            },
            "error_y": {
             "color": "#2a3f5f"
            },
            "marker": {
             "line": {
              "color": "#E5ECF6",
              "width": 0.5
             },
             "pattern": {
              "fillmode": "overlay",
              "size": 10,
              "solidity": 0.2
             }
            },
            "type": "bar"
           }
          ],
          "barpolar": [
           {
            "marker": {
             "line": {
              "color": "#E5ECF6",
              "width": 0.5
             },
             "pattern": {
              "fillmode": "overlay",
              "size": 10,
              "solidity": 0.2
             }
            },
            "type": "barpolar"
           }
          ],
          "carpet": [
           {
            "aaxis": {
             "endlinecolor": "#2a3f5f",
             "gridcolor": "white",
             "linecolor": "white",
             "minorgridcolor": "white",
             "startlinecolor": "#2a3f5f"
            },
            "baxis": {
             "endlinecolor": "#2a3f5f",
             "gridcolor": "white",
             "linecolor": "white",
             "minorgridcolor": "white",
             "startlinecolor": "#2a3f5f"
            },
            "type": "carpet"
           }
          ],
          "choropleth": [
           {
            "colorbar": {
             "outlinewidth": 0,
             "ticks": ""
            },
            "type": "choropleth"
           }
          ],
          "contour": [
           {
            "colorbar": {
             "outlinewidth": 0,
             "ticks": ""
            },
            "colorscale": [
             [
              0,
              "#0d0887"
             ],
             [
              0.1111111111111111,
              "#46039f"
             ],
             [
              0.2222222222222222,
              "#7201a8"
             ],
             [
              0.3333333333333333,
              "#9c179e"
             ],
             [
              0.4444444444444444,
              "#bd3786"
             ],
             [
              0.5555555555555556,
              "#d8576b"
             ],
             [
              0.6666666666666666,
              "#ed7953"
             ],
             [
              0.7777777777777778,
              "#fb9f3a"
             ],
             [
              0.8888888888888888,
              "#fdca26"
             ],
             [
              1,
              "#f0f921"
             ]
            ],
            "type": "contour"
           }
          ],
          "contourcarpet": [
           {
            "colorbar": {
             "outlinewidth": 0,
             "ticks": ""
            },
            "type": "contourcarpet"
           }
          ],
          "heatmap": [
           {
            "colorbar": {
             "outlinewidth": 0,
             "ticks": ""
            },
            "colorscale": [
             [
              0,
              "#0d0887"
             ],
             [
              0.1111111111111111,
              "#46039f"
             ],
             [
              0.2222222222222222,
              "#7201a8"
             ],
             [
              0.3333333333333333,
              "#9c179e"
             ],
             [
              0.4444444444444444,
              "#bd3786"
             ],
             [
              0.5555555555555556,
              "#d8576b"
             ],
             [
              0.6666666666666666,
              "#ed7953"
             ],
             [
              0.7777777777777778,
              "#fb9f3a"
             ],
             [
              0.8888888888888888,
              "#fdca26"
             ],
             [
              1,
              "#f0f921"
             ]
            ],
            "type": "heatmap"
           }
          ],
          "heatmapgl": [
           {
            "colorbar": {
             "outlinewidth": 0,
             "ticks": ""
            },
            "colorscale": [
             [
              0,
              "#0d0887"
             ],
             [
              0.1111111111111111,
              "#46039f"
             ],
             [
              0.2222222222222222,
              "#7201a8"
             ],
             [
              0.3333333333333333,
              "#9c179e"
             ],
             [
              0.4444444444444444,
              "#bd3786"
             ],
             [
              0.5555555555555556,
              "#d8576b"
             ],
             [
              0.6666666666666666,
              "#ed7953"
             ],
             [
              0.7777777777777778,
              "#fb9f3a"
             ],
             [
              0.8888888888888888,
              "#fdca26"
             ],
             [
              1,
              "#f0f921"
             ]
            ],
            "type": "heatmapgl"
           }
          ],
          "histogram": [
           {
            "marker": {
             "pattern": {
              "fillmode": "overlay",
              "size": 10,
              "solidity": 0.2
             }
            },
            "type": "histogram"
           }
          ],
          "histogram2d": [
           {
            "colorbar": {
             "outlinewidth": 0,
             "ticks": ""
            },
            "colorscale": [
             [
              0,
              "#0d0887"
             ],
             [
              0.1111111111111111,
              "#46039f"
             ],
             [
              0.2222222222222222,
              "#7201a8"
             ],
             [
              0.3333333333333333,
              "#9c179e"
             ],
             [
              0.4444444444444444,
              "#bd3786"
             ],
             [
              0.5555555555555556,
              "#d8576b"
             ],
             [
              0.6666666666666666,
              "#ed7953"
             ],
             [
              0.7777777777777778,
              "#fb9f3a"
             ],
             [
              0.8888888888888888,
              "#fdca26"
             ],
             [
              1,
              "#f0f921"
             ]
            ],
            "type": "histogram2d"
           }
          ],
          "histogram2dcontour": [
           {
            "colorbar": {
             "outlinewidth": 0,
             "ticks": ""
            },
            "colorscale": [
             [
              0,
              "#0d0887"
             ],
             [
              0.1111111111111111,
              "#46039f"
             ],
             [
              0.2222222222222222,
              "#7201a8"
             ],
             [
              0.3333333333333333,
              "#9c179e"
             ],
             [
              0.4444444444444444,
              "#bd3786"
             ],
             [
              0.5555555555555556,
              "#d8576b"
             ],
             [
              0.6666666666666666,
              "#ed7953"
             ],
             [
              0.7777777777777778,
              "#fb9f3a"
             ],
             [
              0.8888888888888888,
              "#fdca26"
             ],
             [
              1,
              "#f0f921"
             ]
            ],
            "type": "histogram2dcontour"
           }
          ],
          "mesh3d": [
           {
            "colorbar": {
             "outlinewidth": 0,
             "ticks": ""
            },
            "type": "mesh3d"
           }
          ],
          "parcoords": [
           {
            "line": {
             "colorbar": {
              "outlinewidth": 0,
              "ticks": ""
             }
            },
            "type": "parcoords"
           }
          ],
          "pie": [
           {
            "automargin": true,
            "type": "pie"
           }
          ],
          "scatter": [
           {
            "marker": {
             "colorbar": {
              "outlinewidth": 0,
              "ticks": ""
             }
            },
            "type": "scatter"
           }
          ],
          "scatter3d": [
           {
            "line": {
             "colorbar": {
              "outlinewidth": 0,
              "ticks": ""
             }
            },
            "marker": {
             "colorbar": {
              "outlinewidth": 0,
              "ticks": ""
             }
            },
            "type": "scatter3d"
           }
          ],
          "scattercarpet": [
           {
            "marker": {
             "colorbar": {
              "outlinewidth": 0,
              "ticks": ""
             }
            },
            "type": "scattercarpet"
           }
          ],
          "scattergeo": [
           {
            "marker": {
             "colorbar": {
              "outlinewidth": 0,
              "ticks": ""
             }
            },
            "type": "scattergeo"
           }
          ],
          "scattergl": [
           {
            "marker": {
             "colorbar": {
              "outlinewidth": 0,
              "ticks": ""
             }
            },
            "type": "scattergl"
           }
          ],
          "scattermapbox": [
           {
            "marker": {
             "colorbar": {
              "outlinewidth": 0,
              "ticks": ""
             }
            },
            "type": "scattermapbox"
           }
          ],
          "scatterpolar": [
           {
            "marker": {
             "colorbar": {
              "outlinewidth": 0,
              "ticks": ""
             }
            },
            "type": "scatterpolar"
           }
          ],
          "scatterpolargl": [
           {
            "marker": {
             "colorbar": {
              "outlinewidth": 0,
              "ticks": ""
             }
            },
            "type": "scatterpolargl"
           }
          ],
          "scatterternary": [
           {
            "marker": {
             "colorbar": {
              "outlinewidth": 0,
              "ticks": ""
             }
            },
            "type": "scatterternary"
           }
          ],
          "surface": [
           {
            "colorbar": {
             "outlinewidth": 0,
             "ticks": ""
            },
            "colorscale": [
             [
              0,
              "#0d0887"
             ],
             [
              0.1111111111111111,
              "#46039f"
             ],
             [
              0.2222222222222222,
              "#7201a8"
             ],
             [
              0.3333333333333333,
              "#9c179e"
             ],
             [
              0.4444444444444444,
              "#bd3786"
             ],
             [
              0.5555555555555556,
              "#d8576b"
             ],
             [
              0.6666666666666666,
              "#ed7953"
             ],
             [
              0.7777777777777778,
              "#fb9f3a"
             ],
             [
              0.8888888888888888,
              "#fdca26"
             ],
             [
              1,
              "#f0f921"
             ]
            ],
            "type": "surface"
           }
          ],
          "table": [
           {
            "cells": {
             "fill": {
              "color": "#EBF0F8"
             },
             "line": {
              "color": "white"
             }
            },
            "header": {
             "fill": {
              "color": "#C8D4E3"
             },
             "line": {
              "color": "white"
             }
            },
            "type": "table"
           }
          ]
         },
         "layout": {
          "annotationdefaults": {
           "arrowcolor": "#2a3f5f",
           "arrowhead": 0,
           "arrowwidth": 1
          },
          "autotypenumbers": "strict",
          "coloraxis": {
           "colorbar": {
            "outlinewidth": 0,
            "ticks": ""
           }
          },
          "colorscale": {
           "diverging": [
            [
             0,
             "#8e0152"
            ],
            [
             0.1,
             "#c51b7d"
            ],
            [
             0.2,
             "#de77ae"
            ],
            [
             0.3,
             "#f1b6da"
            ],
            [
             0.4,
             "#fde0ef"
            ],
            [
             0.5,
             "#f7f7f7"
            ],
            [
             0.6,
             "#e6f5d0"
            ],
            [
             0.7,
             "#b8e186"
            ],
            [
             0.8,
             "#7fbc41"
            ],
            [
             0.9,
             "#4d9221"
            ],
            [
             1,
             "#276419"
            ]
           ],
           "sequential": [
            [
             0,
             "#0d0887"
            ],
            [
             0.1111111111111111,
             "#46039f"
            ],
            [
             0.2222222222222222,
             "#7201a8"
            ],
            [
             0.3333333333333333,
             "#9c179e"
            ],
            [
             0.4444444444444444,
             "#bd3786"
            ],
            [
             0.5555555555555556,
             "#d8576b"
            ],
            [
             0.6666666666666666,
             "#ed7953"
            ],
            [
             0.7777777777777778,
             "#fb9f3a"
            ],
            [
             0.8888888888888888,
             "#fdca26"
            ],
            [
             1,
             "#f0f921"
            ]
           ],
           "sequentialminus": [
            [
             0,
             "#0d0887"
            ],
            [
             0.1111111111111111,
             "#46039f"
            ],
            [
             0.2222222222222222,
             "#7201a8"
            ],
            [
             0.3333333333333333,
             "#9c179e"
            ],
            [
             0.4444444444444444,
             "#bd3786"
            ],
            [
             0.5555555555555556,
             "#d8576b"
            ],
            [
             0.6666666666666666,
             "#ed7953"
            ],
            [
             0.7777777777777778,
             "#fb9f3a"
            ],
            [
             0.8888888888888888,
             "#fdca26"
            ],
            [
             1,
             "#f0f921"
            ]
           ]
          },
          "colorway": [
           "#636efa",
           "#EF553B",
           "#00cc96",
           "#ab63fa",
           "#FFA15A",
           "#19d3f3",
           "#FF6692",
           "#B6E880",
           "#FF97FF",
           "#FECB52"
          ],
          "font": {
           "color": "#2a3f5f"
          },
          "geo": {
           "bgcolor": "white",
           "lakecolor": "white",
           "landcolor": "#E5ECF6",
           "showlakes": true,
           "showland": true,
           "subunitcolor": "white"
          },
          "hoverlabel": {
           "align": "left"
          },
          "hovermode": "closest",
          "mapbox": {
           "style": "light"
          },
          "paper_bgcolor": "white",
          "plot_bgcolor": "#E5ECF6",
          "polar": {
           "angularaxis": {
            "gridcolor": "white",
            "linecolor": "white",
            "ticks": ""
           },
           "bgcolor": "#E5ECF6",
           "radialaxis": {
            "gridcolor": "white",
            "linecolor": "white",
            "ticks": ""
           }
          },
          "scene": {
           "xaxis": {
            "backgroundcolor": "#E5ECF6",
            "gridcolor": "white",
            "gridwidth": 2,
            "linecolor": "white",
            "showbackground": true,
            "ticks": "",
            "zerolinecolor": "white"
           },
           "yaxis": {
            "backgroundcolor": "#E5ECF6",
            "gridcolor": "white",
            "gridwidth": 2,
            "linecolor": "white",
            "showbackground": true,
            "ticks": "",
            "zerolinecolor": "white"
           },
           "zaxis": {
            "backgroundcolor": "#E5ECF6",
            "gridcolor": "white",
            "gridwidth": 2,
            "linecolor": "white",
            "showbackground": true,
            "ticks": "",
            "zerolinecolor": "white"
           }
          },
          "shapedefaults": {
           "line": {
            "color": "#2a3f5f"
           }
          },
          "ternary": {
           "aaxis": {
            "gridcolor": "white",
            "linecolor": "white",
            "ticks": ""
           },
           "baxis": {
            "gridcolor": "white",
            "linecolor": "white",
            "ticks": ""
           },
           "bgcolor": "#E5ECF6",
           "caxis": {
            "gridcolor": "white",
            "linecolor": "white",
            "ticks": ""
           }
          },
          "title": {
           "x": 0.05
          },
          "xaxis": {
           "automargin": true,
           "gridcolor": "white",
           "linecolor": "white",
           "ticks": "",
           "title": {
            "standoff": 15
           },
           "zerolinecolor": "white",
           "zerolinewidth": 2
          },
          "yaxis": {
           "automargin": true,
           "gridcolor": "white",
           "linecolor": "white",
           "ticks": "",
           "title": {
            "standoff": 15
           },
           "zerolinecolor": "white",
           "zerolinewidth": 2
          }
         }
        },
        "title": {
         "text": "Percentage of Couriers Within CA"
        },
        "xaxis": {
         "anchor": "y",
         "autorange": true,
         "domain": [
          0,
          1
         ],
         "range": [
          -0.5,
          1.5
         ],
         "title": {
          "text": "in_CA"
         },
         "type": "category"
        },
        "yaxis": {
         "anchor": "x",
         "autorange": true,
         "domain": [
          0,
          1
         ],
         "range": [
          0,
          94.73684210526315
         ],
         "title": {
          "text": "Percentage_drivers_inCA"
         },
         "type": "linear"
        }
       }
      },
      "image/png": "[encoded data removed]",
      "text/html": [
       "<div>                            <div id=\"fa4abc0c-4c3f-487a-bb31-8750ae7d8d5f\" class=\"plotly-graph-div\" style=\"height:525px; width:100%;\"></div>            <script type=\"text/javascript\">                require([\"plotly\"], function(Plotly) {                    window.PLOTLYENV=window.PLOTLYENV || {};                                    if (document.getElementById(\"fa4abc0c-4c3f-487a-bb31-8750ae7d8d5f\")) {                    Plotly.newPlot(                        \"fa4abc0c-4c3f-487a-bb31-8750ae7d8d5f\",                        [{\"alignmentgroup\":\"True\",\"hovertemplate\":\"in_CA=%{x}<br>Percentage_drivers_inCA=%{text}<extra></extra>\",\"legendgroup\":\"\",\"marker\":{\"color\":\"#636efa\",\"pattern\":{\"shape\":\"\"}},\"name\":\"\",\"offsetgroup\":\"\",\"orientation\":\"v\",\"showlegend\":false,\"text\":[10.0,90.0],\"textposition\":\"auto\",\"x\":[\"No\",\"Yes\"],\"xaxis\":\"x\",\"y\":[10.0,90.0],\"yaxis\":\"y\",\"type\":\"bar\"}],                        {\"template\":{\"data\":{\"bar\":[{\"error_x\":{\"color\":\"#2a3f5f\"},\"error_y\":{\"color\":\"#2a3f5f\"},\"marker\":{\"line\":{\"color\":\"#E5ECF6\",\"width\":0.5},\"pattern\":{\"fillmode\":\"overlay\",\"size\":10,\"solidity\":0.2}},\"type\":\"bar\"}],\"barpolar\":[{\"marker\":{\"line\":{\"color\":\"#E5ECF6\",\"width\":0.5},\"pattern\":{\"fillmode\":\"overlay\",\"size\":10,\"solidity\":0.2}},\"type\":\"barpolar\"}],\"carpet\":[{\"aaxis\":{\"endlinecolor\":\"#2a3f5f\",\"gridcolor\":\"white\",\"linecolor\":\"white\",\"minorgridcolor\":\"white\",\"startlinecolor\":\"#2a3f5f\"},\"baxis\":{\"endlinecolor\":\"#2a3f5f\",\"gridcolor\":\"white\",\"linecolor\":\"white\",\"minorgridcolor\":\"white\",\"startlinecolor\":\"#2a3f5f\"},\"type\":\"carpet\"}],\"choropleth\":[{\"colorbar\":{\"outlinewidth\":0,\"ticks\":\"\"},\"type\":\"choropleth\"}],\"contour\":[{\"colorbar\":{\"outlinewidth\":0,\"ticks\":\"\"},\"colorscale\":[[0.0,\"#0d0887\"],[0.1111111111111111,\"#46039f\"],[0.2222222222222222,\"#7201a8\"],[0.3333333333333333,\"#9c179e\"],[0.4444444444444444,\"#bd3786\"],[0.5555555555555556,\"#d8576b\"],[0.6666666666666666,\"#ed7953\"],[0.7777777777777778,\"#fb9f3a\"],[0.8888888888888888,\"#fdca26\"],[1.0,\"#f0f921\"]],\"type\":\"contour\"}],\"contourcarpet\":[{\"colorbar\":{\"outlinewidth\":0,\"ticks\":\"\"},\"type\":\"contourcarpet\"}],\"heatmap\":[{\"colorbar\":{\"outlinewidth\":0,\"ticks\":\"\"},\"colorscale\":[[0.0,\"#0d0887\"],[0.1111111111111111,\"#46039f\"],[0.2222222222222222,\"#7201a8\"],[0.3333333333333333,\"#9c179e\"],[0.4444444444444444,\"#bd3786\"],[0.5555555555555556,\"#d8576b\"],[0.6666666666666666,\"#ed7953\"],[0.7777777777777778,\"#fb9f3a\"],[0.8888888888888888,\"#fdca26\"],[1.0,\"#f0f921\"]],\"type\":\"heatmap\"}],\"heatmapgl\":[{\"colorbar\":{\"outlinewidth\":0,\"ticks\":\"\"},\"colorscale\":[[0.0,\"#0d0887\"],[0.1111111111111111,\"#46039f\"],[0.2222222222222222,\"#7201a8\"],[0.3333333333333333,\"#9c179e\"],[0.4444444444444444,\"#bd3786\"],[0.5555555555555556,\"#d8576b\"],[0.6666666666666666,\"#ed7953\"],[0.7777777777777778,\"#fb9f3a\"],[0.8888888888888888,\"#fdca26\"],[1.0,\"#f0f921\"]],\"type\":\"heatmapgl\"}],\"histogram\":[{\"marker\":{\"pattern\":{\"fillmode\":\"overlay\",\"size\":10,\"solidity\":0.2}},\"type\":\"histogram\"}],\"histogram2d\":[{\"colorbar\":{\"outlinewidth\":0,\"ticks\":\"\"},\"colorscale\":[[0.0,\"#0d0887\"],[0.1111111111111111,\"#46039f\"],[0.2222222222222222,\"#7201a8\"],[0.3333333333333333,\"#9c179e\"],[0.4444444444444444,\"#bd3786\"],[0.5555555555555556,\"#d8576b\"],[0.6666666666666666,\"#ed7953\"],[0.7777777777777778,\"#fb9f3a\"],[0.8888888888888888,\"#fdca26\"],[1.0,\"#f0f921\"]],\"type\":\"histogram2d\"}],\"histogram2dcontour\":[{\"colorbar\":{\"outlinewidth\":0,\"ticks\":\"\"},\"colorscale\":[[0.0,\"#0d0887\"],[0.1111111111111111,\"#46039f\"],[0.2222222222222222,\"#7201a8\"],[0.3333333333333333,\"#9c179e\"],[0.4444444444444444,\"#bd3786\"],[0.5555555555555556,\"#d8576b\"],[0.6666666666666666,\"#ed7953\"],[0.7777777777777778,\"#fb9f3a\"],[0.8888888888888888,\"#fdca26\"],[1.0,\"#f0f921\"]],\"type\":\"histogram2dcontour\"}],\"mesh3d\":[{\"colorbar\":{\"outlinewidth\":0,\"ticks\":\"\"},\"type\":\"mesh3d\"}],\"parcoords\":[{\"line\":{\"colorbar\":{\"outlinewidth\":0,\"ticks\":\"\"}},\"type\":\"parcoords\"}],\"pie\":[{\"automargin\":true,\"type\":\"pie\"}],\"scatter\":[{\"marker\":{\"colorbar\":{\"outlinewidth\":0,\"ticks\":\"\"}},\"type\":\"scatter\"}],\"scatter3d\":[{\"line\":{\"colorbar\":{\"outlinewidth\":0,\"ticks\":\"\"}},\"marker\":{\"colorbar\":{\"outlinewidth\":0,\"ticks\":\"\"}},\"type\":\"scatter3d\"}],\"scattercarpet\":[{\"marker\":{\"colorbar\":{\"outlinewidth\":0,\"ticks\":\"\"}},\"type\":\"scattercarpet\"}],\"scattergeo\":[{\"marker\":{\"colorbar\":{\"outlinewidth\":0,\"ticks\":\"\"}},\"type\":\"scattergeo\"}],\"scattergl\":[{\"marker\":{\"colorbar\":{\"outlinewidth\":0,\"ticks\":\"\"}},\"type\":\"scattergl\"}],\"scattermapbox\":[{\"marker\":{\"colorbar\":{\"outlinewidth\":0,\"ticks\":\"\"}},\"type\":\"scattermapbox\"}],\"scatterpolar\":[{\"marker\":{\"colorbar\":{\"outlinewidth\":0,\"ticks\":\"\"}},\"type\":\"scatterpolar\"}],\"scatterpolargl\":[{\"marker\":{\"colorbar\":{\"outlinewidth\":0,\"ticks\":\"\"}},\"type\":\"scatterpolargl\"}],\"scatterternary\":[{\"marker\":{\"colorbar\":{\"outlinewidth\":0,\"ticks\":\"\"}},\"type\":\"scatterternary\"}],\"surface\":[{\"colorbar\":{\"outlinewidth\":0,\"ticks\":\"\"},\"colorscale\":[[0.0,\"#0d0887\"],[0.1111111111111111,\"#46039f\"],[0.2222222222222222,\"#7201a8\"],[0.3333333333333333,\"#9c179e\"],[0.4444444444444444,\"#bd3786\"],[0.5555555555555556,\"#d8576b\"],[0.6666666666666666,\"#ed7953\"],[0.7777777777777778,\"#fb9f3a\"],[0.8888888888888888,\"#fdca26\"],[1.0,\"#f0f921\"]],\"type\":\"surface\"}],\"table\":[{\"cells\":{\"fill\":{\"color\":\"#EBF0F8\"},\"line\":{\"color\":\"white\"}},\"header\":{\"fill\":{\"color\":\"#C8D4E3\"},\"line\":{\"color\":\"white\"}},\"type\":\"table\"}]},\"layout\":{\"annotationdefaults\":{\"arrowcolor\":\"#2a3f5f\",\"arrowhead\":0,\"arrowwidth\":1},\"autotypenumbers\":\"strict\",\"coloraxis\":{\"colorbar\":{\"outlinewidth\":0,\"ticks\":\"\"}},\"colorscale\":{\"diverging\":[[0,\"#8e0152\"],[0.1,\"#c51b7d\"],[0.2,\"#de77ae\"],[0.3,\"#f1b6da\"],[0.4,\"#fde0ef\"],[0.5,\"#f7f7f7\"],[0.6,\"#e6f5d0\"],[0.7,\"#b8e186\"],[0.8,\"#7fbc41\"],[0.9,\"#4d9221\"],[1,\"#276419\"]],\"sequential\":[[0.0,\"#0d0887\"],[0.1111111111111111,\"#46039f\"],[0.2222222222222222,\"#7201a8\"],[0.3333333333333333,\"#9c179e\"],[0.4444444444444444,\"#bd3786\"],[0.5555555555555556,\"#d8576b\"],[0.6666666666666666,\"#ed7953\"],[0.7777777777777778,\"#fb9f3a\"],[0.8888888888888888,\"#fdca26\"],[1.0,\"#f0f921\"]],\"sequentialminus\":[[0.0,\"#0d0887\"],[0.1111111111111111,\"#46039f\"],[0.2222222222222222,\"#7201a8\"],[0.3333333333333333,\"#9c179e\"],[0.4444444444444444,\"#bd3786\"],[0.5555555555555556,\"#d8576b\"],[0.6666666666666666,\"#ed7953\"],[0.7777777777777778,\"#fb9f3a\"],[0.8888888888888888,\"#fdca26\"],[1.0,\"#f0f921\"]]},\"colorway\":[\"#636efa\",\"#EF553B\",\"#00cc96\",\"#ab63fa\",\"#FFA15A\",\"#19d3f3\",\"#FF6692\",\"#B6E880\",\"#FF97FF\",\"#FECB52\"],\"font\":{\"color\":\"#2a3f5f\"},\"geo\":{\"bgcolor\":\"white\",\"lakecolor\":\"white\",\"landcolor\":\"#E5ECF6\",\"showlakes\":true,\"showland\":true,\"subunitcolor\":\"white\"},\"hoverlabel\":{\"align\":\"left\"},\"hovermode\":\"closest\",\"mapbox\":{\"style\":\"light\"},\"paper_bgcolor\":\"white\",\"plot_bgcolor\":\"#E5ECF6\",\"polar\":{\"angularaxis\":{\"gridcolor\":\"white\",\"linecolor\":\"white\",\"ticks\":\"\"},\"bgcolor\":\"#E5ECF6\",\"radialaxis\":{\"gridcolor\":\"white\",\"linecolor\":\"white\",\"ticks\":\"\"}},\"scene\":{\"xaxis\":{\"backgroundcolor\":\"#E5ECF6\",\"gridcolor\":\"white\",\"gridwidth\":2,\"linecolor\":\"white\",\"showbackground\":true,\"ticks\":\"\",\"zerolinecolor\":\"white\"},\"yaxis\":{\"backgroundcolor\":\"#E5ECF6\",\"gridcolor\":\"white\",\"gridwidth\":2,\"linecolor\":\"white\",\"showbackground\":true,\"ticks\":\"\",\"zerolinecolor\":\"white\"},\"zaxis\":{\"backgroundcolor\":\"#E5ECF6\",\"gridcolor\":\"white\",\"gridwidth\":2,\"linecolor\":\"white\",\"showbackground\":true,\"ticks\":\"\",\"zerolinecolor\":\"white\"}},\"shapedefaults\":{\"line\":{\"color\":\"#2a3f5f\"}},\"ternary\":{\"aaxis\":{\"gridcolor\":\"white\",\"linecolor\":\"white\",\"ticks\":\"\"},\"baxis\":{\"gridcolor\":\"white\",\"linecolor\":\"white\",\"ticks\":\"\"},\"bgcolor\":\"#E5ECF6\",\"caxis\":{\"gridcolor\":\"white\",\"linecolor\":\"white\",\"ticks\":\"\"}},\"title\":{\"x\":0.05},\"xaxis\":{\"automargin\":true,\"gridcolor\":\"white\",\"linecolor\":\"white\",\"ticks\":\"\",\"title\":{\"standoff\":15},\"zerolinecolor\":\"white\",\"zerolinewidth\":2},\"yaxis\":{\"automargin\":true,\"gridcolor\":\"white\",\"linecolor\":\"white\",\"ticks\":\"\",\"title\":{\"standoff\":15},\"zerolinecolor\":\"white\",\"zerolinewidth\":2}}},\"xaxis\":{\"anchor\":\"y\",\"domain\":[0.0,1.0],\"title\":{\"text\":\"in_CA\"}},\"yaxis\":{\"anchor\":\"x\",\"domain\":[0.0,1.0],\"title\":{\"text\":\"Percentage_drivers_inCA\"}},\"legend\":{\"tracegroupgap\":0},\"title\":{\"text\":\"Percentage of Couriers Within CA\"},\"barmode\":\"relative\"},                        {\"responsive\": true}                    ).then(function(){\n",
       "                            \n",
       "var gd = document.getElementById('fa4abc0c-4c3f-487a-bb31-8750ae7d8d5f');\n",
       "var x = new MutationObserver(function (mutations, observer) {{\n",
       "        var display = window.getComputedStyle(gd).display;\n",
       "        if (!display || display === 'none') {{\n",
       "            console.log([gd, 'removed!']);\n",
       "            Plotly.purge(gd);\n",
       "            observer.disconnect();\n",
       "        }}\n",
       "}});\n",
       "\n",
       "// Listen for the removal of the full notebook cells\n",
       "var notebookContainer = gd.closest('#notebook-container');\n",
       "if (notebookContainer) {{\n",
       "    x.observe(notebookContainer, {childList: true});\n",
       "}}\n",
       "\n",
       "// Listen for the clearing of the current output cell\n",
       "var outputEl = gd.closest('.output');\n",
       "if (outputEl) {{\n",
       "    x.observe(outputEl, {childList: true});\n",
       "}}\n",
       "\n",
       "                        })                };                });            </script>        </div>"
      ]
     },
     "metadata": {},
     "output_type": "display_data"
    }
   ],
   "source": [
    "fig1 = px.bar(in_CA, x = 'in_CA' , y = 'Percentage_drivers_inCA', title= 'Percentage of Couriers Within CA', text = 'Percentage_drivers_inCA')\n",
    "fig1.show()"
   ]
  },
  {
   "cell_type": "code",
   "execution_count": 60,
   "metadata": {},
   "outputs": [
    {
     "data": {
      "text/html": [
       "<div>\n",
       "<style scoped>\n",
       "    .dataframe tbody tr th:only-of-type {\n",
       "        vertical-align: middle;\n",
       "    }\n",
       "\n",
       "    .dataframe tbody tr th {\n",
       "        vertical-align: top;\n",
       "    }\n",
       "\n",
       "    .dataframe thead th {\n",
       "        text-align: right;\n",
       "    }\n",
       "</style>\n",
       "<table border=\"1\" class=\"dataframe\">\n",
       "  <thead>\n",
       "    <tr style=\"text-align: right;\">\n",
       "      <th></th>\n",
       "      <th>catchment_area</th>\n",
       "      <th>stuart_driver_id</th>\n",
       "    </tr>\n",
       "  </thead>\n",
       "  <tbody>\n",
       "    <tr>\n",
       "      <th>0</th>\n",
       "      <td>Altrincham</td>\n",
       "      <td>1</td>\n",
       "    </tr>\n",
       "    <tr>\n",
       "      <th>1</th>\n",
       "      <td>Basildon</td>\n",
       "      <td>2</td>\n",
       "    </tr>\n",
       "    <tr>\n",
       "      <th>2</th>\n",
       "      <td>Birmingham Central</td>\n",
       "      <td>2</td>\n",
       "    </tr>\n",
       "    <tr>\n",
       "      <th>3</th>\n",
       "      <td>Birmingham East</td>\n",
       "      <td>1</td>\n",
       "    </tr>\n",
       "    <tr>\n",
       "      <th>4</th>\n",
       "      <td>Bolton</td>\n",
       "      <td>2</td>\n",
       "    </tr>\n",
       "  </tbody>\n",
       "</table>\n",
       "</div>"
      ],
      "text/plain": [
       "       catchment_area  stuart_driver_id\n",
       "0          Altrincham                 1\n",
       "1            Basildon                 2\n",
       "2  Birmingham Central                 2\n",
       "3     Birmingham East                 1\n",
       "4              Bolton                 2"
      ]
     },
     "execution_count": 60,
     "metadata": {},
     "output_type": "execute_result"
    }
   ],
   "source": [
    "# Top 5 CA with highest number of resident couriers\n",
    "top_5_CA = courier_mapping.groupby('catchment_area').agg({'stuart_driver_id':'count'}).reset_index()\n",
    "top_5_CA.head(5)"
   ]
  },
  {
   "cell_type": "code",
   "execution_count": 63,
   "metadata": {},
   "outputs": [
    {
     "data": {
      "text/html": [
       "<div>\n",
       "<style scoped>\n",
       "    .dataframe tbody tr th:only-of-type {\n",
       "        vertical-align: middle;\n",
       "    }\n",
       "\n",
       "    .dataframe tbody tr th {\n",
       "        vertical-align: top;\n",
       "    }\n",
       "\n",
       "    .dataframe thead th {\n",
       "        text-align: right;\n",
       "    }\n",
       "</style>\n",
       "<table border=\"1\" class=\"dataframe\">\n",
       "  <thead>\n",
       "    <tr style=\"text-align: right;\">\n",
       "      <th></th>\n",
       "      <th>catchment_area</th>\n",
       "      <th>stuart_driver_id</th>\n",
       "    </tr>\n",
       "  </thead>\n",
       "  <tbody>\n",
       "    <tr>\n",
       "      <th>36</th>\n",
       "      <td>London Outer NE</td>\n",
       "      <td>961</td>\n",
       "    </tr>\n",
       "    <tr>\n",
       "      <th>35</th>\n",
       "      <td>London Outer N</td>\n",
       "      <td>844</td>\n",
       "    </tr>\n",
       "    <tr>\n",
       "      <th>40</th>\n",
       "      <td>London Outer Upper NW</td>\n",
       "      <td>793</td>\n",
       "    </tr>\n",
       "    <tr>\n",
       "      <th>30</th>\n",
       "      <td>London Inner S</td>\n",
       "      <td>715</td>\n",
       "    </tr>\n",
       "    <tr>\n",
       "      <th>37</th>\n",
       "      <td>London Outer S</td>\n",
       "      <td>602</td>\n",
       "    </tr>\n",
       "  </tbody>\n",
       "</table>\n",
       "</div>"
      ],
      "text/plain": [
       "           catchment_area  stuart_driver_id\n",
       "36        London Outer NE               961\n",
       "35         London Outer N               844\n",
       "40  London Outer Upper NW               793\n",
       "30         London Inner S               715\n",
       "37         London Outer S               602"
      ]
     },
     "execution_count": 63,
     "metadata": {},
     "output_type": "execute_result"
    }
   ],
   "source": [
    "# Sorting values in descending order\n",
    "top_5_CA = top_5_CA.sort_values(by='stuart_driver_id', ascending=False)\n",
    "top_5_CA.head(5)"
   ]
  },
  {
   "cell_type": "code",
   "execution_count": 84,
   "metadata": {},
   "outputs": [
    {
     "data": {
      "application/vnd.plotly.v1+json": {
       "config": {
        "plotlyServerURL": "https://plot.ly"
       },
       "data": [
        {
         "alignmentgroup": "True",
         "hovertemplate": "catchment_area=%{x}<br>stuart_driver_id=%{text}<extra></extra>",
         "legendgroup": "",
         "marker": {
          "color": "#636efa",
          "pattern": {
           "shape": ""
          }
         },
         "name": "",
         "offsetgroup": "",
         "orientation": "v",
         "showlegend": false,
         "text": [
          961,
          844,
          793,
          715,
          602,
          528
         ],
         "textposition": "auto",
         "type": "bar",
         "x": [
          "London Outer NE",
          "London Outer N",
          "London Outer Upper NW",
          "London Inner S",
          "London Outer S",
          "London Inner Upper NW"
         ],
         "xaxis": "x",
         "y": [
          961,
          844,
          793,
          715,
          602,
          528
         ],
         "yaxis": "y"
        }
       ],
       "layout": {
        "autosize": true,
        "barmode": "relative",
        "legend": {
         "tracegroupgap": 0
        },
        "template": {
         "data": {
          "bar": [
           {
            "error_x": {
             "color": "#2a3f5f"
            },
            "error_y": {
             "color": "#2a3f5f"
            },
            "marker": {
             "line": {
              "color": "#E5ECF6",
              "width": 0.5
             },
             "pattern": {
              "fillmode": "overlay",
              "size": 10,
              "solidity": 0.2
             }
            },
            "type": "bar"
           }
          ],
          "barpolar": [
           {
            "marker": {
             "line": {
              "color": "#E5ECF6",
              "width": 0.5
             },
             "pattern": {
              "fillmode": "overlay",
              "size": 10,
              "solidity": 0.2
             }
            },
            "type": "barpolar"
           }
          ],
          "carpet": [
           {
            "aaxis": {
             "endlinecolor": "#2a3f5f",
             "gridcolor": "white",
             "linecolor": "white",
             "minorgridcolor": "white",
             "startlinecolor": "#2a3f5f"
            },
            "baxis": {
             "endlinecolor": "#2a3f5f",
             "gridcolor": "white",
             "linecolor": "white",
             "minorgridcolor": "white",
             "startlinecolor": "#2a3f5f"
            },
            "type": "carpet"
           }
          ],
          "choropleth": [
           {
            "colorbar": {
             "outlinewidth": 0,
             "ticks": ""
            },
            "type": "choropleth"
           }
          ],
          "contour": [
           {
            "colorbar": {
             "outlinewidth": 0,
             "ticks": ""
            },
            "colorscale": [
             [
              0,
              "#0d0887"
             ],
             [
              0.1111111111111111,
              "#46039f"
             ],
             [
              0.2222222222222222,
              "#7201a8"
             ],
             [
              0.3333333333333333,
              "#9c179e"
             ],
             [
              0.4444444444444444,
              "#bd3786"
             ],
             [
              0.5555555555555556,
              "#d8576b"
             ],
             [
              0.6666666666666666,
              "#ed7953"
             ],
             [
              0.7777777777777778,
              "#fb9f3a"
             ],
             [
              0.8888888888888888,
              "#fdca26"
             ],
             [
              1,
              "#f0f921"
             ]
            ],
            "type": "contour"
           }
          ],
          "contourcarpet": [
           {
            "colorbar": {
             "outlinewidth": 0,
             "ticks": ""
            },
            "type": "contourcarpet"
           }
          ],
          "heatmap": [
           {
            "colorbar": {
             "outlinewidth": 0,
             "ticks": ""
            },
            "colorscale": [
             [
              0,
              "#0d0887"
             ],
             [
              0.1111111111111111,
              "#46039f"
             ],
             [
              0.2222222222222222,
              "#7201a8"
             ],
             [
              0.3333333333333333,
              "#9c179e"
             ],
             [
              0.4444444444444444,
              "#bd3786"
             ],
             [
              0.5555555555555556,
              "#d8576b"
             ],
             [
              0.6666666666666666,
              "#ed7953"
             ],
             [
              0.7777777777777778,
              "#fb9f3a"
             ],
             [
              0.8888888888888888,
              "#fdca26"
             ],
             [
              1,
              "#f0f921"
             ]
            ],
            "type": "heatmap"
           }
          ],
          "heatmapgl": [
           {
            "colorbar": {
             "outlinewidth": 0,
             "ticks": ""
            },
            "colorscale": [
             [
              0,
              "#0d0887"
             ],
             [
              0.1111111111111111,
              "#46039f"
             ],
             [
              0.2222222222222222,
              "#7201a8"
             ],
             [
              0.3333333333333333,
              "#9c179e"
             ],
             [
              0.4444444444444444,
              "#bd3786"
             ],
             [
              0.5555555555555556,
              "#d8576b"
             ],
             [
              0.6666666666666666,
              "#ed7953"
             ],
             [
              0.7777777777777778,
              "#fb9f3a"
             ],
             [
              0.8888888888888888,
              "#fdca26"
             ],
             [
              1,
              "#f0f921"
             ]
            ],
            "type": "heatmapgl"
           }
          ],
          "histogram": [
           {
            "marker": {
             "pattern": {
              "fillmode": "overlay",
              "size": 10,
              "solidity": 0.2
             }
            },
            "type": "histogram"
           }
          ],
          "histogram2d": [
           {
            "colorbar": {
             "outlinewidth": 0,
             "ticks": ""
            },
            "colorscale": [
             [
              0,
              "#0d0887"
             ],
             [
              0.1111111111111111,
              "#46039f"
             ],
             [
              0.2222222222222222,
              "#7201a8"
             ],
             [
              0.3333333333333333,
              "#9c179e"
             ],
             [
              0.4444444444444444,
              "#bd3786"
             ],
             [
              0.5555555555555556,
              "#d8576b"
             ],
             [
              0.6666666666666666,
              "#ed7953"
             ],
             [
              0.7777777777777778,
              "#fb9f3a"
             ],
             [
              0.8888888888888888,
              "#fdca26"
             ],
             [
              1,
              "#f0f921"
             ]
            ],
            "type": "histogram2d"
           }
          ],
          "histogram2dcontour": [
           {
            "colorbar": {
             "outlinewidth": 0,
             "ticks": ""
            },
            "colorscale": [
             [
              0,
              "#0d0887"
             ],
             [
              0.1111111111111111,
              "#46039f"
             ],
             [
              0.2222222222222222,
              "#7201a8"
             ],
             [
              0.3333333333333333,
              "#9c179e"
             ],
             [
              0.4444444444444444,
              "#bd3786"
             ],
             [
              0.5555555555555556,
              "#d8576b"
             ],
             [
              0.6666666666666666,
              "#ed7953"
             ],
             [
              0.7777777777777778,
              "#fb9f3a"
             ],
             [
              0.8888888888888888,
              "#fdca26"
             ],
             [
              1,
              "#f0f921"
             ]
            ],
            "type": "histogram2dcontour"
           }
          ],
          "mesh3d": [
           {
            "colorbar": {
             "outlinewidth": 0,
             "ticks": ""
            },
            "type": "mesh3d"
           }
          ],
          "parcoords": [
           {
            "line": {
             "colorbar": {
              "outlinewidth": 0,
              "ticks": ""
             }
            },
            "type": "parcoords"
           }
          ],
          "pie": [
           {
            "automargin": true,
            "type": "pie"
           }
          ],
          "scatter": [
           {
            "marker": {
             "colorbar": {
              "outlinewidth": 0,
              "ticks": ""
             }
            },
            "type": "scatter"
           }
          ],
          "scatter3d": [
           {
            "line": {
             "colorbar": {
              "outlinewidth": 0,
              "ticks": ""
             }
            },
            "marker": {
             "colorbar": {
              "outlinewidth": 0,
              "ticks": ""
             }
            },
            "type": "scatter3d"
           }
          ],
          "scattercarpet": [
           {
            "marker": {
             "colorbar": {
              "outlinewidth": 0,
              "ticks": ""
             }
            },
            "type": "scattercarpet"
           }
          ],
          "scattergeo": [
           {
            "marker": {
             "colorbar": {
              "outlinewidth": 0,
              "ticks": ""
             }
            },
            "type": "scattergeo"
           }
          ],
          "scattergl": [
           {
            "marker": {
             "colorbar": {
              "outlinewidth": 0,
              "ticks": ""
             }
            },
            "type": "scattergl"
           }
          ],
          "scattermapbox": [
           {
            "marker": {
             "colorbar": {
              "outlinewidth": 0,
              "ticks": ""
             }
            },
            "type": "scattermapbox"
           }
          ],
          "scatterpolar": [
           {
            "marker": {
             "colorbar": {
              "outlinewidth": 0,
              "ticks": ""
             }
            },
            "type": "scatterpolar"
           }
          ],
          "scatterpolargl": [
           {
            "marker": {
             "colorbar": {
              "outlinewidth": 0,
              "ticks": ""
             }
            },
            "type": "scatterpolargl"
           }
          ],
          "scatterternary": [
           {
            "marker": {
             "colorbar": {
              "outlinewidth": 0,
              "ticks": ""
             }
            },
            "type": "scatterternary"
           }
          ],
          "surface": [
           {
            "colorbar": {
             "outlinewidth": 0,
             "ticks": ""
            },
            "colorscale": [
             [
              0,
              "#0d0887"
             ],
             [
              0.1111111111111111,
              "#46039f"
             ],
             [
              0.2222222222222222,
              "#7201a8"
             ],
             [
              0.3333333333333333,
              "#9c179e"
             ],
             [
              0.4444444444444444,
              "#bd3786"
             ],
             [
              0.5555555555555556,
              "#d8576b"
             ],
             [
              0.6666666666666666,
              "#ed7953"
             ],
             [
              0.7777777777777778,
              "#fb9f3a"
             ],
             [
              0.8888888888888888,
              "#fdca26"
             ],
             [
              1,
              "#f0f921"
             ]
            ],
            "type": "surface"
           }
          ],
          "table": [
           {
            "cells": {
             "fill": {
              "color": "#EBF0F8"
             },
             "line": {
              "color": "white"
             }
            },
            "header": {
             "fill": {
              "color": "#C8D4E3"
             },
             "line": {
              "color": "white"
             }
            },
            "type": "table"
           }
          ]
         },
         "layout": {
          "annotationdefaults": {
           "arrowcolor": "#2a3f5f",
           "arrowhead": 0,
           "arrowwidth": 1
          },
          "autotypenumbers": "strict",
          "coloraxis": {
           "colorbar": {
            "outlinewidth": 0,
            "ticks": ""
           }
          },
          "colorscale": {
           "diverging": [
            [
             0,
             "#8e0152"
            ],
            [
             0.1,
             "#c51b7d"
            ],
            [
             0.2,
             "#de77ae"
            ],
            [
             0.3,
             "#f1b6da"
            ],
            [
             0.4,
             "#fde0ef"
            ],
            [
             0.5,
             "#f7f7f7"
            ],
            [
             0.6,
             "#e6f5d0"
            ],
            [
             0.7,
             "#b8e186"
            ],
            [
             0.8,
             "#7fbc41"
            ],
            [
             0.9,
             "#4d9221"
            ],
            [
             1,
             "#276419"
            ]
           ],
           "sequential": [
            [
             0,
             "#0d0887"
            ],
            [
             0.1111111111111111,
             "#46039f"
            ],
            [
             0.2222222222222222,
             "#7201a8"
            ],
            [
             0.3333333333333333,
             "#9c179e"
            ],
            [
             0.4444444444444444,
             "#bd3786"
            ],
            [
             0.5555555555555556,
             "#d8576b"
            ],
            [
             0.6666666666666666,
             "#ed7953"
            ],
            [
             0.7777777777777778,
             "#fb9f3a"
            ],
            [
             0.8888888888888888,
             "#fdca26"
            ],
            [
             1,
             "#f0f921"
            ]
           ],
           "sequentialminus": [
            [
             0,
             "#0d0887"
            ],
            [
             0.1111111111111111,
             "#46039f"
            ],
            [
             0.2222222222222222,
             "#7201a8"
            ],
            [
             0.3333333333333333,
             "#9c179e"
            ],
            [
             0.4444444444444444,
             "#bd3786"
            ],
            [
             0.5555555555555556,
             "#d8576b"
            ],
            [
             0.6666666666666666,
             "#ed7953"
            ],
            [
             0.7777777777777778,
             "#fb9f3a"
            ],
            [
             0.8888888888888888,
             "#fdca26"
            ],
            [
             1,
             "#f0f921"
            ]
           ]
          },
          "colorway": [
           "#636efa",
           "#EF553B",
           "#00cc96",
           "#ab63fa",
           "#FFA15A",
           "#19d3f3",
           "#FF6692",
           "#B6E880",
           "#FF97FF",
           "#FECB52"
          ],
          "font": {
           "color": "#2a3f5f"
          },
          "geo": {
           "bgcolor": "white",
           "lakecolor": "white",
           "landcolor": "#E5ECF6",
           "showlakes": true,
           "showland": true,
           "subunitcolor": "white"
          },
          "hoverlabel": {
           "align": "left"
          },
          "hovermode": "closest",
          "mapbox": {
           "style": "light"
          },
          "paper_bgcolor": "white",
          "plot_bgcolor": "#E5ECF6",
          "polar": {
           "angularaxis": {
            "gridcolor": "white",
            "linecolor": "white",
            "ticks": ""
           },
           "bgcolor": "#E5ECF6",
           "radialaxis": {
            "gridcolor": "white",
            "linecolor": "white",
            "ticks": ""
           }
          },
          "scene": {
           "xaxis": {
            "backgroundcolor": "#E5ECF6",
            "gridcolor": "white",
            "gridwidth": 2,
            "linecolor": "white",
            "showbackground": true,
            "ticks": "",
            "zerolinecolor": "white"
           },
           "yaxis": {
            "backgroundcolor": "#E5ECF6",
            "gridcolor": "white",
            "gridwidth": 2,
            "linecolor": "white",
            "showbackground": true,
            "ticks": "",
            "zerolinecolor": "white"
           },
           "zaxis": {
            "backgroundcolor": "#E5ECF6",
            "gridcolor": "white",
            "gridwidth": 2,
            "linecolor": "white",
            "showbackground": true,
            "ticks": "",
            "zerolinecolor": "white"
           }
          },
          "shapedefaults": {
           "line": {
            "color": "#2a3f5f"
           }
          },
          "ternary": {
           "aaxis": {
            "gridcolor": "white",
            "linecolor": "white",
            "ticks": ""
           },
           "baxis": {
            "gridcolor": "white",
            "linecolor": "white",
            "ticks": ""
           },
           "bgcolor": "#E5ECF6",
           "caxis": {
            "gridcolor": "white",
            "linecolor": "white",
            "ticks": ""
           }
          },
          "title": {
           "x": 0.05
          },
          "xaxis": {
           "automargin": true,
           "gridcolor": "white",
           "linecolor": "white",
           "ticks": "",
           "title": {
            "standoff": 15
           },
           "zerolinecolor": "white",
           "zerolinewidth": 2
          },
          "yaxis": {
           "automargin": true,
           "gridcolor": "white",
           "linecolor": "white",
           "ticks": "",
           "title": {
            "standoff": 15
           },
           "zerolinecolor": "white",
           "zerolinewidth": 2
          }
         }
        },
        "title": {
         "text": "Top Six CA Couriers Live In"
        },
        "xaxis": {
         "anchor": "y",
         "autorange": true,
         "domain": [
          0,
          1
         ],
         "range": [
          -0.5,
          5.5
         ],
         "title": {
          "text": "catchment_area"
         },
         "type": "category"
        },
        "yaxis": {
         "anchor": "x",
         "autorange": true,
         "domain": [
          0,
          1
         ],
         "range": [
          0,
          1011.578947368421
         ],
         "title": {
          "text": "stuart_driver_id"
         },
         "type": "linear"
        }
       }
      },
      "image/png": "[encoded data removed]",
      "text/html": [
       "<div>                            <div id=\"9512be3f-bf43-4192-955c-e15d1b5ec8ee\" class=\"plotly-graph-div\" style=\"height:525px; width:100%;\"></div>            <script type=\"text/javascript\">                require([\"plotly\"], function(Plotly) {                    window.PLOTLYENV=window.PLOTLYENV || {};                                    if (document.getElementById(\"9512be3f-bf43-4192-955c-e15d1b5ec8ee\")) {                    Plotly.newPlot(                        \"9512be3f-bf43-4192-955c-e15d1b5ec8ee\",                        [{\"alignmentgroup\":\"True\",\"hovertemplate\":\"catchment_area=%{x}<br>stuart_driver_id=%{text}<extra></extra>\",\"legendgroup\":\"\",\"marker\":{\"color\":\"#636efa\",\"pattern\":{\"shape\":\"\"}},\"name\":\"\",\"offsetgroup\":\"\",\"orientation\":\"v\",\"showlegend\":false,\"text\":[961.0,844.0,793.0,715.0,602.0,528.0],\"textposition\":\"auto\",\"x\":[\"London Outer NE\",\"London Outer N\",\"London Outer Upper NW\",\"London Inner S\",\"London Outer S\",\"London Inner Upper NW\"],\"xaxis\":\"x\",\"y\":[961,844,793,715,602,528],\"yaxis\":\"y\",\"type\":\"bar\"}],                        {\"template\":{\"data\":{\"bar\":[{\"error_x\":{\"color\":\"#2a3f5f\"},\"error_y\":{\"color\":\"#2a3f5f\"},\"marker\":{\"line\":{\"color\":\"#E5ECF6\",\"width\":0.5},\"pattern\":{\"fillmode\":\"overlay\",\"size\":10,\"solidity\":0.2}},\"type\":\"bar\"}],\"barpolar\":[{\"marker\":{\"line\":{\"color\":\"#E5ECF6\",\"width\":0.5},\"pattern\":{\"fillmode\":\"overlay\",\"size\":10,\"solidity\":0.2}},\"type\":\"barpolar\"}],\"carpet\":[{\"aaxis\":{\"endlinecolor\":\"#2a3f5f\",\"gridcolor\":\"white\",\"linecolor\":\"white\",\"minorgridcolor\":\"white\",\"startlinecolor\":\"#2a3f5f\"},\"baxis\":{\"endlinecolor\":\"#2a3f5f\",\"gridcolor\":\"white\",\"linecolor\":\"white\",\"minorgridcolor\":\"white\",\"startlinecolor\":\"#2a3f5f\"},\"type\":\"carpet\"}],\"choropleth\":[{\"colorbar\":{\"outlinewidth\":0,\"ticks\":\"\"},\"type\":\"choropleth\"}],\"contour\":[{\"colorbar\":{\"outlinewidth\":0,\"ticks\":\"\"},\"colorscale\":[[0.0,\"#0d0887\"],[0.1111111111111111,\"#46039f\"],[0.2222222222222222,\"#7201a8\"],[0.3333333333333333,\"#9c179e\"],[0.4444444444444444,\"#bd3786\"],[0.5555555555555556,\"#d8576b\"],[0.6666666666666666,\"#ed7953\"],[0.7777777777777778,\"#fb9f3a\"],[0.8888888888888888,\"#fdca26\"],[1.0,\"#f0f921\"]],\"type\":\"contour\"}],\"contourcarpet\":[{\"colorbar\":{\"outlinewidth\":0,\"ticks\":\"\"},\"type\":\"contourcarpet\"}],\"heatmap\":[{\"colorbar\":{\"outlinewidth\":0,\"ticks\":\"\"},\"colorscale\":[[0.0,\"#0d0887\"],[0.1111111111111111,\"#46039f\"],[0.2222222222222222,\"#7201a8\"],[0.3333333333333333,\"#9c179e\"],[0.4444444444444444,\"#bd3786\"],[0.5555555555555556,\"#d8576b\"],[0.6666666666666666,\"#ed7953\"],[0.7777777777777778,\"#fb9f3a\"],[0.8888888888888888,\"#fdca26\"],[1.0,\"#f0f921\"]],\"type\":\"heatmap\"}],\"heatmapgl\":[{\"colorbar\":{\"outlinewidth\":0,\"ticks\":\"\"},\"colorscale\":[[0.0,\"#0d0887\"],[0.1111111111111111,\"#46039f\"],[0.2222222222222222,\"#7201a8\"],[0.3333333333333333,\"#9c179e\"],[0.4444444444444444,\"#bd3786\"],[0.5555555555555556,\"#d8576b\"],[0.6666666666666666,\"#ed7953\"],[0.7777777777777778,\"#fb9f3a\"],[0.8888888888888888,\"#fdca26\"],[1.0,\"#f0f921\"]],\"type\":\"heatmapgl\"}],\"histogram\":[{\"marker\":{\"pattern\":{\"fillmode\":\"overlay\",\"size\":10,\"solidity\":0.2}},\"type\":\"histogram\"}],\"histogram2d\":[{\"colorbar\":{\"outlinewidth\":0,\"ticks\":\"\"},\"colorscale\":[[0.0,\"#0d0887\"],[0.1111111111111111,\"#46039f\"],[0.2222222222222222,\"#7201a8\"],[0.3333333333333333,\"#9c179e\"],[0.4444444444444444,\"#bd3786\"],[0.5555555555555556,\"#d8576b\"],[0.6666666666666666,\"#ed7953\"],[0.7777777777777778,\"#fb9f3a\"],[0.8888888888888888,\"#fdca26\"],[1.0,\"#f0f921\"]],\"type\":\"histogram2d\"}],\"histogram2dcontour\":[{\"colorbar\":{\"outlinewidth\":0,\"ticks\":\"\"},\"colorscale\":[[0.0,\"#0d0887\"],[0.1111111111111111,\"#46039f\"],[0.2222222222222222,\"#7201a8\"],[0.3333333333333333,\"#9c179e\"],[0.4444444444444444,\"#bd3786\"],[0.5555555555555556,\"#d8576b\"],[0.6666666666666666,\"#ed7953\"],[0.7777777777777778,\"#fb9f3a\"],[0.8888888888888888,\"#fdca26\"],[1.0,\"#f0f921\"]],\"type\":\"histogram2dcontour\"}],\"mesh3d\":[{\"colorbar\":{\"outlinewidth\":0,\"ticks\":\"\"},\"type\":\"mesh3d\"}],\"parcoords\":[{\"line\":{\"colorbar\":{\"outlinewidth\":0,\"ticks\":\"\"}},\"type\":\"parcoords\"}],\"pie\":[{\"automargin\":true,\"type\":\"pie\"}],\"scatter\":[{\"marker\":{\"colorbar\":{\"outlinewidth\":0,\"ticks\":\"\"}},\"type\":\"scatter\"}],\"scatter3d\":[{\"line\":{\"colorbar\":{\"outlinewidth\":0,\"ticks\":\"\"}},\"marker\":{\"colorbar\":{\"outlinewidth\":0,\"ticks\":\"\"}},\"type\":\"scatter3d\"}],\"scattercarpet\":[{\"marker\":{\"colorbar\":{\"outlinewidth\":0,\"ticks\":\"\"}},\"type\":\"scattercarpet\"}],\"scattergeo\":[{\"marker\":{\"colorbar\":{\"outlinewidth\":0,\"ticks\":\"\"}},\"type\":\"scattergeo\"}],\"scattergl\":[{\"marker\":{\"colorbar\":{\"outlinewidth\":0,\"ticks\":\"\"}},\"type\":\"scattergl\"}],\"scattermapbox\":[{\"marker\":{\"colorbar\":{\"outlinewidth\":0,\"ticks\":\"\"}},\"type\":\"scattermapbox\"}],\"scatterpolar\":[{\"marker\":{\"colorbar\":{\"outlinewidth\":0,\"ticks\":\"\"}},\"type\":\"scatterpolar\"}],\"scatterpolargl\":[{\"marker\":{\"colorbar\":{\"outlinewidth\":0,\"ticks\":\"\"}},\"type\":\"scatterpolargl\"}],\"scatterternary\":[{\"marker\":{\"colorbar\":{\"outlinewidth\":0,\"ticks\":\"\"}},\"type\":\"scatterternary\"}],\"surface\":[{\"colorbar\":{\"outlinewidth\":0,\"ticks\":\"\"},\"colorscale\":[[0.0,\"#0d0887\"],[0.1111111111111111,\"#46039f\"],[0.2222222222222222,\"#7201a8\"],[0.3333333333333333,\"#9c179e\"],[0.4444444444444444,\"#bd3786\"],[0.5555555555555556,\"#d8576b\"],[0.6666666666666666,\"#ed7953\"],[0.7777777777777778,\"#fb9f3a\"],[0.8888888888888888,\"#fdca26\"],[1.0,\"#f0f921\"]],\"type\":\"surface\"}],\"table\":[{\"cells\":{\"fill\":{\"color\":\"#EBF0F8\"},\"line\":{\"color\":\"white\"}},\"header\":{\"fill\":{\"color\":\"#C8D4E3\"},\"line\":{\"color\":\"white\"}},\"type\":\"table\"}]},\"layout\":{\"annotationdefaults\":{\"arrowcolor\":\"#2a3f5f\",\"arrowhead\":0,\"arrowwidth\":1},\"autotypenumbers\":\"strict\",\"coloraxis\":{\"colorbar\":{\"outlinewidth\":0,\"ticks\":\"\"}},\"colorscale\":{\"diverging\":[[0,\"#8e0152\"],[0.1,\"#c51b7d\"],[0.2,\"#de77ae\"],[0.3,\"#f1b6da\"],[0.4,\"#fde0ef\"],[0.5,\"#f7f7f7\"],[0.6,\"#e6f5d0\"],[0.7,\"#b8e186\"],[0.8,\"#7fbc41\"],[0.9,\"#4d9221\"],[1,\"#276419\"]],\"sequential\":[[0.0,\"#0d0887\"],[0.1111111111111111,\"#46039f\"],[0.2222222222222222,\"#7201a8\"],[0.3333333333333333,\"#9c179e\"],[0.4444444444444444,\"#bd3786\"],[0.5555555555555556,\"#d8576b\"],[0.6666666666666666,\"#ed7953\"],[0.7777777777777778,\"#fb9f3a\"],[0.8888888888888888,\"#fdca26\"],[1.0,\"#f0f921\"]],\"sequentialminus\":[[0.0,\"#0d0887\"],[0.1111111111111111,\"#46039f\"],[0.2222222222222222,\"#7201a8\"],[0.3333333333333333,\"#9c179e\"],[0.4444444444444444,\"#bd3786\"],[0.5555555555555556,\"#d8576b\"],[0.6666666666666666,\"#ed7953\"],[0.7777777777777778,\"#fb9f3a\"],[0.8888888888888888,\"#fdca26\"],[1.0,\"#f0f921\"]]},\"colorway\":[\"#636efa\",\"#EF553B\",\"#00cc96\",\"#ab63fa\",\"#FFA15A\",\"#19d3f3\",\"#FF6692\",\"#B6E880\",\"#FF97FF\",\"#FECB52\"],\"font\":{\"color\":\"#2a3f5f\"},\"geo\":{\"bgcolor\":\"white\",\"lakecolor\":\"white\",\"landcolor\":\"#E5ECF6\",\"showlakes\":true,\"showland\":true,\"subunitcolor\":\"white\"},\"hoverlabel\":{\"align\":\"left\"},\"hovermode\":\"closest\",\"mapbox\":{\"style\":\"light\"},\"paper_bgcolor\":\"white\",\"plot_bgcolor\":\"#E5ECF6\",\"polar\":{\"angularaxis\":{\"gridcolor\":\"white\",\"linecolor\":\"white\",\"ticks\":\"\"},\"bgcolor\":\"#E5ECF6\",\"radialaxis\":{\"gridcolor\":\"white\",\"linecolor\":\"white\",\"ticks\":\"\"}},\"scene\":{\"xaxis\":{\"backgroundcolor\":\"#E5ECF6\",\"gridcolor\":\"white\",\"gridwidth\":2,\"linecolor\":\"white\",\"showbackground\":true,\"ticks\":\"\",\"zerolinecolor\":\"white\"},\"yaxis\":{\"backgroundcolor\":\"#E5ECF6\",\"gridcolor\":\"white\",\"gridwidth\":2,\"linecolor\":\"white\",\"showbackground\":true,\"ticks\":\"\",\"zerolinecolor\":\"white\"},\"zaxis\":{\"backgroundcolor\":\"#E5ECF6\",\"gridcolor\":\"white\",\"gridwidth\":2,\"linecolor\":\"white\",\"showbackground\":true,\"ticks\":\"\",\"zerolinecolor\":\"white\"}},\"shapedefaults\":{\"line\":{\"color\":\"#2a3f5f\"}},\"ternary\":{\"aaxis\":{\"gridcolor\":\"white\",\"linecolor\":\"white\",\"ticks\":\"\"},\"baxis\":{\"gridcolor\":\"white\",\"linecolor\":\"white\",\"ticks\":\"\"},\"bgcolor\":\"#E5ECF6\",\"caxis\":{\"gridcolor\":\"white\",\"linecolor\":\"white\",\"ticks\":\"\"}},\"title\":{\"x\":0.05},\"xaxis\":{\"automargin\":true,\"gridcolor\":\"white\",\"linecolor\":\"white\",\"ticks\":\"\",\"title\":{\"standoff\":15},\"zerolinecolor\":\"white\",\"zerolinewidth\":2},\"yaxis\":{\"automargin\":true,\"gridcolor\":\"white\",\"linecolor\":\"white\",\"ticks\":\"\",\"title\":{\"standoff\":15},\"zerolinecolor\":\"white\",\"zerolinewidth\":2}}},\"xaxis\":{\"anchor\":\"y\",\"domain\":[0.0,1.0],\"title\":{\"text\":\"catchment_area\"}},\"yaxis\":{\"anchor\":\"x\",\"domain\":[0.0,1.0],\"title\":{\"text\":\"stuart_driver_id\"}},\"legend\":{\"tracegroupgap\":0},\"title\":{\"text\":\"Top Six CA Couriers Live In\"},\"barmode\":\"relative\"},                        {\"responsive\": true}                    ).then(function(){\n",
       "                            \n",
       "var gd = document.getElementById('9512be3f-bf43-4192-955c-e15d1b5ec8ee');\n",
       "var x = new MutationObserver(function (mutations, observer) {{\n",
       "        var display = window.getComputedStyle(gd).display;\n",
       "        if (!display || display === 'none') {{\n",
       "            console.log([gd, 'removed!']);\n",
       "            Plotly.purge(gd);\n",
       "            observer.disconnect();\n",
       "        }}\n",
       "}});\n",
       "\n",
       "// Listen for the removal of the full notebook cells\n",
       "var notebookContainer = gd.closest('#notebook-container');\n",
       "if (notebookContainer) {{\n",
       "    x.observe(notebookContainer, {childList: true});\n",
       "}}\n",
       "\n",
       "// Listen for the clearing of the current output cell\n",
       "var outputEl = gd.closest('.output');\n",
       "if (outputEl) {{\n",
       "    x.observe(outputEl, {childList: true});\n",
       "}}\n",
       "\n",
       "                        })                };                });            </script>        </div>"
      ]
     },
     "metadata": {},
     "output_type": "display_data"
    }
   ],
   "source": [
    "fig2 = px.bar(top_5_CA.head(6), x = 'catchment_area' , y = 'stuart_driver_id', title = 'Top Six CA Couriers Live In' , text = 'stuart_driver_id')\n",
    "fig2.show()"
   ]
  },
  {
   "cell_type": "markdown",
   "metadata": {},
   "source": [
    "## Delivery Database "
   ]
  },
  {
   "cell_type": "markdown",
   "metadata": {},
   "source": [
    "            Creating a metric to get \"CA each driver mostly worked in\""
   ]
  },
  {
   "cell_type": "code",
   "execution_count": 103,
   "metadata": {},
   "outputs": [
    {
     "name": "stdout",
     "output_type": "stream",
     "text": [
      "Connected to the DataWarehouse\n",
      "Result from query obtained\n",
      "Data stored in dataframe\n"
     ]
    }
   ],
   "source": [
    "query_2 = '''\n",
    "\n",
    "SELECT -------------------- Package\n",
    "       cd.driver_id,          -- stuart_driver_id\n",
    "       z.zone_name,\n",
    "       cd.zone_id,\n",
    "       a.catchment_area as pu_CA,\n",
    "\n",
    "    ------------------  Driver\n",
    "       uam.postcode_found as driver_postCode,\n",
    "       ad.catchment_area as driver_CA,\n",
    "       count( distinct p.package_id) as no_packages\n",
    "\n",
    "FROM modeled_core.driver cd\n",
    "\n",
    "INNER JOIN modeled_core.zones z\n",
    "USING (zone_id)\n",
    "\n",
    "LEFT JOIN modeled_core.delivery d\n",
    "    ON cd.driver_id = d.driver_id\n",
    "\n",
    "LEFT JOIN modeled_core.package p\n",
    "    ON d.package_id = p.package_id\n",
    "\n",
    "LEFT JOIN modeled_core.location l\n",
    "    ON p.pu_location_id = l.location_id\n",
    "\n",
    "LEFT JOIN ops.area a\n",
    "    ON REPLACE(l.delivery_area_name , '_' , '') = a.area_name_cap -- pool area for packages\n",
    "\n",
    "LEFT JOIN ops.uk_application_mapping uam\n",
    "    ON uam.application_fountain_id = cd.applicant_fountain_id\n",
    "\n",
    "LEFT JOIN ops.area ad\n",
    "    ON uam.application_pool = ad.area_name_uscore   -- pool area for driver ca\n",
    "\n",
    "WHERE z.country_id = 2\n",
    "AND DATE(p.time_window_pu_start_utc) >= '2021-07-01'\n",
    "\n",
    "GROUP BY 1, 2, 3, 4, 5, 6\n",
    "\n",
    "'''\n",
    "\n",
    "deliveries = get_data_from_warehouse(query_2)"
   ]
  },
  {
   "cell_type": "code",
   "execution_count": 104,
   "metadata": {},
   "outputs": [
    {
     "data": {
      "text/plain": [
       "(97827, 7)"
      ]
     },
     "execution_count": 104,
     "metadata": {},
     "output_type": "execute_result"
    }
   ],
   "source": [
    "# Getting multiple rows per driver as they can work in different catchment areas\n",
    "# Got 83,641 when had LEFT JOIN for application_fountain_id\n",
    "deliveries.shape"
   ]
  },
  {
   "cell_type": "code",
   "execution_count": 105,
   "metadata": {},
   "outputs": [
    {
     "data": {
      "text/plain": [
       "(97827, 7)"
      ]
     },
     "execution_count": 105,
     "metadata": {},
     "output_type": "execute_result"
    }
   ],
   "source": [
    "# dropping duplicates (no duplicates)\n",
    "no_dup_deliveries = deliveries.drop_duplicates()\n",
    "no_dup_deliveries.shape\n",
    "\n",
    "# No duplicates"
   ]
  },
  {
   "cell_type": "code",
   "execution_count": 106,
   "metadata": {},
   "outputs": [
    {
     "data": {
      "text/plain": [
       "37973"
      ]
     },
     "execution_count": 106,
     "metadata": {},
     "output_type": "execute_result"
    }
   ],
   "source": [
    "no_dup_deliveries['driver_id'].nunique()"
   ]
  },
  {
   "cell_type": "code",
   "execution_count": 107,
   "metadata": {},
   "outputs": [],
   "source": [
    "# Generating a csv file with drivers and their deliveries\n",
    "no_dup_deliveries.to_csv('data/deliveries_and_catchement_areas.csv' , index = False )\n",
    "\n",
    "# Another way deliveries.to_csv('deliveries.csv') "
   ]
  },
  {
   "cell_type": "code",
   "execution_count": 154,
   "metadata": {},
   "outputs": [],
   "source": [
    "# Dropped all None values in driver_ca: Removing drivers who don't live in CA\n",
    "no_dup_deliveries = no_dup_deliveries[no_dup_deliveries['driver_ca'].isnull()==False]"
   ]
  },
  {
   "cell_type": "code",
   "execution_count": 155,
   "metadata": {},
   "outputs": [
    {
     "data": {
      "text/plain": [
       "12333"
      ]
     },
     "execution_count": 155,
     "metadata": {},
     "output_type": "execute_result"
    }
   ],
   "source": [
    "no_dup_deliveries['driver_id'].nunique()"
   ]
  },
  {
   "cell_type": "code",
   "execution_count": 171,
   "metadata": {},
   "outputs": [
    {
     "data": {
      "text/html": [
       "<div>\n",
       "<style scoped>\n",
       "    .dataframe tbody tr th:only-of-type {\n",
       "        vertical-align: middle;\n",
       "    }\n",
       "\n",
       "    .dataframe tbody tr th {\n",
       "        vertical-align: top;\n",
       "    }\n",
       "\n",
       "    .dataframe thead th {\n",
       "        text-align: right;\n",
       "    }\n",
       "</style>\n",
       "<table border=\"1\" class=\"dataframe\">\n",
       "  <thead>\n",
       "    <tr style=\"text-align: right;\">\n",
       "      <th></th>\n",
       "      <th>driver_id</th>\n",
       "      <th>zone_name</th>\n",
       "      <th>zone_id</th>\n",
       "      <th>pu_ca</th>\n",
       "      <th>driver_postcode</th>\n",
       "      <th>driver_ca</th>\n",
       "      <th>no_packages</th>\n",
       "    </tr>\n",
       "  </thead>\n",
       "  <tbody>\n",
       "    <tr>\n",
       "      <th>2</th>\n",
       "      <td>373615</td>\n",
       "      <td>Darlington</td>\n",
       "      <td>13</td>\n",
       "      <td>Darlington</td>\n",
       "      <td>TS4 2RR</td>\n",
       "      <td>Teesside</td>\n",
       "      <td>166</td>\n",
       "    </tr>\n",
       "    <tr>\n",
       "      <th>4</th>\n",
       "      <td>431872</td>\n",
       "      <td>London</td>\n",
       "      <td>2</td>\n",
       "      <td>London Outer N</td>\n",
       "      <td>N18 2PP</td>\n",
       "      <td>London Outer N</td>\n",
       "      <td>3059</td>\n",
       "    </tr>\n",
       "    <tr>\n",
       "      <th>5</th>\n",
       "      <td>457432</td>\n",
       "      <td>Birmingham</td>\n",
       "      <td>53</td>\n",
       "      <td>Wolverhampton</td>\n",
       "      <td>B20 3ND</td>\n",
       "      <td>Birmingham Central</td>\n",
       "      <td>522</td>\n",
       "    </tr>\n",
       "    <tr>\n",
       "      <th>7</th>\n",
       "      <td>431931</td>\n",
       "      <td>London</td>\n",
       "      <td>2</td>\n",
       "      <td>London Outer N</td>\n",
       "      <td>EN4 8TF</td>\n",
       "      <td>London Outer N</td>\n",
       "      <td>1413</td>\n",
       "    </tr>\n",
       "    <tr>\n",
       "      <th>11</th>\n",
       "      <td>385574</td>\n",
       "      <td>Darlington</td>\n",
       "      <td>13</td>\n",
       "      <td>Teesside</td>\n",
       "      <td>TS18 3AN</td>\n",
       "      <td>Teesside</td>\n",
       "      <td>2355</td>\n",
       "    </tr>\n",
       "    <tr>\n",
       "      <th>14</th>\n",
       "      <td>416323</td>\n",
       "      <td>London</td>\n",
       "      <td>2</td>\n",
       "      <td>London Outer S</td>\n",
       "      <td>CR0 2US</td>\n",
       "      <td>London Outer S</td>\n",
       "      <td>1230</td>\n",
       "    </tr>\n",
       "    <tr>\n",
       "      <th>17</th>\n",
       "      <td>362062</td>\n",
       "      <td>Reading</td>\n",
       "      <td>47</td>\n",
       "      <td>Reading</td>\n",
       "      <td>RG1 3NA</td>\n",
       "      <td>Reading</td>\n",
       "      <td>1228</td>\n",
       "    </tr>\n",
       "    <tr>\n",
       "      <th>20</th>\n",
       "      <td>398305</td>\n",
       "      <td>Blackpool</td>\n",
       "      <td>56</td>\n",
       "      <td>Blackpool South</td>\n",
       "      <td>FY1 5EG</td>\n",
       "      <td>Blackpool South</td>\n",
       "      <td>3738</td>\n",
       "    </tr>\n",
       "    <tr>\n",
       "      <th>25</th>\n",
       "      <td>382857</td>\n",
       "      <td>London</td>\n",
       "      <td>2</td>\n",
       "      <td>London Outer NE</td>\n",
       "      <td>E10 5DG</td>\n",
       "      <td>London Outer NE</td>\n",
       "      <td>1976</td>\n",
       "    </tr>\n",
       "    <tr>\n",
       "      <th>29</th>\n",
       "      <td>382371</td>\n",
       "      <td>London</td>\n",
       "      <td>2</td>\n",
       "      <td>London Border N</td>\n",
       "      <td>N9 9ER</td>\n",
       "      <td>London Border N</td>\n",
       "      <td>2689</td>\n",
       "    </tr>\n",
       "  </tbody>\n",
       "</table>\n",
       "</div>"
      ],
      "text/plain": [
       "    driver_id   zone_name  zone_id            pu_ca driver_postcode  \\\n",
       "2      373615  Darlington       13       Darlington         TS4 2RR   \n",
       "4      431872      London        2   London Outer N         N18 2PP   \n",
       "5      457432  Birmingham       53    Wolverhampton         B20 3ND   \n",
       "7      431931      London        2   London Outer N         EN4 8TF   \n",
       "11     385574  Darlington       13         Teesside        TS18 3AN   \n",
       "14     416323      London        2   London Outer S         CR0 2US   \n",
       "17     362062     Reading       47          Reading         RG1 3NA   \n",
       "20     398305   Blackpool       56  Blackpool South         FY1 5EG   \n",
       "25     382857      London        2  London Outer NE         E10 5DG   \n",
       "29     382371      London        2  London Border N          N9 9ER   \n",
       "\n",
       "             driver_ca  no_packages  \n",
       "2             Teesside          166  \n",
       "4       London Outer N         3059  \n",
       "5   Birmingham Central          522  \n",
       "7       London Outer N         1413  \n",
       "11            Teesside         2355  \n",
       "14      London Outer S         1230  \n",
       "17             Reading         1228  \n",
       "20     Blackpool South         3738  \n",
       "25     London Outer NE         1976  \n",
       "29     London Border N         2689  "
      ]
     },
     "execution_count": 171,
     "metadata": {},
     "output_type": "execute_result"
    }
   ],
   "source": [
    "no_dup_deliveries.head(10)"
   ]
  },
  {
   "cell_type": "code",
   "execution_count": 146,
   "metadata": {},
   "outputs": [
    {
     "data": {
      "text/html": [
       "<div>\n",
       "<style scoped>\n",
       "    .dataframe tbody tr th:only-of-type {\n",
       "        vertical-align: middle;\n",
       "    }\n",
       "\n",
       "    .dataframe tbody tr th {\n",
       "        vertical-align: top;\n",
       "    }\n",
       "\n",
       "    .dataframe thead th {\n",
       "        text-align: right;\n",
       "    }\n",
       "</style>\n",
       "<table border=\"1\" class=\"dataframe\">\n",
       "  <thead>\n",
       "    <tr style=\"text-align: right;\">\n",
       "      <th></th>\n",
       "      <th>zone_name</th>\n",
       "    </tr>\n",
       "    <tr>\n",
       "      <th>driver_id</th>\n",
       "      <th></th>\n",
       "    </tr>\n",
       "  </thead>\n",
       "  <tbody>\n",
       "    <tr>\n",
       "      <th>412933</th>\n",
       "      <td>4</td>\n",
       "    </tr>\n",
       "    <tr>\n",
       "      <th>415506</th>\n",
       "      <td>4</td>\n",
       "    </tr>\n",
       "    <tr>\n",
       "      <th>350887</th>\n",
       "      <td>4</td>\n",
       "    </tr>\n",
       "    <tr>\n",
       "      <th>399519</th>\n",
       "      <td>4</td>\n",
       "    </tr>\n",
       "    <tr>\n",
       "      <th>448056</th>\n",
       "      <td>3</td>\n",
       "    </tr>\n",
       "    <tr>\n",
       "      <th>...</th>\n",
       "      <td>...</td>\n",
       "    </tr>\n",
       "    <tr>\n",
       "      <th>462373</th>\n",
       "      <td>2</td>\n",
       "    </tr>\n",
       "    <tr>\n",
       "      <th>346970</th>\n",
       "      <td>2</td>\n",
       "    </tr>\n",
       "    <tr>\n",
       "      <th>347429</th>\n",
       "      <td>2</td>\n",
       "    </tr>\n",
       "    <tr>\n",
       "      <th>346977</th>\n",
       "      <td>2</td>\n",
       "    </tr>\n",
       "    <tr>\n",
       "      <th>455785</th>\n",
       "      <td>1</td>\n",
       "    </tr>\n",
       "  </tbody>\n",
       "</table>\n",
       "<p>597 rows × 1 columns</p>\n",
       "</div>"
      ],
      "text/plain": [
       "           zone_name\n",
       "driver_id           \n",
       "412933             4\n",
       "415506             4\n",
       "350887             4\n",
       "399519             4\n",
       "448056             3\n",
       "...              ...\n",
       "462373             2\n",
       "346970             2\n",
       "347429             2\n",
       "346977             2\n",
       "455785             1\n",
       "\n",
       "[597 rows x 1 columns]"
      ]
     },
     "execution_count": 146,
     "metadata": {},
     "output_type": "execute_result"
    }
   ],
   "source": [
    "no_dup_deliveries.groupby(['driver_id'])\\\n",
    ".agg({'zone_name' : 'nunique'})\\\n",
    ".sort_values('zone_name', ascending = False)\\\n",
    ".head(597)  # which is 600/12,000 = around 5%\n",
    "                                             "
   ]
  },
  {
   "cell_type": "code",
   "execution_count": 174,
   "metadata": {},
   "outputs": [],
   "source": [
    "zone_test = no_dup_deliveries.groupby(['driver_id'])\\\n",
    ".agg({'zone_name' : 'nunique' , 'no_packages' : 'max'})\\\n",
    ".sort_values('zone_name', ascending = False)\\\n",
    ".reset_index()"
   ]
  },
  {
   "cell_type": "code",
   "execution_count": 176,
   "metadata": {},
   "outputs": [],
   "source": [
    "zone_test = zone_test[zone_test['zone_name']> 1].copy()"
   ]
  },
  {
   "cell_type": "code",
   "execution_count": 177,
   "metadata": {},
   "outputs": [
    {
     "data": {
      "text/plain": [
       "driver_id      246354729\n",
       "zone_name           1221\n",
       "no_packages       375744\n",
       "dtype: int64"
      ]
     },
     "execution_count": 177,
     "metadata": {},
     "output_type": "execute_result"
    }
   ],
   "source": [
    "zone_test.sum()  # wrong!"
   ]
  },
  {
   "cell_type": "code",
   "execution_count": 178,
   "metadata": {},
   "outputs": [
    {
     "name": "stderr",
     "output_type": "stream",
     "text": [
      "/var/folders/07/_0xz2ftj6wgfn6ghm9_npgg40000gp/T/ipykernel_32796/1650789499.py:1: FutureWarning: Dropping of nuisance columns in DataFrame reductions (with 'numeric_only=None') is deprecated; in a future version this will raise TypeError.  Select only valid columns before calling the reduction.\n",
      "  no_dup_deliveries.sum()\n"
     ]
    },
    {
     "data": {
      "text/plain": [
       "driver_id                                                12537609039\n",
       "zone_name          DarlingtonLondonBirminghamLondonDarlingtonLond...\n",
       "zone_id                                                       415081\n",
       "driver_postcode    TS4 2RRN18 2PPB20 3NDEN4 8TFTS18 3ANCR0 2USRG1...\n",
       "driver_ca          TeessideLondon Outer NBirmingham CentralLondon...\n",
       "no_packages                                                  7114729\n",
       "dtype: object"
      ]
     },
     "execution_count": 178,
     "metadata": {},
     "output_type": "execute_result"
    }
   ],
   "source": [
    "no_dup_deliveries.sum()"
   ]
  },
  {
   "cell_type": "code",
   "execution_count": 156,
   "metadata": {},
   "outputs": [
    {
     "data": {
      "text/plain": [
       "(29901, 7)"
      ]
     },
     "execution_count": 156,
     "metadata": {},
     "output_type": "execute_result"
    }
   ],
   "source": [
    "# One driver could have done > 1 delivery and do deliveries in multiple CA\n",
    "no_dup_deliveries.shape"
   ]
  },
  {
   "cell_type": "code",
   "execution_count": 157,
   "metadata": {},
   "outputs": [
    {
     "data": {
      "text/html": [
       "<div>\n",
       "<style scoped>\n",
       "    .dataframe tbody tr th:only-of-type {\n",
       "        vertical-align: middle;\n",
       "    }\n",
       "\n",
       "    .dataframe tbody tr th {\n",
       "        vertical-align: top;\n",
       "    }\n",
       "\n",
       "    .dataframe thead th {\n",
       "        text-align: right;\n",
       "    }\n",
       "</style>\n",
       "<table border=\"1\" class=\"dataframe\">\n",
       "  <thead>\n",
       "    <tr style=\"text-align: right;\">\n",
       "      <th></th>\n",
       "      <th>driver_id</th>\n",
       "      <th>zone_name</th>\n",
       "      <th>zone_id</th>\n",
       "      <th>pu_ca</th>\n",
       "      <th>driver_postcode</th>\n",
       "      <th>driver_ca</th>\n",
       "      <th>no_packages</th>\n",
       "    </tr>\n",
       "  </thead>\n",
       "  <tbody>\n",
       "    <tr>\n",
       "      <th>2</th>\n",
       "      <td>373615</td>\n",
       "      <td>Darlington</td>\n",
       "      <td>13</td>\n",
       "      <td>Darlington</td>\n",
       "      <td>TS4 2RR</td>\n",
       "      <td>Teesside</td>\n",
       "      <td>166</td>\n",
       "    </tr>\n",
       "    <tr>\n",
       "      <th>4</th>\n",
       "      <td>431872</td>\n",
       "      <td>London</td>\n",
       "      <td>2</td>\n",
       "      <td>London Outer N</td>\n",
       "      <td>N18 2PP</td>\n",
       "      <td>London Outer N</td>\n",
       "      <td>3059</td>\n",
       "    </tr>\n",
       "    <tr>\n",
       "      <th>5</th>\n",
       "      <td>457432</td>\n",
       "      <td>Birmingham</td>\n",
       "      <td>53</td>\n",
       "      <td>Wolverhampton</td>\n",
       "      <td>B20 3ND</td>\n",
       "      <td>Birmingham Central</td>\n",
       "      <td>522</td>\n",
       "    </tr>\n",
       "    <tr>\n",
       "      <th>7</th>\n",
       "      <td>431931</td>\n",
       "      <td>London</td>\n",
       "      <td>2</td>\n",
       "      <td>London Outer N</td>\n",
       "      <td>EN4 8TF</td>\n",
       "      <td>London Outer N</td>\n",
       "      <td>1413</td>\n",
       "    </tr>\n",
       "    <tr>\n",
       "      <th>11</th>\n",
       "      <td>385574</td>\n",
       "      <td>Darlington</td>\n",
       "      <td>13</td>\n",
       "      <td>Teesside</td>\n",
       "      <td>TS18 3AN</td>\n",
       "      <td>Teesside</td>\n",
       "      <td>2355</td>\n",
       "    </tr>\n",
       "    <tr>\n",
       "      <th>...</th>\n",
       "      <td>...</td>\n",
       "      <td>...</td>\n",
       "      <td>...</td>\n",
       "      <td>...</td>\n",
       "      <td>...</td>\n",
       "      <td>...</td>\n",
       "      <td>...</td>\n",
       "    </tr>\n",
       "    <tr>\n",
       "      <th>97812</th>\n",
       "      <td>429153</td>\n",
       "      <td>London</td>\n",
       "      <td>2</td>\n",
       "      <td>London Border N</td>\n",
       "      <td>RM1 4NU</td>\n",
       "      <td>London Border NE</td>\n",
       "      <td>1</td>\n",
       "    </tr>\n",
       "    <tr>\n",
       "      <th>97815</th>\n",
       "      <td>347764</td>\n",
       "      <td>London</td>\n",
       "      <td>2</td>\n",
       "      <td>None</td>\n",
       "      <td>SW16 6AP</td>\n",
       "      <td>London Inner S</td>\n",
       "      <td>1</td>\n",
       "    </tr>\n",
       "    <tr>\n",
       "      <th>97816</th>\n",
       "      <td>367736</td>\n",
       "      <td>Liverpool</td>\n",
       "      <td>28</td>\n",
       "      <td>Liverpool East</td>\n",
       "      <td>CH41 2TW</td>\n",
       "      <td>Liverpool Wirral</td>\n",
       "      <td>1</td>\n",
       "    </tr>\n",
       "    <tr>\n",
       "      <th>97822</th>\n",
       "      <td>381081</td>\n",
       "      <td>London</td>\n",
       "      <td>2</td>\n",
       "      <td>London Border E</td>\n",
       "      <td>W9 3NQ</td>\n",
       "      <td>London Inner Upper NW</td>\n",
       "      <td>1</td>\n",
       "    </tr>\n",
       "    <tr>\n",
       "      <th>97825</th>\n",
       "      <td>484451</td>\n",
       "      <td>Sheffield</td>\n",
       "      <td>20</td>\n",
       "      <td>Sheffield</td>\n",
       "      <td>S65 1PD</td>\n",
       "      <td>Rotherham</td>\n",
       "      <td>1</td>\n",
       "    </tr>\n",
       "  </tbody>\n",
       "</table>\n",
       "<p>29901 rows × 7 columns</p>\n",
       "</div>"
      ],
      "text/plain": [
       "       driver_id   zone_name  zone_id            pu_ca driver_postcode  \\\n",
       "2         373615  Darlington       13       Darlington         TS4 2RR   \n",
       "4         431872      London        2   London Outer N         N18 2PP   \n",
       "5         457432  Birmingham       53    Wolverhampton         B20 3ND   \n",
       "7         431931      London        2   London Outer N         EN4 8TF   \n",
       "11        385574  Darlington       13         Teesside        TS18 3AN   \n",
       "...          ...         ...      ...              ...             ...   \n",
       "97812     429153      London        2  London Border N         RM1 4NU   \n",
       "97815     347764      London        2             None        SW16 6AP   \n",
       "97816     367736   Liverpool       28   Liverpool East        CH41 2TW   \n",
       "97822     381081      London        2  London Border E          W9 3NQ   \n",
       "97825     484451   Sheffield       20        Sheffield         S65 1PD   \n",
       "\n",
       "                   driver_ca  no_packages  \n",
       "2                   Teesside          166  \n",
       "4             London Outer N         3059  \n",
       "5         Birmingham Central          522  \n",
       "7             London Outer N         1413  \n",
       "11                  Teesside         2355  \n",
       "...                      ...          ...  \n",
       "97812       London Border NE            1  \n",
       "97815         London Inner S            1  \n",
       "97816       Liverpool Wirral            1  \n",
       "97822  London Inner Upper NW            1  \n",
       "97825              Rotherham            1  \n",
       "\n",
       "[29901 rows x 7 columns]"
      ]
     },
     "execution_count": 157,
     "metadata": {},
     "output_type": "execute_result"
    }
   ],
   "source": [
    "no_dup_deliveries"
   ]
  },
  {
   "cell_type": "code",
   "execution_count": 172,
   "metadata": {},
   "outputs": [
    {
     "data": {
      "text/html": [
       "<div>\n",
       "<style scoped>\n",
       "    .dataframe tbody tr th:only-of-type {\n",
       "        vertical-align: middle;\n",
       "    }\n",
       "\n",
       "    .dataframe tbody tr th {\n",
       "        vertical-align: top;\n",
       "    }\n",
       "\n",
       "    .dataframe thead th {\n",
       "        text-align: right;\n",
       "    }\n",
       "</style>\n",
       "<table border=\"1\" class=\"dataframe\">\n",
       "  <thead>\n",
       "    <tr style=\"text-align: right;\">\n",
       "      <th></th>\n",
       "      <th>driver_id</th>\n",
       "      <th>zone_name</th>\n",
       "      <th>zone_id</th>\n",
       "      <th>pu_ca</th>\n",
       "      <th>driver_postcode</th>\n",
       "      <th>driver_ca</th>\n",
       "      <th>no_packages</th>\n",
       "    </tr>\n",
       "  </thead>\n",
       "  <tbody>\n",
       "    <tr>\n",
       "      <th>1571</th>\n",
       "      <td>412933</td>\n",
       "      <td>Plymouth</td>\n",
       "      <td>39</td>\n",
       "      <td>Plymstock</td>\n",
       "      <td>PL1 5AE</td>\n",
       "      <td>Plymouth</td>\n",
       "      <td>291</td>\n",
       "    </tr>\n",
       "    <tr>\n",
       "      <th>5388</th>\n",
       "      <td>412933</td>\n",
       "      <td>Nottingham</td>\n",
       "      <td>71</td>\n",
       "      <td>Plymstock</td>\n",
       "      <td>PL1 5AE</td>\n",
       "      <td>Plymouth</td>\n",
       "      <td>291</td>\n",
       "    </tr>\n",
       "    <tr>\n",
       "      <th>23833</th>\n",
       "      <td>412933</td>\n",
       "      <td>Leicester</td>\n",
       "      <td>69</td>\n",
       "      <td>Plymstock</td>\n",
       "      <td>PL1 5AE</td>\n",
       "      <td>Plymouth</td>\n",
       "      <td>291</td>\n",
       "    </tr>\n",
       "    <tr>\n",
       "      <th>31822</th>\n",
       "      <td>412933</td>\n",
       "      <td>Leicester</td>\n",
       "      <td>69</td>\n",
       "      <td>Plymouth</td>\n",
       "      <td>PL1 5AE</td>\n",
       "      <td>Plymouth</td>\n",
       "      <td>383</td>\n",
       "    </tr>\n",
       "    <tr>\n",
       "      <th>32082</th>\n",
       "      <td>412933</td>\n",
       "      <td>Milton Keynes</td>\n",
       "      <td>70</td>\n",
       "      <td>Plymouth</td>\n",
       "      <td>PL1 5AE</td>\n",
       "      <td>Plymouth</td>\n",
       "      <td>383</td>\n",
       "    </tr>\n",
       "    <tr>\n",
       "      <th>38492</th>\n",
       "      <td>412933</td>\n",
       "      <td>Leicester</td>\n",
       "      <td>69</td>\n",
       "      <td>Milton Keynes</td>\n",
       "      <td>PL1 5AE</td>\n",
       "      <td>Plymouth</td>\n",
       "      <td>70</td>\n",
       "    </tr>\n",
       "    <tr>\n",
       "      <th>47872</th>\n",
       "      <td>412933</td>\n",
       "      <td>Milton Keynes</td>\n",
       "      <td>70</td>\n",
       "      <td>Milton Keynes</td>\n",
       "      <td>PL1 5AE</td>\n",
       "      <td>Plymouth</td>\n",
       "      <td>70</td>\n",
       "    </tr>\n",
       "    <tr>\n",
       "      <th>59690</th>\n",
       "      <td>412933</td>\n",
       "      <td>Plymouth</td>\n",
       "      <td>39</td>\n",
       "      <td>Plymouth</td>\n",
       "      <td>PL1 5AE</td>\n",
       "      <td>Plymouth</td>\n",
       "      <td>383</td>\n",
       "    </tr>\n",
       "    <tr>\n",
       "      <th>59922</th>\n",
       "      <td>412933</td>\n",
       "      <td>Nottingham</td>\n",
       "      <td>71</td>\n",
       "      <td>Plymouth</td>\n",
       "      <td>PL1 5AE</td>\n",
       "      <td>Plymouth</td>\n",
       "      <td>383</td>\n",
       "    </tr>\n",
       "    <tr>\n",
       "      <th>60665</th>\n",
       "      <td>412933</td>\n",
       "      <td>Milton Keynes</td>\n",
       "      <td>70</td>\n",
       "      <td>Plymstock</td>\n",
       "      <td>PL1 5AE</td>\n",
       "      <td>Plymouth</td>\n",
       "      <td>291</td>\n",
       "    </tr>\n",
       "    <tr>\n",
       "      <th>61206</th>\n",
       "      <td>412933</td>\n",
       "      <td>Nottingham</td>\n",
       "      <td>71</td>\n",
       "      <td>Milton Keynes</td>\n",
       "      <td>PL1 5AE</td>\n",
       "      <td>Plymouth</td>\n",
       "      <td>70</td>\n",
       "    </tr>\n",
       "    <tr>\n",
       "      <th>62187</th>\n",
       "      <td>412933</td>\n",
       "      <td>Plymouth</td>\n",
       "      <td>39</td>\n",
       "      <td>Milton Keynes</td>\n",
       "      <td>PL1 5AE</td>\n",
       "      <td>Plymouth</td>\n",
       "      <td>70</td>\n",
       "    </tr>\n",
       "  </tbody>\n",
       "</table>\n",
       "</div>"
      ],
      "text/plain": [
       "       driver_id      zone_name  zone_id          pu_ca driver_postcode  \\\n",
       "1571      412933       Plymouth       39      Plymstock         PL1 5AE   \n",
       "5388      412933     Nottingham       71      Plymstock         PL1 5AE   \n",
       "23833     412933      Leicester       69      Plymstock         PL1 5AE   \n",
       "31822     412933      Leicester       69       Plymouth         PL1 5AE   \n",
       "32082     412933  Milton Keynes       70       Plymouth         PL1 5AE   \n",
       "38492     412933      Leicester       69  Milton Keynes         PL1 5AE   \n",
       "47872     412933  Milton Keynes       70  Milton Keynes         PL1 5AE   \n",
       "59690     412933       Plymouth       39       Plymouth         PL1 5AE   \n",
       "59922     412933     Nottingham       71       Plymouth         PL1 5AE   \n",
       "60665     412933  Milton Keynes       70      Plymstock         PL1 5AE   \n",
       "61206     412933     Nottingham       71  Milton Keynes         PL1 5AE   \n",
       "62187     412933       Plymouth       39  Milton Keynes         PL1 5AE   \n",
       "\n",
       "      driver_ca  no_packages  \n",
       "1571   Plymouth          291  \n",
       "5388   Plymouth          291  \n",
       "23833  Plymouth          291  \n",
       "31822  Plymouth          383  \n",
       "32082  Plymouth          383  \n",
       "38492  Plymouth           70  \n",
       "47872  Plymouth           70  \n",
       "59690  Plymouth          383  \n",
       "59922  Plymouth          383  \n",
       "60665  Plymouth          291  \n",
       "61206  Plymouth           70  \n",
       "62187  Plymouth           70  "
      ]
     },
     "execution_count": 172,
     "metadata": {},
     "output_type": "execute_result"
    }
   ],
   "source": [
    "no_dup_deliveries[no_dup_deliveries['driver_id']==412933]"
   ]
  },
  {
   "cell_type": "code",
   "execution_count": 158,
   "metadata": {},
   "outputs": [
    {
     "data": {
      "text/html": [
       "<div>\n",
       "<style scoped>\n",
       "    .dataframe tbody tr th:only-of-type {\n",
       "        vertical-align: middle;\n",
       "    }\n",
       "\n",
       "    .dataframe tbody tr th {\n",
       "        vertical-align: top;\n",
       "    }\n",
       "\n",
       "    .dataframe thead th {\n",
       "        text-align: right;\n",
       "    }\n",
       "</style>\n",
       "<table border=\"1\" class=\"dataframe\">\n",
       "  <thead>\n",
       "    <tr style=\"text-align: right;\">\n",
       "      <th></th>\n",
       "      <th>driver_id</th>\n",
       "      <th>zone_name</th>\n",
       "      <th>zone_id_x</th>\n",
       "      <th>pu_ca</th>\n",
       "      <th>driver_postcode</th>\n",
       "      <th>driver_ca</th>\n",
       "      <th>no_packages_x</th>\n",
       "      <th>zone_id_y</th>\n",
       "      <th>no_packages_y</th>\n",
       "    </tr>\n",
       "  </thead>\n",
       "  <tbody>\n",
       "    <tr>\n",
       "      <th>0</th>\n",
       "      <td>373615</td>\n",
       "      <td>Darlington</td>\n",
       "      <td>13</td>\n",
       "      <td>Darlington</td>\n",
       "      <td>TS4 2RR</td>\n",
       "      <td>Teesside</td>\n",
       "      <td>166</td>\n",
       "      <td>13</td>\n",
       "      <td>166</td>\n",
       "    </tr>\n",
       "    <tr>\n",
       "      <th>1</th>\n",
       "      <td>431872</td>\n",
       "      <td>London</td>\n",
       "      <td>2</td>\n",
       "      <td>London Outer N</td>\n",
       "      <td>N18 2PP</td>\n",
       "      <td>London Outer N</td>\n",
       "      <td>3059</td>\n",
       "      <td>4</td>\n",
       "      <td>3083</td>\n",
       "    </tr>\n",
       "    <tr>\n",
       "      <th>2</th>\n",
       "      <td>431872</td>\n",
       "      <td>London</td>\n",
       "      <td>2</td>\n",
       "      <td>London Border N</td>\n",
       "      <td>N18 2PP</td>\n",
       "      <td>London Outer N</td>\n",
       "      <td>24</td>\n",
       "      <td>4</td>\n",
       "      <td>3083</td>\n",
       "    </tr>\n",
       "    <tr>\n",
       "      <th>3</th>\n",
       "      <td>457432</td>\n",
       "      <td>Birmingham</td>\n",
       "      <td>53</td>\n",
       "      <td>Wolverhampton</td>\n",
       "      <td>B20 3ND</td>\n",
       "      <td>Birmingham Central</td>\n",
       "      <td>522</td>\n",
       "      <td>106</td>\n",
       "      <td>553</td>\n",
       "    </tr>\n",
       "    <tr>\n",
       "      <th>4</th>\n",
       "      <td>457432</td>\n",
       "      <td>Birmingham</td>\n",
       "      <td>53</td>\n",
       "      <td>Walsall</td>\n",
       "      <td>B20 3ND</td>\n",
       "      <td>Birmingham Central</td>\n",
       "      <td>31</td>\n",
       "      <td>106</td>\n",
       "      <td>553</td>\n",
       "    </tr>\n",
       "    <tr>\n",
       "      <th>...</th>\n",
       "      <td>...</td>\n",
       "      <td>...</td>\n",
       "      <td>...</td>\n",
       "      <td>...</td>\n",
       "      <td>...</td>\n",
       "      <td>...</td>\n",
       "      <td>...</td>\n",
       "      <td>...</td>\n",
       "      <td>...</td>\n",
       "    </tr>\n",
       "    <tr>\n",
       "      <th>29896</th>\n",
       "      <td>430921</td>\n",
       "      <td>Blackpool</td>\n",
       "      <td>56</td>\n",
       "      <td>Blackpool South</td>\n",
       "      <td>FY4 4RW</td>\n",
       "      <td>Blackpool South</td>\n",
       "      <td>1</td>\n",
       "      <td>56</td>\n",
       "      <td>1</td>\n",
       "    </tr>\n",
       "    <tr>\n",
       "      <th>29897</th>\n",
       "      <td>424886</td>\n",
       "      <td>Sheffield</td>\n",
       "      <td>20</td>\n",
       "      <td>Rotherham</td>\n",
       "      <td>S60 3BW</td>\n",
       "      <td>Rotherham</td>\n",
       "      <td>1</td>\n",
       "      <td>20</td>\n",
       "      <td>1</td>\n",
       "    </tr>\n",
       "    <tr>\n",
       "      <th>29898</th>\n",
       "      <td>351333</td>\n",
       "      <td>London</td>\n",
       "      <td>2</td>\n",
       "      <td>London Inner S</td>\n",
       "      <td>SW18 1DE</td>\n",
       "      <td>London Inner S</td>\n",
       "      <td>1</td>\n",
       "      <td>2</td>\n",
       "      <td>1</td>\n",
       "    </tr>\n",
       "    <tr>\n",
       "      <th>29899</th>\n",
       "      <td>469101</td>\n",
       "      <td>Warrington</td>\n",
       "      <td>68</td>\n",
       "      <td>Warrington City</td>\n",
       "      <td>WA5 9PW</td>\n",
       "      <td>Warrington City</td>\n",
       "      <td>1</td>\n",
       "      <td>68</td>\n",
       "      <td>1</td>\n",
       "    </tr>\n",
       "    <tr>\n",
       "      <th>29900</th>\n",
       "      <td>484451</td>\n",
       "      <td>Sheffield</td>\n",
       "      <td>20</td>\n",
       "      <td>Sheffield</td>\n",
       "      <td>S65 1PD</td>\n",
       "      <td>Rotherham</td>\n",
       "      <td>1</td>\n",
       "      <td>20</td>\n",
       "      <td>1</td>\n",
       "    </tr>\n",
       "  </tbody>\n",
       "</table>\n",
       "<p>29901 rows × 9 columns</p>\n",
       "</div>"
      ],
      "text/plain": [
       "       driver_id   zone_name  zone_id_x            pu_ca driver_postcode  \\\n",
       "0         373615  Darlington         13       Darlington         TS4 2RR   \n",
       "1         431872      London          2   London Outer N         N18 2PP   \n",
       "2         431872      London          2  London Border N         N18 2PP   \n",
       "3         457432  Birmingham         53    Wolverhampton         B20 3ND   \n",
       "4         457432  Birmingham         53          Walsall         B20 3ND   \n",
       "...          ...         ...        ...              ...             ...   \n",
       "29896     430921   Blackpool         56  Blackpool South         FY4 4RW   \n",
       "29897     424886   Sheffield         20        Rotherham         S60 3BW   \n",
       "29898     351333      London          2   London Inner S        SW18 1DE   \n",
       "29899     469101  Warrington         68  Warrington City         WA5 9PW   \n",
       "29900     484451   Sheffield         20        Sheffield         S65 1PD   \n",
       "\n",
       "                driver_ca  no_packages_x  zone_id_y  no_packages_y  \n",
       "0                Teesside            166         13            166  \n",
       "1          London Outer N           3059          4           3083  \n",
       "2          London Outer N             24          4           3083  \n",
       "3      Birmingham Central            522        106            553  \n",
       "4      Birmingham Central             31        106            553  \n",
       "...                   ...            ...        ...            ...  \n",
       "29896     Blackpool South              1         56              1  \n",
       "29897           Rotherham              1         20              1  \n",
       "29898      London Inner S              1          2              1  \n",
       "29899     Warrington City              1         68              1  \n",
       "29900           Rotherham              1         20              1  \n",
       "\n",
       "[29901 rows x 9 columns]"
      ]
     },
     "execution_count": 158,
     "metadata": {},
     "output_type": "execute_result"
    }
   ],
   "source": [
    "# New column: total number of packages each driver did\n",
    "new_df = no_dup_deliveries.groupby(['driver_id', 'driver_ca']).sum('no_packages').reset_index()\n",
    "\n",
    "# Merging two datasets\n",
    "mapped = pd.merge(no_dup_deliveries, new_df, left_on = ['driver_id','driver_ca']\n",
    "                  , right_on = ['driver_id','driver_ca'])\n",
    "mapped"
   ]
  },
  {
   "cell_type": "code",
   "execution_count": 159,
   "metadata": {},
   "outputs": [
    {
     "data": {
      "text/plain": [
       "12333"
      ]
     },
     "execution_count": 159,
     "metadata": {},
     "output_type": "execute_result"
    }
   ],
   "source": [
    "mapped['driver_id'].nunique()"
   ]
  },
  {
   "cell_type": "code",
   "execution_count": 160,
   "metadata": {},
   "outputs": [
    {
     "data": {
      "text/html": [
       "<div>\n",
       "<style scoped>\n",
       "    .dataframe tbody tr th:only-of-type {\n",
       "        vertical-align: middle;\n",
       "    }\n",
       "\n",
       "    .dataframe tbody tr th {\n",
       "        vertical-align: top;\n",
       "    }\n",
       "\n",
       "    .dataframe thead th {\n",
       "        text-align: right;\n",
       "    }\n",
       "</style>\n",
       "<table border=\"1\" class=\"dataframe\">\n",
       "  <thead>\n",
       "    <tr style=\"text-align: right;\">\n",
       "      <th></th>\n",
       "      <th>driver_id</th>\n",
       "      <th>zone_name_of_driver_pu_ca</th>\n",
       "      <th>zone_id_x</th>\n",
       "      <th>pu_ca</th>\n",
       "      <th>driver_postcode</th>\n",
       "      <th>driver_ca</th>\n",
       "      <th>nb_packages_per_CA</th>\n",
       "      <th>zone_id_y</th>\n",
       "      <th>total_nb_packages</th>\n",
       "    </tr>\n",
       "  </thead>\n",
       "  <tbody>\n",
       "    <tr>\n",
       "      <th>0</th>\n",
       "      <td>373615</td>\n",
       "      <td>Darlington</td>\n",
       "      <td>13</td>\n",
       "      <td>Darlington</td>\n",
       "      <td>TS4 2RR</td>\n",
       "      <td>Teesside</td>\n",
       "      <td>166</td>\n",
       "      <td>13</td>\n",
       "      <td>166</td>\n",
       "    </tr>\n",
       "    <tr>\n",
       "      <th>1</th>\n",
       "      <td>431872</td>\n",
       "      <td>London</td>\n",
       "      <td>2</td>\n",
       "      <td>London Outer N</td>\n",
       "      <td>N18 2PP</td>\n",
       "      <td>London Outer N</td>\n",
       "      <td>3059</td>\n",
       "      <td>4</td>\n",
       "      <td>3083</td>\n",
       "    </tr>\n",
       "    <tr>\n",
       "      <th>2</th>\n",
       "      <td>431872</td>\n",
       "      <td>London</td>\n",
       "      <td>2</td>\n",
       "      <td>London Border N</td>\n",
       "      <td>N18 2PP</td>\n",
       "      <td>London Outer N</td>\n",
       "      <td>24</td>\n",
       "      <td>4</td>\n",
       "      <td>3083</td>\n",
       "    </tr>\n",
       "    <tr>\n",
       "      <th>3</th>\n",
       "      <td>457432</td>\n",
       "      <td>Birmingham</td>\n",
       "      <td>53</td>\n",
       "      <td>Wolverhampton</td>\n",
       "      <td>B20 3ND</td>\n",
       "      <td>Birmingham Central</td>\n",
       "      <td>522</td>\n",
       "      <td>106</td>\n",
       "      <td>553</td>\n",
       "    </tr>\n",
       "    <tr>\n",
       "      <th>4</th>\n",
       "      <td>457432</td>\n",
       "      <td>Birmingham</td>\n",
       "      <td>53</td>\n",
       "      <td>Walsall</td>\n",
       "      <td>B20 3ND</td>\n",
       "      <td>Birmingham Central</td>\n",
       "      <td>31</td>\n",
       "      <td>106</td>\n",
       "      <td>553</td>\n",
       "    </tr>\n",
       "    <tr>\n",
       "      <th>...</th>\n",
       "      <td>...</td>\n",
       "      <td>...</td>\n",
       "      <td>...</td>\n",
       "      <td>...</td>\n",
       "      <td>...</td>\n",
       "      <td>...</td>\n",
       "      <td>...</td>\n",
       "      <td>...</td>\n",
       "      <td>...</td>\n",
       "    </tr>\n",
       "    <tr>\n",
       "      <th>29896</th>\n",
       "      <td>430921</td>\n",
       "      <td>Blackpool</td>\n",
       "      <td>56</td>\n",
       "      <td>Blackpool South</td>\n",
       "      <td>FY4 4RW</td>\n",
       "      <td>Blackpool South</td>\n",
       "      <td>1</td>\n",
       "      <td>56</td>\n",
       "      <td>1</td>\n",
       "    </tr>\n",
       "    <tr>\n",
       "      <th>29897</th>\n",
       "      <td>424886</td>\n",
       "      <td>Sheffield</td>\n",
       "      <td>20</td>\n",
       "      <td>Rotherham</td>\n",
       "      <td>S60 3BW</td>\n",
       "      <td>Rotherham</td>\n",
       "      <td>1</td>\n",
       "      <td>20</td>\n",
       "      <td>1</td>\n",
       "    </tr>\n",
       "    <tr>\n",
       "      <th>29898</th>\n",
       "      <td>351333</td>\n",
       "      <td>London</td>\n",
       "      <td>2</td>\n",
       "      <td>London Inner S</td>\n",
       "      <td>SW18 1DE</td>\n",
       "      <td>London Inner S</td>\n",
       "      <td>1</td>\n",
       "      <td>2</td>\n",
       "      <td>1</td>\n",
       "    </tr>\n",
       "    <tr>\n",
       "      <th>29899</th>\n",
       "      <td>469101</td>\n",
       "      <td>Warrington</td>\n",
       "      <td>68</td>\n",
       "      <td>Warrington City</td>\n",
       "      <td>WA5 9PW</td>\n",
       "      <td>Warrington City</td>\n",
       "      <td>1</td>\n",
       "      <td>68</td>\n",
       "      <td>1</td>\n",
       "    </tr>\n",
       "    <tr>\n",
       "      <th>29900</th>\n",
       "      <td>484451</td>\n",
       "      <td>Sheffield</td>\n",
       "      <td>20</td>\n",
       "      <td>Sheffield</td>\n",
       "      <td>S65 1PD</td>\n",
       "      <td>Rotherham</td>\n",
       "      <td>1</td>\n",
       "      <td>20</td>\n",
       "      <td>1</td>\n",
       "    </tr>\n",
       "  </tbody>\n",
       "</table>\n",
       "<p>29901 rows × 9 columns</p>\n",
       "</div>"
      ],
      "text/plain": [
       "       driver_id zone_name_of_driver_pu_ca  zone_id_x            pu_ca  \\\n",
       "0         373615                Darlington         13       Darlington   \n",
       "1         431872                    London          2   London Outer N   \n",
       "2         431872                    London          2  London Border N   \n",
       "3         457432                Birmingham         53    Wolverhampton   \n",
       "4         457432                Birmingham         53          Walsall   \n",
       "...          ...                       ...        ...              ...   \n",
       "29896     430921                 Blackpool         56  Blackpool South   \n",
       "29897     424886                 Sheffield         20        Rotherham   \n",
       "29898     351333                    London          2   London Inner S   \n",
       "29899     469101                Warrington         68  Warrington City   \n",
       "29900     484451                 Sheffield         20        Sheffield   \n",
       "\n",
       "      driver_postcode           driver_ca  nb_packages_per_CA  zone_id_y  \\\n",
       "0             TS4 2RR            Teesside                 166         13   \n",
       "1             N18 2PP      London Outer N                3059          4   \n",
       "2             N18 2PP      London Outer N                  24          4   \n",
       "3             B20 3ND  Birmingham Central                 522        106   \n",
       "4             B20 3ND  Birmingham Central                  31        106   \n",
       "...               ...                 ...                 ...        ...   \n",
       "29896         FY4 4RW     Blackpool South                   1         56   \n",
       "29897         S60 3BW           Rotherham                   1         20   \n",
       "29898        SW18 1DE      London Inner S                   1          2   \n",
       "29899         WA5 9PW     Warrington City                   1         68   \n",
       "29900         S65 1PD           Rotherham                   1         20   \n",
       "\n",
       "       total_nb_packages  \n",
       "0                    166  \n",
       "1                   3083  \n",
       "2                   3083  \n",
       "3                    553  \n",
       "4                    553  \n",
       "...                  ...  \n",
       "29896                  1  \n",
       "29897                  1  \n",
       "29898                  1  \n",
       "29899                  1  \n",
       "29900                  1  \n",
       "\n",
       "[29901 rows x 9 columns]"
      ]
     },
     "execution_count": 160,
     "metadata": {},
     "output_type": "execute_result"
    }
   ],
   "source": [
    "# Renaming columns\n",
    "mapped = mapped.rename(columns = {'no_packages_x' : 'nb_packages_per_CA', 'no_packages_y' : 'total_nb_packages' , 'zone_name' : 'zone_name_of_driver_pu_ca'})\n",
    "mapped"
   ]
  },
  {
   "cell_type": "code",
   "execution_count": 161,
   "metadata": {},
   "outputs": [
    {
     "data": {
      "text/html": [
       "<div>\n",
       "<style scoped>\n",
       "    .dataframe tbody tr th:only-of-type {\n",
       "        vertical-align: middle;\n",
       "    }\n",
       "\n",
       "    .dataframe tbody tr th {\n",
       "        vertical-align: top;\n",
       "    }\n",
       "\n",
       "    .dataframe thead th {\n",
       "        text-align: right;\n",
       "    }\n",
       "</style>\n",
       "<table border=\"1\" class=\"dataframe\">\n",
       "  <thead>\n",
       "    <tr style=\"text-align: right;\">\n",
       "      <th></th>\n",
       "      <th>driver_id</th>\n",
       "      <th>driver_postcode</th>\n",
       "      <th>driver_ca</th>\n",
       "      <th>pu_ca</th>\n",
       "      <th>nb_packages_per_CA</th>\n",
       "      <th>total_nb_packages</th>\n",
       "      <th>zone_name_of_driver_pu_ca</th>\n",
       "    </tr>\n",
       "  </thead>\n",
       "  <tbody>\n",
       "    <tr>\n",
       "      <th>0</th>\n",
       "      <td>373615</td>\n",
       "      <td>TS4 2RR</td>\n",
       "      <td>Teesside</td>\n",
       "      <td>Darlington</td>\n",
       "      <td>166</td>\n",
       "      <td>166</td>\n",
       "      <td>Darlington</td>\n",
       "    </tr>\n",
       "    <tr>\n",
       "      <th>1</th>\n",
       "      <td>431872</td>\n",
       "      <td>N18 2PP</td>\n",
       "      <td>London Outer N</td>\n",
       "      <td>London Outer N</td>\n",
       "      <td>3059</td>\n",
       "      <td>3083</td>\n",
       "      <td>London</td>\n",
       "    </tr>\n",
       "    <tr>\n",
       "      <th>2</th>\n",
       "      <td>431872</td>\n",
       "      <td>N18 2PP</td>\n",
       "      <td>London Outer N</td>\n",
       "      <td>London Border N</td>\n",
       "      <td>24</td>\n",
       "      <td>3083</td>\n",
       "      <td>London</td>\n",
       "    </tr>\n",
       "    <tr>\n",
       "      <th>3</th>\n",
       "      <td>457432</td>\n",
       "      <td>B20 3ND</td>\n",
       "      <td>Birmingham Central</td>\n",
       "      <td>Wolverhampton</td>\n",
       "      <td>522</td>\n",
       "      <td>553</td>\n",
       "      <td>Birmingham</td>\n",
       "    </tr>\n",
       "    <tr>\n",
       "      <th>4</th>\n",
       "      <td>457432</td>\n",
       "      <td>B20 3ND</td>\n",
       "      <td>Birmingham Central</td>\n",
       "      <td>Walsall</td>\n",
       "      <td>31</td>\n",
       "      <td>553</td>\n",
       "      <td>Birmingham</td>\n",
       "    </tr>\n",
       "    <tr>\n",
       "      <th>...</th>\n",
       "      <td>...</td>\n",
       "      <td>...</td>\n",
       "      <td>...</td>\n",
       "      <td>...</td>\n",
       "      <td>...</td>\n",
       "      <td>...</td>\n",
       "      <td>...</td>\n",
       "    </tr>\n",
       "    <tr>\n",
       "      <th>29896</th>\n",
       "      <td>430921</td>\n",
       "      <td>FY4 4RW</td>\n",
       "      <td>Blackpool South</td>\n",
       "      <td>Blackpool South</td>\n",
       "      <td>1</td>\n",
       "      <td>1</td>\n",
       "      <td>Blackpool</td>\n",
       "    </tr>\n",
       "    <tr>\n",
       "      <th>29897</th>\n",
       "      <td>424886</td>\n",
       "      <td>S60 3BW</td>\n",
       "      <td>Rotherham</td>\n",
       "      <td>Rotherham</td>\n",
       "      <td>1</td>\n",
       "      <td>1</td>\n",
       "      <td>Sheffield</td>\n",
       "    </tr>\n",
       "    <tr>\n",
       "      <th>29898</th>\n",
       "      <td>351333</td>\n",
       "      <td>SW18 1DE</td>\n",
       "      <td>London Inner S</td>\n",
       "      <td>London Inner S</td>\n",
       "      <td>1</td>\n",
       "      <td>1</td>\n",
       "      <td>London</td>\n",
       "    </tr>\n",
       "    <tr>\n",
       "      <th>29899</th>\n",
       "      <td>469101</td>\n",
       "      <td>WA5 9PW</td>\n",
       "      <td>Warrington City</td>\n",
       "      <td>Warrington City</td>\n",
       "      <td>1</td>\n",
       "      <td>1</td>\n",
       "      <td>Warrington</td>\n",
       "    </tr>\n",
       "    <tr>\n",
       "      <th>29900</th>\n",
       "      <td>484451</td>\n",
       "      <td>S65 1PD</td>\n",
       "      <td>Rotherham</td>\n",
       "      <td>Sheffield</td>\n",
       "      <td>1</td>\n",
       "      <td>1</td>\n",
       "      <td>Sheffield</td>\n",
       "    </tr>\n",
       "  </tbody>\n",
       "</table>\n",
       "<p>29901 rows × 7 columns</p>\n",
       "</div>"
      ],
      "text/plain": [
       "       driver_id driver_postcode           driver_ca            pu_ca  \\\n",
       "0         373615         TS4 2RR            Teesside       Darlington   \n",
       "1         431872         N18 2PP      London Outer N   London Outer N   \n",
       "2         431872         N18 2PP      London Outer N  London Border N   \n",
       "3         457432         B20 3ND  Birmingham Central    Wolverhampton   \n",
       "4         457432         B20 3ND  Birmingham Central          Walsall   \n",
       "...          ...             ...                 ...              ...   \n",
       "29896     430921         FY4 4RW     Blackpool South  Blackpool South   \n",
       "29897     424886         S60 3BW           Rotherham        Rotherham   \n",
       "29898     351333        SW18 1DE      London Inner S   London Inner S   \n",
       "29899     469101         WA5 9PW     Warrington City  Warrington City   \n",
       "29900     484451         S65 1PD           Rotherham        Sheffield   \n",
       "\n",
       "       nb_packages_per_CA  total_nb_packages zone_name_of_driver_pu_ca  \n",
       "0                     166                166                Darlington  \n",
       "1                    3059               3083                    London  \n",
       "2                      24               3083                    London  \n",
       "3                     522                553                Birmingham  \n",
       "4                      31                553                Birmingham  \n",
       "...                   ...                ...                       ...  \n",
       "29896                   1                  1                 Blackpool  \n",
       "29897                   1                  1                 Sheffield  \n",
       "29898                   1                  1                    London  \n",
       "29899                   1                  1                Warrington  \n",
       "29900                   1                  1                 Sheffield  \n",
       "\n",
       "[29901 rows x 7 columns]"
      ]
     },
     "execution_count": 161,
     "metadata": {},
     "output_type": "execute_result"
    }
   ],
   "source": [
    "# Reordering columns for readability\n",
    "mapped = mapped[['driver_id', 'driver_postcode' , 'driver_ca' , 'pu_ca' , 'nb_packages_per_CA' , 'total_nb_packages' ,'zone_name_of_driver_pu_ca']].copy()\n",
    "mapped"
   ]
  },
  {
   "cell_type": "code",
   "execution_count": 59,
   "metadata": {},
   "outputs": [
    {
     "data": {
      "text/html": [
       "<div>\n",
       "<style scoped>\n",
       "    .dataframe tbody tr th:only-of-type {\n",
       "        vertical-align: middle;\n",
       "    }\n",
       "\n",
       "    .dataframe tbody tr th {\n",
       "        vertical-align: top;\n",
       "    }\n",
       "\n",
       "    .dataframe thead th {\n",
       "        text-align: right;\n",
       "    }\n",
       "</style>\n",
       "<table border=\"1\" class=\"dataframe\">\n",
       "  <thead>\n",
       "    <tr style=\"text-align: right;\">\n",
       "      <th></th>\n",
       "      <th>driver_id</th>\n",
       "      <th>driver_postcode</th>\n",
       "      <th>driver_ca</th>\n",
       "      <th>pu_ca</th>\n",
       "      <th>nb_packages_per_CA</th>\n",
       "      <th>total_nb_packages</th>\n",
       "      <th>zone_name_of_driver_pu_ca</th>\n",
       "    </tr>\n",
       "  </thead>\n",
       "  <tbody>\n",
       "    <tr>\n",
       "      <th>0</th>\n",
       "      <td>411141</td>\n",
       "      <td>TS1 4QD</td>\n",
       "      <td>Teesside</td>\n",
       "      <td>Teesside</td>\n",
       "      <td>2118</td>\n",
       "      <td>4236</td>\n",
       "      <td>Teesside</td>\n",
       "    </tr>\n",
       "    <tr>\n",
       "      <th>1</th>\n",
       "      <td>411141</td>\n",
       "      <td>TS1 4QD</td>\n",
       "      <td>Teesside</td>\n",
       "      <td>Teesside</td>\n",
       "      <td>2118</td>\n",
       "      <td>4236</td>\n",
       "      <td>Darlington</td>\n",
       "    </tr>\n",
       "    <tr>\n",
       "      <th>3</th>\n",
       "      <td>406002</td>\n",
       "      <td>EN5 2HX</td>\n",
       "      <td>London Outer N</td>\n",
       "      <td>London Outer N</td>\n",
       "      <td>560</td>\n",
       "      <td>1801</td>\n",
       "      <td>London</td>\n",
       "    </tr>\n",
       "    <tr>\n",
       "      <th>6</th>\n",
       "      <td>427982</td>\n",
       "      <td>WS10 8PP</td>\n",
       "      <td>Walsall</td>\n",
       "      <td>Walsall</td>\n",
       "      <td>59</td>\n",
       "      <td>1949</td>\n",
       "      <td>Birmingham</td>\n",
       "    </tr>\n",
       "    <tr>\n",
       "      <th>8</th>\n",
       "      <td>396888</td>\n",
       "      <td>PL7 4AT</td>\n",
       "      <td>Plymouth</td>\n",
       "      <td>Plymouth</td>\n",
       "      <td>1965</td>\n",
       "      <td>2199</td>\n",
       "      <td>Plymouth</td>\n",
       "    </tr>\n",
       "    <tr>\n",
       "      <th>...</th>\n",
       "      <td>...</td>\n",
       "      <td>...</td>\n",
       "      <td>...</td>\n",
       "      <td>...</td>\n",
       "      <td>...</td>\n",
       "      <td>...</td>\n",
       "      <td>...</td>\n",
       "    </tr>\n",
       "    <tr>\n",
       "      <th>29733</th>\n",
       "      <td>385633</td>\n",
       "      <td>S2 5JF</td>\n",
       "      <td>Sheffield</td>\n",
       "      <td>Sheffield</td>\n",
       "      <td>1</td>\n",
       "      <td>1</td>\n",
       "      <td>Sheffield</td>\n",
       "    </tr>\n",
       "    <tr>\n",
       "      <th>29735</th>\n",
       "      <td>475822</td>\n",
       "      <td>DE24 8SG</td>\n",
       "      <td>Derby</td>\n",
       "      <td>Derby</td>\n",
       "      <td>1</td>\n",
       "      <td>1</td>\n",
       "      <td>Derby</td>\n",
       "    </tr>\n",
       "    <tr>\n",
       "      <th>29736</th>\n",
       "      <td>477225</td>\n",
       "      <td>SW17 9ES</td>\n",
       "      <td>London Inner S</td>\n",
       "      <td>London Inner S</td>\n",
       "      <td>1</td>\n",
       "      <td>1</td>\n",
       "      <td>London</td>\n",
       "    </tr>\n",
       "    <tr>\n",
       "      <th>29737</th>\n",
       "      <td>448077</td>\n",
       "      <td>NE8 4XJ</td>\n",
       "      <td>Gateshead</td>\n",
       "      <td>Gateshead</td>\n",
       "      <td>1</td>\n",
       "      <td>1</td>\n",
       "      <td>Newcastle-Gateshead</td>\n",
       "    </tr>\n",
       "    <tr>\n",
       "      <th>29738</th>\n",
       "      <td>382897</td>\n",
       "      <td>IG1 1PT</td>\n",
       "      <td>London Border NE</td>\n",
       "      <td>London Border NE</td>\n",
       "      <td>1</td>\n",
       "      <td>1</td>\n",
       "      <td>London</td>\n",
       "    </tr>\n",
       "  </tbody>\n",
       "</table>\n",
       "<p>11202 rows × 7 columns</p>\n",
       "</div>"
      ],
      "text/plain": [
       "       driver_id driver_postcode         driver_ca             pu_ca  \\\n",
       "0         411141         TS1 4QD          Teesside          Teesside   \n",
       "1         411141         TS1 4QD          Teesside          Teesside   \n",
       "3         406002         EN5 2HX    London Outer N    London Outer N   \n",
       "6         427982        WS10 8PP           Walsall           Walsall   \n",
       "8         396888         PL7 4AT          Plymouth          Plymouth   \n",
       "...          ...             ...               ...               ...   \n",
       "29733     385633          S2 5JF         Sheffield         Sheffield   \n",
       "29735     475822        DE24 8SG             Derby             Derby   \n",
       "29736     477225        SW17 9ES    London Inner S    London Inner S   \n",
       "29737     448077         NE8 4XJ         Gateshead         Gateshead   \n",
       "29738     382897         IG1 1PT  London Border NE  London Border NE   \n",
       "\n",
       "       nb_packages_per_CA  total_nb_packages zone_name_of_driver_pu_ca  \n",
       "0                    2118               4236                  Teesside  \n",
       "1                    2118               4236                Darlington  \n",
       "3                     560               1801                    London  \n",
       "6                      59               1949                Birmingham  \n",
       "8                    1965               2199                  Plymouth  \n",
       "...                   ...                ...                       ...  \n",
       "29733                   1                  1                 Sheffield  \n",
       "29735                   1                  1                     Derby  \n",
       "29736                   1                  1                    London  \n",
       "29737                   1                  1       Newcastle-Gateshead  \n",
       "29738                   1                  1                    London  \n",
       "\n",
       "[11202 rows x 7 columns]"
      ]
     },
     "execution_count": 59,
     "metadata": {},
     "output_type": "execute_result"
    }
   ],
   "source": [
    "# Only deliveries that were in PU_CA\n",
    "mapped_filter = mapped[mapped['driver_ca']== mapped['pu_ca']].copy()\n",
    "mapped_filter"
   ]
  },
  {
   "cell_type": "code",
   "execution_count": 60,
   "metadata": {},
   "outputs": [
    {
     "data": {
      "text/html": [
       "<div>\n",
       "<style scoped>\n",
       "    .dataframe tbody tr th:only-of-type {\n",
       "        vertical-align: middle;\n",
       "    }\n",
       "\n",
       "    .dataframe tbody tr th {\n",
       "        vertical-align: top;\n",
       "    }\n",
       "\n",
       "    .dataframe thead th {\n",
       "        text-align: right;\n",
       "    }\n",
       "</style>\n",
       "<table border=\"1\" class=\"dataframe\">\n",
       "  <thead>\n",
       "    <tr style=\"text-align: right;\">\n",
       "      <th></th>\n",
       "      <th>driver_id</th>\n",
       "      <th>driver_postcode</th>\n",
       "      <th>driver_ca</th>\n",
       "      <th>pu_ca</th>\n",
       "      <th>nb_packages_per_CA</th>\n",
       "      <th>total_nb_packages</th>\n",
       "      <th>zone_name_of_driver_pu_ca</th>\n",
       "      <th>percentage_of_packages_in_Dca</th>\n",
       "    </tr>\n",
       "  </thead>\n",
       "  <tbody>\n",
       "    <tr>\n",
       "      <th>0</th>\n",
       "      <td>411141</td>\n",
       "      <td>TS1 4QD</td>\n",
       "      <td>Teesside</td>\n",
       "      <td>Teesside</td>\n",
       "      <td>2118</td>\n",
       "      <td>4236</td>\n",
       "      <td>Teesside</td>\n",
       "      <td>50.000000</td>\n",
       "    </tr>\n",
       "    <tr>\n",
       "      <th>1</th>\n",
       "      <td>411141</td>\n",
       "      <td>TS1 4QD</td>\n",
       "      <td>Teesside</td>\n",
       "      <td>Teesside</td>\n",
       "      <td>2118</td>\n",
       "      <td>4236</td>\n",
       "      <td>Darlington</td>\n",
       "      <td>50.000000</td>\n",
       "    </tr>\n",
       "    <tr>\n",
       "      <th>3</th>\n",
       "      <td>406002</td>\n",
       "      <td>EN5 2HX</td>\n",
       "      <td>London Outer N</td>\n",
       "      <td>London Outer N</td>\n",
       "      <td>560</td>\n",
       "      <td>1801</td>\n",
       "      <td>London</td>\n",
       "      <td>31.093837</td>\n",
       "    </tr>\n",
       "    <tr>\n",
       "      <th>6</th>\n",
       "      <td>427982</td>\n",
       "      <td>WS10 8PP</td>\n",
       "      <td>Walsall</td>\n",
       "      <td>Walsall</td>\n",
       "      <td>59</td>\n",
       "      <td>1949</td>\n",
       "      <td>Birmingham</td>\n",
       "      <td>3.027193</td>\n",
       "    </tr>\n",
       "    <tr>\n",
       "      <th>8</th>\n",
       "      <td>396888</td>\n",
       "      <td>PL7 4AT</td>\n",
       "      <td>Plymouth</td>\n",
       "      <td>Plymouth</td>\n",
       "      <td>1965</td>\n",
       "      <td>2199</td>\n",
       "      <td>Plymouth</td>\n",
       "      <td>89.358799</td>\n",
       "    </tr>\n",
       "    <tr>\n",
       "      <th>...</th>\n",
       "      <td>...</td>\n",
       "      <td>...</td>\n",
       "      <td>...</td>\n",
       "      <td>...</td>\n",
       "      <td>...</td>\n",
       "      <td>...</td>\n",
       "      <td>...</td>\n",
       "      <td>...</td>\n",
       "    </tr>\n",
       "    <tr>\n",
       "      <th>29733</th>\n",
       "      <td>385633</td>\n",
       "      <td>S2 5JF</td>\n",
       "      <td>Sheffield</td>\n",
       "      <td>Sheffield</td>\n",
       "      <td>1</td>\n",
       "      <td>1</td>\n",
       "      <td>Sheffield</td>\n",
       "      <td>100.000000</td>\n",
       "    </tr>\n",
       "    <tr>\n",
       "      <th>29735</th>\n",
       "      <td>475822</td>\n",
       "      <td>DE24 8SG</td>\n",
       "      <td>Derby</td>\n",
       "      <td>Derby</td>\n",
       "      <td>1</td>\n",
       "      <td>1</td>\n",
       "      <td>Derby</td>\n",
       "      <td>100.000000</td>\n",
       "    </tr>\n",
       "    <tr>\n",
       "      <th>29736</th>\n",
       "      <td>477225</td>\n",
       "      <td>SW17 9ES</td>\n",
       "      <td>London Inner S</td>\n",
       "      <td>London Inner S</td>\n",
       "      <td>1</td>\n",
       "      <td>1</td>\n",
       "      <td>London</td>\n",
       "      <td>100.000000</td>\n",
       "    </tr>\n",
       "    <tr>\n",
       "      <th>29737</th>\n",
       "      <td>448077</td>\n",
       "      <td>NE8 4XJ</td>\n",
       "      <td>Gateshead</td>\n",
       "      <td>Gateshead</td>\n",
       "      <td>1</td>\n",
       "      <td>1</td>\n",
       "      <td>Newcastle-Gateshead</td>\n",
       "      <td>100.000000</td>\n",
       "    </tr>\n",
       "    <tr>\n",
       "      <th>29738</th>\n",
       "      <td>382897</td>\n",
       "      <td>IG1 1PT</td>\n",
       "      <td>London Border NE</td>\n",
       "      <td>London Border NE</td>\n",
       "      <td>1</td>\n",
       "      <td>1</td>\n",
       "      <td>London</td>\n",
       "      <td>100.000000</td>\n",
       "    </tr>\n",
       "  </tbody>\n",
       "</table>\n",
       "<p>11202 rows × 8 columns</p>\n",
       "</div>"
      ],
      "text/plain": [
       "       driver_id driver_postcode         driver_ca             pu_ca  \\\n",
       "0         411141         TS1 4QD          Teesside          Teesside   \n",
       "1         411141         TS1 4QD          Teesside          Teesside   \n",
       "3         406002         EN5 2HX    London Outer N    London Outer N   \n",
       "6         427982        WS10 8PP           Walsall           Walsall   \n",
       "8         396888         PL7 4AT          Plymouth          Plymouth   \n",
       "...          ...             ...               ...               ...   \n",
       "29733     385633          S2 5JF         Sheffield         Sheffield   \n",
       "29735     475822        DE24 8SG             Derby             Derby   \n",
       "29736     477225        SW17 9ES    London Inner S    London Inner S   \n",
       "29737     448077         NE8 4XJ         Gateshead         Gateshead   \n",
       "29738     382897         IG1 1PT  London Border NE  London Border NE   \n",
       "\n",
       "       nb_packages_per_CA  total_nb_packages zone_name_of_driver_pu_ca  \\\n",
       "0                    2118               4236                  Teesside   \n",
       "1                    2118               4236                Darlington   \n",
       "3                     560               1801                    London   \n",
       "6                      59               1949                Birmingham   \n",
       "8                    1965               2199                  Plymouth   \n",
       "...                   ...                ...                       ...   \n",
       "29733                   1                  1                 Sheffield   \n",
       "29735                   1                  1                     Derby   \n",
       "29736                   1                  1                    London   \n",
       "29737                   1                  1       Newcastle-Gateshead   \n",
       "29738                   1                  1                    London   \n",
       "\n",
       "       percentage_of_packages_in_Dca  \n",
       "0                          50.000000  \n",
       "1                          50.000000  \n",
       "3                          31.093837  \n",
       "6                           3.027193  \n",
       "8                          89.358799  \n",
       "...                              ...  \n",
       "29733                     100.000000  \n",
       "29735                     100.000000  \n",
       "29736                     100.000000  \n",
       "29737                     100.000000  \n",
       "29738                     100.000000  \n",
       "\n",
       "[11202 rows x 8 columns]"
      ]
     },
     "execution_count": 60,
     "metadata": {},
     "output_type": "execute_result"
    }
   ],
   "source": [
    "# Percentage of delivered packages for each driver living in CA\n",
    "mapped_filter['percentage_of_packages_in_Dca'] = mapped_filter['nb_packages_per_CA'] / (mapped_filter['total_nb_packages']) * 100\n",
    "mapped_filter"
   ]
  },
  {
   "cell_type": "code",
   "execution_count": 61,
   "metadata": {
    "tags": []
   },
   "outputs": [
    {
     "data": {
      "text/html": [
       "<div>\n",
       "<style scoped>\n",
       "    .dataframe tbody tr th:only-of-type {\n",
       "        vertical-align: middle;\n",
       "    }\n",
       "\n",
       "    .dataframe tbody tr th {\n",
       "        vertical-align: top;\n",
       "    }\n",
       "\n",
       "    .dataframe thead th {\n",
       "        text-align: right;\n",
       "    }\n",
       "</style>\n",
       "<table border=\"1\" class=\"dataframe\">\n",
       "  <thead>\n",
       "    <tr style=\"text-align: right;\">\n",
       "      <th></th>\n",
       "      <th>driver_id</th>\n",
       "      <th>driver_postcode</th>\n",
       "      <th>driver_ca</th>\n",
       "      <th>pu_ca</th>\n",
       "      <th>nb_packages_per_CA</th>\n",
       "      <th>total_nb_packages</th>\n",
       "      <th>zone_name_of_driver_pu_ca</th>\n",
       "      <th>percentage_of_packages_in_Dca</th>\n",
       "      <th>mostly_worked_in_driver_ca</th>\n",
       "    </tr>\n",
       "  </thead>\n",
       "  <tbody>\n",
       "    <tr>\n",
       "      <th>0</th>\n",
       "      <td>411141</td>\n",
       "      <td>TS1 4QD</td>\n",
       "      <td>Teesside</td>\n",
       "      <td>Teesside</td>\n",
       "      <td>2118</td>\n",
       "      <td>4236</td>\n",
       "      <td>Teesside</td>\n",
       "      <td>50.000000</td>\n",
       "      <td>0</td>\n",
       "    </tr>\n",
       "    <tr>\n",
       "      <th>1</th>\n",
       "      <td>411141</td>\n",
       "      <td>TS1 4QD</td>\n",
       "      <td>Teesside</td>\n",
       "      <td>Teesside</td>\n",
       "      <td>2118</td>\n",
       "      <td>4236</td>\n",
       "      <td>Darlington</td>\n",
       "      <td>50.000000</td>\n",
       "      <td>0</td>\n",
       "    </tr>\n",
       "    <tr>\n",
       "      <th>3</th>\n",
       "      <td>406002</td>\n",
       "      <td>EN5 2HX</td>\n",
       "      <td>London Outer N</td>\n",
       "      <td>London Outer N</td>\n",
       "      <td>560</td>\n",
       "      <td>1801</td>\n",
       "      <td>London</td>\n",
       "      <td>31.093837</td>\n",
       "      <td>0</td>\n",
       "    </tr>\n",
       "    <tr>\n",
       "      <th>6</th>\n",
       "      <td>427982</td>\n",
       "      <td>WS10 8PP</td>\n",
       "      <td>Walsall</td>\n",
       "      <td>Walsall</td>\n",
       "      <td>59</td>\n",
       "      <td>1949</td>\n",
       "      <td>Birmingham</td>\n",
       "      <td>3.027193</td>\n",
       "      <td>0</td>\n",
       "    </tr>\n",
       "    <tr>\n",
       "      <th>8</th>\n",
       "      <td>396888</td>\n",
       "      <td>PL7 4AT</td>\n",
       "      <td>Plymouth</td>\n",
       "      <td>Plymouth</td>\n",
       "      <td>1965</td>\n",
       "      <td>2199</td>\n",
       "      <td>Plymouth</td>\n",
       "      <td>89.358799</td>\n",
       "      <td>1</td>\n",
       "    </tr>\n",
       "    <tr>\n",
       "      <th>...</th>\n",
       "      <td>...</td>\n",
       "      <td>...</td>\n",
       "      <td>...</td>\n",
       "      <td>...</td>\n",
       "      <td>...</td>\n",
       "      <td>...</td>\n",
       "      <td>...</td>\n",
       "      <td>...</td>\n",
       "      <td>...</td>\n",
       "    </tr>\n",
       "    <tr>\n",
       "      <th>29733</th>\n",
       "      <td>385633</td>\n",
       "      <td>S2 5JF</td>\n",
       "      <td>Sheffield</td>\n",
       "      <td>Sheffield</td>\n",
       "      <td>1</td>\n",
       "      <td>1</td>\n",
       "      <td>Sheffield</td>\n",
       "      <td>100.000000</td>\n",
       "      <td>1</td>\n",
       "    </tr>\n",
       "    <tr>\n",
       "      <th>29735</th>\n",
       "      <td>475822</td>\n",
       "      <td>DE24 8SG</td>\n",
       "      <td>Derby</td>\n",
       "      <td>Derby</td>\n",
       "      <td>1</td>\n",
       "      <td>1</td>\n",
       "      <td>Derby</td>\n",
       "      <td>100.000000</td>\n",
       "      <td>1</td>\n",
       "    </tr>\n",
       "    <tr>\n",
       "      <th>29736</th>\n",
       "      <td>477225</td>\n",
       "      <td>SW17 9ES</td>\n",
       "      <td>London Inner S</td>\n",
       "      <td>London Inner S</td>\n",
       "      <td>1</td>\n",
       "      <td>1</td>\n",
       "      <td>London</td>\n",
       "      <td>100.000000</td>\n",
       "      <td>1</td>\n",
       "    </tr>\n",
       "    <tr>\n",
       "      <th>29737</th>\n",
       "      <td>448077</td>\n",
       "      <td>NE8 4XJ</td>\n",
       "      <td>Gateshead</td>\n",
       "      <td>Gateshead</td>\n",
       "      <td>1</td>\n",
       "      <td>1</td>\n",
       "      <td>Newcastle-Gateshead</td>\n",
       "      <td>100.000000</td>\n",
       "      <td>1</td>\n",
       "    </tr>\n",
       "    <tr>\n",
       "      <th>29738</th>\n",
       "      <td>382897</td>\n",
       "      <td>IG1 1PT</td>\n",
       "      <td>London Border NE</td>\n",
       "      <td>London Border NE</td>\n",
       "      <td>1</td>\n",
       "      <td>1</td>\n",
       "      <td>London</td>\n",
       "      <td>100.000000</td>\n",
       "      <td>1</td>\n",
       "    </tr>\n",
       "  </tbody>\n",
       "</table>\n",
       "<p>11202 rows × 9 columns</p>\n",
       "</div>"
      ],
      "text/plain": [
       "       driver_id driver_postcode         driver_ca             pu_ca  \\\n",
       "0         411141         TS1 4QD          Teesside          Teesside   \n",
       "1         411141         TS1 4QD          Teesside          Teesside   \n",
       "3         406002         EN5 2HX    London Outer N    London Outer N   \n",
       "6         427982        WS10 8PP           Walsall           Walsall   \n",
       "8         396888         PL7 4AT          Plymouth          Plymouth   \n",
       "...          ...             ...               ...               ...   \n",
       "29733     385633          S2 5JF         Sheffield         Sheffield   \n",
       "29735     475822        DE24 8SG             Derby             Derby   \n",
       "29736     477225        SW17 9ES    London Inner S    London Inner S   \n",
       "29737     448077         NE8 4XJ         Gateshead         Gateshead   \n",
       "29738     382897         IG1 1PT  London Border NE  London Border NE   \n",
       "\n",
       "       nb_packages_per_CA  total_nb_packages zone_name_of_driver_pu_ca  \\\n",
       "0                    2118               4236                  Teesside   \n",
       "1                    2118               4236                Darlington   \n",
       "3                     560               1801                    London   \n",
       "6                      59               1949                Birmingham   \n",
       "8                    1965               2199                  Plymouth   \n",
       "...                   ...                ...                       ...   \n",
       "29733                   1                  1                 Sheffield   \n",
       "29735                   1                  1                     Derby   \n",
       "29736                   1                  1                    London   \n",
       "29737                   1                  1       Newcastle-Gateshead   \n",
       "29738                   1                  1                    London   \n",
       "\n",
       "       percentage_of_packages_in_Dca  mostly_worked_in_driver_ca  \n",
       "0                          50.000000                           0  \n",
       "1                          50.000000                           0  \n",
       "3                          31.093837                           0  \n",
       "6                           3.027193                           0  \n",
       "8                          89.358799                           1  \n",
       "...                              ...                         ...  \n",
       "29733                     100.000000                           1  \n",
       "29735                     100.000000                           1  \n",
       "29736                     100.000000                           1  \n",
       "29737                     100.000000                           1  \n",
       "29738                     100.000000                           1  \n",
       "\n",
       "[11202 rows x 9 columns]"
      ]
     },
     "execution_count": 61,
     "metadata": {},
     "output_type": "execute_result"
    }
   ],
   "source": [
    "# Considering mostly_worked_in_ca when percentage of packages in driver CA is over 50\n",
    "mapped_filter['mostly_worked_in_driver_ca'] = np.where(mapped_filter['percentage_of_packages_in_Dca'] > 50, 1, 0)\n",
    "mapped_filter"
   ]
  },
  {
   "cell_type": "code",
   "execution_count": 62,
   "metadata": {},
   "outputs": [
    {
     "data": {
      "text/html": [
       "<div>\n",
       "<style scoped>\n",
       "    .dataframe tbody tr th:only-of-type {\n",
       "        vertical-align: middle;\n",
       "    }\n",
       "\n",
       "    .dataframe tbody tr th {\n",
       "        vertical-align: top;\n",
       "    }\n",
       "\n",
       "    .dataframe thead th {\n",
       "        text-align: right;\n",
       "    }\n",
       "</style>\n",
       "<table border=\"1\" class=\"dataframe\">\n",
       "  <thead>\n",
       "    <tr style=\"text-align: right;\">\n",
       "      <th></th>\n",
       "      <th>driver_id</th>\n",
       "      <th>nb_packages_per_CA</th>\n",
       "      <th>total_nb_packages</th>\n",
       "      <th>percentage_of_packages_in_Dca</th>\n",
       "      <th>mostly_worked_in_driver_ca</th>\n",
       "    </tr>\n",
       "  </thead>\n",
       "  <tbody>\n",
       "    <tr>\n",
       "      <th>count</th>\n",
       "      <td>11202.000000</td>\n",
       "      <td>11202.000000</td>\n",
       "      <td>11202.000000</td>\n",
       "      <td>11202.000000</td>\n",
       "      <td>11202.000000</td>\n",
       "    </tr>\n",
       "    <tr>\n",
       "      <th>mean</th>\n",
       "      <td>425501.003839</td>\n",
       "      <td>417.496786</td>\n",
       "      <td>588.011516</td>\n",
       "      <td>78.245336</td>\n",
       "      <td>0.778611</td>\n",
       "    </tr>\n",
       "    <tr>\n",
       "      <th>std</th>\n",
       "      <td>39393.993843</td>\n",
       "      <td>632.339925</td>\n",
       "      <td>796.620078</td>\n",
       "      <td>32.987224</td>\n",
       "      <td>0.415200</td>\n",
       "    </tr>\n",
       "    <tr>\n",
       "      <th>min</th>\n",
       "      <td>339370.000000</td>\n",
       "      <td>1.000000</td>\n",
       "      <td>1.000000</td>\n",
       "      <td>0.026455</td>\n",
       "      <td>0.000000</td>\n",
       "    </tr>\n",
       "    <tr>\n",
       "      <th>25%</th>\n",
       "      <td>398282.750000</td>\n",
       "      <td>22.000000</td>\n",
       "      <td>49.000000</td>\n",
       "      <td>63.922343</td>\n",
       "      <td>1.000000</td>\n",
       "    </tr>\n",
       "    <tr>\n",
       "      <th>50%</th>\n",
       "      <td>425533.500000</td>\n",
       "      <td>131.000000</td>\n",
       "      <td>246.000000</td>\n",
       "      <td>98.164372</td>\n",
       "      <td>1.000000</td>\n",
       "    </tr>\n",
       "    <tr>\n",
       "      <th>75%</th>\n",
       "      <td>462328.750000</td>\n",
       "      <td>537.000000</td>\n",
       "      <td>847.000000</td>\n",
       "      <td>100.000000</td>\n",
       "      <td>1.000000</td>\n",
       "    </tr>\n",
       "    <tr>\n",
       "      <th>max</th>\n",
       "      <td>490791.000000</td>\n",
       "      <td>5532.000000</td>\n",
       "      <td>8480.000000</td>\n",
       "      <td>100.000000</td>\n",
       "      <td>1.000000</td>\n",
       "    </tr>\n",
       "  </tbody>\n",
       "</table>\n",
       "</div>"
      ],
      "text/plain": [
       "           driver_id  nb_packages_per_CA  total_nb_packages  \\\n",
       "count   11202.000000        11202.000000       11202.000000   \n",
       "mean   425501.003839          417.496786         588.011516   \n",
       "std     39393.993843          632.339925         796.620078   \n",
       "min    339370.000000            1.000000           1.000000   \n",
       "25%    398282.750000           22.000000          49.000000   \n",
       "50%    425533.500000          131.000000         246.000000   \n",
       "75%    462328.750000          537.000000         847.000000   \n",
       "max    490791.000000         5532.000000        8480.000000   \n",
       "\n",
       "       percentage_of_packages_in_Dca  mostly_worked_in_driver_ca  \n",
       "count                   11202.000000                11202.000000  \n",
       "mean                       78.245336                    0.778611  \n",
       "std                        32.987224                    0.415200  \n",
       "min                         0.026455                    0.000000  \n",
       "25%                        63.922343                    1.000000  \n",
       "50%                        98.164372                    1.000000  \n",
       "75%                       100.000000                    1.000000  \n",
       "max                       100.000000                    1.000000  "
      ]
     },
     "execution_count": 62,
     "metadata": {},
     "output_type": "execute_result"
    }
   ],
   "source": [
    "mapped_filter.describe()\n",
    "# 85% of drivers who live in CA mostly do deliveries in their CA"
   ]
  },
  {
   "cell_type": "code",
   "execution_count": null,
   "metadata": {},
   "outputs": [],
   "source": [
    "# Metric 2: Create a column: mostly_worked_in_ca by choosing the CA where a courier did his most deliveries in. \n",
    "# Then compare if this CA is the same as driver ca as 1 or 0. \n",
    "# Then calculate the % of 1s \n"
   ]
  },
  {
   "cell_type": "markdown",
   "metadata": {},
   "source": [
    "# Most Deliveries Metric"
   ]
  },
  {
   "cell_type": "code",
   "execution_count": 114,
   "metadata": {},
   "outputs": [
    {
     "data": {
      "text/html": [
       "<div>\n",
       "<style scoped>\n",
       "    .dataframe tbody tr th:only-of-type {\n",
       "        vertical-align: middle;\n",
       "    }\n",
       "\n",
       "    .dataframe tbody tr th {\n",
       "        vertical-align: top;\n",
       "    }\n",
       "\n",
       "    .dataframe thead th {\n",
       "        text-align: right;\n",
       "    }\n",
       "</style>\n",
       "<table border=\"1\" class=\"dataframe\">\n",
       "  <thead>\n",
       "    <tr style=\"text-align: right;\">\n",
       "      <th></th>\n",
       "      <th>driver_id</th>\n",
       "      <th>driver_postcode</th>\n",
       "      <th>driver_ca</th>\n",
       "      <th>pu_ca</th>\n",
       "      <th>nb_packages_per_CA</th>\n",
       "      <th>total_nb_packages</th>\n",
       "      <th>zone_name_of_driver_pu_ca</th>\n",
       "    </tr>\n",
       "  </thead>\n",
       "  <tbody>\n",
       "    <tr>\n",
       "      <th>0</th>\n",
       "      <td>411141</td>\n",
       "      <td>TS1 4QD</td>\n",
       "      <td>Teesside</td>\n",
       "      <td>Teesside</td>\n",
       "      <td>2118</td>\n",
       "      <td>4236</td>\n",
       "      <td>Teesside</td>\n",
       "    </tr>\n",
       "    <tr>\n",
       "      <th>1</th>\n",
       "      <td>411141</td>\n",
       "      <td>TS1 4QD</td>\n",
       "      <td>Teesside</td>\n",
       "      <td>Teesside</td>\n",
       "      <td>2118</td>\n",
       "      <td>4236</td>\n",
       "      <td>Darlington</td>\n",
       "    </tr>\n",
       "    <tr>\n",
       "      <th>2</th>\n",
       "      <td>406002</td>\n",
       "      <td>EN5 2HX</td>\n",
       "      <td>London Outer N</td>\n",
       "      <td>London Border N</td>\n",
       "      <td>1240</td>\n",
       "      <td>1801</td>\n",
       "      <td>London</td>\n",
       "    </tr>\n",
       "    <tr>\n",
       "      <th>3</th>\n",
       "      <td>406002</td>\n",
       "      <td>EN5 2HX</td>\n",
       "      <td>London Outer N</td>\n",
       "      <td>London Outer N</td>\n",
       "      <td>560</td>\n",
       "      <td>1801</td>\n",
       "      <td>London</td>\n",
       "    </tr>\n",
       "    <tr>\n",
       "      <th>4</th>\n",
       "      <td>406002</td>\n",
       "      <td>EN5 2HX</td>\n",
       "      <td>London Outer N</td>\n",
       "      <td>None</td>\n",
       "      <td>1</td>\n",
       "      <td>1801</td>\n",
       "      <td>London</td>\n",
       "    </tr>\n",
       "    <tr>\n",
       "      <th>...</th>\n",
       "      <td>...</td>\n",
       "      <td>...</td>\n",
       "      <td>...</td>\n",
       "      <td>...</td>\n",
       "      <td>...</td>\n",
       "      <td>...</td>\n",
       "      <td>...</td>\n",
       "    </tr>\n",
       "    <tr>\n",
       "      <th>29734</th>\n",
       "      <td>484451</td>\n",
       "      <td>S65 1PD</td>\n",
       "      <td>Rotherham</td>\n",
       "      <td>Sheffield</td>\n",
       "      <td>1</td>\n",
       "      <td>1</td>\n",
       "      <td>Sheffield</td>\n",
       "    </tr>\n",
       "    <tr>\n",
       "      <th>29735</th>\n",
       "      <td>475822</td>\n",
       "      <td>DE24 8SG</td>\n",
       "      <td>Derby</td>\n",
       "      <td>Derby</td>\n",
       "      <td>1</td>\n",
       "      <td>1</td>\n",
       "      <td>Derby</td>\n",
       "    </tr>\n",
       "    <tr>\n",
       "      <th>29736</th>\n",
       "      <td>477225</td>\n",
       "      <td>SW17 9ES</td>\n",
       "      <td>London Inner S</td>\n",
       "      <td>London Inner S</td>\n",
       "      <td>1</td>\n",
       "      <td>1</td>\n",
       "      <td>London</td>\n",
       "    </tr>\n",
       "    <tr>\n",
       "      <th>29737</th>\n",
       "      <td>448077</td>\n",
       "      <td>NE8 4XJ</td>\n",
       "      <td>Gateshead</td>\n",
       "      <td>Gateshead</td>\n",
       "      <td>1</td>\n",
       "      <td>1</td>\n",
       "      <td>Newcastle-Gateshead</td>\n",
       "    </tr>\n",
       "    <tr>\n",
       "      <th>29738</th>\n",
       "      <td>382897</td>\n",
       "      <td>IG1 1PT</td>\n",
       "      <td>London Border NE</td>\n",
       "      <td>London Border NE</td>\n",
       "      <td>1</td>\n",
       "      <td>1</td>\n",
       "      <td>London</td>\n",
       "    </tr>\n",
       "  </tbody>\n",
       "</table>\n",
       "<p>29739 rows × 7 columns</p>\n",
       "</div>"
      ],
      "text/plain": [
       "       driver_id driver_postcode         driver_ca             pu_ca  \\\n",
       "0         411141         TS1 4QD          Teesside          Teesside   \n",
       "1         411141         TS1 4QD          Teesside          Teesside   \n",
       "2         406002         EN5 2HX    London Outer N   London Border N   \n",
       "3         406002         EN5 2HX    London Outer N    London Outer N   \n",
       "4         406002         EN5 2HX    London Outer N              None   \n",
       "...          ...             ...               ...               ...   \n",
       "29734     484451         S65 1PD         Rotherham         Sheffield   \n",
       "29735     475822        DE24 8SG             Derby             Derby   \n",
       "29736     477225        SW17 9ES    London Inner S    London Inner S   \n",
       "29737     448077         NE8 4XJ         Gateshead         Gateshead   \n",
       "29738     382897         IG1 1PT  London Border NE  London Border NE   \n",
       "\n",
       "       nb_packages_per_CA  total_nb_packages zone_name_of_driver_pu_ca  \n",
       "0                    2118               4236                  Teesside  \n",
       "1                    2118               4236                Darlington  \n",
       "2                    1240               1801                    London  \n",
       "3                     560               1801                    London  \n",
       "4                       1               1801                    London  \n",
       "...                   ...                ...                       ...  \n",
       "29734                   1                  1                 Sheffield  \n",
       "29735                   1                  1                     Derby  \n",
       "29736                   1                  1                    London  \n",
       "29737                   1                  1       Newcastle-Gateshead  \n",
       "29738                   1                  1                    London  \n",
       "\n",
       "[29739 rows x 7 columns]"
      ]
     },
     "execution_count": 114,
     "metadata": {},
     "output_type": "execute_result"
    }
   ],
   "source": [
    "mapped"
   ]
  },
  {
   "cell_type": "code",
   "execution_count": 119,
   "metadata": {},
   "outputs": [
    {
     "data": {
      "text/html": [
       "<div>\n",
       "<style scoped>\n",
       "    .dataframe tbody tr th:only-of-type {\n",
       "        vertical-align: middle;\n",
       "    }\n",
       "\n",
       "    .dataframe tbody tr th {\n",
       "        vertical-align: top;\n",
       "    }\n",
       "\n",
       "    .dataframe thead th {\n",
       "        text-align: right;\n",
       "    }\n",
       "</style>\n",
       "<table border=\"1\" class=\"dataframe\">\n",
       "  <thead>\n",
       "    <tr style=\"text-align: right;\">\n",
       "      <th></th>\n",
       "      <th>driver_id</th>\n",
       "      <th>driver_postcode</th>\n",
       "      <th>driver_ca</th>\n",
       "      <th>pu_ca</th>\n",
       "      <th>nb_packages_per_CA</th>\n",
       "      <th>total_nb_packages</th>\n",
       "      <th>zone_name_of_driver_pu_ca</th>\n",
       "    </tr>\n",
       "  </thead>\n",
       "  <tbody>\n",
       "    <tr>\n",
       "      <th>0</th>\n",
       "      <td>411141</td>\n",
       "      <td>TS1 4QD</td>\n",
       "      <td>Teesside</td>\n",
       "      <td>Teesside</td>\n",
       "      <td>2118</td>\n",
       "      <td>4236</td>\n",
       "      <td>Teesside</td>\n",
       "    </tr>\n",
       "    <tr>\n",
       "      <th>1</th>\n",
       "      <td>411141</td>\n",
       "      <td>TS1 4QD</td>\n",
       "      <td>Teesside</td>\n",
       "      <td>Teesside</td>\n",
       "      <td>2118</td>\n",
       "      <td>4236</td>\n",
       "      <td>Darlington</td>\n",
       "    </tr>\n",
       "    <tr>\n",
       "      <th>2</th>\n",
       "      <td>406002</td>\n",
       "      <td>EN5 2HX</td>\n",
       "      <td>London Outer N</td>\n",
       "      <td>London Border N</td>\n",
       "      <td>1240</td>\n",
       "      <td>1801</td>\n",
       "      <td>London</td>\n",
       "    </tr>\n",
       "    <tr>\n",
       "      <th>3</th>\n",
       "      <td>406002</td>\n",
       "      <td>EN5 2HX</td>\n",
       "      <td>London Outer N</td>\n",
       "      <td>London Outer N</td>\n",
       "      <td>560</td>\n",
       "      <td>1801</td>\n",
       "      <td>London</td>\n",
       "    </tr>\n",
       "    <tr>\n",
       "      <th>4</th>\n",
       "      <td>406002</td>\n",
       "      <td>EN5 2HX</td>\n",
       "      <td>London Outer N</td>\n",
       "      <td>None</td>\n",
       "      <td>1</td>\n",
       "      <td>1801</td>\n",
       "      <td>London</td>\n",
       "    </tr>\n",
       "    <tr>\n",
       "      <th>...</th>\n",
       "      <td>...</td>\n",
       "      <td>...</td>\n",
       "      <td>...</td>\n",
       "      <td>...</td>\n",
       "      <td>...</td>\n",
       "      <td>...</td>\n",
       "      <td>...</td>\n",
       "    </tr>\n",
       "    <tr>\n",
       "      <th>29734</th>\n",
       "      <td>484451</td>\n",
       "      <td>S65 1PD</td>\n",
       "      <td>Rotherham</td>\n",
       "      <td>Sheffield</td>\n",
       "      <td>1</td>\n",
       "      <td>1</td>\n",
       "      <td>Sheffield</td>\n",
       "    </tr>\n",
       "    <tr>\n",
       "      <th>29735</th>\n",
       "      <td>475822</td>\n",
       "      <td>DE24 8SG</td>\n",
       "      <td>Derby</td>\n",
       "      <td>Derby</td>\n",
       "      <td>1</td>\n",
       "      <td>1</td>\n",
       "      <td>Derby</td>\n",
       "    </tr>\n",
       "    <tr>\n",
       "      <th>29736</th>\n",
       "      <td>477225</td>\n",
       "      <td>SW17 9ES</td>\n",
       "      <td>London Inner S</td>\n",
       "      <td>London Inner S</td>\n",
       "      <td>1</td>\n",
       "      <td>1</td>\n",
       "      <td>London</td>\n",
       "    </tr>\n",
       "    <tr>\n",
       "      <th>29737</th>\n",
       "      <td>448077</td>\n",
       "      <td>NE8 4XJ</td>\n",
       "      <td>Gateshead</td>\n",
       "      <td>Gateshead</td>\n",
       "      <td>1</td>\n",
       "      <td>1</td>\n",
       "      <td>Newcastle-Gateshead</td>\n",
       "    </tr>\n",
       "    <tr>\n",
       "      <th>29738</th>\n",
       "      <td>382897</td>\n",
       "      <td>IG1 1PT</td>\n",
       "      <td>London Border NE</td>\n",
       "      <td>London Border NE</td>\n",
       "      <td>1</td>\n",
       "      <td>1</td>\n",
       "      <td>London</td>\n",
       "    </tr>\n",
       "  </tbody>\n",
       "</table>\n",
       "<p>29739 rows × 7 columns</p>\n",
       "</div>"
      ],
      "text/plain": [
       "       driver_id driver_postcode         driver_ca             pu_ca  \\\n",
       "0         411141         TS1 4QD          Teesside          Teesside   \n",
       "1         411141         TS1 4QD          Teesside          Teesside   \n",
       "2         406002         EN5 2HX    London Outer N   London Border N   \n",
       "3         406002         EN5 2HX    London Outer N    London Outer N   \n",
       "4         406002         EN5 2HX    London Outer N              None   \n",
       "...          ...             ...               ...               ...   \n",
       "29734     484451         S65 1PD         Rotherham         Sheffield   \n",
       "29735     475822        DE24 8SG             Derby             Derby   \n",
       "29736     477225        SW17 9ES    London Inner S    London Inner S   \n",
       "29737     448077         NE8 4XJ         Gateshead         Gateshead   \n",
       "29738     382897         IG1 1PT  London Border NE  London Border NE   \n",
       "\n",
       "       nb_packages_per_CA  total_nb_packages zone_name_of_driver_pu_ca  \n",
       "0                    2118               4236                  Teesside  \n",
       "1                    2118               4236                Darlington  \n",
       "2                    1240               1801                    London  \n",
       "3                     560               1801                    London  \n",
       "4                       1               1801                    London  \n",
       "...                   ...                ...                       ...  \n",
       "29734                   1                  1                 Sheffield  \n",
       "29735                   1                  1                     Derby  \n",
       "29736                   1                  1                    London  \n",
       "29737                   1                  1       Newcastle-Gateshead  \n",
       "29738                   1                  1                    London  \n",
       "\n",
       "[29739 rows x 7 columns]"
      ]
     },
     "execution_count": 119,
     "metadata": {},
     "output_type": "execute_result"
    }
   ],
   "source": [
    "# New df is the same as mapped\n",
    "new_metric = mapped.copy()\n",
    "new_metric"
   ]
  },
  {
   "cell_type": "code",
   "execution_count": 120,
   "metadata": {},
   "outputs": [
    {
     "data": {
      "text/html": [
       "<div>\n",
       "<style scoped>\n",
       "    .dataframe tbody tr th:only-of-type {\n",
       "        vertical-align: middle;\n",
       "    }\n",
       "\n",
       "    .dataframe tbody tr th {\n",
       "        vertical-align: top;\n",
       "    }\n",
       "\n",
       "    .dataframe thead th {\n",
       "        text-align: right;\n",
       "    }\n",
       "</style>\n",
       "<table border=\"1\" class=\"dataframe\">\n",
       "  <thead>\n",
       "    <tr style=\"text-align: right;\">\n",
       "      <th></th>\n",
       "      <th>driver_id</th>\n",
       "      <th>driver_postcode</th>\n",
       "      <th>driver_ca</th>\n",
       "      <th>pu_ca</th>\n",
       "      <th>nb_packages_per_CA</th>\n",
       "      <th>total_nb_packages</th>\n",
       "      <th>zone_name_of_driver_pu_ca</th>\n",
       "      <th>max_ca_deliveries</th>\n",
       "    </tr>\n",
       "  </thead>\n",
       "  <tbody>\n",
       "    <tr>\n",
       "      <th>0</th>\n",
       "      <td>411141</td>\n",
       "      <td>TS1 4QD</td>\n",
       "      <td>Teesside</td>\n",
       "      <td>Teesside</td>\n",
       "      <td>2118</td>\n",
       "      <td>4236</td>\n",
       "      <td>Teesside</td>\n",
       "      <td>2118</td>\n",
       "    </tr>\n",
       "    <tr>\n",
       "      <th>1</th>\n",
       "      <td>411141</td>\n",
       "      <td>TS1 4QD</td>\n",
       "      <td>Teesside</td>\n",
       "      <td>Teesside</td>\n",
       "      <td>2118</td>\n",
       "      <td>4236</td>\n",
       "      <td>Darlington</td>\n",
       "      <td>2118</td>\n",
       "    </tr>\n",
       "    <tr>\n",
       "      <th>2</th>\n",
       "      <td>406002</td>\n",
       "      <td>EN5 2HX</td>\n",
       "      <td>London Outer N</td>\n",
       "      <td>London Border N</td>\n",
       "      <td>1240</td>\n",
       "      <td>1801</td>\n",
       "      <td>London</td>\n",
       "      <td>1240</td>\n",
       "    </tr>\n",
       "    <tr>\n",
       "      <th>3</th>\n",
       "      <td>406002</td>\n",
       "      <td>EN5 2HX</td>\n",
       "      <td>London Outer N</td>\n",
       "      <td>London Outer N</td>\n",
       "      <td>560</td>\n",
       "      <td>1801</td>\n",
       "      <td>London</td>\n",
       "      <td>1240</td>\n",
       "    </tr>\n",
       "    <tr>\n",
       "      <th>4</th>\n",
       "      <td>406002</td>\n",
       "      <td>EN5 2HX</td>\n",
       "      <td>London Outer N</td>\n",
       "      <td>None</td>\n",
       "      <td>1</td>\n",
       "      <td>1801</td>\n",
       "      <td>London</td>\n",
       "      <td>1240</td>\n",
       "    </tr>\n",
       "    <tr>\n",
       "      <th>...</th>\n",
       "      <td>...</td>\n",
       "      <td>...</td>\n",
       "      <td>...</td>\n",
       "      <td>...</td>\n",
       "      <td>...</td>\n",
       "      <td>...</td>\n",
       "      <td>...</td>\n",
       "      <td>...</td>\n",
       "    </tr>\n",
       "    <tr>\n",
       "      <th>29734</th>\n",
       "      <td>484451</td>\n",
       "      <td>S65 1PD</td>\n",
       "      <td>Rotherham</td>\n",
       "      <td>Sheffield</td>\n",
       "      <td>1</td>\n",
       "      <td>1</td>\n",
       "      <td>Sheffield</td>\n",
       "      <td>1</td>\n",
       "    </tr>\n",
       "    <tr>\n",
       "      <th>29735</th>\n",
       "      <td>475822</td>\n",
       "      <td>DE24 8SG</td>\n",
       "      <td>Derby</td>\n",
       "      <td>Derby</td>\n",
       "      <td>1</td>\n",
       "      <td>1</td>\n",
       "      <td>Derby</td>\n",
       "      <td>1</td>\n",
       "    </tr>\n",
       "    <tr>\n",
       "      <th>29736</th>\n",
       "      <td>477225</td>\n",
       "      <td>SW17 9ES</td>\n",
       "      <td>London Inner S</td>\n",
       "      <td>London Inner S</td>\n",
       "      <td>1</td>\n",
       "      <td>1</td>\n",
       "      <td>London</td>\n",
       "      <td>1</td>\n",
       "    </tr>\n",
       "    <tr>\n",
       "      <th>29737</th>\n",
       "      <td>448077</td>\n",
       "      <td>NE8 4XJ</td>\n",
       "      <td>Gateshead</td>\n",
       "      <td>Gateshead</td>\n",
       "      <td>1</td>\n",
       "      <td>1</td>\n",
       "      <td>Newcastle-Gateshead</td>\n",
       "      <td>1</td>\n",
       "    </tr>\n",
       "    <tr>\n",
       "      <th>29738</th>\n",
       "      <td>382897</td>\n",
       "      <td>IG1 1PT</td>\n",
       "      <td>London Border NE</td>\n",
       "      <td>London Border NE</td>\n",
       "      <td>1</td>\n",
       "      <td>1</td>\n",
       "      <td>London</td>\n",
       "      <td>1</td>\n",
       "    </tr>\n",
       "  </tbody>\n",
       "</table>\n",
       "<p>29739 rows × 8 columns</p>\n",
       "</div>"
      ],
      "text/plain": [
       "       driver_id driver_postcode         driver_ca             pu_ca  \\\n",
       "0         411141         TS1 4QD          Teesside          Teesside   \n",
       "1         411141         TS1 4QD          Teesside          Teesside   \n",
       "2         406002         EN5 2HX    London Outer N   London Border N   \n",
       "3         406002         EN5 2HX    London Outer N    London Outer N   \n",
       "4         406002         EN5 2HX    London Outer N              None   \n",
       "...          ...             ...               ...               ...   \n",
       "29734     484451         S65 1PD         Rotherham         Sheffield   \n",
       "29735     475822        DE24 8SG             Derby             Derby   \n",
       "29736     477225        SW17 9ES    London Inner S    London Inner S   \n",
       "29737     448077         NE8 4XJ         Gateshead         Gateshead   \n",
       "29738     382897         IG1 1PT  London Border NE  London Border NE   \n",
       "\n",
       "       nb_packages_per_CA  total_nb_packages zone_name_of_driver_pu_ca  \\\n",
       "0                    2118               4236                  Teesside   \n",
       "1                    2118               4236                Darlington   \n",
       "2                    1240               1801                    London   \n",
       "3                     560               1801                    London   \n",
       "4                       1               1801                    London   \n",
       "...                   ...                ...                       ...   \n",
       "29734                   1                  1                 Sheffield   \n",
       "29735                   1                  1                     Derby   \n",
       "29736                   1                  1                    London   \n",
       "29737                   1                  1       Newcastle-Gateshead   \n",
       "29738                   1                  1                    London   \n",
       "\n",
       "       max_ca_deliveries  \n",
       "0                   2118  \n",
       "1                   2118  \n",
       "2                   1240  \n",
       "3                   1240  \n",
       "4                   1240  \n",
       "...                  ...  \n",
       "29734                  1  \n",
       "29735                  1  \n",
       "29736                  1  \n",
       "29737                  1  \n",
       "29738                  1  \n",
       "\n",
       "[29739 rows x 8 columns]"
      ]
     },
     "execution_count": 120,
     "metadata": {},
     "output_type": "execute_result"
    }
   ],
   "source": [
    "new_metric['max_ca_deliveries']= new_metric.groupby(['driver_id'])['nb_packages_per_CA'].transform(max)\n",
    "new_metric\n"
   ]
  },
  {
   "cell_type": "code",
   "execution_count": 121,
   "metadata": {},
   "outputs": [
    {
     "data": {
      "text/html": [
       "<div>\n",
       "<style scoped>\n",
       "    .dataframe tbody tr th:only-of-type {\n",
       "        vertical-align: middle;\n",
       "    }\n",
       "\n",
       "    .dataframe tbody tr th {\n",
       "        vertical-align: top;\n",
       "    }\n",
       "\n",
       "    .dataframe thead th {\n",
       "        text-align: right;\n",
       "    }\n",
       "</style>\n",
       "<table border=\"1\" class=\"dataframe\">\n",
       "  <thead>\n",
       "    <tr style=\"text-align: right;\">\n",
       "      <th></th>\n",
       "      <th>driver_id</th>\n",
       "      <th>driver_postcode</th>\n",
       "      <th>driver_ca</th>\n",
       "      <th>pu_ca</th>\n",
       "      <th>nb_packages_per_CA</th>\n",
       "      <th>total_nb_packages</th>\n",
       "      <th>zone_name_of_driver_pu_ca</th>\n",
       "      <th>max_ca_deliveries</th>\n",
       "    </tr>\n",
       "  </thead>\n",
       "  <tbody>\n",
       "    <tr>\n",
       "      <th>0</th>\n",
       "      <td>411141</td>\n",
       "      <td>TS1 4QD</td>\n",
       "      <td>Teesside</td>\n",
       "      <td>Teesside</td>\n",
       "      <td>2118</td>\n",
       "      <td>4236</td>\n",
       "      <td>Teesside</td>\n",
       "      <td>2118</td>\n",
       "    </tr>\n",
       "    <tr>\n",
       "      <th>1</th>\n",
       "      <td>411141</td>\n",
       "      <td>TS1 4QD</td>\n",
       "      <td>Teesside</td>\n",
       "      <td>Teesside</td>\n",
       "      <td>2118</td>\n",
       "      <td>4236</td>\n",
       "      <td>Darlington</td>\n",
       "      <td>2118</td>\n",
       "    </tr>\n",
       "    <tr>\n",
       "      <th>2</th>\n",
       "      <td>406002</td>\n",
       "      <td>EN5 2HX</td>\n",
       "      <td>London Outer N</td>\n",
       "      <td>London Border N</td>\n",
       "      <td>1240</td>\n",
       "      <td>1801</td>\n",
       "      <td>London</td>\n",
       "      <td>1240</td>\n",
       "    </tr>\n",
       "    <tr>\n",
       "      <th>3</th>\n",
       "      <td>406002</td>\n",
       "      <td>EN5 2HX</td>\n",
       "      <td>London Outer N</td>\n",
       "      <td>London Outer N</td>\n",
       "      <td>560</td>\n",
       "      <td>1801</td>\n",
       "      <td>London</td>\n",
       "      <td>1240</td>\n",
       "    </tr>\n",
       "    <tr>\n",
       "      <th>4</th>\n",
       "      <td>406002</td>\n",
       "      <td>EN5 2HX</td>\n",
       "      <td>London Outer N</td>\n",
       "      <td>None</td>\n",
       "      <td>1</td>\n",
       "      <td>1801</td>\n",
       "      <td>London</td>\n",
       "      <td>1240</td>\n",
       "    </tr>\n",
       "    <tr>\n",
       "      <th>5</th>\n",
       "      <td>427982</td>\n",
       "      <td>WS10 8PP</td>\n",
       "      <td>Walsall</td>\n",
       "      <td>Wolverhampton</td>\n",
       "      <td>1888</td>\n",
       "      <td>1949</td>\n",
       "      <td>Birmingham</td>\n",
       "      <td>1888</td>\n",
       "    </tr>\n",
       "    <tr>\n",
       "      <th>6</th>\n",
       "      <td>427982</td>\n",
       "      <td>WS10 8PP</td>\n",
       "      <td>Walsall</td>\n",
       "      <td>Walsall</td>\n",
       "      <td>59</td>\n",
       "      <td>1949</td>\n",
       "      <td>Birmingham</td>\n",
       "      <td>1888</td>\n",
       "    </tr>\n",
       "    <tr>\n",
       "      <th>7</th>\n",
       "      <td>427982</td>\n",
       "      <td>WS10 8PP</td>\n",
       "      <td>Walsall</td>\n",
       "      <td>Dudley &amp; West Bromwich</td>\n",
       "      <td>2</td>\n",
       "      <td>1949</td>\n",
       "      <td>Birmingham</td>\n",
       "      <td>1888</td>\n",
       "    </tr>\n",
       "    <tr>\n",
       "      <th>8</th>\n",
       "      <td>396888</td>\n",
       "      <td>PL7 4AT</td>\n",
       "      <td>Plymouth</td>\n",
       "      <td>Plymouth</td>\n",
       "      <td>1965</td>\n",
       "      <td>2199</td>\n",
       "      <td>Plymouth</td>\n",
       "      <td>1965</td>\n",
       "    </tr>\n",
       "    <tr>\n",
       "      <th>9</th>\n",
       "      <td>396888</td>\n",
       "      <td>PL7 4AT</td>\n",
       "      <td>Plymouth</td>\n",
       "      <td>Plymstock</td>\n",
       "      <td>234</td>\n",
       "      <td>2199</td>\n",
       "      <td>Plymouth</td>\n",
       "      <td>1965</td>\n",
       "    </tr>\n",
       "    <tr>\n",
       "      <th>10</th>\n",
       "      <td>396265</td>\n",
       "      <td>TS3 9DA</td>\n",
       "      <td>Teesside</td>\n",
       "      <td>Darlington</td>\n",
       "      <td>839</td>\n",
       "      <td>839</td>\n",
       "      <td>Darlington</td>\n",
       "      <td>839</td>\n",
       "    </tr>\n",
       "    <tr>\n",
       "      <th>11</th>\n",
       "      <td>407677</td>\n",
       "      <td>IG1 2TP</td>\n",
       "      <td>London Border NE</td>\n",
       "      <td>London Border NE</td>\n",
       "      <td>425</td>\n",
       "      <td>432</td>\n",
       "      <td>London</td>\n",
       "      <td>425</td>\n",
       "    </tr>\n",
       "    <tr>\n",
       "      <th>12</th>\n",
       "      <td>407677</td>\n",
       "      <td>IG1 2TP</td>\n",
       "      <td>London Border NE</td>\n",
       "      <td>London Outer NE</td>\n",
       "      <td>7</td>\n",
       "      <td>432</td>\n",
       "      <td>London</td>\n",
       "      <td>425</td>\n",
       "    </tr>\n",
       "    <tr>\n",
       "      <th>13</th>\n",
       "      <td>411741</td>\n",
       "      <td>E4 8LP</td>\n",
       "      <td>London Border N</td>\n",
       "      <td>London Border N</td>\n",
       "      <td>1796</td>\n",
       "      <td>1809</td>\n",
       "      <td>London</td>\n",
       "      <td>1796</td>\n",
       "    </tr>\n",
       "    <tr>\n",
       "      <th>14</th>\n",
       "      <td>411741</td>\n",
       "      <td>E4 8LP</td>\n",
       "      <td>London Border N</td>\n",
       "      <td>London Outer NE</td>\n",
       "      <td>10</td>\n",
       "      <td>1809</td>\n",
       "      <td>London</td>\n",
       "      <td>1796</td>\n",
       "    </tr>\n",
       "    <tr>\n",
       "      <th>15</th>\n",
       "      <td>411741</td>\n",
       "      <td>E4 8LP</td>\n",
       "      <td>London Border N</td>\n",
       "      <td>None</td>\n",
       "      <td>1</td>\n",
       "      <td>1809</td>\n",
       "      <td>London</td>\n",
       "      <td>1796</td>\n",
       "    </tr>\n",
       "    <tr>\n",
       "      <th>16</th>\n",
       "      <td>411741</td>\n",
       "      <td>E4 8LP</td>\n",
       "      <td>London Border N</td>\n",
       "      <td>London Border NE</td>\n",
       "      <td>2</td>\n",
       "      <td>1809</td>\n",
       "      <td>London</td>\n",
       "      <td>1796</td>\n",
       "    </tr>\n",
       "    <tr>\n",
       "      <th>17</th>\n",
       "      <td>402908</td>\n",
       "      <td>TS18 3JP</td>\n",
       "      <td>Teesside</td>\n",
       "      <td>Teesside</td>\n",
       "      <td>1711</td>\n",
       "      <td>1711</td>\n",
       "      <td>Teesside</td>\n",
       "      <td>1711</td>\n",
       "    </tr>\n",
       "    <tr>\n",
       "      <th>18</th>\n",
       "      <td>411209</td>\n",
       "      <td>RM6 6LS</td>\n",
       "      <td>London Border NE</td>\n",
       "      <td>London Border NE</td>\n",
       "      <td>1242</td>\n",
       "      <td>1244</td>\n",
       "      <td>London</td>\n",
       "      <td>1242</td>\n",
       "    </tr>\n",
       "    <tr>\n",
       "      <th>19</th>\n",
       "      <td>411209</td>\n",
       "      <td>RM6 6LS</td>\n",
       "      <td>London Border NE</td>\n",
       "      <td>London Outer NE</td>\n",
       "      <td>1</td>\n",
       "      <td>1244</td>\n",
       "      <td>London</td>\n",
       "      <td>1242</td>\n",
       "    </tr>\n",
       "  </tbody>\n",
       "</table>\n",
       "</div>"
      ],
      "text/plain": [
       "    driver_id driver_postcode         driver_ca                   pu_ca  \\\n",
       "0      411141         TS1 4QD          Teesside                Teesside   \n",
       "1      411141         TS1 4QD          Teesside                Teesside   \n",
       "2      406002         EN5 2HX    London Outer N         London Border N   \n",
       "3      406002         EN5 2HX    London Outer N          London Outer N   \n",
       "4      406002         EN5 2HX    London Outer N                    None   \n",
       "5      427982        WS10 8PP           Walsall           Wolverhampton   \n",
       "6      427982        WS10 8PP           Walsall                 Walsall   \n",
       "7      427982        WS10 8PP           Walsall  Dudley & West Bromwich   \n",
       "8      396888         PL7 4AT          Plymouth                Plymouth   \n",
       "9      396888         PL7 4AT          Plymouth               Plymstock   \n",
       "10     396265         TS3 9DA          Teesside              Darlington   \n",
       "11     407677         IG1 2TP  London Border NE        London Border NE   \n",
       "12     407677         IG1 2TP  London Border NE         London Outer NE   \n",
       "13     411741          E4 8LP   London Border N         London Border N   \n",
       "14     411741          E4 8LP   London Border N         London Outer NE   \n",
       "15     411741          E4 8LP   London Border N                    None   \n",
       "16     411741          E4 8LP   London Border N        London Border NE   \n",
       "17     402908        TS18 3JP          Teesside                Teesside   \n",
       "18     411209         RM6 6LS  London Border NE        London Border NE   \n",
       "19     411209         RM6 6LS  London Border NE         London Outer NE   \n",
       "\n",
       "    nb_packages_per_CA  total_nb_packages zone_name_of_driver_pu_ca  \\\n",
       "0                 2118               4236                  Teesside   \n",
       "1                 2118               4236                Darlington   \n",
       "2                 1240               1801                    London   \n",
       "3                  560               1801                    London   \n",
       "4                    1               1801                    London   \n",
       "5                 1888               1949                Birmingham   \n",
       "6                   59               1949                Birmingham   \n",
       "7                    2               1949                Birmingham   \n",
       "8                 1965               2199                  Plymouth   \n",
       "9                  234               2199                  Plymouth   \n",
       "10                 839                839                Darlington   \n",
       "11                 425                432                    London   \n",
       "12                   7                432                    London   \n",
       "13                1796               1809                    London   \n",
       "14                  10               1809                    London   \n",
       "15                   1               1809                    London   \n",
       "16                   2               1809                    London   \n",
       "17                1711               1711                  Teesside   \n",
       "18                1242               1244                    London   \n",
       "19                   1               1244                    London   \n",
       "\n",
       "    max_ca_deliveries  \n",
       "0                2118  \n",
       "1                2118  \n",
       "2                1240  \n",
       "3                1240  \n",
       "4                1240  \n",
       "5                1888  \n",
       "6                1888  \n",
       "7                1888  \n",
       "8                1965  \n",
       "9                1965  \n",
       "10                839  \n",
       "11                425  \n",
       "12                425  \n",
       "13               1796  \n",
       "14               1796  \n",
       "15               1796  \n",
       "16               1796  \n",
       "17               1711  \n",
       "18               1242  \n",
       "19               1242  "
      ]
     },
     "execution_count": 121,
     "metadata": {},
     "output_type": "execute_result"
    }
   ],
   "source": [
    "new_metric.head(20)"
   ]
  },
  {
   "cell_type": "code",
   "execution_count": 122,
   "metadata": {},
   "outputs": [
    {
     "data": {
      "text/html": [
       "<div>\n",
       "<style scoped>\n",
       "    .dataframe tbody tr th:only-of-type {\n",
       "        vertical-align: middle;\n",
       "    }\n",
       "\n",
       "    .dataframe tbody tr th {\n",
       "        vertical-align: top;\n",
       "    }\n",
       "\n",
       "    .dataframe thead th {\n",
       "        text-align: right;\n",
       "    }\n",
       "</style>\n",
       "<table border=\"1\" class=\"dataframe\">\n",
       "  <thead>\n",
       "    <tr style=\"text-align: right;\">\n",
       "      <th></th>\n",
       "      <th>driver_id</th>\n",
       "      <th>driver_postcode</th>\n",
       "      <th>driver_ca</th>\n",
       "      <th>pu_ca</th>\n",
       "      <th>nb_packages_per_CA</th>\n",
       "      <th>total_nb_packages</th>\n",
       "      <th>zone_name_of_driver_pu_ca</th>\n",
       "      <th>max_ca_deliveries</th>\n",
       "    </tr>\n",
       "  </thead>\n",
       "  <tbody>\n",
       "    <tr>\n",
       "      <th>0</th>\n",
       "      <td>411141</td>\n",
       "      <td>TS1 4QD</td>\n",
       "      <td>Teesside</td>\n",
       "      <td>Teesside</td>\n",
       "      <td>2118</td>\n",
       "      <td>4236</td>\n",
       "      <td>Teesside</td>\n",
       "      <td>2118</td>\n",
       "    </tr>\n",
       "    <tr>\n",
       "      <th>1</th>\n",
       "      <td>411141</td>\n",
       "      <td>TS1 4QD</td>\n",
       "      <td>Teesside</td>\n",
       "      <td>Teesside</td>\n",
       "      <td>2118</td>\n",
       "      <td>4236</td>\n",
       "      <td>Darlington</td>\n",
       "      <td>2118</td>\n",
       "    </tr>\n",
       "    <tr>\n",
       "      <th>2</th>\n",
       "      <td>406002</td>\n",
       "      <td>EN5 2HX</td>\n",
       "      <td>London Outer N</td>\n",
       "      <td>London Border N</td>\n",
       "      <td>1240</td>\n",
       "      <td>1801</td>\n",
       "      <td>London</td>\n",
       "      <td>1240</td>\n",
       "    </tr>\n",
       "    <tr>\n",
       "      <th>5</th>\n",
       "      <td>427982</td>\n",
       "      <td>WS10 8PP</td>\n",
       "      <td>Walsall</td>\n",
       "      <td>Wolverhampton</td>\n",
       "      <td>1888</td>\n",
       "      <td>1949</td>\n",
       "      <td>Birmingham</td>\n",
       "      <td>1888</td>\n",
       "    </tr>\n",
       "    <tr>\n",
       "      <th>8</th>\n",
       "      <td>396888</td>\n",
       "      <td>PL7 4AT</td>\n",
       "      <td>Plymouth</td>\n",
       "      <td>Plymouth</td>\n",
       "      <td>1965</td>\n",
       "      <td>2199</td>\n",
       "      <td>Plymouth</td>\n",
       "      <td>1965</td>\n",
       "    </tr>\n",
       "    <tr>\n",
       "      <th>...</th>\n",
       "      <td>...</td>\n",
       "      <td>...</td>\n",
       "      <td>...</td>\n",
       "      <td>...</td>\n",
       "      <td>...</td>\n",
       "      <td>...</td>\n",
       "      <td>...</td>\n",
       "      <td>...</td>\n",
       "    </tr>\n",
       "    <tr>\n",
       "      <th>29734</th>\n",
       "      <td>484451</td>\n",
       "      <td>S65 1PD</td>\n",
       "      <td>Rotherham</td>\n",
       "      <td>Sheffield</td>\n",
       "      <td>1</td>\n",
       "      <td>1</td>\n",
       "      <td>Sheffield</td>\n",
       "      <td>1</td>\n",
       "    </tr>\n",
       "    <tr>\n",
       "      <th>29735</th>\n",
       "      <td>475822</td>\n",
       "      <td>DE24 8SG</td>\n",
       "      <td>Derby</td>\n",
       "      <td>Derby</td>\n",
       "      <td>1</td>\n",
       "      <td>1</td>\n",
       "      <td>Derby</td>\n",
       "      <td>1</td>\n",
       "    </tr>\n",
       "    <tr>\n",
       "      <th>29736</th>\n",
       "      <td>477225</td>\n",
       "      <td>SW17 9ES</td>\n",
       "      <td>London Inner S</td>\n",
       "      <td>London Inner S</td>\n",
       "      <td>1</td>\n",
       "      <td>1</td>\n",
       "      <td>London</td>\n",
       "      <td>1</td>\n",
       "    </tr>\n",
       "    <tr>\n",
       "      <th>29737</th>\n",
       "      <td>448077</td>\n",
       "      <td>NE8 4XJ</td>\n",
       "      <td>Gateshead</td>\n",
       "      <td>Gateshead</td>\n",
       "      <td>1</td>\n",
       "      <td>1</td>\n",
       "      <td>Newcastle-Gateshead</td>\n",
       "      <td>1</td>\n",
       "    </tr>\n",
       "    <tr>\n",
       "      <th>29738</th>\n",
       "      <td>382897</td>\n",
       "      <td>IG1 1PT</td>\n",
       "      <td>London Border NE</td>\n",
       "      <td>London Border NE</td>\n",
       "      <td>1</td>\n",
       "      <td>1</td>\n",
       "      <td>London</td>\n",
       "      <td>1</td>\n",
       "    </tr>\n",
       "  </tbody>\n",
       "</table>\n",
       "<p>13001 rows × 8 columns</p>\n",
       "</div>"
      ],
      "text/plain": [
       "       driver_id driver_postcode         driver_ca             pu_ca  \\\n",
       "0         411141         TS1 4QD          Teesside          Teesside   \n",
       "1         411141         TS1 4QD          Teesside          Teesside   \n",
       "2         406002         EN5 2HX    London Outer N   London Border N   \n",
       "5         427982        WS10 8PP           Walsall     Wolverhampton   \n",
       "8         396888         PL7 4AT          Plymouth          Plymouth   \n",
       "...          ...             ...               ...               ...   \n",
       "29734     484451         S65 1PD         Rotherham         Sheffield   \n",
       "29735     475822        DE24 8SG             Derby             Derby   \n",
       "29736     477225        SW17 9ES    London Inner S    London Inner S   \n",
       "29737     448077         NE8 4XJ         Gateshead         Gateshead   \n",
       "29738     382897         IG1 1PT  London Border NE  London Border NE   \n",
       "\n",
       "       nb_packages_per_CA  total_nb_packages zone_name_of_driver_pu_ca  \\\n",
       "0                    2118               4236                  Teesside   \n",
       "1                    2118               4236                Darlington   \n",
       "2                    1240               1801                    London   \n",
       "5                    1888               1949                Birmingham   \n",
       "8                    1965               2199                  Plymouth   \n",
       "...                   ...                ...                       ...   \n",
       "29734                   1                  1                 Sheffield   \n",
       "29735                   1                  1                     Derby   \n",
       "29736                   1                  1                    London   \n",
       "29737                   1                  1       Newcastle-Gateshead   \n",
       "29738                   1                  1                    London   \n",
       "\n",
       "       max_ca_deliveries  \n",
       "0                   2118  \n",
       "1                   2118  \n",
       "2                   1240  \n",
       "5                   1888  \n",
       "8                   1965  \n",
       "...                  ...  \n",
       "29734                  1  \n",
       "29735                  1  \n",
       "29736                  1  \n",
       "29737                  1  \n",
       "29738                  1  \n",
       "\n",
       "[13001 rows x 8 columns]"
      ]
     },
     "execution_count": 122,
     "metadata": {},
     "output_type": "execute_result"
    }
   ],
   "source": [
    "# Metric 2: Create a column: mostly_worked_in_ca by choosing the CA where a courier did his most deliveries in. \n",
    "\n",
    "new_metric2 = new_metric[new_metric['nb_packages_per_CA'] == new_metric['max_ca_deliveries']].copy()\n",
    "new_metric2\n"
   ]
  },
  {
   "cell_type": "code",
   "execution_count": 123,
   "metadata": {},
   "outputs": [
    {
     "data": {
      "text/html": [
       "<div>\n",
       "<style scoped>\n",
       "    .dataframe tbody tr th:only-of-type {\n",
       "        vertical-align: middle;\n",
       "    }\n",
       "\n",
       "    .dataframe tbody tr th {\n",
       "        vertical-align: top;\n",
       "    }\n",
       "\n",
       "    .dataframe thead th {\n",
       "        text-align: right;\n",
       "    }\n",
       "</style>\n",
       "<table border=\"1\" class=\"dataframe\">\n",
       "  <thead>\n",
       "    <tr style=\"text-align: right;\">\n",
       "      <th></th>\n",
       "      <th>driver_id</th>\n",
       "      <th>driver_postcode</th>\n",
       "      <th>driver_ca</th>\n",
       "      <th>pu_ca</th>\n",
       "      <th>nb_packages_per_CA</th>\n",
       "      <th>total_nb_packages</th>\n",
       "      <th>zone_name_of_driver_pu_ca</th>\n",
       "      <th>max_ca_deliveries</th>\n",
       "      <th>is_same</th>\n",
       "    </tr>\n",
       "  </thead>\n",
       "  <tbody>\n",
       "    <tr>\n",
       "      <th>0</th>\n",
       "      <td>411141</td>\n",
       "      <td>TS1 4QD</td>\n",
       "      <td>Teesside</td>\n",
       "      <td>Teesside</td>\n",
       "      <td>2118</td>\n",
       "      <td>4236</td>\n",
       "      <td>Teesside</td>\n",
       "      <td>2118</td>\n",
       "      <td>1</td>\n",
       "    </tr>\n",
       "    <tr>\n",
       "      <th>1</th>\n",
       "      <td>411141</td>\n",
       "      <td>TS1 4QD</td>\n",
       "      <td>Teesside</td>\n",
       "      <td>Teesside</td>\n",
       "      <td>2118</td>\n",
       "      <td>4236</td>\n",
       "      <td>Darlington</td>\n",
       "      <td>2118</td>\n",
       "      <td>1</td>\n",
       "    </tr>\n",
       "    <tr>\n",
       "      <th>2</th>\n",
       "      <td>406002</td>\n",
       "      <td>EN5 2HX</td>\n",
       "      <td>London Outer N</td>\n",
       "      <td>London Border N</td>\n",
       "      <td>1240</td>\n",
       "      <td>1801</td>\n",
       "      <td>London</td>\n",
       "      <td>1240</td>\n",
       "      <td>0</td>\n",
       "    </tr>\n",
       "    <tr>\n",
       "      <th>5</th>\n",
       "      <td>427982</td>\n",
       "      <td>WS10 8PP</td>\n",
       "      <td>Walsall</td>\n",
       "      <td>Wolverhampton</td>\n",
       "      <td>1888</td>\n",
       "      <td>1949</td>\n",
       "      <td>Birmingham</td>\n",
       "      <td>1888</td>\n",
       "      <td>0</td>\n",
       "    </tr>\n",
       "    <tr>\n",
       "      <th>8</th>\n",
       "      <td>396888</td>\n",
       "      <td>PL7 4AT</td>\n",
       "      <td>Plymouth</td>\n",
       "      <td>Plymouth</td>\n",
       "      <td>1965</td>\n",
       "      <td>2199</td>\n",
       "      <td>Plymouth</td>\n",
       "      <td>1965</td>\n",
       "      <td>1</td>\n",
       "    </tr>\n",
       "    <tr>\n",
       "      <th>...</th>\n",
       "      <td>...</td>\n",
       "      <td>...</td>\n",
       "      <td>...</td>\n",
       "      <td>...</td>\n",
       "      <td>...</td>\n",
       "      <td>...</td>\n",
       "      <td>...</td>\n",
       "      <td>...</td>\n",
       "      <td>...</td>\n",
       "    </tr>\n",
       "    <tr>\n",
       "      <th>29734</th>\n",
       "      <td>484451</td>\n",
       "      <td>S65 1PD</td>\n",
       "      <td>Rotherham</td>\n",
       "      <td>Sheffield</td>\n",
       "      <td>1</td>\n",
       "      <td>1</td>\n",
       "      <td>Sheffield</td>\n",
       "      <td>1</td>\n",
       "      <td>0</td>\n",
       "    </tr>\n",
       "    <tr>\n",
       "      <th>29735</th>\n",
       "      <td>475822</td>\n",
       "      <td>DE24 8SG</td>\n",
       "      <td>Derby</td>\n",
       "      <td>Derby</td>\n",
       "      <td>1</td>\n",
       "      <td>1</td>\n",
       "      <td>Derby</td>\n",
       "      <td>1</td>\n",
       "      <td>1</td>\n",
       "    </tr>\n",
       "    <tr>\n",
       "      <th>29736</th>\n",
       "      <td>477225</td>\n",
       "      <td>SW17 9ES</td>\n",
       "      <td>London Inner S</td>\n",
       "      <td>London Inner S</td>\n",
       "      <td>1</td>\n",
       "      <td>1</td>\n",
       "      <td>London</td>\n",
       "      <td>1</td>\n",
       "      <td>1</td>\n",
       "    </tr>\n",
       "    <tr>\n",
       "      <th>29737</th>\n",
       "      <td>448077</td>\n",
       "      <td>NE8 4XJ</td>\n",
       "      <td>Gateshead</td>\n",
       "      <td>Gateshead</td>\n",
       "      <td>1</td>\n",
       "      <td>1</td>\n",
       "      <td>Newcastle-Gateshead</td>\n",
       "      <td>1</td>\n",
       "      <td>1</td>\n",
       "    </tr>\n",
       "    <tr>\n",
       "      <th>29738</th>\n",
       "      <td>382897</td>\n",
       "      <td>IG1 1PT</td>\n",
       "      <td>London Border NE</td>\n",
       "      <td>London Border NE</td>\n",
       "      <td>1</td>\n",
       "      <td>1</td>\n",
       "      <td>London</td>\n",
       "      <td>1</td>\n",
       "      <td>1</td>\n",
       "    </tr>\n",
       "  </tbody>\n",
       "</table>\n",
       "<p>13001 rows × 9 columns</p>\n",
       "</div>"
      ],
      "text/plain": [
       "       driver_id driver_postcode         driver_ca             pu_ca  \\\n",
       "0         411141         TS1 4QD          Teesside          Teesside   \n",
       "1         411141         TS1 4QD          Teesside          Teesside   \n",
       "2         406002         EN5 2HX    London Outer N   London Border N   \n",
       "5         427982        WS10 8PP           Walsall     Wolverhampton   \n",
       "8         396888         PL7 4AT          Plymouth          Plymouth   \n",
       "...          ...             ...               ...               ...   \n",
       "29734     484451         S65 1PD         Rotherham         Sheffield   \n",
       "29735     475822        DE24 8SG             Derby             Derby   \n",
       "29736     477225        SW17 9ES    London Inner S    London Inner S   \n",
       "29737     448077         NE8 4XJ         Gateshead         Gateshead   \n",
       "29738     382897         IG1 1PT  London Border NE  London Border NE   \n",
       "\n",
       "       nb_packages_per_CA  total_nb_packages zone_name_of_driver_pu_ca  \\\n",
       "0                    2118               4236                  Teesside   \n",
       "1                    2118               4236                Darlington   \n",
       "2                    1240               1801                    London   \n",
       "5                    1888               1949                Birmingham   \n",
       "8                    1965               2199                  Plymouth   \n",
       "...                   ...                ...                       ...   \n",
       "29734                   1                  1                 Sheffield   \n",
       "29735                   1                  1                     Derby   \n",
       "29736                   1                  1                    London   \n",
       "29737                   1                  1       Newcastle-Gateshead   \n",
       "29738                   1                  1                    London   \n",
       "\n",
       "       max_ca_deliveries  is_same  \n",
       "0                   2118        1  \n",
       "1                   2118        1  \n",
       "2                   1240        0  \n",
       "5                   1888        0  \n",
       "8                   1965        1  \n",
       "...                  ...      ...  \n",
       "29734                  1        0  \n",
       "29735                  1        1  \n",
       "29736                  1        1  \n",
       "29737                  1        1  \n",
       "29738                  1        1  \n",
       "\n",
       "[13001 rows x 9 columns]"
      ]
     },
     "execution_count": 123,
     "metadata": {},
     "output_type": "execute_result"
    }
   ],
   "source": [
    "# Then compare if this CA is the same as driver ca as 1 or 0. \n",
    "new_metric2['is_same'] = np.where(new_metric2['pu_ca'] == new_metric2['driver_ca'], 1, 0)\n",
    "new_metric2"
   ]
  },
  {
   "cell_type": "code",
   "execution_count": 125,
   "metadata": {},
   "outputs": [
    {
     "data": {
      "text/html": [
       "<div>\n",
       "<style scoped>\n",
       "    .dataframe tbody tr th:only-of-type {\n",
       "        vertical-align: middle;\n",
       "    }\n",
       "\n",
       "    .dataframe tbody tr th {\n",
       "        vertical-align: top;\n",
       "    }\n",
       "\n",
       "    .dataframe thead th {\n",
       "        text-align: right;\n",
       "    }\n",
       "</style>\n",
       "<table border=\"1\" class=\"dataframe\">\n",
       "  <thead>\n",
       "    <tr style=\"text-align: right;\">\n",
       "      <th></th>\n",
       "      <th>driver_id</th>\n",
       "      <th>nb_packages_per_CA</th>\n",
       "      <th>total_nb_packages</th>\n",
       "      <th>max_ca_deliveries</th>\n",
       "      <th>is_same</th>\n",
       "    </tr>\n",
       "  </thead>\n",
       "  <tbody>\n",
       "    <tr>\n",
       "      <th>count</th>\n",
       "      <td>13001.000000</td>\n",
       "      <td>13001.000000</td>\n",
       "      <td>13001.000000</td>\n",
       "      <td>13001.000000</td>\n",
       "      <td>13001.000000</td>\n",
       "    </tr>\n",
       "    <tr>\n",
       "      <th>mean</th>\n",
       "      <td>425525.566264</td>\n",
       "      <td>498.398892</td>\n",
       "      <td>613.457734</td>\n",
       "      <td>498.398892</td>\n",
       "      <td>0.717483</td>\n",
       "    </tr>\n",
       "    <tr>\n",
       "      <th>std</th>\n",
       "      <td>40085.053408</td>\n",
       "      <td>671.572779</td>\n",
       "      <td>881.158181</td>\n",
       "      <td>671.572779</td>\n",
       "      <td>0.450241</td>\n",
       "    </tr>\n",
       "    <tr>\n",
       "      <th>min</th>\n",
       "      <td>339370.000000</td>\n",
       "      <td>1.000000</td>\n",
       "      <td>1.000000</td>\n",
       "      <td>1.000000</td>\n",
       "      <td>0.000000</td>\n",
       "    </tr>\n",
       "    <tr>\n",
       "      <th>25%</th>\n",
       "      <td>397285.000000</td>\n",
       "      <td>39.000000</td>\n",
       "      <td>46.000000</td>\n",
       "      <td>39.000000</td>\n",
       "      <td>0.000000</td>\n",
       "    </tr>\n",
       "    <tr>\n",
       "      <th>50%</th>\n",
       "      <td>425790.000000</td>\n",
       "      <td>202.000000</td>\n",
       "      <td>242.000000</td>\n",
       "      <td>202.000000</td>\n",
       "      <td>1.000000</td>\n",
       "    </tr>\n",
       "    <tr>\n",
       "      <th>75%</th>\n",
       "      <td>462506.000000</td>\n",
       "      <td>716.000000</td>\n",
       "      <td>862.000000</td>\n",
       "      <td>716.000000</td>\n",
       "      <td>1.000000</td>\n",
       "    </tr>\n",
       "    <tr>\n",
       "      <th>max</th>\n",
       "      <td>490791.000000</td>\n",
       "      <td>5532.000000</td>\n",
       "      <td>12681.000000</td>\n",
       "      <td>5532.000000</td>\n",
       "      <td>1.000000</td>\n",
       "    </tr>\n",
       "  </tbody>\n",
       "</table>\n",
       "</div>"
      ],
      "text/plain": [
       "           driver_id  nb_packages_per_CA  total_nb_packages  \\\n",
       "count   13001.000000        13001.000000       13001.000000   \n",
       "mean   425525.566264          498.398892         613.457734   \n",
       "std     40085.053408          671.572779         881.158181   \n",
       "min    339370.000000            1.000000           1.000000   \n",
       "25%    397285.000000           39.000000          46.000000   \n",
       "50%    425790.000000          202.000000         242.000000   \n",
       "75%    462506.000000          716.000000         862.000000   \n",
       "max    490791.000000         5532.000000       12681.000000   \n",
       "\n",
       "       max_ca_deliveries       is_same  \n",
       "count       13001.000000  13001.000000  \n",
       "mean          498.398892      0.717483  \n",
       "std           671.572779      0.450241  \n",
       "min             1.000000      0.000000  \n",
       "25%            39.000000      0.000000  \n",
       "50%           202.000000      1.000000  \n",
       "75%           716.000000      1.000000  \n",
       "max          5532.000000      1.000000  "
      ]
     },
     "execution_count": 125,
     "metadata": {},
     "output_type": "execute_result"
    }
   ],
   "source": [
    "# Then calculate the % of 1s \n",
    "new_metric2.describe()"
   ]
  }
 ],
 "metadata": {
  "kernelspec": {
   "display_name": "Python 3 (ipykernel)",
   "language": "python",
   "name": "python3"
  },
  "language_info": {
   "codemirror_mode": {
    "name": "ipython",
    "version": 3
   },
   "file_extension": ".py",
   "mimetype": "text/x-python",
   "name": "python",
   "nbconvert_exporter": "python",
   "pygments_lexer": "ipython3",
   "version": "3.8.12"
  }
 },
 "nbformat": 4,
 "nbformat_minor": 4
}
