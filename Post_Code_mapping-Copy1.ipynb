{
 "cells": [
  {
   "cell_type": "code",
   "execution_count": 2,
   "metadata": {},
   "outputs": [],
   "source": [
    "import pandas as pd\n",
    "import numpy as np\n",
    "import plotly.express as px\n",
    "import os \n",
    "import json\n",
    "import sys\n",
    "\n",
    "from functools import lru_cache\n",
    "\n",
    "from botocore.exceptions import ClientError"
   ]
  },
  {
   "cell_type": "code",
   "execution_count": 3,
   "metadata": {},
   "outputs": [],
   "source": [
    "# Tells the location of folders (e.g. aws folder) - creates a path\n",
    "from user_path import set_up_path \n",
    "\n",
    "PATH = set_up_path()\n",
    "sys.path.append(PATH['tools'])\n",
    "sys.path.append(PATH['tools'] + '/functions')\n"
   ]
  },
  {
   "cell_type": "code",
   "execution_count": 4,
   "metadata": {},
   "outputs": [],
   "source": [
    "# Importing custom libraries to connect to DWS and GSheet\n",
    "from functions.database import get_data_from_warehouse\n",
    "from utils.gspread.gsheet_data import GetSheetData"
   ]
  },
  {
   "cell_type": "code",
   "execution_count": 40,
   "metadata": {},
   "outputs": [
    {
     "name": "stdout",
     "output_type": "stream",
     "text": [
      "Connected to the DataWarehouse\n",
      "Result from query obtained\n",
      "Data stored in dataframe\n"
     ]
    }
   ],
   "source": [
    "# Just checking if connected\n",
    "query = \"\"\"select COUNT(DISTINCT stuart_package_id)\n",
    "    \n",
    "from dim.package p\n",
    "WHERE pu_city = 'London'\n",
    "LIMIT 10\n",
    "\"\"\"\n",
    "data = get_data_from_warehouse(query)"
   ]
  },
  {
   "cell_type": "code",
   "execution_count": null,
   "metadata": {},
   "outputs": [],
   "source": [
    "data"
   ]
  },
  {
   "cell_type": "markdown",
   "metadata": {},
   "source": [
    "# Catchment areas (CAs) and Pools"
   ]
  },
  {
   "cell_type": "code",
   "execution_count": 5,
   "metadata": {},
   "outputs": [],
   "source": [
    "from password_downloader import get_passwords\n",
    "# Gets a bunch of passwords. Here is specifically for the uk\n",
    "PASSWORDS = get_passwords('uk') \n",
    "\n",
    "# PASSWORDS helps to get a connection to GSheet???\n",
    "sheet = GetSheetData(DICT=PASSWORDS['gsheet_client_secret'])"
   ]
  },
  {
   "cell_type": "code",
   "execution_count": 6,
   "metadata": {},
   "outputs": [],
   "source": [
    "# Connecting to GSheet\n",
    "sheet_name = 'Sourcing / Onboarding Catchment Areas'\n",
    "\n",
    "# Indicates which GSheet workbook I need\n",
    "tab = 'OB Revamp Mapping'\n",
    "catch_areas = sheet.worksheet_data(sheet_name, tab)"
   ]
  },
  {
   "cell_type": "code",
   "execution_count": 76,
   "metadata": {},
   "outputs": [
    {
     "data": {
      "text/html": [
       "<div>\n",
       "<style scoped>\n",
       "    .dataframe tbody tr th:only-of-type {\n",
       "        vertical-align: middle;\n",
       "    }\n",
       "\n",
       "    .dataframe tbody tr th {\n",
       "        vertical-align: top;\n",
       "    }\n",
       "\n",
       "    .dataframe thead th {\n",
       "        text-align: right;\n",
       "    }\n",
       "</style>\n",
       "<table border=\"1\" class=\"dataframe\">\n",
       "  <thead>\n",
       "    <tr style=\"text-align: right;\">\n",
       "      <th></th>\n",
       "      <th>City</th>\n",
       "      <th>Sourcing / OB Catchment Areas</th>\n",
       "      <th>StuartPoolswithinCatchmentArea</th>\n",
       "      <th></th>\n",
       "      <th></th>\n",
       "      <th></th>\n",
       "      <th></th>\n",
       "      <th></th>\n",
       "      <th></th>\n",
       "      <th></th>\n",
       "      <th></th>\n",
       "    </tr>\n",
       "  </thead>\n",
       "  <tbody>\n",
       "    <tr>\n",
       "      <th>0</th>\n",
       "      <td>Basildon</td>\n",
       "      <td>Basildon</td>\n",
       "      <td>BasildonCentral</td>\n",
       "      <td>Laindon</td>\n",
       "      <td>Pitsea</td>\n",
       "      <td></td>\n",
       "      <td></td>\n",
       "      <td></td>\n",
       "      <td></td>\n",
       "      <td></td>\n",
       "      <td></td>\n",
       "    </tr>\n",
       "    <tr>\n",
       "      <th>1</th>\n",
       "      <td>Birmingham</td>\n",
       "      <td>Birmingham Central</td>\n",
       "      <td>BirminghamCentral</td>\n",
       "      <td>BirminghamYardley</td>\n",
       "      <td>BirminghamHandsworth</td>\n",
       "      <td></td>\n",
       "      <td></td>\n",
       "      <td></td>\n",
       "      <td></td>\n",
       "      <td></td>\n",
       "      <td></td>\n",
       "    </tr>\n",
       "    <tr>\n",
       "      <th>2</th>\n",
       "      <td>Birmingham</td>\n",
       "      <td>Birmingham North</td>\n",
       "      <td>BirminghamErdington</td>\n",
       "      <td>BirminghamSuttonColdfield</td>\n",
       "      <td></td>\n",
       "      <td></td>\n",
       "      <td></td>\n",
       "      <td></td>\n",
       "      <td></td>\n",
       "      <td></td>\n",
       "      <td></td>\n",
       "    </tr>\n",
       "    <tr>\n",
       "      <th>3</th>\n",
       "      <td>Birmingham</td>\n",
       "      <td>Birmingham East</td>\n",
       "      <td>BirminghamSolihull</td>\n",
       "      <td>BirminghamHallGreen</td>\n",
       "      <td>BirminghamAcocksGreen</td>\n",
       "      <td></td>\n",
       "      <td></td>\n",
       "      <td></td>\n",
       "      <td></td>\n",
       "      <td></td>\n",
       "      <td></td>\n",
       "    </tr>\n",
       "    <tr>\n",
       "      <th>4</th>\n",
       "      <td>Birmingham</td>\n",
       "      <td>Birmingham South</td>\n",
       "      <td>BirminghamSellyOak</td>\n",
       "      <td>Northfield</td>\n",
       "      <td></td>\n",
       "      <td></td>\n",
       "      <td></td>\n",
       "      <td></td>\n",
       "      <td></td>\n",
       "      <td></td>\n",
       "      <td></td>\n",
       "    </tr>\n",
       "  </tbody>\n",
       "</table>\n",
       "</div>"
      ],
      "text/plain": [
       "         City Sourcing / OB Catchment Areas StuartPoolswithinCatchmentArea  \\\n",
       "0    Basildon                      Basildon                BasildonCentral   \n",
       "1  Birmingham            Birmingham Central              BirminghamCentral   \n",
       "2  Birmingham              Birmingham North            BirminghamErdington   \n",
       "3  Birmingham               Birmingham East             BirminghamSolihull   \n",
       "4  Birmingham              Birmingham South             BirminghamSellyOak   \n",
       "\n",
       "                                                                 \n",
       "0                    Laindon                 Pitsea              \n",
       "1          BirminghamYardley   BirminghamHandsworth              \n",
       "2  BirminghamSuttonColdfield                                     \n",
       "3        BirminghamHallGreen  BirminghamAcocksGreen              \n",
       "4                 Northfield                                     "
      ]
     },
     "execution_count": 76,
     "metadata": {},
     "output_type": "execute_result"
    }
   ],
   "source": [
    "catch_areas.head()"
   ]
  },
  {
   "cell_type": "code",
   "execution_count": 8,
   "metadata": {},
   "outputs": [],
   "source": [
    "# Pivot Longer the table\n",
    "catch_areas1 = catch_areas.melt(id_vars=['City','Sourcing / OB Catchment Areas'])"
   ]
  },
  {
   "cell_type": "code",
   "execution_count": 9,
   "metadata": {},
   "outputs": [],
   "source": [
    "# Dropping off City and Variable \n",
    "catch_areas1.drop(columns=['variable','City'], inplace=True) "
   ]
  },
  {
   "cell_type": "code",
   "execution_count": 10,
   "metadata": {},
   "outputs": [
    {
     "data": {
      "text/html": [
       "<div>\n",
       "<style scoped>\n",
       "    .dataframe tbody tr th:only-of-type {\n",
       "        vertical-align: middle;\n",
       "    }\n",
       "\n",
       "    .dataframe tbody tr th {\n",
       "        vertical-align: top;\n",
       "    }\n",
       "\n",
       "    .dataframe thead th {\n",
       "        text-align: right;\n",
       "    }\n",
       "</style>\n",
       "<table border=\"1\" class=\"dataframe\">\n",
       "  <thead>\n",
       "    <tr style=\"text-align: right;\">\n",
       "      <th></th>\n",
       "      <th>Sourcing / OB Catchment Areas</th>\n",
       "      <th>value</th>\n",
       "    </tr>\n",
       "  </thead>\n",
       "  <tbody>\n",
       "    <tr>\n",
       "      <th>0</th>\n",
       "      <td>Basildon</td>\n",
       "      <td>BasildonCentral</td>\n",
       "    </tr>\n",
       "    <tr>\n",
       "      <th>1</th>\n",
       "      <td>Birmingham Central</td>\n",
       "      <td>BirminghamCentral</td>\n",
       "    </tr>\n",
       "    <tr>\n",
       "      <th>2</th>\n",
       "      <td>Birmingham North</td>\n",
       "      <td>BirminghamErdington</td>\n",
       "    </tr>\n",
       "    <tr>\n",
       "      <th>3</th>\n",
       "      <td>Birmingham East</td>\n",
       "      <td>BirminghamSolihull</td>\n",
       "    </tr>\n",
       "    <tr>\n",
       "      <th>4</th>\n",
       "      <td>Birmingham South</td>\n",
       "      <td>BirminghamSellyOak</td>\n",
       "    </tr>\n",
       "    <tr>\n",
       "      <th>...</th>\n",
       "      <td>...</td>\n",
       "      <td>...</td>\n",
       "    </tr>\n",
       "    <tr>\n",
       "      <th>733</th>\n",
       "      <td>Sunderland</td>\n",
       "      <td></td>\n",
       "    </tr>\n",
       "    <tr>\n",
       "      <th>734</th>\n",
       "      <td>Teesside</td>\n",
       "      <td></td>\n",
       "    </tr>\n",
       "    <tr>\n",
       "      <th>735</th>\n",
       "      <td>St Helens</td>\n",
       "      <td></td>\n",
       "    </tr>\n",
       "    <tr>\n",
       "      <th>736</th>\n",
       "      <td>Warrington City</td>\n",
       "      <td></td>\n",
       "    </tr>\n",
       "    <tr>\n",
       "      <th>737</th>\n",
       "      <td>Widnes</td>\n",
       "      <td></td>\n",
       "    </tr>\n",
       "  </tbody>\n",
       "</table>\n",
       "<p>738 rows × 2 columns</p>\n",
       "</div>"
      ],
      "text/plain": [
       "    Sourcing / OB Catchment Areas                value\n",
       "0                        Basildon      BasildonCentral\n",
       "1              Birmingham Central    BirminghamCentral\n",
       "2                Birmingham North  BirminghamErdington\n",
       "3                 Birmingham East   BirminghamSolihull\n",
       "4                Birmingham South   BirminghamSellyOak\n",
       "..                            ...                  ...\n",
       "733                    Sunderland                     \n",
       "734                      Teesside                     \n",
       "735                     St Helens                     \n",
       "736               Warrington City                     \n",
       "737                        Widnes                     \n",
       "\n",
       "[738 rows x 2 columns]"
      ]
     },
     "execution_count": 10,
     "metadata": {},
     "output_type": "execute_result"
    }
   ],
   "source": [
    "catch_areas1"
   ]
  },
  {
   "cell_type": "code",
   "execution_count": 11,
   "metadata": {},
   "outputs": [],
   "source": [
    "# Replacing empty rows with na values and dropping them\n",
    "catch_areas2 = catch_areas1.replace(r'^\\s*$', np.nan, regex=True).dropna(subset=['value'])"
   ]
  },
  {
   "cell_type": "code",
   "execution_count": 12,
   "metadata": {},
   "outputs": [
    {
     "data": {
      "text/html": [
       "<div>\n",
       "<style scoped>\n",
       "    .dataframe tbody tr th:only-of-type {\n",
       "        vertical-align: middle;\n",
       "    }\n",
       "\n",
       "    .dataframe tbody tr th {\n",
       "        vertical-align: top;\n",
       "    }\n",
       "\n",
       "    .dataframe thead th {\n",
       "        text-align: right;\n",
       "    }\n",
       "</style>\n",
       "<table border=\"1\" class=\"dataframe\">\n",
       "  <thead>\n",
       "    <tr style=\"text-align: right;\">\n",
       "      <th></th>\n",
       "      <th>Sourcing / OB Catchment Areas</th>\n",
       "      <th>value</th>\n",
       "    </tr>\n",
       "  </thead>\n",
       "  <tbody>\n",
       "    <tr>\n",
       "      <th>0</th>\n",
       "      <td>Basildon</td>\n",
       "      <td>BasildonCentral</td>\n",
       "    </tr>\n",
       "    <tr>\n",
       "      <th>1</th>\n",
       "      <td>Birmingham Central</td>\n",
       "      <td>BirminghamCentral</td>\n",
       "    </tr>\n",
       "    <tr>\n",
       "      <th>2</th>\n",
       "      <td>Birmingham North</td>\n",
       "      <td>BirminghamErdington</td>\n",
       "    </tr>\n",
       "    <tr>\n",
       "      <th>3</th>\n",
       "      <td>Birmingham East</td>\n",
       "      <td>BirminghamSolihull</td>\n",
       "    </tr>\n",
       "    <tr>\n",
       "      <th>4</th>\n",
       "      <td>Birmingham South</td>\n",
       "      <td>BirminghamSellyOak</td>\n",
       "    </tr>\n",
       "    <tr>\n",
       "      <th>...</th>\n",
       "      <td>...</td>\n",
       "      <td>...</td>\n",
       "    </tr>\n",
       "    <tr>\n",
       "      <th>637</th>\n",
       "      <td>Newcastle</td>\n",
       "      <td>NewcastleRisingSun</td>\n",
       "    </tr>\n",
       "    <tr>\n",
       "      <th>695</th>\n",
       "      <td>London Outer E</td>\n",
       "      <td>Erith</td>\n",
       "    </tr>\n",
       "    <tr>\n",
       "      <th>700</th>\n",
       "      <td>London Border W</td>\n",
       "      <td>Twickenham</td>\n",
       "    </tr>\n",
       "    <tr>\n",
       "      <th>707</th>\n",
       "      <td>London Outer N</td>\n",
       "      <td>FinsburyPark</td>\n",
       "    </tr>\n",
       "    <tr>\n",
       "      <th>719</th>\n",
       "      <td>Newcastle</td>\n",
       "      <td>NewcastleCramlington</td>\n",
       "    </tr>\n",
       "  </tbody>\n",
       "</table>\n",
       "<p>327 rows × 2 columns</p>\n",
       "</div>"
      ],
      "text/plain": [
       "    Sourcing / OB Catchment Areas                 value\n",
       "0                        Basildon       BasildonCentral\n",
       "1              Birmingham Central     BirminghamCentral\n",
       "2                Birmingham North   BirminghamErdington\n",
       "3                 Birmingham East    BirminghamSolihull\n",
       "4                Birmingham South    BirminghamSellyOak\n",
       "..                            ...                   ...\n",
       "637                     Newcastle    NewcastleRisingSun\n",
       "695                London Outer E                 Erith\n",
       "700               London Border W            Twickenham\n",
       "707                London Outer N          FinsburyPark\n",
       "719                     Newcastle  NewcastleCramlington\n",
       "\n",
       "[327 rows x 2 columns]"
      ]
     },
     "execution_count": 12,
     "metadata": {},
     "output_type": "execute_result"
    }
   ],
   "source": [
    "catch_areas2"
   ]
  },
  {
   "cell_type": "code",
   "execution_count": 13,
   "metadata": {},
   "outputs": [],
   "source": [
    "# Renaming columns\n",
    "catch_areas2.rename(columns={'Sourcing / OB Catchment Areas':'catchment_area',\n",
    "                            'value':'stuart_delivery_area'}, inplace=True)"
   ]
  },
  {
   "cell_type": "code",
   "execution_count": 14,
   "metadata": {},
   "outputs": [
    {
     "data": {
      "text/html": [
       "<div>\n",
       "<style scoped>\n",
       "    .dataframe tbody tr th:only-of-type {\n",
       "        vertical-align: middle;\n",
       "    }\n",
       "\n",
       "    .dataframe tbody tr th {\n",
       "        vertical-align: top;\n",
       "    }\n",
       "\n",
       "    .dataframe thead th {\n",
       "        text-align: right;\n",
       "    }\n",
       "</style>\n",
       "<table border=\"1\" class=\"dataframe\">\n",
       "  <thead>\n",
       "    <tr style=\"text-align: right;\">\n",
       "      <th></th>\n",
       "      <th>catchment_area</th>\n",
       "      <th>stuart_delivery_area</th>\n",
       "    </tr>\n",
       "  </thead>\n",
       "  <tbody>\n",
       "    <tr>\n",
       "      <th>0</th>\n",
       "      <td>Basildon</td>\n",
       "      <td>BasildonCentral</td>\n",
       "    </tr>\n",
       "    <tr>\n",
       "      <th>1</th>\n",
       "      <td>Birmingham Central</td>\n",
       "      <td>BirminghamCentral</td>\n",
       "    </tr>\n",
       "    <tr>\n",
       "      <th>2</th>\n",
       "      <td>Birmingham North</td>\n",
       "      <td>BirminghamErdington</td>\n",
       "    </tr>\n",
       "    <tr>\n",
       "      <th>3</th>\n",
       "      <td>Birmingham East</td>\n",
       "      <td>BirminghamSolihull</td>\n",
       "    </tr>\n",
       "    <tr>\n",
       "      <th>4</th>\n",
       "      <td>Birmingham South</td>\n",
       "      <td>BirminghamSellyOak</td>\n",
       "    </tr>\n",
       "    <tr>\n",
       "      <th>...</th>\n",
       "      <td>...</td>\n",
       "      <td>...</td>\n",
       "    </tr>\n",
       "    <tr>\n",
       "      <th>637</th>\n",
       "      <td>Newcastle</td>\n",
       "      <td>NewcastleRisingSun</td>\n",
       "    </tr>\n",
       "    <tr>\n",
       "      <th>695</th>\n",
       "      <td>London Outer E</td>\n",
       "      <td>Erith</td>\n",
       "    </tr>\n",
       "    <tr>\n",
       "      <th>700</th>\n",
       "      <td>London Border W</td>\n",
       "      <td>Twickenham</td>\n",
       "    </tr>\n",
       "    <tr>\n",
       "      <th>707</th>\n",
       "      <td>London Outer N</td>\n",
       "      <td>FinsburyPark</td>\n",
       "    </tr>\n",
       "    <tr>\n",
       "      <th>719</th>\n",
       "      <td>Newcastle</td>\n",
       "      <td>NewcastleCramlington</td>\n",
       "    </tr>\n",
       "  </tbody>\n",
       "</table>\n",
       "<p>327 rows × 2 columns</p>\n",
       "</div>"
      ],
      "text/plain": [
       "         catchment_area  stuart_delivery_area\n",
       "0              Basildon       BasildonCentral\n",
       "1    Birmingham Central     BirminghamCentral\n",
       "2      Birmingham North   BirminghamErdington\n",
       "3       Birmingham East    BirminghamSolihull\n",
       "4      Birmingham South    BirminghamSellyOak\n",
       "..                  ...                   ...\n",
       "637           Newcastle    NewcastleRisingSun\n",
       "695      London Outer E                 Erith\n",
       "700     London Border W            Twickenham\n",
       "707      London Outer N          FinsburyPark\n",
       "719           Newcastle  NewcastleCramlington\n",
       "\n",
       "[327 rows x 2 columns]"
      ]
     },
     "execution_count": 14,
     "metadata": {},
     "output_type": "execute_result"
    }
   ],
   "source": [
    "catch_areas2"
   ]
  },
  {
   "cell_type": "markdown",
   "metadata": {
    "tags": []
   },
   "source": [
    "## PC Mapping"
   ]
  },
  {
   "cell_type": "code",
   "execution_count": 15,
   "metadata": {},
   "outputs": [
    {
     "name": "stdout",
     "output_type": "stream",
     "text": [
      "Connected to the DataWarehouse\n",
      "Result from query obtained\n",
      "Data stored in dataframe\n"
     ]
    }
   ],
   "source": [
    "# CA and pool onboarded drivers worked in \n",
    "query = \"\"\"\n",
    "\n",
    "\n",
    "SELECT d.stuart_driver_id,\n",
    "  --     d.applicant_fountain_id,\n",
    "       uam.application_fountain_id,\n",
    "       uam.postcode_found as driver_postCode,\n",
    "       uam.application_pool,\n",
    "       a.area_name_uscore,\n",
    "   --    a.area_name_cap,\n",
    "       a.area_name_clean,\n",
    "       a.catchment_area,\n",
    "       uam.lat as lat_driver, ---- Just in case\n",
    "       uam.long as long_driver---- Just in case\n",
    " --      z.zone_name\n",
    "\n",
    "FROM modeled\n",
    "\n",
    "INNER JOIN ops.uk_application_mapping uam\n",
    "    ON uam.application_fountain_id = d.applicant_fountain_id\n",
    "\n",
    "LEFT JOIN ops.area a\n",
    "    ON uam.application_pool = a.area_name_uscore\n",
    "\n",
    "WHERE d.zone_id = 2\n",
    "AND d.is_active = TRUE\n",
    "\n",
    "\"\"\"\n",
    "courier_mapping = get_data_from_warehouse(query)"
   ]
  },
  {
   "cell_type": "code",
   "execution_count": 16,
   "metadata": {},
   "outputs": [
    {
     "data": {
      "text/html": [
       "<div>\n",
       "<style scoped>\n",
       "    .dataframe tbody tr th:only-of-type {\n",
       "        vertical-align: middle;\n",
       "    }\n",
       "\n",
       "    .dataframe tbody tr th {\n",
       "        vertical-align: top;\n",
       "    }\n",
       "\n",
       "    .dataframe thead th {\n",
       "        text-align: right;\n",
       "    }\n",
       "</style>\n",
       "<table border=\"1\" class=\"dataframe\">\n",
       "  <thead>\n",
       "    <tr style=\"text-align: right;\">\n",
       "      <th></th>\n",
       "      <th>stuart_driver_id</th>\n",
       "      <th>application_fountain_id</th>\n",
       "      <th>driver_postcode</th>\n",
       "      <th>application_pool</th>\n",
       "      <th>area_name_uscore</th>\n",
       "      <th>area_name_clean</th>\n",
       "      <th>catchment_area</th>\n",
       "      <th>lat_driver</th>\n",
       "      <th>long_driver</th>\n",
       "    </tr>\n",
       "  </thead>\n",
       "  <tbody>\n",
       "    <tr>\n",
       "      <th>0</th>\n",
       "      <td>342534</td>\n",
       "      <td>6ad7fba2-dbab-4dcc-bcd5-d6bf4cb6f35b</td>\n",
       "      <td>W3 7PQ</td>\n",
       "      <td>Acton</td>\n",
       "      <td>Acton</td>\n",
       "      <td>Acton</td>\n",
       "      <td>London Inner Lower NW</td>\n",
       "      <td>51.518375</td>\n",
       "      <td>-0.252240</td>\n",
       "    </tr>\n",
       "    <tr>\n",
       "      <th>1</th>\n",
       "      <td>363113</td>\n",
       "      <td>c5a86b3a-9793-4d0e-b0d5-262f7c4c9b0a</td>\n",
       "      <td>SE17 3QF</td>\n",
       "      <td>Kennington</td>\n",
       "      <td>Kennington</td>\n",
       "      <td>Kennington</td>\n",
       "      <td>London Inner E</td>\n",
       "      <td>51.487968</td>\n",
       "      <td>-0.101614</td>\n",
       "    </tr>\n",
       "    <tr>\n",
       "      <th>2</th>\n",
       "      <td>346884</td>\n",
       "      <td>89462909-4473-4d13-89c4-d4331e222529</td>\n",
       "      <td>N15 3PX</td>\n",
       "      <td>Wood_Green</td>\n",
       "      <td>Wood_Green</td>\n",
       "      <td>Wood Green</td>\n",
       "      <td>London Outer N</td>\n",
       "      <td>51.586530</td>\n",
       "      <td>-0.095057</td>\n",
       "    </tr>\n",
       "    <tr>\n",
       "      <th>3</th>\n",
       "      <td>346537</td>\n",
       "      <td>1b023183-a8bb-4fa0-b8f7-5f2edfd34421</td>\n",
       "      <td>TW5 9SD</td>\n",
       "      <td>Cranford</td>\n",
       "      <td>Cranford</td>\n",
       "      <td>Cranford</td>\n",
       "      <td>London Outer Lower NW</td>\n",
       "      <td>51.479192</td>\n",
       "      <td>-0.413286</td>\n",
       "    </tr>\n",
       "    <tr>\n",
       "      <th>4</th>\n",
       "      <td>345808</td>\n",
       "      <td>359b26bf-acf6-4da5-b8b5-5a7cb3f99f6b</td>\n",
       "      <td>N7 9QD</td>\n",
       "      <td>Camden</td>\n",
       "      <td>Camden</td>\n",
       "      <td>Camden</td>\n",
       "      <td>London Inner N</td>\n",
       "      <td>51.546373</td>\n",
       "      <td>-0.126110</td>\n",
       "    </tr>\n",
       "    <tr>\n",
       "      <th>...</th>\n",
       "      <td>...</td>\n",
       "      <td>...</td>\n",
       "      <td>...</td>\n",
       "      <td>...</td>\n",
       "      <td>...</td>\n",
       "      <td>...</td>\n",
       "      <td>...</td>\n",
       "      <td>...</td>\n",
       "      <td>...</td>\n",
       "    </tr>\n",
       "    <tr>\n",
       "      <th>9506</th>\n",
       "      <td>466153</td>\n",
       "      <td>31ff5644-a4cd-43f1-b169-48cafd60e2c6</td>\n",
       "      <td>E11 3ES</td>\n",
       "      <td>Leyton</td>\n",
       "      <td>Leyton</td>\n",
       "      <td>Leyton</td>\n",
       "      <td>London Outer NE</td>\n",
       "      <td>51.560615</td>\n",
       "      <td>0.014000</td>\n",
       "    </tr>\n",
       "    <tr>\n",
       "      <th>9507</th>\n",
       "      <td>469604</td>\n",
       "      <td>afbfed9c-2a79-489c-81c0-14b7877b46a5</td>\n",
       "      <td>SE9 5DW</td>\n",
       "      <td>Eltham</td>\n",
       "      <td>Eltham</td>\n",
       "      <td>Eltham</td>\n",
       "      <td>London Outer E</td>\n",
       "      <td>51.450411</td>\n",
       "      <td>0.058959</td>\n",
       "    </tr>\n",
       "    <tr>\n",
       "      <th>9508</th>\n",
       "      <td>455302</td>\n",
       "      <td>55318247-d6aa-4ce0-b45e-825d1c3f33ad</td>\n",
       "      <td>E13 8ES</td>\n",
       "      <td>Canning_Town</td>\n",
       "      <td>Canning_Town</td>\n",
       "      <td>Canning Town</td>\n",
       "      <td>London Outer NE</td>\n",
       "      <td>51.520636</td>\n",
       "      <td>0.017021</td>\n",
       "    </tr>\n",
       "    <tr>\n",
       "      <th>9509</th>\n",
       "      <td>477312</td>\n",
       "      <td>168d49fc-f022-4cd4-934a-1448b7d47798</td>\n",
       "      <td>DA17 6JP</td>\n",
       "      <td>Thamesmead</td>\n",
       "      <td>Thamesmead</td>\n",
       "      <td>Thamesmead</td>\n",
       "      <td>London Outer E</td>\n",
       "      <td>51.492592</td>\n",
       "      <td>0.150435</td>\n",
       "    </tr>\n",
       "    <tr>\n",
       "      <th>9510</th>\n",
       "      <td>473752</td>\n",
       "      <td>af5ac8f6-f7bf-4bda-bd8b-2156a2eb3d61</td>\n",
       "      <td>E6 3EQ</td>\n",
       "      <td>East_Ham</td>\n",
       "      <td>East_Ham</td>\n",
       "      <td>East Ham</td>\n",
       "      <td>London Outer NE</td>\n",
       "      <td>51.526689</td>\n",
       "      <td>0.039851</td>\n",
       "    </tr>\n",
       "  </tbody>\n",
       "</table>\n",
       "<p>9511 rows × 9 columns</p>\n",
       "</div>"
      ],
      "text/plain": [
       "      stuart_driver_id               application_fountain_id driver_postcode  \\\n",
       "0               342534  6ad7fba2-dbab-4dcc-bcd5-d6bf4cb6f35b          W3 7PQ   \n",
       "1               363113  c5a86b3a-9793-4d0e-b0d5-262f7c4c9b0a        SE17 3QF   \n",
       "2               346884  89462909-4473-4d13-89c4-d4331e222529         N15 3PX   \n",
       "3               346537  1b023183-a8bb-4fa0-b8f7-5f2edfd34421         TW5 9SD   \n",
       "4               345808  359b26bf-acf6-4da5-b8b5-5a7cb3f99f6b          N7 9QD   \n",
       "...                ...                                   ...             ...   \n",
       "9506            466153  31ff5644-a4cd-43f1-b169-48cafd60e2c6         E11 3ES   \n",
       "9507            469604  afbfed9c-2a79-489c-81c0-14b7877b46a5         SE9 5DW   \n",
       "9508            455302  55318247-d6aa-4ce0-b45e-825d1c3f33ad         E13 8ES   \n",
       "9509            477312  168d49fc-f022-4cd4-934a-1448b7d47798        DA17 6JP   \n",
       "9510            473752  af5ac8f6-f7bf-4bda-bd8b-2156a2eb3d61          E6 3EQ   \n",
       "\n",
       "     application_pool area_name_uscore area_name_clean         catchment_area  \\\n",
       "0               Acton            Acton           Acton  London Inner Lower NW   \n",
       "1          Kennington       Kennington      Kennington         London Inner E   \n",
       "2          Wood_Green       Wood_Green      Wood Green         London Outer N   \n",
       "3            Cranford         Cranford        Cranford  London Outer Lower NW   \n",
       "4              Camden           Camden          Camden         London Inner N   \n",
       "...               ...              ...             ...                    ...   \n",
       "9506           Leyton           Leyton          Leyton        London Outer NE   \n",
       "9507           Eltham           Eltham          Eltham         London Outer E   \n",
       "9508     Canning_Town     Canning_Town    Canning Town        London Outer NE   \n",
       "9509       Thamesmead       Thamesmead      Thamesmead         London Outer E   \n",
       "9510         East_Ham         East_Ham        East Ham        London Outer NE   \n",
       "\n",
       "      lat_driver  long_driver  \n",
       "0      51.518375    -0.252240  \n",
       "1      51.487968    -0.101614  \n",
       "2      51.586530    -0.095057  \n",
       "3      51.479192    -0.413286  \n",
       "4      51.546373    -0.126110  \n",
       "...          ...          ...  \n",
       "9506   51.560615     0.014000  \n",
       "9507   51.450411     0.058959  \n",
       "9508   51.520636     0.017021  \n",
       "9509   51.492592     0.150435  \n",
       "9510   51.526689     0.039851  \n",
       "\n",
       "[9511 rows x 9 columns]"
      ]
     },
     "execution_count": 16,
     "metadata": {},
     "output_type": "execute_result"
    }
   ],
   "source": [
    "courier_mapping"
   ]
  },
  {
   "cell_type": "code",
   "execution_count": 17,
   "metadata": {},
   "outputs": [
    {
     "data": {
      "text/html": [
       "<div>\n",
       "<style scoped>\n",
       "    .dataframe tbody tr th:only-of-type {\n",
       "        vertical-align: middle;\n",
       "    }\n",
       "\n",
       "    .dataframe tbody tr th {\n",
       "        vertical-align: top;\n",
       "    }\n",
       "\n",
       "    .dataframe thead th {\n",
       "        text-align: right;\n",
       "    }\n",
       "</style>\n",
       "<table border=\"1\" class=\"dataframe\">\n",
       "  <thead>\n",
       "    <tr style=\"text-align: right;\">\n",
       "      <th></th>\n",
       "      <th>stuart_driver_id</th>\n",
       "      <th>lat_driver</th>\n",
       "      <th>long_driver</th>\n",
       "    </tr>\n",
       "  </thead>\n",
       "  <tbody>\n",
       "    <tr>\n",
       "      <th>count</th>\n",
       "      <td>9511.000000</td>\n",
       "      <td>9450.000000</td>\n",
       "      <td>9450.000000</td>\n",
       "    </tr>\n",
       "    <tr>\n",
       "      <th>mean</th>\n",
       "      <td>418922.626433</td>\n",
       "      <td>51.534036</td>\n",
       "      <td>-0.166695</td>\n",
       "    </tr>\n",
       "    <tr>\n",
       "      <th>std</th>\n",
       "      <td>43542.664967</td>\n",
       "      <td>0.293966</td>\n",
       "      <td>0.411841</td>\n",
       "    </tr>\n",
       "    <tr>\n",
       "      <th>min</th>\n",
       "      <td>339072.000000</td>\n",
       "      <td>50.339817</td>\n",
       "      <td>-4.978623</td>\n",
       "    </tr>\n",
       "    <tr>\n",
       "      <th>25%</th>\n",
       "      <td>385963.000000</td>\n",
       "      <td>51.448604</td>\n",
       "      <td>-0.252215</td>\n",
       "    </tr>\n",
       "    <tr>\n",
       "      <th>50%</th>\n",
       "      <td>410763.000000</td>\n",
       "      <td>51.522007</td>\n",
       "      <td>-0.107106</td>\n",
       "    </tr>\n",
       "    <tr>\n",
       "      <th>75%</th>\n",
       "      <td>462710.500000</td>\n",
       "      <td>51.567456</td>\n",
       "      <td>-0.010001</td>\n",
       "    </tr>\n",
       "    <tr>\n",
       "      <th>max</th>\n",
       "      <td>485805.000000</td>\n",
       "      <td>56.127844</td>\n",
       "      <td>1.122188</td>\n",
       "    </tr>\n",
       "  </tbody>\n",
       "</table>\n",
       "</div>"
      ],
      "text/plain": [
       "       stuart_driver_id   lat_driver  long_driver\n",
       "count       9511.000000  9450.000000  9450.000000\n",
       "mean      418922.626433    51.534036    -0.166695\n",
       "std        43542.664967     0.293966     0.411841\n",
       "min       339072.000000    50.339817    -4.978623\n",
       "25%       385963.000000    51.448604    -0.252215\n",
       "50%       410763.000000    51.522007    -0.107106\n",
       "75%       462710.500000    51.567456    -0.010001\n",
       "max       485805.000000    56.127844     1.122188"
      ]
     },
     "execution_count": 17,
     "metadata": {},
     "output_type": "execute_result"
    }
   ],
   "source": [
    "courier_mapping.describe()"
   ]
  },
  {
   "cell_type": "code",
   "execution_count": 18,
   "metadata": {},
   "outputs": [
    {
     "data": {
      "text/plain": [
       "stuart_driver_id             0\n",
       "application_fountain_id      0\n",
       "driver_postcode              0\n",
       "application_pool             0\n",
       "area_name_uscore           942\n",
       "area_name_clean            942\n",
       "catchment_area             942\n",
       "lat_driver                  61\n",
       "long_driver                 61\n",
       "dtype: int64"
      ]
     },
     "execution_count": 18,
     "metadata": {},
     "output_type": "execute_result"
    }
   ],
   "source": [
    "courier_mapping.isnull().sum()"
   ]
  },
  {
   "cell_type": "code",
   "execution_count": 19,
   "metadata": {},
   "outputs": [
    {
     "name": "stdout",
     "output_type": "stream",
     "text": [
      "9.904321312164862\n"
     ]
    }
   ],
   "source": [
    "# Percentage of couriers not living in CA\n",
    "not_in_CA = courier_mapping['catchment_area'].isnull().sum() * 100 / len(courier_mapping.catchment_area)\n",
    "print(not_in_CA)"
   ]
  },
  {
   "cell_type": "code",
   "execution_count": 20,
   "metadata": {},
   "outputs": [
    {
     "name": "stdout",
     "output_type": "stream",
     "text": [
      "90.09567868783513\n"
     ]
    }
   ],
   "source": [
    "# Percentage of couriers living in CA\n",
    "in_CA = courier_mapping['catchment_area'].notnull().sum() * 100 / len(courier_mapping.catchment_area)\n",
    "print(in_CA)"
   ]
  },
  {
   "cell_type": "code",
   "execution_count": 21,
   "metadata": {},
   "outputs": [],
   "source": [
    "courier_inCA = courier_mapping"
   ]
  },
  {
   "cell_type": "code",
   "execution_count": 49,
   "metadata": {},
   "outputs": [
    {
     "data": {
      "text/html": [
       "<div>\n",
       "<style scoped>\n",
       "    .dataframe tbody tr th:only-of-type {\n",
       "        vertical-align: middle;\n",
       "    }\n",
       "\n",
       "    .dataframe tbody tr th {\n",
       "        vertical-align: top;\n",
       "    }\n",
       "\n",
       "    .dataframe thead th {\n",
       "        text-align: right;\n",
       "    }\n",
       "</style>\n",
       "<table border=\"1\" class=\"dataframe\">\n",
       "  <thead>\n",
       "    <tr style=\"text-align: right;\">\n",
       "      <th></th>\n",
       "      <th>stuart_driver_id</th>\n",
       "      <th>application_fountain_id</th>\n",
       "      <th>driver_postcode</th>\n",
       "      <th>application_pool</th>\n",
       "      <th>area_name_uscore</th>\n",
       "      <th>area_name_clean</th>\n",
       "      <th>catchment_area</th>\n",
       "      <th>lat_driver</th>\n",
       "      <th>long_driver</th>\n",
       "      <th>in_CA</th>\n",
       "    </tr>\n",
       "  </thead>\n",
       "  <tbody>\n",
       "    <tr>\n",
       "      <th>0</th>\n",
       "      <td>342534</td>\n",
       "      <td>6ad7fba2-dbab-4dcc-bcd5-d6bf4cb6f35b</td>\n",
       "      <td>W3 7PQ</td>\n",
       "      <td>Acton</td>\n",
       "      <td>Acton</td>\n",
       "      <td>Acton</td>\n",
       "      <td>London Inner Lower NW</td>\n",
       "      <td>51.518375</td>\n",
       "      <td>-0.252240</td>\n",
       "      <td>Yes</td>\n",
       "    </tr>\n",
       "    <tr>\n",
       "      <th>1</th>\n",
       "      <td>363113</td>\n",
       "      <td>c5a86b3a-9793-4d0e-b0d5-262f7c4c9b0a</td>\n",
       "      <td>SE17 3QF</td>\n",
       "      <td>Kennington</td>\n",
       "      <td>Kennington</td>\n",
       "      <td>Kennington</td>\n",
       "      <td>London Inner E</td>\n",
       "      <td>51.487968</td>\n",
       "      <td>-0.101614</td>\n",
       "      <td>Yes</td>\n",
       "    </tr>\n",
       "    <tr>\n",
       "      <th>2</th>\n",
       "      <td>346884</td>\n",
       "      <td>89462909-4473-4d13-89c4-d4331e222529</td>\n",
       "      <td>N15 3PX</td>\n",
       "      <td>Wood_Green</td>\n",
       "      <td>Wood_Green</td>\n",
       "      <td>Wood Green</td>\n",
       "      <td>London Outer N</td>\n",
       "      <td>51.586530</td>\n",
       "      <td>-0.095057</td>\n",
       "      <td>Yes</td>\n",
       "    </tr>\n",
       "    <tr>\n",
       "      <th>3</th>\n",
       "      <td>346537</td>\n",
       "      <td>1b023183-a8bb-4fa0-b8f7-5f2edfd34421</td>\n",
       "      <td>TW5 9SD</td>\n",
       "      <td>Cranford</td>\n",
       "      <td>Cranford</td>\n",
       "      <td>Cranford</td>\n",
       "      <td>London Outer Lower NW</td>\n",
       "      <td>51.479192</td>\n",
       "      <td>-0.413286</td>\n",
       "      <td>Yes</td>\n",
       "    </tr>\n",
       "    <tr>\n",
       "      <th>4</th>\n",
       "      <td>345808</td>\n",
       "      <td>359b26bf-acf6-4da5-b8b5-5a7cb3f99f6b</td>\n",
       "      <td>N7 9QD</td>\n",
       "      <td>Camden</td>\n",
       "      <td>Camden</td>\n",
       "      <td>Camden</td>\n",
       "      <td>London Inner N</td>\n",
       "      <td>51.546373</td>\n",
       "      <td>-0.126110</td>\n",
       "      <td>Yes</td>\n",
       "    </tr>\n",
       "    <tr>\n",
       "      <th>...</th>\n",
       "      <td>...</td>\n",
       "      <td>...</td>\n",
       "      <td>...</td>\n",
       "      <td>...</td>\n",
       "      <td>...</td>\n",
       "      <td>...</td>\n",
       "      <td>...</td>\n",
       "      <td>...</td>\n",
       "      <td>...</td>\n",
       "      <td>...</td>\n",
       "    </tr>\n",
       "    <tr>\n",
       "      <th>9506</th>\n",
       "      <td>466153</td>\n",
       "      <td>31ff5644-a4cd-43f1-b169-48cafd60e2c6</td>\n",
       "      <td>E11 3ES</td>\n",
       "      <td>Leyton</td>\n",
       "      <td>Leyton</td>\n",
       "      <td>Leyton</td>\n",
       "      <td>London Outer NE</td>\n",
       "      <td>51.560615</td>\n",
       "      <td>0.014000</td>\n",
       "      <td>Yes</td>\n",
       "    </tr>\n",
       "    <tr>\n",
       "      <th>9507</th>\n",
       "      <td>469604</td>\n",
       "      <td>afbfed9c-2a79-489c-81c0-14b7877b46a5</td>\n",
       "      <td>SE9 5DW</td>\n",
       "      <td>Eltham</td>\n",
       "      <td>Eltham</td>\n",
       "      <td>Eltham</td>\n",
       "      <td>London Outer E</td>\n",
       "      <td>51.450411</td>\n",
       "      <td>0.058959</td>\n",
       "      <td>Yes</td>\n",
       "    </tr>\n",
       "    <tr>\n",
       "      <th>9508</th>\n",
       "      <td>455302</td>\n",
       "      <td>55318247-d6aa-4ce0-b45e-825d1c3f33ad</td>\n",
       "      <td>E13 8ES</td>\n",
       "      <td>Canning_Town</td>\n",
       "      <td>Canning_Town</td>\n",
       "      <td>Canning Town</td>\n",
       "      <td>London Outer NE</td>\n",
       "      <td>51.520636</td>\n",
       "      <td>0.017021</td>\n",
       "      <td>Yes</td>\n",
       "    </tr>\n",
       "    <tr>\n",
       "      <th>9509</th>\n",
       "      <td>477312</td>\n",
       "      <td>168d49fc-f022-4cd4-934a-1448b7d47798</td>\n",
       "      <td>DA17 6JP</td>\n",
       "      <td>Thamesmead</td>\n",
       "      <td>Thamesmead</td>\n",
       "      <td>Thamesmead</td>\n",
       "      <td>London Outer E</td>\n",
       "      <td>51.492592</td>\n",
       "      <td>0.150435</td>\n",
       "      <td>Yes</td>\n",
       "    </tr>\n",
       "    <tr>\n",
       "      <th>9510</th>\n",
       "      <td>473752</td>\n",
       "      <td>af5ac8f6-f7bf-4bda-bd8b-2156a2eb3d61</td>\n",
       "      <td>E6 3EQ</td>\n",
       "      <td>East_Ham</td>\n",
       "      <td>East_Ham</td>\n",
       "      <td>East Ham</td>\n",
       "      <td>London Outer NE</td>\n",
       "      <td>51.526689</td>\n",
       "      <td>0.039851</td>\n",
       "      <td>Yes</td>\n",
       "    </tr>\n",
       "  </tbody>\n",
       "</table>\n",
       "<p>9511 rows × 10 columns</p>\n",
       "</div>"
      ],
      "text/plain": [
       "      stuart_driver_id               application_fountain_id driver_postcode  \\\n",
       "0               342534  6ad7fba2-dbab-4dcc-bcd5-d6bf4cb6f35b          W3 7PQ   \n",
       "1               363113  c5a86b3a-9793-4d0e-b0d5-262f7c4c9b0a        SE17 3QF   \n",
       "2               346884  89462909-4473-4d13-89c4-d4331e222529         N15 3PX   \n",
       "3               346537  1b023183-a8bb-4fa0-b8f7-5f2edfd34421         TW5 9SD   \n",
       "4               345808  359b26bf-acf6-4da5-b8b5-5a7cb3f99f6b          N7 9QD   \n",
       "...                ...                                   ...             ...   \n",
       "9506            466153  31ff5644-a4cd-43f1-b169-48cafd60e2c6         E11 3ES   \n",
       "9507            469604  afbfed9c-2a79-489c-81c0-14b7877b46a5         SE9 5DW   \n",
       "9508            455302  55318247-d6aa-4ce0-b45e-825d1c3f33ad         E13 8ES   \n",
       "9509            477312  168d49fc-f022-4cd4-934a-1448b7d47798        DA17 6JP   \n",
       "9510            473752  af5ac8f6-f7bf-4bda-bd8b-2156a2eb3d61          E6 3EQ   \n",
       "\n",
       "     application_pool area_name_uscore area_name_clean         catchment_area  \\\n",
       "0               Acton            Acton           Acton  London Inner Lower NW   \n",
       "1          Kennington       Kennington      Kennington         London Inner E   \n",
       "2          Wood_Green       Wood_Green      Wood Green         London Outer N   \n",
       "3            Cranford         Cranford        Cranford  London Outer Lower NW   \n",
       "4              Camden           Camden          Camden         London Inner N   \n",
       "...               ...              ...             ...                    ...   \n",
       "9506           Leyton           Leyton          Leyton        London Outer NE   \n",
       "9507           Eltham           Eltham          Eltham         London Outer E   \n",
       "9508     Canning_Town     Canning_Town    Canning Town        London Outer NE   \n",
       "9509       Thamesmead       Thamesmead      Thamesmead         London Outer E   \n",
       "9510         East_Ham         East_Ham        East Ham        London Outer NE   \n",
       "\n",
       "      lat_driver  long_driver in_CA  \n",
       "0      51.518375    -0.252240   Yes  \n",
       "1      51.487968    -0.101614   Yes  \n",
       "2      51.586530    -0.095057   Yes  \n",
       "3      51.479192    -0.413286   Yes  \n",
       "4      51.546373    -0.126110   Yes  \n",
       "...          ...          ...   ...  \n",
       "9506   51.560615     0.014000   Yes  \n",
       "9507   51.450411     0.058959   Yes  \n",
       "9508   51.520636     0.017021   Yes  \n",
       "9509   51.492592     0.150435   Yes  \n",
       "9510   51.526689     0.039851   Yes  \n",
       "\n",
       "[9511 rows x 10 columns]"
      ]
     },
     "execution_count": 49,
     "metadata": {},
     "output_type": "execute_result"
    }
   ],
   "source": [
    "courier_mapping['in_CA']= np.where(courier_mapping['catchment_area'].notnull() , 'Yes' , 'No')\n",
    "courier_mapping"
   ]
  },
  {
   "cell_type": "code",
   "execution_count": 50,
   "metadata": {},
   "outputs": [
    {
     "data": {
      "text/html": [
       "<div>\n",
       "<style scoped>\n",
       "    .dataframe tbody tr th:only-of-type {\n",
       "        vertical-align: middle;\n",
       "    }\n",
       "\n",
       "    .dataframe tbody tr th {\n",
       "        vertical-align: top;\n",
       "    }\n",
       "\n",
       "    .dataframe thead th {\n",
       "        text-align: right;\n",
       "    }\n",
       "</style>\n",
       "<table border=\"1\" class=\"dataframe\">\n",
       "  <thead>\n",
       "    <tr style=\"text-align: right;\">\n",
       "      <th></th>\n",
       "      <th>in_CA</th>\n",
       "      <th>stuart_driver_id</th>\n",
       "    </tr>\n",
       "  </thead>\n",
       "  <tbody>\n",
       "    <tr>\n",
       "      <th>0</th>\n",
       "      <td>No</td>\n",
       "      <td>942</td>\n",
       "    </tr>\n",
       "    <tr>\n",
       "      <th>1</th>\n",
       "      <td>Yes</td>\n",
       "      <td>8569</td>\n",
       "    </tr>\n",
       "  </tbody>\n",
       "</table>\n",
       "</div>"
      ],
      "text/plain": [
       "  in_CA  stuart_driver_id\n",
       "0    No               942\n",
       "1   Yes              8569"
      ]
     },
     "execution_count": 50,
     "metadata": {},
     "output_type": "execute_result"
    }
   ],
   "source": [
    "in_CA = courier_mapping.groupby('in_CA').agg({'stuart_driver_id':'count'}).reset_index()\n",
    "in_CA"
   ]
  },
  {
   "cell_type": "code",
   "execution_count": 72,
   "metadata": {},
   "outputs": [],
   "source": [
    "# Percentage of drivers who live within CA\n",
    "in_CA['Percentage_drivers_inCA'] = (in_CA['stuart_driver_id']/in_CA['stuart_driver_id'].sum()) * 100\n",
    "in_CA = in_CA.round(0)"
   ]
  },
  {
   "cell_type": "code",
   "execution_count": 83,
   "metadata": {},
   "outputs": [
    {
     "data": {
      "application/vnd.plotly.v1+json": {
       "config": {
        "plotlyServerURL": "https://plot.ly"
       },
       "data": [
        {
         "alignmentgroup": "True",
         "hovertemplate": "in_CA=%{x}<br>Percentage_drivers_inCA=%{text}<extra></extra>",
         "legendgroup": "",
         "marker": {
          "color": "#636efa",
          "pattern": {
           "shape": ""
          }
         },
         "name": "",
         "offsetgroup": "",
         "orientation": "v",
         "showlegend": false,
         "text": [
          10,
          90
         ],
         "textposition": "auto",
         "type": "bar",
         "x": [
          "No",
          "Yes"
         ],
         "xaxis": "x",
         "y": [
          10,
          90
         ],
         "yaxis": "y"
        }
       ],
       "layout": {
        "autosize": true,
        "barmode": "relative",
        "legend": {
         "tracegroupgap": 0
        },
        "template": {
         "data": {
          "bar": [
           {
            "error_x": {
             "color": "#2a3f5f"
            },
            "error_y": {
             "color": "#2a3f5f"
            },
            "marker": {
             "line": {
              "color": "#E5ECF6",
              "width": 0.5
             },
             "pattern": {
              "fillmode": "overlay",
              "size": 10,
              "solidity": 0.2
             }
            },
            "type": "bar"
           }
          ],
          "barpolar": [
           {
            "marker": {
             "line": {
              "color": "#E5ECF6",
              "width": 0.5
             },
             "pattern": {
              "fillmode": "overlay",
              "size": 10,
              "solidity": 0.2
             }
            },
            "type": "barpolar"
           }
          ],
          "carpet": [
           {
            "aaxis": {
             "endlinecolor": "#2a3f5f",
             "gridcolor": "white",
             "linecolor": "white",
             "minorgridcolor": "white",
             "startlinecolor": "#2a3f5f"
            },
            "baxis": {
             "endlinecolor": "#2a3f5f",
             "gridcolor": "white",
             "linecolor": "white",
             "minorgridcolor": "white",
             "startlinecolor": "#2a3f5f"
            },
            "type": "carpet"
           }
          ],
          "choropleth": [
           {
            "colorbar": {
             "outlinewidth": 0,
             "ticks": ""
            },
            "type": "choropleth"
           }
          ],
          "contour": [
           {
            "colorbar": {
             "outlinewidth": 0,
             "ticks": ""
            },
            "colorscale": [
             [
              0,
              "#0d0887"
             ],
             [
              0.1111111111111111,
              "#46039f"
             ],
             [
              0.2222222222222222,
              "#7201a8"
             ],
             [
              0.3333333333333333,
              "#9c179e"
             ],
             [
              0.4444444444444444,
              "#bd3786"
             ],
             [
              0.5555555555555556,
              "#d8576b"
             ],
             [
              0.6666666666666666,
              "#ed7953"
             ],
             [
              0.7777777777777778,
              "#fb9f3a"
             ],
             [
              0.8888888888888888,
              "#fdca26"
             ],
             [
              1,
              "#f0f921"
             ]
            ],
            "type": "contour"
           }
          ],
          "contourcarpet": [
           {
            "colorbar": {
             "outlinewidth": 0,
             "ticks": ""
            },
            "type": "contourcarpet"
           }
          ],
          "heatmap": [
           {
            "colorbar": {
             "outlinewidth": 0,
             "ticks": ""
            },
            "colorscale": [
             [
              0,
              "#0d0887"
             ],
             [
              0.1111111111111111,
              "#46039f"
             ],
             [
              0.2222222222222222,
              "#7201a8"
             ],
             [
              0.3333333333333333,
              "#9c179e"
             ],
             [
              0.4444444444444444,
              "#bd3786"
             ],
             [
              0.5555555555555556,
              "#d8576b"
             ],
             [
              0.6666666666666666,
              "#ed7953"
             ],
             [
              0.7777777777777778,
              "#fb9f3a"
             ],
             [
              0.8888888888888888,
              "#fdca26"
             ],
             [
              1,
              "#f0f921"
             ]
            ],
            "type": "heatmap"
           }
          ],
          "heatmapgl": [
           {
            "colorbar": {
             "outlinewidth": 0,
             "ticks": ""
            },
            "colorscale": [
             [
              0,
              "#0d0887"
             ],
             [
              0.1111111111111111,
              "#46039f"
             ],
             [
              0.2222222222222222,
              "#7201a8"
             ],
             [
              0.3333333333333333,
              "#9c179e"
             ],
             [
              0.4444444444444444,
              "#bd3786"
             ],
             [
              0.5555555555555556,
              "#d8576b"
             ],
             [
              0.6666666666666666,
              "#ed7953"
             ],
             [
              0.7777777777777778,
              "#fb9f3a"
             ],
             [
              0.8888888888888888,
              "#fdca26"
             ],
             [
              1,
              "#f0f921"
             ]
            ],
            "type": "heatmapgl"
           }
          ],
          "histogram": [
           {
            "marker": {
             "pattern": {
              "fillmode": "overlay",
              "size": 10,
              "solidity": 0.2
             }
            },
            "type": "histogram"
           }
          ],
          "histogram2d": [
           {
            "colorbar": {
             "outlinewidth": 0,
             "ticks": ""
            },
            "colorscale": [
             [
              0,
              "#0d0887"
             ],
             [
              0.1111111111111111,
              "#46039f"
             ],
             [
              0.2222222222222222,
              "#7201a8"
             ],
             [
              0.3333333333333333,
              "#9c179e"
             ],
             [
              0.4444444444444444,
              "#bd3786"
             ],
             [
              0.5555555555555556,
              "#d8576b"
             ],
             [
              0.6666666666666666,
              "#ed7953"
             ],
             [
              0.7777777777777778,
              "#fb9f3a"
             ],
             [
              0.8888888888888888,
              "#fdca26"
             ],
             [
              1,
              "#f0f921"
             ]
            ],
            "type": "histogram2d"
           }
          ],
          "histogram2dcontour": [
           {
            "colorbar": {
             "outlinewidth": 0,
             "ticks": ""
            },
            "colorscale": [
             [
              0,
              "#0d0887"
             ],
             [
              0.1111111111111111,
              "#46039f"
             ],
             [
              0.2222222222222222,
              "#7201a8"
             ],
             [
              0.3333333333333333,
              "#9c179e"
             ],
             [
              0.4444444444444444,
              "#bd3786"
             ],
             [
              0.5555555555555556,
              "#d8576b"
             ],
             [
              0.6666666666666666,
              "#ed7953"
             ],
             [
              0.7777777777777778,
              "#fb9f3a"
             ],
             [
              0.8888888888888888,
              "#fdca26"
             ],
             [
              1,
              "#f0f921"
             ]
            ],
            "type": "histogram2dcontour"
           }
          ],
          "mesh3d": [
           {
            "colorbar": {
             "outlinewidth": 0,
             "ticks": ""
            },
            "type": "mesh3d"
           }
          ],
          "parcoords": [
           {
            "line": {
             "colorbar": {
              "outlinewidth": 0,
              "ticks": ""
             }
            },
            "type": "parcoords"
           }
          ],
          "pie": [
           {
            "automargin": true,
            "type": "pie"
           }
          ],
          "scatter": [
           {
            "marker": {
             "colorbar": {
              "outlinewidth": 0,
              "ticks": ""
             }
            },
            "type": "scatter"
           }
          ],
          "scatter3d": [
           {
            "line": {
             "colorbar": {
              "outlinewidth": 0,
              "ticks": ""
             }
            },
            "marker": {
             "colorbar": {
              "outlinewidth": 0,
              "ticks": ""
             }
            },
            "type": "scatter3d"
           }
          ],
          "scattercarpet": [
           {
            "marker": {
             "colorbar": {
              "outlinewidth": 0,
              "ticks": ""
             }
            },
            "type": "scattercarpet"
           }
          ],
          "scattergeo": [
           {
            "marker": {
             "colorbar": {
              "outlinewidth": 0,
              "ticks": ""
             }
            },
            "type": "scattergeo"
           }
          ],
          "scattergl": [
           {
            "marker": {
             "colorbar": {
              "outlinewidth": 0,
              "ticks": ""
             }
            },
            "type": "scattergl"
           }
          ],
          "scattermapbox": [
           {
            "marker": {
             "colorbar": {
              "outlinewidth": 0,
              "ticks": ""
             }
            },
            "type": "scattermapbox"
           }
          ],
          "scatterpolar": [
           {
            "marker": {
             "colorbar": {
              "outlinewidth": 0,
              "ticks": ""
             }
            },
            "type": "scatterpolar"
           }
          ],
          "scatterpolargl": [
           {
            "marker": {
             "colorbar": {
              "outlinewidth": 0,
              "ticks": ""
             }
            },
            "type": "scatterpolargl"
           }
          ],
          "scatterternary": [
           {
            "marker": {
             "colorbar": {
              "outlinewidth": 0,
              "ticks": ""
             }
            },
            "type": "scatterternary"
           }
          ],
          "surface": [
           {
            "colorbar": {
             "outlinewidth": 0,
             "ticks": ""
            },
            "colorscale": [
             [
              0,
              "#0d0887"
             ],
             [
              0.1111111111111111,
              "#46039f"
             ],
             [
              0.2222222222222222,
              "#7201a8"
             ],
             [
              0.3333333333333333,
              "#9c179e"
             ],
             [
              0.4444444444444444,
              "#bd3786"
             ],
             [
              0.5555555555555556,
              "#d8576b"
             ],
             [
              0.6666666666666666,
              "#ed7953"
             ],
             [
              0.7777777777777778,
              "#fb9f3a"
             ],
             [
              0.8888888888888888,
              "#fdca26"
             ],
             [
              1,
              "#f0f921"
             ]
            ],
            "type": "surface"
           }
          ],
          "table": [
           {
            "cells": {
             "fill": {
              "color": "#EBF0F8"
             },
             "line": {
              "color": "white"
             }
            },
            "header": {
             "fill": {
              "color": "#C8D4E3"
             },
             "line": {
              "color": "white"
             }
            },
            "type": "table"
           }
          ]
         },
         "layout": {
          "annotationdefaults": {
           "arrowcolor": "#2a3f5f",
           "arrowhead": 0,
           "arrowwidth": 1
          },
          "autotypenumbers": "strict",
          "coloraxis": {
           "colorbar": {
            "outlinewidth": 0,
            "ticks": ""
           }
          },
          "colorscale": {
           "diverging": [
            [
             0,
             "#8e0152"
            ],
            [
             0.1,
             "#c51b7d"
            ],
            [
             0.2,
             "#de77ae"
            ],
            [
             0.3,
             "#f1b6da"
            ],
            [
             0.4,
             "#fde0ef"
            ],
            [
             0.5,
             "#f7f7f7"
            ],
            [
             0.6,
             "#e6f5d0"
            ],
            [
             0.7,
             "#b8e186"
            ],
            [
             0.8,
             "#7fbc41"
            ],
            [
             0.9,
             "#4d9221"
            ],
            [
             1,
             "#276419"
            ]
           ],
           "sequential": [
            [
             0,
             "#0d0887"
            ],
            [
             0.1111111111111111,
             "#46039f"
            ],
            [
             0.2222222222222222,
             "#7201a8"
            ],
            [
             0.3333333333333333,
             "#9c179e"
            ],
            [
             0.4444444444444444,
             "#bd3786"
            ],
            [
             0.5555555555555556,
             "#d8576b"
            ],
            [
             0.6666666666666666,
             "#ed7953"
            ],
            [
             0.7777777777777778,
             "#fb9f3a"
            ],
            [
             0.8888888888888888,
             "#fdca26"
            ],
            [
             1,
             "#f0f921"
            ]
           ],
           "sequentialminus": [
            [
             0,
             "#0d0887"
            ],
            [
             0.1111111111111111,
             "#46039f"
            ],
            [
             0.2222222222222222,
             "#7201a8"
            ],
            [
             0.3333333333333333,
             "#9c179e"
            ],
            [
             0.4444444444444444,
             "#bd3786"
            ],
            [
             0.5555555555555556,
             "#d8576b"
            ],
            [
             0.6666666666666666,
             "#ed7953"
            ],
            [
             0.7777777777777778,
             "#fb9f3a"
            ],
            [
             0.8888888888888888,
             "#fdca26"
            ],
            [
             1,
             "#f0f921"
            ]
           ]
          },
          "colorway": [
           "#636efa",
           "#EF553B",
           "#00cc96",
           "#ab63fa",
           "#FFA15A",
           "#19d3f3",
           "#FF6692",
           "#B6E880",
           "#FF97FF",
           "#FECB52"
          ],
          "font": {
           "color": "#2a3f5f"
          },
          "geo": {
           "bgcolor": "white",
           "lakecolor": "white",
           "landcolor": "#E5ECF6",
           "showlakes": true,
           "showland": true,
           "subunitcolor": "white"
          },
          "hoverlabel": {
           "align": "left"
          },
          "hovermode": "closest",
          "mapbox": {
           "style": "light"
          },
          "paper_bgcolor": "white",
          "plot_bgcolor": "#E5ECF6",
          "polar": {
           "angularaxis": {
            "gridcolor": "white",
            "linecolor": "white",
            "ticks": ""
           },
           "bgcolor": "#E5ECF6",
           "radialaxis": {
            "gridcolor": "white",
            "linecolor": "white",
            "ticks": ""
           }
          },
          "scene": {
           "xaxis": {
            "backgroundcolor": "#E5ECF6",
            "gridcolor": "white",
            "gridwidth": 2,
            "linecolor": "white",
            "showbackground": true,
            "ticks": "",
            "zerolinecolor": "white"
           },
           "yaxis": {
            "backgroundcolor": "#E5ECF6",
            "gridcolor": "white",
            "gridwidth": 2,
            "linecolor": "white",
            "showbackground": true,
            "ticks": "",
            "zerolinecolor": "white"
           },
           "zaxis": {
            "backgroundcolor": "#E5ECF6",
            "gridcolor": "white",
            "gridwidth": 2,
            "linecolor": "white",
            "showbackground": true,
            "ticks": "",
            "zerolinecolor": "white"
           }
          },
          "shapedefaults": {
           "line": {
            "color": "#2a3f5f"
           }
          },
          "ternary": {
           "aaxis": {
            "gridcolor": "white",
            "linecolor": "white",
            "ticks": ""
           },
           "baxis": {
            "gridcolor": "white",
            "linecolor": "white",
            "ticks": ""
           },
           "bgcolor": "#E5ECF6",
           "caxis": {
            "gridcolor": "white",
            "linecolor": "white",
            "ticks": ""
           }
          },
          "title": {
           "x": 0.05
          },
          "xaxis": {
           "automargin": true,
           "gridcolor": "white",
           "linecolor": "white",
           "ticks": "",
           "title": {
            "standoff": 15
           },
           "zerolinecolor": "white",
           "zerolinewidth": 2
          },
          "yaxis": {
           "automargin": true,
           "gridcolor": "white",
           "linecolor": "white",
           "ticks": "",
           "title": {
            "standoff": 15
           },
           "zerolinecolor": "white",
           "zerolinewidth": 2
          }
         }
        },
        "title": {
         "text": "Percentage of Couriers Within CA"
        },
        "xaxis": {
         "anchor": "y",
         "autorange": true,
         "domain": [
          0,
          1
         ],
         "range": [
          -0.5,
          1.5
         ],
         "title": {
          "text": "in_CA"
         },
         "type": "category"
        },
        "yaxis": {
         "anchor": "x",
         "autorange": true,
         "domain": [
          0,
          1
         ],
         "range": [
          0,
          94.73684210526315
         ],
         "title": {
          "text": "Percentage_drivers_inCA"
         },
         "type": "linear"
        }
       }
      },
      "image/png": "[encoded data removed]",
      "text/html": [
       "<div>                            <div id=\"fa4abc0c-4c3f-487a-bb31-8750ae7d8d5f\" class=\"plotly-graph-div\" style=\"height:525px; width:100%;\"></div>            <script type=\"text/javascript\">                require([\"plotly\"], function(Plotly) {                    window.PLOTLYENV=window.PLOTLYENV || {};                                    if (document.getElementById(\"fa4abc0c-4c3f-487a-bb31-8750ae7d8d5f\")) {                    Plotly.newPlot(                        \"fa4abc0c-4c3f-487a-bb31-8750ae7d8d5f\",                        [{\"alignmentgroup\":\"True\",\"hovertemplate\":\"in_CA=%{x}<br>Percentage_drivers_inCA=%{text}<extra></extra>\",\"legendgroup\":\"\",\"marker\":{\"color\":\"#636efa\",\"pattern\":{\"shape\":\"\"}},\"name\":\"\",\"offsetgroup\":\"\",\"orientation\":\"v\",\"showlegend\":false,\"text\":[10.0,90.0],\"textposition\":\"auto\",\"x\":[\"No\",\"Yes\"],\"xaxis\":\"x\",\"y\":[10.0,90.0],\"yaxis\":\"y\",\"type\":\"bar\"}],                        {\"template\":{\"data\":{\"bar\":[{\"error_x\":{\"color\":\"#2a3f5f\"},\"error_y\":{\"color\":\"#2a3f5f\"},\"marker\":{\"line\":{\"color\":\"#E5ECF6\",\"width\":0.5},\"pattern\":{\"fillmode\":\"overlay\",\"size\":10,\"solidity\":0.2}},\"type\":\"bar\"}],\"barpolar\":[{\"marker\":{\"line\":{\"color\":\"#E5ECF6\",\"width\":0.5},\"pattern\":{\"fillmode\":\"overlay\",\"size\":10,\"solidity\":0.2}},\"type\":\"barpolar\"}],\"carpet\":[{\"aaxis\":{\"endlinecolor\":\"#2a3f5f\",\"gridcolor\":\"white\",\"linecolor\":\"white\",\"minorgridcolor\":\"white\",\"startlinecolor\":\"#2a3f5f\"},\"baxis\":{\"endlinecolor\":\"#2a3f5f\",\"gridcolor\":\"white\",\"linecolor\":\"white\",\"minorgridcolor\":\"white\",\"startlinecolor\":\"#2a3f5f\"},\"type\":\"carpet\"}],\"choropleth\":[{\"colorbar\":{\"outlinewidth\":0,\"ticks\":\"\"},\"type\":\"choropleth\"}],\"contour\":[{\"colorbar\":{\"outlinewidth\":0,\"ticks\":\"\"},\"colorscale\":[[0.0,\"#0d0887\"],[0.1111111111111111,\"#46039f\"],[0.2222222222222222,\"#7201a8\"],[0.3333333333333333,\"#9c179e\"],[0.4444444444444444,\"#bd3786\"],[0.5555555555555556,\"#d8576b\"],[0.6666666666666666,\"#ed7953\"],[0.7777777777777778,\"#fb9f3a\"],[0.8888888888888888,\"#fdca26\"],[1.0,\"#f0f921\"]],\"type\":\"contour\"}],\"contourcarpet\":[{\"colorbar\":{\"outlinewidth\":0,\"ticks\":\"\"},\"type\":\"contourcarpet\"}],\"heatmap\":[{\"colorbar\":{\"outlinewidth\":0,\"ticks\":\"\"},\"colorscale\":[[0.0,\"#0d0887\"],[0.1111111111111111,\"#46039f\"],[0.2222222222222222,\"#7201a8\"],[0.3333333333333333,\"#9c179e\"],[0.4444444444444444,\"#bd3786\"],[0.5555555555555556,\"#d8576b\"],[0.6666666666666666,\"#ed7953\"],[0.7777777777777778,\"#fb9f3a\"],[0.8888888888888888,\"#fdca26\"],[1.0,\"#f0f921\"]],\"type\":\"heatmap\"}],\"heatmapgl\":[{\"colorbar\":{\"outlinewidth\":0,\"ticks\":\"\"},\"colorscale\":[[0.0,\"#0d0887\"],[0.1111111111111111,\"#46039f\"],[0.2222222222222222,\"#7201a8\"],[0.3333333333333333,\"#9c179e\"],[0.4444444444444444,\"#bd3786\"],[0.5555555555555556,\"#d8576b\"],[0.6666666666666666,\"#ed7953\"],[0.7777777777777778,\"#fb9f3a\"],[0.8888888888888888,\"#fdca26\"],[1.0,\"#f0f921\"]],\"type\":\"heatmapgl\"}],\"histogram\":[{\"marker\":{\"pattern\":{\"fillmode\":\"overlay\",\"size\":10,\"solidity\":0.2}},\"type\":\"histogram\"}],\"histogram2d\":[{\"colorbar\":{\"outlinewidth\":0,\"ticks\":\"\"},\"colorscale\":[[0.0,\"#0d0887\"],[0.1111111111111111,\"#46039f\"],[0.2222222222222222,\"#7201a8\"],[0.3333333333333333,\"#9c179e\"],[0.4444444444444444,\"#bd3786\"],[0.5555555555555556,\"#d8576b\"],[0.6666666666666666,\"#ed7953\"],[0.7777777777777778,\"#fb9f3a\"],[0.8888888888888888,\"#fdca26\"],[1.0,\"#f0f921\"]],\"type\":\"histogram2d\"}],\"histogram2dcontour\":[{\"colorbar\":{\"outlinewidth\":0,\"ticks\":\"\"},\"colorscale\":[[0.0,\"#0d0887\"],[0.1111111111111111,\"#46039f\"],[0.2222222222222222,\"#7201a8\"],[0.3333333333333333,\"#9c179e\"],[0.4444444444444444,\"#bd3786\"],[0.5555555555555556,\"#d8576b\"],[0.6666666666666666,\"#ed7953\"],[0.7777777777777778,\"#fb9f3a\"],[0.8888888888888888,\"#fdca26\"],[1.0,\"#f0f921\"]],\"type\":\"histogram2dcontour\"}],\"mesh3d\":[{\"colorbar\":{\"outlinewidth\":0,\"ticks\":\"\"},\"type\":\"mesh3d\"}],\"parcoords\":[{\"line\":{\"colorbar\":{\"outlinewidth\":0,\"ticks\":\"\"}},\"type\":\"parcoords\"}],\"pie\":[{\"automargin\":true,\"type\":\"pie\"}],\"scatter\":[{\"marker\":{\"colorbar\":{\"outlinewidth\":0,\"ticks\":\"\"}},\"type\":\"scatter\"}],\"scatter3d\":[{\"line\":{\"colorbar\":{\"outlinewidth\":0,\"ticks\":\"\"}},\"marker\":{\"colorbar\":{\"outlinewidth\":0,\"ticks\":\"\"}},\"type\":\"scatter3d\"}],\"scattercarpet\":[{\"marker\":{\"colorbar\":{\"outlinewidth\":0,\"ticks\":\"\"}},\"type\":\"scattercarpet\"}],\"scattergeo\":[{\"marker\":{\"colorbar\":{\"outlinewidth\":0,\"ticks\":\"\"}},\"type\":\"scattergeo\"}],\"scattergl\":[{\"marker\":{\"colorbar\":{\"outlinewidth\":0,\"ticks\":\"\"}},\"type\":\"scattergl\"}],\"scattermapbox\":[{\"marker\":{\"colorbar\":{\"outlinewidth\":0,\"ticks\":\"\"}},\"type\":\"scattermapbox\"}],\"scatterpolar\":[{\"marker\":{\"colorbar\":{\"outlinewidth\":0,\"ticks\":\"\"}},\"type\":\"scatterpolar\"}],\"scatterpolargl\":[{\"marker\":{\"colorbar\":{\"outlinewidth\":0,\"ticks\":\"\"}},\"type\":\"scatterpolargl\"}],\"scatterternary\":[{\"marker\":{\"colorbar\":{\"outlinewidth\":0,\"ticks\":\"\"}},\"type\":\"scatterternary\"}],\"surface\":[{\"colorbar\":{\"outlinewidth\":0,\"ticks\":\"\"},\"colorscale\":[[0.0,\"#0d0887\"],[0.1111111111111111,\"#46039f\"],[0.2222222222222222,\"#7201a8\"],[0.3333333333333333,\"#9c179e\"],[0.4444444444444444,\"#bd3786\"],[0.5555555555555556,\"#d8576b\"],[0.6666666666666666,\"#ed7953\"],[0.7777777777777778,\"#fb9f3a\"],[0.8888888888888888,\"#fdca26\"],[1.0,\"#f0f921\"]],\"type\":\"surface\"}],\"table\":[{\"cells\":{\"fill\":{\"color\":\"#EBF0F8\"},\"line\":{\"color\":\"white\"}},\"header\":{\"fill\":{\"color\":\"#C8D4E3\"},\"line\":{\"color\":\"white\"}},\"type\":\"table\"}]},\"layout\":{\"annotationdefaults\":{\"arrowcolor\":\"#2a3f5f\",\"arrowhead\":0,\"arrowwidth\":1},\"autotypenumbers\":\"strict\",\"coloraxis\":{\"colorbar\":{\"outlinewidth\":0,\"ticks\":\"\"}},\"colorscale\":{\"diverging\":[[0,\"#8e0152\"],[0.1,\"#c51b7d\"],[0.2,\"#de77ae\"],[0.3,\"#f1b6da\"],[0.4,\"#fde0ef\"],[0.5,\"#f7f7f7\"],[0.6,\"#e6f5d0\"],[0.7,\"#b8e186\"],[0.8,\"#7fbc41\"],[0.9,\"#4d9221\"],[1,\"#276419\"]],\"sequential\":[[0.0,\"#0d0887\"],[0.1111111111111111,\"#46039f\"],[0.2222222222222222,\"#7201a8\"],[0.3333333333333333,\"#9c179e\"],[0.4444444444444444,\"#bd3786\"],[0.5555555555555556,\"#d8576b\"],[0.6666666666666666,\"#ed7953\"],[0.7777777777777778,\"#fb9f3a\"],[0.8888888888888888,\"#fdca26\"],[1.0,\"#f0f921\"]],\"sequentialminus\":[[0.0,\"#0d0887\"],[0.1111111111111111,\"#46039f\"],[0.2222222222222222,\"#7201a8\"],[0.3333333333333333,\"#9c179e\"],[0.4444444444444444,\"#bd3786\"],[0.5555555555555556,\"#d8576b\"],[0.6666666666666666,\"#ed7953\"],[0.7777777777777778,\"#fb9f3a\"],[0.8888888888888888,\"#fdca26\"],[1.0,\"#f0f921\"]]},\"colorway\":[\"#636efa\",\"#EF553B\",\"#00cc96\",\"#ab63fa\",\"#FFA15A\",\"#19d3f3\",\"#FF6692\",\"#B6E880\",\"#FF97FF\",\"#FECB52\"],\"font\":{\"color\":\"#2a3f5f\"},\"geo\":{\"bgcolor\":\"white\",\"lakecolor\":\"white\",\"landcolor\":\"#E5ECF6\",\"showlakes\":true,\"showland\":true,\"subunitcolor\":\"white\"},\"hoverlabel\":{\"align\":\"left\"},\"hovermode\":\"closest\",\"mapbox\":{\"style\":\"light\"},\"paper_bgcolor\":\"white\",\"plot_bgcolor\":\"#E5ECF6\",\"polar\":{\"angularaxis\":{\"gridcolor\":\"white\",\"linecolor\":\"white\",\"ticks\":\"\"},\"bgcolor\":\"#E5ECF6\",\"radialaxis\":{\"gridcolor\":\"white\",\"linecolor\":\"white\",\"ticks\":\"\"}},\"scene\":{\"xaxis\":{\"backgroundcolor\":\"#E5ECF6\",\"gridcolor\":\"white\",\"gridwidth\":2,\"linecolor\":\"white\",\"showbackground\":true,\"ticks\":\"\",\"zerolinecolor\":\"white\"},\"yaxis\":{\"backgroundcolor\":\"#E5ECF6\",\"gridcolor\":\"white\",\"gridwidth\":2,\"linecolor\":\"white\",\"showbackground\":true,\"ticks\":\"\",\"zerolinecolor\":\"white\"},\"zaxis\":{\"backgroundcolor\":\"#E5ECF6\",\"gridcolor\":\"white\",\"gridwidth\":2,\"linecolor\":\"white\",\"showbackground\":true,\"ticks\":\"\",\"zerolinecolor\":\"white\"}},\"shapedefaults\":{\"line\":{\"color\":\"#2a3f5f\"}},\"ternary\":{\"aaxis\":{\"gridcolor\":\"white\",\"linecolor\":\"white\",\"ticks\":\"\"},\"baxis\":{\"gridcolor\":\"white\",\"linecolor\":\"white\",\"ticks\":\"\"},\"bgcolor\":\"#E5ECF6\",\"caxis\":{\"gridcolor\":\"white\",\"linecolor\":\"white\",\"ticks\":\"\"}},\"title\":{\"x\":0.05},\"xaxis\":{\"automargin\":true,\"gridcolor\":\"white\",\"linecolor\":\"white\",\"ticks\":\"\",\"title\":{\"standoff\":15},\"zerolinecolor\":\"white\",\"zerolinewidth\":2},\"yaxis\":{\"automargin\":true,\"gridcolor\":\"white\",\"linecolor\":\"white\",\"ticks\":\"\",\"title\":{\"standoff\":15},\"zerolinecolor\":\"white\",\"zerolinewidth\":2}}},\"xaxis\":{\"anchor\":\"y\",\"domain\":[0.0,1.0],\"title\":{\"text\":\"in_CA\"}},\"yaxis\":{\"anchor\":\"x\",\"domain\":[0.0,1.0],\"title\":{\"text\":\"Percentage_drivers_inCA\"}},\"legend\":{\"tracegroupgap\":0},\"title\":{\"text\":\"Percentage of Couriers Within CA\"},\"barmode\":\"relative\"},                        {\"responsive\": true}                    ).then(function(){\n",
       "                            \n",
       "var gd = document.getElementById('fa4abc0c-4c3f-487a-bb31-8750ae7d8d5f');\n",
       "var x = new MutationObserver(function (mutations, observer) {{\n",
       "        var display = window.getComputedStyle(gd).display;\n",
       "        if (!display || display === 'none') {{\n",
       "            console.log([gd, 'removed!']);\n",
       "            Plotly.purge(gd);\n",
       "            observer.disconnect();\n",
       "        }}\n",
       "}});\n",
       "\n",
       "// Listen for the removal of the full notebook cells\n",
       "var notebookContainer = gd.closest('#notebook-container');\n",
       "if (notebookContainer) {{\n",
       "    x.observe(notebookContainer, {childList: true});\n",
       "}}\n",
       "\n",
       "// Listen for the clearing of the current output cell\n",
       "var outputEl = gd.closest('.output');\n",
       "if (outputEl) {{\n",
       "    x.observe(outputEl, {childList: true});\n",
       "}}\n",
       "\n",
       "                        })                };                });            </script>        </div>"
      ]
     },
     "metadata": {},
     "output_type": "display_data"
    }
   ],
   "source": [
    "fig1 = px.bar(in_CA, x = 'in_CA' , y = 'Percentage_drivers_inCA', title= 'Percentage of Couriers Within CA', text = 'Percentage_drivers_inCA')\n",
    "fig1.show()"
   ]
  },
  {
   "cell_type": "code",
   "execution_count": 60,
   "metadata": {},
   "outputs": [
    {
     "data": {
      "text/html": [
       "<div>\n",
       "<style scoped>\n",
       "    .dataframe tbody tr th:only-of-type {\n",
       "        vertical-align: middle;\n",
       "    }\n",
       "\n",
       "    .dataframe tbody tr th {\n",
       "        vertical-align: top;\n",
       "    }\n",
       "\n",
       "    .dataframe thead th {\n",
       "        text-align: right;\n",
       "    }\n",
       "</style>\n",
       "<table border=\"1\" class=\"dataframe\">\n",
       "  <thead>\n",
       "    <tr style=\"text-align: right;\">\n",
       "      <th></th>\n",
       "      <th>catchment_area</th>\n",
       "      <th>stuart_driver_id</th>\n",
       "    </tr>\n",
       "  </thead>\n",
       "  <tbody>\n",
       "    <tr>\n",
       "      <th>0</th>\n",
       "      <td>Altrincham</td>\n",
       "      <td>1</td>\n",
       "    </tr>\n",
       "    <tr>\n",
       "      <th>1</th>\n",
       "      <td>Basildon</td>\n",
       "      <td>2</td>\n",
       "    </tr>\n",
       "    <tr>\n",
       "      <th>2</th>\n",
       "      <td>Birmingham Central</td>\n",
       "      <td>2</td>\n",
       "    </tr>\n",
       "    <tr>\n",
       "      <th>3</th>\n",
       "      <td>Birmingham East</td>\n",
       "      <td>1</td>\n",
       "    </tr>\n",
       "    <tr>\n",
       "      <th>4</th>\n",
       "      <td>Bolton</td>\n",
       "      <td>2</td>\n",
       "    </tr>\n",
       "  </tbody>\n",
       "</table>\n",
       "</div>"
      ],
      "text/plain": [
       "       catchment_area  stuart_driver_id\n",
       "0          Altrincham                 1\n",
       "1            Basildon                 2\n",
       "2  Birmingham Central                 2\n",
       "3     Birmingham East                 1\n",
       "4              Bolton                 2"
      ]
     },
     "execution_count": 60,
     "metadata": {},
     "output_type": "execute_result"
    }
   ],
   "source": [
    "# Top 5 CA with highest number of resident couriers\n",
    "top_5_CA = courier_mapping.groupby('catchment_area').agg({'stuart_driver_id':'count'}).reset_index()\n",
    "top_5_CA.head(5)"
   ]
  },
  {
   "cell_type": "code",
   "execution_count": 63,
   "metadata": {},
   "outputs": [
    {
     "data": {
      "text/html": [
       "<div>\n",
       "<style scoped>\n",
       "    .dataframe tbody tr th:only-of-type {\n",
       "        vertical-align: middle;\n",
       "    }\n",
       "\n",
       "    .dataframe tbody tr th {\n",
       "        vertical-align: top;\n",
       "    }\n",
       "\n",
       "    .dataframe thead th {\n",
       "        text-align: right;\n",
       "    }\n",
       "</style>\n",
       "<table border=\"1\" class=\"dataframe\">\n",
       "  <thead>\n",
       "    <tr style=\"text-align: right;\">\n",
       "      <th></th>\n",
       "      <th>catchment_area</th>\n",
       "      <th>stuart_driver_id</th>\n",
       "    </tr>\n",
       "  </thead>\n",
       "  <tbody>\n",
       "    <tr>\n",
       "      <th>36</th>\n",
       "      <td>London Outer NE</td>\n",
       "      <td>961</td>\n",
       "    </tr>\n",
       "    <tr>\n",
       "      <th>35</th>\n",
       "      <td>London Outer N</td>\n",
       "      <td>844</td>\n",
       "    </tr>\n",
       "    <tr>\n",
       "      <th>40</th>\n",
       "      <td>London Outer Upper NW</td>\n",
       "      <td>793</td>\n",
       "    </tr>\n",
       "    <tr>\n",
       "      <th>30</th>\n",
       "      <td>London Inner S</td>\n",
       "      <td>715</td>\n",
       "    </tr>\n",
       "    <tr>\n",
       "      <th>37</th>\n",
       "      <td>London Outer S</td>\n",
       "      <td>602</td>\n",
       "    </tr>\n",
       "  </tbody>\n",
       "</table>\n",
       "</div>"
      ],
      "text/plain": [
       "           catchment_area  stuart_driver_id\n",
       "36        London Outer NE               961\n",
       "35         London Outer N               844\n",
       "40  London Outer Upper NW               793\n",
       "30         London Inner S               715\n",
       "37         London Outer S               602"
      ]
     },
     "execution_count": 63,
     "metadata": {},
     "output_type": "execute_result"
    }
   ],
   "source": [
    "# Sorting values in descending order\n",
    "top_5_CA = top_5_CA.sort_values(by='stuart_driver_id', ascending=False)\n",
    "top_5_CA.head(5)"
   ]
  },
  {
   "cell_type": "code",
   "execution_count": 84,
   "metadata": {},
   "outputs": [
    {
     "data": {
      "application/vnd.plotly.v1+json": {
       "config": {
        "plotlyServerURL": "https://plot.ly"
       },
       "data": [
        {
         "alignmentgroup": "True",
         "hovertemplate": "catchment_area=%{x}<br>stuart_driver_id=%{text}<extra></extra>",
         "legendgroup": "",
         "marker": {
          "color": "#636efa",
          "pattern": {
           "shape": ""
          }
         },
         "name": "",
         "offsetgroup": "",
         "orientation": "v",
         "showlegend": false,
         "text": [
          961,
          844,
          793,
          715,
          602,
          528
         ],
         "textposition": "auto",
         "type": "bar",
         "x": [
          "London Outer NE",
          "London Outer N",
          "London Outer Upper NW",
          "London Inner S",
          "London Outer S",
          "London Inner Upper NW"
         ],
         "xaxis": "x",
         "y": [
          961,
          844,
          793,
          715,
          602,
          528
         ],
         "yaxis": "y"
        }
       ],
       "layout": {
        "autosize": true,
        "barmode": "relative",
        "legend": {
         "tracegroupgap": 0
        },
        "template": {
         "data": {
          "bar": [
           {
            "error_x": {
             "color": "#2a3f5f"
            },
            "error_y": {
             "color": "#2a3f5f"
            },
            "marker": {
             "line": {
              "color": "#E5ECF6",
              "width": 0.5
             },
             "pattern": {
              "fillmode": "overlay",
              "size": 10,
              "solidity": 0.2
             }
            },
            "type": "bar"
           }
          ],
          "barpolar": [
           {
            "marker": {
             "line": {
              "color": "#E5ECF6",
              "width": 0.5
             },
             "pattern": {
              "fillmode": "overlay",
              "size": 10,
              "solidity": 0.2
             }
            },
            "type": "barpolar"
           }
          ],
          "carpet": [
           {
            "aaxis": {
             "endlinecolor": "#2a3f5f",
             "gridcolor": "white",
             "linecolor": "white",
             "minorgridcolor": "white",
             "startlinecolor": "#2a3f5f"
            },
            "baxis": {
             "endlinecolor": "#2a3f5f",
             "gridcolor": "white",
             "linecolor": "white",
             "minorgridcolor": "white",
             "startlinecolor": "#2a3f5f"
            },
            "type": "carpet"
           }
          ],
          "choropleth": [
           {
            "colorbar": {
             "outlinewidth": 0,
             "ticks": ""
            },
            "type": "choropleth"
           }
          ],
          "contour": [
           {
            "colorbar": {
             "outlinewidth": 0,
             "ticks": ""
            },
            "colorscale": [
             [
              0,
              "#0d0887"
             ],
             [
              0.1111111111111111,
              "#46039f"
             ],
             [
              0.2222222222222222,
              "#7201a8"
             ],
             [
              0.3333333333333333,
              "#9c179e"
             ],
             [
              0.4444444444444444,
              "#bd3786"
             ],
             [
              0.5555555555555556,
              "#d8576b"
             ],
             [
              0.6666666666666666,
              "#ed7953"
             ],
             [
              0.7777777777777778,
              "#fb9f3a"
             ],
             [
              0.8888888888888888,
              "#fdca26"
             ],
             [
              1,
              "#f0f921"
             ]
            ],
            "type": "contour"
           }
          ],
          "contourcarpet": [
           {
            "colorbar": {
             "outlinewidth": 0,
             "ticks": ""
            },
            "type": "contourcarpet"
           }
          ],
          "heatmap": [
           {
            "colorbar": {
             "outlinewidth": 0,
             "ticks": ""
            },
            "colorscale": [
             [
              0,
              "#0d0887"
             ],
             [
              0.1111111111111111,
              "#46039f"
             ],
             [
              0.2222222222222222,
              "#7201a8"
             ],
             [
              0.3333333333333333,
              "#9c179e"
             ],
             [
              0.4444444444444444,
              "#bd3786"
             ],
             [
              0.5555555555555556,
              "#d8576b"
             ],
             [
              0.6666666666666666,
              "#ed7953"
             ],
             [
              0.7777777777777778,
              "#fb9f3a"
             ],
             [
              0.8888888888888888,
              "#fdca26"
             ],
             [
              1,
              "#f0f921"
             ]
            ],
            "type": "heatmap"
           }
          ],
          "heatmapgl": [
           {
            "colorbar": {
             "outlinewidth": 0,
             "ticks": ""
            },
            "colorscale": [
             [
              0,
              "#0d0887"
             ],
             [
              0.1111111111111111,
              "#46039f"
             ],
             [
              0.2222222222222222,
              "#7201a8"
             ],
             [
              0.3333333333333333,
              "#9c179e"
             ],
             [
              0.4444444444444444,
              "#bd3786"
             ],
             [
              0.5555555555555556,
              "#d8576b"
             ],
             [
              0.6666666666666666,
              "#ed7953"
             ],
             [
              0.7777777777777778,
              "#fb9f3a"
             ],
             [
              0.8888888888888888,
              "#fdca26"
             ],
             [
              1,
              "#f0f921"
             ]
            ],
            "type": "heatmapgl"
           }
          ],
          "histogram": [
           {
            "marker": {
             "pattern": {
              "fillmode": "overlay",
              "size": 10,
              "solidity": 0.2
             }
            },
            "type": "histogram"
           }
          ],
          "histogram2d": [
           {
            "colorbar": {
             "outlinewidth": 0,
             "ticks": ""
            },
            "colorscale": [
             [
              0,
              "#0d0887"
             ],
             [
              0.1111111111111111,
              "#46039f"
             ],
             [
              0.2222222222222222,
              "#7201a8"
             ],
             [
              0.3333333333333333,
              "#9c179e"
             ],
             [
              0.4444444444444444,
              "#bd3786"
             ],
             [
              0.5555555555555556,
              "#d8576b"
             ],
             [
              0.6666666666666666,
              "#ed7953"
             ],
             [
              0.7777777777777778,
              "#fb9f3a"
             ],
             [
              0.8888888888888888,
              "#fdca26"
             ],
             [
              1,
              "#f0f921"
             ]
            ],
            "type": "histogram2d"
           }
          ],
          "histogram2dcontour": [
           {
            "colorbar": {
             "outlinewidth": 0,
             "ticks": ""
            },
            "colorscale": [
             [
              0,
              "#0d0887"
             ],
             [
              0.1111111111111111,
              "#46039f"
             ],
             [
              0.2222222222222222,
              "#7201a8"
             ],
             [
              0.3333333333333333,
              "#9c179e"
             ],
             [
              0.4444444444444444,
              "#bd3786"
             ],
             [
              0.5555555555555556,
              "#d8576b"
             ],
             [
              0.6666666666666666,
              "#ed7953"
             ],
             [
              0.7777777777777778,
              "#fb9f3a"
             ],
             [
              0.8888888888888888,
              "#fdca26"
             ],
             [
              1,
              "#f0f921"
             ]
            ],
            "type": "histogram2dcontour"
           }
          ],
          "mesh3d": [
           {
            "colorbar": {
             "outlinewidth": 0,
             "ticks": ""
            },
            "type": "mesh3d"
           }
          ],
          "parcoords": [
           {
            "line": {
             "colorbar": {
              "outlinewidth": 0,
              "ticks": ""
             }
            },
            "type": "parcoords"
           }
          ],
          "pie": [
           {
            "automargin": true,
            "type": "pie"
           }
          ],
          "scatter": [
           {
            "marker": {
             "colorbar": {
              "outlinewidth": 0,
              "ticks": ""
             }
            },
            "type": "scatter"
           }
          ],
          "scatter3d": [
           {
            "line": {
             "colorbar": {
              "outlinewidth": 0,
              "ticks": ""
             }
            },
            "marker": {
             "colorbar": {
              "outlinewidth": 0,
              "ticks": ""
             }
            },
            "type": "scatter3d"
           }
          ],
          "scattercarpet": [
           {
            "marker": {
             "colorbar": {
              "outlinewidth": 0,
              "ticks": ""
             }
            },
            "type": "scattercarpet"
           }
          ],
          "scattergeo": [
           {
            "marker": {
             "colorbar": {
              "outlinewidth": 0,
              "ticks": ""
             }
            },
            "type": "scattergeo"
           }
          ],
          "scattergl": [
           {
            "marker": {
             "colorbar": {
              "outlinewidth": 0,
              "ticks": ""
             }
            },
            "type": "scattergl"
           }
          ],
          "scattermapbox": [
           {
            "marker": {
             "colorbar": {
              "outlinewidth": 0,
              "ticks": ""
             }
            },
            "type": "scattermapbox"
           }
          ],
          "scatterpolar": [
           {
            "marker": {
             "colorbar": {
              "outlinewidth": 0,
              "ticks": ""
             }
            },
            "type": "scatterpolar"
           }
          ],
          "scatterpolargl": [
           {
            "marker": {
             "colorbar": {
              "outlinewidth": 0,
              "ticks": ""
             }
            },
            "type": "scatterpolargl"
           }
          ],
          "scatterternary": [
           {
            "marker": {
             "colorbar": {
              "outlinewidth": 0,
              "ticks": ""
             }
            },
            "type": "scatterternary"
           }
          ],
          "surface": [
           {
            "colorbar": {
             "outlinewidth": 0,
             "ticks": ""
            },
            "colorscale": [
             [
              0,
              "#0d0887"
             ],
             [
              0.1111111111111111,
              "#46039f"
             ],
             [
              0.2222222222222222,
              "#7201a8"
             ],
             [
              0.3333333333333333,
              "#9c179e"
             ],
             [
              0.4444444444444444,
              "#bd3786"
             ],
             [
              0.5555555555555556,
              "#d8576b"
             ],
             [
              0.6666666666666666,
              "#ed7953"
             ],
             [
              0.7777777777777778,
              "#fb9f3a"
             ],
             [
              0.8888888888888888,
              "#fdca26"
             ],
             [
              1,
              "#f0f921"
             ]
            ],
            "type": "surface"
           }
          ],
          "table": [
           {
            "cells": {
             "fill": {
              "color": "#EBF0F8"
             },
             "line": {
              "color": "white"
             }
            },
            "header": {
             "fill": {
              "color": "#C8D4E3"
             },
             "line": {
              "color": "white"
             }
            },
            "type": "table"
           }
          ]
         },
         "layout": {
          "annotationdefaults": {
           "arrowcolor": "#2a3f5f",
           "arrowhead": 0,
           "arrowwidth": 1
          },
          "autotypenumbers": "strict",
          "coloraxis": {
           "colorbar": {
            "outlinewidth": 0,
            "ticks": ""
           }
          },
          "colorscale": {
           "diverging": [
            [
             0,
             "#8e0152"
            ],
            [
             0.1,
             "#c51b7d"
            ],
            [
             0.2,
             "#de77ae"
            ],
            [
             0.3,
             "#f1b6da"
            ],
            [
             0.4,
             "#fde0ef"
            ],
            [
             0.5,
             "#f7f7f7"
            ],
            [
             0.6,
             "#e6f5d0"
            ],
            [
             0.7,
             "#b8e186"
            ],
            [
             0.8,
             "#7fbc41"
            ],
            [
             0.9,
             "#4d9221"
            ],
            [
             1,
             "#276419"
            ]
           ],
           "sequential": [
            [
             0,
             "#0d0887"
            ],
            [
             0.1111111111111111,
             "#46039f"
            ],
            [
             0.2222222222222222,
             "#7201a8"
            ],
            [
             0.3333333333333333,
             "#9c179e"
            ],
            [
             0.4444444444444444,
             "#bd3786"
            ],
            [
             0.5555555555555556,
             "#d8576b"
            ],
            [
             0.6666666666666666,
             "#ed7953"
            ],
            [
             0.7777777777777778,
             "#fb9f3a"
            ],
            [
             0.8888888888888888,
             "#fdca26"
            ],
            [
             1,
             "#f0f921"
            ]
           ],
           "sequentialminus": [
            [
             0,
             "#0d0887"
            ],
            [
             0.1111111111111111,
             "#46039f"
            ],
            [
             0.2222222222222222,
             "#7201a8"
            ],
            [
             0.3333333333333333,
             "#9c179e"
            ],
            [
             0.4444444444444444,
             "#bd3786"
            ],
            [
             0.5555555555555556,
             "#d8576b"
            ],
            [
             0.6666666666666666,
             "#ed7953"
            ],
            [
             0.7777777777777778,
             "#fb9f3a"
            ],
            [
             0.8888888888888888,
             "#fdca26"
            ],
            [
             1,
             "#f0f921"
            ]
           ]
          },
          "colorway": [
           "#636efa",
           "#EF553B",
           "#00cc96",
           "#ab63fa",
           "#FFA15A",
           "#19d3f3",
           "#FF6692",
           "#B6E880",
           "#FF97FF",
           "#FECB52"
          ],
          "font": {
           "color": "#2a3f5f"
          },
          "geo": {
           "bgcolor": "white",
           "lakecolor": "white",
           "landcolor": "#E5ECF6",
           "showlakes": true,
           "showland": true,
           "subunitcolor": "white"
          },
          "hoverlabel": {
           "align": "left"
          },
          "hovermode": "closest",
          "mapbox": {
           "style": "light"
          },
          "paper_bgcolor": "white",
          "plot_bgcolor": "#E5ECF6",
          "polar": {
           "angularaxis": {
            "gridcolor": "white",
            "linecolor": "white",
            "ticks": ""
           },
           "bgcolor": "#E5ECF6",
           "radialaxis": {
            "gridcolor": "white",
            "linecolor": "white",
            "ticks": ""
           }
          },
          "scene": {
           "xaxis": {
            "backgroundcolor": "#E5ECF6",
            "gridcolor": "white",
            "gridwidth": 2,
            "linecolor": "white",
            "showbackground": true,
            "ticks": "",
            "zerolinecolor": "white"
           },
           "yaxis": {
            "backgroundcolor": "#E5ECF6",
            "gridcolor": "white",
            "gridwidth": 2,
            "linecolor": "white",
            "showbackground": true,
            "ticks": "",
            "zerolinecolor": "white"
           },
           "zaxis": {
            "backgroundcolor": "#E5ECF6",
            "gridcolor": "white",
            "gridwidth": 2,
            "linecolor": "white",
            "showbackground": true,
            "ticks": "",
            "zerolinecolor": "white"
           }
          },
          "shapedefaults": {
           "line": {
            "color": "#2a3f5f"
           }
          },
          "ternary": {
           "aaxis": {
            "gridcolor": "white",
            "linecolor": "white",
            "ticks": ""
           },
           "baxis": {
            "gridcolor": "white",
            "linecolor": "white",
            "ticks": ""
           },
           "bgcolor": "#E5ECF6",
           "caxis": {
            "gridcolor": "white",
            "linecolor": "white",
            "ticks": ""
           }
          },
          "title": {
           "x": 0.05
          },
          "xaxis": {
           "automargin": true,
           "gridcolor": "white",
           "linecolor": "white",
           "ticks": "",
           "title": {
            "standoff": 15
           },
           "zerolinecolor": "white",
           "zerolinewidth": 2
          },
          "yaxis": {
           "automargin": true,
           "gridcolor": "white",
           "linecolor": "white",
           "ticks": "",
           "title": {
            "standoff": 15
           },
           "zerolinecolor": "white",
           "zerolinewidth": 2
          }
         }
        },
        "title": {
         "text": "Top Six CA Couriers Live In"
        },
        "xaxis": {
         "anchor": "y",
         "autorange": true,
         "domain": [
          0,
          1
         ],
         "range": [
          -0.5,
          5.5
         ],
         "title": {
          "text": "catchment_area"
         },
         "type": "category"
        },
        "yaxis": {
         "anchor": "x",
         "autorange": true,
         "domain": [
          0,
          1
         ],
         "range": [
          0,
          1011.578947368421
         ],
         "title": {
          "text": "stuart_driver_id"
         },
         "type": "linear"
        }
       }
      },
      "image/png": "[encoded data removed]",
      "text/html": [
       "<div>                            <div id=\"9512be3f-bf43-4192-955c-e15d1b5ec8ee\" class=\"plotly-graph-div\" style=\"height:525px; width:100%;\"></div>            <script type=\"text/javascript\">                require([\"plotly\"], function(Plotly) {                    window.PLOTLYENV=window.PLOTLYENV || {};                                    if (document.getElementById(\"9512be3f-bf43-4192-955c-e15d1b5ec8ee\")) {                    Plotly.newPlot(                        \"9512be3f-bf43-4192-955c-e15d1b5ec8ee\",                        [{\"alignmentgroup\":\"True\",\"hovertemplate\":\"catchment_area=%{x}<br>stuart_driver_id=%{text}<extra></extra>\",\"legendgroup\":\"\",\"marker\":{\"color\":\"#636efa\",\"pattern\":{\"shape\":\"\"}},\"name\":\"\",\"offsetgroup\":\"\",\"orientation\":\"v\",\"showlegend\":false,\"text\":[961.0,844.0,793.0,715.0,602.0,528.0],\"textposition\":\"auto\",\"x\":[\"London Outer NE\",\"London Outer N\",\"London Outer Upper NW\",\"London Inner S\",\"London Outer S\",\"London Inner Upper NW\"],\"xaxis\":\"x\",\"y\":[961,844,793,715,602,528],\"yaxis\":\"y\",\"type\":\"bar\"}],                        {\"template\":{\"data\":{\"bar\":[{\"error_x\":{\"color\":\"#2a3f5f\"},\"error_y\":{\"color\":\"#2a3f5f\"},\"marker\":{\"line\":{\"color\":\"#E5ECF6\",\"width\":0.5},\"pattern\":{\"fillmode\":\"overlay\",\"size\":10,\"solidity\":0.2}},\"type\":\"bar\"}],\"barpolar\":[{\"marker\":{\"line\":{\"color\":\"#E5ECF6\",\"width\":0.5},\"pattern\":{\"fillmode\":\"overlay\",\"size\":10,\"solidity\":0.2}},\"type\":\"barpolar\"}],\"carpet\":[{\"aaxis\":{\"endlinecolor\":\"#2a3f5f\",\"gridcolor\":\"white\",\"linecolor\":\"white\",\"minorgridcolor\":\"white\",\"startlinecolor\":\"#2a3f5f\"},\"baxis\":{\"endlinecolor\":\"#2a3f5f\",\"gridcolor\":\"white\",\"linecolor\":\"white\",\"minorgridcolor\":\"white\",\"startlinecolor\":\"#2a3f5f\"},\"type\":\"carpet\"}],\"choropleth\":[{\"colorbar\":{\"outlinewidth\":0,\"ticks\":\"\"},\"type\":\"choropleth\"}],\"contour\":[{\"colorbar\":{\"outlinewidth\":0,\"ticks\":\"\"},\"colorscale\":[[0.0,\"#0d0887\"],[0.1111111111111111,\"#46039f\"],[0.2222222222222222,\"#7201a8\"],[0.3333333333333333,\"#9c179e\"],[0.4444444444444444,\"#bd3786\"],[0.5555555555555556,\"#d8576b\"],[0.6666666666666666,\"#ed7953\"],[0.7777777777777778,\"#fb9f3a\"],[0.8888888888888888,\"#fdca26\"],[1.0,\"#f0f921\"]],\"type\":\"contour\"}],\"contourcarpet\":[{\"colorbar\":{\"outlinewidth\":0,\"ticks\":\"\"},\"type\":\"contourcarpet\"}],\"heatmap\":[{\"colorbar\":{\"outlinewidth\":0,\"ticks\":\"\"},\"colorscale\":[[0.0,\"#0d0887\"],[0.1111111111111111,\"#46039f\"],[0.2222222222222222,\"#7201a8\"],[0.3333333333333333,\"#9c179e\"],[0.4444444444444444,\"#bd3786\"],[0.5555555555555556,\"#d8576b\"],[0.6666666666666666,\"#ed7953\"],[0.7777777777777778,\"#fb9f3a\"],[0.8888888888888888,\"#fdca26\"],[1.0,\"#f0f921\"]],\"type\":\"heatmap\"}],\"heatmapgl\":[{\"colorbar\":{\"outlinewidth\":0,\"ticks\":\"\"},\"colorscale\":[[0.0,\"#0d0887\"],[0.1111111111111111,\"#46039f\"],[0.2222222222222222,\"#7201a8\"],[0.3333333333333333,\"#9c179e\"],[0.4444444444444444,\"#bd3786\"],[0.5555555555555556,\"#d8576b\"],[0.6666666666666666,\"#ed7953\"],[0.7777777777777778,\"#fb9f3a\"],[0.8888888888888888,\"#fdca26\"],[1.0,\"#f0f921\"]],\"type\":\"heatmapgl\"}],\"histogram\":[{\"marker\":{\"pattern\":{\"fillmode\":\"overlay\",\"size\":10,\"solidity\":0.2}},\"type\":\"histogram\"}],\"histogram2d\":[{\"colorbar\":{\"outlinewidth\":0,\"ticks\":\"\"},\"colorscale\":[[0.0,\"#0d0887\"],[0.1111111111111111,\"#46039f\"],[0.2222222222222222,\"#7201a8\"],[0.3333333333333333,\"#9c179e\"],[0.4444444444444444,\"#bd3786\"],[0.5555555555555556,\"#d8576b\"],[0.6666666666666666,\"#ed7953\"],[0.7777777777777778,\"#fb9f3a\"],[0.8888888888888888,\"#fdca26\"],[1.0,\"#f0f921\"]],\"type\":\"histogram2d\"}],\"histogram2dcontour\":[{\"colorbar\":{\"outlinewidth\":0,\"ticks\":\"\"},\"colorscale\":[[0.0,\"#0d0887\"],[0.1111111111111111,\"#46039f\"],[0.2222222222222222,\"#7201a8\"],[0.3333333333333333,\"#9c179e\"],[0.4444444444444444,\"#bd3786\"],[0.5555555555555556,\"#d8576b\"],[0.6666666666666666,\"#ed7953\"],[0.7777777777777778,\"#fb9f3a\"],[0.8888888888888888,\"#fdca26\"],[1.0,\"#f0f921\"]],\"type\":\"histogram2dcontour\"}],\"mesh3d\":[{\"colorbar\":{\"outlinewidth\":0,\"ticks\":\"\"},\"type\":\"mesh3d\"}],\"parcoords\":[{\"line\":{\"colorbar\":{\"outlinewidth\":0,\"ticks\":\"\"}},\"type\":\"parcoords\"}],\"pie\":[{\"automargin\":true,\"type\":\"pie\"}],\"scatter\":[{\"marker\":{\"colorbar\":{\"outlinewidth\":0,\"ticks\":\"\"}},\"type\":\"scatter\"}],\"scatter3d\":[{\"line\":{\"colorbar\":{\"outlinewidth\":0,\"ticks\":\"\"}},\"marker\":{\"colorbar\":{\"outlinewidth\":0,\"ticks\":\"\"}},\"type\":\"scatter3d\"}],\"scattercarpet\":[{\"marker\":{\"colorbar\":{\"outlinewidth\":0,\"ticks\":\"\"}},\"type\":\"scattercarpet\"}],\"scattergeo\":[{\"marker\":{\"colorbar\":{\"outlinewidth\":0,\"ticks\":\"\"}},\"type\":\"scattergeo\"}],\"scattergl\":[{\"marker\":{\"colorbar\":{\"outlinewidth\":0,\"ticks\":\"\"}},\"type\":\"scattergl\"}],\"scattermapbox\":[{\"marker\":{\"colorbar\":{\"outlinewidth\":0,\"ticks\":\"\"}},\"type\":\"scattermapbox\"}],\"scatterpolar\":[{\"marker\":{\"colorbar\":{\"outlinewidth\":0,\"ticks\":\"\"}},\"type\":\"scatterpolar\"}],\"scatterpolargl\":[{\"marker\":{\"colorbar\":{\"outlinewidth\":0,\"ticks\":\"\"}},\"type\":\"scatterpolargl\"}],\"scatterternary\":[{\"marker\":{\"colorbar\":{\"outlinewidth\":0,\"ticks\":\"\"}},\"type\":\"scatterternary\"}],\"surface\":[{\"colorbar\":{\"outlinewidth\":0,\"ticks\":\"\"},\"colorscale\":[[0.0,\"#0d0887\"],[0.1111111111111111,\"#46039f\"],[0.2222222222222222,\"#7201a8\"],[0.3333333333333333,\"#9c179e\"],[0.4444444444444444,\"#bd3786\"],[0.5555555555555556,\"#d8576b\"],[0.6666666666666666,\"#ed7953\"],[0.7777777777777778,\"#fb9f3a\"],[0.8888888888888888,\"#fdca26\"],[1.0,\"#f0f921\"]],\"type\":\"surface\"}],\"table\":[{\"cells\":{\"fill\":{\"color\":\"#EBF0F8\"},\"line\":{\"color\":\"white\"}},\"header\":{\"fill\":{\"color\":\"#C8D4E3\"},\"line\":{\"color\":\"white\"}},\"type\":\"table\"}]},\"layout\":{\"annotationdefaults\":{\"arrowcolor\":\"#2a3f5f\",\"arrowhead\":0,\"arrowwidth\":1},\"autotypenumbers\":\"strict\",\"coloraxis\":{\"colorbar\":{\"outlinewidth\":0,\"ticks\":\"\"}},\"colorscale\":{\"diverging\":[[0,\"#8e0152\"],[0.1,\"#c51b7d\"],[0.2,\"#de77ae\"],[0.3,\"#f1b6da\"],[0.4,\"#fde0ef\"],[0.5,\"#f7f7f7\"],[0.6,\"#e6f5d0\"],[0.7,\"#b8e186\"],[0.8,\"#7fbc41\"],[0.9,\"#4d9221\"],[1,\"#276419\"]],\"sequential\":[[0.0,\"#0d0887\"],[0.1111111111111111,\"#46039f\"],[0.2222222222222222,\"#7201a8\"],[0.3333333333333333,\"#9c179e\"],[0.4444444444444444,\"#bd3786\"],[0.5555555555555556,\"#d8576b\"],[0.6666666666666666,\"#ed7953\"],[0.7777777777777778,\"#fb9f3a\"],[0.8888888888888888,\"#fdca26\"],[1.0,\"#f0f921\"]],\"sequentialminus\":[[0.0,\"#0d0887\"],[0.1111111111111111,\"#46039f\"],[0.2222222222222222,\"#7201a8\"],[0.3333333333333333,\"#9c179e\"],[0.4444444444444444,\"#bd3786\"],[0.5555555555555556,\"#d8576b\"],[0.6666666666666666,\"#ed7953\"],[0.7777777777777778,\"#fb9f3a\"],[0.8888888888888888,\"#fdca26\"],[1.0,\"#f0f921\"]]},\"colorway\":[\"#636efa\",\"#EF553B\",\"#00cc96\",\"#ab63fa\",\"#FFA15A\",\"#19d3f3\",\"#FF6692\",\"#B6E880\",\"#FF97FF\",\"#FECB52\"],\"font\":{\"color\":\"#2a3f5f\"},\"geo\":{\"bgcolor\":\"white\",\"lakecolor\":\"white\",\"landcolor\":\"#E5ECF6\",\"showlakes\":true,\"showland\":true,\"subunitcolor\":\"white\"},\"hoverlabel\":{\"align\":\"left\"},\"hovermode\":\"closest\",\"mapbox\":{\"style\":\"light\"},\"paper_bgcolor\":\"white\",\"plot_bgcolor\":\"#E5ECF6\",\"polar\":{\"angularaxis\":{\"gridcolor\":\"white\",\"linecolor\":\"white\",\"ticks\":\"\"},\"bgcolor\":\"#E5ECF6\",\"radialaxis\":{\"gridcolor\":\"white\",\"linecolor\":\"white\",\"ticks\":\"\"}},\"scene\":{\"xaxis\":{\"backgroundcolor\":\"#E5ECF6\",\"gridcolor\":\"white\",\"gridwidth\":2,\"linecolor\":\"white\",\"showbackground\":true,\"ticks\":\"\",\"zerolinecolor\":\"white\"},\"yaxis\":{\"backgroundcolor\":\"#E5ECF6\",\"gridcolor\":\"white\",\"gridwidth\":2,\"linecolor\":\"white\",\"showbackground\":true,\"ticks\":\"\",\"zerolinecolor\":\"white\"},\"zaxis\":{\"backgroundcolor\":\"#E5ECF6\",\"gridcolor\":\"white\",\"gridwidth\":2,\"linecolor\":\"white\",\"showbackground\":true,\"ticks\":\"\",\"zerolinecolor\":\"white\"}},\"shapedefaults\":{\"line\":{\"color\":\"#2a3f5f\"}},\"ternary\":{\"aaxis\":{\"gridcolor\":\"white\",\"linecolor\":\"white\",\"ticks\":\"\"},\"baxis\":{\"gridcolor\":\"white\",\"linecolor\":\"white\",\"ticks\":\"\"},\"bgcolor\":\"#E5ECF6\",\"caxis\":{\"gridcolor\":\"white\",\"linecolor\":\"white\",\"ticks\":\"\"}},\"title\":{\"x\":0.05},\"xaxis\":{\"automargin\":true,\"gridcolor\":\"white\",\"linecolor\":\"white\",\"ticks\":\"\",\"title\":{\"standoff\":15},\"zerolinecolor\":\"white\",\"zerolinewidth\":2},\"yaxis\":{\"automargin\":true,\"gridcolor\":\"white\",\"linecolor\":\"white\",\"ticks\":\"\",\"title\":{\"standoff\":15},\"zerolinecolor\":\"white\",\"zerolinewidth\":2}}},\"xaxis\":{\"anchor\":\"y\",\"domain\":[0.0,1.0],\"title\":{\"text\":\"catchment_area\"}},\"yaxis\":{\"anchor\":\"x\",\"domain\":[0.0,1.0],\"title\":{\"text\":\"stuart_driver_id\"}},\"legend\":{\"tracegroupgap\":0},\"title\":{\"text\":\"Top Six CA Couriers Live In\"},\"barmode\":\"relative\"},                        {\"responsive\": true}                    ).then(function(){\n",
       "                            \n",
       "var gd = document.getElementById('9512be3f-bf43-4192-955c-e15d1b5ec8ee');\n",
       "var x = new MutationObserver(function (mutations, observer) {{\n",
       "        var display = window.getComputedStyle(gd).display;\n",
       "        if (!display || display === 'none') {{\n",
       "            console.log([gd, 'removed!']);\n",
       "            Plotly.purge(gd);\n",
       "            observer.disconnect();\n",
       "        }}\n",
       "}});\n",
       "\n",
       "// Listen for the removal of the full notebook cells\n",
       "var notebookContainer = gd.closest('#notebook-container');\n",
       "if (notebookContainer) {{\n",
       "    x.observe(notebookContainer, {childList: true});\n",
       "}}\n",
       "\n",
       "// Listen for the clearing of the current output cell\n",
       "var outputEl = gd.closest('.output');\n",
       "if (outputEl) {{\n",
       "    x.observe(outputEl, {childList: true});\n",
       "}}\n",
       "\n",
       "                        })                };                });            </script>        </div>"
      ]
     },
     "metadata": {},
     "output_type": "display_data"
    }
   ],
   "source": [
    "fig2 = px.bar(top_5_CA.head(6), x = 'catchment_area' , y = 'stuart_driver_id', title = 'Top Six CA Couriers Live In' , text = 'stuart_driver_id')\n",
    "fig2.show()"
   ]
  },
  {
   "cell_type": "markdown",
   "metadata": {},
   "source": [
    "## Delivery Database "
   ]
  },
  {
   "cell_type": "markdown",
   "metadata": {},
   "source": [
    "            Creating a metric to get \"CA each driver mostly worked in\""
   ]
  },
  {
   "cell_type": "code",
   "execution_count": 208,
   "metadata": {},
   "outputs": [
    {
     "name": "stdout",
     "output_type": "stream",
     "text": [
      "Connected to the DataWarehouse\n",
      "Result from query obtained\n",
      "Data stored in dataframe\n"
     ]
    }
   ],
   "source": [
    "query_2 = '''\n",
    "\n",
    "SELECT -------------------- Package\n",
    "       cd.driver_id,          -- stuart_driver_id\n",
    "    MIN(cd.valid_from_date) as earliest_date,\n",
    "       a.catchment_area as pu_CA,\n",
    "\n",
    "    ------------------  Driver\n",
    "       uam.postcode_found as driver_postCode,\n",
    "       ad.catchment_area as driver_CA,\n",
    "       count( distinct p.package_id) as no_packages,\n",
    "       uam.application_fountain_id\n",
    "\n",
    "FROM modeled_core.driver cd\n",
    "\n",
    "INNER JOIN modeled_core.zones z\n",
    "USING (zone_id)\n",
    "\n",
    "LEFT JOIN modeled_core.delivery d\n",
    "    ON cd.driver_id = d.driver_id\n",
    "\n",
    "LEFT JOIN modeled_core.package p\n",
    "    ON d.package_id = p.package_id\n",
    "\n",
    "LEFT JOIN modeled_core.location l\n",
    "    ON p.pu_location_id = l.location_id\n",
    "\n",
    "LEFT JOIN ops.area a\n",
    "    ON REPLACE(l.delivery_area_name , '_' , '') = a.area_name_cap -- pool area for packages\n",
    "\n",
    "LEFT JOIN ops.uk_application_mapping uam\n",
    "    ON uam.application_fountain_id = cd.applicant_fountain_id\n",
    "\n",
    "LEFT JOIN ops.area ad\n",
    "    ON uam.application_pool = ad.area_name_uscore   -- pool area for driver ca\n",
    "\n",
    "WHERE z.country_id = 2\n",
    "AND DATE(p.time_window_pu_start_utc) >= '2021-01-01'\n",
    "\n",
    "GROUP BY 1, 3, 4, 5, 7\n",
    "\n",
    "'''\n",
    "\n",
    "deliveries = get_data_from_warehouse(query_2)"
   ]
  },
  {
   "cell_type": "code",
   "execution_count": 209,
   "metadata": {},
   "outputs": [
    {
     "data": {
      "text/plain": [
       "(129633, 7)"
      ]
     },
     "execution_count": 209,
     "metadata": {},
     "output_type": "execute_result"
    }
   ],
   "source": [
    "# Getting multiple rows per driver as they can work in different catchment areas\n",
    "deliveries.shape"
   ]
  },
  {
   "cell_type": "code",
   "execution_count": 210,
   "metadata": {},
   "outputs": [
    {
     "data": {
      "text/html": [
       "<div>\n",
       "<style scoped>\n",
       "    .dataframe tbody tr th:only-of-type {\n",
       "        vertical-align: middle;\n",
       "    }\n",
       "\n",
       "    .dataframe tbody tr th {\n",
       "        vertical-align: top;\n",
       "    }\n",
       "\n",
       "    .dataframe thead th {\n",
       "        text-align: right;\n",
       "    }\n",
       "</style>\n",
       "<table border=\"1\" class=\"dataframe\">\n",
       "  <thead>\n",
       "    <tr style=\"text-align: right;\">\n",
       "      <th></th>\n",
       "      <th>driver_id</th>\n",
       "      <th>earliest_date</th>\n",
       "      <th>pu_ca</th>\n",
       "      <th>driver_postcode</th>\n",
       "      <th>driver_ca</th>\n",
       "      <th>no_packages</th>\n",
       "      <th>application_fountain_id</th>\n",
       "    </tr>\n",
       "  </thead>\n",
       "  <tbody>\n",
       "    <tr>\n",
       "      <th>0</th>\n",
       "      <td>15976</td>\n",
       "      <td>2016-04-11</td>\n",
       "      <td>London Inner Upper NW</td>\n",
       "      <td>None</td>\n",
       "      <td>None</td>\n",
       "      <td>4</td>\n",
       "      <td>None</td>\n",
       "    </tr>\n",
       "    <tr>\n",
       "      <th>1</th>\n",
       "      <td>18049</td>\n",
       "      <td>2016-05-13</td>\n",
       "      <td>London Outer Upper NW</td>\n",
       "      <td>None</td>\n",
       "      <td>None</td>\n",
       "      <td>15</td>\n",
       "      <td>None</td>\n",
       "    </tr>\n",
       "    <tr>\n",
       "      <th>2</th>\n",
       "      <td>18052</td>\n",
       "      <td>2016-05-13</td>\n",
       "      <td>London Inner Upper NW</td>\n",
       "      <td>None</td>\n",
       "      <td>None</td>\n",
       "      <td>2135</td>\n",
       "      <td>None</td>\n",
       "    </tr>\n",
       "    <tr>\n",
       "      <th>3</th>\n",
       "      <td>18052</td>\n",
       "      <td>2016-05-13</td>\n",
       "      <td>London Outer N</td>\n",
       "      <td>None</td>\n",
       "      <td>None</td>\n",
       "      <td>1</td>\n",
       "      <td>None</td>\n",
       "    </tr>\n",
       "    <tr>\n",
       "      <th>4</th>\n",
       "      <td>21334</td>\n",
       "      <td>2016-07-19</td>\n",
       "      <td>London Inner E</td>\n",
       "      <td>None</td>\n",
       "      <td>None</td>\n",
       "      <td>3</td>\n",
       "      <td>None</td>\n",
       "    </tr>\n",
       "    <tr>\n",
       "      <th>...</th>\n",
       "      <td>...</td>\n",
       "      <td>...</td>\n",
       "      <td>...</td>\n",
       "      <td>...</td>\n",
       "      <td>...</td>\n",
       "      <td>...</td>\n",
       "      <td>...</td>\n",
       "    </tr>\n",
       "    <tr>\n",
       "      <th>129628</th>\n",
       "      <td>490706</td>\n",
       "      <td>2021-12-17</td>\n",
       "      <td>St Helens</td>\n",
       "      <td>WA9 2BE</td>\n",
       "      <td>St Helens</td>\n",
       "      <td>25</td>\n",
       "      <td>67ea9a44-44a2-4462-82e1-f3d68ab8d044</td>\n",
       "    </tr>\n",
       "    <tr>\n",
       "      <th>129629</th>\n",
       "      <td>490810</td>\n",
       "      <td>2021-12-17</td>\n",
       "      <td>Exeter</td>\n",
       "      <td>EX31 2LZ</td>\n",
       "      <td>None</td>\n",
       "      <td>21</td>\n",
       "      <td>0c70fcbd-b9ff-4cd4-950f-8c9e4d1fef24</td>\n",
       "    </tr>\n",
       "    <tr>\n",
       "      <th>129630</th>\n",
       "      <td>490810</td>\n",
       "      <td>2021-12-17</td>\n",
       "      <td>None</td>\n",
       "      <td>EX31 2LZ</td>\n",
       "      <td>None</td>\n",
       "      <td>11</td>\n",
       "      <td>0c70fcbd-b9ff-4cd4-950f-8c9e4d1fef24</td>\n",
       "    </tr>\n",
       "    <tr>\n",
       "      <th>129631</th>\n",
       "      <td>491945</td>\n",
       "      <td>2021-12-20</td>\n",
       "      <td>London Inner N</td>\n",
       "      <td>None</td>\n",
       "      <td>None</td>\n",
       "      <td>17</td>\n",
       "      <td>None</td>\n",
       "    </tr>\n",
       "    <tr>\n",
       "      <th>129632</th>\n",
       "      <td>491959</td>\n",
       "      <td>2021-12-20</td>\n",
       "      <td>Sunderland</td>\n",
       "      <td>SR4 7BT</td>\n",
       "      <td>Sunderland</td>\n",
       "      <td>1</td>\n",
       "      <td>8d2d723f-9692-438e-9901-eac45fe26fcf</td>\n",
       "    </tr>\n",
       "  </tbody>\n",
       "</table>\n",
       "<p>129633 rows × 7 columns</p>\n",
       "</div>"
      ],
      "text/plain": [
       "        driver_id earliest_date                  pu_ca driver_postcode  \\\n",
       "0           15976    2016-04-11  London Inner Upper NW            None   \n",
       "1           18049    2016-05-13  London Outer Upper NW            None   \n",
       "2           18052    2016-05-13  London Inner Upper NW            None   \n",
       "3           18052    2016-05-13         London Outer N            None   \n",
       "4           21334    2016-07-19         London Inner E            None   \n",
       "...           ...           ...                    ...             ...   \n",
       "129628     490706    2021-12-17              St Helens         WA9 2BE   \n",
       "129629     490810    2021-12-17                 Exeter        EX31 2LZ   \n",
       "129630     490810    2021-12-17                   None        EX31 2LZ   \n",
       "129631     491945    2021-12-20         London Inner N            None   \n",
       "129632     491959    2021-12-20             Sunderland         SR4 7BT   \n",
       "\n",
       "         driver_ca  no_packages               application_fountain_id  \n",
       "0             None            4                                  None  \n",
       "1             None           15                                  None  \n",
       "2             None         2135                                  None  \n",
       "3             None            1                                  None  \n",
       "4             None            3                                  None  \n",
       "...            ...          ...                                   ...  \n",
       "129628   St Helens           25  67ea9a44-44a2-4462-82e1-f3d68ab8d044  \n",
       "129629        None           21  0c70fcbd-b9ff-4cd4-950f-8c9e4d1fef24  \n",
       "129630        None           11  0c70fcbd-b9ff-4cd4-950f-8c9e4d1fef24  \n",
       "129631        None           17                                  None  \n",
       "129632  Sunderland            1  8d2d723f-9692-438e-9901-eac45fe26fcf  \n",
       "\n",
       "[129633 rows x 7 columns]"
      ]
     },
     "execution_count": 210,
     "metadata": {},
     "output_type": "execute_result"
    }
   ],
   "source": [
    "no_dup_deliveries = deliveries.drop_duplicates()\n",
    "no_dup_deliveries"
   ]
  },
  {
   "cell_type": "code",
   "execution_count": 211,
   "metadata": {},
   "outputs": [
    {
     "data": {
      "text/plain": [
       "45035"
      ]
     },
     "execution_count": 211,
     "metadata": {},
     "output_type": "execute_result"
    }
   ],
   "source": [
    "no_dup_deliveries['driver_id'].nunique()"
   ]
  },
  {
   "cell_type": "code",
   "execution_count": 212,
   "metadata": {},
   "outputs": [
    {
     "data": {
      "text/plain": [
       "16273"
      ]
     },
     "execution_count": 212,
     "metadata": {},
     "output_type": "execute_result"
    }
   ],
   "source": [
    "no_dup_deliveries = no_dup_deliveries[no_dup_deliveries['application_fountain_id'].isnull()==False]\n",
    "no_dup_deliveries['driver_id'].nunique()\n",
    "\n",
    "# 45035"
   ]
  },
  {
   "cell_type": "code",
   "execution_count": 214,
   "metadata": {},
   "outputs": [
    {
     "data": {
      "text/plain": [
       "63.86588209170645"
      ]
     },
     "execution_count": 214,
     "metadata": {},
     "output_type": "execute_result"
    }
   ],
   "source": [
    "# Number of drivers who are not considered due to application_id\n",
    "(45035 - 16273)/45035 * 100"
   ]
  },
  {
   "cell_type": "code",
   "execution_count": 215,
   "metadata": {},
   "outputs": [],
   "source": [
    "# Generating a csv file with drivers and their deliveries\n",
    "no_dup_deliveries.to_csv('data/deliveries_and_catchement_areas.csv' , index = False )\n",
    "\n",
    "# Another way deliveries.to_csv('deliveries.csv') "
   ]
  },
  {
   "cell_type": "code",
   "execution_count": 216,
   "metadata": {},
   "outputs": [],
   "source": [
    "# Dropped all None values in driver_ca: Removing drivers who don't live in CA\n",
    "no_dup_deliveries = no_dup_deliveries[no_dup_deliveries['driver_ca'].isnull()==False]"
   ]
  },
  {
   "cell_type": "code",
   "execution_count": 217,
   "metadata": {},
   "outputs": [
    {
     "data": {
      "text/plain": [
       "13463"
      ]
     },
     "execution_count": 217,
     "metadata": {},
     "output_type": "execute_result"
    }
   ],
   "source": [
    "no_dup_deliveries['driver_id'].nunique()"
   ]
  },
  {
   "cell_type": "code",
   "execution_count": 218,
   "metadata": {},
   "outputs": [
    {
     "data": {
      "text/html": [
       "<div>\n",
       "<style scoped>\n",
       "    .dataframe tbody tr th:only-of-type {\n",
       "        vertical-align: middle;\n",
       "    }\n",
       "\n",
       "    .dataframe tbody tr th {\n",
       "        vertical-align: top;\n",
       "    }\n",
       "\n",
       "    .dataframe thead th {\n",
       "        text-align: right;\n",
       "    }\n",
       "</style>\n",
       "<table border=\"1\" class=\"dataframe\">\n",
       "  <thead>\n",
       "    <tr style=\"text-align: right;\">\n",
       "      <th></th>\n",
       "      <th>driver_id</th>\n",
       "      <th>earliest_date</th>\n",
       "      <th>pu_ca</th>\n",
       "      <th>driver_postcode</th>\n",
       "      <th>driver_ca</th>\n",
       "      <th>no_packages</th>\n",
       "      <th>application_fountain_id</th>\n",
       "    </tr>\n",
       "  </thead>\n",
       "  <tbody>\n",
       "    <tr>\n",
       "      <th>12740</th>\n",
       "      <td>339107</td>\n",
       "      <td>2021-01-06</td>\n",
       "      <td>London Outer N</td>\n",
       "      <td>N8 9JT</td>\n",
       "      <td>London Outer N</td>\n",
       "      <td>1</td>\n",
       "      <td>92a79bc5-2bcc-40fe-92fc-c4dead46f15a</td>\n",
       "    </tr>\n",
       "    <tr>\n",
       "      <th>12783</th>\n",
       "      <td>339657</td>\n",
       "      <td>2021-01-07</td>\n",
       "      <td>London Outer NE</td>\n",
       "      <td>N22 5AG</td>\n",
       "      <td>London Outer N</td>\n",
       "      <td>1</td>\n",
       "      <td>59dc59e6-13bc-496d-93ec-64df7090f031</td>\n",
       "    </tr>\n",
       "    <tr>\n",
       "      <th>12788</th>\n",
       "      <td>339680</td>\n",
       "      <td>2021-01-07</td>\n",
       "      <td>London Border NE</td>\n",
       "      <td>E12 6NX</td>\n",
       "      <td>London Outer NE</td>\n",
       "      <td>1</td>\n",
       "      <td>53cde956-986b-40ac-8b09-0912c8ea2918</td>\n",
       "    </tr>\n",
       "    <tr>\n",
       "      <th>12789</th>\n",
       "      <td>339714</td>\n",
       "      <td>2021-01-07</td>\n",
       "      <td>London Inner N</td>\n",
       "      <td>E1 1BF</td>\n",
       "      <td>London Inner N</td>\n",
       "      <td>16</td>\n",
       "      <td>7f937df5-af27-45f5-be69-27510d754e04</td>\n",
       "    </tr>\n",
       "    <tr>\n",
       "      <th>12796</th>\n",
       "      <td>339748</td>\n",
       "      <td>2021-01-07</td>\n",
       "      <td>London Inner E</td>\n",
       "      <td>NW10 3NU</td>\n",
       "      <td>London Inner Upper NW</td>\n",
       "      <td>1</td>\n",
       "      <td>53f397a5-86c5-43a4-b7c3-9b54ebf9a6cc</td>\n",
       "    </tr>\n",
       "    <tr>\n",
       "      <th>12797</th>\n",
       "      <td>339748</td>\n",
       "      <td>2021-01-07</td>\n",
       "      <td>London Outer N</td>\n",
       "      <td>NW10 3NU</td>\n",
       "      <td>London Inner Upper NW</td>\n",
       "      <td>1</td>\n",
       "      <td>53f397a5-86c5-43a4-b7c3-9b54ebf9a6cc</td>\n",
       "    </tr>\n",
       "    <tr>\n",
       "      <th>12799</th>\n",
       "      <td>339756</td>\n",
       "      <td>2021-01-07</td>\n",
       "      <td>London Inner Upper NW</td>\n",
       "      <td>N7 8DJ</td>\n",
       "      <td>London Inner N</td>\n",
       "      <td>8</td>\n",
       "      <td>65f7c3c2-7134-4c19-943f-78496df2f25a</td>\n",
       "    </tr>\n",
       "    <tr>\n",
       "      <th>12800</th>\n",
       "      <td>339756</td>\n",
       "      <td>2021-01-07</td>\n",
       "      <td>London Outer N</td>\n",
       "      <td>N7 8DJ</td>\n",
       "      <td>London Inner N</td>\n",
       "      <td>12</td>\n",
       "      <td>65f7c3c2-7134-4c19-943f-78496df2f25a</td>\n",
       "    </tr>\n",
       "    <tr>\n",
       "      <th>12801</th>\n",
       "      <td>339756</td>\n",
       "      <td>2021-01-07</td>\n",
       "      <td>London Outer NE</td>\n",
       "      <td>N7 8DJ</td>\n",
       "      <td>London Inner N</td>\n",
       "      <td>1</td>\n",
       "      <td>65f7c3c2-7134-4c19-943f-78496df2f25a</td>\n",
       "    </tr>\n",
       "    <tr>\n",
       "      <th>12820</th>\n",
       "      <td>340016</td>\n",
       "      <td>2021-01-08</td>\n",
       "      <td>London Outer E</td>\n",
       "      <td>DA16 3PB</td>\n",
       "      <td>London Outer E</td>\n",
       "      <td>767</td>\n",
       "      <td>4b7b8694-1cb8-48fe-b8d9-3428833afd1c</td>\n",
       "    </tr>\n",
       "  </tbody>\n",
       "</table>\n",
       "</div>"
      ],
      "text/plain": [
       "       driver_id earliest_date                  pu_ca driver_postcode  \\\n",
       "12740     339107    2021-01-06         London Outer N          N8 9JT   \n",
       "12783     339657    2021-01-07        London Outer NE         N22 5AG   \n",
       "12788     339680    2021-01-07       London Border NE         E12 6NX   \n",
       "12789     339714    2021-01-07         London Inner N          E1 1BF   \n",
       "12796     339748    2021-01-07         London Inner E        NW10 3NU   \n",
       "12797     339748    2021-01-07         London Outer N        NW10 3NU   \n",
       "12799     339756    2021-01-07  London Inner Upper NW          N7 8DJ   \n",
       "12800     339756    2021-01-07         London Outer N          N7 8DJ   \n",
       "12801     339756    2021-01-07        London Outer NE          N7 8DJ   \n",
       "12820     340016    2021-01-08         London Outer E        DA16 3PB   \n",
       "\n",
       "                   driver_ca  no_packages  \\\n",
       "12740         London Outer N            1   \n",
       "12783         London Outer N            1   \n",
       "12788        London Outer NE            1   \n",
       "12789         London Inner N           16   \n",
       "12796  London Inner Upper NW            1   \n",
       "12797  London Inner Upper NW            1   \n",
       "12799         London Inner N            8   \n",
       "12800         London Inner N           12   \n",
       "12801         London Inner N            1   \n",
       "12820         London Outer E          767   \n",
       "\n",
       "                    application_fountain_id  \n",
       "12740  92a79bc5-2bcc-40fe-92fc-c4dead46f15a  \n",
       "12783  59dc59e6-13bc-496d-93ec-64df7090f031  \n",
       "12788  53cde956-986b-40ac-8b09-0912c8ea2918  \n",
       "12789  7f937df5-af27-45f5-be69-27510d754e04  \n",
       "12796  53f397a5-86c5-43a4-b7c3-9b54ebf9a6cc  \n",
       "12797  53f397a5-86c5-43a4-b7c3-9b54ebf9a6cc  \n",
       "12799  65f7c3c2-7134-4c19-943f-78496df2f25a  \n",
       "12800  65f7c3c2-7134-4c19-943f-78496df2f25a  \n",
       "12801  65f7c3c2-7134-4c19-943f-78496df2f25a  \n",
       "12820  4b7b8694-1cb8-48fe-b8d9-3428833afd1c  "
      ]
     },
     "execution_count": 218,
     "metadata": {},
     "output_type": "execute_result"
    }
   ],
   "source": [
    "no_dup_deliveries.head(10)"
   ]
  },
  {
   "cell_type": "code",
   "execution_count": 219,
   "metadata": {},
   "outputs": [
    {
     "data": {
      "text/plain": [
       "(33586, 7)"
      ]
     },
     "execution_count": 219,
     "metadata": {},
     "output_type": "execute_result"
    }
   ],
   "source": [
    "# One driver could do deliveries in multiple CA\n",
    "no_dup_deliveries.shape"
   ]
  },
  {
   "cell_type": "code",
   "execution_count": 220,
   "metadata": {},
   "outputs": [
    {
     "data": {
      "text/html": [
       "<div>\n",
       "<style scoped>\n",
       "    .dataframe tbody tr th:only-of-type {\n",
       "        vertical-align: middle;\n",
       "    }\n",
       "\n",
       "    .dataframe tbody tr th {\n",
       "        vertical-align: top;\n",
       "    }\n",
       "\n",
       "    .dataframe thead th {\n",
       "        text-align: right;\n",
       "    }\n",
       "</style>\n",
       "<table border=\"1\" class=\"dataframe\">\n",
       "  <thead>\n",
       "    <tr style=\"text-align: right;\">\n",
       "      <th></th>\n",
       "      <th>driver_id</th>\n",
       "      <th>earliest_date</th>\n",
       "      <th>pu_ca</th>\n",
       "      <th>driver_postcode</th>\n",
       "      <th>driver_ca</th>\n",
       "      <th>no_packages</th>\n",
       "      <th>application_fountain_id</th>\n",
       "    </tr>\n",
       "  </thead>\n",
       "  <tbody>\n",
       "    <tr>\n",
       "      <th>12740</th>\n",
       "      <td>339107</td>\n",
       "      <td>2021-01-06</td>\n",
       "      <td>London Outer N</td>\n",
       "      <td>N8 9JT</td>\n",
       "      <td>London Outer N</td>\n",
       "      <td>1</td>\n",
       "      <td>92a79bc5-2bcc-40fe-92fc-c4dead46f15a</td>\n",
       "    </tr>\n",
       "    <tr>\n",
       "      <th>12783</th>\n",
       "      <td>339657</td>\n",
       "      <td>2021-01-07</td>\n",
       "      <td>London Outer NE</td>\n",
       "      <td>N22 5AG</td>\n",
       "      <td>London Outer N</td>\n",
       "      <td>1</td>\n",
       "      <td>59dc59e6-13bc-496d-93ec-64df7090f031</td>\n",
       "    </tr>\n",
       "    <tr>\n",
       "      <th>12788</th>\n",
       "      <td>339680</td>\n",
       "      <td>2021-01-07</td>\n",
       "      <td>London Border NE</td>\n",
       "      <td>E12 6NX</td>\n",
       "      <td>London Outer NE</td>\n",
       "      <td>1</td>\n",
       "      <td>53cde956-986b-40ac-8b09-0912c8ea2918</td>\n",
       "    </tr>\n",
       "    <tr>\n",
       "      <th>12789</th>\n",
       "      <td>339714</td>\n",
       "      <td>2021-01-07</td>\n",
       "      <td>London Inner N</td>\n",
       "      <td>E1 1BF</td>\n",
       "      <td>London Inner N</td>\n",
       "      <td>16</td>\n",
       "      <td>7f937df5-af27-45f5-be69-27510d754e04</td>\n",
       "    </tr>\n",
       "    <tr>\n",
       "      <th>12796</th>\n",
       "      <td>339748</td>\n",
       "      <td>2021-01-07</td>\n",
       "      <td>London Inner E</td>\n",
       "      <td>NW10 3NU</td>\n",
       "      <td>London Inner Upper NW</td>\n",
       "      <td>1</td>\n",
       "      <td>53f397a5-86c5-43a4-b7c3-9b54ebf9a6cc</td>\n",
       "    </tr>\n",
       "    <tr>\n",
       "      <th>...</th>\n",
       "      <td>...</td>\n",
       "      <td>...</td>\n",
       "      <td>...</td>\n",
       "      <td>...</td>\n",
       "      <td>...</td>\n",
       "      <td>...</td>\n",
       "      <td>...</td>\n",
       "    </tr>\n",
       "    <tr>\n",
       "      <th>129624</th>\n",
       "      <td>490652</td>\n",
       "      <td>2021-12-17</td>\n",
       "      <td>Bolton</td>\n",
       "      <td>BL1 8AL</td>\n",
       "      <td>Bolton</td>\n",
       "      <td>7</td>\n",
       "      <td>5fd8a8a9-6e33-4743-989b-6f84aa283e60</td>\n",
       "    </tr>\n",
       "    <tr>\n",
       "      <th>129626</th>\n",
       "      <td>490657</td>\n",
       "      <td>2021-12-17</td>\n",
       "      <td>Nottingham Central</td>\n",
       "      <td>NG7 3BP</td>\n",
       "      <td>Nottingham Central</td>\n",
       "      <td>24</td>\n",
       "      <td>63872249-23f0-4e12-ab9d-47cafbec948f</td>\n",
       "    </tr>\n",
       "    <tr>\n",
       "      <th>129627</th>\n",
       "      <td>490670</td>\n",
       "      <td>2021-12-17</td>\n",
       "      <td>Wolverhampton</td>\n",
       "      <td>WV1 1QU</td>\n",
       "      <td>Wolverhampton</td>\n",
       "      <td>17</td>\n",
       "      <td>67e745da-8f0e-4bcb-88e0-8b6686af5553</td>\n",
       "    </tr>\n",
       "    <tr>\n",
       "      <th>129628</th>\n",
       "      <td>490706</td>\n",
       "      <td>2021-12-17</td>\n",
       "      <td>St Helens</td>\n",
       "      <td>WA9 2BE</td>\n",
       "      <td>St Helens</td>\n",
       "      <td>25</td>\n",
       "      <td>67ea9a44-44a2-4462-82e1-f3d68ab8d044</td>\n",
       "    </tr>\n",
       "    <tr>\n",
       "      <th>129632</th>\n",
       "      <td>491959</td>\n",
       "      <td>2021-12-20</td>\n",
       "      <td>Sunderland</td>\n",
       "      <td>SR4 7BT</td>\n",
       "      <td>Sunderland</td>\n",
       "      <td>1</td>\n",
       "      <td>8d2d723f-9692-438e-9901-eac45fe26fcf</td>\n",
       "    </tr>\n",
       "  </tbody>\n",
       "</table>\n",
       "<p>33586 rows × 7 columns</p>\n",
       "</div>"
      ],
      "text/plain": [
       "        driver_id earliest_date               pu_ca driver_postcode  \\\n",
       "12740      339107    2021-01-06      London Outer N          N8 9JT   \n",
       "12783      339657    2021-01-07     London Outer NE         N22 5AG   \n",
       "12788      339680    2021-01-07    London Border NE         E12 6NX   \n",
       "12789      339714    2021-01-07      London Inner N          E1 1BF   \n",
       "12796      339748    2021-01-07      London Inner E        NW10 3NU   \n",
       "...           ...           ...                 ...             ...   \n",
       "129624     490652    2021-12-17              Bolton         BL1 8AL   \n",
       "129626     490657    2021-12-17  Nottingham Central         NG7 3BP   \n",
       "129627     490670    2021-12-17       Wolverhampton         WV1 1QU   \n",
       "129628     490706    2021-12-17           St Helens         WA9 2BE   \n",
       "129632     491959    2021-12-20          Sunderland         SR4 7BT   \n",
       "\n",
       "                    driver_ca  no_packages  \\\n",
       "12740          London Outer N            1   \n",
       "12783          London Outer N            1   \n",
       "12788         London Outer NE            1   \n",
       "12789          London Inner N           16   \n",
       "12796   London Inner Upper NW            1   \n",
       "...                       ...          ...   \n",
       "129624                 Bolton            7   \n",
       "129626     Nottingham Central           24   \n",
       "129627          Wolverhampton           17   \n",
       "129628              St Helens           25   \n",
       "129632             Sunderland            1   \n",
       "\n",
       "                     application_fountain_id  \n",
       "12740   92a79bc5-2bcc-40fe-92fc-c4dead46f15a  \n",
       "12783   59dc59e6-13bc-496d-93ec-64df7090f031  \n",
       "12788   53cde956-986b-40ac-8b09-0912c8ea2918  \n",
       "12789   7f937df5-af27-45f5-be69-27510d754e04  \n",
       "12796   53f397a5-86c5-43a4-b7c3-9b54ebf9a6cc  \n",
       "...                                      ...  \n",
       "129624  5fd8a8a9-6e33-4743-989b-6f84aa283e60  \n",
       "129626  63872249-23f0-4e12-ab9d-47cafbec948f  \n",
       "129627  67e745da-8f0e-4bcb-88e0-8b6686af5553  \n",
       "129628  67ea9a44-44a2-4462-82e1-f3d68ab8d044  \n",
       "129632  8d2d723f-9692-438e-9901-eac45fe26fcf  \n",
       "\n",
       "[33586 rows x 7 columns]"
      ]
     },
     "execution_count": 220,
     "metadata": {},
     "output_type": "execute_result"
    }
   ],
   "source": [
    "no_dup_deliveries"
   ]
  },
  {
   "cell_type": "code",
   "execution_count": 221,
   "metadata": {},
   "outputs": [
    {
     "data": {
      "text/html": [
       "<div>\n",
       "<style scoped>\n",
       "    .dataframe tbody tr th:only-of-type {\n",
       "        vertical-align: middle;\n",
       "    }\n",
       "\n",
       "    .dataframe tbody tr th {\n",
       "        vertical-align: top;\n",
       "    }\n",
       "\n",
       "    .dataframe thead th {\n",
       "        text-align: right;\n",
       "    }\n",
       "</style>\n",
       "<table border=\"1\" class=\"dataframe\">\n",
       "  <thead>\n",
       "    <tr style=\"text-align: right;\">\n",
       "      <th></th>\n",
       "      <th>driver_id</th>\n",
       "      <th>earliest_date</th>\n",
       "      <th>pu_ca</th>\n",
       "      <th>driver_postcode</th>\n",
       "      <th>driver_ca</th>\n",
       "      <th>no_packages</th>\n",
       "      <th>application_fountain_id</th>\n",
       "    </tr>\n",
       "  </thead>\n",
       "  <tbody>\n",
       "    <tr>\n",
       "      <th>39668</th>\n",
       "      <td>412933</td>\n",
       "      <td>2021-06-14</td>\n",
       "      <td>Plymouth</td>\n",
       "      <td>PL1 5AE</td>\n",
       "      <td>Plymouth</td>\n",
       "      <td>383</td>\n",
       "      <td>934961ce-3b80-4144-9287-a8257ff2a0aa</td>\n",
       "    </tr>\n",
       "    <tr>\n",
       "      <th>96309</th>\n",
       "      <td>412933</td>\n",
       "      <td>2021-06-14</td>\n",
       "      <td>Plymstock</td>\n",
       "      <td>PL1 5AE</td>\n",
       "      <td>Plymouth</td>\n",
       "      <td>291</td>\n",
       "      <td>934961ce-3b80-4144-9287-a8257ff2a0aa</td>\n",
       "    </tr>\n",
       "    <tr>\n",
       "      <th>126393</th>\n",
       "      <td>412933</td>\n",
       "      <td>2021-06-14</td>\n",
       "      <td>Milton Keynes</td>\n",
       "      <td>PL1 5AE</td>\n",
       "      <td>Plymouth</td>\n",
       "      <td>82</td>\n",
       "      <td>934961ce-3b80-4144-9287-a8257ff2a0aa</td>\n",
       "    </tr>\n",
       "  </tbody>\n",
       "</table>\n",
       "</div>"
      ],
      "text/plain": [
       "        driver_id earliest_date          pu_ca driver_postcode driver_ca  \\\n",
       "39668      412933    2021-06-14       Plymouth         PL1 5AE  Plymouth   \n",
       "96309      412933    2021-06-14      Plymstock         PL1 5AE  Plymouth   \n",
       "126393     412933    2021-06-14  Milton Keynes         PL1 5AE  Plymouth   \n",
       "\n",
       "        no_packages               application_fountain_id  \n",
       "39668           383  934961ce-3b80-4144-9287-a8257ff2a0aa  \n",
       "96309           291  934961ce-3b80-4144-9287-a8257ff2a0aa  \n",
       "126393           82  934961ce-3b80-4144-9287-a8257ff2a0aa  "
      ]
     },
     "execution_count": 221,
     "metadata": {},
     "output_type": "execute_result"
    }
   ],
   "source": [
    "# Checking exmaple\n",
    "no_dup_deliveries[no_dup_deliveries['driver_id']== 412933]"
   ]
  },
  {
   "cell_type": "code",
   "execution_count": 222,
   "metadata": {},
   "outputs": [
    {
     "data": {
      "text/html": [
       "<div>\n",
       "<style scoped>\n",
       "    .dataframe tbody tr th:only-of-type {\n",
       "        vertical-align: middle;\n",
       "    }\n",
       "\n",
       "    .dataframe tbody tr th {\n",
       "        vertical-align: top;\n",
       "    }\n",
       "\n",
       "    .dataframe thead th {\n",
       "        text-align: right;\n",
       "    }\n",
       "</style>\n",
       "<table border=\"1\" class=\"dataframe\">\n",
       "  <thead>\n",
       "    <tr style=\"text-align: right;\">\n",
       "      <th></th>\n",
       "      <th>driver_id</th>\n",
       "      <th>earliest_date</th>\n",
       "      <th>pu_ca</th>\n",
       "      <th>driver_postcode</th>\n",
       "      <th>driver_ca</th>\n",
       "      <th>no_packages_x</th>\n",
       "      <th>application_fountain_id</th>\n",
       "      <th>no_packages_y</th>\n",
       "    </tr>\n",
       "  </thead>\n",
       "  <tbody>\n",
       "    <tr>\n",
       "      <th>0</th>\n",
       "      <td>339107</td>\n",
       "      <td>2021-01-06</td>\n",
       "      <td>London Outer N</td>\n",
       "      <td>N8 9JT</td>\n",
       "      <td>London Outer N</td>\n",
       "      <td>1</td>\n",
       "      <td>92a79bc5-2bcc-40fe-92fc-c4dead46f15a</td>\n",
       "      <td>1</td>\n",
       "    </tr>\n",
       "    <tr>\n",
       "      <th>1</th>\n",
       "      <td>339657</td>\n",
       "      <td>2021-01-07</td>\n",
       "      <td>London Outer NE</td>\n",
       "      <td>N22 5AG</td>\n",
       "      <td>London Outer N</td>\n",
       "      <td>1</td>\n",
       "      <td>59dc59e6-13bc-496d-93ec-64df7090f031</td>\n",
       "      <td>668</td>\n",
       "    </tr>\n",
       "    <tr>\n",
       "      <th>2</th>\n",
       "      <td>339657</td>\n",
       "      <td>2021-01-07</td>\n",
       "      <td>London Outer S</td>\n",
       "      <td>N22 5AG</td>\n",
       "      <td>London Outer N</td>\n",
       "      <td>1</td>\n",
       "      <td>59dc59e6-13bc-496d-93ec-64df7090f031</td>\n",
       "      <td>668</td>\n",
       "    </tr>\n",
       "    <tr>\n",
       "      <th>3</th>\n",
       "      <td>339657</td>\n",
       "      <td>2021-01-07</td>\n",
       "      <td>London Outer SE</td>\n",
       "      <td>N22 5AG</td>\n",
       "      <td>London Outer N</td>\n",
       "      <td>7</td>\n",
       "      <td>59dc59e6-13bc-496d-93ec-64df7090f031</td>\n",
       "      <td>668</td>\n",
       "    </tr>\n",
       "    <tr>\n",
       "      <th>4</th>\n",
       "      <td>339657</td>\n",
       "      <td>2021-01-07</td>\n",
       "      <td>London Inner E</td>\n",
       "      <td>N22 5AG</td>\n",
       "      <td>London Outer N</td>\n",
       "      <td>639</td>\n",
       "      <td>59dc59e6-13bc-496d-93ec-64df7090f031</td>\n",
       "      <td>668</td>\n",
       "    </tr>\n",
       "    <tr>\n",
       "      <th>...</th>\n",
       "      <td>...</td>\n",
       "      <td>...</td>\n",
       "      <td>...</td>\n",
       "      <td>...</td>\n",
       "      <td>...</td>\n",
       "      <td>...</td>\n",
       "      <td>...</td>\n",
       "      <td>...</td>\n",
       "    </tr>\n",
       "    <tr>\n",
       "      <th>33581</th>\n",
       "      <td>490481</td>\n",
       "      <td>2021-12-17</td>\n",
       "      <td>Wolverhampton</td>\n",
       "      <td>WV10 0BT</td>\n",
       "      <td>Wolverhampton</td>\n",
       "      <td>48</td>\n",
       "      <td>b0b31a7d-1bf3-42e6-b985-ff0d33dc4a7f</td>\n",
       "      <td>48</td>\n",
       "    </tr>\n",
       "    <tr>\n",
       "      <th>33582</th>\n",
       "      <td>490559</td>\n",
       "      <td>2021-12-17</td>\n",
       "      <td>Liverpool North</td>\n",
       "      <td>L20 7AW</td>\n",
       "      <td>Liverpool North</td>\n",
       "      <td>3</td>\n",
       "      <td>cc5ca43a-d160-4653-af22-b8336926f6a4</td>\n",
       "      <td>3</td>\n",
       "    </tr>\n",
       "    <tr>\n",
       "      <th>33583</th>\n",
       "      <td>490629</td>\n",
       "      <td>2021-12-17</td>\n",
       "      <td>Bolton</td>\n",
       "      <td>BL1 8AQ</td>\n",
       "      <td>Bolton</td>\n",
       "      <td>4</td>\n",
       "      <td>4f5fdc72-020c-46a8-b9a8-6ce77ae1e839</td>\n",
       "      <td>4</td>\n",
       "    </tr>\n",
       "    <tr>\n",
       "      <th>33584</th>\n",
       "      <td>490652</td>\n",
       "      <td>2021-12-17</td>\n",
       "      <td>Bolton</td>\n",
       "      <td>BL1 8AL</td>\n",
       "      <td>Bolton</td>\n",
       "      <td>7</td>\n",
       "      <td>5fd8a8a9-6e33-4743-989b-6f84aa283e60</td>\n",
       "      <td>7</td>\n",
       "    </tr>\n",
       "    <tr>\n",
       "      <th>33585</th>\n",
       "      <td>490670</td>\n",
       "      <td>2021-12-17</td>\n",
       "      <td>Wolverhampton</td>\n",
       "      <td>WV1 1QU</td>\n",
       "      <td>Wolverhampton</td>\n",
       "      <td>17</td>\n",
       "      <td>67e745da-8f0e-4bcb-88e0-8b6686af5553</td>\n",
       "      <td>17</td>\n",
       "    </tr>\n",
       "  </tbody>\n",
       "</table>\n",
       "<p>33586 rows × 8 columns</p>\n",
       "</div>"
      ],
      "text/plain": [
       "       driver_id earliest_date            pu_ca driver_postcode  \\\n",
       "0         339107    2021-01-06   London Outer N          N8 9JT   \n",
       "1         339657    2021-01-07  London Outer NE         N22 5AG   \n",
       "2         339657    2021-01-07   London Outer S         N22 5AG   \n",
       "3         339657    2021-01-07  London Outer SE         N22 5AG   \n",
       "4         339657    2021-01-07   London Inner E         N22 5AG   \n",
       "...          ...           ...              ...             ...   \n",
       "33581     490481    2021-12-17    Wolverhampton        WV10 0BT   \n",
       "33582     490559    2021-12-17  Liverpool North         L20 7AW   \n",
       "33583     490629    2021-12-17           Bolton         BL1 8AQ   \n",
       "33584     490652    2021-12-17           Bolton         BL1 8AL   \n",
       "33585     490670    2021-12-17    Wolverhampton         WV1 1QU   \n",
       "\n",
       "             driver_ca  no_packages_x               application_fountain_id  \\\n",
       "0       London Outer N              1  92a79bc5-2bcc-40fe-92fc-c4dead46f15a   \n",
       "1       London Outer N              1  59dc59e6-13bc-496d-93ec-64df7090f031   \n",
       "2       London Outer N              1  59dc59e6-13bc-496d-93ec-64df7090f031   \n",
       "3       London Outer N              7  59dc59e6-13bc-496d-93ec-64df7090f031   \n",
       "4       London Outer N            639  59dc59e6-13bc-496d-93ec-64df7090f031   \n",
       "...                ...            ...                                   ...   \n",
       "33581    Wolverhampton             48  b0b31a7d-1bf3-42e6-b985-ff0d33dc4a7f   \n",
       "33582  Liverpool North              3  cc5ca43a-d160-4653-af22-b8336926f6a4   \n",
       "33583           Bolton              4  4f5fdc72-020c-46a8-b9a8-6ce77ae1e839   \n",
       "33584           Bolton              7  5fd8a8a9-6e33-4743-989b-6f84aa283e60   \n",
       "33585    Wolverhampton             17  67e745da-8f0e-4bcb-88e0-8b6686af5553   \n",
       "\n",
       "       no_packages_y  \n",
       "0                  1  \n",
       "1                668  \n",
       "2                668  \n",
       "3                668  \n",
       "4                668  \n",
       "...              ...  \n",
       "33581             48  \n",
       "33582              3  \n",
       "33583              4  \n",
       "33584              7  \n",
       "33585             17  \n",
       "\n",
       "[33586 rows x 8 columns]"
      ]
     },
     "execution_count": 222,
     "metadata": {},
     "output_type": "execute_result"
    }
   ],
   "source": [
    "# New column: total number of packages each driver did\n",
    "new_df = no_dup_deliveries.groupby(['driver_id', 'driver_ca']).sum('no_packages').reset_index()\n",
    "\n",
    "# Merging two datasets\n",
    "mapped = pd.merge(no_dup_deliveries, new_df, left_on = ['driver_id','driver_ca']\n",
    "                  , right_on = ['driver_id','driver_ca'])\n",
    "mapped"
   ]
  },
  {
   "cell_type": "code",
   "execution_count": 223,
   "metadata": {},
   "outputs": [
    {
     "data": {
      "text/plain": [
       "13463"
      ]
     },
     "execution_count": 223,
     "metadata": {},
     "output_type": "execute_result"
    }
   ],
   "source": [
    "mapped['driver_id'].nunique()"
   ]
  },
  {
   "cell_type": "code",
   "execution_count": 225,
   "metadata": {},
   "outputs": [
    {
     "data": {
      "text/html": [
       "<div>\n",
       "<style scoped>\n",
       "    .dataframe tbody tr th:only-of-type {\n",
       "        vertical-align: middle;\n",
       "    }\n",
       "\n",
       "    .dataframe tbody tr th {\n",
       "        vertical-align: top;\n",
       "    }\n",
       "\n",
       "    .dataframe thead th {\n",
       "        text-align: right;\n",
       "    }\n",
       "</style>\n",
       "<table border=\"1\" class=\"dataframe\">\n",
       "  <thead>\n",
       "    <tr style=\"text-align: right;\">\n",
       "      <th></th>\n",
       "      <th>driver_id</th>\n",
       "      <th>earliest_date</th>\n",
       "      <th>pu_ca</th>\n",
       "      <th>driver_postcode</th>\n",
       "      <th>driver_ca</th>\n",
       "      <th>nb_packages_per_CA</th>\n",
       "      <th>application_fountain_id</th>\n",
       "      <th>total_nb_packages</th>\n",
       "    </tr>\n",
       "  </thead>\n",
       "  <tbody>\n",
       "    <tr>\n",
       "      <th>0</th>\n",
       "      <td>339107</td>\n",
       "      <td>2021-01-06</td>\n",
       "      <td>London Outer N</td>\n",
       "      <td>N8 9JT</td>\n",
       "      <td>London Outer N</td>\n",
       "      <td>1</td>\n",
       "      <td>92a79bc5-2bcc-40fe-92fc-c4dead46f15a</td>\n",
       "      <td>1</td>\n",
       "    </tr>\n",
       "    <tr>\n",
       "      <th>1</th>\n",
       "      <td>339657</td>\n",
       "      <td>2021-01-07</td>\n",
       "      <td>London Outer NE</td>\n",
       "      <td>N22 5AG</td>\n",
       "      <td>London Outer N</td>\n",
       "      <td>1</td>\n",
       "      <td>59dc59e6-13bc-496d-93ec-64df7090f031</td>\n",
       "      <td>668</td>\n",
       "    </tr>\n",
       "    <tr>\n",
       "      <th>2</th>\n",
       "      <td>339657</td>\n",
       "      <td>2021-01-07</td>\n",
       "      <td>London Outer S</td>\n",
       "      <td>N22 5AG</td>\n",
       "      <td>London Outer N</td>\n",
       "      <td>1</td>\n",
       "      <td>59dc59e6-13bc-496d-93ec-64df7090f031</td>\n",
       "      <td>668</td>\n",
       "    </tr>\n",
       "    <tr>\n",
       "      <th>3</th>\n",
       "      <td>339657</td>\n",
       "      <td>2021-01-07</td>\n",
       "      <td>London Outer SE</td>\n",
       "      <td>N22 5AG</td>\n",
       "      <td>London Outer N</td>\n",
       "      <td>7</td>\n",
       "      <td>59dc59e6-13bc-496d-93ec-64df7090f031</td>\n",
       "      <td>668</td>\n",
       "    </tr>\n",
       "    <tr>\n",
       "      <th>4</th>\n",
       "      <td>339657</td>\n",
       "      <td>2021-01-07</td>\n",
       "      <td>London Inner E</td>\n",
       "      <td>N22 5AG</td>\n",
       "      <td>London Outer N</td>\n",
       "      <td>639</td>\n",
       "      <td>59dc59e6-13bc-496d-93ec-64df7090f031</td>\n",
       "      <td>668</td>\n",
       "    </tr>\n",
       "    <tr>\n",
       "      <th>...</th>\n",
       "      <td>...</td>\n",
       "      <td>...</td>\n",
       "      <td>...</td>\n",
       "      <td>...</td>\n",
       "      <td>...</td>\n",
       "      <td>...</td>\n",
       "      <td>...</td>\n",
       "      <td>...</td>\n",
       "    </tr>\n",
       "    <tr>\n",
       "      <th>33581</th>\n",
       "      <td>490481</td>\n",
       "      <td>2021-12-17</td>\n",
       "      <td>Wolverhampton</td>\n",
       "      <td>WV10 0BT</td>\n",
       "      <td>Wolverhampton</td>\n",
       "      <td>48</td>\n",
       "      <td>b0b31a7d-1bf3-42e6-b985-ff0d33dc4a7f</td>\n",
       "      <td>48</td>\n",
       "    </tr>\n",
       "    <tr>\n",
       "      <th>33582</th>\n",
       "      <td>490559</td>\n",
       "      <td>2021-12-17</td>\n",
       "      <td>Liverpool North</td>\n",
       "      <td>L20 7AW</td>\n",
       "      <td>Liverpool North</td>\n",
       "      <td>3</td>\n",
       "      <td>cc5ca43a-d160-4653-af22-b8336926f6a4</td>\n",
       "      <td>3</td>\n",
       "    </tr>\n",
       "    <tr>\n",
       "      <th>33583</th>\n",
       "      <td>490629</td>\n",
       "      <td>2021-12-17</td>\n",
       "      <td>Bolton</td>\n",
       "      <td>BL1 8AQ</td>\n",
       "      <td>Bolton</td>\n",
       "      <td>4</td>\n",
       "      <td>4f5fdc72-020c-46a8-b9a8-6ce77ae1e839</td>\n",
       "      <td>4</td>\n",
       "    </tr>\n",
       "    <tr>\n",
       "      <th>33584</th>\n",
       "      <td>490652</td>\n",
       "      <td>2021-12-17</td>\n",
       "      <td>Bolton</td>\n",
       "      <td>BL1 8AL</td>\n",
       "      <td>Bolton</td>\n",
       "      <td>7</td>\n",
       "      <td>5fd8a8a9-6e33-4743-989b-6f84aa283e60</td>\n",
       "      <td>7</td>\n",
       "    </tr>\n",
       "    <tr>\n",
       "      <th>33585</th>\n",
       "      <td>490670</td>\n",
       "      <td>2021-12-17</td>\n",
       "      <td>Wolverhampton</td>\n",
       "      <td>WV1 1QU</td>\n",
       "      <td>Wolverhampton</td>\n",
       "      <td>17</td>\n",
       "      <td>67e745da-8f0e-4bcb-88e0-8b6686af5553</td>\n",
       "      <td>17</td>\n",
       "    </tr>\n",
       "  </tbody>\n",
       "</table>\n",
       "<p>33586 rows × 8 columns</p>\n",
       "</div>"
      ],
      "text/plain": [
       "       driver_id earliest_date            pu_ca driver_postcode  \\\n",
       "0         339107    2021-01-06   London Outer N          N8 9JT   \n",
       "1         339657    2021-01-07  London Outer NE         N22 5AG   \n",
       "2         339657    2021-01-07   London Outer S         N22 5AG   \n",
       "3         339657    2021-01-07  London Outer SE         N22 5AG   \n",
       "4         339657    2021-01-07   London Inner E         N22 5AG   \n",
       "...          ...           ...              ...             ...   \n",
       "33581     490481    2021-12-17    Wolverhampton        WV10 0BT   \n",
       "33582     490559    2021-12-17  Liverpool North         L20 7AW   \n",
       "33583     490629    2021-12-17           Bolton         BL1 8AQ   \n",
       "33584     490652    2021-12-17           Bolton         BL1 8AL   \n",
       "33585     490670    2021-12-17    Wolverhampton         WV1 1QU   \n",
       "\n",
       "             driver_ca  nb_packages_per_CA  \\\n",
       "0       London Outer N                   1   \n",
       "1       London Outer N                   1   \n",
       "2       London Outer N                   1   \n",
       "3       London Outer N                   7   \n",
       "4       London Outer N                 639   \n",
       "...                ...                 ...   \n",
       "33581    Wolverhampton                  48   \n",
       "33582  Liverpool North                   3   \n",
       "33583           Bolton                   4   \n",
       "33584           Bolton                   7   \n",
       "33585    Wolverhampton                  17   \n",
       "\n",
       "                    application_fountain_id  total_nb_packages  \n",
       "0      92a79bc5-2bcc-40fe-92fc-c4dead46f15a                  1  \n",
       "1      59dc59e6-13bc-496d-93ec-64df7090f031                668  \n",
       "2      59dc59e6-13bc-496d-93ec-64df7090f031                668  \n",
       "3      59dc59e6-13bc-496d-93ec-64df7090f031                668  \n",
       "4      59dc59e6-13bc-496d-93ec-64df7090f031                668  \n",
       "...                                     ...                ...  \n",
       "33581  b0b31a7d-1bf3-42e6-b985-ff0d33dc4a7f                 48  \n",
       "33582  cc5ca43a-d160-4653-af22-b8336926f6a4                  3  \n",
       "33583  4f5fdc72-020c-46a8-b9a8-6ce77ae1e839                  4  \n",
       "33584  5fd8a8a9-6e33-4743-989b-6f84aa283e60                  7  \n",
       "33585  67e745da-8f0e-4bcb-88e0-8b6686af5553                 17  \n",
       "\n",
       "[33586 rows x 8 columns]"
      ]
     },
     "execution_count": 225,
     "metadata": {},
     "output_type": "execute_result"
    }
   ],
   "source": [
    "# Renaming columns\n",
    "mapped = mapped.rename(columns = {'no_packages_x' : 'nb_packages_per_CA', 'no_packages_y' : 'total_nb_packages' , 'zone_name' : 'zone_name_of_driver_pu_ca'})\n",
    "mapped"
   ]
  },
  {
   "cell_type": "code",
   "execution_count": 239,
   "metadata": {},
   "outputs": [
    {
     "data": {
      "text/html": [
       "<div>\n",
       "<style scoped>\n",
       "    .dataframe tbody tr th:only-of-type {\n",
       "        vertical-align: middle;\n",
       "    }\n",
       "\n",
       "    .dataframe tbody tr th {\n",
       "        vertical-align: top;\n",
       "    }\n",
       "\n",
       "    .dataframe thead th {\n",
       "        text-align: right;\n",
       "    }\n",
       "</style>\n",
       "<table border=\"1\" class=\"dataframe\">\n",
       "  <thead>\n",
       "    <tr style=\"text-align: right;\">\n",
       "      <th></th>\n",
       "      <th>driver_id</th>\n",
       "      <th>driver_postcode</th>\n",
       "      <th>driver_ca</th>\n",
       "      <th>pu_ca</th>\n",
       "      <th>nb_packages_per_CA</th>\n",
       "      <th>total_nb_packages</th>\n",
       "    </tr>\n",
       "  </thead>\n",
       "  <tbody>\n",
       "    <tr>\n",
       "      <th>0</th>\n",
       "      <td>339107</td>\n",
       "      <td>N8 9JT</td>\n",
       "      <td>London Outer N</td>\n",
       "      <td>London Outer N</td>\n",
       "      <td>1</td>\n",
       "      <td>1</td>\n",
       "    </tr>\n",
       "    <tr>\n",
       "      <th>1</th>\n",
       "      <td>339657</td>\n",
       "      <td>N22 5AG</td>\n",
       "      <td>London Outer N</td>\n",
       "      <td>London Outer NE</td>\n",
       "      <td>1</td>\n",
       "      <td>668</td>\n",
       "    </tr>\n",
       "    <tr>\n",
       "      <th>2</th>\n",
       "      <td>339657</td>\n",
       "      <td>N22 5AG</td>\n",
       "      <td>London Outer N</td>\n",
       "      <td>London Outer S</td>\n",
       "      <td>1</td>\n",
       "      <td>668</td>\n",
       "    </tr>\n",
       "    <tr>\n",
       "      <th>3</th>\n",
       "      <td>339657</td>\n",
       "      <td>N22 5AG</td>\n",
       "      <td>London Outer N</td>\n",
       "      <td>London Outer SE</td>\n",
       "      <td>7</td>\n",
       "      <td>668</td>\n",
       "    </tr>\n",
       "    <tr>\n",
       "      <th>4</th>\n",
       "      <td>339657</td>\n",
       "      <td>N22 5AG</td>\n",
       "      <td>London Outer N</td>\n",
       "      <td>London Inner E</td>\n",
       "      <td>639</td>\n",
       "      <td>668</td>\n",
       "    </tr>\n",
       "    <tr>\n",
       "      <th>...</th>\n",
       "      <td>...</td>\n",
       "      <td>...</td>\n",
       "      <td>...</td>\n",
       "      <td>...</td>\n",
       "      <td>...</td>\n",
       "      <td>...</td>\n",
       "    </tr>\n",
       "    <tr>\n",
       "      <th>33581</th>\n",
       "      <td>490481</td>\n",
       "      <td>WV10 0BT</td>\n",
       "      <td>Wolverhampton</td>\n",
       "      <td>Wolverhampton</td>\n",
       "      <td>48</td>\n",
       "      <td>48</td>\n",
       "    </tr>\n",
       "    <tr>\n",
       "      <th>33582</th>\n",
       "      <td>490559</td>\n",
       "      <td>L20 7AW</td>\n",
       "      <td>Liverpool North</td>\n",
       "      <td>Liverpool North</td>\n",
       "      <td>3</td>\n",
       "      <td>3</td>\n",
       "    </tr>\n",
       "    <tr>\n",
       "      <th>33583</th>\n",
       "      <td>490629</td>\n",
       "      <td>BL1 8AQ</td>\n",
       "      <td>Bolton</td>\n",
       "      <td>Bolton</td>\n",
       "      <td>4</td>\n",
       "      <td>4</td>\n",
       "    </tr>\n",
       "    <tr>\n",
       "      <th>33584</th>\n",
       "      <td>490652</td>\n",
       "      <td>BL1 8AL</td>\n",
       "      <td>Bolton</td>\n",
       "      <td>Bolton</td>\n",
       "      <td>7</td>\n",
       "      <td>7</td>\n",
       "    </tr>\n",
       "    <tr>\n",
       "      <th>33585</th>\n",
       "      <td>490670</td>\n",
       "      <td>WV1 1QU</td>\n",
       "      <td>Wolverhampton</td>\n",
       "      <td>Wolverhampton</td>\n",
       "      <td>17</td>\n",
       "      <td>17</td>\n",
       "    </tr>\n",
       "  </tbody>\n",
       "</table>\n",
       "<p>33586 rows × 6 columns</p>\n",
       "</div>"
      ],
      "text/plain": [
       "       driver_id driver_postcode        driver_ca            pu_ca  \\\n",
       "0         339107          N8 9JT   London Outer N   London Outer N   \n",
       "1         339657         N22 5AG   London Outer N  London Outer NE   \n",
       "2         339657         N22 5AG   London Outer N   London Outer S   \n",
       "3         339657         N22 5AG   London Outer N  London Outer SE   \n",
       "4         339657         N22 5AG   London Outer N   London Inner E   \n",
       "...          ...             ...              ...              ...   \n",
       "33581     490481        WV10 0BT    Wolverhampton    Wolverhampton   \n",
       "33582     490559         L20 7AW  Liverpool North  Liverpool North   \n",
       "33583     490629         BL1 8AQ           Bolton           Bolton   \n",
       "33584     490652         BL1 8AL           Bolton           Bolton   \n",
       "33585     490670         WV1 1QU    Wolverhampton    Wolverhampton   \n",
       "\n",
       "       nb_packages_per_CA  total_nb_packages  \n",
       "0                       1                  1  \n",
       "1                       1                668  \n",
       "2                       1                668  \n",
       "3                       7                668  \n",
       "4                     639                668  \n",
       "...                   ...                ...  \n",
       "33581                  48                 48  \n",
       "33582                   3                  3  \n",
       "33583                   4                  4  \n",
       "33584                   7                  7  \n",
       "33585                  17                 17  \n",
       "\n",
       "[33586 rows x 6 columns]"
      ]
     },
     "execution_count": 239,
     "metadata": {},
     "output_type": "execute_result"
    }
   ],
   "source": [
    "# Reordering columns for readability\n",
    "mapped = mapped[['driver_id', 'driver_postcode' , 'driver_ca' , 'pu_ca' , 'nb_packages_per_CA' , 'total_nb_packages']].copy()\n",
    "mapped"
   ]
  },
  {
   "cell_type": "code",
   "execution_count": 259,
   "metadata": {},
   "outputs": [
    {
     "data": {
      "text/plain": [
       "1340"
      ]
     },
     "execution_count": 259,
     "metadata": {},
     "output_type": "execute_result"
    }
   ],
   "source": [
    "# number of drives that did 0 deliveries in their own catchment area \n",
    "len(set(mapped[mapped['driver_ca'] != mapped['pu_ca']]['driver_id']).difference(mapped_filter['driver_id']))"
   ]
  },
  {
   "cell_type": "code",
   "execution_count": 240,
   "metadata": {},
   "outputs": [
    {
     "data": {
      "text/html": [
       "<div>\n",
       "<style scoped>\n",
       "    .dataframe tbody tr th:only-of-type {\n",
       "        vertical-align: middle;\n",
       "    }\n",
       "\n",
       "    .dataframe tbody tr th {\n",
       "        vertical-align: top;\n",
       "    }\n",
       "\n",
       "    .dataframe thead th {\n",
       "        text-align: right;\n",
       "    }\n",
       "</style>\n",
       "<table border=\"1\" class=\"dataframe\">\n",
       "  <thead>\n",
       "    <tr style=\"text-align: right;\">\n",
       "      <th></th>\n",
       "      <th>driver_id</th>\n",
       "      <th>driver_postcode</th>\n",
       "      <th>driver_ca</th>\n",
       "      <th>pu_ca</th>\n",
       "      <th>nb_packages_per_CA</th>\n",
       "      <th>total_nb_packages</th>\n",
       "    </tr>\n",
       "  </thead>\n",
       "  <tbody>\n",
       "    <tr>\n",
       "      <th>0</th>\n",
       "      <td>339107</td>\n",
       "      <td>N8 9JT</td>\n",
       "      <td>London Outer N</td>\n",
       "      <td>London Outer N</td>\n",
       "      <td>1</td>\n",
       "      <td>1</td>\n",
       "    </tr>\n",
       "    <tr>\n",
       "      <th>9</th>\n",
       "      <td>339680</td>\n",
       "      <td>E12 6NX</td>\n",
       "      <td>London Outer NE</td>\n",
       "      <td>London Outer NE</td>\n",
       "      <td>69</td>\n",
       "      <td>70</td>\n",
       "    </tr>\n",
       "    <tr>\n",
       "      <th>10</th>\n",
       "      <td>339714</td>\n",
       "      <td>E1 1BF</td>\n",
       "      <td>London Inner N</td>\n",
       "      <td>London Inner N</td>\n",
       "      <td>16</td>\n",
       "      <td>16</td>\n",
       "    </tr>\n",
       "    <tr>\n",
       "      <th>13</th>\n",
       "      <td>339748</td>\n",
       "      <td>NW10 3NU</td>\n",
       "      <td>London Inner Upper NW</td>\n",
       "      <td>London Inner Upper NW</td>\n",
       "      <td>27</td>\n",
       "      <td>36</td>\n",
       "    </tr>\n",
       "    <tr>\n",
       "      <th>21</th>\n",
       "      <td>339756</td>\n",
       "      <td>N7 8DJ</td>\n",
       "      <td>London Inner N</td>\n",
       "      <td>London Inner N</td>\n",
       "      <td>156</td>\n",
       "      <td>3076</td>\n",
       "    </tr>\n",
       "    <tr>\n",
       "      <th>...</th>\n",
       "      <td>...</td>\n",
       "      <td>...</td>\n",
       "      <td>...</td>\n",
       "      <td>...</td>\n",
       "      <td>...</td>\n",
       "      <td>...</td>\n",
       "    </tr>\n",
       "    <tr>\n",
       "      <th>33581</th>\n",
       "      <td>490481</td>\n",
       "      <td>WV10 0BT</td>\n",
       "      <td>Wolverhampton</td>\n",
       "      <td>Wolverhampton</td>\n",
       "      <td>48</td>\n",
       "      <td>48</td>\n",
       "    </tr>\n",
       "    <tr>\n",
       "      <th>33582</th>\n",
       "      <td>490559</td>\n",
       "      <td>L20 7AW</td>\n",
       "      <td>Liverpool North</td>\n",
       "      <td>Liverpool North</td>\n",
       "      <td>3</td>\n",
       "      <td>3</td>\n",
       "    </tr>\n",
       "    <tr>\n",
       "      <th>33583</th>\n",
       "      <td>490629</td>\n",
       "      <td>BL1 8AQ</td>\n",
       "      <td>Bolton</td>\n",
       "      <td>Bolton</td>\n",
       "      <td>4</td>\n",
       "      <td>4</td>\n",
       "    </tr>\n",
       "    <tr>\n",
       "      <th>33584</th>\n",
       "      <td>490652</td>\n",
       "      <td>BL1 8AL</td>\n",
       "      <td>Bolton</td>\n",
       "      <td>Bolton</td>\n",
       "      <td>7</td>\n",
       "      <td>7</td>\n",
       "    </tr>\n",
       "    <tr>\n",
       "      <th>33585</th>\n",
       "      <td>490670</td>\n",
       "      <td>WV1 1QU</td>\n",
       "      <td>Wolverhampton</td>\n",
       "      <td>Wolverhampton</td>\n",
       "      <td>17</td>\n",
       "      <td>17</td>\n",
       "    </tr>\n",
       "  </tbody>\n",
       "</table>\n",
       "<p>12123 rows × 6 columns</p>\n",
       "</div>"
      ],
      "text/plain": [
       "       driver_id driver_postcode              driver_ca  \\\n",
       "0         339107          N8 9JT         London Outer N   \n",
       "9         339680         E12 6NX        London Outer NE   \n",
       "10        339714          E1 1BF         London Inner N   \n",
       "13        339748        NW10 3NU  London Inner Upper NW   \n",
       "21        339756          N7 8DJ         London Inner N   \n",
       "...          ...             ...                    ...   \n",
       "33581     490481        WV10 0BT          Wolverhampton   \n",
       "33582     490559         L20 7AW        Liverpool North   \n",
       "33583     490629         BL1 8AQ                 Bolton   \n",
       "33584     490652         BL1 8AL                 Bolton   \n",
       "33585     490670         WV1 1QU          Wolverhampton   \n",
       "\n",
       "                       pu_ca  nb_packages_per_CA  total_nb_packages  \n",
       "0             London Outer N                   1                  1  \n",
       "9            London Outer NE                  69                 70  \n",
       "10            London Inner N                  16                 16  \n",
       "13     London Inner Upper NW                  27                 36  \n",
       "21            London Inner N                 156               3076  \n",
       "...                      ...                 ...                ...  \n",
       "33581          Wolverhampton                  48                 48  \n",
       "33582        Liverpool North                   3                  3  \n",
       "33583                 Bolton                   4                  4  \n",
       "33584                 Bolton                   7                  7  \n",
       "33585          Wolverhampton                  17                 17  \n",
       "\n",
       "[12123 rows x 6 columns]"
      ]
     },
     "execution_count": 240,
     "metadata": {},
     "output_type": "execute_result"
    }
   ],
   "source": [
    "# Only deliveries that were in PU_CA\n",
    "mapped_filter = mapped[mapped['driver_ca']== mapped['pu_ca']].copy()\n",
    "mapped_filter"
   ]
  },
  {
   "cell_type": "code",
   "execution_count": 241,
   "metadata": {},
   "outputs": [
    {
     "data": {
      "text/html": [
       "<div>\n",
       "<style scoped>\n",
       "    .dataframe tbody tr th:only-of-type {\n",
       "        vertical-align: middle;\n",
       "    }\n",
       "\n",
       "    .dataframe tbody tr th {\n",
       "        vertical-align: top;\n",
       "    }\n",
       "\n",
       "    .dataframe thead th {\n",
       "        text-align: right;\n",
       "    }\n",
       "</style>\n",
       "<table border=\"1\" class=\"dataframe\">\n",
       "  <thead>\n",
       "    <tr style=\"text-align: right;\">\n",
       "      <th></th>\n",
       "      <th>driver_id</th>\n",
       "      <th>driver_postcode</th>\n",
       "      <th>driver_ca</th>\n",
       "      <th>pu_ca</th>\n",
       "      <th>nb_packages_per_CA</th>\n",
       "      <th>total_nb_packages</th>\n",
       "      <th>percentage_of_packages_in_Dca</th>\n",
       "    </tr>\n",
       "  </thead>\n",
       "  <tbody>\n",
       "    <tr>\n",
       "      <th>0</th>\n",
       "      <td>339107</td>\n",
       "      <td>N8 9JT</td>\n",
       "      <td>London Outer N</td>\n",
       "      <td>London Outer N</td>\n",
       "      <td>1</td>\n",
       "      <td>1</td>\n",
       "      <td>100.000000</td>\n",
       "    </tr>\n",
       "    <tr>\n",
       "      <th>9</th>\n",
       "      <td>339680</td>\n",
       "      <td>E12 6NX</td>\n",
       "      <td>London Outer NE</td>\n",
       "      <td>London Outer NE</td>\n",
       "      <td>69</td>\n",
       "      <td>70</td>\n",
       "      <td>98.571429</td>\n",
       "    </tr>\n",
       "    <tr>\n",
       "      <th>10</th>\n",
       "      <td>339714</td>\n",
       "      <td>E1 1BF</td>\n",
       "      <td>London Inner N</td>\n",
       "      <td>London Inner N</td>\n",
       "      <td>16</td>\n",
       "      <td>16</td>\n",
       "      <td>100.000000</td>\n",
       "    </tr>\n",
       "    <tr>\n",
       "      <th>13</th>\n",
       "      <td>339748</td>\n",
       "      <td>NW10 3NU</td>\n",
       "      <td>London Inner Upper NW</td>\n",
       "      <td>London Inner Upper NW</td>\n",
       "      <td>27</td>\n",
       "      <td>36</td>\n",
       "      <td>75.000000</td>\n",
       "    </tr>\n",
       "    <tr>\n",
       "      <th>21</th>\n",
       "      <td>339756</td>\n",
       "      <td>N7 8DJ</td>\n",
       "      <td>London Inner N</td>\n",
       "      <td>London Inner N</td>\n",
       "      <td>156</td>\n",
       "      <td>3076</td>\n",
       "      <td>5.071521</td>\n",
       "    </tr>\n",
       "    <tr>\n",
       "      <th>...</th>\n",
       "      <td>...</td>\n",
       "      <td>...</td>\n",
       "      <td>...</td>\n",
       "      <td>...</td>\n",
       "      <td>...</td>\n",
       "      <td>...</td>\n",
       "      <td>...</td>\n",
       "    </tr>\n",
       "    <tr>\n",
       "      <th>33581</th>\n",
       "      <td>490481</td>\n",
       "      <td>WV10 0BT</td>\n",
       "      <td>Wolverhampton</td>\n",
       "      <td>Wolverhampton</td>\n",
       "      <td>48</td>\n",
       "      <td>48</td>\n",
       "      <td>100.000000</td>\n",
       "    </tr>\n",
       "    <tr>\n",
       "      <th>33582</th>\n",
       "      <td>490559</td>\n",
       "      <td>L20 7AW</td>\n",
       "      <td>Liverpool North</td>\n",
       "      <td>Liverpool North</td>\n",
       "      <td>3</td>\n",
       "      <td>3</td>\n",
       "      <td>100.000000</td>\n",
       "    </tr>\n",
       "    <tr>\n",
       "      <th>33583</th>\n",
       "      <td>490629</td>\n",
       "      <td>BL1 8AQ</td>\n",
       "      <td>Bolton</td>\n",
       "      <td>Bolton</td>\n",
       "      <td>4</td>\n",
       "      <td>4</td>\n",
       "      <td>100.000000</td>\n",
       "    </tr>\n",
       "    <tr>\n",
       "      <th>33584</th>\n",
       "      <td>490652</td>\n",
       "      <td>BL1 8AL</td>\n",
       "      <td>Bolton</td>\n",
       "      <td>Bolton</td>\n",
       "      <td>7</td>\n",
       "      <td>7</td>\n",
       "      <td>100.000000</td>\n",
       "    </tr>\n",
       "    <tr>\n",
       "      <th>33585</th>\n",
       "      <td>490670</td>\n",
       "      <td>WV1 1QU</td>\n",
       "      <td>Wolverhampton</td>\n",
       "      <td>Wolverhampton</td>\n",
       "      <td>17</td>\n",
       "      <td>17</td>\n",
       "      <td>100.000000</td>\n",
       "    </tr>\n",
       "  </tbody>\n",
       "</table>\n",
       "<p>12123 rows × 7 columns</p>\n",
       "</div>"
      ],
      "text/plain": [
       "       driver_id driver_postcode              driver_ca  \\\n",
       "0         339107          N8 9JT         London Outer N   \n",
       "9         339680         E12 6NX        London Outer NE   \n",
       "10        339714          E1 1BF         London Inner N   \n",
       "13        339748        NW10 3NU  London Inner Upper NW   \n",
       "21        339756          N7 8DJ         London Inner N   \n",
       "...          ...             ...                    ...   \n",
       "33581     490481        WV10 0BT          Wolverhampton   \n",
       "33582     490559         L20 7AW        Liverpool North   \n",
       "33583     490629         BL1 8AQ                 Bolton   \n",
       "33584     490652         BL1 8AL                 Bolton   \n",
       "33585     490670         WV1 1QU          Wolverhampton   \n",
       "\n",
       "                       pu_ca  nb_packages_per_CA  total_nb_packages  \\\n",
       "0             London Outer N                   1                  1   \n",
       "9            London Outer NE                  69                 70   \n",
       "10            London Inner N                  16                 16   \n",
       "13     London Inner Upper NW                  27                 36   \n",
       "21            London Inner N                 156               3076   \n",
       "...                      ...                 ...                ...   \n",
       "33581          Wolverhampton                  48                 48   \n",
       "33582        Liverpool North                   3                  3   \n",
       "33583                 Bolton                   4                  4   \n",
       "33584                 Bolton                   7                  7   \n",
       "33585          Wolverhampton                  17                 17   \n",
       "\n",
       "       percentage_of_packages_in_Dca  \n",
       "0                         100.000000  \n",
       "9                          98.571429  \n",
       "10                        100.000000  \n",
       "13                         75.000000  \n",
       "21                          5.071521  \n",
       "...                              ...  \n",
       "33581                     100.000000  \n",
       "33582                     100.000000  \n",
       "33583                     100.000000  \n",
       "33584                     100.000000  \n",
       "33585                     100.000000  \n",
       "\n",
       "[12123 rows x 7 columns]"
      ]
     },
     "execution_count": 241,
     "metadata": {},
     "output_type": "execute_result"
    }
   ],
   "source": [
    "# Percentage of delivered packages for each driver living in CA\n",
    "mapped_filter['percentage_of_packages_in_Dca'] = mapped_filter['nb_packages_per_CA'] / (mapped_filter['total_nb_packages']) * 100\n",
    "mapped_filter"
   ]
  },
  {
   "cell_type": "code",
   "execution_count": 243,
   "metadata": {
    "tags": []
   },
   "outputs": [],
   "source": [
    "# Considering mostly_worked_in_ca when percentage of packages in driver CA is over 50 mapped_filter = \n",
    "mapped_filter['mostly_worked_in_driver_ca'] = np.where(mapped_filter['percentage_of_packages_in_Dca'] > 50, 1, 0)\n",
    "mapped_filter = mapped_filter.round(0)"
   ]
  },
  {
   "cell_type": "code",
   "execution_count": 253,
   "metadata": {},
   "outputs": [
    {
     "data": {
      "text/plain": [
       "(12123, 8)"
      ]
     },
     "execution_count": 253,
     "metadata": {},
     "output_type": "execute_result"
    }
   ],
   "source": [
    "mapped_filter.shape"
   ]
  },
  {
   "cell_type": "code",
   "execution_count": 255,
   "metadata": {},
   "outputs": [
    {
     "data": {
      "text/plain": [
       "12123"
      ]
     },
     "execution_count": 255,
     "metadata": {},
     "output_type": "execute_result"
    }
   ],
   "source": [
    "mapped_filter['driver_id'].nunique()"
   ]
  },
  {
   "cell_type": "code",
   "execution_count": 244,
   "metadata": {},
   "outputs": [
    {
     "data": {
      "text/html": [
       "<div>\n",
       "<style scoped>\n",
       "    .dataframe tbody tr th:only-of-type {\n",
       "        vertical-align: middle;\n",
       "    }\n",
       "\n",
       "    .dataframe tbody tr th {\n",
       "        vertical-align: top;\n",
       "    }\n",
       "\n",
       "    .dataframe thead th {\n",
       "        text-align: right;\n",
       "    }\n",
       "</style>\n",
       "<table border=\"1\" class=\"dataframe\">\n",
       "  <thead>\n",
       "    <tr style=\"text-align: right;\">\n",
       "      <th></th>\n",
       "      <th>driver_id</th>\n",
       "      <th>nb_packages_per_CA</th>\n",
       "      <th>total_nb_packages</th>\n",
       "      <th>percentage_of_packages_in_Dca</th>\n",
       "      <th>mostly_worked_in_driver_ca</th>\n",
       "    </tr>\n",
       "  </thead>\n",
       "  <tbody>\n",
       "    <tr>\n",
       "      <th>count</th>\n",
       "      <td>12123.000000</td>\n",
       "      <td>12123.000000</td>\n",
       "      <td>12123.000000</td>\n",
       "      <td>12123.000000</td>\n",
       "      <td>12123.000000</td>\n",
       "    </tr>\n",
       "    <tr>\n",
       "      <th>mean</th>\n",
       "      <td>421857.161511</td>\n",
       "      <td>525.557288</td>\n",
       "      <td>707.198878</td>\n",
       "      <td>79.020292</td>\n",
       "      <td>0.808051</td>\n",
       "    </tr>\n",
       "    <tr>\n",
       "      <th>std</th>\n",
       "      <td>41423.285667</td>\n",
       "      <td>855.984669</td>\n",
       "      <td>984.094792</td>\n",
       "      <td>32.806640</td>\n",
       "      <td>0.393850</td>\n",
       "    </tr>\n",
       "    <tr>\n",
       "      <th>min</th>\n",
       "      <td>339107.000000</td>\n",
       "      <td>1.000000</td>\n",
       "      <td>1.000000</td>\n",
       "      <td>0.000000</td>\n",
       "      <td>0.000000</td>\n",
       "    </tr>\n",
       "    <tr>\n",
       "      <th>25%</th>\n",
       "      <td>391510.500000</td>\n",
       "      <td>26.000000</td>\n",
       "      <td>58.000000</td>\n",
       "      <td>72.000000</td>\n",
       "      <td>1.000000</td>\n",
       "    </tr>\n",
       "    <tr>\n",
       "      <th>50%</th>\n",
       "      <td>419460.000000</td>\n",
       "      <td>149.000000</td>\n",
       "      <td>277.000000</td>\n",
       "      <td>98.000000</td>\n",
       "      <td>1.000000</td>\n",
       "    </tr>\n",
       "    <tr>\n",
       "      <th>75%</th>\n",
       "      <td>459557.000000</td>\n",
       "      <td>621.000000</td>\n",
       "      <td>987.000000</td>\n",
       "      <td>100.000000</td>\n",
       "      <td>1.000000</td>\n",
       "    </tr>\n",
       "    <tr>\n",
       "      <th>max</th>\n",
       "      <td>492769.000000</td>\n",
       "      <td>8918.000000</td>\n",
       "      <td>10432.000000</td>\n",
       "      <td>100.000000</td>\n",
       "      <td>1.000000</td>\n",
       "    </tr>\n",
       "  </tbody>\n",
       "</table>\n",
       "</div>"
      ],
      "text/plain": [
       "           driver_id  nb_packages_per_CA  total_nb_packages  \\\n",
       "count   12123.000000        12123.000000       12123.000000   \n",
       "mean   421857.161511          525.557288         707.198878   \n",
       "std     41423.285667          855.984669         984.094792   \n",
       "min    339107.000000            1.000000           1.000000   \n",
       "25%    391510.500000           26.000000          58.000000   \n",
       "50%    419460.000000          149.000000         277.000000   \n",
       "75%    459557.000000          621.000000         987.000000   \n",
       "max    492769.000000         8918.000000       10432.000000   \n",
       "\n",
       "       percentage_of_packages_in_Dca  mostly_worked_in_driver_ca  \n",
       "count                   12123.000000                12123.000000  \n",
       "mean                       79.020292                    0.808051  \n",
       "std                        32.806640                    0.393850  \n",
       "min                         0.000000                    0.000000  \n",
       "25%                        72.000000                    1.000000  \n",
       "50%                        98.000000                    1.000000  \n",
       "75%                       100.000000                    1.000000  \n",
       "max                       100.000000                    1.000000  "
      ]
     },
     "execution_count": 244,
     "metadata": {},
     "output_type": "execute_result"
    }
   ],
   "source": [
    "mapped_filter.describe()\n",
    "# 81% of drivers who live in CA mostly do deliveries in their CA"
   ]
  },
  {
   "cell_type": "markdown",
   "metadata": {},
   "source": [
    "# Most Deliveries Metric"
   ]
  },
  {
   "cell_type": "markdown",
   "metadata": {},
   "source": [
    "### Metric 2: Create a column: mostly_worked_in_ca by choosing the CA where a courier did his most deliveries in. \n",
    "### Then compare if this CA is the same as driver ca as 1 or 0. \n",
    "### Then calculate the % of 1s "
   ]
  },
  {
   "cell_type": "code",
   "execution_count": 245,
   "metadata": {},
   "outputs": [
    {
     "data": {
      "text/html": [
       "<div>\n",
       "<style scoped>\n",
       "    .dataframe tbody tr th:only-of-type {\n",
       "        vertical-align: middle;\n",
       "    }\n",
       "\n",
       "    .dataframe tbody tr th {\n",
       "        vertical-align: top;\n",
       "    }\n",
       "\n",
       "    .dataframe thead th {\n",
       "        text-align: right;\n",
       "    }\n",
       "</style>\n",
       "<table border=\"1\" class=\"dataframe\">\n",
       "  <thead>\n",
       "    <tr style=\"text-align: right;\">\n",
       "      <th></th>\n",
       "      <th>driver_id</th>\n",
       "      <th>driver_postcode</th>\n",
       "      <th>driver_ca</th>\n",
       "      <th>pu_ca</th>\n",
       "      <th>nb_packages_per_CA</th>\n",
       "      <th>total_nb_packages</th>\n",
       "    </tr>\n",
       "  </thead>\n",
       "  <tbody>\n",
       "    <tr>\n",
       "      <th>0</th>\n",
       "      <td>339107</td>\n",
       "      <td>N8 9JT</td>\n",
       "      <td>London Outer N</td>\n",
       "      <td>London Outer N</td>\n",
       "      <td>1</td>\n",
       "      <td>1</td>\n",
       "    </tr>\n",
       "    <tr>\n",
       "      <th>1</th>\n",
       "      <td>339657</td>\n",
       "      <td>N22 5AG</td>\n",
       "      <td>London Outer N</td>\n",
       "      <td>London Outer NE</td>\n",
       "      <td>1</td>\n",
       "      <td>668</td>\n",
       "    </tr>\n",
       "    <tr>\n",
       "      <th>2</th>\n",
       "      <td>339657</td>\n",
       "      <td>N22 5AG</td>\n",
       "      <td>London Outer N</td>\n",
       "      <td>London Outer S</td>\n",
       "      <td>1</td>\n",
       "      <td>668</td>\n",
       "    </tr>\n",
       "    <tr>\n",
       "      <th>3</th>\n",
       "      <td>339657</td>\n",
       "      <td>N22 5AG</td>\n",
       "      <td>London Outer N</td>\n",
       "      <td>London Outer SE</td>\n",
       "      <td>7</td>\n",
       "      <td>668</td>\n",
       "    </tr>\n",
       "    <tr>\n",
       "      <th>4</th>\n",
       "      <td>339657</td>\n",
       "      <td>N22 5AG</td>\n",
       "      <td>London Outer N</td>\n",
       "      <td>London Inner E</td>\n",
       "      <td>639</td>\n",
       "      <td>668</td>\n",
       "    </tr>\n",
       "    <tr>\n",
       "      <th>...</th>\n",
       "      <td>...</td>\n",
       "      <td>...</td>\n",
       "      <td>...</td>\n",
       "      <td>...</td>\n",
       "      <td>...</td>\n",
       "      <td>...</td>\n",
       "    </tr>\n",
       "    <tr>\n",
       "      <th>33581</th>\n",
       "      <td>490481</td>\n",
       "      <td>WV10 0BT</td>\n",
       "      <td>Wolverhampton</td>\n",
       "      <td>Wolverhampton</td>\n",
       "      <td>48</td>\n",
       "      <td>48</td>\n",
       "    </tr>\n",
       "    <tr>\n",
       "      <th>33582</th>\n",
       "      <td>490559</td>\n",
       "      <td>L20 7AW</td>\n",
       "      <td>Liverpool North</td>\n",
       "      <td>Liverpool North</td>\n",
       "      <td>3</td>\n",
       "      <td>3</td>\n",
       "    </tr>\n",
       "    <tr>\n",
       "      <th>33583</th>\n",
       "      <td>490629</td>\n",
       "      <td>BL1 8AQ</td>\n",
       "      <td>Bolton</td>\n",
       "      <td>Bolton</td>\n",
       "      <td>4</td>\n",
       "      <td>4</td>\n",
       "    </tr>\n",
       "    <tr>\n",
       "      <th>33584</th>\n",
       "      <td>490652</td>\n",
       "      <td>BL1 8AL</td>\n",
       "      <td>Bolton</td>\n",
       "      <td>Bolton</td>\n",
       "      <td>7</td>\n",
       "      <td>7</td>\n",
       "    </tr>\n",
       "    <tr>\n",
       "      <th>33585</th>\n",
       "      <td>490670</td>\n",
       "      <td>WV1 1QU</td>\n",
       "      <td>Wolverhampton</td>\n",
       "      <td>Wolverhampton</td>\n",
       "      <td>17</td>\n",
       "      <td>17</td>\n",
       "    </tr>\n",
       "  </tbody>\n",
       "</table>\n",
       "<p>33586 rows × 6 columns</p>\n",
       "</div>"
      ],
      "text/plain": [
       "       driver_id driver_postcode        driver_ca            pu_ca  \\\n",
       "0         339107          N8 9JT   London Outer N   London Outer N   \n",
       "1         339657         N22 5AG   London Outer N  London Outer NE   \n",
       "2         339657         N22 5AG   London Outer N   London Outer S   \n",
       "3         339657         N22 5AG   London Outer N  London Outer SE   \n",
       "4         339657         N22 5AG   London Outer N   London Inner E   \n",
       "...          ...             ...              ...              ...   \n",
       "33581     490481        WV10 0BT    Wolverhampton    Wolverhampton   \n",
       "33582     490559         L20 7AW  Liverpool North  Liverpool North   \n",
       "33583     490629         BL1 8AQ           Bolton           Bolton   \n",
       "33584     490652         BL1 8AL           Bolton           Bolton   \n",
       "33585     490670         WV1 1QU    Wolverhampton    Wolverhampton   \n",
       "\n",
       "       nb_packages_per_CA  total_nb_packages  \n",
       "0                       1                  1  \n",
       "1                       1                668  \n",
       "2                       1                668  \n",
       "3                       7                668  \n",
       "4                     639                668  \n",
       "...                   ...                ...  \n",
       "33581                  48                 48  \n",
       "33582                   3                  3  \n",
       "33583                   4                  4  \n",
       "33584                   7                  7  \n",
       "33585                  17                 17  \n",
       "\n",
       "[33586 rows x 6 columns]"
      ]
     },
     "execution_count": 245,
     "metadata": {},
     "output_type": "execute_result"
    }
   ],
   "source": [
    "mapped"
   ]
  },
  {
   "cell_type": "code",
   "execution_count": 246,
   "metadata": {},
   "outputs": [
    {
     "data": {
      "text/html": [
       "<div>\n",
       "<style scoped>\n",
       "    .dataframe tbody tr th:only-of-type {\n",
       "        vertical-align: middle;\n",
       "    }\n",
       "\n",
       "    .dataframe tbody tr th {\n",
       "        vertical-align: top;\n",
       "    }\n",
       "\n",
       "    .dataframe thead th {\n",
       "        text-align: right;\n",
       "    }\n",
       "</style>\n",
       "<table border=\"1\" class=\"dataframe\">\n",
       "  <thead>\n",
       "    <tr style=\"text-align: right;\">\n",
       "      <th></th>\n",
       "      <th>driver_id</th>\n",
       "      <th>driver_postcode</th>\n",
       "      <th>driver_ca</th>\n",
       "      <th>pu_ca</th>\n",
       "      <th>nb_packages_per_CA</th>\n",
       "      <th>total_nb_packages</th>\n",
       "    </tr>\n",
       "  </thead>\n",
       "  <tbody>\n",
       "    <tr>\n",
       "      <th>0</th>\n",
       "      <td>339107</td>\n",
       "      <td>N8 9JT</td>\n",
       "      <td>London Outer N</td>\n",
       "      <td>London Outer N</td>\n",
       "      <td>1</td>\n",
       "      <td>1</td>\n",
       "    </tr>\n",
       "    <tr>\n",
       "      <th>1</th>\n",
       "      <td>339657</td>\n",
       "      <td>N22 5AG</td>\n",
       "      <td>London Outer N</td>\n",
       "      <td>London Outer NE</td>\n",
       "      <td>1</td>\n",
       "      <td>668</td>\n",
       "    </tr>\n",
       "    <tr>\n",
       "      <th>2</th>\n",
       "      <td>339657</td>\n",
       "      <td>N22 5AG</td>\n",
       "      <td>London Outer N</td>\n",
       "      <td>London Outer S</td>\n",
       "      <td>1</td>\n",
       "      <td>668</td>\n",
       "    </tr>\n",
       "    <tr>\n",
       "      <th>3</th>\n",
       "      <td>339657</td>\n",
       "      <td>N22 5AG</td>\n",
       "      <td>London Outer N</td>\n",
       "      <td>London Outer SE</td>\n",
       "      <td>7</td>\n",
       "      <td>668</td>\n",
       "    </tr>\n",
       "    <tr>\n",
       "      <th>4</th>\n",
       "      <td>339657</td>\n",
       "      <td>N22 5AG</td>\n",
       "      <td>London Outer N</td>\n",
       "      <td>London Inner E</td>\n",
       "      <td>639</td>\n",
       "      <td>668</td>\n",
       "    </tr>\n",
       "    <tr>\n",
       "      <th>...</th>\n",
       "      <td>...</td>\n",
       "      <td>...</td>\n",
       "      <td>...</td>\n",
       "      <td>...</td>\n",
       "      <td>...</td>\n",
       "      <td>...</td>\n",
       "    </tr>\n",
       "    <tr>\n",
       "      <th>33581</th>\n",
       "      <td>490481</td>\n",
       "      <td>WV10 0BT</td>\n",
       "      <td>Wolverhampton</td>\n",
       "      <td>Wolverhampton</td>\n",
       "      <td>48</td>\n",
       "      <td>48</td>\n",
       "    </tr>\n",
       "    <tr>\n",
       "      <th>33582</th>\n",
       "      <td>490559</td>\n",
       "      <td>L20 7AW</td>\n",
       "      <td>Liverpool North</td>\n",
       "      <td>Liverpool North</td>\n",
       "      <td>3</td>\n",
       "      <td>3</td>\n",
       "    </tr>\n",
       "    <tr>\n",
       "      <th>33583</th>\n",
       "      <td>490629</td>\n",
       "      <td>BL1 8AQ</td>\n",
       "      <td>Bolton</td>\n",
       "      <td>Bolton</td>\n",
       "      <td>4</td>\n",
       "      <td>4</td>\n",
       "    </tr>\n",
       "    <tr>\n",
       "      <th>33584</th>\n",
       "      <td>490652</td>\n",
       "      <td>BL1 8AL</td>\n",
       "      <td>Bolton</td>\n",
       "      <td>Bolton</td>\n",
       "      <td>7</td>\n",
       "      <td>7</td>\n",
       "    </tr>\n",
       "    <tr>\n",
       "      <th>33585</th>\n",
       "      <td>490670</td>\n",
       "      <td>WV1 1QU</td>\n",
       "      <td>Wolverhampton</td>\n",
       "      <td>Wolverhampton</td>\n",
       "      <td>17</td>\n",
       "      <td>17</td>\n",
       "    </tr>\n",
       "  </tbody>\n",
       "</table>\n",
       "<p>33586 rows × 6 columns</p>\n",
       "</div>"
      ],
      "text/plain": [
       "       driver_id driver_postcode        driver_ca            pu_ca  \\\n",
       "0         339107          N8 9JT   London Outer N   London Outer N   \n",
       "1         339657         N22 5AG   London Outer N  London Outer NE   \n",
       "2         339657         N22 5AG   London Outer N   London Outer S   \n",
       "3         339657         N22 5AG   London Outer N  London Outer SE   \n",
       "4         339657         N22 5AG   London Outer N   London Inner E   \n",
       "...          ...             ...              ...              ...   \n",
       "33581     490481        WV10 0BT    Wolverhampton    Wolverhampton   \n",
       "33582     490559         L20 7AW  Liverpool North  Liverpool North   \n",
       "33583     490629         BL1 8AQ           Bolton           Bolton   \n",
       "33584     490652         BL1 8AL           Bolton           Bolton   \n",
       "33585     490670         WV1 1QU    Wolverhampton    Wolverhampton   \n",
       "\n",
       "       nb_packages_per_CA  total_nb_packages  \n",
       "0                       1                  1  \n",
       "1                       1                668  \n",
       "2                       1                668  \n",
       "3                       7                668  \n",
       "4                     639                668  \n",
       "...                   ...                ...  \n",
       "33581                  48                 48  \n",
       "33582                   3                  3  \n",
       "33583                   4                  4  \n",
       "33584                   7                  7  \n",
       "33585                  17                 17  \n",
       "\n",
       "[33586 rows x 6 columns]"
      ]
     },
     "execution_count": 246,
     "metadata": {},
     "output_type": "execute_result"
    }
   ],
   "source": [
    "# New df is the same as mapped\n",
    "new_metric = mapped.copy()\n",
    "new_metric"
   ]
  },
  {
   "cell_type": "code",
   "execution_count": null,
   "metadata": {},
   "outputs": [],
   "source": [
    "new_metric.dr"
   ]
  },
  {
   "cell_type": "code",
   "execution_count": 249,
   "metadata": {},
   "outputs": [
    {
     "data": {
      "text/html": [
       "<div>\n",
       "<style scoped>\n",
       "    .dataframe tbody tr th:only-of-type {\n",
       "        vertical-align: middle;\n",
       "    }\n",
       "\n",
       "    .dataframe tbody tr th {\n",
       "        vertical-align: top;\n",
       "    }\n",
       "\n",
       "    .dataframe thead th {\n",
       "        text-align: right;\n",
       "    }\n",
       "</style>\n",
       "<table border=\"1\" class=\"dataframe\">\n",
       "  <thead>\n",
       "    <tr style=\"text-align: right;\">\n",
       "      <th></th>\n",
       "      <th>driver_id</th>\n",
       "      <th>driver_postcode</th>\n",
       "      <th>driver_ca</th>\n",
       "      <th>pu_ca</th>\n",
       "      <th>nb_packages_per_CA</th>\n",
       "      <th>total_nb_packages</th>\n",
       "      <th>max_ca_deliveries</th>\n",
       "    </tr>\n",
       "  </thead>\n",
       "  <tbody>\n",
       "    <tr>\n",
       "      <th>0</th>\n",
       "      <td>339107</td>\n",
       "      <td>N8 9JT</td>\n",
       "      <td>London Outer N</td>\n",
       "      <td>London Outer N</td>\n",
       "      <td>1</td>\n",
       "      <td>1</td>\n",
       "      <td>1</td>\n",
       "    </tr>\n",
       "    <tr>\n",
       "      <th>1</th>\n",
       "      <td>339657</td>\n",
       "      <td>N22 5AG</td>\n",
       "      <td>London Outer N</td>\n",
       "      <td>London Outer NE</td>\n",
       "      <td>1</td>\n",
       "      <td>668</td>\n",
       "      <td>639</td>\n",
       "    </tr>\n",
       "    <tr>\n",
       "      <th>2</th>\n",
       "      <td>339657</td>\n",
       "      <td>N22 5AG</td>\n",
       "      <td>London Outer N</td>\n",
       "      <td>London Outer S</td>\n",
       "      <td>1</td>\n",
       "      <td>668</td>\n",
       "      <td>639</td>\n",
       "    </tr>\n",
       "    <tr>\n",
       "      <th>3</th>\n",
       "      <td>339657</td>\n",
       "      <td>N22 5AG</td>\n",
       "      <td>London Outer N</td>\n",
       "      <td>London Outer SE</td>\n",
       "      <td>7</td>\n",
       "      <td>668</td>\n",
       "      <td>639</td>\n",
       "    </tr>\n",
       "    <tr>\n",
       "      <th>4</th>\n",
       "      <td>339657</td>\n",
       "      <td>N22 5AG</td>\n",
       "      <td>London Outer N</td>\n",
       "      <td>London Inner E</td>\n",
       "      <td>639</td>\n",
       "      <td>668</td>\n",
       "      <td>639</td>\n",
       "    </tr>\n",
       "    <tr>\n",
       "      <th>...</th>\n",
       "      <td>...</td>\n",
       "      <td>...</td>\n",
       "      <td>...</td>\n",
       "      <td>...</td>\n",
       "      <td>...</td>\n",
       "      <td>...</td>\n",
       "      <td>...</td>\n",
       "    </tr>\n",
       "    <tr>\n",
       "      <th>33581</th>\n",
       "      <td>490481</td>\n",
       "      <td>WV10 0BT</td>\n",
       "      <td>Wolverhampton</td>\n",
       "      <td>Wolverhampton</td>\n",
       "      <td>48</td>\n",
       "      <td>48</td>\n",
       "      <td>48</td>\n",
       "    </tr>\n",
       "    <tr>\n",
       "      <th>33582</th>\n",
       "      <td>490559</td>\n",
       "      <td>L20 7AW</td>\n",
       "      <td>Liverpool North</td>\n",
       "      <td>Liverpool North</td>\n",
       "      <td>3</td>\n",
       "      <td>3</td>\n",
       "      <td>3</td>\n",
       "    </tr>\n",
       "    <tr>\n",
       "      <th>33583</th>\n",
       "      <td>490629</td>\n",
       "      <td>BL1 8AQ</td>\n",
       "      <td>Bolton</td>\n",
       "      <td>Bolton</td>\n",
       "      <td>4</td>\n",
       "      <td>4</td>\n",
       "      <td>4</td>\n",
       "    </tr>\n",
       "    <tr>\n",
       "      <th>33584</th>\n",
       "      <td>490652</td>\n",
       "      <td>BL1 8AL</td>\n",
       "      <td>Bolton</td>\n",
       "      <td>Bolton</td>\n",
       "      <td>7</td>\n",
       "      <td>7</td>\n",
       "      <td>7</td>\n",
       "    </tr>\n",
       "    <tr>\n",
       "      <th>33585</th>\n",
       "      <td>490670</td>\n",
       "      <td>WV1 1QU</td>\n",
       "      <td>Wolverhampton</td>\n",
       "      <td>Wolverhampton</td>\n",
       "      <td>17</td>\n",
       "      <td>17</td>\n",
       "      <td>17</td>\n",
       "    </tr>\n",
       "  </tbody>\n",
       "</table>\n",
       "<p>33586 rows × 7 columns</p>\n",
       "</div>"
      ],
      "text/plain": [
       "       driver_id driver_postcode        driver_ca            pu_ca  \\\n",
       "0         339107          N8 9JT   London Outer N   London Outer N   \n",
       "1         339657         N22 5AG   London Outer N  London Outer NE   \n",
       "2         339657         N22 5AG   London Outer N   London Outer S   \n",
       "3         339657         N22 5AG   London Outer N  London Outer SE   \n",
       "4         339657         N22 5AG   London Outer N   London Inner E   \n",
       "...          ...             ...              ...              ...   \n",
       "33581     490481        WV10 0BT    Wolverhampton    Wolverhampton   \n",
       "33582     490559         L20 7AW  Liverpool North  Liverpool North   \n",
       "33583     490629         BL1 8AQ           Bolton           Bolton   \n",
       "33584     490652         BL1 8AL           Bolton           Bolton   \n",
       "33585     490670         WV1 1QU    Wolverhampton    Wolverhampton   \n",
       "\n",
       "       nb_packages_per_CA  total_nb_packages  max_ca_deliveries  \n",
       "0                       1                  1                  1  \n",
       "1                       1                668                639  \n",
       "2                       1                668                639  \n",
       "3                       7                668                639  \n",
       "4                     639                668                639  \n",
       "...                   ...                ...                ...  \n",
       "33581                  48                 48                 48  \n",
       "33582                   3                  3                  3  \n",
       "33583                   4                  4                  4  \n",
       "33584                   7                  7                  7  \n",
       "33585                  17                 17                 17  \n",
       "\n",
       "[33586 rows x 7 columns]"
      ]
     },
     "execution_count": 249,
     "metadata": {},
     "output_type": "execute_result"
    }
   ],
   "source": [
    "new_metric['max_ca_deliveries']= new_metric.groupby(['driver_id'])['nb_packages_per_CA'].transform(max)\n",
    "new_metric"
   ]
  },
  {
   "cell_type": "code",
   "execution_count": 250,
   "metadata": {},
   "outputs": [
    {
     "data": {
      "text/html": [
       "<div>\n",
       "<style scoped>\n",
       "    .dataframe tbody tr th:only-of-type {\n",
       "        vertical-align: middle;\n",
       "    }\n",
       "\n",
       "    .dataframe tbody tr th {\n",
       "        vertical-align: top;\n",
       "    }\n",
       "\n",
       "    .dataframe thead th {\n",
       "        text-align: right;\n",
       "    }\n",
       "</style>\n",
       "<table border=\"1\" class=\"dataframe\">\n",
       "  <thead>\n",
       "    <tr style=\"text-align: right;\">\n",
       "      <th></th>\n",
       "      <th>driver_id</th>\n",
       "      <th>driver_postcode</th>\n",
       "      <th>driver_ca</th>\n",
       "      <th>pu_ca</th>\n",
       "      <th>nb_packages_per_CA</th>\n",
       "      <th>total_nb_packages</th>\n",
       "      <th>max_ca_deliveries</th>\n",
       "    </tr>\n",
       "  </thead>\n",
       "  <tbody>\n",
       "    <tr>\n",
       "      <th>0</th>\n",
       "      <td>339107</td>\n",
       "      <td>N8 9JT</td>\n",
       "      <td>London Outer N</td>\n",
       "      <td>London Outer N</td>\n",
       "      <td>1</td>\n",
       "      <td>1</td>\n",
       "      <td>1</td>\n",
       "    </tr>\n",
       "    <tr>\n",
       "      <th>4</th>\n",
       "      <td>339657</td>\n",
       "      <td>N22 5AG</td>\n",
       "      <td>London Outer N</td>\n",
       "      <td>London Inner E</td>\n",
       "      <td>639</td>\n",
       "      <td>668</td>\n",
       "      <td>639</td>\n",
       "    </tr>\n",
       "    <tr>\n",
       "      <th>9</th>\n",
       "      <td>339680</td>\n",
       "      <td>E12 6NX</td>\n",
       "      <td>London Outer NE</td>\n",
       "      <td>London Outer NE</td>\n",
       "      <td>69</td>\n",
       "      <td>70</td>\n",
       "      <td>69</td>\n",
       "    </tr>\n",
       "    <tr>\n",
       "      <th>10</th>\n",
       "      <td>339714</td>\n",
       "      <td>E1 1BF</td>\n",
       "      <td>London Inner N</td>\n",
       "      <td>London Inner N</td>\n",
       "      <td>16</td>\n",
       "      <td>16</td>\n",
       "      <td>16</td>\n",
       "    </tr>\n",
       "    <tr>\n",
       "      <th>13</th>\n",
       "      <td>339748</td>\n",
       "      <td>NW10 3NU</td>\n",
       "      <td>London Inner Upper NW</td>\n",
       "      <td>London Inner Upper NW</td>\n",
       "      <td>27</td>\n",
       "      <td>36</td>\n",
       "      <td>27</td>\n",
       "    </tr>\n",
       "    <tr>\n",
       "      <th>...</th>\n",
       "      <td>...</td>\n",
       "      <td>...</td>\n",
       "      <td>...</td>\n",
       "      <td>...</td>\n",
       "      <td>...</td>\n",
       "      <td>...</td>\n",
       "      <td>...</td>\n",
       "    </tr>\n",
       "    <tr>\n",
       "      <th>33581</th>\n",
       "      <td>490481</td>\n",
       "      <td>WV10 0BT</td>\n",
       "      <td>Wolverhampton</td>\n",
       "      <td>Wolverhampton</td>\n",
       "      <td>48</td>\n",
       "      <td>48</td>\n",
       "      <td>48</td>\n",
       "    </tr>\n",
       "    <tr>\n",
       "      <th>33582</th>\n",
       "      <td>490559</td>\n",
       "      <td>L20 7AW</td>\n",
       "      <td>Liverpool North</td>\n",
       "      <td>Liverpool North</td>\n",
       "      <td>3</td>\n",
       "      <td>3</td>\n",
       "      <td>3</td>\n",
       "    </tr>\n",
       "    <tr>\n",
       "      <th>33583</th>\n",
       "      <td>490629</td>\n",
       "      <td>BL1 8AQ</td>\n",
       "      <td>Bolton</td>\n",
       "      <td>Bolton</td>\n",
       "      <td>4</td>\n",
       "      <td>4</td>\n",
       "      <td>4</td>\n",
       "    </tr>\n",
       "    <tr>\n",
       "      <th>33584</th>\n",
       "      <td>490652</td>\n",
       "      <td>BL1 8AL</td>\n",
       "      <td>Bolton</td>\n",
       "      <td>Bolton</td>\n",
       "      <td>7</td>\n",
       "      <td>7</td>\n",
       "      <td>7</td>\n",
       "    </tr>\n",
       "    <tr>\n",
       "      <th>33585</th>\n",
       "      <td>490670</td>\n",
       "      <td>WV1 1QU</td>\n",
       "      <td>Wolverhampton</td>\n",
       "      <td>Wolverhampton</td>\n",
       "      <td>17</td>\n",
       "      <td>17</td>\n",
       "      <td>17</td>\n",
       "    </tr>\n",
       "  </tbody>\n",
       "</table>\n",
       "<p>13552 rows × 7 columns</p>\n",
       "</div>"
      ],
      "text/plain": [
       "       driver_id driver_postcode              driver_ca  \\\n",
       "0         339107          N8 9JT         London Outer N   \n",
       "4         339657         N22 5AG         London Outer N   \n",
       "9         339680         E12 6NX        London Outer NE   \n",
       "10        339714          E1 1BF         London Inner N   \n",
       "13        339748        NW10 3NU  London Inner Upper NW   \n",
       "...          ...             ...                    ...   \n",
       "33581     490481        WV10 0BT          Wolverhampton   \n",
       "33582     490559         L20 7AW        Liverpool North   \n",
       "33583     490629         BL1 8AQ                 Bolton   \n",
       "33584     490652         BL1 8AL                 Bolton   \n",
       "33585     490670         WV1 1QU          Wolverhampton   \n",
       "\n",
       "                       pu_ca  nb_packages_per_CA  total_nb_packages  \\\n",
       "0             London Outer N                   1                  1   \n",
       "4             London Inner E                 639                668   \n",
       "9            London Outer NE                  69                 70   \n",
       "10            London Inner N                  16                 16   \n",
       "13     London Inner Upper NW                  27                 36   \n",
       "...                      ...                 ...                ...   \n",
       "33581          Wolverhampton                  48                 48   \n",
       "33582        Liverpool North                   3                  3   \n",
       "33583                 Bolton                   4                  4   \n",
       "33584                 Bolton                   7                  7   \n",
       "33585          Wolverhampton                  17                 17   \n",
       "\n",
       "       max_ca_deliveries  \n",
       "0                      1  \n",
       "4                    639  \n",
       "9                     69  \n",
       "10                    16  \n",
       "13                    27  \n",
       "...                  ...  \n",
       "33581                 48  \n",
       "33582                  3  \n",
       "33583                  4  \n",
       "33584                  7  \n",
       "33585                 17  \n",
       "\n",
       "[13552 rows x 7 columns]"
      ]
     },
     "execution_count": 250,
     "metadata": {},
     "output_type": "execute_result"
    }
   ],
   "source": [
    "# Metric 2: Create a column: mostly_worked_in_ca by choosing the CA where a courier did his most deliveries in. \n",
    "\n",
    "new_metric2 = new_metric[new_metric['nb_packages_per_CA'] == new_metric['max_ca_deliveries']].copy()\n",
    "new_metric2\n"
   ]
  },
  {
   "cell_type": "code",
   "execution_count": 271,
   "metadata": {},
   "outputs": [
    {
     "data": {
      "text/plain": [
       "694      342848\n",
       "825      345988\n",
       "1226     350251\n",
       "1227     350251\n",
       "2718     365761\n",
       "          ...  \n",
       "31915    455396\n",
       "32170    469442\n",
       "32404    481436\n",
       "33081    444184\n",
       "33264    462700\n",
       "Name: driver_id, Length: 89, dtype: int64"
      ]
     },
     "execution_count": 271,
     "metadata": {},
     "output_type": "execute_result"
    }
   ],
   "source": [
    "new_metric2[new_metric2['driver_id'].duplicated()]['driver_id']"
   ]
  },
  {
   "cell_type": "code",
   "execution_count": null,
   "metadata": {},
   "outputs": [],
   "source": [
    "########### Can just drop duplicate drivers id"
   ]
  },
  {
   "cell_type": "code",
   "execution_count": 269,
   "metadata": {},
   "outputs": [
    {
     "data": {
      "text/html": [
       "<div>\n",
       "<style scoped>\n",
       "    .dataframe tbody tr th:only-of-type {\n",
       "        vertical-align: middle;\n",
       "    }\n",
       "\n",
       "    .dataframe tbody tr th {\n",
       "        vertical-align: top;\n",
       "    }\n",
       "\n",
       "    .dataframe thead th {\n",
       "        text-align: right;\n",
       "    }\n",
       "</style>\n",
       "<table border=\"1\" class=\"dataframe\">\n",
       "  <thead>\n",
       "    <tr style=\"text-align: right;\">\n",
       "      <th></th>\n",
       "      <th>driver_id</th>\n",
       "      <th>driver_postcode</th>\n",
       "      <th>driver_ca</th>\n",
       "      <th>pu_ca</th>\n",
       "      <th>nb_packages_per_CA</th>\n",
       "      <th>total_nb_packages</th>\n",
       "      <th>max_ca_deliveries</th>\n",
       "      <th>is_same</th>\n",
       "    </tr>\n",
       "  </thead>\n",
       "  <tbody>\n",
       "    <tr>\n",
       "      <th>33582</th>\n",
       "      <td>490559</td>\n",
       "      <td>L20 7AW</td>\n",
       "      <td>Liverpool North</td>\n",
       "      <td>Liverpool North</td>\n",
       "      <td>3</td>\n",
       "      <td>3</td>\n",
       "      <td>3</td>\n",
       "      <td>1</td>\n",
       "    </tr>\n",
       "  </tbody>\n",
       "</table>\n",
       "</div>"
      ],
      "text/plain": [
       "       driver_id driver_postcode        driver_ca            pu_ca  \\\n",
       "33582     490559         L20 7AW  Liverpool North  Liverpool North   \n",
       "\n",
       "       nb_packages_per_CA  total_nb_packages  max_ca_deliveries  is_same  \n",
       "33582                   3                  3                  3        1  "
      ]
     },
     "execution_count": 269,
     "metadata": {},
     "output_type": "execute_result"
    }
   ],
   "source": [
    "new_metric2[new_metric2['driver_id'] == 490559]"
   ]
  },
  {
   "cell_type": "code",
   "execution_count": 254,
   "metadata": {},
   "outputs": [
    {
     "data": {
      "text/plain": [
       "13463"
      ]
     },
     "execution_count": 254,
     "metadata": {},
     "output_type": "execute_result"
    }
   ],
   "source": [
    "new_metric2['driver_id'].nunique()"
   ]
  },
  {
   "cell_type": "code",
   "execution_count": 251,
   "metadata": {},
   "outputs": [
    {
     "data": {
      "text/html": [
       "<div>\n",
       "<style scoped>\n",
       "    .dataframe tbody tr th:only-of-type {\n",
       "        vertical-align: middle;\n",
       "    }\n",
       "\n",
       "    .dataframe tbody tr th {\n",
       "        vertical-align: top;\n",
       "    }\n",
       "\n",
       "    .dataframe thead th {\n",
       "        text-align: right;\n",
       "    }\n",
       "</style>\n",
       "<table border=\"1\" class=\"dataframe\">\n",
       "  <thead>\n",
       "    <tr style=\"text-align: right;\">\n",
       "      <th></th>\n",
       "      <th>driver_id</th>\n",
       "      <th>driver_postcode</th>\n",
       "      <th>driver_ca</th>\n",
       "      <th>pu_ca</th>\n",
       "      <th>nb_packages_per_CA</th>\n",
       "      <th>total_nb_packages</th>\n",
       "      <th>max_ca_deliveries</th>\n",
       "      <th>is_same</th>\n",
       "    </tr>\n",
       "  </thead>\n",
       "  <tbody>\n",
       "    <tr>\n",
       "      <th>0</th>\n",
       "      <td>339107</td>\n",
       "      <td>N8 9JT</td>\n",
       "      <td>London Outer N</td>\n",
       "      <td>London Outer N</td>\n",
       "      <td>1</td>\n",
       "      <td>1</td>\n",
       "      <td>1</td>\n",
       "      <td>1</td>\n",
       "    </tr>\n",
       "    <tr>\n",
       "      <th>4</th>\n",
       "      <td>339657</td>\n",
       "      <td>N22 5AG</td>\n",
       "      <td>London Outer N</td>\n",
       "      <td>London Inner E</td>\n",
       "      <td>639</td>\n",
       "      <td>668</td>\n",
       "      <td>639</td>\n",
       "      <td>0</td>\n",
       "    </tr>\n",
       "    <tr>\n",
       "      <th>9</th>\n",
       "      <td>339680</td>\n",
       "      <td>E12 6NX</td>\n",
       "      <td>London Outer NE</td>\n",
       "      <td>London Outer NE</td>\n",
       "      <td>69</td>\n",
       "      <td>70</td>\n",
       "      <td>69</td>\n",
       "      <td>1</td>\n",
       "    </tr>\n",
       "    <tr>\n",
       "      <th>10</th>\n",
       "      <td>339714</td>\n",
       "      <td>E1 1BF</td>\n",
       "      <td>London Inner N</td>\n",
       "      <td>London Inner N</td>\n",
       "      <td>16</td>\n",
       "      <td>16</td>\n",
       "      <td>16</td>\n",
       "      <td>1</td>\n",
       "    </tr>\n",
       "    <tr>\n",
       "      <th>13</th>\n",
       "      <td>339748</td>\n",
       "      <td>NW10 3NU</td>\n",
       "      <td>London Inner Upper NW</td>\n",
       "      <td>London Inner Upper NW</td>\n",
       "      <td>27</td>\n",
       "      <td>36</td>\n",
       "      <td>27</td>\n",
       "      <td>1</td>\n",
       "    </tr>\n",
       "    <tr>\n",
       "      <th>...</th>\n",
       "      <td>...</td>\n",
       "      <td>...</td>\n",
       "      <td>...</td>\n",
       "      <td>...</td>\n",
       "      <td>...</td>\n",
       "      <td>...</td>\n",
       "      <td>...</td>\n",
       "      <td>...</td>\n",
       "    </tr>\n",
       "    <tr>\n",
       "      <th>33581</th>\n",
       "      <td>490481</td>\n",
       "      <td>WV10 0BT</td>\n",
       "      <td>Wolverhampton</td>\n",
       "      <td>Wolverhampton</td>\n",
       "      <td>48</td>\n",
       "      <td>48</td>\n",
       "      <td>48</td>\n",
       "      <td>1</td>\n",
       "    </tr>\n",
       "    <tr>\n",
       "      <th>33582</th>\n",
       "      <td>490559</td>\n",
       "      <td>L20 7AW</td>\n",
       "      <td>Liverpool North</td>\n",
       "      <td>Liverpool North</td>\n",
       "      <td>3</td>\n",
       "      <td>3</td>\n",
       "      <td>3</td>\n",
       "      <td>1</td>\n",
       "    </tr>\n",
       "    <tr>\n",
       "      <th>33583</th>\n",
       "      <td>490629</td>\n",
       "      <td>BL1 8AQ</td>\n",
       "      <td>Bolton</td>\n",
       "      <td>Bolton</td>\n",
       "      <td>4</td>\n",
       "      <td>4</td>\n",
       "      <td>4</td>\n",
       "      <td>1</td>\n",
       "    </tr>\n",
       "    <tr>\n",
       "      <th>33584</th>\n",
       "      <td>490652</td>\n",
       "      <td>BL1 8AL</td>\n",
       "      <td>Bolton</td>\n",
       "      <td>Bolton</td>\n",
       "      <td>7</td>\n",
       "      <td>7</td>\n",
       "      <td>7</td>\n",
       "      <td>1</td>\n",
       "    </tr>\n",
       "    <tr>\n",
       "      <th>33585</th>\n",
       "      <td>490670</td>\n",
       "      <td>WV1 1QU</td>\n",
       "      <td>Wolverhampton</td>\n",
       "      <td>Wolverhampton</td>\n",
       "      <td>17</td>\n",
       "      <td>17</td>\n",
       "      <td>17</td>\n",
       "      <td>1</td>\n",
       "    </tr>\n",
       "  </tbody>\n",
       "</table>\n",
       "<p>13552 rows × 8 columns</p>\n",
       "</div>"
      ],
      "text/plain": [
       "       driver_id driver_postcode              driver_ca  \\\n",
       "0         339107          N8 9JT         London Outer N   \n",
       "4         339657         N22 5AG         London Outer N   \n",
       "9         339680         E12 6NX        London Outer NE   \n",
       "10        339714          E1 1BF         London Inner N   \n",
       "13        339748        NW10 3NU  London Inner Upper NW   \n",
       "...          ...             ...                    ...   \n",
       "33581     490481        WV10 0BT          Wolverhampton   \n",
       "33582     490559         L20 7AW        Liverpool North   \n",
       "33583     490629         BL1 8AQ                 Bolton   \n",
       "33584     490652         BL1 8AL                 Bolton   \n",
       "33585     490670         WV1 1QU          Wolverhampton   \n",
       "\n",
       "                       pu_ca  nb_packages_per_CA  total_nb_packages  \\\n",
       "0             London Outer N                   1                  1   \n",
       "4             London Inner E                 639                668   \n",
       "9            London Outer NE                  69                 70   \n",
       "10            London Inner N                  16                 16   \n",
       "13     London Inner Upper NW                  27                 36   \n",
       "...                      ...                 ...                ...   \n",
       "33581          Wolverhampton                  48                 48   \n",
       "33582        Liverpool North                   3                  3   \n",
       "33583                 Bolton                   4                  4   \n",
       "33584                 Bolton                   7                  7   \n",
       "33585          Wolverhampton                  17                 17   \n",
       "\n",
       "       max_ca_deliveries  is_same  \n",
       "0                      1        1  \n",
       "4                    639        0  \n",
       "9                     69        1  \n",
       "10                    16        1  \n",
       "13                    27        1  \n",
       "...                  ...      ...  \n",
       "33581                 48        1  \n",
       "33582                  3        1  \n",
       "33583                  4        1  \n",
       "33584                  7        1  \n",
       "33585                 17        1  \n",
       "\n",
       "[13552 rows x 8 columns]"
      ]
     },
     "execution_count": 251,
     "metadata": {},
     "output_type": "execute_result"
    }
   ],
   "source": [
    "# Then compare if this CA is the same as driver ca as 1 or 0. \n",
    "new_metric2['is_same'] = np.where(new_metric2['pu_ca'] == new_metric2['driver_ca'], 1, 0)\n",
    "new_metric2"
   ]
  },
  {
   "cell_type": "code",
   "execution_count": 252,
   "metadata": {},
   "outputs": [
    {
     "data": {
      "text/html": [
       "<div>\n",
       "<style scoped>\n",
       "    .dataframe tbody tr th:only-of-type {\n",
       "        vertical-align: middle;\n",
       "    }\n",
       "\n",
       "    .dataframe tbody tr th {\n",
       "        vertical-align: top;\n",
       "    }\n",
       "\n",
       "    .dataframe thead th {\n",
       "        text-align: right;\n",
       "    }\n",
       "</style>\n",
       "<table border=\"1\" class=\"dataframe\">\n",
       "  <thead>\n",
       "    <tr style=\"text-align: right;\">\n",
       "      <th></th>\n",
       "      <th>driver_id</th>\n",
       "      <th>nb_packages_per_CA</th>\n",
       "      <th>total_nb_packages</th>\n",
       "      <th>max_ca_deliveries</th>\n",
       "      <th>is_same</th>\n",
       "    </tr>\n",
       "  </thead>\n",
       "  <tbody>\n",
       "    <tr>\n",
       "      <th>count</th>\n",
       "      <td>13552.000000</td>\n",
       "      <td>13552.000000</td>\n",
       "      <td>13552.000000</td>\n",
       "      <td>13552.000000</td>\n",
       "      <td>13552.000000</td>\n",
       "    </tr>\n",
       "    <tr>\n",
       "      <th>mean</th>\n",
       "      <td>422719.142562</td>\n",
       "      <td>627.427243</td>\n",
       "      <td>692.567223</td>\n",
       "      <td>627.427243</td>\n",
       "      <td>0.735906</td>\n",
       "    </tr>\n",
       "    <tr>\n",
       "      <th>std</th>\n",
       "      <td>41748.039462</td>\n",
       "      <td>908.302954</td>\n",
       "      <td>979.248120</td>\n",
       "      <td>908.302954</td>\n",
       "      <td>0.440866</td>\n",
       "    </tr>\n",
       "    <tr>\n",
       "      <th>min</th>\n",
       "      <td>339107.000000</td>\n",
       "      <td>1.000000</td>\n",
       "      <td>1.000000</td>\n",
       "      <td>1.000000</td>\n",
       "      <td>0.000000</td>\n",
       "    </tr>\n",
       "    <tr>\n",
       "      <th>25%</th>\n",
       "      <td>392640.750000</td>\n",
       "      <td>45.000000</td>\n",
       "      <td>51.000000</td>\n",
       "      <td>45.000000</td>\n",
       "      <td>0.000000</td>\n",
       "    </tr>\n",
       "    <tr>\n",
       "      <th>50%</th>\n",
       "      <td>420223.000000</td>\n",
       "      <td>231.000000</td>\n",
       "      <td>261.000000</td>\n",
       "      <td>231.000000</td>\n",
       "      <td>1.000000</td>\n",
       "    </tr>\n",
       "    <tr>\n",
       "      <th>75%</th>\n",
       "      <td>462364.250000</td>\n",
       "      <td>856.250000</td>\n",
       "      <td>956.250000</td>\n",
       "      <td>856.250000</td>\n",
       "      <td>1.000000</td>\n",
       "    </tr>\n",
       "    <tr>\n",
       "      <th>max</th>\n",
       "      <td>492769.000000</td>\n",
       "      <td>8918.000000</td>\n",
       "      <td>10432.000000</td>\n",
       "      <td>8918.000000</td>\n",
       "      <td>1.000000</td>\n",
       "    </tr>\n",
       "  </tbody>\n",
       "</table>\n",
       "</div>"
      ],
      "text/plain": [
       "           driver_id  nb_packages_per_CA  total_nb_packages  \\\n",
       "count   13552.000000        13552.000000       13552.000000   \n",
       "mean   422719.142562          627.427243         692.567223   \n",
       "std     41748.039462          908.302954         979.248120   \n",
       "min    339107.000000            1.000000           1.000000   \n",
       "25%    392640.750000           45.000000          51.000000   \n",
       "50%    420223.000000          231.000000         261.000000   \n",
       "75%    462364.250000          856.250000         956.250000   \n",
       "max    492769.000000         8918.000000       10432.000000   \n",
       "\n",
       "       max_ca_deliveries       is_same  \n",
       "count       13552.000000  13552.000000  \n",
       "mean          627.427243      0.735906  \n",
       "std           908.302954      0.440866  \n",
       "min             1.000000      0.000000  \n",
       "25%            45.000000      0.000000  \n",
       "50%           231.000000      1.000000  \n",
       "75%           856.250000      1.000000  \n",
       "max          8918.000000      1.000000  "
      ]
     },
     "execution_count": 252,
     "metadata": {},
     "output_type": "execute_result"
    }
   ],
   "source": [
    "# Then calculate the % of 1s \n",
    "new_metric2.describe()\n",
    "\n",
    "# 74% of drivers who live in CA mostly do deliveries in their CA"
   ]
  },
  {
   "cell_type": "markdown",
   "metadata": {},
   "source": [
    "# Drivers who did not live in CA"
   ]
  },
  {
   "cell_type": "code",
   "execution_count": null,
   "metadata": {},
   "outputs": [],
   "source": [
    "# need a Predicted_CA column from ops.uk_applicant"
   ]
  },
  {
   "cell_type": "code",
   "execution_count": 261,
   "metadata": {},
   "outputs": [
    {
     "name": "stdout",
     "output_type": "stream",
     "text": [
      "Connected to the DataWarehouse\n",
      "Result from query obtained\n",
      "Data stored in dataframe\n"
     ]
    }
   ],
   "source": [
    "query_3 = '''\n",
    "SELECT -------------------- Package\n",
    "       cd.driver_id,          -- stuart_driver_id\n",
    "    MIN(cd.valid_from_date) as earliest_date,\n",
    "       a.catchment_area as pu_CA,\n",
    "\n",
    "    ------------------  Driver\n",
    "    predicted_catchment_area as predicted_driver_CA,\n",
    "       count( distinct p.package_id) as no_packages\n",
    "\n",
    "FROM modeled_core.driver cd\n",
    "\n",
    "INNER JOIN modeled_core.zones z\n",
    "USING (zone_id)\n",
    "\n",
    "LEFT JOIN modeled_core.delivery d\n",
    "    ON cd.driver_id = d.driver_id\n",
    "\n",
    "LEFT JOIN modeled_core.package p\n",
    "    ON d.package_id = p.package_id\n",
    "\n",
    "LEFT JOIN modeled_core.location l\n",
    "    ON p.pu_location_id = l.location_id\n",
    "\n",
    "LEFT JOIN ops.area a\n",
    "    ON REPLACE(l.delivery_area_name , '_' , '') = a.area_name_cap -- pool area for packages\n",
    "\n",
    "LEFT JOIN ops.uk_applicants_info uai\n",
    "    ON uai.applicant_fountain_id = cd.applicant_fountain_id\n",
    "\n",
    "WHERE z.country_id = 2\n",
    "AND DATE(p.time_window_pu_start_utc) >= '2021-09-01'\n",
    "\n",
    "GROUP BY 1, 3, 4\n",
    "\n",
    "'''\n",
    "\n",
    "\n",
    "predicted = get_data_from_warehouse(query_3)"
   ]
  },
  {
   "cell_type": "code",
   "execution_count": 262,
   "metadata": {},
   "outputs": [
    {
     "data": {
      "text/plain": [
       "(76194, 5)"
      ]
     },
     "execution_count": 262,
     "metadata": {},
     "output_type": "execute_result"
    }
   ],
   "source": [
    "predicted.shape"
   ]
  }
 ],
 "metadata": {
  "kernelspec": {
   "display_name": "Python 3 (ipykernel)",
   "language": "python",
   "name": "python3"
  },
  "language_info": {
   "codemirror_mode": {
    "name": "ipython",
    "version": 3
   },
   "file_extension": ".py",
   "mimetype": "text/x-python",
   "name": "python",
   "nbconvert_exporter": "python",
   "pygments_lexer": "ipython3",
   "version": "3.8.12"
  }
 },
 "nbformat": 4,
 "nbformat_minor": 4
}
