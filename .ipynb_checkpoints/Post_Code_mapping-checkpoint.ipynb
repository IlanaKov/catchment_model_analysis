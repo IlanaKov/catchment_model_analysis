{
 "cells": [
  {
   "cell_type": "markdown",
   "metadata": {},
   "source": [
    "# Loading lib and Establishing connection to DWH"
   ]
  },
  {
   "cell_type": "code",
   "execution_count": 165,
   "metadata": {},
   "outputs": [],
   "source": [
    "import pandas as pd\n",
    "import numpy as np\n",
    "import plotly.express as px\n",
    "import os \n",
    "import json\n",
    "import sys\n",
    "\n",
    "from functools import lru_cache\n",
    "\n",
    "from botocore.exceptions import ClientError"
   ]
  },
  {
   "cell_type": "code",
   "execution_count": 166,
   "metadata": {},
   "outputs": [],
   "source": [
    "# Tells the location of folders (e.g. aws folder) - creates a path\n",
    "from user_path import set_up_path \n",
    "\n",
    "PATH = set_up_path()\n",
    "sys.path.append(PATH['tools'])\n",
    "sys.path.append(PATH['tools'] + '/functions')\n"
   ]
  },
  {
   "cell_type": "code",
   "execution_count": 167,
   "metadata": {},
   "outputs": [],
   "source": [
    "# Importing custom libraries to connect to DWS and GSheet\n",
    "from functions.database import get_data_from_warehouse\n",
    "from utils.gspread.gsheet_data import GetSheetData"
   ]
  },
  {
   "cell_type": "markdown",
   "metadata": {
    "tags": []
   },
   "source": [
    "# Quick EDA"
   ]
  },
  {
   "cell_type": "code",
   "execution_count": 168,
   "metadata": {},
   "outputs": [
    {
     "name": "stdout",
     "output_type": "stream",
     "text": [
      "Connected to the DataWarehouse\n",
      "Result from query obtained\n",
      "Data stored in dataframe\n"
     ]
    }
   ],
   "source": [
    "# CA and pool onboarded drivers worked in \n",
    "query = \"\"\"\n",
    "\n",
    "SELECT d.driver_id,\n",
    "  --     d.applicant_fountain_id,\n",
    "       uam.application_fountain_id,\n",
    "       uam.postcode_found as driver_postCode,\n",
    "       uam.application_pool,\n",
    "       a.area_name_uscore,\n",
    "   --    a.area_name_cap,\n",
    "       a.area_name_clean,\n",
    "       a.catchment_area,\n",
    "       min(d.valid_from_date),\n",
    "       uam.lat as lat_driver, ---- Just in case\n",
    "       uam.long as long_driver---- Just in case\n",
    " --      z.zone_name\n",
    "\n",
    "FROM modeled_core.driver d\n",
    "\n",
    "INNER JOIN ops.uk_application_mapping uam\n",
    "    ON uam.application_fountain_id = d.applicant_fountain_id\n",
    "\n",
    "LEFT JOIN ops.area a\n",
    "    ON uam.application_pool = a.area_name_uscore\n",
    "\n",
    "WHERE d.zone_id = 2\n",
    "group by 1,2,3,4,5,6,7,9,10\n",
    "\n",
    "\"\"\"\n",
    "courier_mapping = get_data_from_warehouse(query)"
   ]
  },
  {
   "cell_type": "code",
   "execution_count": 169,
   "metadata": {},
   "outputs": [
    {
     "data": {
      "text/html": [
       "<div>\n",
       "<style scoped>\n",
       "    .dataframe tbody tr th:only-of-type {\n",
       "        vertical-align: middle;\n",
       "    }\n",
       "\n",
       "    .dataframe tbody tr th {\n",
       "        vertical-align: top;\n",
       "    }\n",
       "\n",
       "    .dataframe thead th {\n",
       "        text-align: right;\n",
       "    }\n",
       "</style>\n",
       "<table border=\"1\" class=\"dataframe\">\n",
       "  <thead>\n",
       "    <tr style=\"text-align: right;\">\n",
       "      <th></th>\n",
       "      <th>driver_id</th>\n",
       "      <th>application_fountain_id</th>\n",
       "      <th>driver_postcode</th>\n",
       "      <th>application_pool</th>\n",
       "      <th>area_name_uscore</th>\n",
       "      <th>area_name_clean</th>\n",
       "      <th>catchment_area</th>\n",
       "      <th>min</th>\n",
       "      <th>lat_driver</th>\n",
       "      <th>long_driver</th>\n",
       "    </tr>\n",
       "  </thead>\n",
       "  <tbody>\n",
       "    <tr>\n",
       "      <th>0</th>\n",
       "      <td>343571</td>\n",
       "      <td>8c74d554-5abe-4be1-a2dd-c0c7d8033551</td>\n",
       "      <td>SW16 1JJ</td>\n",
       "      <td>Balham</td>\n",
       "      <td>Balham</td>\n",
       "      <td>Balham</td>\n",
       "      <td>London Inner S</td>\n",
       "      <td>2021-01-14</td>\n",
       "      <td>51.434972</td>\n",
       "      <td>-0.130011</td>\n",
       "    </tr>\n",
       "    <tr>\n",
       "      <th>1</th>\n",
       "      <td>343678</td>\n",
       "      <td>9d6e1346-60e7-493e-9c45-e6e40fb2d095</td>\n",
       "      <td>N8 9JT</td>\n",
       "      <td>Finsbury_Park</td>\n",
       "      <td>Finsbury_Park</td>\n",
       "      <td>Finsbury Park</td>\n",
       "      <td>London Outer N</td>\n",
       "      <td>2021-01-14</td>\n",
       "      <td>51.582547</td>\n",
       "      <td>-0.116439</td>\n",
       "    </tr>\n",
       "    <tr>\n",
       "      <th>2</th>\n",
       "      <td>355171</td>\n",
       "      <td>ae304ea7-491f-4d5d-a2a2-7c2df12f32b5</td>\n",
       "      <td>IG3 8DP</td>\n",
       "      <td>Goodmayes</td>\n",
       "      <td>Goodmayes</td>\n",
       "      <td>Goodmayes</td>\n",
       "      <td>London Border NE</td>\n",
       "      <td>2021-02-02</td>\n",
       "      <td>51.563420</td>\n",
       "      <td>0.102252</td>\n",
       "    </tr>\n",
       "    <tr>\n",
       "      <th>3</th>\n",
       "      <td>346970</td>\n",
       "      <td>d82d3ede-c397-4cad-b22a-88c14af819f1</td>\n",
       "      <td>HA0 3DJ</td>\n",
       "      <td>Wembley</td>\n",
       "      <td>Wembley</td>\n",
       "      <td>Wembley</td>\n",
       "      <td>London Outer Upper NW</td>\n",
       "      <td>2021-01-19</td>\n",
       "      <td>51.556704</td>\n",
       "      <td>-0.311459</td>\n",
       "    </tr>\n",
       "    <tr>\n",
       "      <th>4</th>\n",
       "      <td>351359</td>\n",
       "      <td>fbb15f06-5ace-4d00-bab8-59feb72846af</td>\n",
       "      <td>N16 5EA</td>\n",
       "      <td>Stoke_Newington</td>\n",
       "      <td>Stoke_Newington</td>\n",
       "      <td>Stoke Newington</td>\n",
       "      <td>London Inner N</td>\n",
       "      <td>2021-01-26</td>\n",
       "      <td>51.572555</td>\n",
       "      <td>-0.083040</td>\n",
       "    </tr>\n",
       "    <tr>\n",
       "      <th>...</th>\n",
       "      <td>...</td>\n",
       "      <td>...</td>\n",
       "      <td>...</td>\n",
       "      <td>...</td>\n",
       "      <td>...</td>\n",
       "      <td>...</td>\n",
       "      <td>...</td>\n",
       "      <td>...</td>\n",
       "      <td>...</td>\n",
       "      <td>...</td>\n",
       "    </tr>\n",
       "    <tr>\n",
       "      <th>11198</th>\n",
       "      <td>473591</td>\n",
       "      <td>7b878fc0-1f6a-48ae-81e4-b01529a58ca5</td>\n",
       "      <td>E13 8PJ</td>\n",
       "      <td>Canning_Town</td>\n",
       "      <td>Canning_Town</td>\n",
       "      <td>Canning Town</td>\n",
       "      <td>London Outer NE</td>\n",
       "      <td>2021-11-18</td>\n",
       "      <td>51.519696</td>\n",
       "      <td>0.030847</td>\n",
       "    </tr>\n",
       "    <tr>\n",
       "      <th>11199</th>\n",
       "      <td>473326</td>\n",
       "      <td>7a82995f-73f4-4c90-8724-4b7fd1a3712a</td>\n",
       "      <td>E7 8JF</td>\n",
       "      <td>East_Ham</td>\n",
       "      <td>East_Ham</td>\n",
       "      <td>East Ham</td>\n",
       "      <td>London Outer NE</td>\n",
       "      <td>2021-11-18</td>\n",
       "      <td>51.544574</td>\n",
       "      <td>0.032185</td>\n",
       "    </tr>\n",
       "    <tr>\n",
       "      <th>11200</th>\n",
       "      <td>473754</td>\n",
       "      <td>c71e54d4-4265-4709-b0c0-6c17ec2e8684</td>\n",
       "      <td>HA0 4LL</td>\n",
       "      <td>Wembley</td>\n",
       "      <td>Wembley</td>\n",
       "      <td>Wembley</td>\n",
       "      <td>London Outer Upper NW</td>\n",
       "      <td>2021-11-18</td>\n",
       "      <td>51.541558</td>\n",
       "      <td>-0.298081</td>\n",
       "    </tr>\n",
       "    <tr>\n",
       "      <th>11201</th>\n",
       "      <td>507038</td>\n",
       "      <td>90d80a9b-77eb-4532-b8f2-78c8a610ecd5</td>\n",
       "      <td>SE25 5BQ</td>\n",
       "      <td>Croydon_Central</td>\n",
       "      <td>Croydon_Central</td>\n",
       "      <td>Croydon Central</td>\n",
       "      <td>London Outer S</td>\n",
       "      <td>2022-01-20</td>\n",
       "      <td>51.390436</td>\n",
       "      <td>-0.071488</td>\n",
       "    </tr>\n",
       "    <tr>\n",
       "      <th>11202</th>\n",
       "      <td>473537</td>\n",
       "      <td>80c9f07b-3e77-4969-8e2e-3b9a668c63dc</td>\n",
       "      <td>DA1 4AB</td>\n",
       "      <td>Dartford</td>\n",
       "      <td>Dartford</td>\n",
       "      <td>Dartford</td>\n",
       "      <td>London Outer E</td>\n",
       "      <td>2021-11-18</td>\n",
       "      <td>51.449955</td>\n",
       "      <td>0.189350</td>\n",
       "    </tr>\n",
       "  </tbody>\n",
       "</table>\n",
       "<p>11203 rows × 10 columns</p>\n",
       "</div>"
      ],
      "text/plain": [
       "       driver_id               application_fountain_id driver_postcode  \\\n",
       "0         343571  8c74d554-5abe-4be1-a2dd-c0c7d8033551        SW16 1JJ   \n",
       "1         343678  9d6e1346-60e7-493e-9c45-e6e40fb2d095          N8 9JT   \n",
       "2         355171  ae304ea7-491f-4d5d-a2a2-7c2df12f32b5         IG3 8DP   \n",
       "3         346970  d82d3ede-c397-4cad-b22a-88c14af819f1         HA0 3DJ   \n",
       "4         351359  fbb15f06-5ace-4d00-bab8-59feb72846af         N16 5EA   \n",
       "...          ...                                   ...             ...   \n",
       "11198     473591  7b878fc0-1f6a-48ae-81e4-b01529a58ca5         E13 8PJ   \n",
       "11199     473326  7a82995f-73f4-4c90-8724-4b7fd1a3712a          E7 8JF   \n",
       "11200     473754  c71e54d4-4265-4709-b0c0-6c17ec2e8684         HA0 4LL   \n",
       "11201     507038  90d80a9b-77eb-4532-b8f2-78c8a610ecd5        SE25 5BQ   \n",
       "11202     473537  80c9f07b-3e77-4969-8e2e-3b9a668c63dc         DA1 4AB   \n",
       "\n",
       "      application_pool area_name_uscore  area_name_clean  \\\n",
       "0               Balham           Balham           Balham   \n",
       "1        Finsbury_Park    Finsbury_Park    Finsbury Park   \n",
       "2            Goodmayes        Goodmayes        Goodmayes   \n",
       "3              Wembley          Wembley          Wembley   \n",
       "4      Stoke_Newington  Stoke_Newington  Stoke Newington   \n",
       "...                ...              ...              ...   \n",
       "11198     Canning_Town     Canning_Town     Canning Town   \n",
       "11199         East_Ham         East_Ham         East Ham   \n",
       "11200          Wembley          Wembley          Wembley   \n",
       "11201  Croydon_Central  Croydon_Central  Croydon Central   \n",
       "11202         Dartford         Dartford         Dartford   \n",
       "\n",
       "              catchment_area         min  lat_driver  long_driver  \n",
       "0             London Inner S  2021-01-14   51.434972    -0.130011  \n",
       "1             London Outer N  2021-01-14   51.582547    -0.116439  \n",
       "2           London Border NE  2021-02-02   51.563420     0.102252  \n",
       "3      London Outer Upper NW  2021-01-19   51.556704    -0.311459  \n",
       "4             London Inner N  2021-01-26   51.572555    -0.083040  \n",
       "...                      ...         ...         ...          ...  \n",
       "11198        London Outer NE  2021-11-18   51.519696     0.030847  \n",
       "11199        London Outer NE  2021-11-18   51.544574     0.032185  \n",
       "11200  London Outer Upper NW  2021-11-18   51.541558    -0.298081  \n",
       "11201         London Outer S  2022-01-20   51.390436    -0.071488  \n",
       "11202         London Outer E  2021-11-18   51.449955     0.189350  \n",
       "\n",
       "[11203 rows x 10 columns]"
      ]
     },
     "execution_count": 169,
     "metadata": {},
     "output_type": "execute_result"
    }
   ],
   "source": [
    "courier_mapping"
   ]
  },
  {
   "cell_type": "code",
   "execution_count": 170,
   "metadata": {},
   "outputs": [
    {
     "data": {
      "text/html": [
       "<div>\n",
       "<style scoped>\n",
       "    .dataframe tbody tr th:only-of-type {\n",
       "        vertical-align: middle;\n",
       "    }\n",
       "\n",
       "    .dataframe tbody tr th {\n",
       "        vertical-align: top;\n",
       "    }\n",
       "\n",
       "    .dataframe thead th {\n",
       "        text-align: right;\n",
       "    }\n",
       "</style>\n",
       "<table border=\"1\" class=\"dataframe\">\n",
       "  <thead>\n",
       "    <tr style=\"text-align: right;\">\n",
       "      <th></th>\n",
       "      <th>driver_id</th>\n",
       "      <th>lat_driver</th>\n",
       "      <th>long_driver</th>\n",
       "    </tr>\n",
       "  </thead>\n",
       "  <tbody>\n",
       "    <tr>\n",
       "      <th>count</th>\n",
       "      <td>11203.000000</td>\n",
       "      <td>11135.000000</td>\n",
       "      <td>11135.000000</td>\n",
       "    </tr>\n",
       "    <tr>\n",
       "      <th>mean</th>\n",
       "      <td>429625.089797</td>\n",
       "      <td>51.539302</td>\n",
       "      <td>-0.175463</td>\n",
       "    </tr>\n",
       "    <tr>\n",
       "      <th>std</th>\n",
       "      <td>48685.277243</td>\n",
       "      <td>0.308542</td>\n",
       "      <td>0.434795</td>\n",
       "    </tr>\n",
       "    <tr>\n",
       "      <th>min</th>\n",
       "      <td>339072.000000</td>\n",
       "      <td>50.339817</td>\n",
       "      <td>-4.978623</td>\n",
       "    </tr>\n",
       "    <tr>\n",
       "      <th>25%</th>\n",
       "      <td>392562.500000</td>\n",
       "      <td>51.450588</td>\n",
       "      <td>-0.255441</td>\n",
       "    </tr>\n",
       "    <tr>\n",
       "      <th>50%</th>\n",
       "      <td>424321.000000</td>\n",
       "      <td>51.523355</td>\n",
       "      <td>-0.107344</td>\n",
       "    </tr>\n",
       "    <tr>\n",
       "      <th>75%</th>\n",
       "      <td>473557.500000</td>\n",
       "      <td>51.568359</td>\n",
       "      <td>-0.009161</td>\n",
       "    </tr>\n",
       "    <tr>\n",
       "      <th>max</th>\n",
       "      <td>510700.000000</td>\n",
       "      <td>56.127844</td>\n",
       "      <td>1.122188</td>\n",
       "    </tr>\n",
       "  </tbody>\n",
       "</table>\n",
       "</div>"
      ],
      "text/plain": [
       "           driver_id    lat_driver   long_driver\n",
       "count   11203.000000  11135.000000  11135.000000\n",
       "mean   429625.089797     51.539302     -0.175463\n",
       "std     48685.277243      0.308542      0.434795\n",
       "min    339072.000000     50.339817     -4.978623\n",
       "25%    392562.500000     51.450588     -0.255441\n",
       "50%    424321.000000     51.523355     -0.107344\n",
       "75%    473557.500000     51.568359     -0.009161\n",
       "max    510700.000000     56.127844      1.122188"
      ]
     },
     "execution_count": 170,
     "metadata": {},
     "output_type": "execute_result"
    }
   ],
   "source": [
    "courier_mapping.describe()"
   ]
  },
  {
   "cell_type": "code",
   "execution_count": 171,
   "metadata": {},
   "outputs": [
    {
     "data": {
      "text/plain": [
       "11203"
      ]
     },
     "execution_count": 171,
     "metadata": {},
     "output_type": "execute_result"
    }
   ],
   "source": [
    "courier_mapping['driver_id'].nunique()"
   ]
  },
  {
   "cell_type": "code",
   "execution_count": 172,
   "metadata": {},
   "outputs": [
    {
     "data": {
      "text/plain": [
       "driver_id                     0\n",
       "application_fountain_id       0\n",
       "driver_postcode               0\n",
       "application_pool              0\n",
       "area_name_uscore           1172\n",
       "area_name_clean            1172\n",
       "catchment_area             1172\n",
       "min                           0\n",
       "lat_driver                   68\n",
       "long_driver                  68\n",
       "dtype: int64"
      ]
     },
     "execution_count": 172,
     "metadata": {},
     "output_type": "execute_result"
    }
   ],
   "source": [
    "courier_mapping.isnull().sum()"
   ]
  },
  {
   "cell_type": "code",
   "execution_count": 173,
   "metadata": {},
   "outputs": [
    {
     "name": "stdout",
     "output_type": "stream",
     "text": [
      "10.461483531197\n"
     ]
    }
   ],
   "source": [
    "# Percentage of couriers not living in CA in London\n",
    "not_in_CA = courier_mapping['catchment_area'].isnull().sum() * 100 / len(courier_mapping.catchment_area)\n",
    "print(not_in_CA)"
   ]
  },
  {
   "cell_type": "code",
   "execution_count": 174,
   "metadata": {},
   "outputs": [
    {
     "name": "stdout",
     "output_type": "stream",
     "text": [
      "89.538516468803\n"
     ]
    }
   ],
   "source": [
    "# Percentage of couriers living in CA in London\n",
    "in_CA = courier_mapping['catchment_area'].notnull().sum() * 100 / len(courier_mapping.catchment_area)\n",
    "print(in_CA)"
   ]
  },
  {
   "cell_type": "code",
   "execution_count": 175,
   "metadata": {},
   "outputs": [],
   "source": [
    "courier_inCA = courier_mapping"
   ]
  },
  {
   "cell_type": "code",
   "execution_count": 176,
   "metadata": {},
   "outputs": [
    {
     "data": {
      "text/html": [
       "<div>\n",
       "<style scoped>\n",
       "    .dataframe tbody tr th:only-of-type {\n",
       "        vertical-align: middle;\n",
       "    }\n",
       "\n",
       "    .dataframe tbody tr th {\n",
       "        vertical-align: top;\n",
       "    }\n",
       "\n",
       "    .dataframe thead th {\n",
       "        text-align: right;\n",
       "    }\n",
       "</style>\n",
       "<table border=\"1\" class=\"dataframe\">\n",
       "  <thead>\n",
       "    <tr style=\"text-align: right;\">\n",
       "      <th></th>\n",
       "      <th>driver_id</th>\n",
       "      <th>application_fountain_id</th>\n",
       "      <th>driver_postcode</th>\n",
       "      <th>application_pool</th>\n",
       "      <th>area_name_uscore</th>\n",
       "      <th>area_name_clean</th>\n",
       "      <th>catchment_area</th>\n",
       "      <th>min</th>\n",
       "      <th>lat_driver</th>\n",
       "      <th>long_driver</th>\n",
       "      <th>in_CA</th>\n",
       "    </tr>\n",
       "  </thead>\n",
       "  <tbody>\n",
       "    <tr>\n",
       "      <th>0</th>\n",
       "      <td>343571</td>\n",
       "      <td>8c74d554-5abe-4be1-a2dd-c0c7d8033551</td>\n",
       "      <td>SW16 1JJ</td>\n",
       "      <td>Balham</td>\n",
       "      <td>Balham</td>\n",
       "      <td>Balham</td>\n",
       "      <td>London Inner S</td>\n",
       "      <td>2021-01-14</td>\n",
       "      <td>51.434972</td>\n",
       "      <td>-0.130011</td>\n",
       "      <td>Yes</td>\n",
       "    </tr>\n",
       "    <tr>\n",
       "      <th>1</th>\n",
       "      <td>343678</td>\n",
       "      <td>9d6e1346-60e7-493e-9c45-e6e40fb2d095</td>\n",
       "      <td>N8 9JT</td>\n",
       "      <td>Finsbury_Park</td>\n",
       "      <td>Finsbury_Park</td>\n",
       "      <td>Finsbury Park</td>\n",
       "      <td>London Outer N</td>\n",
       "      <td>2021-01-14</td>\n",
       "      <td>51.582547</td>\n",
       "      <td>-0.116439</td>\n",
       "      <td>Yes</td>\n",
       "    </tr>\n",
       "    <tr>\n",
       "      <th>2</th>\n",
       "      <td>355171</td>\n",
       "      <td>ae304ea7-491f-4d5d-a2a2-7c2df12f32b5</td>\n",
       "      <td>IG3 8DP</td>\n",
       "      <td>Goodmayes</td>\n",
       "      <td>Goodmayes</td>\n",
       "      <td>Goodmayes</td>\n",
       "      <td>London Border NE</td>\n",
       "      <td>2021-02-02</td>\n",
       "      <td>51.563420</td>\n",
       "      <td>0.102252</td>\n",
       "      <td>Yes</td>\n",
       "    </tr>\n",
       "    <tr>\n",
       "      <th>3</th>\n",
       "      <td>346970</td>\n",
       "      <td>d82d3ede-c397-4cad-b22a-88c14af819f1</td>\n",
       "      <td>HA0 3DJ</td>\n",
       "      <td>Wembley</td>\n",
       "      <td>Wembley</td>\n",
       "      <td>Wembley</td>\n",
       "      <td>London Outer Upper NW</td>\n",
       "      <td>2021-01-19</td>\n",
       "      <td>51.556704</td>\n",
       "      <td>-0.311459</td>\n",
       "      <td>Yes</td>\n",
       "    </tr>\n",
       "    <tr>\n",
       "      <th>4</th>\n",
       "      <td>351359</td>\n",
       "      <td>fbb15f06-5ace-4d00-bab8-59feb72846af</td>\n",
       "      <td>N16 5EA</td>\n",
       "      <td>Stoke_Newington</td>\n",
       "      <td>Stoke_Newington</td>\n",
       "      <td>Stoke Newington</td>\n",
       "      <td>London Inner N</td>\n",
       "      <td>2021-01-26</td>\n",
       "      <td>51.572555</td>\n",
       "      <td>-0.083040</td>\n",
       "      <td>Yes</td>\n",
       "    </tr>\n",
       "    <tr>\n",
       "      <th>...</th>\n",
       "      <td>...</td>\n",
       "      <td>...</td>\n",
       "      <td>...</td>\n",
       "      <td>...</td>\n",
       "      <td>...</td>\n",
       "      <td>...</td>\n",
       "      <td>...</td>\n",
       "      <td>...</td>\n",
       "      <td>...</td>\n",
       "      <td>...</td>\n",
       "      <td>...</td>\n",
       "    </tr>\n",
       "    <tr>\n",
       "      <th>11198</th>\n",
       "      <td>473591</td>\n",
       "      <td>7b878fc0-1f6a-48ae-81e4-b01529a58ca5</td>\n",
       "      <td>E13 8PJ</td>\n",
       "      <td>Canning_Town</td>\n",
       "      <td>Canning_Town</td>\n",
       "      <td>Canning Town</td>\n",
       "      <td>London Outer NE</td>\n",
       "      <td>2021-11-18</td>\n",
       "      <td>51.519696</td>\n",
       "      <td>0.030847</td>\n",
       "      <td>Yes</td>\n",
       "    </tr>\n",
       "    <tr>\n",
       "      <th>11199</th>\n",
       "      <td>473326</td>\n",
       "      <td>7a82995f-73f4-4c90-8724-4b7fd1a3712a</td>\n",
       "      <td>E7 8JF</td>\n",
       "      <td>East_Ham</td>\n",
       "      <td>East_Ham</td>\n",
       "      <td>East Ham</td>\n",
       "      <td>London Outer NE</td>\n",
       "      <td>2021-11-18</td>\n",
       "      <td>51.544574</td>\n",
       "      <td>0.032185</td>\n",
       "      <td>Yes</td>\n",
       "    </tr>\n",
       "    <tr>\n",
       "      <th>11200</th>\n",
       "      <td>473754</td>\n",
       "      <td>c71e54d4-4265-4709-b0c0-6c17ec2e8684</td>\n",
       "      <td>HA0 4LL</td>\n",
       "      <td>Wembley</td>\n",
       "      <td>Wembley</td>\n",
       "      <td>Wembley</td>\n",
       "      <td>London Outer Upper NW</td>\n",
       "      <td>2021-11-18</td>\n",
       "      <td>51.541558</td>\n",
       "      <td>-0.298081</td>\n",
       "      <td>Yes</td>\n",
       "    </tr>\n",
       "    <tr>\n",
       "      <th>11201</th>\n",
       "      <td>507038</td>\n",
       "      <td>90d80a9b-77eb-4532-b8f2-78c8a610ecd5</td>\n",
       "      <td>SE25 5BQ</td>\n",
       "      <td>Croydon_Central</td>\n",
       "      <td>Croydon_Central</td>\n",
       "      <td>Croydon Central</td>\n",
       "      <td>London Outer S</td>\n",
       "      <td>2022-01-20</td>\n",
       "      <td>51.390436</td>\n",
       "      <td>-0.071488</td>\n",
       "      <td>Yes</td>\n",
       "    </tr>\n",
       "    <tr>\n",
       "      <th>11202</th>\n",
       "      <td>473537</td>\n",
       "      <td>80c9f07b-3e77-4969-8e2e-3b9a668c63dc</td>\n",
       "      <td>DA1 4AB</td>\n",
       "      <td>Dartford</td>\n",
       "      <td>Dartford</td>\n",
       "      <td>Dartford</td>\n",
       "      <td>London Outer E</td>\n",
       "      <td>2021-11-18</td>\n",
       "      <td>51.449955</td>\n",
       "      <td>0.189350</td>\n",
       "      <td>Yes</td>\n",
       "    </tr>\n",
       "  </tbody>\n",
       "</table>\n",
       "<p>11203 rows × 11 columns</p>\n",
       "</div>"
      ],
      "text/plain": [
       "       driver_id               application_fountain_id driver_postcode  \\\n",
       "0         343571  8c74d554-5abe-4be1-a2dd-c0c7d8033551        SW16 1JJ   \n",
       "1         343678  9d6e1346-60e7-493e-9c45-e6e40fb2d095          N8 9JT   \n",
       "2         355171  ae304ea7-491f-4d5d-a2a2-7c2df12f32b5         IG3 8DP   \n",
       "3         346970  d82d3ede-c397-4cad-b22a-88c14af819f1         HA0 3DJ   \n",
       "4         351359  fbb15f06-5ace-4d00-bab8-59feb72846af         N16 5EA   \n",
       "...          ...                                   ...             ...   \n",
       "11198     473591  7b878fc0-1f6a-48ae-81e4-b01529a58ca5         E13 8PJ   \n",
       "11199     473326  7a82995f-73f4-4c90-8724-4b7fd1a3712a          E7 8JF   \n",
       "11200     473754  c71e54d4-4265-4709-b0c0-6c17ec2e8684         HA0 4LL   \n",
       "11201     507038  90d80a9b-77eb-4532-b8f2-78c8a610ecd5        SE25 5BQ   \n",
       "11202     473537  80c9f07b-3e77-4969-8e2e-3b9a668c63dc         DA1 4AB   \n",
       "\n",
       "      application_pool area_name_uscore  area_name_clean  \\\n",
       "0               Balham           Balham           Balham   \n",
       "1        Finsbury_Park    Finsbury_Park    Finsbury Park   \n",
       "2            Goodmayes        Goodmayes        Goodmayes   \n",
       "3              Wembley          Wembley          Wembley   \n",
       "4      Stoke_Newington  Stoke_Newington  Stoke Newington   \n",
       "...                ...              ...              ...   \n",
       "11198     Canning_Town     Canning_Town     Canning Town   \n",
       "11199         East_Ham         East_Ham         East Ham   \n",
       "11200          Wembley          Wembley          Wembley   \n",
       "11201  Croydon_Central  Croydon_Central  Croydon Central   \n",
       "11202         Dartford         Dartford         Dartford   \n",
       "\n",
       "              catchment_area         min  lat_driver  long_driver in_CA  \n",
       "0             London Inner S  2021-01-14   51.434972    -0.130011   Yes  \n",
       "1             London Outer N  2021-01-14   51.582547    -0.116439   Yes  \n",
       "2           London Border NE  2021-02-02   51.563420     0.102252   Yes  \n",
       "3      London Outer Upper NW  2021-01-19   51.556704    -0.311459   Yes  \n",
       "4             London Inner N  2021-01-26   51.572555    -0.083040   Yes  \n",
       "...                      ...         ...         ...          ...   ...  \n",
       "11198        London Outer NE  2021-11-18   51.519696     0.030847   Yes  \n",
       "11199        London Outer NE  2021-11-18   51.544574     0.032185   Yes  \n",
       "11200  London Outer Upper NW  2021-11-18   51.541558    -0.298081   Yes  \n",
       "11201         London Outer S  2022-01-20   51.390436    -0.071488   Yes  \n",
       "11202         London Outer E  2021-11-18   51.449955     0.189350   Yes  \n",
       "\n",
       "[11203 rows x 11 columns]"
      ]
     },
     "execution_count": 176,
     "metadata": {},
     "output_type": "execute_result"
    }
   ],
   "source": [
    "courier_mapping['in_CA']= np.where(courier_mapping['catchment_area'].notnull() , 'Yes' , 'No')\n",
    "courier_mapping"
   ]
  },
  {
   "cell_type": "code",
   "execution_count": 177,
   "metadata": {},
   "outputs": [
    {
     "data": {
      "text/html": [
       "<div>\n",
       "<style scoped>\n",
       "    .dataframe tbody tr th:only-of-type {\n",
       "        vertical-align: middle;\n",
       "    }\n",
       "\n",
       "    .dataframe tbody tr th {\n",
       "        vertical-align: top;\n",
       "    }\n",
       "\n",
       "    .dataframe thead th {\n",
       "        text-align: right;\n",
       "    }\n",
       "</style>\n",
       "<table border=\"1\" class=\"dataframe\">\n",
       "  <thead>\n",
       "    <tr style=\"text-align: right;\">\n",
       "      <th></th>\n",
       "      <th>in_CA</th>\n",
       "      <th>driver_id</th>\n",
       "    </tr>\n",
       "  </thead>\n",
       "  <tbody>\n",
       "    <tr>\n",
       "      <th>0</th>\n",
       "      <td>No</td>\n",
       "      <td>1172</td>\n",
       "    </tr>\n",
       "    <tr>\n",
       "      <th>1</th>\n",
       "      <td>Yes</td>\n",
       "      <td>10031</td>\n",
       "    </tr>\n",
       "  </tbody>\n",
       "</table>\n",
       "</div>"
      ],
      "text/plain": [
       "  in_CA  driver_id\n",
       "0    No       1172\n",
       "1   Yes      10031"
      ]
     },
     "execution_count": 177,
     "metadata": {},
     "output_type": "execute_result"
    }
   ],
   "source": [
    "in_CA = courier_mapping.groupby('in_CA').agg({'driver_id':'count'}).reset_index()\n",
    "in_CA"
   ]
  },
  {
   "cell_type": "code",
   "execution_count": 178,
   "metadata": {},
   "outputs": [],
   "source": [
    "# Percentage of drivers who live within CA\n",
    "in_CA['Percentage_drivers_inCA'] = (in_CA['driver_id']/in_CA['driver_id'].sum()) * 100\n",
    "in_CA = in_CA.round(0)"
   ]
  },
  {
   "cell_type": "code",
   "execution_count": 179,
   "metadata": {},
   "outputs": [
    {
     "data": {
      "application/vnd.plotly.v1+json": {
       "config": {
        "plotlyServerURL": "https://plot.ly"
       },
       "data": [
        {
         "alignmentgroup": "True",
         "hovertemplate": "in_CA=%{x}<br>Percentage_drivers_inCA=%{text}<extra></extra>",
         "legendgroup": "",
         "marker": {
          "color": "#636efa",
          "pattern": {
           "shape": ""
          }
         },
         "name": "",
         "offsetgroup": "",
         "orientation": "v",
         "showlegend": false,
         "text": [
          10,
          90
         ],
         "textposition": "auto",
         "type": "bar",
         "x": [
          "No",
          "Yes"
         ],
         "xaxis": "x",
         "y": [
          10,
          90
         ],
         "yaxis": "y"
        }
       ],
       "layout": {
        "autosize": true,
        "barmode": "relative",
        "legend": {
         "tracegroupgap": 0
        },
        "template": {
         "data": {
          "bar": [
           {
            "error_x": {
             "color": "#2a3f5f"
            },
            "error_y": {
             "color": "#2a3f5f"
            },
            "marker": {
             "line": {
              "color": "#E5ECF6",
              "width": 0.5
             },
             "pattern": {
              "fillmode": "overlay",
              "size": 10,
              "solidity": 0.2
             }
            },
            "type": "bar"
           }
          ],
          "barpolar": [
           {
            "marker": {
             "line": {
              "color": "#E5ECF6",
              "width": 0.5
             },
             "pattern": {
              "fillmode": "overlay",
              "size": 10,
              "solidity": 0.2
             }
            },
            "type": "barpolar"
           }
          ],
          "carpet": [
           {
            "aaxis": {
             "endlinecolor": "#2a3f5f",
             "gridcolor": "white",
             "linecolor": "white",
             "minorgridcolor": "white",
             "startlinecolor": "#2a3f5f"
            },
            "baxis": {
             "endlinecolor": "#2a3f5f",
             "gridcolor": "white",
             "linecolor": "white",
             "minorgridcolor": "white",
             "startlinecolor": "#2a3f5f"
            },
            "type": "carpet"
           }
          ],
          "choropleth": [
           {
            "colorbar": {
             "outlinewidth": 0,
             "ticks": ""
            },
            "type": "choropleth"
           }
          ],
          "contour": [
           {
            "colorbar": {
             "outlinewidth": 0,
             "ticks": ""
            },
            "colorscale": [
             [
              0,
              "#0d0887"
             ],
             [
              0.1111111111111111,
              "#46039f"
             ],
             [
              0.2222222222222222,
              "#7201a8"
             ],
             [
              0.3333333333333333,
              "#9c179e"
             ],
             [
              0.4444444444444444,
              "#bd3786"
             ],
             [
              0.5555555555555556,
              "#d8576b"
             ],
             [
              0.6666666666666666,
              "#ed7953"
             ],
             [
              0.7777777777777778,
              "#fb9f3a"
             ],
             [
              0.8888888888888888,
              "#fdca26"
             ],
             [
              1,
              "#f0f921"
             ]
            ],
            "type": "contour"
           }
          ],
          "contourcarpet": [
           {
            "colorbar": {
             "outlinewidth": 0,
             "ticks": ""
            },
            "type": "contourcarpet"
           }
          ],
          "heatmap": [
           {
            "colorbar": {
             "outlinewidth": 0,
             "ticks": ""
            },
            "colorscale": [
             [
              0,
              "#0d0887"
             ],
             [
              0.1111111111111111,
              "#46039f"
             ],
             [
              0.2222222222222222,
              "#7201a8"
             ],
             [
              0.3333333333333333,
              "#9c179e"
             ],
             [
              0.4444444444444444,
              "#bd3786"
             ],
             [
              0.5555555555555556,
              "#d8576b"
             ],
             [
              0.6666666666666666,
              "#ed7953"
             ],
             [
              0.7777777777777778,
              "#fb9f3a"
             ],
             [
              0.8888888888888888,
              "#fdca26"
             ],
             [
              1,
              "#f0f921"
             ]
            ],
            "type": "heatmap"
           }
          ],
          "heatmapgl": [
           {
            "colorbar": {
             "outlinewidth": 0,
             "ticks": ""
            },
            "colorscale": [
             [
              0,
              "#0d0887"
             ],
             [
              0.1111111111111111,
              "#46039f"
             ],
             [
              0.2222222222222222,
              "#7201a8"
             ],
             [
              0.3333333333333333,
              "#9c179e"
             ],
             [
              0.4444444444444444,
              "#bd3786"
             ],
             [
              0.5555555555555556,
              "#d8576b"
             ],
             [
              0.6666666666666666,
              "#ed7953"
             ],
             [
              0.7777777777777778,
              "#fb9f3a"
             ],
             [
              0.8888888888888888,
              "#fdca26"
             ],
             [
              1,
              "#f0f921"
             ]
            ],
            "type": "heatmapgl"
           }
          ],
          "histogram": [
           {
            "marker": {
             "pattern": {
              "fillmode": "overlay",
              "size": 10,
              "solidity": 0.2
             }
            },
            "type": "histogram"
           }
          ],
          "histogram2d": [
           {
            "colorbar": {
             "outlinewidth": 0,
             "ticks": ""
            },
            "colorscale": [
             [
              0,
              "#0d0887"
             ],
             [
              0.1111111111111111,
              "#46039f"
             ],
             [
              0.2222222222222222,
              "#7201a8"
             ],
             [
              0.3333333333333333,
              "#9c179e"
             ],
             [
              0.4444444444444444,
              "#bd3786"
             ],
             [
              0.5555555555555556,
              "#d8576b"
             ],
             [
              0.6666666666666666,
              "#ed7953"
             ],
             [
              0.7777777777777778,
              "#fb9f3a"
             ],
             [
              0.8888888888888888,
              "#fdca26"
             ],
             [
              1,
              "#f0f921"
             ]
            ],
            "type": "histogram2d"
           }
          ],
          "histogram2dcontour": [
           {
            "colorbar": {
             "outlinewidth": 0,
             "ticks": ""
            },
            "colorscale": [
             [
              0,
              "#0d0887"
             ],
             [
              0.1111111111111111,
              "#46039f"
             ],
             [
              0.2222222222222222,
              "#7201a8"
             ],
             [
              0.3333333333333333,
              "#9c179e"
             ],
             [
              0.4444444444444444,
              "#bd3786"
             ],
             [
              0.5555555555555556,
              "#d8576b"
             ],
             [
              0.6666666666666666,
              "#ed7953"
             ],
             [
              0.7777777777777778,
              "#fb9f3a"
             ],
             [
              0.8888888888888888,
              "#fdca26"
             ],
             [
              1,
              "#f0f921"
             ]
            ],
            "type": "histogram2dcontour"
           }
          ],
          "mesh3d": [
           {
            "colorbar": {
             "outlinewidth": 0,
             "ticks": ""
            },
            "type": "mesh3d"
           }
          ],
          "parcoords": [
           {
            "line": {
             "colorbar": {
              "outlinewidth": 0,
              "ticks": ""
             }
            },
            "type": "parcoords"
           }
          ],
          "pie": [
           {
            "automargin": true,
            "type": "pie"
           }
          ],
          "scatter": [
           {
            "marker": {
             "colorbar": {
              "outlinewidth": 0,
              "ticks": ""
             }
            },
            "type": "scatter"
           }
          ],
          "scatter3d": [
           {
            "line": {
             "colorbar": {
              "outlinewidth": 0,
              "ticks": ""
             }
            },
            "marker": {
             "colorbar": {
              "outlinewidth": 0,
              "ticks": ""
             }
            },
            "type": "scatter3d"
           }
          ],
          "scattercarpet": [
           {
            "marker": {
             "colorbar": {
              "outlinewidth": 0,
              "ticks": ""
             }
            },
            "type": "scattercarpet"
           }
          ],
          "scattergeo": [
           {
            "marker": {
             "colorbar": {
              "outlinewidth": 0,
              "ticks": ""
             }
            },
            "type": "scattergeo"
           }
          ],
          "scattergl": [
           {
            "marker": {
             "colorbar": {
              "outlinewidth": 0,
              "ticks": ""
             }
            },
            "type": "scattergl"
           }
          ],
          "scattermapbox": [
           {
            "marker": {
             "colorbar": {
              "outlinewidth": 0,
              "ticks": ""
             }
            },
            "type": "scattermapbox"
           }
          ],
          "scatterpolar": [
           {
            "marker": {
             "colorbar": {
              "outlinewidth": 0,
              "ticks": ""
             }
            },
            "type": "scatterpolar"
           }
          ],
          "scatterpolargl": [
           {
            "marker": {
             "colorbar": {
              "outlinewidth": 0,
              "ticks": ""
             }
            },
            "type": "scatterpolargl"
           }
          ],
          "scatterternary": [
           {
            "marker": {
             "colorbar": {
              "outlinewidth": 0,
              "ticks": ""
             }
            },
            "type": "scatterternary"
           }
          ],
          "surface": [
           {
            "colorbar": {
             "outlinewidth": 0,
             "ticks": ""
            },
            "colorscale": [
             [
              0,
              "#0d0887"
             ],
             [
              0.1111111111111111,
              "#46039f"
             ],
             [
              0.2222222222222222,
              "#7201a8"
             ],
             [
              0.3333333333333333,
              "#9c179e"
             ],
             [
              0.4444444444444444,
              "#bd3786"
             ],
             [
              0.5555555555555556,
              "#d8576b"
             ],
             [
              0.6666666666666666,
              "#ed7953"
             ],
             [
              0.7777777777777778,
              "#fb9f3a"
             ],
             [
              0.8888888888888888,
              "#fdca26"
             ],
             [
              1,
              "#f0f921"
             ]
            ],
            "type": "surface"
           }
          ],
          "table": [
           {
            "cells": {
             "fill": {
              "color": "#EBF0F8"
             },
             "line": {
              "color": "white"
             }
            },
            "header": {
             "fill": {
              "color": "#C8D4E3"
             },
             "line": {
              "color": "white"
             }
            },
            "type": "table"
           }
          ]
         },
         "layout": {
          "annotationdefaults": {
           "arrowcolor": "#2a3f5f",
           "arrowhead": 0,
           "arrowwidth": 1
          },
          "autotypenumbers": "strict",
          "coloraxis": {
           "colorbar": {
            "outlinewidth": 0,
            "ticks": ""
           }
          },
          "colorscale": {
           "diverging": [
            [
             0,
             "#8e0152"
            ],
            [
             0.1,
             "#c51b7d"
            ],
            [
             0.2,
             "#de77ae"
            ],
            [
             0.3,
             "#f1b6da"
            ],
            [
             0.4,
             "#fde0ef"
            ],
            [
             0.5,
             "#f7f7f7"
            ],
            [
             0.6,
             "#e6f5d0"
            ],
            [
             0.7,
             "#b8e186"
            ],
            [
             0.8,
             "#7fbc41"
            ],
            [
             0.9,
             "#4d9221"
            ],
            [
             1,
             "#276419"
            ]
           ],
           "sequential": [
            [
             0,
             "#0d0887"
            ],
            [
             0.1111111111111111,
             "#46039f"
            ],
            [
             0.2222222222222222,
             "#7201a8"
            ],
            [
             0.3333333333333333,
             "#9c179e"
            ],
            [
             0.4444444444444444,
             "#bd3786"
            ],
            [
             0.5555555555555556,
             "#d8576b"
            ],
            [
             0.6666666666666666,
             "#ed7953"
            ],
            [
             0.7777777777777778,
             "#fb9f3a"
            ],
            [
             0.8888888888888888,
             "#fdca26"
            ],
            [
             1,
             "#f0f921"
            ]
           ],
           "sequentialminus": [
            [
             0,
             "#0d0887"
            ],
            [
             0.1111111111111111,
             "#46039f"
            ],
            [
             0.2222222222222222,
             "#7201a8"
            ],
            [
             0.3333333333333333,
             "#9c179e"
            ],
            [
             0.4444444444444444,
             "#bd3786"
            ],
            [
             0.5555555555555556,
             "#d8576b"
            ],
            [
             0.6666666666666666,
             "#ed7953"
            ],
            [
             0.7777777777777778,
             "#fb9f3a"
            ],
            [
             0.8888888888888888,
             "#fdca26"
            ],
            [
             1,
             "#f0f921"
            ]
           ]
          },
          "colorway": [
           "#636efa",
           "#EF553B",
           "#00cc96",
           "#ab63fa",
           "#FFA15A",
           "#19d3f3",
           "#FF6692",
           "#B6E880",
           "#FF97FF",
           "#FECB52"
          ],
          "font": {
           "color": "#2a3f5f"
          },
          "geo": {
           "bgcolor": "white",
           "lakecolor": "white",
           "landcolor": "#E5ECF6",
           "showlakes": true,
           "showland": true,
           "subunitcolor": "white"
          },
          "hoverlabel": {
           "align": "left"
          },
          "hovermode": "closest",
          "mapbox": {
           "style": "light"
          },
          "paper_bgcolor": "white",
          "plot_bgcolor": "#E5ECF6",
          "polar": {
           "angularaxis": {
            "gridcolor": "white",
            "linecolor": "white",
            "ticks": ""
           },
           "bgcolor": "#E5ECF6",
           "radialaxis": {
            "gridcolor": "white",
            "linecolor": "white",
            "ticks": ""
           }
          },
          "scene": {
           "xaxis": {
            "backgroundcolor": "#E5ECF6",
            "gridcolor": "white",
            "gridwidth": 2,
            "linecolor": "white",
            "showbackground": true,
            "ticks": "",
            "zerolinecolor": "white"
           },
           "yaxis": {
            "backgroundcolor": "#E5ECF6",
            "gridcolor": "white",
            "gridwidth": 2,
            "linecolor": "white",
            "showbackground": true,
            "ticks": "",
            "zerolinecolor": "white"
           },
           "zaxis": {
            "backgroundcolor": "#E5ECF6",
            "gridcolor": "white",
            "gridwidth": 2,
            "linecolor": "white",
            "showbackground": true,
            "ticks": "",
            "zerolinecolor": "white"
           }
          },
          "shapedefaults": {
           "line": {
            "color": "#2a3f5f"
           }
          },
          "ternary": {
           "aaxis": {
            "gridcolor": "white",
            "linecolor": "white",
            "ticks": ""
           },
           "baxis": {
            "gridcolor": "white",
            "linecolor": "white",
            "ticks": ""
           },
           "bgcolor": "#E5ECF6",
           "caxis": {
            "gridcolor": "white",
            "linecolor": "white",
            "ticks": ""
           }
          },
          "title": {
           "x": 0.05
          },
          "xaxis": {
           "automargin": true,
           "gridcolor": "white",
           "linecolor": "white",
           "ticks": "",
           "title": {
            "standoff": 15
           },
           "zerolinecolor": "white",
           "zerolinewidth": 2
          },
          "yaxis": {
           "automargin": true,
           "gridcolor": "white",
           "linecolor": "white",
           "ticks": "",
           "title": {
            "standoff": 15
           },
           "zerolinecolor": "white",
           "zerolinewidth": 2
          }
         }
        },
        "title": {
         "text": "Percentage of Couriers Within CA"
        },
        "xaxis": {
         "anchor": "y",
         "autorange": true,
         "domain": [
          0,
          1
         ],
         "range": [
          -0.5,
          1.5
         ],
         "title": {
          "text": "in_CA"
         },
         "type": "category"
        },
        "yaxis": {
         "anchor": "x",
         "autorange": true,
         "domain": [
          0,
          1
         ],
         "range": [
          0,
          94.73684210526315
         ],
         "title": {
          "text": "Percentage_drivers_inCA"
         },
         "type": "linear"
        }
       }
      },
      "image/png": "[encoded data removed]",
      "text/html": [
       "<div>                            <div id=\"7e5e897c-6bf3-4c56-989d-6de37e9af00e\" class=\"plotly-graph-div\" style=\"height:525px; width:100%;\"></div>            <script type=\"text/javascript\">                require([\"plotly\"], function(Plotly) {                    window.PLOTLYENV=window.PLOTLYENV || {};                                    if (document.getElementById(\"7e5e897c-6bf3-4c56-989d-6de37e9af00e\")) {                    Plotly.newPlot(                        \"7e5e897c-6bf3-4c56-989d-6de37e9af00e\",                        [{\"alignmentgroup\":\"True\",\"hovertemplate\":\"in_CA=%{x}<br>Percentage_drivers_inCA=%{text}<extra></extra>\",\"legendgroup\":\"\",\"marker\":{\"color\":\"#636efa\",\"pattern\":{\"shape\":\"\"}},\"name\":\"\",\"offsetgroup\":\"\",\"orientation\":\"v\",\"showlegend\":false,\"text\":[10.0,90.0],\"textposition\":\"auto\",\"x\":[\"No\",\"Yes\"],\"xaxis\":\"x\",\"y\":[10.0,90.0],\"yaxis\":\"y\",\"type\":\"bar\"}],                        {\"template\":{\"data\":{\"bar\":[{\"error_x\":{\"color\":\"#2a3f5f\"},\"error_y\":{\"color\":\"#2a3f5f\"},\"marker\":{\"line\":{\"color\":\"#E5ECF6\",\"width\":0.5},\"pattern\":{\"fillmode\":\"overlay\",\"size\":10,\"solidity\":0.2}},\"type\":\"bar\"}],\"barpolar\":[{\"marker\":{\"line\":{\"color\":\"#E5ECF6\",\"width\":0.5},\"pattern\":{\"fillmode\":\"overlay\",\"size\":10,\"solidity\":0.2}},\"type\":\"barpolar\"}],\"carpet\":[{\"aaxis\":{\"endlinecolor\":\"#2a3f5f\",\"gridcolor\":\"white\",\"linecolor\":\"white\",\"minorgridcolor\":\"white\",\"startlinecolor\":\"#2a3f5f\"},\"baxis\":{\"endlinecolor\":\"#2a3f5f\",\"gridcolor\":\"white\",\"linecolor\":\"white\",\"minorgridcolor\":\"white\",\"startlinecolor\":\"#2a3f5f\"},\"type\":\"carpet\"}],\"choropleth\":[{\"colorbar\":{\"outlinewidth\":0,\"ticks\":\"\"},\"type\":\"choropleth\"}],\"contour\":[{\"colorbar\":{\"outlinewidth\":0,\"ticks\":\"\"},\"colorscale\":[[0.0,\"#0d0887\"],[0.1111111111111111,\"#46039f\"],[0.2222222222222222,\"#7201a8\"],[0.3333333333333333,\"#9c179e\"],[0.4444444444444444,\"#bd3786\"],[0.5555555555555556,\"#d8576b\"],[0.6666666666666666,\"#ed7953\"],[0.7777777777777778,\"#fb9f3a\"],[0.8888888888888888,\"#fdca26\"],[1.0,\"#f0f921\"]],\"type\":\"contour\"}],\"contourcarpet\":[{\"colorbar\":{\"outlinewidth\":0,\"ticks\":\"\"},\"type\":\"contourcarpet\"}],\"heatmap\":[{\"colorbar\":{\"outlinewidth\":0,\"ticks\":\"\"},\"colorscale\":[[0.0,\"#0d0887\"],[0.1111111111111111,\"#46039f\"],[0.2222222222222222,\"#7201a8\"],[0.3333333333333333,\"#9c179e\"],[0.4444444444444444,\"#bd3786\"],[0.5555555555555556,\"#d8576b\"],[0.6666666666666666,\"#ed7953\"],[0.7777777777777778,\"#fb9f3a\"],[0.8888888888888888,\"#fdca26\"],[1.0,\"#f0f921\"]],\"type\":\"heatmap\"}],\"heatmapgl\":[{\"colorbar\":{\"outlinewidth\":0,\"ticks\":\"\"},\"colorscale\":[[0.0,\"#0d0887\"],[0.1111111111111111,\"#46039f\"],[0.2222222222222222,\"#7201a8\"],[0.3333333333333333,\"#9c179e\"],[0.4444444444444444,\"#bd3786\"],[0.5555555555555556,\"#d8576b\"],[0.6666666666666666,\"#ed7953\"],[0.7777777777777778,\"#fb9f3a\"],[0.8888888888888888,\"#fdca26\"],[1.0,\"#f0f921\"]],\"type\":\"heatmapgl\"}],\"histogram\":[{\"marker\":{\"pattern\":{\"fillmode\":\"overlay\",\"size\":10,\"solidity\":0.2}},\"type\":\"histogram\"}],\"histogram2d\":[{\"colorbar\":{\"outlinewidth\":0,\"ticks\":\"\"},\"colorscale\":[[0.0,\"#0d0887\"],[0.1111111111111111,\"#46039f\"],[0.2222222222222222,\"#7201a8\"],[0.3333333333333333,\"#9c179e\"],[0.4444444444444444,\"#bd3786\"],[0.5555555555555556,\"#d8576b\"],[0.6666666666666666,\"#ed7953\"],[0.7777777777777778,\"#fb9f3a\"],[0.8888888888888888,\"#fdca26\"],[1.0,\"#f0f921\"]],\"type\":\"histogram2d\"}],\"histogram2dcontour\":[{\"colorbar\":{\"outlinewidth\":0,\"ticks\":\"\"},\"colorscale\":[[0.0,\"#0d0887\"],[0.1111111111111111,\"#46039f\"],[0.2222222222222222,\"#7201a8\"],[0.3333333333333333,\"#9c179e\"],[0.4444444444444444,\"#bd3786\"],[0.5555555555555556,\"#d8576b\"],[0.6666666666666666,\"#ed7953\"],[0.7777777777777778,\"#fb9f3a\"],[0.8888888888888888,\"#fdca26\"],[1.0,\"#f0f921\"]],\"type\":\"histogram2dcontour\"}],\"mesh3d\":[{\"colorbar\":{\"outlinewidth\":0,\"ticks\":\"\"},\"type\":\"mesh3d\"}],\"parcoords\":[{\"line\":{\"colorbar\":{\"outlinewidth\":0,\"ticks\":\"\"}},\"type\":\"parcoords\"}],\"pie\":[{\"automargin\":true,\"type\":\"pie\"}],\"scatter\":[{\"marker\":{\"colorbar\":{\"outlinewidth\":0,\"ticks\":\"\"}},\"type\":\"scatter\"}],\"scatter3d\":[{\"line\":{\"colorbar\":{\"outlinewidth\":0,\"ticks\":\"\"}},\"marker\":{\"colorbar\":{\"outlinewidth\":0,\"ticks\":\"\"}},\"type\":\"scatter3d\"}],\"scattercarpet\":[{\"marker\":{\"colorbar\":{\"outlinewidth\":0,\"ticks\":\"\"}},\"type\":\"scattercarpet\"}],\"scattergeo\":[{\"marker\":{\"colorbar\":{\"outlinewidth\":0,\"ticks\":\"\"}},\"type\":\"scattergeo\"}],\"scattergl\":[{\"marker\":{\"colorbar\":{\"outlinewidth\":0,\"ticks\":\"\"}},\"type\":\"scattergl\"}],\"scattermapbox\":[{\"marker\":{\"colorbar\":{\"outlinewidth\":0,\"ticks\":\"\"}},\"type\":\"scattermapbox\"}],\"scatterpolar\":[{\"marker\":{\"colorbar\":{\"outlinewidth\":0,\"ticks\":\"\"}},\"type\":\"scatterpolar\"}],\"scatterpolargl\":[{\"marker\":{\"colorbar\":{\"outlinewidth\":0,\"ticks\":\"\"}},\"type\":\"scatterpolargl\"}],\"scatterternary\":[{\"marker\":{\"colorbar\":{\"outlinewidth\":0,\"ticks\":\"\"}},\"type\":\"scatterternary\"}],\"surface\":[{\"colorbar\":{\"outlinewidth\":0,\"ticks\":\"\"},\"colorscale\":[[0.0,\"#0d0887\"],[0.1111111111111111,\"#46039f\"],[0.2222222222222222,\"#7201a8\"],[0.3333333333333333,\"#9c179e\"],[0.4444444444444444,\"#bd3786\"],[0.5555555555555556,\"#d8576b\"],[0.6666666666666666,\"#ed7953\"],[0.7777777777777778,\"#fb9f3a\"],[0.8888888888888888,\"#fdca26\"],[1.0,\"#f0f921\"]],\"type\":\"surface\"}],\"table\":[{\"cells\":{\"fill\":{\"color\":\"#EBF0F8\"},\"line\":{\"color\":\"white\"}},\"header\":{\"fill\":{\"color\":\"#C8D4E3\"},\"line\":{\"color\":\"white\"}},\"type\":\"table\"}]},\"layout\":{\"annotationdefaults\":{\"arrowcolor\":\"#2a3f5f\",\"arrowhead\":0,\"arrowwidth\":1},\"autotypenumbers\":\"strict\",\"coloraxis\":{\"colorbar\":{\"outlinewidth\":0,\"ticks\":\"\"}},\"colorscale\":{\"diverging\":[[0,\"#8e0152\"],[0.1,\"#c51b7d\"],[0.2,\"#de77ae\"],[0.3,\"#f1b6da\"],[0.4,\"#fde0ef\"],[0.5,\"#f7f7f7\"],[0.6,\"#e6f5d0\"],[0.7,\"#b8e186\"],[0.8,\"#7fbc41\"],[0.9,\"#4d9221\"],[1,\"#276419\"]],\"sequential\":[[0.0,\"#0d0887\"],[0.1111111111111111,\"#46039f\"],[0.2222222222222222,\"#7201a8\"],[0.3333333333333333,\"#9c179e\"],[0.4444444444444444,\"#bd3786\"],[0.5555555555555556,\"#d8576b\"],[0.6666666666666666,\"#ed7953\"],[0.7777777777777778,\"#fb9f3a\"],[0.8888888888888888,\"#fdca26\"],[1.0,\"#f0f921\"]],\"sequentialminus\":[[0.0,\"#0d0887\"],[0.1111111111111111,\"#46039f\"],[0.2222222222222222,\"#7201a8\"],[0.3333333333333333,\"#9c179e\"],[0.4444444444444444,\"#bd3786\"],[0.5555555555555556,\"#d8576b\"],[0.6666666666666666,\"#ed7953\"],[0.7777777777777778,\"#fb9f3a\"],[0.8888888888888888,\"#fdca26\"],[1.0,\"#f0f921\"]]},\"colorway\":[\"#636efa\",\"#EF553B\",\"#00cc96\",\"#ab63fa\",\"#FFA15A\",\"#19d3f3\",\"#FF6692\",\"#B6E880\",\"#FF97FF\",\"#FECB52\"],\"font\":{\"color\":\"#2a3f5f\"},\"geo\":{\"bgcolor\":\"white\",\"lakecolor\":\"white\",\"landcolor\":\"#E5ECF6\",\"showlakes\":true,\"showland\":true,\"subunitcolor\":\"white\"},\"hoverlabel\":{\"align\":\"left\"},\"hovermode\":\"closest\",\"mapbox\":{\"style\":\"light\"},\"paper_bgcolor\":\"white\",\"plot_bgcolor\":\"#E5ECF6\",\"polar\":{\"angularaxis\":{\"gridcolor\":\"white\",\"linecolor\":\"white\",\"ticks\":\"\"},\"bgcolor\":\"#E5ECF6\",\"radialaxis\":{\"gridcolor\":\"white\",\"linecolor\":\"white\",\"ticks\":\"\"}},\"scene\":{\"xaxis\":{\"backgroundcolor\":\"#E5ECF6\",\"gridcolor\":\"white\",\"gridwidth\":2,\"linecolor\":\"white\",\"showbackground\":true,\"ticks\":\"\",\"zerolinecolor\":\"white\"},\"yaxis\":{\"backgroundcolor\":\"#E5ECF6\",\"gridcolor\":\"white\",\"gridwidth\":2,\"linecolor\":\"white\",\"showbackground\":true,\"ticks\":\"\",\"zerolinecolor\":\"white\"},\"zaxis\":{\"backgroundcolor\":\"#E5ECF6\",\"gridcolor\":\"white\",\"gridwidth\":2,\"linecolor\":\"white\",\"showbackground\":true,\"ticks\":\"\",\"zerolinecolor\":\"white\"}},\"shapedefaults\":{\"line\":{\"color\":\"#2a3f5f\"}},\"ternary\":{\"aaxis\":{\"gridcolor\":\"white\",\"linecolor\":\"white\",\"ticks\":\"\"},\"baxis\":{\"gridcolor\":\"white\",\"linecolor\":\"white\",\"ticks\":\"\"},\"bgcolor\":\"#E5ECF6\",\"caxis\":{\"gridcolor\":\"white\",\"linecolor\":\"white\",\"ticks\":\"\"}},\"title\":{\"x\":0.05},\"xaxis\":{\"automargin\":true,\"gridcolor\":\"white\",\"linecolor\":\"white\",\"ticks\":\"\",\"title\":{\"standoff\":15},\"zerolinecolor\":\"white\",\"zerolinewidth\":2},\"yaxis\":{\"automargin\":true,\"gridcolor\":\"white\",\"linecolor\":\"white\",\"ticks\":\"\",\"title\":{\"standoff\":15},\"zerolinecolor\":\"white\",\"zerolinewidth\":2}}},\"xaxis\":{\"anchor\":\"y\",\"domain\":[0.0,1.0],\"title\":{\"text\":\"in_CA\"}},\"yaxis\":{\"anchor\":\"x\",\"domain\":[0.0,1.0],\"title\":{\"text\":\"Percentage_drivers_inCA\"}},\"legend\":{\"tracegroupgap\":0},\"title\":{\"text\":\"Percentage of Couriers Within CA\"},\"barmode\":\"relative\"},                        {\"responsive\": true}                    ).then(function(){\n",
       "                            \n",
       "var gd = document.getElementById('7e5e897c-6bf3-4c56-989d-6de37e9af00e');\n",
       "var x = new MutationObserver(function (mutations, observer) {{\n",
       "        var display = window.getComputedStyle(gd).display;\n",
       "        if (!display || display === 'none') {{\n",
       "            console.log([gd, 'removed!']);\n",
       "            Plotly.purge(gd);\n",
       "            observer.disconnect();\n",
       "        }}\n",
       "}});\n",
       "\n",
       "// Listen for the removal of the full notebook cells\n",
       "var notebookContainer = gd.closest('#notebook-container');\n",
       "if (notebookContainer) {{\n",
       "    x.observe(notebookContainer, {childList: true});\n",
       "}}\n",
       "\n",
       "// Listen for the clearing of the current output cell\n",
       "var outputEl = gd.closest('.output');\n",
       "if (outputEl) {{\n",
       "    x.observe(outputEl, {childList: true});\n",
       "}}\n",
       "\n",
       "                        })                };                });            </script>        </div>"
      ]
     },
     "metadata": {},
     "output_type": "display_data"
    }
   ],
   "source": [
    "fig1 = px.bar(in_CA, x = 'in_CA' , y = 'Percentage_drivers_inCA', title= 'Percentage of Couriers Within CA', text = 'Percentage_drivers_inCA')\n",
    "fig1.show()\n"
   ]
  },
  {
   "cell_type": "code",
   "execution_count": 180,
   "metadata": {},
   "outputs": [
    {
     "data": {
      "text/html": [
       "<div>\n",
       "<style scoped>\n",
       "    .dataframe tbody tr th:only-of-type {\n",
       "        vertical-align: middle;\n",
       "    }\n",
       "\n",
       "    .dataframe tbody tr th {\n",
       "        vertical-align: top;\n",
       "    }\n",
       "\n",
       "    .dataframe thead th {\n",
       "        text-align: right;\n",
       "    }\n",
       "</style>\n",
       "<table border=\"1\" class=\"dataframe\">\n",
       "  <thead>\n",
       "    <tr style=\"text-align: right;\">\n",
       "      <th></th>\n",
       "      <th>catchment_area</th>\n",
       "      <th>driver_id</th>\n",
       "    </tr>\n",
       "  </thead>\n",
       "  <tbody>\n",
       "    <tr>\n",
       "      <th>0</th>\n",
       "      <td>Altrincham</td>\n",
       "      <td>1</td>\n",
       "    </tr>\n",
       "    <tr>\n",
       "      <th>1</th>\n",
       "      <td>Basildon</td>\n",
       "      <td>5</td>\n",
       "    </tr>\n",
       "    <tr>\n",
       "      <th>2</th>\n",
       "      <td>Bath</td>\n",
       "      <td>1</td>\n",
       "    </tr>\n",
       "    <tr>\n",
       "      <th>3</th>\n",
       "      <td>Birmingham Central</td>\n",
       "      <td>4</td>\n",
       "    </tr>\n",
       "    <tr>\n",
       "      <th>4</th>\n",
       "      <td>Birmingham East</td>\n",
       "      <td>1</td>\n",
       "    </tr>\n",
       "  </tbody>\n",
       "</table>\n",
       "</div>"
      ],
      "text/plain": [
       "       catchment_area  driver_id\n",
       "0          Altrincham          1\n",
       "1            Basildon          5\n",
       "2                Bath          1\n",
       "3  Birmingham Central          4\n",
       "4     Birmingham East          1"
      ]
     },
     "execution_count": 180,
     "metadata": {},
     "output_type": "execute_result"
    }
   ],
   "source": [
    "# Top 5 CA with highest number of resident couriers\n",
    "top_5_CA = courier_mapping.groupby('catchment_area').agg({'driver_id':'count'}).reset_index()\n",
    "top_5_CA.head(5)"
   ]
  },
  {
   "cell_type": "code",
   "execution_count": 181,
   "metadata": {},
   "outputs": [
    {
     "data": {
      "text/html": [
       "<div>\n",
       "<style scoped>\n",
       "    .dataframe tbody tr th:only-of-type {\n",
       "        vertical-align: middle;\n",
       "    }\n",
       "\n",
       "    .dataframe tbody tr th {\n",
       "        vertical-align: top;\n",
       "    }\n",
       "\n",
       "    .dataframe thead th {\n",
       "        text-align: right;\n",
       "    }\n",
       "</style>\n",
       "<table border=\"1\" class=\"dataframe\">\n",
       "  <thead>\n",
       "    <tr style=\"text-align: right;\">\n",
       "      <th></th>\n",
       "      <th>catchment_area</th>\n",
       "      <th>driver_id</th>\n",
       "    </tr>\n",
       "  </thead>\n",
       "  <tbody>\n",
       "    <tr>\n",
       "      <th>39</th>\n",
       "      <td>London Outer NE</td>\n",
       "      <td>1104</td>\n",
       "    </tr>\n",
       "    <tr>\n",
       "      <th>38</th>\n",
       "      <td>London Outer N</td>\n",
       "      <td>1009</td>\n",
       "    </tr>\n",
       "    <tr>\n",
       "      <th>43</th>\n",
       "      <td>London Outer Upper NW</td>\n",
       "      <td>895</td>\n",
       "    </tr>\n",
       "    <tr>\n",
       "      <th>33</th>\n",
       "      <td>London Inner S</td>\n",
       "      <td>853</td>\n",
       "    </tr>\n",
       "    <tr>\n",
       "      <th>32</th>\n",
       "      <td>London Inner N</td>\n",
       "      <td>659</td>\n",
       "    </tr>\n",
       "  </tbody>\n",
       "</table>\n",
       "</div>"
      ],
      "text/plain": [
       "           catchment_area  driver_id\n",
       "39        London Outer NE       1104\n",
       "38         London Outer N       1009\n",
       "43  London Outer Upper NW        895\n",
       "33         London Inner S        853\n",
       "32         London Inner N        659"
      ]
     },
     "execution_count": 181,
     "metadata": {},
     "output_type": "execute_result"
    }
   ],
   "source": [
    "# Sorting values in descending order\n",
    "top_5_CA = top_5_CA.sort_values(by='driver_id', ascending=False)\n",
    "top_5_CA.head(5)"
   ]
  },
  {
   "cell_type": "code",
   "execution_count": 182,
   "metadata": {},
   "outputs": [
    {
     "data": {
      "application/vnd.plotly.v1+json": {
       "config": {
        "plotlyServerURL": "https://plot.ly"
       },
       "data": [
        {
         "alignmentgroup": "True",
         "hovertemplate": "catchment_area=%{x}<br>driver_id=%{text}<extra></extra>",
         "legendgroup": "",
         "marker": {
          "color": "#636efa",
          "pattern": {
           "shape": ""
          }
         },
         "name": "",
         "offsetgroup": "",
         "orientation": "v",
         "showlegend": false,
         "text": [
          1104,
          1009,
          895,
          853,
          659,
          638
         ],
         "textposition": "auto",
         "type": "bar",
         "x": [
          "London Outer NE",
          "London Outer N",
          "London Outer Upper NW",
          "London Inner S",
          "London Inner N",
          "London Outer S"
         ],
         "xaxis": "x",
         "y": [
          1104,
          1009,
          895,
          853,
          659,
          638
         ],
         "yaxis": "y"
        }
       ],
       "layout": {
        "autosize": true,
        "barmode": "relative",
        "legend": {
         "tracegroupgap": 0
        },
        "template": {
         "data": {
          "bar": [
           {
            "error_x": {
             "color": "#2a3f5f"
            },
            "error_y": {
             "color": "#2a3f5f"
            },
            "marker": {
             "line": {
              "color": "#E5ECF6",
              "width": 0.5
             },
             "pattern": {
              "fillmode": "overlay",
              "size": 10,
              "solidity": 0.2
             }
            },
            "type": "bar"
           }
          ],
          "barpolar": [
           {
            "marker": {
             "line": {
              "color": "#E5ECF6",
              "width": 0.5
             },
             "pattern": {
              "fillmode": "overlay",
              "size": 10,
              "solidity": 0.2
             }
            },
            "type": "barpolar"
           }
          ],
          "carpet": [
           {
            "aaxis": {
             "endlinecolor": "#2a3f5f",
             "gridcolor": "white",
             "linecolor": "white",
             "minorgridcolor": "white",
             "startlinecolor": "#2a3f5f"
            },
            "baxis": {
             "endlinecolor": "#2a3f5f",
             "gridcolor": "white",
             "linecolor": "white",
             "minorgridcolor": "white",
             "startlinecolor": "#2a3f5f"
            },
            "type": "carpet"
           }
          ],
          "choropleth": [
           {
            "colorbar": {
             "outlinewidth": 0,
             "ticks": ""
            },
            "type": "choropleth"
           }
          ],
          "contour": [
           {
            "colorbar": {
             "outlinewidth": 0,
             "ticks": ""
            },
            "colorscale": [
             [
              0,
              "#0d0887"
             ],
             [
              0.1111111111111111,
              "#46039f"
             ],
             [
              0.2222222222222222,
              "#7201a8"
             ],
             [
              0.3333333333333333,
              "#9c179e"
             ],
             [
              0.4444444444444444,
              "#bd3786"
             ],
             [
              0.5555555555555556,
              "#d8576b"
             ],
             [
              0.6666666666666666,
              "#ed7953"
             ],
             [
              0.7777777777777778,
              "#fb9f3a"
             ],
             [
              0.8888888888888888,
              "#fdca26"
             ],
             [
              1,
              "#f0f921"
             ]
            ],
            "type": "contour"
           }
          ],
          "contourcarpet": [
           {
            "colorbar": {
             "outlinewidth": 0,
             "ticks": ""
            },
            "type": "contourcarpet"
           }
          ],
          "heatmap": [
           {
            "colorbar": {
             "outlinewidth": 0,
             "ticks": ""
            },
            "colorscale": [
             [
              0,
              "#0d0887"
             ],
             [
              0.1111111111111111,
              "#46039f"
             ],
             [
              0.2222222222222222,
              "#7201a8"
             ],
             [
              0.3333333333333333,
              "#9c179e"
             ],
             [
              0.4444444444444444,
              "#bd3786"
             ],
             [
              0.5555555555555556,
              "#d8576b"
             ],
             [
              0.6666666666666666,
              "#ed7953"
             ],
             [
              0.7777777777777778,
              "#fb9f3a"
             ],
             [
              0.8888888888888888,
              "#fdca26"
             ],
             [
              1,
              "#f0f921"
             ]
            ],
            "type": "heatmap"
           }
          ],
          "heatmapgl": [
           {
            "colorbar": {
             "outlinewidth": 0,
             "ticks": ""
            },
            "colorscale": [
             [
              0,
              "#0d0887"
             ],
             [
              0.1111111111111111,
              "#46039f"
             ],
             [
              0.2222222222222222,
              "#7201a8"
             ],
             [
              0.3333333333333333,
              "#9c179e"
             ],
             [
              0.4444444444444444,
              "#bd3786"
             ],
             [
              0.5555555555555556,
              "#d8576b"
             ],
             [
              0.6666666666666666,
              "#ed7953"
             ],
             [
              0.7777777777777778,
              "#fb9f3a"
             ],
             [
              0.8888888888888888,
              "#fdca26"
             ],
             [
              1,
              "#f0f921"
             ]
            ],
            "type": "heatmapgl"
           }
          ],
          "histogram": [
           {
            "marker": {
             "pattern": {
              "fillmode": "overlay",
              "size": 10,
              "solidity": 0.2
             }
            },
            "type": "histogram"
           }
          ],
          "histogram2d": [
           {
            "colorbar": {
             "outlinewidth": 0,
             "ticks": ""
            },
            "colorscale": [
             [
              0,
              "#0d0887"
             ],
             [
              0.1111111111111111,
              "#46039f"
             ],
             [
              0.2222222222222222,
              "#7201a8"
             ],
             [
              0.3333333333333333,
              "#9c179e"
             ],
             [
              0.4444444444444444,
              "#bd3786"
             ],
             [
              0.5555555555555556,
              "#d8576b"
             ],
             [
              0.6666666666666666,
              "#ed7953"
             ],
             [
              0.7777777777777778,
              "#fb9f3a"
             ],
             [
              0.8888888888888888,
              "#fdca26"
             ],
             [
              1,
              "#f0f921"
             ]
            ],
            "type": "histogram2d"
           }
          ],
          "histogram2dcontour": [
           {
            "colorbar": {
             "outlinewidth": 0,
             "ticks": ""
            },
            "colorscale": [
             [
              0,
              "#0d0887"
             ],
             [
              0.1111111111111111,
              "#46039f"
             ],
             [
              0.2222222222222222,
              "#7201a8"
             ],
             [
              0.3333333333333333,
              "#9c179e"
             ],
             [
              0.4444444444444444,
              "#bd3786"
             ],
             [
              0.5555555555555556,
              "#d8576b"
             ],
             [
              0.6666666666666666,
              "#ed7953"
             ],
             [
              0.7777777777777778,
              "#fb9f3a"
             ],
             [
              0.8888888888888888,
              "#fdca26"
             ],
             [
              1,
              "#f0f921"
             ]
            ],
            "type": "histogram2dcontour"
           }
          ],
          "mesh3d": [
           {
            "colorbar": {
             "outlinewidth": 0,
             "ticks": ""
            },
            "type": "mesh3d"
           }
          ],
          "parcoords": [
           {
            "line": {
             "colorbar": {
              "outlinewidth": 0,
              "ticks": ""
             }
            },
            "type": "parcoords"
           }
          ],
          "pie": [
           {
            "automargin": true,
            "type": "pie"
           }
          ],
          "scatter": [
           {
            "marker": {
             "colorbar": {
              "outlinewidth": 0,
              "ticks": ""
             }
            },
            "type": "scatter"
           }
          ],
          "scatter3d": [
           {
            "line": {
             "colorbar": {
              "outlinewidth": 0,
              "ticks": ""
             }
            },
            "marker": {
             "colorbar": {
              "outlinewidth": 0,
              "ticks": ""
             }
            },
            "type": "scatter3d"
           }
          ],
          "scattercarpet": [
           {
            "marker": {
             "colorbar": {
              "outlinewidth": 0,
              "ticks": ""
             }
            },
            "type": "scattercarpet"
           }
          ],
          "scattergeo": [
           {
            "marker": {
             "colorbar": {
              "outlinewidth": 0,
              "ticks": ""
             }
            },
            "type": "scattergeo"
           }
          ],
          "scattergl": [
           {
            "marker": {
             "colorbar": {
              "outlinewidth": 0,
              "ticks": ""
             }
            },
            "type": "scattergl"
           }
          ],
          "scattermapbox": [
           {
            "marker": {
             "colorbar": {
              "outlinewidth": 0,
              "ticks": ""
             }
            },
            "type": "scattermapbox"
           }
          ],
          "scatterpolar": [
           {
            "marker": {
             "colorbar": {
              "outlinewidth": 0,
              "ticks": ""
             }
            },
            "type": "scatterpolar"
           }
          ],
          "scatterpolargl": [
           {
            "marker": {
             "colorbar": {
              "outlinewidth": 0,
              "ticks": ""
             }
            },
            "type": "scatterpolargl"
           }
          ],
          "scatterternary": [
           {
            "marker": {
             "colorbar": {
              "outlinewidth": 0,
              "ticks": ""
             }
            },
            "type": "scatterternary"
           }
          ],
          "surface": [
           {
            "colorbar": {
             "outlinewidth": 0,
             "ticks": ""
            },
            "colorscale": [
             [
              0,
              "#0d0887"
             ],
             [
              0.1111111111111111,
              "#46039f"
             ],
             [
              0.2222222222222222,
              "#7201a8"
             ],
             [
              0.3333333333333333,
              "#9c179e"
             ],
             [
              0.4444444444444444,
              "#bd3786"
             ],
             [
              0.5555555555555556,
              "#d8576b"
             ],
             [
              0.6666666666666666,
              "#ed7953"
             ],
             [
              0.7777777777777778,
              "#fb9f3a"
             ],
             [
              0.8888888888888888,
              "#fdca26"
             ],
             [
              1,
              "#f0f921"
             ]
            ],
            "type": "surface"
           }
          ],
          "table": [
           {
            "cells": {
             "fill": {
              "color": "#EBF0F8"
             },
             "line": {
              "color": "white"
             }
            },
            "header": {
             "fill": {
              "color": "#C8D4E3"
             },
             "line": {
              "color": "white"
             }
            },
            "type": "table"
           }
          ]
         },
         "layout": {
          "annotationdefaults": {
           "arrowcolor": "#2a3f5f",
           "arrowhead": 0,
           "arrowwidth": 1
          },
          "autotypenumbers": "strict",
          "coloraxis": {
           "colorbar": {
            "outlinewidth": 0,
            "ticks": ""
           }
          },
          "colorscale": {
           "diverging": [
            [
             0,
             "#8e0152"
            ],
            [
             0.1,
             "#c51b7d"
            ],
            [
             0.2,
             "#de77ae"
            ],
            [
             0.3,
             "#f1b6da"
            ],
            [
             0.4,
             "#fde0ef"
            ],
            [
             0.5,
             "#f7f7f7"
            ],
            [
             0.6,
             "#e6f5d0"
            ],
            [
             0.7,
             "#b8e186"
            ],
            [
             0.8,
             "#7fbc41"
            ],
            [
             0.9,
             "#4d9221"
            ],
            [
             1,
             "#276419"
            ]
           ],
           "sequential": [
            [
             0,
             "#0d0887"
            ],
            [
             0.1111111111111111,
             "#46039f"
            ],
            [
             0.2222222222222222,
             "#7201a8"
            ],
            [
             0.3333333333333333,
             "#9c179e"
            ],
            [
             0.4444444444444444,
             "#bd3786"
            ],
            [
             0.5555555555555556,
             "#d8576b"
            ],
            [
             0.6666666666666666,
             "#ed7953"
            ],
            [
             0.7777777777777778,
             "#fb9f3a"
            ],
            [
             0.8888888888888888,
             "#fdca26"
            ],
            [
             1,
             "#f0f921"
            ]
           ],
           "sequentialminus": [
            [
             0,
             "#0d0887"
            ],
            [
             0.1111111111111111,
             "#46039f"
            ],
            [
             0.2222222222222222,
             "#7201a8"
            ],
            [
             0.3333333333333333,
             "#9c179e"
            ],
            [
             0.4444444444444444,
             "#bd3786"
            ],
            [
             0.5555555555555556,
             "#d8576b"
            ],
            [
             0.6666666666666666,
             "#ed7953"
            ],
            [
             0.7777777777777778,
             "#fb9f3a"
            ],
            [
             0.8888888888888888,
             "#fdca26"
            ],
            [
             1,
             "#f0f921"
            ]
           ]
          },
          "colorway": [
           "#636efa",
           "#EF553B",
           "#00cc96",
           "#ab63fa",
           "#FFA15A",
           "#19d3f3",
           "#FF6692",
           "#B6E880",
           "#FF97FF",
           "#FECB52"
          ],
          "font": {
           "color": "#2a3f5f"
          },
          "geo": {
           "bgcolor": "white",
           "lakecolor": "white",
           "landcolor": "#E5ECF6",
           "showlakes": true,
           "showland": true,
           "subunitcolor": "white"
          },
          "hoverlabel": {
           "align": "left"
          },
          "hovermode": "closest",
          "mapbox": {
           "style": "light"
          },
          "paper_bgcolor": "white",
          "plot_bgcolor": "#E5ECF6",
          "polar": {
           "angularaxis": {
            "gridcolor": "white",
            "linecolor": "white",
            "ticks": ""
           },
           "bgcolor": "#E5ECF6",
           "radialaxis": {
            "gridcolor": "white",
            "linecolor": "white",
            "ticks": ""
           }
          },
          "scene": {
           "xaxis": {
            "backgroundcolor": "#E5ECF6",
            "gridcolor": "white",
            "gridwidth": 2,
            "linecolor": "white",
            "showbackground": true,
            "ticks": "",
            "zerolinecolor": "white"
           },
           "yaxis": {
            "backgroundcolor": "#E5ECF6",
            "gridcolor": "white",
            "gridwidth": 2,
            "linecolor": "white",
            "showbackground": true,
            "ticks": "",
            "zerolinecolor": "white"
           },
           "zaxis": {
            "backgroundcolor": "#E5ECF6",
            "gridcolor": "white",
            "gridwidth": 2,
            "linecolor": "white",
            "showbackground": true,
            "ticks": "",
            "zerolinecolor": "white"
           }
          },
          "shapedefaults": {
           "line": {
            "color": "#2a3f5f"
           }
          },
          "ternary": {
           "aaxis": {
            "gridcolor": "white",
            "linecolor": "white",
            "ticks": ""
           },
           "baxis": {
            "gridcolor": "white",
            "linecolor": "white",
            "ticks": ""
           },
           "bgcolor": "#E5ECF6",
           "caxis": {
            "gridcolor": "white",
            "linecolor": "white",
            "ticks": ""
           }
          },
          "title": {
           "x": 0.05
          },
          "xaxis": {
           "automargin": true,
           "gridcolor": "white",
           "linecolor": "white",
           "ticks": "",
           "title": {
            "standoff": 15
           },
           "zerolinecolor": "white",
           "zerolinewidth": 2
          },
          "yaxis": {
           "automargin": true,
           "gridcolor": "white",
           "linecolor": "white",
           "ticks": "",
           "title": {
            "standoff": 15
           },
           "zerolinecolor": "white",
           "zerolinewidth": 2
          }
         }
        },
        "title": {
         "text": "Top Six CA Couriers Live In"
        },
        "xaxis": {
         "anchor": "y",
         "autorange": true,
         "domain": [
          0,
          1
         ],
         "range": [
          -0.5,
          5.5
         ],
         "title": {
          "text": "catchment_area"
         },
         "type": "category"
        },
        "yaxis": {
         "anchor": "x",
         "autorange": true,
         "domain": [
          0,
          1
         ],
         "range": [
          0,
          1162.1052631578948
         ],
         "title": {
          "text": "driver_id"
         },
         "type": "linear"
        }
       }
      },
      "image/png": "[encoded data removed]",
      "text/html": [
       "<div>                            <div id=\"d4c26d81-d6ed-463c-b203-b0d3532a2e87\" class=\"plotly-graph-div\" style=\"height:525px; width:100%;\"></div>            <script type=\"text/javascript\">                require([\"plotly\"], function(Plotly) {                    window.PLOTLYENV=window.PLOTLYENV || {};                                    if (document.getElementById(\"d4c26d81-d6ed-463c-b203-b0d3532a2e87\")) {                    Plotly.newPlot(                        \"d4c26d81-d6ed-463c-b203-b0d3532a2e87\",                        [{\"alignmentgroup\":\"True\",\"hovertemplate\":\"catchment_area=%{x}<br>driver_id=%{text}<extra></extra>\",\"legendgroup\":\"\",\"marker\":{\"color\":\"#636efa\",\"pattern\":{\"shape\":\"\"}},\"name\":\"\",\"offsetgroup\":\"\",\"orientation\":\"v\",\"showlegend\":false,\"text\":[1104.0,1009.0,895.0,853.0,659.0,638.0],\"textposition\":\"auto\",\"x\":[\"London Outer NE\",\"London Outer N\",\"London Outer Upper NW\",\"London Inner S\",\"London Inner N\",\"London Outer S\"],\"xaxis\":\"x\",\"y\":[1104,1009,895,853,659,638],\"yaxis\":\"y\",\"type\":\"bar\"}],                        {\"template\":{\"data\":{\"bar\":[{\"error_x\":{\"color\":\"#2a3f5f\"},\"error_y\":{\"color\":\"#2a3f5f\"},\"marker\":{\"line\":{\"color\":\"#E5ECF6\",\"width\":0.5},\"pattern\":{\"fillmode\":\"overlay\",\"size\":10,\"solidity\":0.2}},\"type\":\"bar\"}],\"barpolar\":[{\"marker\":{\"line\":{\"color\":\"#E5ECF6\",\"width\":0.5},\"pattern\":{\"fillmode\":\"overlay\",\"size\":10,\"solidity\":0.2}},\"type\":\"barpolar\"}],\"carpet\":[{\"aaxis\":{\"endlinecolor\":\"#2a3f5f\",\"gridcolor\":\"white\",\"linecolor\":\"white\",\"minorgridcolor\":\"white\",\"startlinecolor\":\"#2a3f5f\"},\"baxis\":{\"endlinecolor\":\"#2a3f5f\",\"gridcolor\":\"white\",\"linecolor\":\"white\",\"minorgridcolor\":\"white\",\"startlinecolor\":\"#2a3f5f\"},\"type\":\"carpet\"}],\"choropleth\":[{\"colorbar\":{\"outlinewidth\":0,\"ticks\":\"\"},\"type\":\"choropleth\"}],\"contour\":[{\"colorbar\":{\"outlinewidth\":0,\"ticks\":\"\"},\"colorscale\":[[0.0,\"#0d0887\"],[0.1111111111111111,\"#46039f\"],[0.2222222222222222,\"#7201a8\"],[0.3333333333333333,\"#9c179e\"],[0.4444444444444444,\"#bd3786\"],[0.5555555555555556,\"#d8576b\"],[0.6666666666666666,\"#ed7953\"],[0.7777777777777778,\"#fb9f3a\"],[0.8888888888888888,\"#fdca26\"],[1.0,\"#f0f921\"]],\"type\":\"contour\"}],\"contourcarpet\":[{\"colorbar\":{\"outlinewidth\":0,\"ticks\":\"\"},\"type\":\"contourcarpet\"}],\"heatmap\":[{\"colorbar\":{\"outlinewidth\":0,\"ticks\":\"\"},\"colorscale\":[[0.0,\"#0d0887\"],[0.1111111111111111,\"#46039f\"],[0.2222222222222222,\"#7201a8\"],[0.3333333333333333,\"#9c179e\"],[0.4444444444444444,\"#bd3786\"],[0.5555555555555556,\"#d8576b\"],[0.6666666666666666,\"#ed7953\"],[0.7777777777777778,\"#fb9f3a\"],[0.8888888888888888,\"#fdca26\"],[1.0,\"#f0f921\"]],\"type\":\"heatmap\"}],\"heatmapgl\":[{\"colorbar\":{\"outlinewidth\":0,\"ticks\":\"\"},\"colorscale\":[[0.0,\"#0d0887\"],[0.1111111111111111,\"#46039f\"],[0.2222222222222222,\"#7201a8\"],[0.3333333333333333,\"#9c179e\"],[0.4444444444444444,\"#bd3786\"],[0.5555555555555556,\"#d8576b\"],[0.6666666666666666,\"#ed7953\"],[0.7777777777777778,\"#fb9f3a\"],[0.8888888888888888,\"#fdca26\"],[1.0,\"#f0f921\"]],\"type\":\"heatmapgl\"}],\"histogram\":[{\"marker\":{\"pattern\":{\"fillmode\":\"overlay\",\"size\":10,\"solidity\":0.2}},\"type\":\"histogram\"}],\"histogram2d\":[{\"colorbar\":{\"outlinewidth\":0,\"ticks\":\"\"},\"colorscale\":[[0.0,\"#0d0887\"],[0.1111111111111111,\"#46039f\"],[0.2222222222222222,\"#7201a8\"],[0.3333333333333333,\"#9c179e\"],[0.4444444444444444,\"#bd3786\"],[0.5555555555555556,\"#d8576b\"],[0.6666666666666666,\"#ed7953\"],[0.7777777777777778,\"#fb9f3a\"],[0.8888888888888888,\"#fdca26\"],[1.0,\"#f0f921\"]],\"type\":\"histogram2d\"}],\"histogram2dcontour\":[{\"colorbar\":{\"outlinewidth\":0,\"ticks\":\"\"},\"colorscale\":[[0.0,\"#0d0887\"],[0.1111111111111111,\"#46039f\"],[0.2222222222222222,\"#7201a8\"],[0.3333333333333333,\"#9c179e\"],[0.4444444444444444,\"#bd3786\"],[0.5555555555555556,\"#d8576b\"],[0.6666666666666666,\"#ed7953\"],[0.7777777777777778,\"#fb9f3a\"],[0.8888888888888888,\"#fdca26\"],[1.0,\"#f0f921\"]],\"type\":\"histogram2dcontour\"}],\"mesh3d\":[{\"colorbar\":{\"outlinewidth\":0,\"ticks\":\"\"},\"type\":\"mesh3d\"}],\"parcoords\":[{\"line\":{\"colorbar\":{\"outlinewidth\":0,\"ticks\":\"\"}},\"type\":\"parcoords\"}],\"pie\":[{\"automargin\":true,\"type\":\"pie\"}],\"scatter\":[{\"marker\":{\"colorbar\":{\"outlinewidth\":0,\"ticks\":\"\"}},\"type\":\"scatter\"}],\"scatter3d\":[{\"line\":{\"colorbar\":{\"outlinewidth\":0,\"ticks\":\"\"}},\"marker\":{\"colorbar\":{\"outlinewidth\":0,\"ticks\":\"\"}},\"type\":\"scatter3d\"}],\"scattercarpet\":[{\"marker\":{\"colorbar\":{\"outlinewidth\":0,\"ticks\":\"\"}},\"type\":\"scattercarpet\"}],\"scattergeo\":[{\"marker\":{\"colorbar\":{\"outlinewidth\":0,\"ticks\":\"\"}},\"type\":\"scattergeo\"}],\"scattergl\":[{\"marker\":{\"colorbar\":{\"outlinewidth\":0,\"ticks\":\"\"}},\"type\":\"scattergl\"}],\"scattermapbox\":[{\"marker\":{\"colorbar\":{\"outlinewidth\":0,\"ticks\":\"\"}},\"type\":\"scattermapbox\"}],\"scatterpolar\":[{\"marker\":{\"colorbar\":{\"outlinewidth\":0,\"ticks\":\"\"}},\"type\":\"scatterpolar\"}],\"scatterpolargl\":[{\"marker\":{\"colorbar\":{\"outlinewidth\":0,\"ticks\":\"\"}},\"type\":\"scatterpolargl\"}],\"scatterternary\":[{\"marker\":{\"colorbar\":{\"outlinewidth\":0,\"ticks\":\"\"}},\"type\":\"scatterternary\"}],\"surface\":[{\"colorbar\":{\"outlinewidth\":0,\"ticks\":\"\"},\"colorscale\":[[0.0,\"#0d0887\"],[0.1111111111111111,\"#46039f\"],[0.2222222222222222,\"#7201a8\"],[0.3333333333333333,\"#9c179e\"],[0.4444444444444444,\"#bd3786\"],[0.5555555555555556,\"#d8576b\"],[0.6666666666666666,\"#ed7953\"],[0.7777777777777778,\"#fb9f3a\"],[0.8888888888888888,\"#fdca26\"],[1.0,\"#f0f921\"]],\"type\":\"surface\"}],\"table\":[{\"cells\":{\"fill\":{\"color\":\"#EBF0F8\"},\"line\":{\"color\":\"white\"}},\"header\":{\"fill\":{\"color\":\"#C8D4E3\"},\"line\":{\"color\":\"white\"}},\"type\":\"table\"}]},\"layout\":{\"annotationdefaults\":{\"arrowcolor\":\"#2a3f5f\",\"arrowhead\":0,\"arrowwidth\":1},\"autotypenumbers\":\"strict\",\"coloraxis\":{\"colorbar\":{\"outlinewidth\":0,\"ticks\":\"\"}},\"colorscale\":{\"diverging\":[[0,\"#8e0152\"],[0.1,\"#c51b7d\"],[0.2,\"#de77ae\"],[0.3,\"#f1b6da\"],[0.4,\"#fde0ef\"],[0.5,\"#f7f7f7\"],[0.6,\"#e6f5d0\"],[0.7,\"#b8e186\"],[0.8,\"#7fbc41\"],[0.9,\"#4d9221\"],[1,\"#276419\"]],\"sequential\":[[0.0,\"#0d0887\"],[0.1111111111111111,\"#46039f\"],[0.2222222222222222,\"#7201a8\"],[0.3333333333333333,\"#9c179e\"],[0.4444444444444444,\"#bd3786\"],[0.5555555555555556,\"#d8576b\"],[0.6666666666666666,\"#ed7953\"],[0.7777777777777778,\"#fb9f3a\"],[0.8888888888888888,\"#fdca26\"],[1.0,\"#f0f921\"]],\"sequentialminus\":[[0.0,\"#0d0887\"],[0.1111111111111111,\"#46039f\"],[0.2222222222222222,\"#7201a8\"],[0.3333333333333333,\"#9c179e\"],[0.4444444444444444,\"#bd3786\"],[0.5555555555555556,\"#d8576b\"],[0.6666666666666666,\"#ed7953\"],[0.7777777777777778,\"#fb9f3a\"],[0.8888888888888888,\"#fdca26\"],[1.0,\"#f0f921\"]]},\"colorway\":[\"#636efa\",\"#EF553B\",\"#00cc96\",\"#ab63fa\",\"#FFA15A\",\"#19d3f3\",\"#FF6692\",\"#B6E880\",\"#FF97FF\",\"#FECB52\"],\"font\":{\"color\":\"#2a3f5f\"},\"geo\":{\"bgcolor\":\"white\",\"lakecolor\":\"white\",\"landcolor\":\"#E5ECF6\",\"showlakes\":true,\"showland\":true,\"subunitcolor\":\"white\"},\"hoverlabel\":{\"align\":\"left\"},\"hovermode\":\"closest\",\"mapbox\":{\"style\":\"light\"},\"paper_bgcolor\":\"white\",\"plot_bgcolor\":\"#E5ECF6\",\"polar\":{\"angularaxis\":{\"gridcolor\":\"white\",\"linecolor\":\"white\",\"ticks\":\"\"},\"bgcolor\":\"#E5ECF6\",\"radialaxis\":{\"gridcolor\":\"white\",\"linecolor\":\"white\",\"ticks\":\"\"}},\"scene\":{\"xaxis\":{\"backgroundcolor\":\"#E5ECF6\",\"gridcolor\":\"white\",\"gridwidth\":2,\"linecolor\":\"white\",\"showbackground\":true,\"ticks\":\"\",\"zerolinecolor\":\"white\"},\"yaxis\":{\"backgroundcolor\":\"#E5ECF6\",\"gridcolor\":\"white\",\"gridwidth\":2,\"linecolor\":\"white\",\"showbackground\":true,\"ticks\":\"\",\"zerolinecolor\":\"white\"},\"zaxis\":{\"backgroundcolor\":\"#E5ECF6\",\"gridcolor\":\"white\",\"gridwidth\":2,\"linecolor\":\"white\",\"showbackground\":true,\"ticks\":\"\",\"zerolinecolor\":\"white\"}},\"shapedefaults\":{\"line\":{\"color\":\"#2a3f5f\"}},\"ternary\":{\"aaxis\":{\"gridcolor\":\"white\",\"linecolor\":\"white\",\"ticks\":\"\"},\"baxis\":{\"gridcolor\":\"white\",\"linecolor\":\"white\",\"ticks\":\"\"},\"bgcolor\":\"#E5ECF6\",\"caxis\":{\"gridcolor\":\"white\",\"linecolor\":\"white\",\"ticks\":\"\"}},\"title\":{\"x\":0.05},\"xaxis\":{\"automargin\":true,\"gridcolor\":\"white\",\"linecolor\":\"white\",\"ticks\":\"\",\"title\":{\"standoff\":15},\"zerolinecolor\":\"white\",\"zerolinewidth\":2},\"yaxis\":{\"automargin\":true,\"gridcolor\":\"white\",\"linecolor\":\"white\",\"ticks\":\"\",\"title\":{\"standoff\":15},\"zerolinecolor\":\"white\",\"zerolinewidth\":2}}},\"xaxis\":{\"anchor\":\"y\",\"domain\":[0.0,1.0],\"title\":{\"text\":\"catchment_area\"}},\"yaxis\":{\"anchor\":\"x\",\"domain\":[0.0,1.0],\"title\":{\"text\":\"driver_id\"}},\"legend\":{\"tracegroupgap\":0},\"title\":{\"text\":\"Top Six CA Couriers Live In\"},\"barmode\":\"relative\"},                        {\"responsive\": true}                    ).then(function(){\n",
       "                            \n",
       "var gd = document.getElementById('d4c26d81-d6ed-463c-b203-b0d3532a2e87');\n",
       "var x = new MutationObserver(function (mutations, observer) {{\n",
       "        var display = window.getComputedStyle(gd).display;\n",
       "        if (!display || display === 'none') {{\n",
       "            console.log([gd, 'removed!']);\n",
       "            Plotly.purge(gd);\n",
       "            observer.disconnect();\n",
       "        }}\n",
       "}});\n",
       "\n",
       "// Listen for the removal of the full notebook cells\n",
       "var notebookContainer = gd.closest('#notebook-container');\n",
       "if (notebookContainer) {{\n",
       "    x.observe(notebookContainer, {childList: true});\n",
       "}}\n",
       "\n",
       "// Listen for the clearing of the current output cell\n",
       "var outputEl = gd.closest('.output');\n",
       "if (outputEl) {{\n",
       "    x.observe(outputEl, {childList: true});\n",
       "}}\n",
       "\n",
       "                        })                };                });            </script>        </div>"
      ]
     },
     "metadata": {},
     "output_type": "display_data"
    }
   ],
   "source": [
    "fig2 = px.bar(top_5_CA.head(6), x = 'catchment_area' , y = 'driver_id', title = 'Top Six CA Couriers Live In' , text = 'driver_id')\n",
    "fig2.show()"
   ]
  },
  {
   "cell_type": "markdown",
   "metadata": {},
   "source": [
    "# PC Mapping"
   ]
  },
  {
   "cell_type": "markdown",
   "metadata": {},
   "source": [
    "###  Database used:"
   ]
  },
  {
   "cell_type": "markdown",
   "metadata": {},
   "source": [
    "modeled_core.driver, \n",
    "modeled_core.delivery,\n",
    "modeled_core.zones,\n",
    "modeled_core.packages,\n",
    "modeled_core.location,\n",
    "ops.area,\n",
    "ops.uk_application_mapping"
   ]
  },
  {
   "cell_type": "code",
   "execution_count": 183,
   "metadata": {},
   "outputs": [
    {
     "name": "stdout",
     "output_type": "stream",
     "text": [
      "Connected to the DataWarehouse\n",
      "Result from query obtained\n",
      "Data stored in dataframe\n"
     ]
    }
   ],
   "source": [
    "query_2 = '''\n",
    "\n",
    "SELECT -------------------- Package\n",
    "       cd.driver_id,          -- stuart_driver_id\n",
    "    MIN(cd.valid_from_date) as earliest_date,\n",
    "       a.catchment_area as pu_CA,\n",
    "\n",
    "    ------------------  Driver\n",
    "       uam.postcode_found as driver_postCode,\n",
    "       ad.catchment_area as driver_CA,\n",
    "       count( distinct p.package_id) as no_packages,\n",
    "       uam.application_fountain_id\n",
    "\n",
    "FROM modeled_core.driver cd\n",
    "\n",
    "INNER JOIN modeled_core.zones z\n",
    "USING (zone_id)\n",
    "\n",
    "LEFT JOIN modeled_core.delivery d\n",
    "    ON cd.driver_id = d.driver_id\n",
    "\n",
    "LEFT JOIN modeled_core.package p\n",
    "    ON d.package_id = p.package_id\n",
    "\n",
    "LEFT JOIN modeled_core.location l\n",
    "    ON p.pu_location_id = l.location_id\n",
    "\n",
    "LEFT JOIN ops.area a\n",
    "    ON REPLACE(l.delivery_area_name , '_' , '') = a.area_name_cap -- pool area for packages\n",
    "\n",
    "LEFT JOIN ops.uk_application_mapping uam\n",
    "    ON uam.application_fountain_id = cd.applicant_fountain_id\n",
    "\n",
    "LEFT JOIN ops.area ad\n",
    "    ON uam.application_pool = ad.area_name_uscore   -- pool area for driver ca\n",
    "\n",
    "WHERE z.country_id = 2\n",
    "AND DATE(p.time_window_pu_start_utc) >= '2021-01-01'\n",
    "AND DATE(cd.onboarded_at_utc) >= '2021-01-01'\n",
    "\n",
    "GROUP BY 1, 3, 4, 5, 7\n",
    "\n",
    "'''\n",
    "\n",
    "deliveries = get_data_from_warehouse(query_2)"
   ]
  },
  {
   "cell_type": "code",
   "execution_count": 184,
   "metadata": {},
   "outputs": [
    {
     "data": {
      "text/plain": [
       "(61120, 7)"
      ]
     },
     "execution_count": 184,
     "metadata": {},
     "output_type": "execute_result"
    }
   ],
   "source": [
    "# Getting multiple rows per driver as they can work in different catchment areas\n",
    "deliveries.shape"
   ]
  },
  {
   "cell_type": "code",
   "execution_count": 185,
   "metadata": {},
   "outputs": [
    {
     "data": {
      "text/html": [
       "<div>\n",
       "<style scoped>\n",
       "    .dataframe tbody tr th:only-of-type {\n",
       "        vertical-align: middle;\n",
       "    }\n",
       "\n",
       "    .dataframe tbody tr th {\n",
       "        vertical-align: top;\n",
       "    }\n",
       "\n",
       "    .dataframe thead th {\n",
       "        text-align: right;\n",
       "    }\n",
       "</style>\n",
       "<table border=\"1\" class=\"dataframe\">\n",
       "  <thead>\n",
       "    <tr style=\"text-align: right;\">\n",
       "      <th></th>\n",
       "      <th>driver_id</th>\n",
       "      <th>earliest_date</th>\n",
       "      <th>pu_ca</th>\n",
       "      <th>driver_postcode</th>\n",
       "      <th>driver_ca</th>\n",
       "      <th>no_packages</th>\n",
       "      <th>application_fountain_id</th>\n",
       "    </tr>\n",
       "  </thead>\n",
       "  <tbody>\n",
       "    <tr>\n",
       "      <th>0</th>\n",
       "      <td>462324</td>\n",
       "      <td>2021-10-28</td>\n",
       "      <td>London Outer S</td>\n",
       "      <td>SE16 3XY</td>\n",
       "      <td>London Inner E</td>\n",
       "      <td>4</td>\n",
       "      <td>e3115500-e059-47a6-9480-2d2e1ddd2b4f</td>\n",
       "    </tr>\n",
       "    <tr>\n",
       "      <th>1</th>\n",
       "      <td>355681</td>\n",
       "      <td>2021-02-03</td>\n",
       "      <td>Liverpool Wirral</td>\n",
       "      <td>CH44 4DY</td>\n",
       "      <td>Liverpool Wirral</td>\n",
       "      <td>3013</td>\n",
       "      <td>ba42cf8b-90fe-424e-914e-d1398d9655a3</td>\n",
       "    </tr>\n",
       "    <tr>\n",
       "      <th>2</th>\n",
       "      <td>365751</td>\n",
       "      <td>2021-02-22</td>\n",
       "      <td>Leeds City</td>\n",
       "      <td>LS9 7QS</td>\n",
       "      <td>Leeds East</td>\n",
       "      <td>1924</td>\n",
       "      <td>d1debddd-61d2-4c2b-987b-9f4864573040</td>\n",
       "    </tr>\n",
       "    <tr>\n",
       "      <th>3</th>\n",
       "      <td>405653</td>\n",
       "      <td>2021-05-26</td>\n",
       "      <td>London Outer N</td>\n",
       "      <td>N4 1LF</td>\n",
       "      <td>London Outer N</td>\n",
       "      <td>4059</td>\n",
       "      <td>f5f87ad8-f66c-4e43-b184-32df59cfa71c</td>\n",
       "    </tr>\n",
       "    <tr>\n",
       "      <th>4</th>\n",
       "      <td>368723</td>\n",
       "      <td>2021-02-26</td>\n",
       "      <td>London Border W</td>\n",
       "      <td>None</td>\n",
       "      <td>None</td>\n",
       "      <td>4724</td>\n",
       "      <td>None</td>\n",
       "    </tr>\n",
       "  </tbody>\n",
       "</table>\n",
       "</div>"
      ],
      "text/plain": [
       "   driver_id earliest_date             pu_ca driver_postcode  \\\n",
       "0     462324    2021-10-28    London Outer S        SE16 3XY   \n",
       "1     355681    2021-02-03  Liverpool Wirral        CH44 4DY   \n",
       "2     365751    2021-02-22        Leeds City         LS9 7QS   \n",
       "3     405653    2021-05-26    London Outer N          N4 1LF   \n",
       "4     368723    2021-02-26   London Border W            None   \n",
       "\n",
       "          driver_ca  no_packages               application_fountain_id  \n",
       "0    London Inner E            4  e3115500-e059-47a6-9480-2d2e1ddd2b4f  \n",
       "1  Liverpool Wirral         3013  ba42cf8b-90fe-424e-914e-d1398d9655a3  \n",
       "2        Leeds East         1924  d1debddd-61d2-4c2b-987b-9f4864573040  \n",
       "3    London Outer N         4059  f5f87ad8-f66c-4e43-b184-32df59cfa71c  \n",
       "4              None         4724                                  None  "
      ]
     },
     "execution_count": 185,
     "metadata": {},
     "output_type": "execute_result"
    }
   ],
   "source": [
    "deliveries.head(5)"
   ]
  },
  {
   "cell_type": "code",
   "execution_count": 186,
   "metadata": {},
   "outputs": [
    {
     "data": {
      "text/plain": [
       "(61120, 7)"
      ]
     },
     "execution_count": 186,
     "metadata": {},
     "output_type": "execute_result"
    }
   ],
   "source": [
    "no_dup_deliveries = deliveries.drop_duplicates()\n",
    "no_dup_deliveries.shape\n",
    "# No duplicates"
   ]
  },
  {
   "cell_type": "code",
   "execution_count": 187,
   "metadata": {},
   "outputs": [
    {
     "data": {
      "text/plain": [
       "24097"
      ]
     },
     "execution_count": 187,
     "metadata": {},
     "output_type": "execute_result"
    }
   ],
   "source": [
    "no_dup_deliveries['driver_id'].nunique()"
   ]
  },
  {
   "cell_type": "code",
   "execution_count": 188,
   "metadata": {},
   "outputs": [
    {
     "data": {
      "text/plain": [
       "18618"
      ]
     },
     "execution_count": 188,
     "metadata": {},
     "output_type": "execute_result"
    }
   ],
   "source": [
    "# checking how many drivers have application_fountain_id as non-NULL\n",
    "no_dup_deliveries = no_dup_deliveries[no_dup_deliveries['application_fountain_id'].isnull()==False]\n",
    "no_dup_deliveries['driver_id'].nunique()\n"
   ]
  },
  {
   "cell_type": "code",
   "execution_count": 189,
   "metadata": {},
   "outputs": [],
   "source": [
    "# Generating a csv file with drivers and their deliveries\n",
    "no_dup_deliveries.to_csv('data/deliveries_and_catchement_areas.csv' , index = False )"
   ]
  },
  {
   "cell_type": "code",
   "execution_count": 190,
   "metadata": {},
   "outputs": [],
   "source": [
    "# Dropped all None values in driver_ca: Removing drivers who don't live in CA\n",
    "no_dup_deliveries = no_dup_deliveries[no_dup_deliveries['driver_ca'].isnull()==False]"
   ]
  },
  {
   "cell_type": "code",
   "execution_count": 191,
   "metadata": {},
   "outputs": [
    {
     "data": {
      "text/plain": [
       "15412"
      ]
     },
     "execution_count": 191,
     "metadata": {},
     "output_type": "execute_result"
    }
   ],
   "source": [
    "no_dup_deliveries['driver_id'].nunique()"
   ]
  },
  {
   "cell_type": "code",
   "execution_count": 192,
   "metadata": {},
   "outputs": [
    {
     "data": {
      "text/html": [
       "<div>\n",
       "<style scoped>\n",
       "    .dataframe tbody tr th:only-of-type {\n",
       "        vertical-align: middle;\n",
       "    }\n",
       "\n",
       "    .dataframe tbody tr th {\n",
       "        vertical-align: top;\n",
       "    }\n",
       "\n",
       "    .dataframe thead th {\n",
       "        text-align: right;\n",
       "    }\n",
       "</style>\n",
       "<table border=\"1\" class=\"dataframe\">\n",
       "  <thead>\n",
       "    <tr style=\"text-align: right;\">\n",
       "      <th></th>\n",
       "      <th>driver_id</th>\n",
       "      <th>earliest_date</th>\n",
       "      <th>pu_ca</th>\n",
       "      <th>driver_postcode</th>\n",
       "      <th>driver_ca</th>\n",
       "      <th>no_packages</th>\n",
       "      <th>application_fountain_id</th>\n",
       "    </tr>\n",
       "  </thead>\n",
       "  <tbody>\n",
       "    <tr>\n",
       "      <th>0</th>\n",
       "      <td>462324</td>\n",
       "      <td>2021-10-28</td>\n",
       "      <td>London Outer S</td>\n",
       "      <td>SE16 3XY</td>\n",
       "      <td>London Inner E</td>\n",
       "      <td>4</td>\n",
       "      <td>e3115500-e059-47a6-9480-2d2e1ddd2b4f</td>\n",
       "    </tr>\n",
       "    <tr>\n",
       "      <th>1</th>\n",
       "      <td>355681</td>\n",
       "      <td>2021-02-03</td>\n",
       "      <td>Liverpool Wirral</td>\n",
       "      <td>CH44 4DY</td>\n",
       "      <td>Liverpool Wirral</td>\n",
       "      <td>3013</td>\n",
       "      <td>ba42cf8b-90fe-424e-914e-d1398d9655a3</td>\n",
       "    </tr>\n",
       "    <tr>\n",
       "      <th>2</th>\n",
       "      <td>365751</td>\n",
       "      <td>2021-02-22</td>\n",
       "      <td>Leeds City</td>\n",
       "      <td>LS9 7QS</td>\n",
       "      <td>Leeds East</td>\n",
       "      <td>1924</td>\n",
       "      <td>d1debddd-61d2-4c2b-987b-9f4864573040</td>\n",
       "    </tr>\n",
       "    <tr>\n",
       "      <th>3</th>\n",
       "      <td>405653</td>\n",
       "      <td>2021-05-26</td>\n",
       "      <td>London Outer N</td>\n",
       "      <td>N4 1LF</td>\n",
       "      <td>London Outer N</td>\n",
       "      <td>4059</td>\n",
       "      <td>f5f87ad8-f66c-4e43-b184-32df59cfa71c</td>\n",
       "    </tr>\n",
       "    <tr>\n",
       "      <th>5</th>\n",
       "      <td>456296</td>\n",
       "      <td>2021-10-15</td>\n",
       "      <td>London Outer NE</td>\n",
       "      <td>E20 1ED</td>\n",
       "      <td>London Outer NE</td>\n",
       "      <td>490</td>\n",
       "      <td>a39f99d1-362b-4246-9aa5-3ed320539e7f</td>\n",
       "    </tr>\n",
       "  </tbody>\n",
       "</table>\n",
       "</div>"
      ],
      "text/plain": [
       "   driver_id earliest_date             pu_ca driver_postcode  \\\n",
       "0     462324    2021-10-28    London Outer S        SE16 3XY   \n",
       "1     355681    2021-02-03  Liverpool Wirral        CH44 4DY   \n",
       "2     365751    2021-02-22        Leeds City         LS9 7QS   \n",
       "3     405653    2021-05-26    London Outer N          N4 1LF   \n",
       "5     456296    2021-10-15   London Outer NE         E20 1ED   \n",
       "\n",
       "          driver_ca  no_packages               application_fountain_id  \n",
       "0    London Inner E            4  e3115500-e059-47a6-9480-2d2e1ddd2b4f  \n",
       "1  Liverpool Wirral         3013  ba42cf8b-90fe-424e-914e-d1398d9655a3  \n",
       "2        Leeds East         1924  d1debddd-61d2-4c2b-987b-9f4864573040  \n",
       "3    London Outer N         4059  f5f87ad8-f66c-4e43-b184-32df59cfa71c  \n",
       "5   London Outer NE          490  a39f99d1-362b-4246-9aa5-3ed320539e7f  "
      ]
     },
     "execution_count": 192,
     "metadata": {},
     "output_type": "execute_result"
    }
   ],
   "source": [
    "no_dup_deliveries.head(5)"
   ]
  },
  {
   "cell_type": "code",
   "execution_count": 193,
   "metadata": {},
   "outputs": [
    {
     "data": {
      "text/plain": [
       "(38735, 7)"
      ]
     },
     "execution_count": 193,
     "metadata": {},
     "output_type": "execute_result"
    }
   ],
   "source": [
    "# One driver could do deliveries in multiple CA\n",
    "no_dup_deliveries.shape"
   ]
  },
  {
   "cell_type": "code",
   "execution_count": 194,
   "metadata": {},
   "outputs": [
    {
     "data": {
      "text/html": [
       "<div>\n",
       "<style scoped>\n",
       "    .dataframe tbody tr th:only-of-type {\n",
       "        vertical-align: middle;\n",
       "    }\n",
       "\n",
       "    .dataframe tbody tr th {\n",
       "        vertical-align: top;\n",
       "    }\n",
       "\n",
       "    .dataframe thead th {\n",
       "        text-align: right;\n",
       "    }\n",
       "</style>\n",
       "<table border=\"1\" class=\"dataframe\">\n",
       "  <thead>\n",
       "    <tr style=\"text-align: right;\">\n",
       "      <th></th>\n",
       "      <th>driver_id</th>\n",
       "      <th>earliest_date</th>\n",
       "      <th>pu_ca</th>\n",
       "      <th>driver_postcode</th>\n",
       "      <th>driver_ca</th>\n",
       "      <th>no_packages</th>\n",
       "      <th>application_fountain_id</th>\n",
       "    </tr>\n",
       "  </thead>\n",
       "  <tbody>\n",
       "    <tr>\n",
       "      <th>6405</th>\n",
       "      <td>412933</td>\n",
       "      <td>2021-06-14</td>\n",
       "      <td>Plymouth</td>\n",
       "      <td>PL1 5AE</td>\n",
       "      <td>Plymouth</td>\n",
       "      <td>383</td>\n",
       "      <td>934961ce-3b80-4144-9287-a8257ff2a0aa</td>\n",
       "    </tr>\n",
       "    <tr>\n",
       "      <th>16626</th>\n",
       "      <td>412933</td>\n",
       "      <td>2021-06-14</td>\n",
       "      <td>Plymstock</td>\n",
       "      <td>PL1 5AE</td>\n",
       "      <td>Plymouth</td>\n",
       "      <td>291</td>\n",
       "      <td>934961ce-3b80-4144-9287-a8257ff2a0aa</td>\n",
       "    </tr>\n",
       "    <tr>\n",
       "      <th>16747</th>\n",
       "      <td>412933</td>\n",
       "      <td>2021-06-14</td>\n",
       "      <td>None</td>\n",
       "      <td>PL1 5AE</td>\n",
       "      <td>Plymouth</td>\n",
       "      <td>3</td>\n",
       "      <td>934961ce-3b80-4144-9287-a8257ff2a0aa</td>\n",
       "    </tr>\n",
       "    <tr>\n",
       "      <th>32117</th>\n",
       "      <td>412933</td>\n",
       "      <td>2021-06-14</td>\n",
       "      <td>Milton Keynes</td>\n",
       "      <td>PL1 5AE</td>\n",
       "      <td>Plymouth</td>\n",
       "      <td>379</td>\n",
       "      <td>934961ce-3b80-4144-9287-a8257ff2a0aa</td>\n",
       "    </tr>\n",
       "  </tbody>\n",
       "</table>\n",
       "</div>"
      ],
      "text/plain": [
       "       driver_id earliest_date          pu_ca driver_postcode driver_ca  \\\n",
       "6405      412933    2021-06-14       Plymouth         PL1 5AE  Plymouth   \n",
       "16626     412933    2021-06-14      Plymstock         PL1 5AE  Plymouth   \n",
       "16747     412933    2021-06-14           None         PL1 5AE  Plymouth   \n",
       "32117     412933    2021-06-14  Milton Keynes         PL1 5AE  Plymouth   \n",
       "\n",
       "       no_packages               application_fountain_id  \n",
       "6405           383  934961ce-3b80-4144-9287-a8257ff2a0aa  \n",
       "16626          291  934961ce-3b80-4144-9287-a8257ff2a0aa  \n",
       "16747            3  934961ce-3b80-4144-9287-a8257ff2a0aa  \n",
       "32117          379  934961ce-3b80-4144-9287-a8257ff2a0aa  "
      ]
     },
     "execution_count": 194,
     "metadata": {},
     "output_type": "execute_result"
    }
   ],
   "source": [
    "# Checking example. Making sure there are no duplicates\n",
    "no_dup_deliveries[no_dup_deliveries['driver_id']== 412933]"
   ]
  },
  {
   "cell_type": "code",
   "execution_count": 195,
   "metadata": {},
   "outputs": [
    {
     "data": {
      "text/html": [
       "<div>\n",
       "<style scoped>\n",
       "    .dataframe tbody tr th:only-of-type {\n",
       "        vertical-align: middle;\n",
       "    }\n",
       "\n",
       "    .dataframe tbody tr th {\n",
       "        vertical-align: top;\n",
       "    }\n",
       "\n",
       "    .dataframe thead th {\n",
       "        text-align: right;\n",
       "    }\n",
       "</style>\n",
       "<table border=\"1\" class=\"dataframe\">\n",
       "  <thead>\n",
       "    <tr style=\"text-align: right;\">\n",
       "      <th></th>\n",
       "      <th>driver_id</th>\n",
       "      <th>earliest_date</th>\n",
       "      <th>pu_ca</th>\n",
       "      <th>driver_postcode</th>\n",
       "      <th>driver_ca</th>\n",
       "      <th>nb_packages_per_CA</th>\n",
       "      <th>application_fountain_id</th>\n",
       "    </tr>\n",
       "  </thead>\n",
       "  <tbody>\n",
       "    <tr>\n",
       "      <th>0</th>\n",
       "      <td>462324</td>\n",
       "      <td>2021-10-28</td>\n",
       "      <td>London Outer S</td>\n",
       "      <td>SE16 3XY</td>\n",
       "      <td>London Inner E</td>\n",
       "      <td>4</td>\n",
       "      <td>e3115500-e059-47a6-9480-2d2e1ddd2b4f</td>\n",
       "    </tr>\n",
       "    <tr>\n",
       "      <th>1</th>\n",
       "      <td>355681</td>\n",
       "      <td>2021-02-03</td>\n",
       "      <td>Liverpool Wirral</td>\n",
       "      <td>CH44 4DY</td>\n",
       "      <td>Liverpool Wirral</td>\n",
       "      <td>3013</td>\n",
       "      <td>ba42cf8b-90fe-424e-914e-d1398d9655a3</td>\n",
       "    </tr>\n",
       "    <tr>\n",
       "      <th>2</th>\n",
       "      <td>365751</td>\n",
       "      <td>2021-02-22</td>\n",
       "      <td>Leeds City</td>\n",
       "      <td>LS9 7QS</td>\n",
       "      <td>Leeds East</td>\n",
       "      <td>1924</td>\n",
       "      <td>d1debddd-61d2-4c2b-987b-9f4864573040</td>\n",
       "    </tr>\n",
       "    <tr>\n",
       "      <th>3</th>\n",
       "      <td>405653</td>\n",
       "      <td>2021-05-26</td>\n",
       "      <td>London Outer N</td>\n",
       "      <td>N4 1LF</td>\n",
       "      <td>London Outer N</td>\n",
       "      <td>4059</td>\n",
       "      <td>f5f87ad8-f66c-4e43-b184-32df59cfa71c</td>\n",
       "    </tr>\n",
       "    <tr>\n",
       "      <th>5</th>\n",
       "      <td>456296</td>\n",
       "      <td>2021-10-15</td>\n",
       "      <td>London Outer NE</td>\n",
       "      <td>E20 1ED</td>\n",
       "      <td>London Outer NE</td>\n",
       "      <td>490</td>\n",
       "      <td>a39f99d1-362b-4246-9aa5-3ed320539e7f</td>\n",
       "    </tr>\n",
       "  </tbody>\n",
       "</table>\n",
       "</div>"
      ],
      "text/plain": [
       "   driver_id earliest_date             pu_ca driver_postcode  \\\n",
       "0     462324    2021-10-28    London Outer S        SE16 3XY   \n",
       "1     355681    2021-02-03  Liverpool Wirral        CH44 4DY   \n",
       "2     365751    2021-02-22        Leeds City         LS9 7QS   \n",
       "3     405653    2021-05-26    London Outer N          N4 1LF   \n",
       "5     456296    2021-10-15   London Outer NE         E20 1ED   \n",
       "\n",
       "          driver_ca  nb_packages_per_CA               application_fountain_id  \n",
       "0    London Inner E                   4  e3115500-e059-47a6-9480-2d2e1ddd2b4f  \n",
       "1  Liverpool Wirral                3013  ba42cf8b-90fe-424e-914e-d1398d9655a3  \n",
       "2        Leeds East                1924  d1debddd-61d2-4c2b-987b-9f4864573040  \n",
       "3    London Outer N                4059  f5f87ad8-f66c-4e43-b184-32df59cfa71c  \n",
       "5   London Outer NE                 490  a39f99d1-362b-4246-9aa5-3ed320539e7f  "
      ]
     },
     "execution_count": 195,
     "metadata": {},
     "output_type": "execute_result"
    }
   ],
   "source": [
    "# Renaming columns for clarity\n",
    "mapped = no_dup_deliveries.rename(columns = {'no_packages' : 'nb_packages_per_CA'})\n",
    "mapped.head(5)\n"
   ]
  },
  {
   "cell_type": "code",
   "execution_count": 196,
   "metadata": {},
   "outputs": [
    {
     "data": {
      "text/html": [
       "<div>\n",
       "<style scoped>\n",
       "    .dataframe tbody tr th:only-of-type {\n",
       "        vertical-align: middle;\n",
       "    }\n",
       "\n",
       "    .dataframe tbody tr th {\n",
       "        vertical-align: top;\n",
       "    }\n",
       "\n",
       "    .dataframe thead th {\n",
       "        text-align: right;\n",
       "    }\n",
       "</style>\n",
       "<table border=\"1\" class=\"dataframe\">\n",
       "  <thead>\n",
       "    <tr style=\"text-align: right;\">\n",
       "      <th></th>\n",
       "      <th>driver_id</th>\n",
       "      <th>driver_postcode</th>\n",
       "      <th>driver_ca</th>\n",
       "      <th>pu_ca</th>\n",
       "      <th>nb_packages_per_CA</th>\n",
       "    </tr>\n",
       "  </thead>\n",
       "  <tbody>\n",
       "    <tr>\n",
       "      <th>0</th>\n",
       "      <td>462324</td>\n",
       "      <td>SE16 3XY</td>\n",
       "      <td>London Inner E</td>\n",
       "      <td>London Outer S</td>\n",
       "      <td>4</td>\n",
       "    </tr>\n",
       "    <tr>\n",
       "      <th>1</th>\n",
       "      <td>355681</td>\n",
       "      <td>CH44 4DY</td>\n",
       "      <td>Liverpool Wirral</td>\n",
       "      <td>Liverpool Wirral</td>\n",
       "      <td>3013</td>\n",
       "    </tr>\n",
       "    <tr>\n",
       "      <th>2</th>\n",
       "      <td>365751</td>\n",
       "      <td>LS9 7QS</td>\n",
       "      <td>Leeds East</td>\n",
       "      <td>Leeds City</td>\n",
       "      <td>1924</td>\n",
       "    </tr>\n",
       "    <tr>\n",
       "      <th>3</th>\n",
       "      <td>405653</td>\n",
       "      <td>N4 1LF</td>\n",
       "      <td>London Outer N</td>\n",
       "      <td>London Outer N</td>\n",
       "      <td>4059</td>\n",
       "    </tr>\n",
       "    <tr>\n",
       "      <th>5</th>\n",
       "      <td>456296</td>\n",
       "      <td>E20 1ED</td>\n",
       "      <td>London Outer NE</td>\n",
       "      <td>London Outer NE</td>\n",
       "      <td>490</td>\n",
       "    </tr>\n",
       "    <tr>\n",
       "      <th>...</th>\n",
       "      <td>...</td>\n",
       "      <td>...</td>\n",
       "      <td>...</td>\n",
       "      <td>...</td>\n",
       "      <td>...</td>\n",
       "    </tr>\n",
       "    <tr>\n",
       "      <th>61110</th>\n",
       "      <td>507104</td>\n",
       "      <td>SW16 4LF</td>\n",
       "      <td>London Inner S</td>\n",
       "      <td>London Inner W</td>\n",
       "      <td>1</td>\n",
       "    </tr>\n",
       "    <tr>\n",
       "      <th>61111</th>\n",
       "      <td>387986</td>\n",
       "      <td>TW3 3RY</td>\n",
       "      <td>London Border W</td>\n",
       "      <td>London Inner N</td>\n",
       "      <td>2</td>\n",
       "    </tr>\n",
       "    <tr>\n",
       "      <th>61114</th>\n",
       "      <td>434097</td>\n",
       "      <td>SR3 2BX</td>\n",
       "      <td>Sunderland</td>\n",
       "      <td>UNKNOWN</td>\n",
       "      <td>1</td>\n",
       "    </tr>\n",
       "    <tr>\n",
       "      <th>61117</th>\n",
       "      <td>494414</td>\n",
       "      <td>TW14 0JJ</td>\n",
       "      <td>London Border W</td>\n",
       "      <td>None</td>\n",
       "      <td>1</td>\n",
       "    </tr>\n",
       "    <tr>\n",
       "      <th>61119</th>\n",
       "      <td>484129</td>\n",
       "      <td>DE23 6LW</td>\n",
       "      <td>Derby</td>\n",
       "      <td>None</td>\n",
       "      <td>1</td>\n",
       "    </tr>\n",
       "  </tbody>\n",
       "</table>\n",
       "<p>38735 rows × 5 columns</p>\n",
       "</div>"
      ],
      "text/plain": [
       "       driver_id driver_postcode         driver_ca             pu_ca  \\\n",
       "0         462324        SE16 3XY    London Inner E    London Outer S   \n",
       "1         355681        CH44 4DY  Liverpool Wirral  Liverpool Wirral   \n",
       "2         365751         LS9 7QS        Leeds East        Leeds City   \n",
       "3         405653          N4 1LF    London Outer N    London Outer N   \n",
       "5         456296         E20 1ED   London Outer NE   London Outer NE   \n",
       "...          ...             ...               ...               ...   \n",
       "61110     507104        SW16 4LF    London Inner S    London Inner W   \n",
       "61111     387986         TW3 3RY   London Border W    London Inner N   \n",
       "61114     434097         SR3 2BX        Sunderland           UNKNOWN   \n",
       "61117     494414        TW14 0JJ   London Border W              None   \n",
       "61119     484129        DE23 6LW             Derby              None   \n",
       "\n",
       "       nb_packages_per_CA  \n",
       "0                       4  \n",
       "1                    3013  \n",
       "2                    1924  \n",
       "3                    4059  \n",
       "5                     490  \n",
       "...                   ...  \n",
       "61110                   1  \n",
       "61111                   2  \n",
       "61114                   1  \n",
       "61117                   1  \n",
       "61119                   1  \n",
       "\n",
       "[38735 rows x 5 columns]"
      ]
     },
     "execution_count": 196,
     "metadata": {},
     "output_type": "execute_result"
    }
   ],
   "source": [
    "# Reordering and selecting needed columns for readability\n",
    "mapped = mapped[['driver_id', 'driver_postcode' , 'driver_ca' , 'pu_ca' , 'nb_packages_per_CA']].copy()\n",
    "mapped"
   ]
  },
  {
   "cell_type": "markdown",
   "metadata": {},
   "source": [
    "            Creating a metric to get \"CA each driver mostly worked in\""
   ]
  },
  {
   "cell_type": "markdown",
   "metadata": {},
   "source": [
    "# Most Deliveries Metric"
   ]
  },
  {
   "cell_type": "code",
   "execution_count": 197,
   "metadata": {},
   "outputs": [
    {
     "data": {
      "text/html": [
       "<div>\n",
       "<style scoped>\n",
       "    .dataframe tbody tr th:only-of-type {\n",
       "        vertical-align: middle;\n",
       "    }\n",
       "\n",
       "    .dataframe tbody tr th {\n",
       "        vertical-align: top;\n",
       "    }\n",
       "\n",
       "    .dataframe thead th {\n",
       "        text-align: right;\n",
       "    }\n",
       "</style>\n",
       "<table border=\"1\" class=\"dataframe\">\n",
       "  <thead>\n",
       "    <tr style=\"text-align: right;\">\n",
       "      <th></th>\n",
       "      <th>driver_id</th>\n",
       "      <th>driver_postcode</th>\n",
       "      <th>driver_ca</th>\n",
       "      <th>pu_ca</th>\n",
       "      <th>nb_packages_per_CA</th>\n",
       "    </tr>\n",
       "  </thead>\n",
       "  <tbody>\n",
       "    <tr>\n",
       "      <th>0</th>\n",
       "      <td>462324</td>\n",
       "      <td>SE16 3XY</td>\n",
       "      <td>London Inner E</td>\n",
       "      <td>London Outer S</td>\n",
       "      <td>4</td>\n",
       "    </tr>\n",
       "    <tr>\n",
       "      <th>1</th>\n",
       "      <td>355681</td>\n",
       "      <td>CH44 4DY</td>\n",
       "      <td>Liverpool Wirral</td>\n",
       "      <td>Liverpool Wirral</td>\n",
       "      <td>3013</td>\n",
       "    </tr>\n",
       "    <tr>\n",
       "      <th>2</th>\n",
       "      <td>365751</td>\n",
       "      <td>LS9 7QS</td>\n",
       "      <td>Leeds East</td>\n",
       "      <td>Leeds City</td>\n",
       "      <td>1924</td>\n",
       "    </tr>\n",
       "    <tr>\n",
       "      <th>3</th>\n",
       "      <td>405653</td>\n",
       "      <td>N4 1LF</td>\n",
       "      <td>London Outer N</td>\n",
       "      <td>London Outer N</td>\n",
       "      <td>4059</td>\n",
       "    </tr>\n",
       "    <tr>\n",
       "      <th>5</th>\n",
       "      <td>456296</td>\n",
       "      <td>E20 1ED</td>\n",
       "      <td>London Outer NE</td>\n",
       "      <td>London Outer NE</td>\n",
       "      <td>490</td>\n",
       "    </tr>\n",
       "    <tr>\n",
       "      <th>...</th>\n",
       "      <td>...</td>\n",
       "      <td>...</td>\n",
       "      <td>...</td>\n",
       "      <td>...</td>\n",
       "      <td>...</td>\n",
       "    </tr>\n",
       "    <tr>\n",
       "      <th>61110</th>\n",
       "      <td>507104</td>\n",
       "      <td>SW16 4LF</td>\n",
       "      <td>London Inner S</td>\n",
       "      <td>London Inner W</td>\n",
       "      <td>1</td>\n",
       "    </tr>\n",
       "    <tr>\n",
       "      <th>61111</th>\n",
       "      <td>387986</td>\n",
       "      <td>TW3 3RY</td>\n",
       "      <td>London Border W</td>\n",
       "      <td>London Inner N</td>\n",
       "      <td>2</td>\n",
       "    </tr>\n",
       "    <tr>\n",
       "      <th>61114</th>\n",
       "      <td>434097</td>\n",
       "      <td>SR3 2BX</td>\n",
       "      <td>Sunderland</td>\n",
       "      <td>UNKNOWN</td>\n",
       "      <td>1</td>\n",
       "    </tr>\n",
       "    <tr>\n",
       "      <th>61117</th>\n",
       "      <td>494414</td>\n",
       "      <td>TW14 0JJ</td>\n",
       "      <td>London Border W</td>\n",
       "      <td>None</td>\n",
       "      <td>1</td>\n",
       "    </tr>\n",
       "    <tr>\n",
       "      <th>61119</th>\n",
       "      <td>484129</td>\n",
       "      <td>DE23 6LW</td>\n",
       "      <td>Derby</td>\n",
       "      <td>None</td>\n",
       "      <td>1</td>\n",
       "    </tr>\n",
       "  </tbody>\n",
       "</table>\n",
       "<p>38735 rows × 5 columns</p>\n",
       "</div>"
      ],
      "text/plain": [
       "       driver_id driver_postcode         driver_ca             pu_ca  \\\n",
       "0         462324        SE16 3XY    London Inner E    London Outer S   \n",
       "1         355681        CH44 4DY  Liverpool Wirral  Liverpool Wirral   \n",
       "2         365751         LS9 7QS        Leeds East        Leeds City   \n",
       "3         405653          N4 1LF    London Outer N    London Outer N   \n",
       "5         456296         E20 1ED   London Outer NE   London Outer NE   \n",
       "...          ...             ...               ...               ...   \n",
       "61110     507104        SW16 4LF    London Inner S    London Inner W   \n",
       "61111     387986         TW3 3RY   London Border W    London Inner N   \n",
       "61114     434097         SR3 2BX        Sunderland           UNKNOWN   \n",
       "61117     494414        TW14 0JJ   London Border W              None   \n",
       "61119     484129        DE23 6LW             Derby              None   \n",
       "\n",
       "       nb_packages_per_CA  \n",
       "0                       4  \n",
       "1                    3013  \n",
       "2                    1924  \n",
       "3                    4059  \n",
       "5                     490  \n",
       "...                   ...  \n",
       "61110                   1  \n",
       "61111                   2  \n",
       "61114                   1  \n",
       "61117                   1  \n",
       "61119                   1  \n",
       "\n",
       "[38735 rows x 5 columns]"
      ]
     },
     "execution_count": 197,
     "metadata": {},
     "output_type": "execute_result"
    }
   ],
   "source": [
    "mapped"
   ]
  },
  {
   "cell_type": "code",
   "execution_count": 198,
   "metadata": {},
   "outputs": [
    {
     "data": {
      "text/html": [
       "<div>\n",
       "<style scoped>\n",
       "    .dataframe tbody tr th:only-of-type {\n",
       "        vertical-align: middle;\n",
       "    }\n",
       "\n",
       "    .dataframe tbody tr th {\n",
       "        vertical-align: top;\n",
       "    }\n",
       "\n",
       "    .dataframe thead th {\n",
       "        text-align: right;\n",
       "    }\n",
       "</style>\n",
       "<table border=\"1\" class=\"dataframe\">\n",
       "  <thead>\n",
       "    <tr style=\"text-align: right;\">\n",
       "      <th></th>\n",
       "      <th>driver_id</th>\n",
       "      <th>driver_postcode</th>\n",
       "      <th>driver_ca</th>\n",
       "      <th>pu_ca</th>\n",
       "      <th>nb_packages_per_CA</th>\n",
       "    </tr>\n",
       "  </thead>\n",
       "  <tbody>\n",
       "    <tr>\n",
       "      <th>0</th>\n",
       "      <td>462324</td>\n",
       "      <td>SE16 3XY</td>\n",
       "      <td>London Inner E</td>\n",
       "      <td>London Outer S</td>\n",
       "      <td>4</td>\n",
       "    </tr>\n",
       "    <tr>\n",
       "      <th>1</th>\n",
       "      <td>355681</td>\n",
       "      <td>CH44 4DY</td>\n",
       "      <td>Liverpool Wirral</td>\n",
       "      <td>Liverpool Wirral</td>\n",
       "      <td>3013</td>\n",
       "    </tr>\n",
       "    <tr>\n",
       "      <th>2</th>\n",
       "      <td>365751</td>\n",
       "      <td>LS9 7QS</td>\n",
       "      <td>Leeds East</td>\n",
       "      <td>Leeds City</td>\n",
       "      <td>1924</td>\n",
       "    </tr>\n",
       "    <tr>\n",
       "      <th>3</th>\n",
       "      <td>405653</td>\n",
       "      <td>N4 1LF</td>\n",
       "      <td>London Outer N</td>\n",
       "      <td>London Outer N</td>\n",
       "      <td>4059</td>\n",
       "    </tr>\n",
       "    <tr>\n",
       "      <th>5</th>\n",
       "      <td>456296</td>\n",
       "      <td>E20 1ED</td>\n",
       "      <td>London Outer NE</td>\n",
       "      <td>London Outer NE</td>\n",
       "      <td>490</td>\n",
       "    </tr>\n",
       "  </tbody>\n",
       "</table>\n",
       "</div>"
      ],
      "text/plain": [
       "   driver_id driver_postcode         driver_ca             pu_ca  \\\n",
       "0     462324        SE16 3XY    London Inner E    London Outer S   \n",
       "1     355681        CH44 4DY  Liverpool Wirral  Liverpool Wirral   \n",
       "2     365751         LS9 7QS        Leeds East        Leeds City   \n",
       "3     405653          N4 1LF    London Outer N    London Outer N   \n",
       "5     456296         E20 1ED   London Outer NE   London Outer NE   \n",
       "\n",
       "   nb_packages_per_CA  \n",
       "0                   4  \n",
       "1                3013  \n",
       "2                1924  \n",
       "3                4059  \n",
       "5                 490  "
      ]
     },
     "execution_count": 198,
     "metadata": {},
     "output_type": "execute_result"
    }
   ],
   "source": [
    "# New df is the same as mapped\n",
    "new_metric = mapped.copy()\n",
    "new_metric.head(5)"
   ]
  },
  {
   "cell_type": "code",
   "execution_count": 199,
   "metadata": {},
   "outputs": [
    {
     "data": {
      "text/html": [
       "<div>\n",
       "<style scoped>\n",
       "    .dataframe tbody tr th:only-of-type {\n",
       "        vertical-align: middle;\n",
       "    }\n",
       "\n",
       "    .dataframe tbody tr th {\n",
       "        vertical-align: top;\n",
       "    }\n",
       "\n",
       "    .dataframe thead th {\n",
       "        text-align: right;\n",
       "    }\n",
       "</style>\n",
       "<table border=\"1\" class=\"dataframe\">\n",
       "  <thead>\n",
       "    <tr style=\"text-align: right;\">\n",
       "      <th></th>\n",
       "      <th>driver_id</th>\n",
       "      <th>driver_postcode</th>\n",
       "      <th>driver_ca</th>\n",
       "      <th>pu_ca</th>\n",
       "      <th>nb_packages_per_CA</th>\n",
       "      <th>max_ca_deliveries</th>\n",
       "    </tr>\n",
       "  </thead>\n",
       "  <tbody>\n",
       "    <tr>\n",
       "      <th>0</th>\n",
       "      <td>462324</td>\n",
       "      <td>SE16 3XY</td>\n",
       "      <td>London Inner E</td>\n",
       "      <td>London Outer S</td>\n",
       "      <td>4</td>\n",
       "      <td>4</td>\n",
       "    </tr>\n",
       "    <tr>\n",
       "      <th>1</th>\n",
       "      <td>355681</td>\n",
       "      <td>CH44 4DY</td>\n",
       "      <td>Liverpool Wirral</td>\n",
       "      <td>Liverpool Wirral</td>\n",
       "      <td>3013</td>\n",
       "      <td>3013</td>\n",
       "    </tr>\n",
       "    <tr>\n",
       "      <th>2</th>\n",
       "      <td>365751</td>\n",
       "      <td>LS9 7QS</td>\n",
       "      <td>Leeds East</td>\n",
       "      <td>Leeds City</td>\n",
       "      <td>1924</td>\n",
       "      <td>1924</td>\n",
       "    </tr>\n",
       "    <tr>\n",
       "      <th>3</th>\n",
       "      <td>405653</td>\n",
       "      <td>N4 1LF</td>\n",
       "      <td>London Outer N</td>\n",
       "      <td>London Outer N</td>\n",
       "      <td>4059</td>\n",
       "      <td>4059</td>\n",
       "    </tr>\n",
       "    <tr>\n",
       "      <th>5</th>\n",
       "      <td>456296</td>\n",
       "      <td>E20 1ED</td>\n",
       "      <td>London Outer NE</td>\n",
       "      <td>London Outer NE</td>\n",
       "      <td>490</td>\n",
       "      <td>490</td>\n",
       "    </tr>\n",
       "  </tbody>\n",
       "</table>\n",
       "</div>"
      ],
      "text/plain": [
       "   driver_id driver_postcode         driver_ca             pu_ca  \\\n",
       "0     462324        SE16 3XY    London Inner E    London Outer S   \n",
       "1     355681        CH44 4DY  Liverpool Wirral  Liverpool Wirral   \n",
       "2     365751         LS9 7QS        Leeds East        Leeds City   \n",
       "3     405653          N4 1LF    London Outer N    London Outer N   \n",
       "5     456296         E20 1ED   London Outer NE   London Outer NE   \n",
       "\n",
       "   nb_packages_per_CA  max_ca_deliveries  \n",
       "0                   4                  4  \n",
       "1                3013               3013  \n",
       "2                1924               1924  \n",
       "3                4059               4059  \n",
       "5                 490                490  "
      ]
     },
     "execution_count": 199,
     "metadata": {},
     "output_type": "execute_result"
    }
   ],
   "source": [
    "#Obtaining max number of deliveries made in CA to check for later where a courier did his most deliveries in. \n",
    "new_metric['max_ca_deliveries']= new_metric.groupby(['driver_id'])['nb_packages_per_CA'].transform(max)\n",
    "new_metric.head(5)"
   ]
  },
  {
   "cell_type": "code",
   "execution_count": 200,
   "metadata": {},
   "outputs": [
    {
     "data": {
      "text/html": [
       "<div>\n",
       "<style scoped>\n",
       "    .dataframe tbody tr th:only-of-type {\n",
       "        vertical-align: middle;\n",
       "    }\n",
       "\n",
       "    .dataframe tbody tr th {\n",
       "        vertical-align: top;\n",
       "    }\n",
       "\n",
       "    .dataframe thead th {\n",
       "        text-align: right;\n",
       "    }\n",
       "</style>\n",
       "<table border=\"1\" class=\"dataframe\">\n",
       "  <thead>\n",
       "    <tr style=\"text-align: right;\">\n",
       "      <th></th>\n",
       "      <th>driver_id</th>\n",
       "      <th>driver_postcode</th>\n",
       "      <th>driver_ca</th>\n",
       "      <th>pu_ca</th>\n",
       "      <th>nb_packages_per_CA</th>\n",
       "      <th>max_ca_deliveries</th>\n",
       "    </tr>\n",
       "  </thead>\n",
       "  <tbody>\n",
       "    <tr>\n",
       "      <th>0</th>\n",
       "      <td>462324</td>\n",
       "      <td>SE16 3XY</td>\n",
       "      <td>London Inner E</td>\n",
       "      <td>London Outer S</td>\n",
       "      <td>4</td>\n",
       "      <td>4</td>\n",
       "    </tr>\n",
       "    <tr>\n",
       "      <th>1</th>\n",
       "      <td>355681</td>\n",
       "      <td>CH44 4DY</td>\n",
       "      <td>Liverpool Wirral</td>\n",
       "      <td>Liverpool Wirral</td>\n",
       "      <td>3013</td>\n",
       "      <td>3013</td>\n",
       "    </tr>\n",
       "    <tr>\n",
       "      <th>2</th>\n",
       "      <td>365751</td>\n",
       "      <td>LS9 7QS</td>\n",
       "      <td>Leeds East</td>\n",
       "      <td>Leeds City</td>\n",
       "      <td>1924</td>\n",
       "      <td>1924</td>\n",
       "    </tr>\n",
       "    <tr>\n",
       "      <th>3</th>\n",
       "      <td>405653</td>\n",
       "      <td>N4 1LF</td>\n",
       "      <td>London Outer N</td>\n",
       "      <td>London Outer N</td>\n",
       "      <td>4059</td>\n",
       "      <td>4059</td>\n",
       "    </tr>\n",
       "    <tr>\n",
       "      <th>5</th>\n",
       "      <td>456296</td>\n",
       "      <td>E20 1ED</td>\n",
       "      <td>London Outer NE</td>\n",
       "      <td>London Outer NE</td>\n",
       "      <td>490</td>\n",
       "      <td>490</td>\n",
       "    </tr>\n",
       "  </tbody>\n",
       "</table>\n",
       "</div>"
      ],
      "text/plain": [
       "   driver_id driver_postcode         driver_ca             pu_ca  \\\n",
       "0     462324        SE16 3XY    London Inner E    London Outer S   \n",
       "1     355681        CH44 4DY  Liverpool Wirral  Liverpool Wirral   \n",
       "2     365751         LS9 7QS        Leeds East        Leeds City   \n",
       "3     405653          N4 1LF    London Outer N    London Outer N   \n",
       "5     456296         E20 1ED   London Outer NE   London Outer NE   \n",
       "\n",
       "   nb_packages_per_CA  max_ca_deliveries  \n",
       "0                   4                  4  \n",
       "1                3013               3013  \n",
       "2                1924               1924  \n",
       "3                4059               4059  \n",
       "5                 490                490  "
      ]
     },
     "execution_count": 200,
     "metadata": {},
     "output_type": "execute_result"
    }
   ],
   "source": [
    "# Metric: mostly worked in ca by choosing the CA where a courier did most of his deliveries. \n",
    "# check if max_ca_deliveries = nb_packages_per_CA\n",
    "\n",
    "new_metric2 = new_metric[new_metric['nb_packages_per_CA'] == new_metric['max_ca_deliveries']].copy()\n",
    "new_metric2.head(5)\n"
   ]
  },
  {
   "cell_type": "code",
   "execution_count": 201,
   "metadata": {},
   "outputs": [
    {
     "data": {
      "text/plain": [
       "4024     481453\n",
       "7355     468148\n",
       "14969    485366\n",
       "23826    407795\n",
       "24950    458575\n",
       "          ...  \n",
       "60694    485053\n",
       "60805    510177\n",
       "60913    350251\n",
       "60964    462615\n",
       "60990    380243\n",
       "Name: driver_id, Length: 88, dtype: int64"
      ]
     },
     "execution_count": 201,
     "metadata": {},
     "output_type": "execute_result"
    }
   ],
   "source": [
    "new_metric2[new_metric2['driver_id'].duplicated()]['driver_id']"
   ]
  },
  {
   "cell_type": "markdown",
   "metadata": {},
   "source": [
    "Received duplicates as some drivers did equal number of deliveres in two CA. Solution is to drop these as they compose less than 1% of couriers."
   ]
  },
  {
   "cell_type": "code",
   "execution_count": 202,
   "metadata": {},
   "outputs": [],
   "source": [
    "# Drop duplicate drivers id\n",
    "new_metric2 = new_metric2.drop_duplicates(subset=['driver_id']).copy()"
   ]
  },
  {
   "cell_type": "code",
   "execution_count": 203,
   "metadata": {},
   "outputs": [
    {
     "data": {
      "text/html": [
       "<div>\n",
       "<style scoped>\n",
       "    .dataframe tbody tr th:only-of-type {\n",
       "        vertical-align: middle;\n",
       "    }\n",
       "\n",
       "    .dataframe tbody tr th {\n",
       "        vertical-align: top;\n",
       "    }\n",
       "\n",
       "    .dataframe thead th {\n",
       "        text-align: right;\n",
       "    }\n",
       "</style>\n",
       "<table border=\"1\" class=\"dataframe\">\n",
       "  <thead>\n",
       "    <tr style=\"text-align: right;\">\n",
       "      <th></th>\n",
       "      <th>driver_id</th>\n",
       "      <th>driver_postcode</th>\n",
       "      <th>driver_ca</th>\n",
       "      <th>pu_ca</th>\n",
       "      <th>nb_packages_per_CA</th>\n",
       "      <th>max_ca_deliveries</th>\n",
       "      <th>is_same</th>\n",
       "    </tr>\n",
       "  </thead>\n",
       "  <tbody>\n",
       "    <tr>\n",
       "      <th>0</th>\n",
       "      <td>462324</td>\n",
       "      <td>SE16 3XY</td>\n",
       "      <td>London Inner E</td>\n",
       "      <td>London Outer S</td>\n",
       "      <td>4</td>\n",
       "      <td>4</td>\n",
       "      <td>0</td>\n",
       "    </tr>\n",
       "    <tr>\n",
       "      <th>1</th>\n",
       "      <td>355681</td>\n",
       "      <td>CH44 4DY</td>\n",
       "      <td>Liverpool Wirral</td>\n",
       "      <td>Liverpool Wirral</td>\n",
       "      <td>3013</td>\n",
       "      <td>3013</td>\n",
       "      <td>1</td>\n",
       "    </tr>\n",
       "    <tr>\n",
       "      <th>2</th>\n",
       "      <td>365751</td>\n",
       "      <td>LS9 7QS</td>\n",
       "      <td>Leeds East</td>\n",
       "      <td>Leeds City</td>\n",
       "      <td>1924</td>\n",
       "      <td>1924</td>\n",
       "      <td>0</td>\n",
       "    </tr>\n",
       "    <tr>\n",
       "      <th>3</th>\n",
       "      <td>405653</td>\n",
       "      <td>N4 1LF</td>\n",
       "      <td>London Outer N</td>\n",
       "      <td>London Outer N</td>\n",
       "      <td>4059</td>\n",
       "      <td>4059</td>\n",
       "      <td>1</td>\n",
       "    </tr>\n",
       "    <tr>\n",
       "      <th>5</th>\n",
       "      <td>456296</td>\n",
       "      <td>E20 1ED</td>\n",
       "      <td>London Outer NE</td>\n",
       "      <td>London Outer NE</td>\n",
       "      <td>490</td>\n",
       "      <td>490</td>\n",
       "      <td>1</td>\n",
       "    </tr>\n",
       "    <tr>\n",
       "      <th>...</th>\n",
       "      <td>...</td>\n",
       "      <td>...</td>\n",
       "      <td>...</td>\n",
       "      <td>...</td>\n",
       "      <td>...</td>\n",
       "      <td>...</td>\n",
       "      <td>...</td>\n",
       "    </tr>\n",
       "    <tr>\n",
       "      <th>61047</th>\n",
       "      <td>476365</td>\n",
       "      <td>WV1 2JZ</td>\n",
       "      <td>Wolverhampton</td>\n",
       "      <td>Wolverhampton</td>\n",
       "      <td>1</td>\n",
       "      <td>1</td>\n",
       "      <td>1</td>\n",
       "    </tr>\n",
       "    <tr>\n",
       "      <th>61076</th>\n",
       "      <td>403617</td>\n",
       "      <td>EX1 2LD</td>\n",
       "      <td>Exeter</td>\n",
       "      <td>Exeter</td>\n",
       "      <td>1</td>\n",
       "      <td>1</td>\n",
       "      <td>1</td>\n",
       "    </tr>\n",
       "    <tr>\n",
       "      <th>61079</th>\n",
       "      <td>429975</td>\n",
       "      <td>HD1 1RA</td>\n",
       "      <td>Huddersfield</td>\n",
       "      <td>Huddersfield</td>\n",
       "      <td>1</td>\n",
       "      <td>1</td>\n",
       "      <td>1</td>\n",
       "    </tr>\n",
       "    <tr>\n",
       "      <th>61085</th>\n",
       "      <td>373478</td>\n",
       "      <td>N11 1PZ</td>\n",
       "      <td>London Outer N</td>\n",
       "      <td>London Outer N</td>\n",
       "      <td>2</td>\n",
       "      <td>2</td>\n",
       "      <td>1</td>\n",
       "    </tr>\n",
       "    <tr>\n",
       "      <th>61110</th>\n",
       "      <td>507104</td>\n",
       "      <td>SW16 4LF</td>\n",
       "      <td>London Inner S</td>\n",
       "      <td>London Inner W</td>\n",
       "      <td>1</td>\n",
       "      <td>1</td>\n",
       "      <td>0</td>\n",
       "    </tr>\n",
       "  </tbody>\n",
       "</table>\n",
       "<p>15412 rows × 7 columns</p>\n",
       "</div>"
      ],
      "text/plain": [
       "       driver_id driver_postcode         driver_ca             pu_ca  \\\n",
       "0         462324        SE16 3XY    London Inner E    London Outer S   \n",
       "1         355681        CH44 4DY  Liverpool Wirral  Liverpool Wirral   \n",
       "2         365751         LS9 7QS        Leeds East        Leeds City   \n",
       "3         405653          N4 1LF    London Outer N    London Outer N   \n",
       "5         456296         E20 1ED   London Outer NE   London Outer NE   \n",
       "...          ...             ...               ...               ...   \n",
       "61047     476365         WV1 2JZ     Wolverhampton     Wolverhampton   \n",
       "61076     403617         EX1 2LD            Exeter            Exeter   \n",
       "61079     429975         HD1 1RA      Huddersfield      Huddersfield   \n",
       "61085     373478         N11 1PZ    London Outer N    London Outer N   \n",
       "61110     507104        SW16 4LF    London Inner S    London Inner W   \n",
       "\n",
       "       nb_packages_per_CA  max_ca_deliveries  is_same  \n",
       "0                       4                  4        0  \n",
       "1                    3013               3013        1  \n",
       "2                    1924               1924        0  \n",
       "3                    4059               4059        1  \n",
       "5                     490                490        1  \n",
       "...                   ...                ...      ...  \n",
       "61047                   1                  1        1  \n",
       "61076                   1                  1        1  \n",
       "61079                   1                  1        1  \n",
       "61085                   2                  2        1  \n",
       "61110                   1                  1        0  \n",
       "\n",
       "[15412 rows x 7 columns]"
      ]
     },
     "execution_count": 203,
     "metadata": {},
     "output_type": "execute_result"
    }
   ],
   "source": [
    "# Then compare if this CA is the same as driver CA as 1 or 0. \n",
    "new_metric2['is_same'] = np.where(new_metric2['pu_ca'] == new_metric2['driver_ca'], 1, 0)\n",
    "new_metric2"
   ]
  },
  {
   "cell_type": "code",
   "execution_count": 204,
   "metadata": {},
   "outputs": [
    {
     "data": {
      "text/html": [
       "<div>\n",
       "<style scoped>\n",
       "    .dataframe tbody tr th:only-of-type {\n",
       "        vertical-align: middle;\n",
       "    }\n",
       "\n",
       "    .dataframe tbody tr th {\n",
       "        vertical-align: top;\n",
       "    }\n",
       "\n",
       "    .dataframe thead th {\n",
       "        text-align: right;\n",
       "    }\n",
       "</style>\n",
       "<table border=\"1\" class=\"dataframe\">\n",
       "  <thead>\n",
       "    <tr style=\"text-align: right;\">\n",
       "      <th></th>\n",
       "      <th>driver_id</th>\n",
       "      <th>nb_packages_per_CA</th>\n",
       "      <th>max_ca_deliveries</th>\n",
       "      <th>is_same</th>\n",
       "    </tr>\n",
       "  </thead>\n",
       "  <tbody>\n",
       "    <tr>\n",
       "      <th>count</th>\n",
       "      <td>15412.000000</td>\n",
       "      <td>15412.000000</td>\n",
       "      <td>15412.000000</td>\n",
       "      <td>15412.000000</td>\n",
       "    </tr>\n",
       "    <tr>\n",
       "      <th>mean</th>\n",
       "      <td>431296.212367</td>\n",
       "      <td>660.967882</td>\n",
       "      <td>660.967882</td>\n",
       "      <td>0.738061</td>\n",
       "    </tr>\n",
       "    <tr>\n",
       "      <th>std</th>\n",
       "      <td>45663.833317</td>\n",
       "      <td>956.499063</td>\n",
       "      <td>956.499063</td>\n",
       "      <td>0.439704</td>\n",
       "    </tr>\n",
       "    <tr>\n",
       "      <th>min</th>\n",
       "      <td>339107.000000</td>\n",
       "      <td>1.000000</td>\n",
       "      <td>1.000000</td>\n",
       "      <td>0.000000</td>\n",
       "    </tr>\n",
       "    <tr>\n",
       "      <th>25%</th>\n",
       "      <td>397183.000000</td>\n",
       "      <td>55.000000</td>\n",
       "      <td>55.000000</td>\n",
       "      <td>0.000000</td>\n",
       "    </tr>\n",
       "    <tr>\n",
       "      <th>50%</th>\n",
       "      <td>431362.500000</td>\n",
       "      <td>257.000000</td>\n",
       "      <td>257.000000</td>\n",
       "      <td>1.000000</td>\n",
       "    </tr>\n",
       "    <tr>\n",
       "      <th>75%</th>\n",
       "      <td>471517.250000</td>\n",
       "      <td>853.250000</td>\n",
       "      <td>853.250000</td>\n",
       "      <td>1.000000</td>\n",
       "    </tr>\n",
       "    <tr>\n",
       "      <th>max</th>\n",
       "      <td>511249.000000</td>\n",
       "      <td>9108.000000</td>\n",
       "      <td>9108.000000</td>\n",
       "      <td>1.000000</td>\n",
       "    </tr>\n",
       "  </tbody>\n",
       "</table>\n",
       "</div>"
      ],
      "text/plain": [
       "           driver_id  nb_packages_per_CA  max_ca_deliveries       is_same\n",
       "count   15412.000000        15412.000000       15412.000000  15412.000000\n",
       "mean   431296.212367          660.967882         660.967882      0.738061\n",
       "std     45663.833317          956.499063         956.499063      0.439704\n",
       "min    339107.000000            1.000000           1.000000      0.000000\n",
       "25%    397183.000000           55.000000          55.000000      0.000000\n",
       "50%    431362.500000          257.000000         257.000000      1.000000\n",
       "75%    471517.250000          853.250000         853.250000      1.000000\n",
       "max    511249.000000         9108.000000        9108.000000      1.000000"
      ]
     },
     "execution_count": 204,
     "metadata": {},
     "output_type": "execute_result"
    }
   ],
   "source": [
    "# Then calculate the % of 1s \n",
    "new_metric2.describe()\n",
    "\n",
    "# ~ 74% of drivers who live in CA mostly do deliveries in their CA"
   ]
  },
  {
   "cell_type": "markdown",
   "metadata": {},
   "source": [
    "# Drivers who did not live in CA"
   ]
  },
  {
   "cell_type": "markdown",
   "metadata": {},
   "source": [
    "need a Predicted_CA column from ops.uk_applicant"
   ]
  },
  {
   "cell_type": "code",
   "execution_count": 205,
   "metadata": {},
   "outputs": [
    {
     "name": "stdout",
     "output_type": "stream",
     "text": [
      "Connected to the DataWarehouse\n",
      "Result from query obtained\n",
      "Data stored in dataframe\n"
     ]
    }
   ],
   "source": [
    "query_3 = '''\n",
    "\n",
    "SELECT -------------------- Package\n",
    "       cd.driver_id,          -- stuart_driver_id\n",
    "  --   MIN(cd.valid_from_date) as earliest_date,\n",
    "       uai.applicant_fountain_id,\n",
    "       a.catchment_area as pu_CA,\n",
    "\n",
    "    ------------------  Driver\n",
    "    predicted_catchment_area as predicted_driver_CA,\n",
    "       count( distinct p.package_id) as no_packages\n",
    "\n",
    "FROM modeled_core.driver cd\n",
    "\n",
    "INNER JOIN modeled_core.zones z\n",
    "USING (zone_id)\n",
    "\n",
    "LEFT JOIN modeled_core.delivery d\n",
    "    ON cd.driver_id = d.driver_id\n",
    "\n",
    "LEFT JOIN modeled_core.package p\n",
    "    ON d.package_id = p.package_id\n",
    "\n",
    "LEFT JOIN modeled_core.location l\n",
    "    ON p.pu_location_id = l.location_id\n",
    "\n",
    "LEFT JOIN ops.area a\n",
    "    ON REPLACE(l.delivery_area_name , '_' , '') = a.area_name_cap -- pool area for packages\n",
    "\n",
    "\n",
    "LEFT JOIN ops.uk_applicants_info uai\n",
    "    ON uai.applicant_fountain_id = cd.applicant_fountain_id\n",
    "\n",
    "WHERE z.country_id = 2\n",
    "AND DATE(p.time_window_pu_start_utc) >= '2021-01-01'\n",
    "AND DATE(cd.onboarded_at_utc) >= '2021-01-01'\n",
    "\n",
    "GROUP BY 1, 2, 3,4\n",
    "\n",
    "'''\n",
    "\n",
    "\n",
    "predicted = get_data_from_warehouse(query_3)"
   ]
  },
  {
   "cell_type": "code",
   "execution_count": 206,
   "metadata": {},
   "outputs": [
    {
     "data": {
      "text/plain": [
       "(61120, 5)"
      ]
     },
     "execution_count": 206,
     "metadata": {},
     "output_type": "execute_result"
    }
   ],
   "source": [
    "# Getting multiple rows per driver as they can work in different catchment areas\n",
    "predicted.shape"
   ]
  },
  {
   "cell_type": "code",
   "execution_count": 207,
   "metadata": {},
   "outputs": [
    {
     "data": {
      "text/plain": [
       "(61120, 5)"
      ]
     },
     "execution_count": 207,
     "metadata": {},
     "output_type": "execute_result"
    }
   ],
   "source": [
    "no_dup_predicted = predicted.drop_duplicates()\n",
    "no_dup_predicted.shape\n",
    "# No duplicates"
   ]
  },
  {
   "cell_type": "code",
   "execution_count": 208,
   "metadata": {},
   "outputs": [
    {
     "data": {
      "text/plain": [
       "24097"
      ]
     },
     "execution_count": 208,
     "metadata": {},
     "output_type": "execute_result"
    }
   ],
   "source": [
    "# Number of individual drivers\n",
    "no_dup_predicted['driver_id'].nunique()"
   ]
  },
  {
   "cell_type": "code",
   "execution_count": 209,
   "metadata": {},
   "outputs": [
    {
     "data": {
      "text/plain": [
       "24081"
      ]
     },
     "execution_count": 209,
     "metadata": {},
     "output_type": "execute_result"
    }
   ],
   "source": [
    "# checking how many drivers have application_fountain_id as non-NULL\n",
    "no_dup_predicted = no_dup_predicted[no_dup_predicted['applicant_fountain_id'].isnull()==False]\n",
    "no_dup_predicted['driver_id'].nunique()"
   ]
  },
  {
   "cell_type": "code",
   "execution_count": 210,
   "metadata": {},
   "outputs": [],
   "source": [
    "# Generating a csv file with drivers and their deliveries\n",
    "no_dup_predicted.to_csv('data/deliveries&_predicted_CA.csv' , index = False )"
   ]
  },
  {
   "cell_type": "code",
   "execution_count": 211,
   "metadata": {},
   "outputs": [
    {
     "data": {
      "text/html": [
       "<div>\n",
       "<style scoped>\n",
       "    .dataframe tbody tr th:only-of-type {\n",
       "        vertical-align: middle;\n",
       "    }\n",
       "\n",
       "    .dataframe tbody tr th {\n",
       "        vertical-align: top;\n",
       "    }\n",
       "\n",
       "    .dataframe thead th {\n",
       "        text-align: right;\n",
       "    }\n",
       "</style>\n",
       "<table border=\"1\" class=\"dataframe\">\n",
       "  <thead>\n",
       "    <tr style=\"text-align: right;\">\n",
       "      <th></th>\n",
       "      <th>driver_id</th>\n",
       "      <th>applicant_fountain_id</th>\n",
       "      <th>pu_ca</th>\n",
       "      <th>predicted_driver_ca</th>\n",
       "      <th>no_packages</th>\n",
       "    </tr>\n",
       "  </thead>\n",
       "  <tbody>\n",
       "    <tr>\n",
       "      <th>0</th>\n",
       "      <td>395669</td>\n",
       "      <td>6aa4c1ea-5cfe-4d99-adbb-bfe60b186b07</td>\n",
       "      <td>London Inner Lower NW</td>\n",
       "      <td>None</td>\n",
       "      <td>925</td>\n",
       "    </tr>\n",
       "    <tr>\n",
       "      <th>1</th>\n",
       "      <td>356288</td>\n",
       "      <td>4a119609-fba6-4804-9cd2-87aa2cf0cd25</td>\n",
       "      <td>Plymouth</td>\n",
       "      <td>None</td>\n",
       "      <td>1441</td>\n",
       "    </tr>\n",
       "    <tr>\n",
       "      <th>2</th>\n",
       "      <td>345785</td>\n",
       "      <td>3b30262e-fbe9-4d25-a2c3-86ea714d9d35</td>\n",
       "      <td>Liverpool East</td>\n",
       "      <td>None</td>\n",
       "      <td>1705</td>\n",
       "    </tr>\n",
       "    <tr>\n",
       "      <th>3</th>\n",
       "      <td>356281</td>\n",
       "      <td>0104e7a8-50cc-4a5c-bdad-953d08ddcece</td>\n",
       "      <td>Cardiff</td>\n",
       "      <td>None</td>\n",
       "      <td>1556</td>\n",
       "    </tr>\n",
       "    <tr>\n",
       "      <th>4</th>\n",
       "      <td>373786</td>\n",
       "      <td>62c672f8-e658-492c-80d1-157e7cbd373b</td>\n",
       "      <td>London Outer SW</td>\n",
       "      <td>None</td>\n",
       "      <td>1573</td>\n",
       "    </tr>\n",
       "  </tbody>\n",
       "</table>\n",
       "</div>"
      ],
      "text/plain": [
       "   driver_id                 applicant_fountain_id                  pu_ca  \\\n",
       "0     395669  6aa4c1ea-5cfe-4d99-adbb-bfe60b186b07  London Inner Lower NW   \n",
       "1     356288  4a119609-fba6-4804-9cd2-87aa2cf0cd25               Plymouth   \n",
       "2     345785  3b30262e-fbe9-4d25-a2c3-86ea714d9d35         Liverpool East   \n",
       "3     356281  0104e7a8-50cc-4a5c-bdad-953d08ddcece                Cardiff   \n",
       "4     373786  62c672f8-e658-492c-80d1-157e7cbd373b        London Outer SW   \n",
       "\n",
       "  predicted_driver_ca  no_packages  \n",
       "0                None          925  \n",
       "1                None         1441  \n",
       "2                None         1705  \n",
       "3                None         1556  \n",
       "4                None         1573  "
      ]
     },
     "execution_count": 211,
     "metadata": {},
     "output_type": "execute_result"
    }
   ],
   "source": [
    "no_dup_predicted.head(5)"
   ]
  },
  {
   "cell_type": "code",
   "execution_count": 212,
   "metadata": {},
   "outputs": [
    {
     "data": {
      "text/html": [
       "<div>\n",
       "<style scoped>\n",
       "    .dataframe tbody tr th:only-of-type {\n",
       "        vertical-align: middle;\n",
       "    }\n",
       "\n",
       "    .dataframe tbody tr th {\n",
       "        vertical-align: top;\n",
       "    }\n",
       "\n",
       "    .dataframe thead th {\n",
       "        text-align: right;\n",
       "    }\n",
       "</style>\n",
       "<table border=\"1\" class=\"dataframe\">\n",
       "  <thead>\n",
       "    <tr style=\"text-align: right;\">\n",
       "      <th></th>\n",
       "      <th>driver_id</th>\n",
       "      <th>applicant_fountain_id</th>\n",
       "      <th>pu_ca</th>\n",
       "      <th>predicted_driver_ca</th>\n",
       "      <th>no_packages</th>\n",
       "    </tr>\n",
       "  </thead>\n",
       "  <tbody>\n",
       "    <tr>\n",
       "      <th>0</th>\n",
       "      <td>395669</td>\n",
       "      <td>6aa4c1ea-5cfe-4d99-adbb-bfe60b186b07</td>\n",
       "      <td>London Inner Lower NW</td>\n",
       "      <td>NaN</td>\n",
       "      <td>925</td>\n",
       "    </tr>\n",
       "    <tr>\n",
       "      <th>1</th>\n",
       "      <td>356288</td>\n",
       "      <td>4a119609-fba6-4804-9cd2-87aa2cf0cd25</td>\n",
       "      <td>Plymouth</td>\n",
       "      <td>NaN</td>\n",
       "      <td>1441</td>\n",
       "    </tr>\n",
       "    <tr>\n",
       "      <th>2</th>\n",
       "      <td>345785</td>\n",
       "      <td>3b30262e-fbe9-4d25-a2c3-86ea714d9d35</td>\n",
       "      <td>Liverpool East</td>\n",
       "      <td>NaN</td>\n",
       "      <td>1705</td>\n",
       "    </tr>\n",
       "    <tr>\n",
       "      <th>3</th>\n",
       "      <td>356281</td>\n",
       "      <td>0104e7a8-50cc-4a5c-bdad-953d08ddcece</td>\n",
       "      <td>Cardiff</td>\n",
       "      <td>NaN</td>\n",
       "      <td>1556</td>\n",
       "    </tr>\n",
       "    <tr>\n",
       "      <th>4</th>\n",
       "      <td>373786</td>\n",
       "      <td>62c672f8-e658-492c-80d1-157e7cbd373b</td>\n",
       "      <td>London Outer SW</td>\n",
       "      <td>NaN</td>\n",
       "      <td>1573</td>\n",
       "    </tr>\n",
       "  </tbody>\n",
       "</table>\n",
       "</div>"
      ],
      "text/plain": [
       "   driver_id                 applicant_fountain_id                  pu_ca  \\\n",
       "0     395669  6aa4c1ea-5cfe-4d99-adbb-bfe60b186b07  London Inner Lower NW   \n",
       "1     356288  4a119609-fba6-4804-9cd2-87aa2cf0cd25               Plymouth   \n",
       "2     345785  3b30262e-fbe9-4d25-a2c3-86ea714d9d35         Liverpool East   \n",
       "3     356281  0104e7a8-50cc-4a5c-bdad-953d08ddcece                Cardiff   \n",
       "4     373786  62c672f8-e658-492c-80d1-157e7cbd373b        London Outer SW   \n",
       "\n",
       "  predicted_driver_ca  no_packages  \n",
       "0                 NaN          925  \n",
       "1                 NaN         1441  \n",
       "2                 NaN         1705  \n",
       "3                 NaN         1556  \n",
       "4                 NaN         1573  "
      ]
     },
     "execution_count": 212,
     "metadata": {},
     "output_type": "execute_result"
    }
   ],
   "source": [
    "# Replacing None with Null in predicted_catchment_area\n",
    "no_dup_predicted.predicted_driver_ca.fillna(value=np.nan, inplace=True)\n",
    "no_dup_predicted.head(5)"
   ]
  },
  {
   "cell_type": "code",
   "execution_count": 213,
   "metadata": {},
   "outputs": [
    {
     "data": {
      "text/html": [
       "<div>\n",
       "<style scoped>\n",
       "    .dataframe tbody tr th:only-of-type {\n",
       "        vertical-align: middle;\n",
       "    }\n",
       "\n",
       "    .dataframe tbody tr th {\n",
       "        vertical-align: top;\n",
       "    }\n",
       "\n",
       "    .dataframe thead th {\n",
       "        text-align: right;\n",
       "    }\n",
       "</style>\n",
       "<table border=\"1\" class=\"dataframe\">\n",
       "  <thead>\n",
       "    <tr style=\"text-align: right;\">\n",
       "      <th></th>\n",
       "      <th>driver_id</th>\n",
       "      <th>applicant_fountain_id</th>\n",
       "      <th>pu_ca</th>\n",
       "      <th>predicted_driver_ca</th>\n",
       "      <th>no_packages</th>\n",
       "    </tr>\n",
       "  </thead>\n",
       "  <tbody>\n",
       "    <tr>\n",
       "      <th>5</th>\n",
       "      <td>350313</td>\n",
       "      <td>aa43d997-8b1a-4080-ac31-c9df2a300293</td>\n",
       "      <td>London Inner Upper NW</td>\n",
       "      <td>London Inner Upper NW</td>\n",
       "      <td>1904</td>\n",
       "    </tr>\n",
       "    <tr>\n",
       "      <th>13</th>\n",
       "      <td>399718</td>\n",
       "      <td>0338c2f6-7d51-44df-9e1a-95ca67c3b3fc</td>\n",
       "      <td>Oxford</td>\n",
       "      <td>Oxford</td>\n",
       "      <td>501</td>\n",
       "    </tr>\n",
       "    <tr>\n",
       "      <th>23</th>\n",
       "      <td>351255</td>\n",
       "      <td>c429afd5-474b-4e13-a5ed-40971365ba63</td>\n",
       "      <td>London Outer S</td>\n",
       "      <td>London Inner Upper NW</td>\n",
       "      <td>1401</td>\n",
       "    </tr>\n",
       "    <tr>\n",
       "      <th>29</th>\n",
       "      <td>366446</td>\n",
       "      <td>de788577-44a8-4dd1-a552-c9cdf1b88d9b</td>\n",
       "      <td>London Outer Upper NW</td>\n",
       "      <td>London Outer Upper NW</td>\n",
       "      <td>545</td>\n",
       "    </tr>\n",
       "    <tr>\n",
       "      <th>33</th>\n",
       "      <td>401315</td>\n",
       "      <td>bf006359-68d2-415a-b86f-00a9ba2993d1</td>\n",
       "      <td>Manchester City</td>\n",
       "      <td>Middleton</td>\n",
       "      <td>115</td>\n",
       "    </tr>\n",
       "  </tbody>\n",
       "</table>\n",
       "</div>"
      ],
      "text/plain": [
       "    driver_id                 applicant_fountain_id                  pu_ca  \\\n",
       "5      350313  aa43d997-8b1a-4080-ac31-c9df2a300293  London Inner Upper NW   \n",
       "13     399718  0338c2f6-7d51-44df-9e1a-95ca67c3b3fc                 Oxford   \n",
       "23     351255  c429afd5-474b-4e13-a5ed-40971365ba63         London Outer S   \n",
       "29     366446  de788577-44a8-4dd1-a552-c9cdf1b88d9b  London Outer Upper NW   \n",
       "33     401315  bf006359-68d2-415a-b86f-00a9ba2993d1        Manchester City   \n",
       "\n",
       "      predicted_driver_ca  no_packages  \n",
       "5   London Inner Upper NW         1904  \n",
       "13                 Oxford          501  \n",
       "23  London Inner Upper NW         1401  \n",
       "29  London Outer Upper NW          545  \n",
       "33              Middleton          115  "
      ]
     },
     "execution_count": 213,
     "metadata": {},
     "output_type": "execute_result"
    }
   ],
   "source": [
    "# Dropped all None values in predicted_driver_ca: Removing drivers whose predicted_CA is Null because they live in CA\n",
    "no_null_predicted = no_dup_predicted[no_dup_predicted['predicted_driver_ca'].isnull()==False]\n",
    "no_null_predicted.head(5)\n"
   ]
  },
  {
   "cell_type": "code",
   "execution_count": 214,
   "metadata": {},
   "outputs": [
    {
     "data": {
      "text/plain": [
       "9853"
      ]
     },
     "execution_count": 214,
     "metadata": {},
     "output_type": "execute_result"
    }
   ],
   "source": [
    "# Number of individual drivers left\n",
    "no_null_predicted['driver_id'].nunique()\n"
   ]
  },
  {
   "cell_type": "code",
   "execution_count": 215,
   "metadata": {},
   "outputs": [
    {
     "data": {
      "text/html": [
       "<div>\n",
       "<style scoped>\n",
       "    .dataframe tbody tr th:only-of-type {\n",
       "        vertical-align: middle;\n",
       "    }\n",
       "\n",
       "    .dataframe tbody tr th {\n",
       "        vertical-align: top;\n",
       "    }\n",
       "\n",
       "    .dataframe thead th {\n",
       "        text-align: right;\n",
       "    }\n",
       "</style>\n",
       "<table border=\"1\" class=\"dataframe\">\n",
       "  <thead>\n",
       "    <tr style=\"text-align: right;\">\n",
       "      <th></th>\n",
       "      <th>driver_id</th>\n",
       "      <th>applicant_fountain_id</th>\n",
       "      <th>pu_ca</th>\n",
       "      <th>predicted_driver_ca</th>\n",
       "      <th>no_packages</th>\n",
       "    </tr>\n",
       "  </thead>\n",
       "  <tbody>\n",
       "    <tr>\n",
       "      <th>14946</th>\n",
       "      <td>459459</td>\n",
       "      <td>3a3d61b7-e3a9-4fff-a373-425815665caa</td>\n",
       "      <td>Derby</td>\n",
       "      <td>Derby</td>\n",
       "      <td>627</td>\n",
       "    </tr>\n",
       "  </tbody>\n",
       "</table>\n",
       "</div>"
      ],
      "text/plain": [
       "       driver_id                 applicant_fountain_id  pu_ca  \\\n",
       "14946     459459  3a3d61b7-e3a9-4fff-a373-425815665caa  Derby   \n",
       "\n",
       "      predicted_driver_ca  no_packages  \n",
       "14946               Derby          627  "
      ]
     },
     "execution_count": 215,
     "metadata": {},
     "output_type": "execute_result"
    }
   ],
   "source": [
    "# Checking example. Making sure there are no duplicates\n",
    "no_null_predicted[no_null_predicted['driver_id']== 459459]"
   ]
  },
  {
   "cell_type": "code",
   "execution_count": 216,
   "metadata": {},
   "outputs": [
    {
     "data": {
      "text/html": [
       "<div>\n",
       "<style scoped>\n",
       "    .dataframe tbody tr th:only-of-type {\n",
       "        vertical-align: middle;\n",
       "    }\n",
       "\n",
       "    .dataframe tbody tr th {\n",
       "        vertical-align: top;\n",
       "    }\n",
       "\n",
       "    .dataframe thead th {\n",
       "        text-align: right;\n",
       "    }\n",
       "</style>\n",
       "<table border=\"1\" class=\"dataframe\">\n",
       "  <thead>\n",
       "    <tr style=\"text-align: right;\">\n",
       "      <th></th>\n",
       "      <th>driver_id</th>\n",
       "      <th>applicant_fountain_id</th>\n",
       "      <th>pu_ca</th>\n",
       "      <th>predicted_driver_ca</th>\n",
       "      <th>nb_pkgs_per_predict_CA</th>\n",
       "    </tr>\n",
       "  </thead>\n",
       "  <tbody>\n",
       "    <tr>\n",
       "      <th>5</th>\n",
       "      <td>350313</td>\n",
       "      <td>aa43d997-8b1a-4080-ac31-c9df2a300293</td>\n",
       "      <td>London Inner Upper NW</td>\n",
       "      <td>London Inner Upper NW</td>\n",
       "      <td>1904</td>\n",
       "    </tr>\n",
       "    <tr>\n",
       "      <th>13</th>\n",
       "      <td>399718</td>\n",
       "      <td>0338c2f6-7d51-44df-9e1a-95ca67c3b3fc</td>\n",
       "      <td>Oxford</td>\n",
       "      <td>Oxford</td>\n",
       "      <td>501</td>\n",
       "    </tr>\n",
       "    <tr>\n",
       "      <th>23</th>\n",
       "      <td>351255</td>\n",
       "      <td>c429afd5-474b-4e13-a5ed-40971365ba63</td>\n",
       "      <td>London Outer S</td>\n",
       "      <td>London Inner Upper NW</td>\n",
       "      <td>1401</td>\n",
       "    </tr>\n",
       "    <tr>\n",
       "      <th>29</th>\n",
       "      <td>366446</td>\n",
       "      <td>de788577-44a8-4dd1-a552-c9cdf1b88d9b</td>\n",
       "      <td>London Outer Upper NW</td>\n",
       "      <td>London Outer Upper NW</td>\n",
       "      <td>545</td>\n",
       "    </tr>\n",
       "    <tr>\n",
       "      <th>33</th>\n",
       "      <td>401315</td>\n",
       "      <td>bf006359-68d2-415a-b86f-00a9ba2993d1</td>\n",
       "      <td>Manchester City</td>\n",
       "      <td>Middleton</td>\n",
       "      <td>115</td>\n",
       "    </tr>\n",
       "  </tbody>\n",
       "</table>\n",
       "</div>"
      ],
      "text/plain": [
       "    driver_id                 applicant_fountain_id                  pu_ca  \\\n",
       "5      350313  aa43d997-8b1a-4080-ac31-c9df2a300293  London Inner Upper NW   \n",
       "13     399718  0338c2f6-7d51-44df-9e1a-95ca67c3b3fc                 Oxford   \n",
       "23     351255  c429afd5-474b-4e13-a5ed-40971365ba63         London Outer S   \n",
       "29     366446  de788577-44a8-4dd1-a552-c9cdf1b88d9b  London Outer Upper NW   \n",
       "33     401315  bf006359-68d2-415a-b86f-00a9ba2993d1        Manchester City   \n",
       "\n",
       "      predicted_driver_ca  nb_pkgs_per_predict_CA  \n",
       "5   London Inner Upper NW                    1904  \n",
       "13                 Oxford                     501  \n",
       "23  London Inner Upper NW                    1401  \n",
       "29  London Outer Upper NW                     545  \n",
       "33              Middleton                     115  "
      ]
     },
     "execution_count": 216,
     "metadata": {},
     "output_type": "execute_result"
    }
   ],
   "source": [
    "# Renaming columns for clarity\n",
    "merged = no_null_predicted.rename(columns = {'no_packages' : 'nb_pkgs_per_predict_CA'})\n",
    "merged.head(5)\n"
   ]
  },
  {
   "cell_type": "code",
   "execution_count": 217,
   "metadata": {},
   "outputs": [
    {
     "data": {
      "text/html": [
       "<div>\n",
       "<style scoped>\n",
       "    .dataframe tbody tr th:only-of-type {\n",
       "        vertical-align: middle;\n",
       "    }\n",
       "\n",
       "    .dataframe tbody tr th {\n",
       "        vertical-align: top;\n",
       "    }\n",
       "\n",
       "    .dataframe thead th {\n",
       "        text-align: right;\n",
       "    }\n",
       "</style>\n",
       "<table border=\"1\" class=\"dataframe\">\n",
       "  <thead>\n",
       "    <tr style=\"text-align: right;\">\n",
       "      <th></th>\n",
       "      <th>driver_id</th>\n",
       "      <th>pu_ca</th>\n",
       "      <th>predicted_driver_ca</th>\n",
       "      <th>nb_pkgs_per_predict_CA</th>\n",
       "    </tr>\n",
       "  </thead>\n",
       "  <tbody>\n",
       "    <tr>\n",
       "      <th>5</th>\n",
       "      <td>350313</td>\n",
       "      <td>London Inner Upper NW</td>\n",
       "      <td>London Inner Upper NW</td>\n",
       "      <td>1904</td>\n",
       "    </tr>\n",
       "    <tr>\n",
       "      <th>13</th>\n",
       "      <td>399718</td>\n",
       "      <td>Oxford</td>\n",
       "      <td>Oxford</td>\n",
       "      <td>501</td>\n",
       "    </tr>\n",
       "    <tr>\n",
       "      <th>23</th>\n",
       "      <td>351255</td>\n",
       "      <td>London Outer S</td>\n",
       "      <td>London Inner Upper NW</td>\n",
       "      <td>1401</td>\n",
       "    </tr>\n",
       "    <tr>\n",
       "      <th>29</th>\n",
       "      <td>366446</td>\n",
       "      <td>London Outer Upper NW</td>\n",
       "      <td>London Outer Upper NW</td>\n",
       "      <td>545</td>\n",
       "    </tr>\n",
       "    <tr>\n",
       "      <th>33</th>\n",
       "      <td>401315</td>\n",
       "      <td>Manchester City</td>\n",
       "      <td>Middleton</td>\n",
       "      <td>115</td>\n",
       "    </tr>\n",
       "  </tbody>\n",
       "</table>\n",
       "</div>"
      ],
      "text/plain": [
       "    driver_id                  pu_ca    predicted_driver_ca  \\\n",
       "5      350313  London Inner Upper NW  London Inner Upper NW   \n",
       "13     399718                 Oxford                 Oxford   \n",
       "23     351255         London Outer S  London Inner Upper NW   \n",
       "29     366446  London Outer Upper NW  London Outer Upper NW   \n",
       "33     401315        Manchester City              Middleton   \n",
       "\n",
       "    nb_pkgs_per_predict_CA  \n",
       "5                     1904  \n",
       "13                     501  \n",
       "23                    1401  \n",
       "29                     545  \n",
       "33                     115  "
      ]
     },
     "execution_count": 217,
     "metadata": {},
     "output_type": "execute_result"
    }
   ],
   "source": [
    "# Dropping columns we don't need\n",
    "clean = merged.drop(columns=['applicant_fountain_id'])\n",
    "clean.head(5)"
   ]
  },
  {
   "cell_type": "markdown",
   "metadata": {},
   "source": [
    "            Creating a metric to get \"CA each driver mostly worked in where each driver who does not live in a CA\""
   ]
  },
  {
   "cell_type": "code",
   "execution_count": 218,
   "metadata": {},
   "outputs": [
    {
     "data": {
      "text/html": [
       "<div>\n",
       "<style scoped>\n",
       "    .dataframe tbody tr th:only-of-type {\n",
       "        vertical-align: middle;\n",
       "    }\n",
       "\n",
       "    .dataframe tbody tr th {\n",
       "        vertical-align: top;\n",
       "    }\n",
       "\n",
       "    .dataframe thead th {\n",
       "        text-align: right;\n",
       "    }\n",
       "</style>\n",
       "<table border=\"1\" class=\"dataframe\">\n",
       "  <thead>\n",
       "    <tr style=\"text-align: right;\">\n",
       "      <th></th>\n",
       "      <th>driver_id</th>\n",
       "      <th>pu_ca</th>\n",
       "      <th>predicted_driver_ca</th>\n",
       "      <th>nb_pkgs_per_predict_CA</th>\n",
       "    </tr>\n",
       "  </thead>\n",
       "  <tbody>\n",
       "    <tr>\n",
       "      <th>5</th>\n",
       "      <td>350313</td>\n",
       "      <td>London Inner Upper NW</td>\n",
       "      <td>London Inner Upper NW</td>\n",
       "      <td>1904</td>\n",
       "    </tr>\n",
       "    <tr>\n",
       "      <th>13</th>\n",
       "      <td>399718</td>\n",
       "      <td>Oxford</td>\n",
       "      <td>Oxford</td>\n",
       "      <td>501</td>\n",
       "    </tr>\n",
       "    <tr>\n",
       "      <th>23</th>\n",
       "      <td>351255</td>\n",
       "      <td>London Outer S</td>\n",
       "      <td>London Inner Upper NW</td>\n",
       "      <td>1401</td>\n",
       "    </tr>\n",
       "    <tr>\n",
       "      <th>29</th>\n",
       "      <td>366446</td>\n",
       "      <td>London Outer Upper NW</td>\n",
       "      <td>London Outer Upper NW</td>\n",
       "      <td>545</td>\n",
       "    </tr>\n",
       "    <tr>\n",
       "      <th>33</th>\n",
       "      <td>401315</td>\n",
       "      <td>Manchester City</td>\n",
       "      <td>Middleton</td>\n",
       "      <td>115</td>\n",
       "    </tr>\n",
       "  </tbody>\n",
       "</table>\n",
       "</div>"
      ],
      "text/plain": [
       "    driver_id                  pu_ca    predicted_driver_ca  \\\n",
       "5      350313  London Inner Upper NW  London Inner Upper NW   \n",
       "13     399718                 Oxford                 Oxford   \n",
       "23     351255         London Outer S  London Inner Upper NW   \n",
       "29     366446  London Outer Upper NW  London Outer Upper NW   \n",
       "33     401315        Manchester City              Middleton   \n",
       "\n",
       "    nb_pkgs_per_predict_CA  \n",
       "5                     1904  \n",
       "13                     501  \n",
       "23                    1401  \n",
       "29                     545  \n",
       "33                     115  "
      ]
     },
     "execution_count": 218,
     "metadata": {},
     "output_type": "execute_result"
    }
   ],
   "source": [
    "# New df is the same as clean\n",
    "metric_df = clean.copy()\n",
    "metric_df.head(5)"
   ]
  },
  {
   "cell_type": "code",
   "execution_count": 219,
   "metadata": {},
   "outputs": [
    {
     "data": {
      "text/html": [
       "<div>\n",
       "<style scoped>\n",
       "    .dataframe tbody tr th:only-of-type {\n",
       "        vertical-align: middle;\n",
       "    }\n",
       "\n",
       "    .dataframe tbody tr th {\n",
       "        vertical-align: top;\n",
       "    }\n",
       "\n",
       "    .dataframe thead th {\n",
       "        text-align: right;\n",
       "    }\n",
       "</style>\n",
       "<table border=\"1\" class=\"dataframe\">\n",
       "  <thead>\n",
       "    <tr style=\"text-align: right;\">\n",
       "      <th></th>\n",
       "      <th>driver_id</th>\n",
       "      <th>pu_ca</th>\n",
       "      <th>predicted_driver_ca</th>\n",
       "      <th>nb_pkgs_per_predict_CA</th>\n",
       "      <th>max_ca_deliveries</th>\n",
       "    </tr>\n",
       "  </thead>\n",
       "  <tbody>\n",
       "    <tr>\n",
       "      <th>5</th>\n",
       "      <td>350313</td>\n",
       "      <td>London Inner Upper NW</td>\n",
       "      <td>London Inner Upper NW</td>\n",
       "      <td>1904</td>\n",
       "      <td>1904</td>\n",
       "    </tr>\n",
       "    <tr>\n",
       "      <th>13</th>\n",
       "      <td>399718</td>\n",
       "      <td>Oxford</td>\n",
       "      <td>Oxford</td>\n",
       "      <td>501</td>\n",
       "      <td>501</td>\n",
       "    </tr>\n",
       "    <tr>\n",
       "      <th>23</th>\n",
       "      <td>351255</td>\n",
       "      <td>London Outer S</td>\n",
       "      <td>London Inner Upper NW</td>\n",
       "      <td>1401</td>\n",
       "      <td>1401</td>\n",
       "    </tr>\n",
       "    <tr>\n",
       "      <th>29</th>\n",
       "      <td>366446</td>\n",
       "      <td>London Outer Upper NW</td>\n",
       "      <td>London Outer Upper NW</td>\n",
       "      <td>545</td>\n",
       "      <td>2137</td>\n",
       "    </tr>\n",
       "    <tr>\n",
       "      <th>33</th>\n",
       "      <td>401315</td>\n",
       "      <td>Manchester City</td>\n",
       "      <td>Middleton</td>\n",
       "      <td>115</td>\n",
       "      <td>115</td>\n",
       "    </tr>\n",
       "  </tbody>\n",
       "</table>\n",
       "</div>"
      ],
      "text/plain": [
       "    driver_id                  pu_ca    predicted_driver_ca  \\\n",
       "5      350313  London Inner Upper NW  London Inner Upper NW   \n",
       "13     399718                 Oxford                 Oxford   \n",
       "23     351255         London Outer S  London Inner Upper NW   \n",
       "29     366446  London Outer Upper NW  London Outer Upper NW   \n",
       "33     401315        Manchester City              Middleton   \n",
       "\n",
       "    nb_pkgs_per_predict_CA  max_ca_deliveries  \n",
       "5                     1904               1904  \n",
       "13                     501                501  \n",
       "23                    1401               1401  \n",
       "29                     545               2137  \n",
       "33                     115                115  "
      ]
     },
     "execution_count": 219,
     "metadata": {},
     "output_type": "execute_result"
    }
   ],
   "source": [
    "#Obtaining max number of deliveries made in CA to check for later if a courier did his most deliveries in predicted CA \n",
    "metric_df['max_ca_deliveries']= metric_df.groupby(['driver_id'])['nb_pkgs_per_predict_CA'].transform(max)\n",
    "metric_df.head(5)\n"
   ]
  },
  {
   "cell_type": "code",
   "execution_count": 220,
   "metadata": {},
   "outputs": [
    {
     "data": {
      "text/html": [
       "<div>\n",
       "<style scoped>\n",
       "    .dataframe tbody tr th:only-of-type {\n",
       "        vertical-align: middle;\n",
       "    }\n",
       "\n",
       "    .dataframe tbody tr th {\n",
       "        vertical-align: top;\n",
       "    }\n",
       "\n",
       "    .dataframe thead th {\n",
       "        text-align: right;\n",
       "    }\n",
       "</style>\n",
       "<table border=\"1\" class=\"dataframe\">\n",
       "  <thead>\n",
       "    <tr style=\"text-align: right;\">\n",
       "      <th></th>\n",
       "      <th>driver_id</th>\n",
       "      <th>pu_ca</th>\n",
       "      <th>predicted_driver_ca</th>\n",
       "      <th>nb_pkgs_per_predict_CA</th>\n",
       "      <th>max_ca_deliveries</th>\n",
       "    </tr>\n",
       "  </thead>\n",
       "  <tbody>\n",
       "    <tr>\n",
       "      <th>5</th>\n",
       "      <td>350313</td>\n",
       "      <td>London Inner Upper NW</td>\n",
       "      <td>London Inner Upper NW</td>\n",
       "      <td>1904</td>\n",
       "      <td>1904</td>\n",
       "    </tr>\n",
       "    <tr>\n",
       "      <th>13</th>\n",
       "      <td>399718</td>\n",
       "      <td>Oxford</td>\n",
       "      <td>Oxford</td>\n",
       "      <td>501</td>\n",
       "      <td>501</td>\n",
       "    </tr>\n",
       "    <tr>\n",
       "      <th>23</th>\n",
       "      <td>351255</td>\n",
       "      <td>London Outer S</td>\n",
       "      <td>London Inner Upper NW</td>\n",
       "      <td>1401</td>\n",
       "      <td>1401</td>\n",
       "    </tr>\n",
       "    <tr>\n",
       "      <th>33</th>\n",
       "      <td>401315</td>\n",
       "      <td>Manchester City</td>\n",
       "      <td>Middleton</td>\n",
       "      <td>115</td>\n",
       "      <td>115</td>\n",
       "    </tr>\n",
       "    <tr>\n",
       "      <th>41</th>\n",
       "      <td>364175</td>\n",
       "      <td>Newcastle</td>\n",
       "      <td>Newcastle</td>\n",
       "      <td>1693</td>\n",
       "      <td>1693</td>\n",
       "    </tr>\n",
       "    <tr>\n",
       "      <th>...</th>\n",
       "      <td>...</td>\n",
       "      <td>...</td>\n",
       "      <td>...</td>\n",
       "      <td>...</td>\n",
       "      <td>...</td>\n",
       "    </tr>\n",
       "    <tr>\n",
       "      <th>61031</th>\n",
       "      <td>495110</td>\n",
       "      <td>Liverpool Central South</td>\n",
       "      <td>Liverpool Central South</td>\n",
       "      <td>1</td>\n",
       "      <td>1</td>\n",
       "    </tr>\n",
       "    <tr>\n",
       "      <th>61056</th>\n",
       "      <td>500054</td>\n",
       "      <td>London Inner W</td>\n",
       "      <td>London Outer Lower NW</td>\n",
       "      <td>1</td>\n",
       "      <td>1</td>\n",
       "    </tr>\n",
       "    <tr>\n",
       "      <th>61057</th>\n",
       "      <td>501092</td>\n",
       "      <td>London Border NE</td>\n",
       "      <td>Derby</td>\n",
       "      <td>1</td>\n",
       "      <td>1</td>\n",
       "    </tr>\n",
       "    <tr>\n",
       "      <th>61060</th>\n",
       "      <td>495075</td>\n",
       "      <td>Liverpool North</td>\n",
       "      <td>Liverpool Central South</td>\n",
       "      <td>1</td>\n",
       "      <td>1</td>\n",
       "    </tr>\n",
       "    <tr>\n",
       "      <th>61068</th>\n",
       "      <td>503372</td>\n",
       "      <td>Bristol Central Area</td>\n",
       "      <td>Bristol Central Area</td>\n",
       "      <td>1</td>\n",
       "      <td>1</td>\n",
       "    </tr>\n",
       "  </tbody>\n",
       "</table>\n",
       "<p>9922 rows × 5 columns</p>\n",
       "</div>"
      ],
      "text/plain": [
       "       driver_id                    pu_ca      predicted_driver_ca  \\\n",
       "5         350313    London Inner Upper NW    London Inner Upper NW   \n",
       "13        399718                   Oxford                   Oxford   \n",
       "23        351255           London Outer S    London Inner Upper NW   \n",
       "33        401315          Manchester City                Middleton   \n",
       "41        364175                Newcastle                Newcastle   \n",
       "...          ...                      ...                      ...   \n",
       "61031     495110  Liverpool Central South  Liverpool Central South   \n",
       "61056     500054           London Inner W    London Outer Lower NW   \n",
       "61057     501092         London Border NE                    Derby   \n",
       "61060     495075          Liverpool North  Liverpool Central South   \n",
       "61068     503372     Bristol Central Area     Bristol Central Area   \n",
       "\n",
       "       nb_pkgs_per_predict_CA  max_ca_deliveries  \n",
       "5                        1904               1904  \n",
       "13                        501                501  \n",
       "23                       1401               1401  \n",
       "33                        115                115  \n",
       "41                       1693               1693  \n",
       "...                       ...                ...  \n",
       "61031                       1                  1  \n",
       "61056                       1                  1  \n",
       "61057                       1                  1  \n",
       "61060                       1                  1  \n",
       "61068                       1                  1  \n",
       "\n",
       "[9922 rows x 5 columns]"
      ]
     },
     "execution_count": 220,
     "metadata": {},
     "output_type": "execute_result"
    }
   ],
   "source": [
    "# Metric: Create a column: mostly_worked_in_ca by choosing the CA where a courier did most of his deliveries. \n",
    "\n",
    "metric_final = metric_df[metric_df['nb_pkgs_per_predict_CA'] == metric_df['max_ca_deliveries']].copy()\n",
    "metric_final\n"
   ]
  },
  {
   "cell_type": "code",
   "execution_count": 221,
   "metadata": {},
   "outputs": [
    {
     "data": {
      "text/plain": [
       "22271    458077\n",
       "26735    475806\n",
       "29514    473698\n",
       "31969    462474\n",
       "32471    477043\n",
       "          ...  \n",
       "60453    485053\n",
       "60677    501001\n",
       "60738    467722\n",
       "60747    466353\n",
       "61056    500054\n",
       "Name: driver_id, Length: 69, dtype: int64"
      ]
     },
     "execution_count": 221,
     "metadata": {},
     "output_type": "execute_result"
    }
   ],
   "source": [
    "metric_final[metric_final['driver_id'].duplicated()]['driver_id']"
   ]
  },
  {
   "cell_type": "markdown",
   "metadata": {},
   "source": [
    "metric_final= metric_final.drop_duplicates(subset=['driver_id']).copy()\n",
    "metric_final.shapeReceived duplicates (66 drivers did equal number of deliveres in two CA). Solution is to drop these as they compose less than 1% of couriers."
   ]
  },
  {
   "cell_type": "code",
   "execution_count": 222,
   "metadata": {},
   "outputs": [
    {
     "data": {
      "text/plain": [
       "(9853, 5)"
      ]
     },
     "execution_count": 222,
     "metadata": {},
     "output_type": "execute_result"
    }
   ],
   "source": [
    "metric_final= metric_final.drop_duplicates(subset=['driver_id']).copy()\n",
    "metric_final.shape"
   ]
  },
  {
   "cell_type": "code",
   "execution_count": 223,
   "metadata": {},
   "outputs": [
    {
     "data": {
      "text/html": [
       "<div>\n",
       "<style scoped>\n",
       "    .dataframe tbody tr th:only-of-type {\n",
       "        vertical-align: middle;\n",
       "    }\n",
       "\n",
       "    .dataframe tbody tr th {\n",
       "        vertical-align: top;\n",
       "    }\n",
       "\n",
       "    .dataframe thead th {\n",
       "        text-align: right;\n",
       "    }\n",
       "</style>\n",
       "<table border=\"1\" class=\"dataframe\">\n",
       "  <thead>\n",
       "    <tr style=\"text-align: right;\">\n",
       "      <th></th>\n",
       "      <th>driver_id</th>\n",
       "      <th>pu_ca</th>\n",
       "      <th>predicted_driver_ca</th>\n",
       "      <th>nb_pkgs_per_predict_CA</th>\n",
       "      <th>max_ca_deliveries</th>\n",
       "      <th>is_same</th>\n",
       "    </tr>\n",
       "  </thead>\n",
       "  <tbody>\n",
       "    <tr>\n",
       "      <th>5</th>\n",
       "      <td>350313</td>\n",
       "      <td>London Inner Upper NW</td>\n",
       "      <td>London Inner Upper NW</td>\n",
       "      <td>1904</td>\n",
       "      <td>1904</td>\n",
       "      <td>1</td>\n",
       "    </tr>\n",
       "    <tr>\n",
       "      <th>13</th>\n",
       "      <td>399718</td>\n",
       "      <td>Oxford</td>\n",
       "      <td>Oxford</td>\n",
       "      <td>501</td>\n",
       "      <td>501</td>\n",
       "      <td>1</td>\n",
       "    </tr>\n",
       "    <tr>\n",
       "      <th>23</th>\n",
       "      <td>351255</td>\n",
       "      <td>London Outer S</td>\n",
       "      <td>London Inner Upper NW</td>\n",
       "      <td>1401</td>\n",
       "      <td>1401</td>\n",
       "      <td>0</td>\n",
       "    </tr>\n",
       "    <tr>\n",
       "      <th>33</th>\n",
       "      <td>401315</td>\n",
       "      <td>Manchester City</td>\n",
       "      <td>Middleton</td>\n",
       "      <td>115</td>\n",
       "      <td>115</td>\n",
       "      <td>0</td>\n",
       "    </tr>\n",
       "    <tr>\n",
       "      <th>41</th>\n",
       "      <td>364175</td>\n",
       "      <td>Newcastle</td>\n",
       "      <td>Newcastle</td>\n",
       "      <td>1693</td>\n",
       "      <td>1693</td>\n",
       "      <td>1</td>\n",
       "    </tr>\n",
       "  </tbody>\n",
       "</table>\n",
       "</div>"
      ],
      "text/plain": [
       "    driver_id                  pu_ca    predicted_driver_ca  \\\n",
       "5      350313  London Inner Upper NW  London Inner Upper NW   \n",
       "13     399718                 Oxford                 Oxford   \n",
       "23     351255         London Outer S  London Inner Upper NW   \n",
       "33     401315        Manchester City              Middleton   \n",
       "41     364175              Newcastle              Newcastle   \n",
       "\n",
       "    nb_pkgs_per_predict_CA  max_ca_deliveries  is_same  \n",
       "5                     1904               1904        1  \n",
       "13                     501                501        1  \n",
       "23                    1401               1401        0  \n",
       "33                     115                115        0  \n",
       "41                    1693               1693        1  "
      ]
     },
     "execution_count": 223,
     "metadata": {},
     "output_type": "execute_result"
    }
   ],
   "source": [
    "# Then compare if this CA is the same as driver ca as 1 or 0. \n",
    "metric_final['is_same'] = np.where(metric_final['pu_ca'] == metric_final['predicted_driver_ca'], 1, 0)\n",
    "metric_final.head(5)"
   ]
  },
  {
   "cell_type": "code",
   "execution_count": 224,
   "metadata": {},
   "outputs": [
    {
     "data": {
      "text/html": [
       "<div>\n",
       "<style scoped>\n",
       "    .dataframe tbody tr th:only-of-type {\n",
       "        vertical-align: middle;\n",
       "    }\n",
       "\n",
       "    .dataframe tbody tr th {\n",
       "        vertical-align: top;\n",
       "    }\n",
       "\n",
       "    .dataframe thead th {\n",
       "        text-align: right;\n",
       "    }\n",
       "</style>\n",
       "<table border=\"1\" class=\"dataframe\">\n",
       "  <thead>\n",
       "    <tr style=\"text-align: right;\">\n",
       "      <th></th>\n",
       "      <th>driver_id</th>\n",
       "      <th>nb_pkgs_per_predict_CA</th>\n",
       "      <th>max_ca_deliveries</th>\n",
       "      <th>is_same</th>\n",
       "    </tr>\n",
       "  </thead>\n",
       "  <tbody>\n",
       "    <tr>\n",
       "      <th>count</th>\n",
       "      <td>9853.000000</td>\n",
       "      <td>9853.000000</td>\n",
       "      <td>9853.000000</td>\n",
       "      <td>9853.000000</td>\n",
       "    </tr>\n",
       "    <tr>\n",
       "      <th>mean</th>\n",
       "      <td>461336.214757</td>\n",
       "      <td>314.406374</td>\n",
       "      <td>314.406374</td>\n",
       "      <td>0.691059</td>\n",
       "    </tr>\n",
       "    <tr>\n",
       "      <th>std</th>\n",
       "      <td>35395.156832</td>\n",
       "      <td>488.076877</td>\n",
       "      <td>488.076877</td>\n",
       "      <td>0.462080</td>\n",
       "    </tr>\n",
       "    <tr>\n",
       "      <th>min</th>\n",
       "      <td>338353.000000</td>\n",
       "      <td>1.000000</td>\n",
       "      <td>1.000000</td>\n",
       "      <td>0.000000</td>\n",
       "    </tr>\n",
       "    <tr>\n",
       "      <th>25%</th>\n",
       "      <td>451917.000000</td>\n",
       "      <td>32.000000</td>\n",
       "      <td>32.000000</td>\n",
       "      <td>0.000000</td>\n",
       "    </tr>\n",
       "    <tr>\n",
       "      <th>50%</th>\n",
       "      <td>469586.000000</td>\n",
       "      <td>139.000000</td>\n",
       "      <td>139.000000</td>\n",
       "      <td>1.000000</td>\n",
       "    </tr>\n",
       "    <tr>\n",
       "      <th>75%</th>\n",
       "      <td>485439.000000</td>\n",
       "      <td>393.000000</td>\n",
       "      <td>393.000000</td>\n",
       "      <td>1.000000</td>\n",
       "    </tr>\n",
       "    <tr>\n",
       "      <th>max</th>\n",
       "      <td>511249.000000</td>\n",
       "      <td>7728.000000</td>\n",
       "      <td>7728.000000</td>\n",
       "      <td>1.000000</td>\n",
       "    </tr>\n",
       "  </tbody>\n",
       "</table>\n",
       "</div>"
      ],
      "text/plain": [
       "           driver_id  nb_pkgs_per_predict_CA  max_ca_deliveries      is_same\n",
       "count    9853.000000             9853.000000        9853.000000  9853.000000\n",
       "mean   461336.214757              314.406374         314.406374     0.691059\n",
       "std     35395.156832              488.076877         488.076877     0.462080\n",
       "min    338353.000000                1.000000           1.000000     0.000000\n",
       "25%    451917.000000               32.000000          32.000000     0.000000\n",
       "50%    469586.000000              139.000000         139.000000     1.000000\n",
       "75%    485439.000000              393.000000         393.000000     1.000000\n",
       "max    511249.000000             7728.000000        7728.000000     1.000000"
      ]
     },
     "execution_count": 224,
     "metadata": {},
     "output_type": "execute_result"
    }
   ],
   "source": [
    "# Then calculate the % of 1s \n",
    "metric_final.describe()\n",
    "\n",
    "# ~ 69% of drivers who don't live in CA mostly do deliveries in their CA"
   ]
  }
 ],
 "metadata": {
  "kernelspec": {
   "display_name": "Python 3 (ipykernel)",
   "language": "python",
   "name": "python3"
  },
  "language_info": {
   "codemirror_mode": {
    "name": "ipython",
    "version": 3
   },
   "file_extension": ".py",
   "mimetype": "text/x-python",
   "name": "python",
   "nbconvert_exporter": "python",
   "pygments_lexer": "ipython3",
   "version": "3.8.12"
  }
 },
 "nbformat": 4,
 "nbformat_minor": 4
}
